{
 "cells": [
  {
   "cell_type": "code",
   "execution_count": 1,
   "metadata": {},
   "outputs": [],
   "source": [
    "import numpy as np\n",
    "import pandas as pd\n",
    "import os,sys\n",
    "import matplotlib.pyplot as plt\n",
    "plt.rcParams.update({'font.size': 22})\n",
    "plt.rcParams['figure.figsize'] = (12, 8)\n",
    "\n",
    "cwd = os.getcwd() #grabs current working directory\n",
    "skipcols = ['Source']"
   ]
  },
  {
   "cell_type": "markdown",
   "metadata": {},
   "source": [
    "This journal documents the maths undertaken to estimate the amount of aluminium per meter squared of module as contributed by the frame (i.e. not the aluminium found within the module)."
   ]
  },
  {
   "cell_type": "code",
   "execution_count": 2,
   "metadata": {},
   "outputs": [],
   "source": [
    "al_frame_raw = pd.read_csv(cwd+\"/../../../PV_ICE/baselines/SupportingMaterial/marketshare_moduleSize_al_frames.csv\", \n",
    "                           index_col='Year', usecols=lambda x: x not in skipcols)\n",
    "module_size_raw = pd.read_csv(cwd+\"/../../../PV_ICE/baselines/SupportingMaterial/MarketShare_moduleSize_Peeters2017.csv\", \n",
    "                           index_col='Year')"
   ]
  },
  {
   "cell_type": "markdown",
   "metadata": {},
   "source": [
    "# 1992 through 2015"
   ]
  },
  {
   "cell_type": "markdown",
   "metadata": {},
   "source": [
    "First, we're going to create a lovely baseline from the module size data as derived from Peeters et al. 2017. These data were drawn from PV datasheets, and given a marketshare value from 1992 through 2015. This data may be more specific to Flanders, but it appears to be consistent with ITRPV 2019 and 2020 data, as well as older sources. Therefore, we will utilize this data to represent the increasing size of the module and the perimeter of the module (for the frame).\n",
    "\n",
    "J. R. Peeters, D. Altamirano, W. Dewulf, and J. R. Duflou, “Forecasting the composition of emerging waste streams with sensitivity analysis: A case study for photovoltaic (PV) panels in Flanders,” Resources, Conservation and Recycling, vol. 120, pp. 14–26, May 2017, doi: 10.1016/j.resconrec.2017.01.001.\n"
   ]
  },
  {
   "cell_type": "code",
   "execution_count": 3,
   "metadata": {},
   "outputs": [
    {
     "name": "stdout",
     "output_type": "stream",
     "text": [
      "      0.5x1  0.7x1.4  0.55x1.2  0.8x1.2  0.8x1.6  0.7x1.5  1x1.5  1x1.65\n",
      "Year                                                                    \n",
      "1992  100.0      0.0       0.0      0.0      0.0      0.0    0.0     0.0\n",
      "1993   75.0     25.0       0.0      0.0      0.0      0.0    0.0     0.0\n",
      "1994   70.0     20.0       5.0      5.0      0.0      0.0    0.0     0.0\n",
      "1995   60.0     20.0      10.0     10.0      0.0      0.0    0.0     0.0\n",
      "1996   50.0     20.0      15.0     15.0      0.0      0.0    0.0     0.0\n",
      "1997   10.0     20.0      30.0     30.0     10.0      0.0    0.0     0.0\n",
      "1998    0.0      0.0      30.0     40.0     30.0      0.0    0.0     0.0\n",
      "1999    0.0      0.0      25.0     35.0     40.0      0.0    0.0     0.0\n",
      "2000    0.0      0.0      20.0     30.0     50.0      0.0    0.0     0.0\n",
      "2001    0.0      0.0      15.0     25.0     60.0      0.0    0.0     0.0\n",
      "2002    0.0      0.0      10.0     20.0     70.0      0.0    0.0     0.0\n",
      "2003    0.0      0.0      10.0     15.0     55.0     10.0    5.0     5.0\n",
      "2004    0.0      0.0       5.0      5.0     50.0     20.0   10.0    10.0\n",
      "2005    0.0      0.0       0.0      0.0     10.0     30.0   30.0    30.0\n",
      "2006    0.0      0.0       0.0      0.0     10.0     25.0   25.0    40.0\n",
      "2007    0.0      0.0       0.0      0.0     10.0     20.0   20.0    50.0\n",
      "2008    0.0      0.0       0.0      0.0     10.0     15.0   15.0    60.0\n",
      "2009    0.0      0.0       0.0      0.0     10.0     10.0   10.0    70.0\n",
      "2010    0.0      0.0       0.0      0.0      5.0     10.0   10.0    75.0\n",
      "2011    0.0      0.0       0.0      0.0      5.0      5.0   10.0    80.0\n",
      "2012    0.0      0.0       0.0      0.0      5.0      5.0    5.0    85.0\n",
      "2013    0.0      0.0       0.0      0.0      5.0      0.0    5.0    90.0\n",
      "2014    0.0      0.0       0.0      0.0      0.0      0.0    5.0    95.0\n",
      "2015    0.0      0.0       0.0      0.0      0.0      0.0    0.0   100.0\n"
     ]
    }
   ],
   "source": [
    "module_size_fill = module_size_raw.interpolate(limit_direction='both') #fill in 0s and 100s\n",
    "print(module_size_fill)"
   ]
  },
  {
   "cell_type": "code",
   "execution_count": 4,
   "metadata": {},
   "outputs": [
    {
     "name": "stdout",
     "output_type": "stream",
     "text": [
      "             x     y  area  perimeter\n",
      "0.5x1     0.50  1.00  0.50        3.0\n",
      "0.7x1.4   0.70  1.40  0.98        4.2\n",
      "0.55x1.2  0.55  1.20  0.66        3.5\n",
      "0.8x1.2   0.80  1.20  0.96        4.0\n",
      "0.8x1.6   0.80  1.60  1.28        4.8\n",
      "0.7x1.5   0.70  1.50  1.05        4.4\n",
      "1x1.5     1.00  1.50  1.50        5.0\n",
      "1x1.65    1.00  1.65  1.65        5.3\n",
      "           0.5x1  0.7x1.4  0.55x1.2  0.8x1.2  0.8x1.6  0.7x1.5  1x1.5  1x1.65\n",
      "x            0.5     0.70      0.55     0.80     0.80     0.70    1.0    1.00\n",
      "y            1.0     1.40      1.20     1.20     1.60     1.50    1.5    1.65\n",
      "area         0.5     0.98      0.66     0.96     1.28     1.05    1.5    1.65\n",
      "perimeter    3.0     4.20      3.50     4.00     4.80     4.40    5.0    5.30\n"
     ]
    }
   ],
   "source": [
    "mrktshr_sizes_1992_2015 = module_size_fill/100 #turn into fractions\n",
    "#check = mrktshr_sizes_1992_2015.agg('sum', 'columns')\n",
    "#print(check)\n",
    "\n",
    "d = {'1':[0.5,1],\n",
    "    '2':[0.7,1.4],\n",
    "    '3':[0.55,1.2],\n",
    "    '4':[0.8,1.2],\n",
    "    '5':[0.8,1.6],\n",
    "    '6':[0.7,1.5],\n",
    "    '7':[1,1.5],\n",
    "    '8':[1,1.65]} #dataframe of module area values to multiply\n",
    "\n",
    "peeters_dims = pd.DataFrame(data=d)\n",
    "peeters_dims_cols = peeters_dims.transpose()\n",
    "peeters_dims_cols.columns = ['x','y']\n",
    "peeters_dims_cols['area'] = peeters_dims_cols['x']*peeters_dims_cols['y']\n",
    "peeters_dims_cols['perimeter'] = peeters_dims_cols['x']*2+2*peeters_dims_cols['y']\n",
    "peeters_dims_full = peeters_dims_cols.transpose()\n",
    "peeters_dims_cols.index = peeters_dims_full.columns = mrktshr_sizes_1992_2015.columns\n",
    "\n",
    "print(peeters_dims_cols)\n",
    "print(peeters_dims_full)"
   ]
  },
  {
   "cell_type": "code",
   "execution_count": 5,
   "metadata": {},
   "outputs": [],
   "source": [
    "#multiply the above dataframes together to get module size and perimeter weighted by marketshare\n",
    "area = pd.Series(peeters_dims_full.loc['area'])\n",
    "wtd_module_area = mrktshr_sizes_1992_2015.mul(area,'columns')\n",
    "\n",
    "perimeter = pd.Series(peeters_dims_full.loc['perimeter'])\n",
    "wtd_module_perimeter = mrktshr_sizes_1992_2015.mul(perimeter,'columns')\n",
    "\n",
    "#print(wtd_module_area)\n",
    "#print(wtd_module_perimeter)"
   ]
  },
  {
   "cell_type": "code",
   "execution_count": 6,
   "metadata": {
    "scrolled": false
   },
   "outputs": [
    {
     "data": {
      "text/plain": [
       "Text(0, 0.5, '[m2] and [m]')"
      ]
     },
     "execution_count": 6,
     "metadata": {},
     "output_type": "execute_result"
    },
    {
     "data": {
      "image/png": "[encoded data removed]",
      "text/plain": [
       "<Figure size 432x288 with 1 Axes>"
      ]
     },
     "metadata": {
      "needs_background": "light"
     },
     "output_type": "display_data"
    }
   ],
   "source": [
    "#now agg together for annual average area and perimeter\n",
    "avg_module_area = pd.DataFrame(wtd_module_area.agg('sum', 'columns'))\n",
    "avg_module_perimeter = pd.DataFrame(wtd_module_perimeter.agg('sum', 'columns'))\n",
    "avg_module_area.columns = ['area']\n",
    "avg_module_perimeter.columns = ['perimeter']\n",
    "\n",
    "#print(avg_module_area)\n",
    "#print(avg_module_perimeter)\n",
    "\n",
    "plt.plot(avg_module_area, label='area [m2]')\n",
    "plt.plot(avg_module_perimeter, label = 'perimeter [m]')\n",
    "plt.legend()\n",
    "plt.ylabel('[m2] and [m]')"
   ]
  },
  {
   "cell_type": "markdown",
   "metadata": {},
   "source": [
    "These data only go through 2015, therefore we need more data for recent history. The trend in larger, higher Wp modules has continued, with the ITRPV 2020 restandardizing their average module to 1.7 m^2 in 2019, from 1.64 m^2 previously. This area will be assumed starting in 2019, and it will be assumed to be 1m x 1.7m in dimensions. These assumptions will be added to the datasets below."
   ]
  },
  {
   "cell_type": "code",
   "execution_count": 7,
   "metadata": {
    "scrolled": false
   },
   "outputs": [],
   "source": [
    "#add years to perimeter data\n",
    "#create an empty df as a place holder\n",
    "yrs2 = pd.Series(index=range(2016,2025), dtype='float64')\n",
    "tempdf2 = pd.DataFrame(yrs2, columns=avg_module_perimeter.columns)\n",
    "avg_module_perimeter_addrange = pd.concat([avg_module_perimeter, tempdf2]) #attach it to rest of df\n",
    "#print(avg_module_perimeter_addrange)"
   ]
  },
  {
   "cell_type": "code",
   "execution_count": 8,
   "metadata": {},
   "outputs": [],
   "source": [
    "#calculate the perimeter in 2019 from 1.7\n",
    "perimeter_2019 = 2*1+2*1.7\n",
    "avg_module_perimeter_addrange.loc[2019] = perimeter_2019\n",
    "avg_module_perimeter_full = avg_module_perimeter_addrange.interpolate(limit_direction='both')\n",
    "#print(avg_module_perimeter_full)"
   ]
  },
  {
   "cell_type": "code",
   "execution_count": 9,
   "metadata": {},
   "outputs": [],
   "source": [
    "#add years to area data\n",
    "#create an empty df as a place holder\n",
    "yrs3 = pd.Series(index=range(2016,2025), dtype='float64')\n",
    "tempdf3 = pd.DataFrame(yrs3, columns=avg_module_area.columns)\n",
    "avg_module_area_addrange = pd.concat([avg_module_area, tempdf3]) #attach it to rest of df\n",
    "\n",
    "#now set 2019 = 1.7m^2\n",
    "avg_module_area_addrange.loc[2019] = 1.7\n",
    "avg_module_area_full = avg_module_area_addrange.interpolate(limit_direction='both')\n",
    "#print(avg_module_area_full)"
   ]
  },
  {
   "cell_type": "code",
   "execution_count": 10,
   "metadata": {},
   "outputs": [
    {
     "data": {
      "text/plain": [
       "<matplotlib.legend.Legend at 0x1b3a52d09c8>"
      ]
     },
     "execution_count": 10,
     "metadata": {},
     "output_type": "execute_result"
    },
    {
     "data": {
      "image/png": "[encoded data removed]",
      "text/plain": [
       "<Figure size 432x288 with 1 Axes>"
      ]
     },
     "metadata": {
      "needs_background": "light"
     },
     "output_type": "display_data"
    }
   ],
   "source": [
    "plt.plot(avg_module_area_full, label = 'area [m2]')\n",
    "plt.plot(avg_module_perimeter_full, label='perimeter [m]')\n",
    "plt.legend()"
   ]
  },
  {
   "cell_type": "markdown",
   "metadata": {},
   "source": [
    "Now we have module area and perimeter through 2025, we can combine these with the density of aluminum OR mass per meter of Al. The maths to arrive at mass of Al per m2 of module will be:\n",
    "\n",
    "    kg/meter * module perimeter (m) / module area (m2) = kg/m2 of module\n",
    "    \n",
    "The ITRPV has kg/m values of Al frames in the 2012 and 2013 editions, indicating an average of 0.6 kg/m in 2012. A 1995 LCA used 0.35 kg/m, and 1 to 1.4 kg of aluminum per module. And Finally, Peeters et al (from above) used 0.45 kg/m, and was published in 2017, and agrees closely with ITRPV data. It seems unlikely that the aluminum frame got thicker or heavier between 1995 and 2012, therefore, we will assume the heavier frame all the way back."
   ]
  },
  {
   "cell_type": "markdown",
   "metadata": {},
   "source": [
    "## Mass per Meter of Frame Data Munging"
   ]
  },
  {
   "cell_type": "code",
   "execution_count": 11,
   "metadata": {},
   "outputs": [
    {
     "name": "stdout",
     "output_type": "stream",
     "text": [
      "      AL_kg_per_m\n",
      "Year             \n",
      "2012         0.60\n",
      "2013         0.50\n",
      "2014         0.50\n",
      "2015          NaN\n",
      "2016         0.40\n",
      "2017         0.45\n",
      "2018         0.40\n",
      "2019          NaN\n",
      "2020          NaN\n",
      "2021         0.40\n",
      "2022          NaN\n",
      "2023          NaN\n",
      "2024         0.30\n"
     ]
    }
   ],
   "source": [
    "al_mass_per_m_raw = pd.read_csv(cwd+\"/../../../PV_ICE/baselines/SupportingMaterial/al_kg_per_m.csv\", \n",
    "                           index_col='Year', usecols=lambda x: x not in skipcols)\n",
    "print(al_mass_per_m_raw)"
   ]
  },
  {
   "cell_type": "code",
   "execution_count": 12,
   "metadata": {},
   "outputs": [],
   "source": [
    "#create an empty df as a place holder\n",
    "yrs = pd.Series(index=range(1992,2012), dtype='float64')\n",
    "tempdf = pd.DataFrame(yrs, columns=['AL_kg_per_m'])\n",
    "al_kgpm_addrange = pd.concat([tempdf,al_mass_per_m_raw]) #attach it to rest of df\n",
    "#print(al_kgpm_addrange)\n",
    "#set the 2050 value to the same as 2030\n",
    "#fulldf.loc[2050] = fulldf.loc[2030]\n",
    "#interpolate for missing values\n",
    "#ag_gpm2_full = fulldf.interpolate()"
   ]
  },
  {
   "cell_type": "markdown",
   "metadata": {},
   "source": [
    "Knowing that the 2017 data point is from Peeters et al.2017, we observe it is slightly higher than the ITRPV projection on either side (0.45 vs 0.4). Given that the 0.45 from Peeters etal was base on manufacturers datasheets, whereas the ITRPV was a 2014 projection, we will use the 0.45 kg/m data from 2017 forward, and correct 2016 up to 0.45."
   ]
  },
  {
   "cell_type": "code",
   "execution_count": 13,
   "metadata": {
    "scrolled": true
   },
   "outputs": [
    {
     "data": {
      "text/plain": [
       "[<matplotlib.lines.Line2D at 0x1b3a5368ec8>]"
      ]
     },
     "execution_count": 13,
     "metadata": {},
     "output_type": "execute_result"
    },
    {
     "data": {
      "image/png": "[encoded data removed]",
      "text/plain": [
       "<Figure size 432x288 with 1 Axes>"
      ]
     },
     "metadata": {
      "needs_background": "light"
     },
     "output_type": "display_data"
    }
   ],
   "source": [
    "al_kgpm_addrange.loc[2016:] = 0.45 #set 2016 on equal to Peeters values\n",
    "al_kgpm_addrange.loc[1992] = al_kgpm_addrange.loc[2012] #extend the 0.6 kg/m back through 1992\n",
    "al_kgpm = al_kgpm_addrange.interpolate(limit_direction='both')\n",
    "#print(al_kgpm)\n",
    "plt.plot(al_kgpm)"
   ]
  },
  {
   "cell_type": "markdown",
   "metadata": {},
   "source": [
    "Now multiply the perimeter of the module annually by the mass per meter annually"
   ]
  },
  {
   "cell_type": "code",
   "execution_count": 14,
   "metadata": {},
   "outputs": [
    {
     "name": "stdout",
     "output_type": "stream",
     "text": [
      "      AL_kg_per_m  perimeter  mass_total_kg\n",
      "1992        0.600      3.000        1.80000\n",
      "1993        0.600      3.300        1.98000\n",
      "1994        0.600      3.315        1.98900\n",
      "1995        0.600      3.390        2.03400\n",
      "1996        0.600      3.465        2.07900\n",
      "1997        0.600      3.870        2.32200\n",
      "1998        0.600      4.090        2.45400\n",
      "1999        0.600      4.195        2.51700\n",
      "2000        0.600      4.300        2.58000\n",
      "2001        0.600      4.405        2.64300\n",
      "2002        0.600      4.510        2.70600\n",
      "2003        0.600      4.545        2.72700\n",
      "2004        0.600      4.685        2.81100\n",
      "2005        0.600      4.890        2.93400\n",
      "2006        0.600      4.950        2.97000\n",
      "2007        0.600      5.010        3.00600\n",
      "2008        0.600      5.070        3.04200\n",
      "2009        0.600      5.130        3.07800\n",
      "2010        0.600      5.155        3.09300\n",
      "2011        0.600      5.200        3.12000\n",
      "2012        0.600      5.215        3.12900\n",
      "2013        0.500      5.260        2.63000\n",
      "2014        0.500      5.285        2.64250\n",
      "2015        0.475      5.300        2.51750\n",
      "2016        0.450      5.325        2.39625\n",
      "2017        0.450      5.350        2.40750\n",
      "2018        0.450      5.375        2.41875\n",
      "2019        0.450      5.400        2.43000\n",
      "2020        0.450      5.400        2.43000\n",
      "2021        0.450      5.400        2.43000\n",
      "2022        0.450      5.400        2.43000\n",
      "2023        0.450      5.400        2.43000\n",
      "2024        0.450      5.400        2.43000\n"
     ]
    }
   ],
   "source": [
    "#bind mass and perimeter together for calcs\n",
    "mass_perimeter = pd.concat([al_kgpm, avg_module_perimeter_full], axis=1)\n",
    "mass_perimeter['mass_total_kg'] = mass_perimeter['AL_kg_per_m']*mass_perimeter['perimeter']\n",
    "print(mass_perimeter)"
   ]
  },
  {
   "cell_type": "markdown",
   "metadata": {},
   "source": [
    "Now we have a mass per module in kg due to the Aluminum frame. This value will now be divided by module area."
   ]
  },
  {
   "cell_type": "code",
   "execution_count": 15,
   "metadata": {},
   "outputs": [
    {
     "data": {
      "text/plain": [
       "<matplotlib.legend.Legend at 0x1b3a5383b08>"
      ]
     },
     "execution_count": 15,
     "metadata": {},
     "output_type": "execute_result"
    },
    {
     "data": {
      "image/png": "[encoded data removed]",
      "text/plain": [
       "<Figure size 432x288 with 1 Axes>"
      ]
     },
     "metadata": {
      "needs_background": "light"
     },
     "output_type": "display_data"
    }
   ],
   "source": [
    "al_kgpm2 = pd.concat([mass_perimeter['mass_total_kg'], avg_module_area_full], axis=1)\n",
    "al_kgpm2['Al_gpm2'] = al_kgpm2['mass_total_kg']/al_kgpm2['area']*1000\n",
    "#print(al_kgpm2)\n",
    "plt.plot(al_kgpm2['Al_gpm2'], label='Al_gpm2')\n",
    "plt.legend()"
   ]
  },
  {
   "cell_type": "markdown",
   "metadata": {},
   "source": [
    "## Then, weight this value by the marketshare of framed vs frameless"
   ]
  },
  {
   "cell_type": "markdown",
   "metadata": {},
   "source": [
    "In addition to the average module size, there are some modules which have no frame. The ITRPVs captured this data, and it will be applied here to appropriately weight the average module having a frame or not."
   ]
  },
  {
   "cell_type": "code",
   "execution_count": 16,
   "metadata": {
    "scrolled": true
   },
   "outputs": [
    {
     "name": "stdout",
     "output_type": "stream",
     "text": [
      "      Al_framed  frameless  Plastic\n",
      "Year                               \n",
      "2013      100.0        0.0      0.0\n",
      "2014        NaN        NaN      NaN\n",
      "2015       98.0        2.0      0.0\n",
      "2016       98.0        2.0      0.0\n",
      "2017       96.0        3.0      1.0\n",
      "2018       95.0        5.0      0.0\n",
      "2019       94.0        6.0      2.0\n",
      "2020       92.0        8.0      2.0\n",
      "2021        NaN        NaN      NaN\n",
      "2022       89.0        9.0      2.0\n",
      "2023        NaN        NaN      NaN\n",
      "2024       83.0       14.0      3.0\n",
      "2025        NaN        NaN      NaN\n",
      "2026        NaN        NaN      NaN\n",
      "2027       77.0       19.0      4.0\n",
      "2028        NaN        NaN      NaN\n",
      "2029        NaN        NaN      NaN\n",
      "2030       73.0       23.0      4.0\n"
     ]
    }
   ],
   "source": [
    "frame_noframe_raw = pd.read_csv(cwd+\"/../../../PV_ICE/baselines/SupportingMaterial/marketshare_frame-noframe.csv\", \n",
    "                           index_col='Year', usecols=lambda x: x not in skipcols)\n",
    "print(frame_noframe_raw)"
   ]
  },
  {
   "cell_type": "markdown",
   "metadata": {},
   "source": [
    "Prior to 2013, the ITRPV describes aluminum frames as \"the norm\", therefore we will assume prior to 2013 that all modules had aluminum frames. Similarly, the fraction of frameless modules continues to grow, therefore the 2020 projection out to 2030 will be used, then held constant through 2050."
   ]
  },
  {
   "cell_type": "code",
   "execution_count": 17,
   "metadata": {},
   "outputs": [
    {
     "data": {
      "text/plain": [
       "[<matplotlib.lines.Line2D at 0x1b3a5454048>]"
      ]
     },
     "execution_count": 17,
     "metadata": {},
     "output_type": "execute_result"
    },
    {
     "data": {
      "image/png": "[encoded data removed]",
      "text/plain": [
       "<Figure size 432x288 with 1 Axes>"
      ]
     },
     "metadata": {
      "needs_background": "light"
     },
     "output_type": "display_data"
    }
   ],
   "source": [
    "#Select down to only Al frame percentage\n",
    "framed_perc = pd.DataFrame(frame_noframe_raw['Al_framed'])\n",
    "\n",
    "#create an empty df as a place holder\n",
    "yrs4 = pd.Series(index=range(1992,2013), dtype='float64')\n",
    "tempdf4 = pd.DataFrame(yrs4, columns=['Al_framed'])\n",
    "framed_fract_empty = pd.concat([tempdf4,framed_perc]) #attach it to rest of df\n",
    "framed_perc_full = framed_fract_empty.interpolate(limit_direction='both')\n",
    "#print(framed_perc_full)\n",
    "plt.plot(framed_perc_full)"
   ]
  },
  {
   "cell_type": "code",
   "execution_count": 18,
   "metadata": {},
   "outputs": [
    {
     "data": {
      "text/plain": [
       "Text(0, 0.5, 'g/m2 of module')"
      ]
     },
     "execution_count": 18,
     "metadata": {},
     "output_type": "execute_result"
    },
    {
     "data": {
      "image/png": "[encoded data removed]",
      "text/plain": [
       "<Figure size 432x288 with 1 Axes>"
      ]
     },
     "metadata": {
      "needs_background": "light"
     },
     "output_type": "display_data"
    }
   ],
   "source": [
    "#Convert percentage to fraction\n",
    "framed_perc = framed_perc_full/100\n",
    "\n",
    "#bind together\n",
    "al_kgpm2_mrktshr = pd.concat([framed_perc, al_kgpm2['Al_gpm2']], axis=1)\n",
    "al_kgpm2_mrktshr.ffill(axis=0, inplace=True) #hold 2024 values of al g/m2 through 2030\n",
    "\n",
    "#multiply to get 3rd column of marketshare weighted data\n",
    "al_kgpm2_mrktshr['Al_wtd_gpm2'] = al_kgpm2_mrktshr['Al_framed']*al_kgpm2_mrktshr['Al_gpm2']\n",
    "\n",
    "#print(al_kgpm2_mrktshr)\n",
    "plt.plot(al_kgpm2_mrktshr['Al_wtd_gpm2'])\n",
    "plt.title('Final Marketshare-Weighted Al Frame Mass per Module m2')\n",
    "plt.ylabel(\"g/m2 of module\")"
   ]
  },
  {
   "cell_type": "code",
   "execution_count": 19,
   "metadata": {},
   "outputs": [],
   "source": [
    "final_al_gpm2 = pd.DataFrame(al_kgpm2_mrktshr['Al_wtd_gpm2'])\n",
    "final_al_gpm2.to_csv(cwd+'/../../../PV_ICE/baselines/SupportingMaterial/output_al_g_per_m2.csv', index=True)"
   ]
  },
  {
   "cell_type": "markdown",
   "metadata": {},
   "source": [
    "# Calculations for increasing fraction of glass-glass to 50% by 2030 (hold through 2050)"
   ]
  },
  {
   "cell_type": "markdown",
   "metadata": {},
   "source": [
    "Matching the glass calculations, bifacial glass-glass modules are typically frameless. Therefore, to project bifacial trends, we need to change the fraction of frameless going forward. In the Glass projection, we predict 50% glass-glass bifacial by 2030, original ITRPV was 30% glass-glass. ITRPV predicts 23% frameless by 2030, so the corresponding increase in frameless for 50% bifacial would be 38.3% frameless (simple ratio calc). If we assume 4% plastic frames (ITRPV), then framed marketshare is 100-4-38.3 = 57.7%"
   ]
  },
  {
   "cell_type": "code",
   "execution_count": 37,
   "metadata": {},
   "outputs": [
    {
     "data": {
      "image/png": "[encoded data removed]",
      "text/plain": [
       "<Figure size 432x288 with 1 Axes>"
      ]
     },
     "metadata": {
      "needs_background": "light"
     },
     "output_type": "display_data"
    }
   ],
   "source": [
    "#Create new projection for 38.3% frameless by 2030\n",
    "framed_perc_history = framed_perc_full.loc[(framed_perc_full.index<=2020)]\n",
    "\n",
    "yrs_future = pd.Series(index=range(2021,2031), dtype='float64')\n",
    "framed_future = pd.DataFrame(yrs_future, columns=['Al_framed'])\n",
    "framed_future['Al_framed'].loc[2030] = 57.7\n",
    "\n",
    "bifi_future_alframes = pd.concat([framed_perc_history, framed_future])\n",
    "bifi_future_alframes_full = bifi_future_alframes.interpolate(limit_direction='both')\n",
    "bifi_future_alframes_perc = bifi_future_alframes_full/100\n",
    "\n",
    "al_kgpm2_bifimrktshr = pd.concat([bifi_future_alframes_perc, al_kgpm2['Al_gpm2']], axis=1)\n",
    "al_kgpm2_bifimrktshr.ffill(axis=0, inplace=True) #hold 2024 values of al g/m2 through 2030\n",
    "bifi_future = al_kgpm2_bifimrktshr['Al_framed']*al_kgpm2_bifimrktshr['Al_gpm2']\n",
    "\n",
    "#print(bifi_future)\n",
    "plt.plot(bifi_future, label='bifacial future')\n",
    "plt.plot(al_kgpm2_mrktshr['Al_wtd_gpm2'], label='ITRPV 23% frameless')\n",
    "plt.legend()\n",
    "\n",
    "bifi_future_al_gpm2 = pd.DataFrame(bifi_future)\n",
    "bifi_future_al_gpm2.to_csv(cwd+'/../../../PV_ICE/baselines/SupportingMaterial/output_al_g_per_m2_bifacial.csv', index=True)"
   ]
  }
 ],
 "metadata": {
  "kernelspec": {
   "display_name": "Python 3",
   "language": "python",
   "name": "python3"
  },
  "language_info": {
   "codemirror_mode": {
    "name": "ipython",
    "version": 3
   },
   "file_extension": ".py",
   "mimetype": "text/x-python",
   "name": "python",
   "nbconvert_exporter": "python",
   "pygments_lexer": "ipython3",
   "version": "3.7.4"
  }
 },
 "nbformat": 4,
 "nbformat_minor": 2
}
