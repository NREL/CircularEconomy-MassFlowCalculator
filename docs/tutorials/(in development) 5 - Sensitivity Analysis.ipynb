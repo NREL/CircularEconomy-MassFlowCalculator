{
 "cells": [
  {
   "cell_type": "code",
   "execution_count": 1,
   "metadata": {},
   "outputs": [
    {
     "name": "stdout",
     "output_type": "stream",
     "text": [
      "Your simulation will be stored in C:\\Users\\sayala\\Documents\\GitHub\\CircularEconomy-MassFlowCalculator\\PV_ICE\\TEMP\n"
     ]
    }
   ],
   "source": [
    "import os\n",
    "from pathlib import Path\n",
    "\n",
    "testfolder = str(Path().resolve().parent.parent / 'PV_ICE' / 'TEMP')\n",
    "\n",
    "# Another option using relative address; for some operative systems you might need '/' instead of '\\'\n",
    "# testfolder = os.path.abspath(r'..\\..\\PV_DEMICE\\TEMP')  \n",
    "\n",
    "print (\"Your simulation will be stored in %s\" % testfolder)"
   ]
  },
  {
   "cell_type": "code",
   "execution_count": 2,
   "metadata": {},
   "outputs": [],
   "source": [
    "MATERIAL = 'glass'\n",
    "SANITYCHECK = False\n",
    "\n",
    "if SANITYCHECK:\n",
    "    MODULEBASELINE = r'C:\\Users\\sayala\\Documents\\GitHub\\CircularEconomy-MassFlowCalculator\\tests\\baseline_module_test_2.csv'\n",
    "    MATERIALBASELINE = r'C:\\Users\\sayala\\Documents\\GitHub\\CircularEconomy-MassFlowCalculator\\tests\\baseline_material_test_2.csv'\n",
    "else:\n",
    "    MODULEBASELINE = r'..\\baselines\\baseline_modules_US.csv'\n",
    "    MATERIALBASELINE = r'..\\baselines\\baseline_material_'+MATERIAL+'.csv'\n",
    "\n"
   ]
  },
  {
   "cell_type": "code",
   "execution_count": 3,
   "metadata": {},
   "outputs": [],
   "source": [
    "import PV_ICE\n",
    "import matplotlib.pyplot as plt\n",
    "import pandas as pd\n",
    "\n"
   ]
  },
  {
   "cell_type": "code",
   "execution_count": 4,
   "metadata": {},
   "outputs": [],
   "source": [
    "plt.rcParams.update({'font.size': 22})\n",
    "plt.rcParams['figure.figsize'] = (12, 5)"
   ]
  },
  {
   "cell_type": "code",
   "execution_count": 5,
   "metadata": {},
   "outputs": [
    {
     "name": "stdout",
     "output_type": "stream",
     "text": [
      "path = C:\\Users\\sayala\\Documents\\GitHub\\CircularEconomy-MassFlowCalculator\\PV_ICE\\TEMP\n"
     ]
    }
   ],
   "source": [
    "r1 = PV_ICE.Simulation(name='Simulation1', path=testfolder)\n",
    "r1.createScenario(name='baseline', file=MODULEBASELINE)\n",
    "r1.scenario['baseline'].addMaterial(MATERIAL, file=MATERIALBASELINE)\n",
    "\n"
   ]
  },
  {
   "cell_type": "markdown",
   "metadata": {},
   "source": [
    "# Goal; Compare Virgin Material Extraction , and Waste. "
   ]
  },
  {
   "cell_type": "markdown",
   "metadata": {},
   "source": [
    "### Virgin Material Efficiency"
   ]
  },
  {
   "cell_type": "code",
   "execution_count": 6,
   "metadata": {},
   "outputs": [],
   "source": [
    "r1.createScenario(name='baseline_highVirginMaterialEfficiency', file=MODULEBASELINE)\n",
    "r1.scenario['baseline_highVirginMaterialEfficiency'].addMaterial(MATERIAL, file=MATERIALBASELINE)\n",
    "r1.scenario['baseline_highVirginMaterialEfficiency'].material[MATERIAL].materialdata = PV_ICE.sens_StageImprovement(r1.scenario['baseline_highVirginMaterialEfficiency'].material[MATERIAL].materialdata, \n",
    "                             stage='mat_virgin_eff', improvement=1.10, start_year=0)\n",
    "\n",
    "r1.createScenario(name='baseline_lowVirginMaterialEfficiency', file=MODULEBASELINE)\n",
    "r1.scenario['baseline_lowVirginMaterialEfficiency'].addMaterial(MATERIAL, file=MATERIALBASELINE)\n",
    "r1.scenario['baseline_lowVirginMaterialEfficiency'].material[MATERIAL].materialdata = PV_ICE.sens_StageImprovement(r1.scenario['baseline_lowVirginMaterialEfficiency'].material[MATERIAL].materialdata, \n",
    "                             stage='mat_virgin_eff', improvement=0.90, start_year=0)\n"
   ]
  },
  {
   "cell_type": "code",
   "execution_count": 7,
   "metadata": {},
   "outputs": [
    {
     "name": "stdout",
     "output_type": "stream",
     "text": [
      "Working on Scenario:  baseline\n",
      "********************\n",
      "Finished Area+Power Generation Calculations\n",
      "==> Working on Material :  glass\n",
      "Working on Scenario:  baseline_highVirginMaterialEfficiency\n",
      "********************\n",
      "Finished Area+Power Generation Calculations\n",
      "==> Working on Material :  glass\n",
      "Working on Scenario:  baseline_lowVirginMaterialEfficiency\n",
      "********************\n",
      "Finished Area+Power Generation Calculations\n",
      "==> Working on Material :  glass\n"
     ]
    }
   ],
   "source": [
    "r1.calculateMassFlow()"
   ]
  },
  {
   "cell_type": "code",
   "execution_count": 8,
   "metadata": {},
   "outputs": [],
   "source": [
    "if SANITYCHECK:\n",
    "    r1.plotMaterialComparisonAcrossScenarios(material=MATERIAL, keyword='mat_Virgin_Stock_Raw')\n",
    "    r1.plotMaterialComparisonAcrossScenarios(material=MATERIAL, keyword='mat_Virgin_Stock')\n",
    "    print(r1.scenario['baseline'].material[MATERIAL].materialdata['mat_Virgin_Stock_Raw'].sum())\n",
    "    print(r1.scenario['baseline_highVirginMaterialEfficiency'].material[MATERIAL].materialdata['mat_Virgin_Stock_Raw'].sum())\n",
    "    print(r1.scenario['baseline_lowVirginMaterialEfficiency'].material[MATERIAL].materialdata['mat_Virgin_Stock_Raw'].sum())\n",
    "    print(\"WASTE IS ALL THE SAME, bceause we are not counting landfilled Virgin Material Mining + Refining Waste\")\n",
    "    print(r1.scenario['baseline'].material[MATERIAL].materialdata['mat_Virgin_Stock'].sum())\n",
    "    print(r1.scenario['baseline_highVirginMaterialEfficiency'].material[MATERIAL].materialdata['mat_Virgin_Stock'].sum())\n",
    "    print(r1.scenario['baseline_lowVirginMaterialEfficiency'].material[MATERIAL].materialdata['mat_Virgin_Stock'].sum())\n",
    "    # RATIOS\n",
    "    print(\"Baseline Virgin Needs:\", 100*r1.scenario['baseline'].material[MATERIAL].materialdata['mat_Virgin_Stock_Raw'].sum()/r1.scenario['baseline'].material[MATERIAL].materialdata['mat_Virgin_Stock_Raw'].sum())\n",
    "    print(\"High Efficiency Scenario Virgin Needs:\", int(100*r1.scenario['baseline_highVirginMaterialEfficiency'].material[MATERIAL].materialdata['mat_Virgin_Stock_Raw'].sum()/r1.scenario['baseline'].material[MATERIAL].materialdata['mat_Virgin_Stock_Raw'].sum()))\n",
    "    print(\"Low Efficiency Scenario Virgin Needs:\", int(100*r1.scenario['baseline_lowVirginMaterialEfficiency'].material[MATERIAL].materialdata['mat_Virgin_Stock_Raw'].sum()/r1.scenario['baseline'].material[MATERIAL].materialdata['mat_Virgin_Stock_Raw'].sum()))"
   ]
  },
  {
   "cell_type": "markdown",
   "metadata": {},
   "source": [
    "# Material Manfuacturing Efficiency "
   ]
  },
  {
   "cell_type": "code",
   "execution_count": 9,
   "metadata": {},
   "outputs": [
    {
     "data": {
      "text/plain": [
       "\"\\nfig, ax1 = plt.subplots()\\nax1.plot(r1.scenario['baseline'].data.year, r1.scenario['baseline'].material[MATERIAL].materialdata['mat_Total_Landfilled']/r1.scenario['baseline'].material[MATERIAL].materialdata['mat_Total_Landfilled'], label='base eff')\\nax1.plot(r1.scenario['baseline'].data.year, r1.scenario['baseline_HighMatManufEff'].material[MATERIAL].materialdata['mat_Total_Landfilled']/r1.scenario['baseline'].material[MATERIAL].materialdata['mat_Total_Landfilled'], label='high eff')\\nax1.plot(r1.scenario['baseline'].data.year, r1.scenario['baseline_lowMatManufEff'].material[MATERIAL].materialdata['mat_Total_Landfilled']/r1.scenario['baseline'].material[MATERIAL].materialdata['mat_Total_Landfilled'], label='low eff')\\n\\nax2 = ax1.twinx()\\nax2.plot(r1.scenario['baseline'].data.year, r1.scenario['baseline'].material[MATERIAL].materialdata['mat_MFG_eff'], '.')\\nax2.plot(r1.scenario['baseline'].data.year, r1.scenario['baseline_HighMatManufEff'].material[MATERIAL].materialdata['mat_MFG_eff'], '.')\\nax2.plot(r1.scenario['baseline'].data.year, r1.scenario['baseline_lowMatManufEff'].material[MATERIAL].materialdata['mat_MFG_eff'], '.')\\nax1.legend()\\n\""
      ]
     },
     "execution_count": 9,
     "metadata": {},
     "output_type": "execute_result"
    }
   ],
   "source": [
    "\"\"\"\n",
    "fig, ax1 = plt.subplots()\n",
    "ax1.plot(r1.scenario['baseline'].data.year, r1.scenario['baseline'].material[MATERIAL].materialdata['mat_Total_Landfilled']/r1.scenario['baseline'].material[MATERIAL].materialdata['mat_Total_Landfilled'], label='base eff')\n",
    "ax1.plot(r1.scenario['baseline'].data.year, r1.scenario['baseline_HighMatManufEff'].material[MATERIAL].materialdata['mat_Total_Landfilled']/r1.scenario['baseline'].material[MATERIAL].materialdata['mat_Total_Landfilled'], label='high eff')\n",
    "ax1.plot(r1.scenario['baseline'].data.year, r1.scenario['baseline_lowMatManufEff'].material[MATERIAL].materialdata['mat_Total_Landfilled']/r1.scenario['baseline'].material[MATERIAL].materialdata['mat_Total_Landfilled'], label='low eff')\n",
    "\n",
    "ax2 = ax1.twinx()\n",
    "ax2.plot(r1.scenario['baseline'].data.year, r1.scenario['baseline'].material[MATERIAL].materialdata['mat_MFG_eff'], '.')\n",
    "ax2.plot(r1.scenario['baseline'].data.year, r1.scenario['baseline_HighMatManufEff'].material[MATERIAL].materialdata['mat_MFG_eff'], '.')\n",
    "ax2.plot(r1.scenario['baseline'].data.year, r1.scenario['baseline_lowMatManufEff'].material[MATERIAL].materialdata['mat_MFG_eff'], '.')\n",
    "ax1.legend()\n",
    "\"\"\""
   ]
  },
  {
   "cell_type": "code",
   "execution_count": 10,
   "metadata": {},
   "outputs": [],
   "source": [
    "stage = 'mat_MFG_eff'\n",
    "modhigh = 1.10 \n",
    "modlow = 0.90\n",
    "stage_highname = 'HighEff_'+stage\n",
    "stage_lowname = 'LowEff'+stage\n",
    "\n",
    "r1.createScenario(name=stage_highname, file=MODULEBASELINE)\n",
    "r1.scenario[stage_highname].addMaterial(MATERIAL, file=MATERIALBASELINE)\n",
    "r1.scenario[stage_highname].material[MATERIAL].materialdata = PV_ICE.sens_StageImprovement(r1.scenario[stage_highname].material[MATERIAL].materialdata, \n",
    "                             stage=stage, improvement=modhigh, start_year=0)\n",
    "\n",
    "r1.createScenario(name=stage_lowname, file=MODULEBASELINE)\n",
    "r1.scenario[stage_lowname].addMaterial(MATERIAL, file=MATERIALBASELINE)\n",
    "r1.scenario[stage_lowname].material[MATERIAL].materialdata = PV_ICE.sens_StageImprovement(r1.scenario[stage_lowname].material[MATERIAL].materialdata, \n",
    "                             stage=stage, improvement=modlow, start_year=0)"
   ]
  },
  {
   "cell_type": "code",
   "execution_count": 11,
   "metadata": {},
   "outputs": [
    {
     "name": "stdout",
     "output_type": "stream",
     "text": [
      "Working on Scenario:  baseline\n",
      "********************\n",
      "Finished Area+Power Generation Calculations\n",
      "==> Working on Material :  glass\n",
      "Working on Scenario:  baseline_highVirginMaterialEfficiency\n",
      "********************\n",
      "Finished Area+Power Generation Calculations\n",
      "==> Working on Material :  glass\n",
      "Working on Scenario:  baseline_lowVirginMaterialEfficiency\n",
      "********************\n",
      "Finished Area+Power Generation Calculations\n",
      "==> Working on Material :  glass\n",
      "Working on Scenario:  HighEff_mat_MFG_eff\n",
      "********************\n",
      "Finished Area+Power Generation Calculations\n",
      "==> Working on Material :  glass\n",
      "Working on Scenario:  LowEffmat_MFG_eff\n",
      "********************\n",
      "Finished Area+Power Generation Calculations\n",
      "==> Working on Material :  glass\n"
     ]
    }
   ],
   "source": [
    "r1.calculateMassFlow()    "
   ]
  },
  {
   "cell_type": "code",
   "execution_count": 12,
   "metadata": {},
   "outputs": [
    {
     "name": "stdout",
     "output_type": "stream",
     "text": [
      "Baseline Cum Value 2050  mat_Virgin_Stock :  81876675647445.94\n",
      "High Eff  mat_MFG_eff mat_Virgin_Stock :  90\n",
      "Low Eff mat_MFG_eff mat_Virgin_Stock :  111\n",
      "Baseline Cum Value 2050  mat_Total_Landfilled :  12080316840665.871\n",
      "High Eff  mat_MFG_eff mat_Total_Landfilled :  62\n",
      "Low Eff mat_MFG_eff mat_Total_Landfilled :  145\n"
     ]
    }
   ],
   "source": [
    "# RATIOS\n",
    "resultkeyword = 'mat_Virgin_Stock'\n",
    "print(\"Baseline Cum Value 2050 \", resultkeyword, \": \", r1.scenario['baseline'].material[MATERIAL].materialdata[resultkeyword].sum())\n",
    "print(\"High Eff \", stage, resultkeyword, \": \", int(100*r1.scenario[stage_highname].material[MATERIAL].materialdata[resultkeyword].sum()/r1.scenario['baseline'].material[MATERIAL].materialdata[resultkeyword].sum()))\n",
    "print(\"Low Eff\", stage, resultkeyword, \": \", int(100*r1.scenario[stage_lowname].material[MATERIAL].materialdata[resultkeyword].sum()/r1.scenario['baseline'].material[MATERIAL].materialdata[resultkeyword].sum()))\n",
    "\n",
    "# RATIOS\n",
    "resultkeyword = 'mat_Total_Landfilled'\n",
    "print(\"Baseline Cum Value 2050 \", resultkeyword, \": \", r1.scenario['baseline'].material[MATERIAL].materialdata[resultkeyword].sum())\n",
    "print(\"High Eff \", stage, resultkeyword, \": \", int(100*r1.scenario[stage_highname].material[MATERIAL].materialdata[resultkeyword].sum()/r1.scenario['baseline'].material[MATERIAL].materialdata[resultkeyword].sum()))\n",
    "print(\"Low Eff\", stage, resultkeyword, \": \", int(100*r1.scenario[stage_lowname].material[MATERIAL].materialdata[resultkeyword].sum()/r1.scenario['baseline'].material[MATERIAL].materialdata[resultkeyword].sum()))"
   ]
  },
  {
   "cell_type": "code",
   "execution_count": 13,
   "metadata": {},
   "outputs": [
    {
     "data": {
      "text/plain": [
       "Index(['year', 'new_Installed_Capacity_[MW]', 'mod_eff', 'mod_reliability_t50',\n",
       "       'mod_reliability_t90', 'mod_degradation', 'mod_lifetime', 'mod_MFG_eff',\n",
       "       'mod_EOL_collection_eff', 'mod_EOL_collected_recycled',\n",
       "       'mod_Repowering', 'mod_Repairing', 'Area',\n",
       "       'Cumulative_Area_disposedby_Failure',\n",
       "       'Cumulative_Area_disposedby_ProjectLifetime',\n",
       "       'Cumulative_Area_disposed', 'Cumulative_Active_Area',\n",
       "       'Installed_Capacity_[W]', 'WeibullParams', 'EOL_on_Year_0',\n",
       "       'EOL_on_Year_1', 'EOL_on_Year_2', 'EOL_on_Year_3', 'EOL_on_Year_4',\n",
       "       'EOL_on_Year_5', 'EOL_on_Year_6', 'EOL_on_Year_7', 'EOL_on_Year_8',\n",
       "       'EOL_on_Year_9', 'EOL_on_Year_10', 'EOL_on_Year_11', 'EOL_on_Year_12',\n",
       "       'EOL_on_Year_13', 'EOL_on_Year_14', 'EOL_on_Year_15', 'EOL_on_Year_16',\n",
       "       'EOL_on_Year_17', 'EOL_on_Year_18', 'EOL_on_Year_19', 'EOL_on_Year_20',\n",
       "       'EOL_on_Year_21', 'EOL_on_Year_22', 'EOL_on_Year_23', 'EOL_on_Year_24',\n",
       "       'EOL_on_Year_25', 'EOL_on_Year_26', 'EOL_on_Year_27', 'EOL_on_Year_28',\n",
       "       'EOL_on_Year_29', 'EOL_on_Year_30', 'EOL_on_Year_31', 'EOL_on_Year_32',\n",
       "       'EOL_on_Year_33', 'EOL_on_Year_34', 'EOL_on_Year_35', 'EOL_on_Year_36',\n",
       "       'EOL_on_Year_37', 'EOL_on_Year_38', 'EOL_on_Year_39', 'EOL_on_Year_40',\n",
       "       'EOL_on_Year_41', 'EOL_on_Year_42', 'EOL_on_Year_43', 'EOL_on_Year_44',\n",
       "       'EOL_on_Year_45', 'EOL_on_Year_46', 'EOL_on_Year_47', 'EOL_on_Year_48',\n",
       "       'EOL_on_Year_49', 'EOL_on_Year_50', 'EOL_on_Year_51', 'EOL_on_Year_52',\n",
       "       'EOL_on_Year_53', 'EOL_on_Year_54', 'EOL_on_Year_55', 'EoL_Collected',\n",
       "       'EoL_NotCollected', 'EoL_Recycled', 'EoL_NotRecycled_Landfilled'],\n",
       "      dtype='object')"
      ]
     },
     "execution_count": 13,
     "metadata": {},
     "output_type": "execute_result"
    }
   ],
   "source": [
    "r1.scenario[stage_highname].data.keys()"
   ]
  },
  {
   "cell_type": "markdown",
   "metadata": {},
   "source": [
    "# Module baseline mod.\n",
    "\n",
    "### mod_MFG_eff"
   ]
  },
  {
   "cell_type": "code",
   "execution_count": 14,
   "metadata": {},
   "outputs": [],
   "source": [
    "# Module baseline mod.\n",
    "stage = 'mod_MFG_eff'\n",
    "modhigh = 1.10 \n",
    "modlow = 0.90\n",
    "stage_highname = 'HighEff_'+stage\n",
    "stage_lowname = 'LowEff'+stage\n",
    "\n",
    "r1.createScenario(name=stage_highname, file=MODULEBASELINE)\n",
    "r1.scenario[stage_highname].addMaterial(MATERIAL, file=MATERIALBASELINE)\n",
    "r1.scenario[stage_highname].data = PV_ICE.sens_StageImprovement(r1.scenario[stage_highname].data, \n",
    "                             stage=stage, improvement=modhigh, start_year=0)\n",
    "\n",
    "r1.createScenario(name=stage_lowname, file=MODULEBASELINE)\n",
    "r1.scenario[stage_lowname].addMaterial(MATERIAL, file=MATERIALBASELINE)\n",
    "r1.scenario[stage_lowname].data = PV_ICE.sens_StageImprovement(r1.scenario[stage_lowname].data, \n",
    "                             stage=stage, improvement=modlow, start_year=0)"
   ]
  },
  {
   "cell_type": "code",
   "execution_count": 15,
   "metadata": {},
   "outputs": [
    {
     "name": "stdout",
     "output_type": "stream",
     "text": [
      "Working on Scenario:  baseline\n",
      "********************\n",
      "Finished Area+Power Generation Calculations\n",
      "==> Working on Material :  glass\n",
      "Working on Scenario:  baseline_highVirginMaterialEfficiency\n",
      "********************\n",
      "Finished Area+Power Generation Calculations\n",
      "==> Working on Material :  glass\n",
      "Working on Scenario:  baseline_lowVirginMaterialEfficiency\n",
      "********************\n",
      "Finished Area+Power Generation Calculations\n",
      "==> Working on Material :  glass\n",
      "Working on Scenario:  HighEff_mat_MFG_eff\n",
      "********************\n",
      "Finished Area+Power Generation Calculations\n",
      "==> Working on Material :  glass\n",
      "Working on Scenario:  LowEffmat_MFG_eff\n",
      "********************\n",
      "Finished Area+Power Generation Calculations\n",
      "==> Working on Material :  glass\n",
      "Working on Scenario:  HighEff_mod_MFG_eff\n",
      "********************\n",
      "Finished Area+Power Generation Calculations\n",
      "==> Working on Material :  glass\n",
      "Working on Scenario:  LowEffmod_MFG_eff\n",
      "********************\n",
      "Finished Area+Power Generation Calculations\n",
      "==> Working on Material :  glass\n",
      "Baseline Cum Value 2050  mat_Virgin_Stock :  81876675647445.94\n",
      "High Eff  mod_MFG_eff mat_Virgin_Stock :  90\n",
      "Low Eff mod_MFG_eff mat_Virgin_Stock :  111\n",
      "Baseline Cum Value 2050  mat_Total_Landfilled :  12080316840665.871\n",
      "High Eff  mod_MFG_eff mat_Total_Landfilled :  62\n",
      "Low Eff mod_MFG_eff mat_Total_Landfilled :  145\n"
     ]
    }
   ],
   "source": [
    "r1.calculateMassFlow()\n",
    "\n",
    "# RATIOS\n",
    "resultkeyword = 'mat_Virgin_Stock'\n",
    "print(\"Baseline Cum Value 2050 \", resultkeyword, \": \", r1.scenario['baseline'].material[MATERIAL].materialdata[resultkeyword].sum())\n",
    "print(\"High Eff \", stage, resultkeyword, \": \", int(100*r1.scenario[stage_highname].material[MATERIAL].materialdata[resultkeyword].sum()/r1.scenario['baseline'].material[MATERIAL].materialdata[resultkeyword].sum()))\n",
    "print(\"Low Eff\", stage, resultkeyword, \": \", int(100*r1.scenario[stage_lowname].material[MATERIAL].materialdata[resultkeyword].sum()/r1.scenario['baseline'].material[MATERIAL].materialdata[resultkeyword].sum()))\n",
    "\n",
    "# RATIOS\n",
    "resultkeyword = 'mat_Total_Landfilled'\n",
    "print(\"Baseline Cum Value 2050 \", resultkeyword, \": \", r1.scenario['baseline'].material[MATERIAL].materialdata[resultkeyword].sum())\n",
    "print(\"High Eff \", stage, resultkeyword, \": \", int(100*r1.scenario[stage_highname].material[MATERIAL].materialdata[resultkeyword].sum()/r1.scenario['baseline'].material[MATERIAL].materialdata[resultkeyword].sum()))\n",
    "print(\"Low Eff\", stage, resultkeyword, \": \", int(100*r1.scenario[stage_lowname].material[MATERIAL].materialdata[resultkeyword].sum()/r1.scenario['baseline'].material[MATERIAL].materialdata[resultkeyword].sum()))\n"
   ]
  },
  {
   "cell_type": "code",
   "execution_count": null,
   "metadata": {},
   "outputs": [],
   "source": []
  },
  {
   "cell_type": "code",
   "execution_count": null,
   "metadata": {},
   "outputs": [],
   "source": []
  },
  {
   "cell_type": "code",
   "execution_count": null,
   "metadata": {},
   "outputs": [],
   "source": []
  },
  {
   "cell_type": "code",
   "execution_count": null,
   "metadata": {},
   "outputs": [],
   "source": []
  },
  {
   "cell_type": "code",
   "execution_count": null,
   "metadata": {},
   "outputs": [],
   "source": []
  },
  {
   "cell_type": "code",
   "execution_count": null,
   "metadata": {},
   "outputs": [],
   "source": []
  },
  {
   "cell_type": "code",
   "execution_count": null,
   "metadata": {},
   "outputs": [],
   "source": [
    "        "
   ]
  },
  {
   "cell_type": "code",
   "execution_count": null,
   "metadata": {},
   "outputs": [],
   "source": []
  },
  {
   "cell_type": "code",
   "execution_count": null,
   "metadata": {},
   "outputs": [],
   "source": []
  },
  {
   "cell_type": "code",
   "execution_count": null,
   "metadata": {},
   "outputs": [],
   "source": []
  },
  {
   "cell_type": "code",
   "execution_count": null,
   "metadata": {},
   "outputs": [],
   "source": []
  },
  {
   "cell_type": "code",
   "execution_count": null,
   "metadata": {},
   "outputs": [],
   "source": []
  },
  {
   "cell_type": "code",
   "execution_count": null,
   "metadata": {},
   "outputs": [],
   "source": []
  }
 ],
 "metadata": {
  "kernelspec": {
   "display_name": "Python 3",
   "language": "python",
   "name": "python3"
  },
  "language_info": {
   "codemirror_mode": {
    "name": "ipython",
    "version": 3
   },
   "file_extension": ".py",
   "mimetype": "text/x-python",
   "name": "python",
   "nbconvert_exporter": "python",
   "pygments_lexer": "ipython3",
   "version": "3.7.4"
  }
 },
 "nbformat": 4,
 "nbformat_minor": 2
}
