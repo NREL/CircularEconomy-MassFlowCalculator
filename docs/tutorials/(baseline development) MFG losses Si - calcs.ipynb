{
 "cells": [
  {
   "cell_type": "markdown",
   "metadata": {},
   "source": [
    "# Manufacturing Efficiency Estimation Calculations"
   ]
  },
  {
   "cell_type": "markdown",
   "metadata": {},
   "source": [
    "This notebook covers the calculations used to estimate the manufacturing efficiency of silicon for mono and mc Si modules. This data will be utilized in the baseline files for PV DEMICE.\n",
    "\n",
    "NOTE: You must run Silicon per m2 journal before running this one, as the calculations depend on grams of silicon per cell."
   ]
  },
  {
   "cell_type": "code",
   "execution_count": 2,
   "metadata": {},
   "outputs": [],
   "source": [
    "import numpy as np\n",
    "import pandas as pd\n",
    "import os,sys\n",
    "import matplotlib.pyplot as plt\n",
    "plt.rcParams.update({'font.size': 22})\n",
    "plt.rcParams['figure.figsize'] = (12, 8)"
   ]
  },
  {
   "cell_type": "code",
   "execution_count": 5,
   "metadata": {},
   "outputs": [],
   "source": [
    "#read in supporting csv files\n",
    "cwd = os.getcwd() #grabs current working directory\n",
    "si_g_percell = pd.read_csv(cwd+\"/../../PV_DEMICE/baselines/SupportingMaterial/si_g_per_cell.csv\", index_col='Year')\n",
    "kerf_loss_raw = pd.read_csv(cwd+\"/../../PV_DEMICE/baselines/SupportingMaterial/kerf_loss_microns.csv\", index_col='Year')\n",
    "utilize_gperwafer_raw = pd.read_csv(cwd+\"/../../PV_DEMICE/baselines/SupportingMaterial/utilization_g_perwafer.csv\", index_col='Year')\n",
    "wafer_thickness = pd.read_csv(cwd+\"/../../PV_DEMICE/baselines/SupportingMaterial/Wafer_thickness.csv\", index_col='Year')\n"
   ]
  },
  {
   "cell_type": "markdown",
   "metadata": {},
   "source": [
    "From the literature resources, we have data points that indicate a 50% input material waste for Silicon per cell prior to 2003. Therefore, we will assume a 50% manufacturing efficiency 1995 through 2003.\n",
    "\n",
    "There is a derth of data 2004 through 2009.\n",
    "\n",
    "As of 2010, ITRPV data provides kerf loss data, through 2017. This combined with wafer thickness, will be used as a proxy for mfg losses, combined with insights from the ITRPV \"polysilicon utilization\" data (which includes wafer thickness, kerf loss, crucible size, from squaring to cropping).\n",
    "\n",
    "Similarly, as of 2017, ITRPV provides data on \"polysilicon utilization\", which is expressed as a number of grams of silicon used to make a wafer, and proken down by mono-Si vs. mc-Si and diamond wire vs. slurry cut, and includes projections out to 2030. This data will be utilized for 2017 onward to calculate % manufacturing efficiency relative to the average cell mass calculated by \"Silicon g per m2\" OR shold we use on a 10g/cell basis that ITRPV uses??"
   ]
  },
  {
   "cell_type": "markdown",
   "metadata": {},
   "source": [
    "## 2010 through 2017"
   ]
  },
  {
   "cell_type": "markdown",
   "metadata": {},
   "source": [
    "mfg efficiency by kerf loss proxy is calculated by:\n",
    "            \n",
    "            [Wafer Thickness/(Wafer Thickness + Kerf Loss)] * 100 = % mfg efficiency (proxy)\n",
    "\n",
    "And the inverse or manufacturing inefficiency should be calculated by:\n",
    "\n",
    "            [(Wafer Thickness + Kerf Loss)/Wafer Thickness] * 100 = % mfg \"inefficeincy\""
   ]
  },
  {
   "cell_type": "code",
   "execution_count": 14,
   "metadata": {},
   "outputs": [],
   "source": [
    "#There are missing data in wafer thickness, so we will interpolate linearly for missing years\n",
    "wafer_thick = wafer_thickness.interpolate(method='linear',axis=0)\n",
    "\n",
    "#Kerf loss also has missing data (projections), same linear interpolate\n",
    "kerf_loss = kerf_loss_raw.interpolate(method='linear',axis=0, limit_area='inside')\n",
    "\n",
    "#concat wafer thickness and kerf loss dfs together\n",
    "df_thick_kerf = pd.concat([wafer_thick,kerf_loss], axis=1) #concatinate on the columns axis\n",
    "\n",
    "#print(df_thick_kerf)"
   ]
  },
  {
   "cell_type": "markdown",
   "metadata": {},
   "source": [
    "Because slurry and diamond have significantly different kerf losses, we will keep these seperate for as long as possible before averaging."
   ]
  },
  {
   "cell_type": "code",
   "execution_count": 31,
   "metadata": {},
   "outputs": [],
   "source": [
    "df_thick_kerf['slurry_eff'] = df_thick_kerf['wafer_thickness']/(df_thick_kerf['wafer_thickness']+df_thick_kerf['slurry'])\n",
    "df_thick_kerf['diamond_eff'] = df_thick_kerf['wafer_thickness']/(df_thick_kerf['wafer_thickness']+df_thick_kerf['diamond'])\n",
    "#for maths, create the \"inefficiency\" percentage by slurry and diamond\n",
    "#i.e. this is how much extra material needed to be put in to get out a single wafer unit\n",
    "df_thick_kerf['slurry_ineff'] = (df_thick_kerf['wafer_thickness']+df_thick_kerf['slurry'])/df_thick_kerf['wafer_thickness']\n",
    "df_thick_kerf['diamond_ineff'] = (df_thick_kerf['wafer_thickness']+df_thick_kerf['diamond'])/df_thick_kerf['wafer_thickness']\n",
    "#print(df_thick_kerf)"
   ]
  },
  {
   "cell_type": "markdown",
   "metadata": {},
   "source": [
    "As a reality check, and because we have data for 2017 of both kerf loss and \"utilization\", we can check how good a proxy kerf loss is for utilization of input material."
   ]
  },
  {
   "cell_type": "code",
   "execution_count": 30,
   "metadata": {},
   "outputs": [
    {
     "name": "stdout",
     "output_type": "stream",
     "text": [
      "17.41421407093434\n",
      "15.130382717369182\n"
     ]
    }
   ],
   "source": [
    "#First, multiply the proxy mfg efficiency by the averaged g/cell of silicon (as calculated by \"Silicon per m2\")\n",
    "check2017_slurry = (si_g_percell['Si_gpercell'][2017])*(df_thick_kerf['slurry_ineff'][2017])\n",
    "check2017_diamond = (si_g_percell['Si_gpercell'][2017])*(df_thick_kerf['diamond_ineff'][2017])\n",
    "\n",
    "#utilize_gperwafer_raw\n",
    "print(check2017_slurry)\n",
    "print(check2017_diamond)"
   ]
  },
  {
   "cell_type": "markdown",
   "metadata": {},
   "source": [
    "## 2017 through 2030"
   ]
  },
  {
   "cell_type": "code",
   "execution_count": null,
   "metadata": {},
   "outputs": [],
   "source": []
  },
  {
   "cell_type": "markdown",
   "metadata": {},
   "source": [
    "## 1995 through 2003"
   ]
  },
  {
   "cell_type": "markdown",
   "metadata": {},
   "source": [
    "Here, as previously stated, we set 2003 and earlier years to 50% mfg efficiency"
   ]
  },
  {
   "cell_type": "code",
   "execution_count": null,
   "metadata": {},
   "outputs": [],
   "source": []
  },
  {
   "cell_type": "markdown",
   "metadata": {},
   "source": [
    "## 2004 through 2009"
   ]
  },
  {
   "cell_type": "markdown",
   "metadata": {},
   "source": [
    "Until better data is found for this time period, simple linear interpolation will be used."
   ]
  },
  {
   "cell_type": "code",
   "execution_count": null,
   "metadata": {},
   "outputs": [],
   "source": []
  }
 ],
 "metadata": {
  "kernelspec": {
   "display_name": "Python 3",
   "language": "python",
   "name": "python3"
  },
  "language_info": {
   "codemirror_mode": {
    "name": "ipython",
    "version": 3
   },
   "file_extension": ".py",
   "mimetype": "text/x-python",
   "name": "python",
   "nbconvert_exporter": "python",
   "pygments_lexer": "ipython3",
   "version": "3.7.6"
  }
 },
 "nbformat": 4,
 "nbformat_minor": 4
}
