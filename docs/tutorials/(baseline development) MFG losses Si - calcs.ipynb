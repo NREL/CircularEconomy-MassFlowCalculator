{
 "cells": [
  {
   "cell_type": "markdown",
   "metadata": {},
   "source": [
    "# Manufacturing Efficiency Estimation Calculations"
   ]
  },
  {
   "cell_type": "markdown",
   "metadata": {},
   "source": [
    "This notebook covers the calculations used to estimate the manufacturing efficiency of silicon for mono and mc Si modules. This data will be utilized in the baseline files for PV DEMICE.\n",
    "\n",
    "NOTE: You must run Silicon per m2 journal before running this one, as the calculations depend on grams of silicon per cell."
   ]
  },
  {
   "cell_type": "code",
   "execution_count": 2,
   "metadata": {},
   "outputs": [],
   "source": [
    "import numpy as np\n",
    "import pandas as pd\n",
    "import os,sys\n",
    "import matplotlib.pyplot as plt\n",
    "plt.rcParams.update({'font.size': 22})\n",
    "plt.rcParams['figure.figsize'] = (12, 8)"
   ]
  },
  {
   "cell_type": "code",
   "execution_count": 5,
   "metadata": {},
   "outputs": [],
   "source": [
    "#read in supporting csv files\n",
    "cwd = os.getcwd() #grabs current working directory\n",
    "si_g_percell = pd.read_csv(cwd+\"/../../PV_DEMICE/baselines/SupportingMaterial/si_g_per_cell.csv\", index_col='Year')\n",
    "kerf_loss_raw = pd.read_csv(cwd+\"/../../PV_DEMICE/baselines/SupportingMaterial/kerf_loss_microns.csv\", index_col='Year')\n",
    "utilize_gperwafer_raw = pd.read_csv(cwd+\"/../../PV_DEMICE/baselines/SupportingMaterial/utilization_g_perwafer.csv\", index_col='Year')\n",
    "wafer_thickness = pd.read_csv(cwd+\"/../../PV_DEMICE/baselines/SupportingMaterial/Wafer_thickness.csv\", index_col='Year')\n"
   ]
  },
  {
   "cell_type": "markdown",
   "metadata": {},
   "source": [
    "From the literature resources, we have data points that indicate a 50% input material waste for Silicon per cell prior to 2003. Therefore, we will assume a 50% manufacturing efficiency 1995 through 2003.\n",
    "\n",
    "There is a derth of data 2004 through 2009.\n",
    "\n",
    "As of 2010, ITRPV data provides kerf loss data, through 2017. This combined with wafer thickness, will be used as a proxy for mfg losses, combined with insights from the ITRPV \"polysilicon utilization\" data (which includes wafer thickness, kerf loss, crucible size, from squaring to cropping).\n",
    "\n",
    "Similarly, as of 2017, ITRPV provides data on \"polysilicon utilization\", which is expressed as a number of grams of silicon used to make a wafer, and proken down by mono-Si vs. mc-Si and diamond wire vs. slurry cut, and includes projections out to 2030. This data will be utilized for 2017 onward to calculate % manufacturing efficiency relative to the average cell mass calculated by \"Silicon g per m2\" OR shold we use on a 10g/cell basis that ITRPV uses??"
   ]
  },
  {
   "cell_type": "markdown",
   "metadata": {},
   "source": [
    "## 2010 through 2017"
   ]
  },
  {
   "cell_type": "markdown",
   "metadata": {},
   "source": [
    "mfg efficiency by kerf loss proxy is calculated by:\n",
    "            \n",
    "            [Wafer Thickness/(Wafer Thickness + Kerf Loss)] * 100 = % mfg efficiency (proxy)"
   ]
  },
  {
   "cell_type": "code",
   "execution_count": 14,
   "metadata": {},
   "outputs": [],
   "source": [
    "#There are missing data in wafer thickness, so we will interpolate linearly for missing years\n",
    "wafer_thick = wafer_thickness.interpolate(method='linear',axis=0)\n",
    "\n",
    "#Kerf loss also has missing data (projections), same linear interpolate\n",
    "kerf_loss = kerf_loss_raw.interpolate(method='linear',axis=0, limit_area='inside')\n",
    "\n",
    "#concat wafer thickness and kerf loss dfs together\n",
    "df_thick_kerf = pd.concat([wafer_thick,kerf_loss], axis=1) #concatinate on the columns axis\n",
    "\n",
    "#print(df_thick_kerf)"
   ]
  },
  {
   "cell_type": "markdown",
   "metadata": {},
   "source": [
    "Because slurry and diamond have significantly different kerf losses, we will keep these seperate for as long as possible before averaging."
   ]
  },
  {
   "cell_type": "code",
   "execution_count": 17,
   "metadata": {},
   "outputs": [
    {
     "name": "stdout",
     "output_type": "stream",
     "text": [
      "      wafer_thickness  slurry     diamond  slurry_eff  diamond_eff\n",
      "Year                                                              \n",
      "1990       400.000000     NaN         NaN         NaN          NaN\n",
      "1991       392.857143     NaN         NaN         NaN          NaN\n",
      "1992       385.714286     NaN         NaN         NaN          NaN\n",
      "1993       378.571429     NaN         NaN         NaN          NaN\n",
      "1994       371.428571     NaN         NaN         NaN          NaN\n",
      "1995       364.285714     NaN         NaN         NaN          NaN\n",
      "1996       357.142857     NaN         NaN         NaN          NaN\n",
      "1997       350.000000     NaN         NaN         NaN          NaN\n",
      "1998       342.857143     NaN         NaN         NaN          NaN\n",
      "1999       335.714286     NaN         NaN         NaN          NaN\n",
      "2000       328.571429     NaN         NaN         NaN          NaN\n",
      "2001       321.428571     NaN         NaN         NaN          NaN\n",
      "2002       314.285714     NaN         NaN         NaN          NaN\n",
      "2003       307.142857     NaN         NaN         NaN          NaN\n",
      "2004       300.000000     NaN         NaN         NaN          NaN\n",
      "2005       250.000000     NaN         NaN         NaN          NaN\n",
      "2006       200.000000     NaN         NaN         NaN          NaN\n",
      "2007       190.000000     NaN         NaN         NaN          NaN\n",
      "2008       180.000000     NaN         NaN         NaN          NaN\n",
      "2009       180.000000     NaN         NaN         NaN          NaN\n",
      "2010       180.000000   155.0         NaN    0.537313          NaN\n",
      "2011       180.000000   152.0  148.000000    0.542169     0.548780\n",
      "2012       180.000000   160.0  155.000000    0.529412     0.537313\n",
      "2013       180.000000   150.0  138.000000    0.545455     0.566038\n",
      "2014       180.000000   150.0  130.000000    0.545455     0.580645\n",
      "2015       180.000000   150.0  125.000000    0.545455     0.590164\n",
      "2016       180.000000   135.0  110.000000    0.571429     0.620690\n",
      "2017       180.000000   125.0   85.000000    0.590164     0.679245\n",
      "2018       176.408333     NaN   80.000000         NaN     0.687998\n",
      "2019       172.666667     NaN   75.000000         NaN     0.697174\n",
      "2020       163.183333     NaN   72.727273         NaN     0.691717\n",
      "2021       157.741667     NaN   70.454545         NaN     0.691255\n",
      "2022       152.300000     NaN   68.181818         NaN     0.690760\n",
      "2023       149.633333     NaN   65.909091         NaN     0.694218\n",
      "2024       146.966667     NaN   63.636364         NaN     0.697837\n",
      "2025       144.272778     NaN   61.363636         NaN     0.701592\n",
      "2026       141.578889     NaN   59.090909         NaN     0.705532\n",
      "2027       138.885000     NaN   56.818182         NaN     0.709672\n",
      "2028       137.573333     NaN   54.545455         NaN     0.716085\n",
      "2029       136.261667     NaN   52.272727         NaN     0.722742\n",
      "2030       134.950000     NaN   50.000000         NaN     0.729657\n"
     ]
    }
   ],
   "source": [
    "df_thick_kerf['slurry_eff'] = df_thick_kerf['wafer_thickness']/(df_thick_kerf['wafer_thickness']+df_thick_kerf['slurry'])\n",
    "df_thick_kerf['diamond_eff'] = df_thick_kerf['wafer_thickness']/(df_thick_kerf['wafer_thickness']+df_thick_kerf['diamond'])\n",
    "\n",
    "print(df_thick_kerf)"
   ]
  },
  {
   "cell_type": "markdown",
   "metadata": {},
   "source": [
    "## 2017 through 2030"
   ]
  },
  {
   "cell_type": "code",
   "execution_count": null,
   "metadata": {},
   "outputs": [],
   "source": []
  },
  {
   "cell_type": "markdown",
   "metadata": {},
   "source": [
    "## 1995 through 2003"
   ]
  },
  {
   "cell_type": "markdown",
   "metadata": {},
   "source": [
    "Here, as previously stated, we set 2003 and earlier years to 50% mfg efficiency"
   ]
  },
  {
   "cell_type": "code",
   "execution_count": null,
   "metadata": {},
   "outputs": [],
   "source": []
  },
  {
   "cell_type": "markdown",
   "metadata": {},
   "source": [
    "## 2004 through 2009"
   ]
  },
  {
   "cell_type": "markdown",
   "metadata": {},
   "source": [
    "Until better data is found for this time period, simple linear interpolation will be used."
   ]
  },
  {
   "cell_type": "code",
   "execution_count": null,
   "metadata": {},
   "outputs": [],
   "source": []
  }
 ],
 "metadata": {
  "kernelspec": {
   "display_name": "Python 3",
   "language": "python",
   "name": "python3"
  },
  "language_info": {
   "codemirror_mode": {
    "name": "ipython",
    "version": 3
   },
   "file_extension": ".py",
   "mimetype": "text/x-python",
   "name": "python",
   "nbconvert_exporter": "python",
   "pygments_lexer": "ipython3",
   "version": "3.7.6"
  }
 },
 "nbformat": 4,
 "nbformat_minor": 4
}
