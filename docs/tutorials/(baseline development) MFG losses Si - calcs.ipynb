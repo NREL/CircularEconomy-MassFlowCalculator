{
 "cells": [
  {
   "cell_type": "markdown",
   "metadata": {},
   "source": [
    "# Manufacturing Efficiency Estimation Calculations"
   ]
  },
  {
   "cell_type": "markdown",
   "metadata": {},
   "source": [
    "This notebook covers the calculations used to estimate the manufacturing efficiency of silicon for mono and mc Si modules. This data will be utilized in the baseline files for PV DEMICE.\n",
    "\n",
    "NOTE: You must run Silicon per m2 journal before running this one, as the calculations depend on grams of silicon per cell."
   ]
  },
  {
   "cell_type": "code",
   "execution_count": 1,
   "metadata": {},
   "outputs": [],
   "source": [
    "import numpy as np\n",
    "import pandas as pd\n",
    "import os,sys\n",
    "import matplotlib.pyplot as plt\n",
    "plt.rcParams.update({'font.size': 22})\n",
    "plt.rcParams['figure.figsize'] = (12, 8)"
   ]
  },
  {
   "cell_type": "code",
   "execution_count": 34,
   "metadata": {},
   "outputs": [],
   "source": [
    "#read in supporting csv files\n",
    "cwd = os.getcwd() #grabs current working directory\n",
    "si_g_percell = pd.read_csv(cwd+\"/../../PV_DEMICE/baselines/SupportingMaterial/si_g_per_cell.csv\", index_col='Year')\n",
    "kerf_loss_raw = pd.read_csv(cwd+\"/../../PV_DEMICE/baselines/SupportingMaterial/kerf_loss_microns.csv\", index_col='Year')\n",
    "utilize_gperwafer_raw = pd.read_csv(cwd+\"/../../PV_DEMICE/baselines/SupportingMaterial/utilization_g_perwafer.csv\", index_col='Year')\n",
    "wafer_thickness = pd.read_csv(cwd+\"/../../PV_DEMICE/baselines/SupportingMaterial/Wafer_thickness.csv\", index_col='Year')\n",
    "wafering_marketshare = pd.read_csv(cwd+\"/../../PV_DEMICE/baselines/SupportingMaterial/wafering_marketshare.csv\", index_col='Year')\n",
    "marketshare_mono_mc = pd.read_csv(cwd+\"/../../PV_DEMICE/baselines/SupportingMaterial/scaledmrktshr_mcSi_mono.csv\", index_col='Year')"
   ]
  },
  {
   "cell_type": "markdown",
   "metadata": {},
   "source": [
    "From the literature resources, we have data points that indicate a 50% input material waste for Silicon per cell prior to 2003. Therefore, we will assume a 50% manufacturing efficiency 1995 through 2003.\n",
    "\n",
    "There is a derth of data 2004 through 2009.\n",
    "\n",
    "As of 2010, ITRPV data provides kerf loss data, through 2017. This combined with wafer thickness, will be used as a proxy for mfg losses, combined with insights from the ITRPV \"polysilicon utilization\" data (which includes wafer thickness, kerf loss, crucible size, from squaring to cropping).\n",
    "\n",
    "Similarly, as of 2017, ITRPV provides data on \"polysilicon utilization\", which is expressed as a number of grams of silicon used to make a wafer, and proken down by mono-Si vs. mc-Si and diamond wire vs. slurry cut, and includes projections out to 2030. This data will be utilized for 2017 onward to calculate % manufacturing efficiency relative to the average cell mass calculated by \"Silicon g per m2\" OR shold we use on a 10g/cell basis that ITRPV uses??"
   ]
  },
  {
   "cell_type": "markdown",
   "metadata": {},
   "source": [
    "## 2010 through 2017"
   ]
  },
  {
   "cell_type": "markdown",
   "metadata": {},
   "source": [
    "mfg efficiency by kerf loss proxy is calculated by:\n",
    "            \n",
    "            [Wafer Thickness/(Wafer Thickness + Kerf Loss)] * 100 = % mfg efficiency (proxy)\n",
    "\n",
    "And the inverse or manufacturing inefficiency should be calculated by:\n",
    "\n",
    "            [(Wafer Thickness + Kerf Loss)/Wafer Thickness] * 100 = % mfg \"inefficeincy\""
   ]
  },
  {
   "cell_type": "code",
   "execution_count": 3,
   "metadata": {},
   "outputs": [],
   "source": [
    "#There are missing data in wafer thickness, so we will interpolate linearly for missing years\n",
    "wafer_thick = wafer_thickness.interpolate(method='linear',axis=0)\n",
    "\n",
    "#Kerf loss also has missing data (projections), same linear interpolate\n",
    "kerf_loss = kerf_loss_raw.interpolate(method='linear',axis=0, limit_area='inside')\n",
    "\n",
    "#concat wafer thickness and kerf loss dfs together\n",
    "df_thick_kerf = pd.concat([wafer_thick,kerf_loss], axis=1) #concatinate on the columns axis\n",
    "\n",
    "#print(df_thick_kerf)"
   ]
  },
  {
   "cell_type": "markdown",
   "metadata": {},
   "source": [
    "Because slurry and diamond have significantly different kerf losses, we will keep these seperate for as long as possible before averaging."
   ]
  },
  {
   "cell_type": "code",
   "execution_count": 19,
   "metadata": {},
   "outputs": [
    {
     "name": "stdout",
     "output_type": "stream",
     "text": [
      "      wafer_thickness  slurry     diamond  slurry_eff  diamond_eff  \\\n",
      "Year                                                                 \n",
      "1990       400.000000     NaN         NaN         NaN          NaN   \n",
      "1991       392.857143     NaN         NaN         NaN          NaN   \n",
      "1992       385.714286     NaN         NaN         NaN          NaN   \n",
      "1993       378.571429     NaN         NaN         NaN          NaN   \n",
      "1994       371.428571     NaN         NaN         NaN          NaN   \n",
      "1995       364.285714     NaN         NaN         NaN          NaN   \n",
      "1996       357.142857     NaN         NaN         NaN          NaN   \n",
      "1997       350.000000     NaN         NaN         NaN          NaN   \n",
      "1998       342.857143     NaN         NaN         NaN          NaN   \n",
      "1999       335.714286     NaN         NaN         NaN          NaN   \n",
      "2000       328.571429     NaN         NaN         NaN          NaN   \n",
      "2001       321.428571     NaN         NaN         NaN          NaN   \n",
      "2002       314.285714     NaN         NaN         NaN          NaN   \n",
      "2003       307.142857     NaN         NaN         NaN          NaN   \n",
      "2004       300.000000     NaN         NaN         NaN          NaN   \n",
      "2005       250.000000     NaN         NaN         NaN          NaN   \n",
      "2006       200.000000     NaN         NaN         NaN          NaN   \n",
      "2007       190.000000     NaN         NaN         NaN          NaN   \n",
      "2008       180.000000     NaN         NaN         NaN          NaN   \n",
      "2009       180.000000     NaN         NaN         NaN          NaN   \n",
      "2010       180.000000   155.0         NaN    0.537313          NaN   \n",
      "2011       180.000000   152.0  148.000000    0.542169     0.548780   \n",
      "2012       180.000000   160.0  155.000000    0.529412     0.537313   \n",
      "2013       180.000000   150.0  138.000000    0.545455     0.566038   \n",
      "2014       180.000000   150.0  130.000000    0.545455     0.580645   \n",
      "2015       180.000000   150.0  125.000000    0.545455     0.590164   \n",
      "2016       180.000000   135.0  110.000000    0.571429     0.620690   \n",
      "2017       180.000000   125.0   85.000000    0.590164     0.679245   \n",
      "2018       176.408333     NaN   80.000000         NaN     0.687998   \n",
      "2019       172.666667     NaN   75.000000         NaN     0.697174   \n",
      "2020       163.183333     NaN   72.727273         NaN     0.691717   \n",
      "2021       157.741667     NaN   70.454545         NaN     0.691255   \n",
      "2022       152.300000     NaN   68.181818         NaN     0.690760   \n",
      "2023       149.633333     NaN   65.909091         NaN     0.694218   \n",
      "2024       146.966667     NaN   63.636364         NaN     0.697837   \n",
      "2025       144.272778     NaN   61.363636         NaN     0.701592   \n",
      "2026       141.578889     NaN   59.090909         NaN     0.705532   \n",
      "2027       138.885000     NaN   56.818182         NaN     0.709672   \n",
      "2028       137.573333     NaN   54.545455         NaN     0.716085   \n",
      "2029       136.261667     NaN   52.272727         NaN     0.722742   \n",
      "2030       134.950000     NaN   50.000000         NaN     0.729657   \n",
      "\n",
      "      slurry_ineff  diamond_ineff  \n",
      "Year                               \n",
      "1990           NaN            NaN  \n",
      "1991           NaN            NaN  \n",
      "1992           NaN            NaN  \n",
      "1993           NaN            NaN  \n",
      "1994           NaN            NaN  \n",
      "1995           NaN            NaN  \n",
      "1996           NaN            NaN  \n",
      "1997           NaN            NaN  \n",
      "1998           NaN            NaN  \n",
      "1999           NaN            NaN  \n",
      "2000           NaN            NaN  \n",
      "2001           NaN            NaN  \n",
      "2002           NaN            NaN  \n",
      "2003           NaN            NaN  \n",
      "2004           NaN            NaN  \n",
      "2005           NaN            NaN  \n",
      "2006           NaN            NaN  \n",
      "2007           NaN            NaN  \n",
      "2008           NaN            NaN  \n",
      "2009           NaN            NaN  \n",
      "2010      1.861111            NaN  \n",
      "2011      1.844444       1.822222  \n",
      "2012      1.888889       1.861111  \n",
      "2013      1.833333       1.766667  \n",
      "2014      1.833333       1.722222  \n",
      "2015      1.833333       1.694444  \n",
      "2016      1.750000       1.611111  \n",
      "2017      1.694444       1.472222  \n",
      "2018           NaN       1.453493  \n",
      "2019           NaN       1.434363  \n",
      "2020           NaN       1.445678  \n",
      "2021           NaN       1.446645  \n",
      "2022           NaN       1.447681  \n",
      "2023           NaN       1.440471  \n",
      "2024           NaN       1.432999  \n",
      "2025           NaN       1.425331  \n",
      "2026           NaN       1.417371  \n",
      "2027           NaN       1.409102  \n",
      "2028           NaN       1.396483  \n",
      "2029           NaN       1.383620  \n",
      "2030           NaN       1.370508  \n"
     ]
    }
   ],
   "source": [
    "df_thick_kerf['slurry_eff'] = df_thick_kerf['wafer_thickness']/(df_thick_kerf['wafer_thickness']+df_thick_kerf['slurry'])\n",
    "df_thick_kerf['diamond_eff'] = df_thick_kerf['wafer_thickness']/(df_thick_kerf['wafer_thickness']+df_thick_kerf['diamond'])\n",
    "#for maths, create the \"inefficiency\" percentage by slurry and diamond\n",
    "#i.e. this is how much extra material needed to be put in to get out a single wafer unit\n",
    "df_thick_kerf['slurry_ineff'] = (df_thick_kerf['wafer_thickness']+df_thick_kerf['slurry'])/df_thick_kerf['wafer_thickness']\n",
    "df_thick_kerf['diamond_ineff'] = (df_thick_kerf['wafer_thickness']+df_thick_kerf['diamond'])/df_thick_kerf['wafer_thickness']\n",
    "print(df_thick_kerf)"
   ]
  },
  {
   "cell_type": "markdown",
   "metadata": {},
   "source": [
    "### 2017 check - compare kerf loss calc to ITRPV \"utilization\""
   ]
  },
  {
   "cell_type": "markdown",
   "metadata": {},
   "source": [
    "As a reality check, and because we have data for 2017 of both kerf loss and \"utilization\", we can check how good a proxy kerf loss is for utilization of input material."
   ]
  },
  {
   "cell_type": "code",
   "execution_count": 7,
   "metadata": {
    "scrolled": true
   },
   "outputs": [
    {
     "name": "stdout",
     "output_type": "stream",
     "text": [
      "                Slurry    Diamond\n",
      "Calculated   17.414214  15.130383\n",
      "ITRPV_mc-Si  19.500000  16.750000\n",
      "ITRPV_mono   18.750000  15.700000\n"
     ]
    }
   ],
   "source": [
    "#Multiply the proxy mfg efficiency by the averaged g/cell of silicon (as calculated by \"Silicon per m2\")\n",
    "check2017_slurry = (si_g_percell['Si_gpercell'][2017])*(df_thick_kerf['slurry_ineff'][2017])\n",
    "check2017_diamond = (si_g_percell['Si_gpercell'][2017])*(df_thick_kerf['diamond_ineff'][2017])\n",
    "\n",
    "#Compare in a printed out table\n",
    "data = {'Slurry':[check2017_slurry,utilize_gperwafer_raw['mc-Si-slurry'][2017],utilize_gperwafer_raw['mono-Si-slurry'][2017]],\n",
    "        'Diamond':[check2017_diamond,utilize_gperwafer_raw['mc-Si-diamond'][2017],utilize_gperwafer_raw['Mono-Si-diamond'][2017]]}\n",
    "gperwafer_compare = pd.DataFrame(data, index= ['Calculated','ITRPV_mc-Si','ITRPV_mono'])\n",
    "\n",
    "print(gperwafer_compare)"
   ]
  },
  {
   "cell_type": "markdown",
   "metadata": {},
   "source": [
    "The calculated values based on just kerf loss are lower than ITRPV findings. This is unsurprising, since the ITRPV polysilicon utilization includes more than just kerf losses. We will compute the differences, and use this as a factor to add to all calculated values based on kerf loss alone."
   ]
  },
  {
   "cell_type": "code",
   "execution_count": 18,
   "metadata": {},
   "outputs": [
    {
     "name": "stdout",
     "output_type": "stream",
     "text": [
      "               Slurry   Diamond\n",
      "Calculated   0.000000  0.000000\n",
      "ITRPV_mc-Si  2.085786  1.619617\n",
      "ITRPV_mono   1.335786  0.569617\n"
     ]
    }
   ],
   "source": [
    "#gperwafer_compared = gperwafer_compare.append(gperwafer_compare.diff()) \n",
    "    #diff compares to a prior or later row always relative to current index\n",
    "calcd = gperwafer_compare.loc['Calculated']\n",
    "gperwafer_factors = gperwafer_compare.sub(calcd)\n",
    "print(gperwafer_factors)\n"
   ]
  },
  {
   "cell_type": "markdown",
   "metadata": {},
   "source": [
    "Now we will add these factors in and create a section of the final MFG losses (2010-2017)."
   ]
  },
  {
   "cell_type": "code",
   "execution_count": 46,
   "metadata": {},
   "outputs": [
    {
     "name": "stdout",
     "output_type": "stream",
     "text": [
      "      slurry_mcSi  slurry_mono  diamond_mcSi  diamond_mono\n",
      "Year                                                      \n",
      "1990          NaN          NaN           NaN           NaN\n",
      "1991          NaN          NaN           NaN           NaN\n",
      "1992          NaN          NaN           NaN           NaN\n",
      "1993          NaN          NaN           NaN           NaN\n",
      "1994          NaN          NaN           NaN           NaN\n",
      "1995          NaN          NaN           NaN           NaN\n",
      "1996          NaN          NaN           NaN           NaN\n",
      "1997          NaN          NaN           NaN           NaN\n",
      "1998          NaN          NaN           NaN           NaN\n",
      "1999          NaN          NaN           NaN           NaN\n",
      "2000          NaN          NaN           NaN           NaN\n",
      "2001          NaN          NaN           NaN           NaN\n",
      "2002          NaN          NaN           NaN           NaN\n",
      "2003          NaN          NaN           NaN           NaN\n",
      "2004          NaN          NaN           NaN           NaN\n",
      "2005          NaN          NaN           NaN           NaN\n",
      "2006          NaN          NaN           NaN           NaN\n",
      "2007          NaN          NaN           NaN           NaN\n",
      "2008          NaN          NaN           NaN           NaN\n",
      "2009          NaN          NaN           NaN           NaN\n",
      "2010    21.073098    20.323098           NaN           NaN\n",
      "2011    20.903063    20.153063     20.210180     19.160180\n",
      "2012    21.356491    20.606491     20.606930     19.556930\n",
      "2013    20.789705    20.039705     19.643394     18.593394\n",
      "2014    20.789705    20.039705     19.189966     18.139966\n",
      "2015    20.789705    20.039705     18.906573     17.856573\n",
      "2016    19.980383    19.230383     18.094008     17.044008\n",
      "2017    19.500000    18.750000     16.750000     15.700000\n",
      "2018          NaN          NaN     16.296870     15.246870\n",
      "2019          NaN          NaN     15.945051     14.895051\n",
      "2020          NaN          NaN     15.680418     14.630418\n",
      "2021          NaN          NaN     15.378441     14.328441\n",
      "2022          NaN          NaN     15.064541     14.014541\n",
      "2023          NaN          NaN     14.780591     13.730591\n",
      "2024          NaN          NaN     14.551834     13.501834\n",
      "2025          NaN          NaN     14.426411     13.376411\n",
      "2026          NaN          NaN     14.270629     13.220629\n",
      "2027          NaN          NaN     14.085691     13.035691\n",
      "2028          NaN          NaN     13.875680     12.825680\n",
      "2029          NaN          NaN     13.665097     12.615097\n",
      "2030          NaN          NaN     13.453935     12.403935\n"
     ]
    }
   ],
   "source": [
    "#Multiply the proxy mfg inefficiency by the averaged g/cell of silicon (as calculated by \"Silicon per m2\")\n",
    "#and add the 2017 computed factors, keeping mono and mc-Si separate.\n",
    "slurry_mcSi_gpw = (si_g_percell['Si_gpercell']*df_thick_kerf['slurry_ineff'])+ gperwafer_factors['Slurry']['ITRPV_mc-Si']\n",
    "slurry_mono_gpw = (si_g_percell['Si_gpercell']*df_thick_kerf['slurry_ineff'])+ gperwafer_factors['Slurry']['ITRPV_mono']\n",
    "diamond_mcSi_gpw = (si_g_percell['Si_gpercell']*df_thick_kerf['diamond_ineff'])+ gperwafer_factors['Diamond']['ITRPV_mc-Si']\n",
    "diamond_mono_gpw = (si_g_percell['Si_gpercell']*df_thick_kerf['diamond_ineff'])+ gperwafer_factors['Diamond']['ITRPV_mono']\n",
    "mfg_losses_bytype = pd.concat([slurry_mcSi_gpw, slurry_mono_gpw, diamond_mcSi_gpw, diamond_mono_gpw], axis=1)\n",
    "mfg_losses_bytype.columns = ['slurry_mcSi','slurry_mono','diamond_mcSi','diamond_mono']\n",
    "print(mfg_losses_bytype)\n"
   ]
  },
  {
   "cell_type": "markdown",
   "metadata": {},
   "source": [
    "Because the market shares of slurry + diamond sum to 1 for each mono and mcSi, we will first weight (multiply and sum) the grams per wafer by technology. i.e. slurry_mcSi and diamond_mcSi will be combined."
   ]
  },
  {
   "cell_type": "code",
   "execution_count": 62,
   "metadata": {},
   "outputs": [
    {
     "data": {
      "text/plain": [
       "[<matplotlib.lines.Line2D at 0x200132e6108>,\n",
       " <matplotlib.lines.Line2D at 0x200132e6388>]"
      ]
     },
     "execution_count": 62,
     "metadata": {},
     "output_type": "execute_result"
    },
    {
     "data": {
      "image/png": "[encoded data removed]",
      "text/plain": [
       "<Figure size 864x576 with 1 Axes>"
      ]
     },
     "metadata": {
      "needs_background": "light"
     },
     "output_type": "display_data"
    }
   ],
   "source": [
    "#Now weight the data by marketshare of type of cut\n",
    "#Convert wafering marketshares to percentages for multiplication, and interpolate for the missing year\n",
    "wafering_mrktshr = wafering_marketshare/100\n",
    "wafering_mrktshr = wafering_mrktshr.interpolate(method='linear',axis=0, limit_area='inside')\n",
    "#print(wafering_mrktshr)\n",
    "\n",
    "#set column names identical for multiplying\n",
    "mfg_losses_bytype.columns = wafering_mrktshr.columns = mfg_losses_bytype.keys()\n",
    "mfg_losses_wtd = wafering_mrktshr.mul(mfg_losses_bytype, 'columns')\n",
    "\n",
    "#combine by tech type (mono vs. mc-Si)\n",
    "mfg_losses_wtd_mcSi = mfg_losses_wtd.filter(regex = 'mcSi')\n",
    "mfg_losses_mcSi = pd.DataFrame(mfg_losses_wtd_mcSi.agg(\"sum\", axis=\"columns\"))\n",
    "mfg_losses_mcSi.columns = ['mcSi_gpw']\n",
    "\n",
    "mfg_losses_wtd_mono = mfg_losses_wtd.filter(regex = 'mono')\n",
    "mfg_losses_mono = pd.DataFrame(mfg_losses_wtd_mono.agg(\"sum\", axis=\"columns\"))\n",
    "mfg_losses_mono.columns = ['mono_gpw']\n",
    "\n",
    "#combine into a single dataframe\n",
    "gpw_cutwtd = pd.concat([mfg_losses_mono,mfg_losses_mcSi], axis=1)\n",
    "gpw_cutwtd.columns = ['monoSi', 'mcSi']\n",
    "plt.plot(gpw_cutwtd)\n",
    "#print(gpw_cutwtd)"
   ]
  },
  {
   "cell_type": "markdown",
   "metadata": {},
   "source": [
    "Now that we have a grams per wafer based on cut type for each PV tech type (mono vs mcSi), we will weight these data by the marketshare of installed PV type, creating an average module for the year."
   ]
  },
  {
   "cell_type": "code",
   "execution_count": 88,
   "metadata": {},
   "outputs": [
    {
     "data": {
      "text/plain": [
       "Text(0, 0.5, 'Grams of Silicon per cell')"
      ]
     },
     "execution_count": 88,
     "metadata": {},
     "output_type": "execute_result"
    },
    {
     "data": {
      "image/png": "[encoded data removed]",
      "text/plain": [
       "<Figure size 864x576 with 1 Axes>"
      ]
     },
     "metadata": {
      "needs_background": "light"
     },
     "output_type": "display_data"
    }
   ],
   "source": [
    "#Now weight by marketshare of mcSi vs Mono Si installed/made, as based on the silicon per m2 journal\n",
    "#CAUTION: This is a lot of market weighting and averaging - may obsecure original data\n",
    "gpw = gpw_cutwtd.mul(marketshare_mono_mc, 'columns')\n",
    "gpw_avg = pd.DataFrame(gpw.agg(\"sum\", axis=\"columns\"))\n",
    "gpw_avg.columns = ['avg_g_per_wafer']\n",
    "\n",
    "#slice the dataframe for the relevant years and plot\n",
    "gpw_avg_2010_2017 = gpw_avg.loc[(gpw_avg.index>=2010) & (gpw_avg.index<=2017)]\n",
    "plt.plot(gpw_avg_2010_2017)\n",
    "plt.title('Weighted Average grams of Si to make a Cell')\n",
    "plt.ylabel('Grams of Silicon per cell')\n",
    "#print(gpw_avg_2010_2017)"
   ]
  },
  {
   "cell_type": "markdown",
   "metadata": {},
   "source": [
    "## 2017 through 2030"
   ]
  },
  {
   "cell_type": "code",
   "execution_count": null,
   "metadata": {},
   "outputs": [],
   "source": []
  },
  {
   "cell_type": "markdown",
   "metadata": {},
   "source": [
    "## 1995 through 2003"
   ]
  },
  {
   "cell_type": "markdown",
   "metadata": {},
   "source": [
    "Here, as previously stated, we set 2003 and earlier years to 50% mfg efficiency"
   ]
  },
  {
   "cell_type": "code",
   "execution_count": null,
   "metadata": {},
   "outputs": [],
   "source": []
  },
  {
   "cell_type": "markdown",
   "metadata": {},
   "source": [
    "## 2004 through 2009"
   ]
  },
  {
   "cell_type": "markdown",
   "metadata": {},
   "source": [
    "Until better data is found for this time period, simple linear interpolation will be used."
   ]
  },
  {
   "cell_type": "code",
   "execution_count": null,
   "metadata": {},
   "outputs": [],
   "source": []
  }
 ],
 "metadata": {
  "kernelspec": {
   "display_name": "Python 3",
   "language": "python",
   "name": "python3"
  },
  "language_info": {
   "codemirror_mode": {
    "name": "ipython",
    "version": 3
   },
   "file_extension": ".py",
   "mimetype": "text/x-python",
   "name": "python",
   "nbconvert_exporter": "python",
   "pygments_lexer": "ipython3",
   "version": "3.7.6"
  }
 },
 "nbformat": 4,
 "nbformat_minor": 4
}
