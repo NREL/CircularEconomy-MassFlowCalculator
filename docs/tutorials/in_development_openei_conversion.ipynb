{
 "cells": [
  {
   "cell_type": "markdown",
   "id": "88c86ceb",
   "metadata": {},
   "source": [
    "# Converting output files from \"11c - Electric Futures Simulations BIFACIAL (PVSC) CLEANUP\" \n",
    "## into OpenEi format for the various graphs shown on the PVSC PVICE wiki page"
   ]
  },
  {
   "cell_type": "code",
   "execution_count": 1,
   "id": "4ad4c23e",
   "metadata": {},
   "outputs": [],
   "source": [
    "import PV_ICE\n",
    "import numpy as np\n",
    "import pandas as pd\n",
    "import os,sys\n",
    "from pathlib import Path"
   ]
  },
  {
   "cell_type": "code",
   "execution_count": 4,
   "id": "22b75849",
   "metadata": {},
   "outputs": [
    {
     "name": "stdout",
     "output_type": "stream",
     "text": [
      "Your simulation will be stored in C:\\Users\\ahegedus\\Documents\\GitHub\\PV_ICE\\PV_ICE\\TEMP\n",
      "C:\\Users\\ahegedus\\Documents\\GitHub\\PV_ICE\\PV_ICE\\baselines\n"
     ]
    }
   ],
   "source": [
    "testfolder = str(Path().resolve().parent.parent /'PV_ICE' / 'TEMP')\n",
    "baselinesfolder =  str(Path().resolve().parent.parent /'PV_ICE' / 'baselines')\n",
    "# Another option using relative address; for some operative systems you might need '/' instead of '\\'\n",
    "# testfolder = os.path.abspath(r'..\\..\\PV_ICE\\TEMP')  \n",
    "\n",
    "print (\"Your simulation will be stored in %s\" % testfolder)\n",
    "print(baselinesfolder)"
   ]
  },
  {
   "cell_type": "code",
   "execution_count": 6,
   "id": "8dda5270",
   "metadata": {},
   "outputs": [],
   "source": [
    "yearly_results = pd.read_csv(r'C:\\Users\\ahegedus\\Documents\\Open EI Data\\PVSC PVICE Python Data Files to Convert to Open EI\\Yearly_Results.csv')"
   ]
  },
  {
   "cell_type": "markdown",
   "id": "12a9fab4",
   "metadata": {},
   "source": [
    "## Create \"PVSC_Yearly, with Source Comparison, Materials Summed.csv\""
   ]
  },
  {
   "cell_type": "code",
   "execution_count": 41,
   "id": "93c44f29",
   "metadata": {},
   "outputs": [],
   "source": [
    "yearly_source_comparison = pd.DataFrame()"
   ]
  },
  {
   "cell_type": "code",
   "execution_count": 42,
   "id": "7dc35ec6",
   "metadata": {},
   "outputs": [],
   "source": [
    "scenario_col = [\"Today\"]*(2050-1994)+[\"Bifacial Projection\"]*(2050-1994)\n",
    "yearly_source_comparison['@scenario'] = scenario_col"
   ]
  },
  {
   "cell_type": "code",
   "execution_count": 43,
   "id": "955f27d5",
   "metadata": {},
   "outputs": [],
   "source": [
    "yearly_source_comparison['@timeseries|Year'] = list(yearly_results['year'])*2"
   ]
  },
  {
   "cell_type": "code",
   "execution_count": 69,
   "id": "a72f1765",
   "metadata": {},
   "outputs": [],
   "source": [
    "virgin_material_demand_PVICE_bireduced = yearly_results['VirginStock_glass_Bifacial_ReducedInstalls'] + yearly_results['VirginStock_aluminium_frames_Bifacial_ReducedInstalls'] + yearly_results['VirginStock_silver_Bifacial_ReducedInstalls'] + yearly_results['VirginStock_silicon_Bifacial_ReducedInstalls'] + yearly_results['VirginStock_copper_Bifacial_ReducedInstalls']\n",
    "yearly_source_comparison['@value|TotalVirginMaterialDemand|PV ICE Bifacial Reduced Installs#MetricTonnes'] = [\"NA\"]*(2050-1994) + list(virgin_material_demand_PVICE_bireduced.values)\n",
    "\n",
    "virgin_material_demand_PVICE_bi = yearly_results['VirginStock_glass_Bifacial_SameInstalls'] + yearly_results['VirginStock_aluminium_frames_Bifacial_SameInstalls'] + yearly_results['VirginStock_silver_Bifacial_SameInstalls'] + yearly_results['VirginStock_silicon_Bifacial_SameInstalls'] + yearly_results['VirginStock_copper_Bifacial_SameInstalls']\n",
    "yearly_source_comparison['@value|TotalVirginMaterialDemand|PV ICE Bifacial#MetricTonnes'] = [\"NA\"]*(2050-1994) + list(virgin_material_demand_PVICE_bi.values)"
   ]
  },
  {
   "cell_type": "code",
   "execution_count": 70,
   "id": "0dee1b42",
   "metadata": {},
   "outputs": [
    {
     "data": {
      "text/html": [
       "<div>\n",
       "<style scoped>\n",
       "    .dataframe tbody tr th:only-of-type {\n",
       "        vertical-align: middle;\n",
       "    }\n",
       "\n",
       "    .dataframe tbody tr th {\n",
       "        vertical-align: top;\n",
       "    }\n",
       "\n",
       "    .dataframe thead th {\n",
       "        text-align: right;\n",
       "    }\n",
       "</style>\n",
       "<table border=\"1\" class=\"dataframe\">\n",
       "  <thead>\n",
       "    <tr style=\"text-align: right;\">\n",
       "      <th></th>\n",
       "      <th>@scenario</th>\n",
       "      <th>@timeseries|Year</th>\n",
       "      <th>@value|TotalVirginMaterialDemand|PV ICE Bifacial Reduced Installs#MetricTonnes</th>\n",
       "      <th>@value|TotalVirginMaterialDemand|PV ICE Bifacial#MetricTonnes</th>\n",
       "    </tr>\n",
       "  </thead>\n",
       "  <tbody>\n",
       "    <tr>\n",
       "      <th>0</th>\n",
       "      <td>Today</td>\n",
       "      <td>1995</td>\n",
       "      <td>NA</td>\n",
       "      <td>NA</td>\n",
       "    </tr>\n",
       "    <tr>\n",
       "      <th>1</th>\n",
       "      <td>Today</td>\n",
       "      <td>1996</td>\n",
       "      <td>NA</td>\n",
       "      <td>NA</td>\n",
       "    </tr>\n",
       "    <tr>\n",
       "      <th>2</th>\n",
       "      <td>Today</td>\n",
       "      <td>1997</td>\n",
       "      <td>NA</td>\n",
       "      <td>NA</td>\n",
       "    </tr>\n",
       "    <tr>\n",
       "      <th>3</th>\n",
       "      <td>Today</td>\n",
       "      <td>1998</td>\n",
       "      <td>NA</td>\n",
       "      <td>NA</td>\n",
       "    </tr>\n",
       "    <tr>\n",
       "      <th>4</th>\n",
       "      <td>Today</td>\n",
       "      <td>1999</td>\n",
       "      <td>NA</td>\n",
       "      <td>NA</td>\n",
       "    </tr>\n",
       "    <tr>\n",
       "      <th>...</th>\n",
       "      <td>...</td>\n",
       "      <td>...</td>\n",
       "      <td>...</td>\n",
       "      <td>...</td>\n",
       "    </tr>\n",
       "    <tr>\n",
       "      <th>107</th>\n",
       "      <td>Bifacial Projection</td>\n",
       "      <td>2046</td>\n",
       "      <td>1471409.478047</td>\n",
       "      <td>1538384.821495</td>\n",
       "    </tr>\n",
       "    <tr>\n",
       "      <th>108</th>\n",
       "      <td>Bifacial Projection</td>\n",
       "      <td>2047</td>\n",
       "      <td>2012746.985512</td>\n",
       "      <td>2104344.824743</td>\n",
       "    </tr>\n",
       "    <tr>\n",
       "      <th>109</th>\n",
       "      <td>Bifacial Projection</td>\n",
       "      <td>2048</td>\n",
       "      <td>2007322.608043</td>\n",
       "      <td>2098675.513256</td>\n",
       "    </tr>\n",
       "    <tr>\n",
       "      <th>110</th>\n",
       "      <td>Bifacial Projection</td>\n",
       "      <td>2049</td>\n",
       "      <td>2820373.290699</td>\n",
       "      <td>2948715.064627</td>\n",
       "    </tr>\n",
       "    <tr>\n",
       "      <th>111</th>\n",
       "      <td>Bifacial Projection</td>\n",
       "      <td>2050</td>\n",
       "      <td>2813249.296389</td>\n",
       "      <td>2941271.22483</td>\n",
       "    </tr>\n",
       "  </tbody>\n",
       "</table>\n",
       "<p>112 rows × 4 columns</p>\n",
       "</div>"
      ],
      "text/plain": [
       "               @scenario  @timeseries|Year  \\\n",
       "0                  Today              1995   \n",
       "1                  Today              1996   \n",
       "2                  Today              1997   \n",
       "3                  Today              1998   \n",
       "4                  Today              1999   \n",
       "..                   ...               ...   \n",
       "107  Bifacial Projection              2046   \n",
       "108  Bifacial Projection              2047   \n",
       "109  Bifacial Projection              2048   \n",
       "110  Bifacial Projection              2049   \n",
       "111  Bifacial Projection              2050   \n",
       "\n",
       "    @value|TotalVirginMaterialDemand|PV ICE Bifacial Reduced Installs#MetricTonnes  \\\n",
       "0                                                   NA                               \n",
       "1                                                   NA                               \n",
       "2                                                   NA                               \n",
       "3                                                   NA                               \n",
       "4                                                   NA                               \n",
       "..                                                 ...                               \n",
       "107                                     1471409.478047                               \n",
       "108                                     2012746.985512                               \n",
       "109                                     2007322.608043                               \n",
       "110                                     2820373.290699                               \n",
       "111                                     2813249.296389                               \n",
       "\n",
       "    @value|TotalVirginMaterialDemand|PV ICE Bifacial#MetricTonnes  \n",
       "0                                                   NA             \n",
       "1                                                   NA             \n",
       "2                                                   NA             \n",
       "3                                                   NA             \n",
       "4                                                   NA             \n",
       "..                                                 ...             \n",
       "107                                     1538384.821495             \n",
       "108                                     2104344.824743             \n",
       "109                                     2098675.513256             \n",
       "110                                     2948715.064627             \n",
       "111                                      2941271.22483             \n",
       "\n",
       "[112 rows x 4 columns]"
      ]
     },
     "execution_count": 70,
     "metadata": {},
     "output_type": "execute_result"
    }
   ],
   "source": [
    "yearly_source_comparison"
   ]
  },
  {
   "cell_type": "code",
   "execution_count": null,
   "id": "52162bea",
   "metadata": {},
   "outputs": [],
   "source": [
    "#WRITE A LOOP"
   ]
  }
 ],
 "metadata": {
  "kernelspec": {
   "display_name": "Python 3",
   "language": "python",
   "name": "python3"
  },
  "language_info": {
   "codemirror_mode": {
    "name": "ipython",
    "version": 3
   },
   "file_extension": ".py",
   "mimetype": "text/x-python",
   "name": "python",
   "nbconvert_exporter": "python",
   "pygments_lexer": "ipython3",
   "version": "3.8.8"
  }
 },
 "nbformat": 4,
 "nbformat_minor": 5
}
