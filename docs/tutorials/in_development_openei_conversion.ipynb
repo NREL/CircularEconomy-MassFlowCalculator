{
 "cells": [
  {
   "cell_type": "markdown",
   "metadata": {},
   "source": [
    "# Converting output files from \"11c - Electric Futures Simulations BIFACIAL (PVSC) CLEANUP\" \n",
    "## into OpenEi format for the various graphs shown on the PVSC PVICE wiki page"
   ]
  },
  {
   "cell_type": "code",
   "execution_count": 1,
   "metadata": {},
   "outputs": [],
   "source": [
    "import PV_ICE\n",
    "import numpy as np\n",
    "import pandas as pd\n",
    "import os,sys\n",
    "from pathlib import Path"
   ]
  },
  {
   "cell_type": "code",
   "execution_count": 4,
   "metadata": {},
   "outputs": [
    {
     "name": "stdout",
     "output_type": "stream",
     "text": [
      "Your simulation will be stored in C:\\Users\\ahegedus\\Documents\\GitHub\\PV_ICE\\PV_ICE\\TEMP\n",
      "C:\\Users\\ahegedus\\Documents\\GitHub\\PV_ICE\\PV_ICE\\baselines\n"
     ]
    }
   ],
   "source": [
    "testfolder = str(Path().resolve().parent.parent /'PV_ICE' / 'TEMP')\n",
    "baselinesfolder =  str(Path().resolve().parent.parent /'PV_ICE' / 'baselines')\n",
    "# Another option using relative address; for some operative systems you might need '/' instead of '\\'\n",
    "# testfolder = os.path.abspath(r'..\\..\\PV_ICE\\TEMP')  \n",
    "\n",
    "print (\"Your simulation will be stored in %s\" % testfolder)\n",
    "print(baselinesfolder)"
   ]
  },
  {
   "cell_type": "code",
   "execution_count": 6,
   "metadata": {},
   "outputs": [],
   "source": [
    "yearly_results = pd.read_csv(r'C:\\Users\\ahegedus\\Documents\\Open EI Data\\PVSC PVICE Python Data Files to Convert to Open EI\\Yearly_Results.csv')"
   ]
  },
  {
   "cell_type": "markdown",
   "metadata": {},
   "source": [
    "## Create \"PVSC_Yearly, with Source Comparison, Materials Summed.csv\""
   ]
  },
  {
   "cell_type": "code",
   "execution_count": 41,
   "metadata": {},
   "outputs": [],
   "source": [
    "yearly_source_comparison = pd.DataFrame()"
   ]
  },
  {
   "cell_type": "code",
   "execution_count": 42,
   "metadata": {},
   "outputs": [],
   "source": [
    "scenario_col = [\"Today\"]*(2050-1994)+[\"Bifacial Projection\"]*(2050-1994)\n",
    "yearly_source_comparison['@scenario'] = scenario_col"
   ]
  },
  {
   "cell_type": "code",
   "execution_count": 43,
   "metadata": {},
   "outputs": [],
   "source": [
    "yearly_source_comparison['@timeseries|Year'] = list(yearly_results['year'])*2"
   ]
  },
  {
   "cell_type": "code",
   "execution_count": 69,
   "metadata": {},
   "outputs": [],
   "source": [
    "virgin_material_demand_PVICE_bireduced = yearly_results['VirginStock_glass_Bifacial_ReducedInstalls'] + yearly_results['VirginStock_aluminium_frames_Bifacial_ReducedInstalls'] + yearly_results['VirginStock_silver_Bifacial_ReducedInstalls'] + yearly_results['VirginStock_silicon_Bifacial_ReducedInstalls'] + yearly_results['VirginStock_copper_Bifacial_ReducedInstalls']\n",
    "yearly_source_comparison['@value|TotalVirginMaterialDemand|PV ICE Bifacial Reduced Installs#MetricTonnes'] = [\"NA\"]*(2050-1994) + list(virgin_material_demand_PVICE_bireduced.values)"
   ]
  },
  {
   "cell_type": "code",
   "execution_count": null,
   "metadata": {},
   "outputs": [],
   "source": [
    "virgin_material_demand_PVICE_bi = yearly_results['VirginStock_glass_Bifacial_SameInstalls'] + yearly_results['VirginStock_aluminium_frames_Bifacial_SameInstalls'] + yearly_results['VirginStock_silver_Bifacial_SameInstalls'] + yearly_results['VirginStock_silicon_Bifacial_SameInstalls'] + yearly_results['VirginStock_copper_Bifacial_SameInstalls']\n",
    "yearly_source_comparison['@value|TotalVirginMaterialDemand|PV ICE Bifacial#MetricTonnes'] = [\"NA\"]*(2050-1994) + list(virgin_material_demand_PVICE_bi.values)"
   ]
  },
  {
   "cell_type": "code",
   "execution_count": 71,
   "metadata": {},
   "outputs": [],
   "source": [
    "virgin_material_demand_PVICE_today = yearly_results['VirginStock_glass_PV_ICE_Today'] + yearly_results['VirginStock_aluminium_frames_PV_ICE_Today'] + yearly_results['VirginStock_silver_PV_ICE_Today'] + yearly_results['VirginStock_silicon_PV_ICE_Today'] + yearly_results['VirginStock_copper_PV_ICE_Today']\n",
    "virgin_material_demand_PVICE_bifacialproj = yearly_results['VirginStock_glass_PV_ICE_Bifacial'] + yearly_results['VirginStock_aluminium_frames_PV_ICE_Bifacial'] + yearly_results['VirginStock_silver_PV_ICE_Bifacial'] + yearly_results['VirginStock_silicon_PV_ICE_Bifacial'] + yearly_results['VirginStock_copper_PV_ICE_Bifacial']\n",
    "yearly_source_comparison['@value|TotalVirginMaterialDemand|PV ICE#MetricTonnes'] = list(virgin_material_demand_PVICE_today.values) + list(virgin_material_demand_PVICE_bifacialproj.values)"
   ]
  },
  {
   "cell_type": "code",
   "execution_count": 73,
   "metadata": {},
   "outputs": [],
   "source": [
    "lit_sources = [\"PV_ICE\",\"Irena_EL\",\"Irena_RL\"]\n",
    "pretty_sources = ['PV ICE','Irena EL','Irena RL']\n",
    "#virign material demand cols for lit_sources\n",
    "for source in lit_sources:\n",
    "    virgin_material_demand_today = yearly_results['VirginStock_glass_' + source + '_Today'] + yearly_results['VirginStock_aluminium_frames_' + source + '_Today'] + yearly_results['VirginStock_silver_' + source + '_Today'] + yearly_results['VirginStock_silicon_' + source + '_Today'] + yearly_results['VirginStock_copper_' + source + '_Today']\n",
    "    virgin_material_demand_bifacialproj = yearly_results['VirginStock_glass_' + source + '_Bifacial'] + yearly_results['VirginStock_aluminium_frames_' + source + '_Bifacial'] + yearly_results['VirginStock_silver_' + source + '_Bifacial'] + yearly_results['VirginStock_silicon_' + source + '_Bifacial'] + yearly_results['VirginStock_copper_' + source + '_Bifacial']\n",
    "    better_source_name = pretty_sources[lit_sources.index(lit_sources[source])]\n",
    "    yearly_source_comparison['@value|TotalVirginMaterialDemand|' + better_source_name + '#MetricTonnes'] = list(virgin_material_demand_today.values) + list(virgin_material_demand_bifacialproj.values)\n",
    "    "
   ]
  },
  {
   "cell_type": "code",
   "execution_count": 80,
   "metadata": {},
   "outputs": [
    {
     "ename": "TypeError",
     "evalue": "list indices must be integers or slices, not str",
     "output_type": "error",
     "traceback": [
      "\u001b[1;31m---------------------------------------------------------------------------\u001b[0m",
      "\u001b[1;31mTypeError\u001b[0m                                 Traceback (most recent call last)",
      "\u001b[1;32m<ipython-input-80-e3e6c1662e9a>\u001b[0m in \u001b[0;36m<module>\u001b[1;34m\u001b[0m\n\u001b[0;32m      4\u001b[0m \u001b[0mvirgin_material_demand_today\u001b[0m \u001b[1;33m=\u001b[0m \u001b[0myearly_results\u001b[0m\u001b[1;33m[\u001b[0m\u001b[1;34m'VirginStock_glass_'\u001b[0m \u001b[1;33m+\u001b[0m \u001b[0msource\u001b[0m \u001b[1;33m+\u001b[0m \u001b[1;34m'_Today'\u001b[0m\u001b[1;33m]\u001b[0m \u001b[1;33m+\u001b[0m \u001b[0myearly_results\u001b[0m\u001b[1;33m[\u001b[0m\u001b[1;34m'VirginStock_aluminium_frames_'\u001b[0m \u001b[1;33m+\u001b[0m \u001b[0msource\u001b[0m \u001b[1;33m+\u001b[0m \u001b[1;34m'_Today'\u001b[0m\u001b[1;33m]\u001b[0m \u001b[1;33m+\u001b[0m \u001b[0myearly_results\u001b[0m\u001b[1;33m[\u001b[0m\u001b[1;34m'VirginStock_silver_'\u001b[0m \u001b[1;33m+\u001b[0m \u001b[0msource\u001b[0m \u001b[1;33m+\u001b[0m \u001b[1;34m'_Today'\u001b[0m\u001b[1;33m]\u001b[0m \u001b[1;33m+\u001b[0m \u001b[0myearly_results\u001b[0m\u001b[1;33m[\u001b[0m\u001b[1;34m'VirginStock_silicon_'\u001b[0m \u001b[1;33m+\u001b[0m \u001b[0msource\u001b[0m \u001b[1;33m+\u001b[0m \u001b[1;34m'_Today'\u001b[0m\u001b[1;33m]\u001b[0m \u001b[1;33m+\u001b[0m \u001b[0myearly_results\u001b[0m\u001b[1;33m[\u001b[0m\u001b[1;34m'VirginStock_copper_'\u001b[0m \u001b[1;33m+\u001b[0m \u001b[0msource\u001b[0m \u001b[1;33m+\u001b[0m \u001b[1;34m'_Today'\u001b[0m\u001b[1;33m]\u001b[0m\u001b[1;33m\u001b[0m\u001b[1;33m\u001b[0m\u001b[0m\n\u001b[0;32m      5\u001b[0m \u001b[0mvirgin_material_demand_bifacialproj\u001b[0m \u001b[1;33m=\u001b[0m \u001b[0myearly_results\u001b[0m\u001b[1;33m[\u001b[0m\u001b[1;34m'VirginStock_glass_'\u001b[0m \u001b[1;33m+\u001b[0m \u001b[0msource\u001b[0m \u001b[1;33m+\u001b[0m \u001b[1;34m'_Bifacial'\u001b[0m\u001b[1;33m]\u001b[0m \u001b[1;33m+\u001b[0m \u001b[0myearly_results\u001b[0m\u001b[1;33m[\u001b[0m\u001b[1;34m'VirginStock_aluminium_frames_'\u001b[0m \u001b[1;33m+\u001b[0m \u001b[0msource\u001b[0m \u001b[1;33m+\u001b[0m \u001b[1;34m'_Bifacial'\u001b[0m\u001b[1;33m]\u001b[0m \u001b[1;33m+\u001b[0m \u001b[0myearly_results\u001b[0m\u001b[1;33m[\u001b[0m\u001b[1;34m'VirginStock_silver_'\u001b[0m \u001b[1;33m+\u001b[0m \u001b[0msource\u001b[0m \u001b[1;33m+\u001b[0m \u001b[1;34m'_Bifacial'\u001b[0m\u001b[1;33m]\u001b[0m \u001b[1;33m+\u001b[0m \u001b[0myearly_results\u001b[0m\u001b[1;33m[\u001b[0m\u001b[1;34m'VirginStock_silicon_'\u001b[0m \u001b[1;33m+\u001b[0m \u001b[0msource\u001b[0m \u001b[1;33m+\u001b[0m \u001b[1;34m'_Bifacial'\u001b[0m\u001b[1;33m]\u001b[0m \u001b[1;33m+\u001b[0m \u001b[0myearly_results\u001b[0m\u001b[1;33m[\u001b[0m\u001b[1;34m'VirginStock_copper_'\u001b[0m \u001b[1;33m+\u001b[0m \u001b[0msource\u001b[0m \u001b[1;33m+\u001b[0m \u001b[1;34m'_Bifacial'\u001b[0m\u001b[1;33m]\u001b[0m\u001b[1;33m\u001b[0m\u001b[1;33m\u001b[0m\u001b[0m\n\u001b[1;32m----> 6\u001b[1;33m \u001b[0mbetter_source_name\u001b[0m \u001b[1;33m=\u001b[0m \u001b[0mpretty_sources\u001b[0m\u001b[1;33m[\u001b[0m\u001b[0mint\u001b[0m\u001b[1;33m(\u001b[0m\u001b[0mlit_sources\u001b[0m\u001b[1;33m.\u001b[0m\u001b[0mindex\u001b[0m\u001b[1;33m(\u001b[0m\u001b[0mlit_sources\u001b[0m\u001b[1;33m[\u001b[0m\u001b[0msource\u001b[0m\u001b[1;33m]\u001b[0m\u001b[1;33m)\u001b[0m\u001b[1;33m)\u001b[0m\u001b[1;33m]\u001b[0m\u001b[1;33m\u001b[0m\u001b[1;33m\u001b[0m\u001b[0m\n\u001b[0m\u001b[0;32m      7\u001b[0m \u001b[0myearly_source_comparison\u001b[0m\u001b[1;33m[\u001b[0m\u001b[1;34m'@value|TotalVirginMaterialDemand|'\u001b[0m \u001b[1;33m+\u001b[0m \u001b[0mbetter_source_name\u001b[0m \u001b[1;33m+\u001b[0m \u001b[1;34m'#MetricTonnes'\u001b[0m\u001b[1;33m]\u001b[0m \u001b[1;33m=\u001b[0m \u001b[0mlist\u001b[0m\u001b[1;33m(\u001b[0m\u001b[0mvirgin_material_demand_today\u001b[0m\u001b[1;33m.\u001b[0m\u001b[0mvalues\u001b[0m\u001b[1;33m)\u001b[0m \u001b[1;33m+\u001b[0m \u001b[0mlist\u001b[0m\u001b[1;33m(\u001b[0m\u001b[0mvirgin_material_demand_bifacialproj\u001b[0m\u001b[1;33m.\u001b[0m\u001b[0mvalues\u001b[0m\u001b[1;33m)\u001b[0m\u001b[1;33m\u001b[0m\u001b[1;33m\u001b[0m\u001b[0m\n",
      "\u001b[1;31mTypeError\u001b[0m: list indices must be integers or slices, not str"
     ]
    }
   ],
   "source": [
    "lit_sources = [\"PV_ICE\",\"Irena_EL\",\"Irena_RL\"]\n",
    "pretty_sources = ['PV ICE','Irena EL','Irena RL']\n",
    "source = \"Irena_EL\"\n",
    "virgin_material_demand_today = yearly_results['VirginStock_glass_' + source + '_Today'] + yearly_results['VirginStock_aluminium_frames_' + source + '_Today'] + yearly_results['VirginStock_silver_' + source + '_Today'] + yearly_results['VirginStock_silicon_' + source + '_Today'] + yearly_results['VirginStock_copper_' + source + '_Today']\n",
    "virgin_material_demand_bifacialproj = yearly_results['VirginStock_glass_' + source + '_Bifacial'] + yearly_results['VirginStock_aluminium_frames_' + source + '_Bifacial'] + yearly_results['VirginStock_silver_' + source + '_Bifacial'] + yearly_results['VirginStock_silicon_' + source + '_Bifacial'] + yearly_results['VirginStock_copper_' + source + '_Bifacial']\n",
    "#########PROBLEM TO FIX better_source_name = pretty_sources[int(lit_sources.index(lit_sources[source]))]\n",
    "yearly_source_comparison['@value|TotalVirginMaterialDemand|' + better_source_name + '#MetricTonnes'] = list(virgin_material_demand_today.values) + list(virgin_material_demand_bifacialproj.values)"
   ]
  },
  {
   "cell_type": "code",
   "execution_count": 82,
   "metadata": {},
   "outputs": [
    {
     "ename": "TypeError",
     "evalue": "list indices must be integers or slices, not str",
     "output_type": "error",
     "traceback": [
      "\u001b[1;31m---------------------------------------------------------------------------\u001b[0m",
      "\u001b[1;31mTypeError\u001b[0m                                 Traceback (most recent call last)",
      "\u001b[1;32m<ipython-input-82-258ce6c82e99>\u001b[0m in \u001b[0;36m<module>\u001b[1;34m\u001b[0m\n\u001b[1;32m----> 1\u001b[1;33m \u001b[0mlit_sources\u001b[0m\u001b[1;33m[\u001b[0m\u001b[0msource\u001b[0m\u001b[1;33m]\u001b[0m\u001b[1;33m\u001b[0m\u001b[1;33m\u001b[0m\u001b[0m\n\u001b[0m",
      "\u001b[1;31mTypeError\u001b[0m: list indices must be integers or slices, not str"
     ]
    }
   ],
   "source": [
    "lit_sources[source]"
   ]
  },
  {
   "cell_type": "code",
   "execution_count": 70,
   "metadata": {},
   "outputs": [
    {
     "data": {
      "text/html": [
       "<div>\n",
       "<style scoped>\n",
       "    .dataframe tbody tr th:only-of-type {\n",
       "        vertical-align: middle;\n",
       "    }\n",
       "\n",
       "    .dataframe tbody tr th {\n",
       "        vertical-align: top;\n",
       "    }\n",
       "\n",
       "    .dataframe thead th {\n",
       "        text-align: right;\n",
       "    }\n",
       "</style>\n",
       "<table border=\"1\" class=\"dataframe\">\n",
       "  <thead>\n",
       "    <tr style=\"text-align: right;\">\n",
       "      <th></th>\n",
       "      <th>@scenario</th>\n",
       "      <th>@timeseries|Year</th>\n",
       "      <th>@value|TotalVirginMaterialDemand|PV ICE Bifacial Reduced Installs#MetricTonnes</th>\n",
       "      <th>@value|TotalVirginMaterialDemand|PV ICE Bifacial#MetricTonnes</th>\n",
       "    </tr>\n",
       "  </thead>\n",
       "  <tbody>\n",
       "    <tr>\n",
       "      <th>0</th>\n",
       "      <td>Today</td>\n",
       "      <td>1995</td>\n",
       "      <td>NA</td>\n",
       "      <td>NA</td>\n",
       "    </tr>\n",
       "    <tr>\n",
       "      <th>1</th>\n",
       "      <td>Today</td>\n",
       "      <td>1996</td>\n",
       "      <td>NA</td>\n",
       "      <td>NA</td>\n",
       "    </tr>\n",
       "    <tr>\n",
       "      <th>2</th>\n",
       "      <td>Today</td>\n",
       "      <td>1997</td>\n",
       "      <td>NA</td>\n",
       "      <td>NA</td>\n",
       "    </tr>\n",
       "    <tr>\n",
       "      <th>3</th>\n",
       "      <td>Today</td>\n",
       "      <td>1998</td>\n",
       "      <td>NA</td>\n",
       "      <td>NA</td>\n",
       "    </tr>\n",
       "    <tr>\n",
       "      <th>4</th>\n",
       "      <td>Today</td>\n",
       "      <td>1999</td>\n",
       "      <td>NA</td>\n",
       "      <td>NA</td>\n",
       "    </tr>\n",
       "    <tr>\n",
       "      <th>...</th>\n",
       "      <td>...</td>\n",
       "      <td>...</td>\n",
       "      <td>...</td>\n",
       "      <td>...</td>\n",
       "    </tr>\n",
       "    <tr>\n",
       "      <th>107</th>\n",
       "      <td>Bifacial Projection</td>\n",
       "      <td>2046</td>\n",
       "      <td>1471409.478047</td>\n",
       "      <td>1538384.821495</td>\n",
       "    </tr>\n",
       "    <tr>\n",
       "      <th>108</th>\n",
       "      <td>Bifacial Projection</td>\n",
       "      <td>2047</td>\n",
       "      <td>2012746.985512</td>\n",
       "      <td>2104344.824743</td>\n",
       "    </tr>\n",
       "    <tr>\n",
       "      <th>109</th>\n",
       "      <td>Bifacial Projection</td>\n",
       "      <td>2048</td>\n",
       "      <td>2007322.608043</td>\n",
       "      <td>2098675.513256</td>\n",
       "    </tr>\n",
       "    <tr>\n",
       "      <th>110</th>\n",
       "      <td>Bifacial Projection</td>\n",
       "      <td>2049</td>\n",
       "      <td>2820373.290699</td>\n",
       "      <td>2948715.064627</td>\n",
       "    </tr>\n",
       "    <tr>\n",
       "      <th>111</th>\n",
       "      <td>Bifacial Projection</td>\n",
       "      <td>2050</td>\n",
       "      <td>2813249.296389</td>\n",
       "      <td>2941271.22483</td>\n",
       "    </tr>\n",
       "  </tbody>\n",
       "</table>\n",
       "<p>112 rows × 4 columns</p>\n",
       "</div>"
      ],
      "text/plain": [
       "               @scenario  @timeseries|Year  \\\n",
       "0                  Today              1995   \n",
       "1                  Today              1996   \n",
       "2                  Today              1997   \n",
       "3                  Today              1998   \n",
       "4                  Today              1999   \n",
       "..                   ...               ...   \n",
       "107  Bifacial Projection              2046   \n",
       "108  Bifacial Projection              2047   \n",
       "109  Bifacial Projection              2048   \n",
       "110  Bifacial Projection              2049   \n",
       "111  Bifacial Projection              2050   \n",
       "\n",
       "    @value|TotalVirginMaterialDemand|PV ICE Bifacial Reduced Installs#MetricTonnes  \\\n",
       "0                                                   NA                               \n",
       "1                                                   NA                               \n",
       "2                                                   NA                               \n",
       "3                                                   NA                               \n",
       "4                                                   NA                               \n",
       "..                                                 ...                               \n",
       "107                                     1471409.478047                               \n",
       "108                                     2012746.985512                               \n",
       "109                                     2007322.608043                               \n",
       "110                                     2820373.290699                               \n",
       "111                                     2813249.296389                               \n",
       "\n",
       "    @value|TotalVirginMaterialDemand|PV ICE Bifacial#MetricTonnes  \n",
       "0                                                   NA             \n",
       "1                                                   NA             \n",
       "2                                                   NA             \n",
       "3                                                   NA             \n",
       "4                                                   NA             \n",
       "..                                                 ...             \n",
       "107                                     1538384.821495             \n",
       "108                                     2104344.824743             \n",
       "109                                     2098675.513256             \n",
       "110                                     2948715.064627             \n",
       "111                                      2941271.22483             \n",
       "\n",
       "[112 rows x 4 columns]"
      ]
     },
     "execution_count": 70,
     "metadata": {},
     "output_type": "execute_result"
    }
   ],
   "source": [
    "bifacial_scenarios = [\"Bifacial_ReducedInstalls\",\"Bifacial_SameInstalls\"]"
   ]
  },
  {
   "cell_type": "code",
   "execution_count": null,
   "metadata": {},
   "outputs": [],
   "source": [
    "#WRITE A LOOP"
   ]
  }
 ],
 "metadata": {
  "kernelspec": {
   "display_name": "Python 3",
   "language": "python",
   "name": "python3"
  },
  "language_info": {
   "codemirror_mode": {
    "name": "ipython",
    "version": 3
   },
   "file_extension": ".py",
   "mimetype": "text/x-python",
   "name": "python",
   "nbconvert_exporter": "python",
   "pygments_lexer": "ipython3",
   "version": "3.7.3"
  }
 },
 "nbformat": 4,
 "nbformat_minor": 5
}
