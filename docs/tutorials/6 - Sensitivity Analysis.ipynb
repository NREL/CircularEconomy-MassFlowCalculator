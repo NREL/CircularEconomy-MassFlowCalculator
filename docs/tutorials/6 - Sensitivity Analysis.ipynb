{
 "cells": [
  {
   "cell_type": "markdown",
   "metadata": {},
   "source": [
    "# 6 - Sensitivity Analysis"
   ]
  },
  {
   "cell_type": "code",
   "execution_count": 1,
   "metadata": {},
   "outputs": [
    {
     "name": "stdout",
     "output_type": "stream",
     "text": [
      "Your simulation will be stored in C:\\Users\\sayala\\Documents\\GitHub\\CircularEconomy-MassFlowCalculator\\PV_ICE\\TEMP\n"
     ]
    }
   ],
   "source": [
    "import os\n",
    "from pathlib import Path\n",
    "\n",
    "testfolder = str(Path().resolve().parent.parent / 'PV_ICE' / 'TEMP')\n",
    "\n",
    "# Another option using relative address; for some operative systems you might need '/' instead of '\\'\n",
    "# testfolder = os.path.abspath(r'..\\..\\PV_DEMICE\\TEMP')  \n",
    "\n",
    "print (\"Your simulation will be stored in %s\" % testfolder)"
   ]
  },
  {
   "cell_type": "code",
   "execution_count": 2,
   "metadata": {},
   "outputs": [],
   "source": [
    "MATERIAL = 'glass'\n",
    "SANITYCHECK = False\n",
    "\n",
    "if SANITYCHECK:\n",
    "    MODULEBASELINE = r'C:\\Users\\sayala\\Documents\\GitHub\\CircularEconomy-MassFlowCalculator\\tests\\baseline_module_test_2.csv'\n",
    "    MATERIALBASELINE = r'C:\\Users\\sayala\\Documents\\GitHub\\CircularEconomy-MassFlowCalculator\\tests\\baseline_material_test_2.csv'\n",
    "else:\n",
    "    MODULEBASELINE = r'..\\baselines\\baseline_modules_US.csv'\n",
    "    MATERIALBASELINE = r'..\\baselines\\baseline_material_'+MATERIAL+'.csv'\n",
    "\n"
   ]
  },
  {
   "cell_type": "code",
   "execution_count": 3,
   "metadata": {},
   "outputs": [],
   "source": [
    "import PV_ICE\n",
    "import matplotlib.pyplot as plt\n",
    "import pandas as pd\n",
    "\n"
   ]
  },
  {
   "cell_type": "code",
   "execution_count": 4,
   "metadata": {},
   "outputs": [],
   "source": [
    "plt.rcParams.update({'font.size': 22})\n",
    "plt.rcParams['figure.figsize'] = (12, 5)"
   ]
  },
  {
   "cell_type": "code",
   "execution_count": 5,
   "metadata": {},
   "outputs": [
    {
     "name": "stdout",
     "output_type": "stream",
     "text": [
      "path = C:\\Users\\sayala\\Documents\\GitHub\\CircularEconomy-MassFlowCalculator\\PV_ICE\\TEMP\n"
     ]
    }
   ],
   "source": [
    "r1 = PV_ICE.Simulation(name='Simulation1', path=testfolder)\n",
    "r1.createScenario(name='baseline', file=MODULEBASELINE)\n",
    "r1.scenario['baseline'].addMaterial(MATERIAL, file=MATERIALBASELINE)\n",
    "\n"
   ]
  },
  {
   "cell_type": "code",
   "execution_count": 6,
   "metadata": {},
   "outputs": [
    {
     "data": {
      "text/plain": [
       "Index(['year', 'new_Installed_Capacity_[MW]', 'mod_eff', 'mod_reliability_t50',\n",
       "       'mod_reliability_t90', 'mod_degradation', 'mod_lifetime', 'mod_MFG_eff',\n",
       "       'mod_EOL_collection_eff', 'mod_EOL_collected_recycled',\n",
       "       'mod_Repowering', 'mod_Repairing'],\n",
       "      dtype='object')"
      ]
     },
     "execution_count": 6,
     "metadata": {},
     "output_type": "execute_result"
    }
   ],
   "source": [
    "r1.scenario['baseline'].data.keys()"
   ]
  },
  {
   "cell_type": "code",
   "execution_count": 7,
   "metadata": {},
   "outputs": [
    {
     "data": {
      "text/plain": [
       "Index(['year', 'mat_virgin_eff', 'mat_massperm2', 'mat_MFG_eff',\n",
       "       'mat_MFG_scrap_Recycled', 'mat_MFG_scrap_Recycling_eff',\n",
       "       'mat_MFG_scrap_Recycled_into_HQ',\n",
       "       'mat_MFG_scrap_Recycled_into_HQ_Reused4MFG',\n",
       "       'mat_EOL_collected_Recycled', 'mat_EOL_Recycling_eff',\n",
       "       'mat_EOL_Recycled_into_HQ', 'mat_EOL_RecycledHQ_Reused4MFG'],\n",
       "      dtype='object')"
      ]
     },
     "execution_count": 7,
     "metadata": {},
     "output_type": "execute_result"
    }
   ],
   "source": [
    "r1.scenario['baseline'].material[MATERIAL].materialdata.keys()"
   ]
  },
  {
   "cell_type": "markdown",
   "metadata": {},
   "source": [
    "# Goal; Compare Virgin Material Extraction , and Waste. "
   ]
  },
  {
   "cell_type": "markdown",
   "metadata": {},
   "source": [
    "## MATERIAL BASELINES"
   ]
  },
  {
   "cell_type": "markdown",
   "metadata": {},
   "source": [
    "### mat_virgin_eff | Virgin Material Efficiency"
   ]
  },
  {
   "cell_type": "code",
   "execution_count": 8,
   "metadata": {},
   "outputs": [],
   "source": [
    "# Material baseline mod.\n",
    "stage = 'mat_virgin_eff'\n",
    "modhigh = 1.10 \n",
    "modlow = 0.90\n",
    "stage_highname = 'HighEff_'+stage\n",
    "stage_lowname = 'LowEff'+stage\n",
    "\n",
    "\n",
    "r1.createScenario(name=stage_highname, file=MODULEBASELINE)\n",
    "r1.scenario[stage_highname].addMaterial(MATERIAL, file=MATERIALBASELINE)\n",
    "r1.scenario[stage_highname].material[MATERIAL].materialdata = PV_ICE.sens_StageImprovement(r1.scenario[stage_highname].material[MATERIAL].materialdata, \n",
    "                             stage=stage, improvement=modhigh, start_year=0)\n",
    "\n",
    "r1.createScenario(name=stage_lowname, file=MODULEBASELINE)\n",
    "r1.scenario[stage_lowname].addMaterial(MATERIAL, file=MATERIALBASELINE)\n",
    "r1.scenario[stage_lowname].material[MATERIAL].materialdata = PV_ICE.sens_StageImprovement(r1.scenario[stage_lowname].material[MATERIAL].materialdata, \n",
    "                             stage=stage, improvement=modlow, start_year=0)"
   ]
  },
  {
   "cell_type": "markdown",
   "metadata": {},
   "source": [
    "### mat_massperm2\n"
   ]
  },
  {
   "cell_type": "code",
   "execution_count": 9,
   "metadata": {},
   "outputs": [],
   "source": [
    "# Material baseline mod.\n",
    "stage = 'mat_massperm2'\n",
    "modhigh = 1.10 \n",
    "modlow = 0.90\n",
    "stage_highname = 'HighEff_'+stage\n",
    "stage_lowname = 'LowEff'+stage\n",
    "\n",
    "r1.createScenario(name=stage_highname, file=MODULEBASELINE)\n",
    "r1.scenario[stage_highname].addMaterial(MATERIAL, file=MATERIALBASELINE)\n",
    "r1.scenario[stage_highname].material[MATERIAL].materialdata = PV_ICE.sens_StageImprovement(r1.scenario[stage_highname].material[MATERIAL].materialdata, \n",
    "                             stage=stage, improvement=modhigh, start_year=0)\n",
    "\n",
    "r1.createScenario(name=stage_lowname, file=MODULEBASELINE)\n",
    "r1.scenario[stage_lowname].addMaterial(MATERIAL, file=MATERIALBASELINE)\n",
    "r1.scenario[stage_lowname].material[MATERIAL].materialdata = PV_ICE.sens_StageImprovement(r1.scenario[stage_lowname].material[MATERIAL].materialdata, \n",
    "                             stage=stage, improvement=modlow, start_year=0)"
   ]
  },
  {
   "cell_type": "markdown",
   "metadata": {},
   "source": [
    "### mat_MFG_eff      |      Material Manfuacturing Efficiency "
   ]
  },
  {
   "cell_type": "code",
   "execution_count": 10,
   "metadata": {},
   "outputs": [],
   "source": [
    "# Material baseline mod.\n",
    "stage = 'mat_MFG_eff'\n",
    "modhigh = 1.10 \n",
    "modlow = 0.90\n",
    "stage_highname = 'HighEff_'+stage\n",
    "stage_lowname = 'LowEff'+stage\n",
    "\n",
    "r1.createScenario(name=stage_highname, file=MODULEBASELINE)\n",
    "r1.scenario[stage_highname].addMaterial(MATERIAL, file=MATERIALBASELINE)\n",
    "r1.scenario[stage_highname].material[MATERIAL].materialdata = PV_ICE.sens_StageImprovement(r1.scenario[stage_highname].material[MATERIAL].materialdata, \n",
    "                             stage=stage, improvement=modhigh, start_year=0)\n",
    "\n",
    "r1.createScenario(name=stage_lowname, file=MODULEBASELINE)\n",
    "r1.scenario[stage_lowname].addMaterial(MATERIAL, file=MATERIALBASELINE)\n",
    "r1.scenario[stage_lowname].material[MATERIAL].materialdata = PV_ICE.sens_StageImprovement(r1.scenario[stage_lowname].material[MATERIAL].materialdata, \n",
    "                             stage=stage, improvement=modlow, start_year=0)\n"
   ]
  },
  {
   "cell_type": "code",
   "execution_count": null,
   "metadata": {},
   "outputs": [],
   "source": []
  },
  {
   "cell_type": "code",
   "execution_count": null,
   "metadata": {},
   "outputs": [],
   "source": []
  },
  {
   "cell_type": "markdown",
   "metadata": {},
   "source": [
    "### mat_MFG_scrap_Recycled"
   ]
  },
  {
   "cell_type": "code",
   "execution_count": 11,
   "metadata": {},
   "outputs": [],
   "source": [
    "# Material baseline mod.\n",
    "stage = 'mat_MFG_scrap_Recycled'\n",
    "modhigh = 1.10 \n",
    "modlow = 0.90\n",
    "stage_highname = 'HighEff_'+stage\n",
    "stage_lowname = 'LowEff'+stage\n",
    "\n",
    "r1.createScenario(name=stage_highname, file=MODULEBASELINE)\n",
    "r1.scenario[stage_highname].addMaterial(MATERIAL, file=MATERIALBASELINE)\n",
    "r1.scenario[stage_highname].material[MATERIAL].materialdata = PV_ICE.sens_StageImprovement(r1.scenario[stage_highname].material[MATERIAL].materialdata, \n",
    "                             stage=stage, improvement=modhigh, start_year=0)\n",
    "\n",
    "r1.createScenario(name=stage_lowname, file=MODULEBASELINE)\n",
    "r1.scenario[stage_lowname].addMaterial(MATERIAL, file=MATERIALBASELINE)\n",
    "r1.scenario[stage_lowname].material[MATERIAL].materialdata = PV_ICE.sens_StageImprovement(r1.scenario[stage_lowname].material[MATERIAL].materialdata, \n",
    "                             stage=stage, improvement=modlow, start_year=0)"
   ]
  },
  {
   "cell_type": "markdown",
   "metadata": {},
   "source": [
    "### mat_MFG_scrap_Recycling_eff"
   ]
  },
  {
   "cell_type": "code",
   "execution_count": 12,
   "metadata": {},
   "outputs": [],
   "source": [
    "# Material baseline mod.\n",
    "stage = 'mat_MFG_scrap_Recycling_eff'\n",
    "modhigh = 1.10 \n",
    "modlow = 0.90\n",
    "stage_highname = 'HighEff_'+stage\n",
    "stage_lowname = 'LowEff'+stage\n",
    "\n",
    "r1.createScenario(name=stage_highname, file=MODULEBASELINE)\n",
    "r1.scenario[stage_highname].addMaterial(MATERIAL, file=MATERIALBASELINE)\n",
    "r1.scenario[stage_highname].material[MATERIAL].materialdata = PV_ICE.sens_StageImprovement(r1.scenario[stage_highname].material[MATERIAL].materialdata, \n",
    "                             stage=stage, improvement=modhigh, start_year=0)\n",
    "\n",
    "r1.createScenario(name=stage_lowname, file=MODULEBASELINE)\n",
    "r1.scenario[stage_lowname].addMaterial(MATERIAL, file=MATERIALBASELINE)\n",
    "r1.scenario[stage_lowname].material[MATERIAL].materialdata = PV_ICE.sens_StageImprovement(r1.scenario[stage_lowname].material[MATERIAL].materialdata, \n",
    "                             stage=stage, improvement=modlow, start_year=0)"
   ]
  },
  {
   "cell_type": "markdown",
   "metadata": {},
   "source": [
    "### mat_MFG_scrap_Recycled_into_HQ"
   ]
  },
  {
   "cell_type": "code",
   "execution_count": 13,
   "metadata": {},
   "outputs": [],
   "source": [
    "# Material baseline mod.\n",
    "stage = 'mat_MFG_scrap_Recycling_eff'\n",
    "modhigh = 1.10 \n",
    "modlow = 0.90\n",
    "stage_highname = 'HighEff_'+stage\n",
    "stage_lowname = 'LowEff'+stage\n",
    "\n",
    "r1.createScenario(name=stage_highname, file=MODULEBASELINE)\n",
    "r1.scenario[stage_highname].addMaterial(MATERIAL, file=MATERIALBASELINE)\n",
    "r1.scenario[stage_highname].material[MATERIAL].materialdata = PV_ICE.sens_StageImprovement(r1.scenario[stage_highname].material[MATERIAL].materialdata, \n",
    "                             stage=stage, improvement=modhigh, start_year=0)\n",
    "\n",
    "r1.createScenario(name=stage_lowname, file=MODULEBASELINE)\n",
    "r1.scenario[stage_lowname].addMaterial(MATERIAL, file=MATERIALBASELINE)\n",
    "r1.scenario[stage_lowname].material[MATERIAL].materialdata = PV_ICE.sens_StageImprovement(r1.scenario[stage_lowname].material[MATERIAL].materialdata, \n",
    "                             stage=stage, improvement=modlow, start_year=0)"
   ]
  },
  {
   "cell_type": "markdown",
   "metadata": {},
   "source": [
    "### mat_MFG_scrap_Recycled_into_HQ_Reused4MFG"
   ]
  },
  {
   "cell_type": "code",
   "execution_count": 14,
   "metadata": {},
   "outputs": [],
   "source": [
    "# Material baseline mod.\n",
    "stage = 'mat_MFG_scrap_Recycled_into_HQ_Reused4MFG'\n",
    "modhigh = 1.10 \n",
    "modlow = 0.90\n",
    "stage_highname = 'HighEff_'+stage\n",
    "stage_lowname = 'LowEff'+stage\n",
    "\n",
    "r1.createScenario(name=stage_highname, file=MODULEBASELINE)\n",
    "r1.scenario[stage_highname].addMaterial(MATERIAL, file=MATERIALBASELINE)\n",
    "r1.scenario[stage_highname].material[MATERIAL].materialdata = PV_ICE.sens_StageImprovement(r1.scenario[stage_highname].material[MATERIAL].materialdata, \n",
    "                             stage=stage, improvement=modhigh, start_year=0)\n",
    "\n",
    "r1.createScenario(name=stage_lowname, file=MODULEBASELINE)\n",
    "r1.scenario[stage_lowname].addMaterial(MATERIAL, file=MATERIALBASELINE)\n",
    "r1.scenario[stage_lowname].material[MATERIAL].materialdata = PV_ICE.sens_StageImprovement(r1.scenario[stage_lowname].material[MATERIAL].materialdata, \n",
    "                             stage=stage, improvement=modlow, start_year=0)"
   ]
  },
  {
   "cell_type": "markdown",
   "metadata": {},
   "source": [
    "### mat_MFG_Scrap_Overall_Improvement | OVERALL SCRAP Improvement\n",
    "\n",
    "mat_MFG_Scrap_Overall_Improvement includes:\n",
    "\n",
    "    mat_MFG_scrap_Recycled\n",
    "    mat_MFG_scrap_Recycling_eff\n",
    "    mat_MFG_scrap_Recycled_into_HQ\n",
    "    mat_MFG_scrap_Recycled_into_HQ_Reused4MFG\n"
   ]
  },
  {
   "cell_type": "code",
   "execution_count": 15,
   "metadata": {},
   "outputs": [],
   "source": [
    "# Material baseline mod.\n",
    "stage = 'mat_MFG_Scrap_Overall_Improvement'\n",
    "modhigh = 1.10 \n",
    "modlow = 0.90\n",
    "stage_highname = 'HighEff_'+stage\n",
    "stage_lowname = 'LowEff'+stage\n",
    "\n",
    "r1.createScenario(name=stage_highname, file=MODULEBASELINE)\n",
    "r1.scenario[stage_highname].addMaterial(MATERIAL, file=MATERIALBASELINE)\n",
    "\n",
    "r1.createScenario(name=stage_lowname, file=MODULEBASELINE)\n",
    "r1.scenario[stage_lowname].addMaterial(MATERIAL, file=MATERIALBASELINE)\n",
    "\n",
    "stages = ['mat_MFG_scrap_Recycled','mat_MFG_scrap_Recycling_eff',\n",
    "          'mat_MFG_scrap_Recycled_into_HQ', 'mat_MFG_scrap_Recycled_into_HQ_Reused4MFG']\n",
    "\n",
    "\n",
    "for i in range(0, len(stages)):\n",
    "    stage = stages[i]\n",
    "    r1.scenario[stage_highname].material[MATERIAL].materialdata = PV_ICE.sens_StageImprovement(r1.scenario[stage_highname].material[MATERIAL].materialdata, \n",
    "                                 stage=stage, improvement=modhigh, start_year=0)\n",
    "\n",
    "    r1.scenario[stage_lowname].material[MATERIAL].materialdata = PV_ICE.sens_StageImprovement(r1.scenario[stage_lowname].material[MATERIAL].materialdata, \n",
    "                                 stage=stage, improvement=modlow, start_year=0)"
   ]
  },
  {
   "cell_type": "markdown",
   "metadata": {},
   "source": [
    "### mat_EOL_collected_Recycled\n"
   ]
  },
  {
   "cell_type": "code",
   "execution_count": 16,
   "metadata": {},
   "outputs": [],
   "source": [
    "# Material baseline mod.\n",
    "stage = 'mat_EOL_collected_Recycled'\n",
    "modhigh = 1.10 \n",
    "modlow = 0.90\n",
    "stage_highname = 'HighEff_'+stage\n",
    "stage_lowname = 'LowEff'+stage\n",
    "\n",
    "r1.createScenario(name=stage_highname, file=MODULEBASELINE)\n",
    "r1.scenario[stage_highname].addMaterial(MATERIAL, file=MATERIALBASELINE)\n",
    "r1.scenario[stage_highname].material[MATERIAL].materialdata = PV_ICE.sens_StageImprovement(r1.scenario[stage_highname].material[MATERIAL].materialdata, \n",
    "                             stage=stage, improvement=modhigh, start_year=0)\n",
    "\n",
    "r1.createScenario(name=stage_lowname, file=MODULEBASELINE)\n",
    "r1.scenario[stage_lowname].addMaterial(MATERIAL, file=MATERIALBASELINE)\n",
    "r1.scenario[stage_lowname].material[MATERIAL].materialdata = PV_ICE.sens_StageImprovement(r1.scenario[stage_lowname].material[MATERIAL].materialdata, \n",
    "                             stage=stage, improvement=modlow, start_year=0)"
   ]
  },
  {
   "cell_type": "markdown",
   "metadata": {},
   "source": [
    "### mat_EOL_Recycling_eff\n"
   ]
  },
  {
   "cell_type": "code",
   "execution_count": 17,
   "metadata": {},
   "outputs": [],
   "source": [
    "# Material baseline mod.\n",
    "stage = 'mat_EOL_Recycling_eff'\n",
    "modhigh = 1.10 \n",
    "modlow = 0.90\n",
    "stage_highname = 'HighEff_'+stage\n",
    "stage_lowname = 'LowEff'+stage\n",
    "\n",
    "r1.createScenario(name=stage_highname, file=MODULEBASELINE)\n",
    "r1.scenario[stage_highname].addMaterial(MATERIAL, file=MATERIALBASELINE)\n",
    "r1.scenario[stage_highname].material[MATERIAL].materialdata = PV_ICE.sens_StageImprovement(r1.scenario[stage_highname].material[MATERIAL].materialdata, \n",
    "                             stage=stage, improvement=modhigh, start_year=0)\n",
    "\n",
    "r1.createScenario(name=stage_lowname, file=MODULEBASELINE)\n",
    "r1.scenario[stage_lowname].addMaterial(MATERIAL, file=MATERIALBASELINE)\n",
    "r1.scenario[stage_lowname].material[MATERIAL].materialdata = PV_ICE.sens_StageImprovement(r1.scenario[stage_lowname].material[MATERIAL].materialdata, \n",
    "                             stage=stage, improvement=modlow, start_year=0)"
   ]
  },
  {
   "cell_type": "markdown",
   "metadata": {},
   "source": [
    "### mat_EOL_Recycled_into_HQ\n"
   ]
  },
  {
   "cell_type": "code",
   "execution_count": 18,
   "metadata": {},
   "outputs": [],
   "source": [
    "# Material baseline mod.\n",
    "stage = 'mat_EOL_Recycled_into_HQ'\n",
    "modhigh = 1.10 \n",
    "modlow = 0.90\n",
    "stage_highname = 'HighEff_'+stage\n",
    "stage_lowname = 'LowEff'+stage\n",
    "\n",
    "r1.createScenario(name=stage_highname, file=MODULEBASELINE)\n",
    "r1.scenario[stage_highname].addMaterial(MATERIAL, file=MATERIALBASELINE)\n",
    "r1.scenario[stage_highname].material[MATERIAL].materialdata = PV_ICE.sens_StageImprovement(r1.scenario[stage_highname].material[MATERIAL].materialdata, \n",
    "                             stage=stage, improvement=modhigh, start_year=0)\n",
    "\n",
    "r1.createScenario(name=stage_lowname, file=MODULEBASELINE)\n",
    "r1.scenario[stage_lowname].addMaterial(MATERIAL, file=MATERIALBASELINE)\n",
    "r1.scenario[stage_lowname].material[MATERIAL].materialdata = PV_ICE.sens_StageImprovement(r1.scenario[stage_lowname].material[MATERIAL].materialdata, \n",
    "                             stage=stage, improvement=modlow, start_year=0)"
   ]
  },
  {
   "cell_type": "markdown",
   "metadata": {},
   "source": [
    "### mat_EOL_RecycledHQ_Reused4MFG\n"
   ]
  },
  {
   "cell_type": "code",
   "execution_count": 19,
   "metadata": {},
   "outputs": [],
   "source": [
    "# Material baseline mod.\n",
    "stage = 'mat_EOL_RecycledHQ_Reused4MFG'\n",
    "modhigh = 1.10 \n",
    "modlow = 0.90\n",
    "stage_highname = 'HighEff_'+stage\n",
    "stage_lowname = 'LowEff'+stage\n",
    "\n",
    "r1.createScenario(name=stage_highname, file=MODULEBASELINE)\n",
    "r1.scenario[stage_highname].addMaterial(MATERIAL, file=MATERIALBASELINE)\n",
    "r1.scenario[stage_highname].material[MATERIAL].materialdata = PV_ICE.sens_StageImprovement(r1.scenario[stage_highname].material[MATERIAL].materialdata, \n",
    "                             stage=stage, improvement=modhigh, start_year=0)\n",
    "\n",
    "r1.createScenario(name=stage_lowname, file=MODULEBASELINE)\n",
    "r1.scenario[stage_lowname].addMaterial(MATERIAL, file=MATERIALBASELINE)\n",
    "r1.scenario[stage_lowname].material[MATERIAL].materialdata = PV_ICE.sens_StageImprovement(r1.scenario[stage_lowname].material[MATERIAL].materialdata, \n",
    "                             stage=stage, improvement=modlow, start_year=0)"
   ]
  },
  {
   "cell_type": "markdown",
   "metadata": {},
   "source": [
    "### mat_EOL_Recycling_Overall_Improvement | OVERALL Recycling Improvement\n",
    "\n",
    "Includes:\n",
    "\n",
    "    mat_EOL_collected_Recycled\n",
    "    mat_EOL_Recycling_eff\n",
    "    mat_EOL_Recycled_into_HQ\n",
    "    mat_EOL_RecycledHQ_Reused4MFG\n"
   ]
  },
  {
   "cell_type": "code",
   "execution_count": 20,
   "metadata": {},
   "outputs": [],
   "source": [
    "# Material baseline mod.\n",
    "stage = 'mat_EOL_Recycling_Overall_Improvement'\n",
    "modhigh = 1.10 \n",
    "modlow = 0.90\n",
    "stage_highname = 'HighEff_'+stage\n",
    "stage_lowname = 'LowEff'+stage\n",
    "\n",
    "r1.createScenario(name=stage_highname, file=MODULEBASELINE)\n",
    "r1.scenario[stage_highname].addMaterial(MATERIAL, file=MATERIALBASELINE)\n",
    "\n",
    "r1.createScenario(name=stage_lowname, file=MODULEBASELINE)\n",
    "r1.scenario[stage_lowname].addMaterial(MATERIAL, file=MATERIALBASELINE)\n",
    "\n",
    "stages = ['mat_EOL_collected_Recycled', 'mat_EOL_Recycling_eff',\n",
    "        'mat_EOL_Recycled_into_HQ', 'mat_EOL_RecycledHQ_Reused4MFG']\n",
    "\n",
    "for i in range(0, len(stages)):\n",
    "    stage = stages[i]\n",
    "    r1.scenario[stage_highname].material[MATERIAL].materialdata = PV_ICE.sens_StageImprovement(r1.scenario[stage_highname].material[MATERIAL].materialdata, \n",
    "                                 stage=stage, improvement=modhigh, start_year=0)\n",
    "\n",
    "    r1.scenario[stage_lowname].material[MATERIAL].materialdata = PV_ICE.sens_StageImprovement(r1.scenario[stage_lowname].material[MATERIAL].materialdata, \n",
    "                                 stage=stage, improvement=modlow, start_year=0)"
   ]
  },
  {
   "cell_type": "markdown",
   "metadata": {},
   "source": [
    "# Module baseline mod.\n",
    "\n"
   ]
  },
  {
   "cell_type": "markdown",
   "metadata": {},
   "source": [
    "### new_Installed_Capacity_[MW]\n"
   ]
  },
  {
   "cell_type": "code",
   "execution_count": 21,
   "metadata": {},
   "outputs": [],
   "source": [
    "# Module baseline mod.\n",
    "stage = 'new_Installed_Capacity_[MW]'\n",
    "modhigh = 1.05 \n",
    "modlow = 0.95\n",
    "stage_highname = 'HighEff_'+stage\n",
    "stage_lowname = 'LowEff'+stage\n",
    "\n",
    "\n",
    "r1.createScenario(name=stage_highname, file=MODULEBASELINE)\n",
    "r1.scenario[stage_highname].addMaterial(MATERIAL, file=MATERIALBASELINE)\n",
    "r1.scenario[stage_highname].data = PV_ICE.sens_StageImprovement(r1.scenario[stage_highname].data, \n",
    "                             stage=stage, improvement=modhigh, start_year=0)\n",
    "\n",
    "r1.createScenario(name=stage_lowname, file=MODULEBASELINE)\n",
    "r1.scenario[stage_lowname].addMaterial(MATERIAL, file=MATERIALBASELINE)\n",
    "r1.scenario[stage_lowname].data = PV_ICE.sens_StageImprovement(r1.scenario[stage_lowname].data, \n",
    "                             stage=stage, improvement=modlow, start_year=0)"
   ]
  },
  {
   "cell_type": "markdown",
   "metadata": {},
   "source": [
    "### mod_eff\n"
   ]
  },
  {
   "cell_type": "code",
   "execution_count": 22,
   "metadata": {},
   "outputs": [],
   "source": [
    "# Module baseline mod.\n",
    "stage = 'mod_eff'\n",
    "modhigh = 1.05 \n",
    "modlow = 0.95\n",
    "stage_highname = 'HighEff_'+stage\n",
    "stage_lowname = 'LowEff'+stage\n",
    "\n",
    "\n",
    "r1.createScenario(name=stage_highname, file=MODULEBASELINE)\n",
    "r1.scenario[stage_highname].addMaterial(MATERIAL, file=MATERIALBASELINE)\n",
    "r1.scenario[stage_highname].data = PV_ICE.sens_StageImprovement(r1.scenario[stage_highname].data, \n",
    "                             stage=stage, improvement=modhigh, start_year=0)\n",
    "\n",
    "r1.createScenario(name=stage_lowname, file=MODULEBASELINE)\n",
    "r1.scenario[stage_lowname].addMaterial(MATERIAL, file=MATERIALBASELINE)\n",
    "r1.scenario[stage_lowname].data = PV_ICE.sens_StageImprovement(r1.scenario[stage_lowname].data, \n",
    "                             stage=stage, improvement=modlow, start_year=0)"
   ]
  },
  {
   "cell_type": "markdown",
   "metadata": {},
   "source": [
    "## reliability\n",
    "\n",
    "Includes:\n",
    "    \n",
    "    mod_reliability_t50 \n",
    "    mod_reliability_t90 \n",
    "    mod_lifetime\n",
    "\n"
   ]
  },
  {
   "cell_type": "code",
   "execution_count": 23,
   "metadata": {},
   "outputs": [],
   "source": [
    "# Module baseline mod.\n",
    "stage = 'reliability'\n",
    "modhigh = 1.10\n",
    "modlow = 0.90\n",
    "stage_highname = 'HighEff_'+stage\n",
    "stage_lowname = 'LowEff'+stage\n",
    "\n",
    "r1.createScenario(name=stage_highname, file=MODULEBASELINE)\n",
    "r1.scenario[stage_highname].addMaterial(MATERIAL, file=MATERIALBASELINE)\n",
    "\n",
    "r1.createScenario(name=stage_lowname, file=MODULEBASELINE)\n",
    "r1.scenario[stage_lowname].addMaterial(MATERIAL, file=MATERIALBASELINE)\n",
    "\n",
    "stages = ['mod_reliability_t50', 'mod_reliability_t90', 'mod_lifetime']\n",
    "\n",
    "for i in range(0, len(stages)):\n",
    "    stage = stages[i]\n",
    "    r1.scenario[stage_highname].data = PV_ICE.sens_StageImprovement(r1.scenario[stage_highname].data, \n",
    "                                 stage=stage, improvement=modhigh, start_year=0)\n",
    "    r1.scenario[stage_lowname].data = PV_ICE.sens_StageImprovement(r1.scenario[stage_lowname].data, \n",
    "                                 stage=stage, improvement=modlow, start_year=0)"
   ]
  },
  {
   "cell_type": "markdown",
   "metadata": {},
   "source": [
    "### mod_MFG_eff"
   ]
  },
  {
   "cell_type": "code",
   "execution_count": 24,
   "metadata": {},
   "outputs": [],
   "source": [
    "# Module baseline mod.\n",
    "stage = 'mod_MFG_eff'\n",
    "modhigh = 1.10\n",
    "modlow = 0.90\n",
    "stage_highname = 'HighEff_'+stage\n",
    "stage_lowname = 'LowEff'+stage\n",
    "\n",
    "\n",
    "r1.createScenario(name=stage_highname, file=MODULEBASELINE)\n",
    "r1.scenario[stage_highname].addMaterial(MATERIAL, file=MATERIALBASELINE)\n",
    "r1.scenario[stage_highname].data = PV_ICE.sens_StageImprovement(r1.scenario[stage_highname].data, \n",
    "                             stage=stage, improvement=modhigh, start_year=0)\n",
    "\n",
    "r1.createScenario(name=stage_lowname, file=MODULEBASELINE)\n",
    "r1.scenario[stage_lowname].addMaterial(MATERIAL, file=MATERIALBASELINE)\n",
    "r1.scenario[stage_lowname].data = PV_ICE.sens_StageImprovement(r1.scenario[stage_lowname].data, \n",
    "                             stage=stage, improvement=modlow, start_year=0)"
   ]
  },
  {
   "cell_type": "markdown",
   "metadata": {},
   "source": [
    "### mod_EOL_collection_eff\n"
   ]
  },
  {
   "cell_type": "code",
   "execution_count": 25,
   "metadata": {},
   "outputs": [],
   "source": [
    "# Module baseline mod.\n",
    "stage = 'mod_EOL_collection_eff'\n",
    "modhigh = 1.10\n",
    "modlow = 0.90\n",
    "stage_highname = 'HighEff_'+stage\n",
    "stage_lowname = 'LowEff'+stage\n",
    "\n",
    "\n",
    "r1.createScenario(name=stage_highname, file=MODULEBASELINE)\n",
    "r1.scenario[stage_highname].addMaterial(MATERIAL, file=MATERIALBASELINE)\n",
    "r1.scenario[stage_highname].data = PV_ICE.sens_StageImprovement(r1.scenario[stage_highname].data, \n",
    "                             stage=stage, improvement=modhigh, start_year=0)\n",
    "\n",
    "r1.createScenario(name=stage_lowname, file=MODULEBASELINE)\n",
    "r1.scenario[stage_lowname].addMaterial(MATERIAL, file=MATERIALBASELINE)\n",
    "r1.scenario[stage_lowname].data = PV_ICE.sens_StageImprovement(r1.scenario[stage_lowname].data, \n",
    "                             stage=stage, improvement=modlow, start_year=0)"
   ]
  },
  {
   "cell_type": "markdown",
   "metadata": {},
   "source": [
    "### mod_EOL_collected_recycled\n"
   ]
  },
  {
   "cell_type": "code",
   "execution_count": 26,
   "metadata": {},
   "outputs": [],
   "source": [
    "# Module baseline mod.\n",
    "stage = 'mod_EOL_collected_recycled'\n",
    "modhigh = 1.10\n",
    "modlow = 0.90\n",
    "stage_highname = 'HighEff_'+stage\n",
    "stage_lowname = 'LowEff'+stage\n",
    "\n",
    "\n",
    "r1.createScenario(name=stage_highname, file=MODULEBASELINE)\n",
    "r1.scenario[stage_highname].addMaterial(MATERIAL, file=MATERIALBASELINE)\n",
    "r1.scenario[stage_highname].data = PV_ICE.sens_StageImprovement(r1.scenario[stage_highname].data, \n",
    "                             stage=stage, improvement=modhigh, start_year=0)\n",
    "\n",
    "r1.createScenario(name=stage_lowname, file=MODULEBASELINE)\n",
    "r1.scenario[stage_lowname].addMaterial(MATERIAL, file=MATERIALBASELINE)\n",
    "r1.scenario[stage_lowname].data = PV_ICE.sens_StageImprovement(r1.scenario[stage_lowname].data, \n",
    "                             stage=stage, improvement=modlow, start_year=0)"
   ]
  },
  {
   "cell_type": "markdown",
   "metadata": {},
   "source": [
    "### mod_Repowering\n"
   ]
  },
  {
   "cell_type": "code",
   "execution_count": 27,
   "metadata": {},
   "outputs": [],
   "source": [
    "# Module baseline mod.\n",
    "stage = 'mod_Repowering'\n",
    "modhigh = 1.10\n",
    "modlow = 0.90\n",
    "stage_highname = 'HighEff_'+stage\n",
    "stage_lowname = 'LowEff'+stage\n",
    "\n",
    "\n",
    "r1.createScenario(name=stage_highname, file=MODULEBASELINE)\n",
    "r1.scenario[stage_highname].addMaterial(MATERIAL, file=MATERIALBASELINE)\n",
    "r1.scenario[stage_highname].data = PV_ICE.sens_StageImprovement(r1.scenario[stage_highname].data, \n",
    "                             stage=stage, improvement=modhigh, start_year=0)\n",
    "\n",
    "r1.createScenario(name=stage_lowname, file=MODULEBASELINE)\n",
    "r1.scenario[stage_lowname].addMaterial(MATERIAL, file=MATERIALBASELINE)\n",
    "r1.scenario[stage_lowname].data = PV_ICE.sens_StageImprovement(r1.scenario[stage_lowname].data, \n",
    "                             stage=stage, improvement=modlow, start_year=0)"
   ]
  },
  {
   "cell_type": "markdown",
   "metadata": {},
   "source": [
    "### mod_Repairing\n"
   ]
  },
  {
   "cell_type": "code",
   "execution_count": 28,
   "metadata": {},
   "outputs": [],
   "source": [
    "# Module baseline mod.\n",
    "stage = 'mod_Repairing'\n",
    "modhigh = 1.10\n",
    "modlow = 0.90\n",
    "stage_highname = 'HighEff_'+stage\n",
    "stage_lowname = 'LowEff'+stage\n",
    "\n",
    "\n",
    "r1.createScenario(name=stage_highname, file=MODULEBASELINE)\n",
    "r1.scenario[stage_highname].addMaterial(MATERIAL, file=MATERIALBASELINE)\n",
    "r1.scenario[stage_highname].data = PV_ICE.sens_StageImprovement(r1.scenario[stage_highname].data, \n",
    "                             stage=stage, improvement=modhigh, start_year=0)\n",
    "\n",
    "r1.createScenario(name=stage_lowname, file=MODULEBASELINE)\n",
    "r1.scenario[stage_lowname].addMaterial(MATERIAL, file=MATERIALBASELINE)\n",
    "r1.scenario[stage_lowname].data = PV_ICE.sens_StageImprovement(r1.scenario[stage_lowname].data, \n",
    "                             stage=stage, improvement=modlow, start_year=0)"
   ]
  },
  {
   "cell_type": "markdown",
   "metadata": {},
   "source": [
    "## Improving All EOL CE Pathways\n",
    "\n",
    "Includes\n",
    "\n",
    "    mod_EOL_collection_eff\n",
    "    mod_EOL_collected_recycled\n",
    "    mod_Repowering\n",
    "    mod_Repairing"
   ]
  },
  {
   "cell_type": "code",
   "execution_count": 29,
   "metadata": {},
   "outputs": [],
   "source": [
    "# Module baseline mod.\n",
    "stage = 'EOL_CE_Pathways'\n",
    "modhigh = 1.10 \n",
    "stage_highname = 'HighEff_'+stage\n",
    "\n",
    "r1.createScenario(name=stage_highname, file=MODULEBASELINE)\n",
    "r1.scenario[stage_highname].addMaterial(MATERIAL, file=MATERIALBASELINE)\n",
    "\n",
    "stages = ['mod_EOL_collection_eff', 'mod_EOL_collected_recycled', 'mod_Repowering', 'mod_Repairing']\n",
    "\n",
    "for i in range(0, len(stages)):\n",
    "    stage = stages[i]\n",
    "    r1.scenario[stage_highname].data = PV_ICE.sens_StageImprovement(r1.scenario[stage_highname].data, \n",
    "                                 stage=stage, improvement=modhigh, start_year=0)\n"
   ]
  },
  {
   "cell_type": "markdown",
   "metadata": {},
   "source": [
    "## Improving All EOL CE Pathways & Reliability\n",
    "\n",
    "Includes\n",
    "\n",
    "    mod_EOL_collection_eff\n",
    "    mod_EOL_collected_recycled\n",
    "    mod_Repowering\n",
    "    mod_Repairing\n",
    "    mod_reliability_t50\n",
    "    mod_reliability_t90\n",
    "    mod_lifetime"
   ]
  },
  {
   "cell_type": "code",
   "execution_count": 30,
   "metadata": {},
   "outputs": [],
   "source": [
    "# Module baseline mod.\n",
    "stage = 'Reliability_and_CE_Pathways'\n",
    "modhigh = 1.10\n",
    "stage_highname = 'HighEff_'+stage\n",
    "\n",
    "r1.createScenario(name=stage_highname, file=MODULEBASELINE)\n",
    "r1.scenario[stage_highname].addMaterial(MATERIAL, file=MATERIALBASELINE)\n",
    "\n",
    "stages = ['mod_EOL_collection_eff', 'mod_EOL_collected_recycled', 'mod_Repowering', 'mod_Repairing', \n",
    "          'mod_reliability_t50', 'mod_reliability_t90', 'mod_lifetime']\n",
    "\n",
    "for i in range(0, len(stages)):\n",
    "    stage = stages[i]\n",
    "    r1.scenario[stage_highname].data = PV_ICE.sens_StageImprovement(r1.scenario[stage_highname].data, \n",
    "                                 stage=stage, improvement=modhigh, start_year=0)\n"
   ]
  },
  {
   "cell_type": "markdown",
   "metadata": {},
   "source": [
    "# MASS FLOWS"
   ]
  },
  {
   "cell_type": "code",
   "execution_count": 31,
   "metadata": {},
   "outputs": [
    {
     "name": "stdout",
     "output_type": "stream",
     "text": [
      "Working on Scenario:  baseline\n",
      "********************\n",
      "Finished Area+Power Generation Calculations\n",
      "==> Working on Material :  glass\n",
      "Working on Scenario:  HighEff_mat_virgin_eff\n",
      "********************\n",
      "Finished Area+Power Generation Calculations\n",
      "==> Working on Material :  glass\n",
      "Working on Scenario:  LowEffmat_virgin_eff\n",
      "********************\n",
      "Finished Area+Power Generation Calculations\n",
      "==> Working on Material :  glass\n",
      "Working on Scenario:  HighEff_mat_massperm2\n",
      "********************\n",
      "Finished Area+Power Generation Calculations\n",
      "==> Working on Material :  glass\n",
      "Working on Scenario:  LowEffmat_massperm2\n",
      "********************\n",
      "Finished Area+Power Generation Calculations\n",
      "==> Working on Material :  glass\n",
      "Working on Scenario:  HighEff_mat_MFG_eff\n",
      "********************\n",
      "Finished Area+Power Generation Calculations\n",
      "==> Working on Material :  glass\n",
      "Working on Scenario:  LowEffmat_MFG_eff\n",
      "********************\n",
      "Finished Area+Power Generation Calculations\n",
      "==> Working on Material :  glass\n",
      "Working on Scenario:  HighEff_mat_MFG_scrap_Recycled\n",
      "********************\n",
      "Finished Area+Power Generation Calculations\n",
      "==> Working on Material :  glass\n",
      "Working on Scenario:  LowEffmat_MFG_scrap_Recycled\n",
      "********************\n",
      "Finished Area+Power Generation Calculations\n",
      "==> Working on Material :  glass\n",
      "Working on Scenario:  HighEff_mat_MFG_scrap_Recycling_eff\n",
      "********************\n",
      "Finished Area+Power Generation Calculations\n",
      "==> Working on Material :  glass\n",
      "Working on Scenario:  LowEffmat_MFG_scrap_Recycling_eff\n",
      "********************\n",
      "Finished Area+Power Generation Calculations\n",
      "==> Working on Material :  glass\n",
      "Working on Scenario:  HighEff_mat_MFG_scrap_Recycled_into_HQ_Reused4MFG\n",
      "********************\n",
      "Finished Area+Power Generation Calculations\n",
      "==> Working on Material :  glass\n",
      "Working on Scenario:  LowEffmat_MFG_scrap_Recycled_into_HQ_Reused4MFG\n",
      "********************\n",
      "Finished Area+Power Generation Calculations\n",
      "==> Working on Material :  glass\n",
      "Working on Scenario:  HighEff_mat_MFG_Scrap_Overall_Improvement\n",
      "********************\n",
      "Finished Area+Power Generation Calculations\n",
      "==> Working on Material :  glass\n",
      "Working on Scenario:  LowEffmat_MFG_Scrap_Overall_Improvement\n",
      "********************\n",
      "Finished Area+Power Generation Calculations\n",
      "==> Working on Material :  glass\n",
      "Working on Scenario:  HighEff_mat_EOL_collected_Recycled\n",
      "********************\n",
      "Finished Area+Power Generation Calculations\n",
      "==> Working on Material :  glass\n",
      "Working on Scenario:  LowEffmat_EOL_collected_Recycled\n",
      "********************\n",
      "Finished Area+Power Generation Calculations\n",
      "==> Working on Material :  glass\n",
      "Working on Scenario:  HighEff_mat_EOL_Recycling_eff\n",
      "********************\n",
      "Finished Area+Power Generation Calculations\n",
      "==> Working on Material :  glass\n",
      "Working on Scenario:  LowEffmat_EOL_Recycling_eff\n",
      "********************\n",
      "Finished Area+Power Generation Calculations\n",
      "==> Working on Material :  glass\n",
      "Working on Scenario:  HighEff_mat_EOL_Recycled_into_HQ\n",
      "********************\n",
      "Finished Area+Power Generation Calculations\n",
      "==> Working on Material :  glass\n",
      "Working on Scenario:  LowEffmat_EOL_Recycled_into_HQ\n",
      "********************\n",
      "Finished Area+Power Generation Calculations\n",
      "==> Working on Material :  glass\n",
      "Working on Scenario:  HighEff_mat_EOL_RecycledHQ_Reused4MFG\n",
      "********************\n",
      "Finished Area+Power Generation Calculations\n",
      "==> Working on Material :  glass\n",
      "Working on Scenario:  LowEffmat_EOL_RecycledHQ_Reused4MFG\n",
      "********************\n",
      "Finished Area+Power Generation Calculations\n",
      "==> Working on Material :  glass\n",
      "Working on Scenario:  HighEff_mat_EOL_Recycling_Overall_Improvement\n",
      "********************\n",
      "Finished Area+Power Generation Calculations\n",
      "==> Working on Material :  glass\n",
      "Working on Scenario:  LowEffmat_EOL_Recycling_Overall_Improvement\n",
      "********************\n",
      "Finished Area+Power Generation Calculations\n",
      "==> Working on Material :  glass\n",
      "Working on Scenario:  HighEff_new_Installed_Capacity_[MW]\n",
      "********************\n",
      "Finished Area+Power Generation Calculations\n",
      "==> Working on Material :  glass\n",
      "Working on Scenario:  LowEffnew_Installed_Capacity_[MW]\n",
      "********************\n",
      "Finished Area+Power Generation Calculations\n",
      "==> Working on Material :  glass\n",
      "Working on Scenario:  HighEff_mod_eff\n",
      "********************\n",
      "Finished Area+Power Generation Calculations\n",
      "==> Working on Material :  glass\n",
      "Working on Scenario:  LowEffmod_eff\n",
      "********************\n",
      "Finished Area+Power Generation Calculations\n",
      "==> Working on Material :  glass\n",
      "Working on Scenario:  HighEff_reliability\n",
      "********************\n",
      "Finished Area+Power Generation Calculations\n",
      "==> Working on Material :  glass\n",
      "Working on Scenario:  LowEffreliability\n",
      "********************\n",
      "Finished Area+Power Generation Calculations\n",
      "==> Working on Material :  glass\n",
      "Working on Scenario:  HighEff_mod_MFG_eff\n",
      "********************\n",
      "Finished Area+Power Generation Calculations\n",
      "==> Working on Material :  glass\n",
      "Working on Scenario:  LowEffmod_MFG_eff\n",
      "********************\n",
      "Finished Area+Power Generation Calculations\n",
      "==> Working on Material :  glass\n",
      "Working on Scenario:  HighEff_mod_EOL_collection_eff\n",
      "********************\n",
      "Finished Area+Power Generation Calculations\n",
      "==> Working on Material :  glass\n",
      "Working on Scenario:  LowEffmod_EOL_collection_eff\n",
      "********************\n",
      "Finished Area+Power Generation Calculations\n",
      "==> Working on Material :  glass\n",
      "Working on Scenario:  HighEff_mod_EOL_collected_recycled\n",
      "********************\n",
      "Finished Area+Power Generation Calculations\n",
      "==> Working on Material :  glass\n",
      "Working on Scenario:  LowEffmod_EOL_collected_recycled\n",
      "********************\n",
      "Finished Area+Power Generation Calculations\n",
      "==> Working on Material :  glass\n",
      "Working on Scenario:  HighEff_mod_Repowering\n",
      "********************\n",
      "Finished Area+Power Generation Calculations\n",
      "==> Working on Material :  glass\n",
      "Working on Scenario:  LowEffmod_Repowering\n",
      "********************\n",
      "Finished Area+Power Generation Calculations\n",
      "==> Working on Material :  glass\n",
      "Working on Scenario:  HighEff_mod_Repairing\n",
      "********************\n",
      "Finished Area+Power Generation Calculations\n",
      "==> Working on Material :  glass\n",
      "Working on Scenario:  LowEffmod_Repairing\n",
      "********************\n",
      "Finished Area+Power Generation Calculations\n",
      "==> Working on Material :  glass\n",
      "Working on Scenario:  HighEff_EOL_CE_Pathways\n",
      "********************\n",
      "Finished Area+Power Generation Calculations\n",
      "==> Working on Material :  glass\n",
      "Working on Scenario:  HighEff_Reliability_and_CE_Pathways\n",
      "********************\n",
      "Finished Area+Power Generation Calculations\n",
      "==> Working on Material :  glass\n"
     ]
    }
   ],
   "source": [
    "r1.calculateMassFlow()\n"
   ]
  },
  {
   "cell_type": "code",
   "execution_count": 32,
   "metadata": {},
   "outputs": [],
   "source": [
    "scenarios = list(r1.scenario.keys())"
   ]
  },
  {
   "cell_type": "code",
   "execution_count": 33,
   "metadata": {},
   "outputs": [
    {
     "data": {
      "text/plain": [
       "['baseline',\n",
       " 'HighEff_mat_virgin_eff',\n",
       " 'LowEffmat_virgin_eff',\n",
       " 'HighEff_mat_massperm2',\n",
       " 'LowEffmat_massperm2',\n",
       " 'HighEff_mat_MFG_eff',\n",
       " 'LowEffmat_MFG_eff',\n",
       " 'HighEff_mat_MFG_scrap_Recycled',\n",
       " 'LowEffmat_MFG_scrap_Recycled',\n",
       " 'HighEff_mat_MFG_scrap_Recycling_eff',\n",
       " 'LowEffmat_MFG_scrap_Recycling_eff',\n",
       " 'HighEff_mat_MFG_scrap_Recycled_into_HQ_Reused4MFG',\n",
       " 'LowEffmat_MFG_scrap_Recycled_into_HQ_Reused4MFG',\n",
       " 'HighEff_mat_MFG_Scrap_Overall_Improvement',\n",
       " 'LowEffmat_MFG_Scrap_Overall_Improvement',\n",
       " 'HighEff_mat_EOL_collected_Recycled',\n",
       " 'LowEffmat_EOL_collected_Recycled',\n",
       " 'HighEff_mat_EOL_Recycling_eff',\n",
       " 'LowEffmat_EOL_Recycling_eff',\n",
       " 'HighEff_mat_EOL_Recycled_into_HQ',\n",
       " 'LowEffmat_EOL_Recycled_into_HQ',\n",
       " 'HighEff_mat_EOL_RecycledHQ_Reused4MFG',\n",
       " 'LowEffmat_EOL_RecycledHQ_Reused4MFG',\n",
       " 'HighEff_mat_EOL_Recycling_Overall_Improvement',\n",
       " 'LowEffmat_EOL_Recycling_Overall_Improvement',\n",
       " 'HighEff_new_Installed_Capacity_[MW]',\n",
       " 'LowEffnew_Installed_Capacity_[MW]',\n",
       " 'HighEff_mod_eff',\n",
       " 'LowEffmod_eff',\n",
       " 'HighEff_reliability',\n",
       " 'LowEffreliability',\n",
       " 'HighEff_mod_MFG_eff',\n",
       " 'LowEffmod_MFG_eff',\n",
       " 'HighEff_mod_EOL_collection_eff',\n",
       " 'LowEffmod_EOL_collection_eff',\n",
       " 'HighEff_mod_EOL_collected_recycled',\n",
       " 'LowEffmod_EOL_collected_recycled',\n",
       " 'HighEff_mod_Repowering',\n",
       " 'LowEffmod_Repowering',\n",
       " 'HighEff_mod_Repairing',\n",
       " 'LowEffmod_Repairing',\n",
       " 'HighEff_EOL_CE_Pathways',\n",
       " 'HighEff_Reliability_and_CE_Pathways']"
      ]
     },
     "execution_count": 33,
     "metadata": {},
     "output_type": "execute_result"
    }
   ],
   "source": [
    "scenarios"
   ]
  },
  {
   "cell_type": "code",
   "execution_count": 64,
   "metadata": {},
   "outputs": [],
   "source": [
    "virginStock_Changes = []\n",
    "waste_Changes = []\n",
    "installedCapacity_Changes = []\n",
    "\n",
    "virgin_keyword = 'mat_Virgin_Stock'\n",
    "waste_keyword = 'mat_Total_Landfilled'\n",
    "\n",
    "virginStock_baseline_cum2050 = r1.scenario['baseline'].material[MATERIAL].materialdata[virgin_keyword].sum()\n",
    "waste_baseline_cum2050 = r1.scenario['baseline'].material[MATERIAL].materialdata[waste_keyword].sum()\n",
    "installedCapacity_baselined_2050 = r1.scenario['baseline'].data['Installed_Capacity_[W]'].iloc[-1]\n",
    "\n",
    "for i in range (1, len(scenarios)):\n",
    "    stage_name = scenarios[i]\n",
    "    virginStock_Changes.append(round(100*r1.scenario[stage_name].material[MATERIAL].materialdata[virgin_keyword].sum()/virginStock_baseline_cum2050,5)-100)\n",
    "    waste_Changes.append(round(100*r1.scenario[stage_name].material[MATERIAL].materialdata[waste_keyword].sum()/waste_baseline_cum2050,5)-100)\n",
    "    installedCapacity_Changes.append(round(100*r1.scenario[stage_name].data['Installed_Capacity_[W]'].iloc[-1]/installedCapacity_baselined_2050,5)-100)"
   ]
  },
  {
   "cell_type": "code",
   "execution_count": 65,
   "metadata": {},
   "outputs": [
    {
     "data": {
      "text/plain": [
       "1418390364652.0596"
      ]
     },
     "execution_count": 65,
     "metadata": {},
     "output_type": "execute_result"
    }
   ],
   "source": [
    "r1.scenario['baseline'].data['Installed_Capacity_[W]'].iloc[-1]"
   ]
  },
  {
   "cell_type": "code",
   "execution_count": 66,
   "metadata": {},
   "outputs": [],
   "source": [
    "stages = scenarios[1::]"
   ]
  },
  {
   "cell_type": "code",
   "execution_count": null,
   "metadata": {},
   "outputs": [],
   "source": []
  },
  {
   "cell_type": "code",
   "execution_count": 67,
   "metadata": {},
   "outputs": [],
   "source": [
    "df = pd.DataFrame(list(zip(virginStock_Changes, waste_Changes, installedCapacity_Changes)), \n",
    "               columns=['Virgin Needs Change', 'Waste Change', 'InstalledCapacity Change'],index=stages) "
   ]
  },
  {
   "cell_type": "code",
   "execution_count": 126,
   "metadata": {},
   "outputs": [],
   "source": [
    "df_Pos = df[['HighEff' in s for s in df.index]].copy()\n",
    "    "
   ]
  },
  {
   "cell_type": "code",
   "execution_count": 127,
   "metadata": {},
   "outputs": [],
   "source": [
    "#df_Pos = df_Pos.applymap(lambda x: str(x).rstrip('HighEff_'))"
   ]
  },
  {
   "cell_type": "code",
   "execution_count": 128,
   "metadata": {},
   "outputs": [],
   "source": [
    "df_Pos.index = df_Pos.index.str.replace(\"HighEff_\", \"\")"
   ]
  },
  {
   "cell_type": "code",
   "execution_count": 129,
   "metadata": {},
   "outputs": [],
   "source": [
    "variables_description = {'mat_virgin_eff': \"Material Virgin Efficiency\",\n",
    "    'mat_massperm2': \"Mass per m2\",\n",
    "    'mat_MFG_eff': \"Efficiency of Material Use during Module Manufacturing\",\n",
    "    'mat_MFG_scrap_Recycled': \"% of Material Scrap from Manufacturing that undergoes Recycling\",\n",
    "    'mat_MFG_scrap_Recycling_eff': \"Recycling Efficiency of the Material Scrap\",\n",
    "    'mat_MFG_scrap_Recycling_eff': \"% of Recycled Material Scrap that is high quality\",\n",
    "    'mat_MFG_scrap_Recycled_into_HQ_Reused4MFG': \"% of high quality Recycled Material Scrap reused for manufacturing\",\n",
    "    'new_Installed_Capacity_[MW]': \"New Installed Capacity\",\n",
    "    'mod_eff': \"Module Efficiency\",\n",
    "    'mod_EOL_collection_eff': \"Collection Efficiency of EoL Modules\",\n",
    "    'mod_EOL_collected_recycled': \"% of collected modules that are recycled\",\n",
    "    'mod_Repowering': \"% of EOL modules that are repowered\",\n",
    "    'mod_Repairing' : \"% of failed modules that undergo repair\",\n",
    "    'mat_EOL_collected_Recycled': \"% of times material is chosen to be recycled\",\n",
    "    'mat_EOL_Recycling_eff': \"Efficiency of material recycling\",\n",
    "    'mat_EOL_Recycled_into_HQ': \"Fraction of recycled material that is high quality\",\n",
    "    'mat_EOL_RecycledHQ_Reused4MFG': \"Fraction of high quality recycled material that is reused for manufacturing\",\n",
    "    'EOL_CE_Pathways': \"Overall improvement on EoL Circularity Pathways\",\n",
    "    'Reliability_and_CE_Pathways': \"Overall improvement on Eol Circularity Pathways + Reliability and Lifetime\",\n",
    "    'mat_EOL_Recycling_Overall_Improvement': \"Overall Improvement on EoL Recycling Loop\"}\n"
   ]
  },
  {
   "cell_type": "code",
   "execution_count": 130,
   "metadata": {},
   "outputs": [],
   "source": [
    "col_verbose = []\n",
    "\n",
    "for i in range (0, len(df_Pos)):\n",
    "    if df_Pos.index[i] in variables_description:\n",
    "        col_verbose.append(variables_description[df_Pos.index[i]])\n",
    "    else:\n",
    "        col_verbose.append(\"\")"
   ]
  },
  {
   "cell_type": "code",
   "execution_count": null,
   "metadata": {},
   "outputs": [],
   "source": []
  },
  {
   "cell_type": "code",
   "execution_count": 131,
   "metadata": {},
   "outputs": [],
   "source": [
    "df_Pos['Description'] = col_verbose"
   ]
  },
  {
   "cell_type": "code",
   "execution_count": null,
   "metadata": {},
   "outputs": [],
   "source": [
    "df_Pos = df_Pos.reset_index()\n",
    "df_Pos = df_Pos.rename(columns={'index':'variable'})"
   ]
  },
  {
   "cell_type": "code",
   "execution_count": 140,
   "metadata": {},
   "outputs": [
    {
     "data": {
      "text/html": [
       "<div>\n",
       "<style scoped>\n",
       "    .dataframe tbody tr th:only-of-type {\n",
       "        vertical-align: middle;\n",
       "    }\n",
       "\n",
       "    .dataframe tbody tr th {\n",
       "        vertical-align: top;\n",
       "    }\n",
       "\n",
       "    .dataframe thead th {\n",
       "        text-align: right;\n",
       "    }\n",
       "</style>\n",
       "<table border=\"1\" class=\"dataframe\">\n",
       "  <thead>\n",
       "    <tr style=\"text-align: right;\">\n",
       "      <th></th>\n",
       "      <th>variable</th>\n",
       "      <th>Virgin Needs Change</th>\n",
       "      <th>Waste Change</th>\n",
       "      <th>InstalledCapacity Change</th>\n",
       "      <th>Description</th>\n",
       "    </tr>\n",
       "  </thead>\n",
       "  <tbody>\n",
       "    <tr>\n",
       "      <th>0</th>\n",
       "      <td>mat_virgin_eff</td>\n",
       "      <td>0.00000</td>\n",
       "      <td>0.00000</td>\n",
       "      <td>0.00000</td>\n",
       "      <td>Material Virgin Efficiency</td>\n",
       "    </tr>\n",
       "    <tr>\n",
       "      <th>1</th>\n",
       "      <td>mat_massperm2</td>\n",
       "      <td>-9.99988</td>\n",
       "      <td>-9.99891</td>\n",
       "      <td>0.00000</td>\n",
       "      <td>Mass per m2</td>\n",
       "    </tr>\n",
       "    <tr>\n",
       "      <th>2</th>\n",
       "      <td>mat_MFG_eff</td>\n",
       "      <td>11.03202</td>\n",
       "      <td>64.98219</td>\n",
       "      <td>0.00000</td>\n",
       "      <td>Efficiency of Material Use during Module Manuf...</td>\n",
       "    </tr>\n",
       "    <tr>\n",
       "      <th>3</th>\n",
       "      <td>mat_MFG_scrap_Recycled</td>\n",
       "      <td>0.00892</td>\n",
       "      <td>4.34305</td>\n",
       "      <td>0.00000</td>\n",
       "      <td>% of Material Scrap from Manufacturing that un...</td>\n",
       "    </tr>\n",
       "    <tr>\n",
       "      <th>4</th>\n",
       "      <td>mat_MFG_scrap_Recycling_eff</td>\n",
       "      <td>0.00892</td>\n",
       "      <td>4.34305</td>\n",
       "      <td>0.00000</td>\n",
       "      <td>% of Recycled Material Scrap that is high quality</td>\n",
       "    </tr>\n",
       "    <tr>\n",
       "      <th>5</th>\n",
       "      <td>mat_MFG_scrap_Recycled_into_HQ_Reused4MFG</td>\n",
       "      <td>0.00892</td>\n",
       "      <td>0.00000</td>\n",
       "      <td>0.00000</td>\n",
       "      <td>% of high quality Recycled Material Scrap reus...</td>\n",
       "    </tr>\n",
       "    <tr>\n",
       "      <th>6</th>\n",
       "      <td>mat_MFG_Scrap_Overall_Improvement</td>\n",
       "      <td>0.03067</td>\n",
       "      <td>8.25180</td>\n",
       "      <td>0.00000</td>\n",
       "      <td></td>\n",
       "    </tr>\n",
       "    <tr>\n",
       "      <th>7</th>\n",
       "      <td>mat_EOL_collected_Recycled</td>\n",
       "      <td>0.00009</td>\n",
       "      <td>0.07694</td>\n",
       "      <td>0.00000</td>\n",
       "      <td>% of times material is chosen to be recycled</td>\n",
       "    </tr>\n",
       "    <tr>\n",
       "      <th>8</th>\n",
       "      <td>mat_EOL_Recycling_eff</td>\n",
       "      <td>0.00009</td>\n",
       "      <td>0.07694</td>\n",
       "      <td>0.00000</td>\n",
       "      <td>Efficiency of material recycling</td>\n",
       "    </tr>\n",
       "    <tr>\n",
       "      <th>9</th>\n",
       "      <td>mat_EOL_Recycled_into_HQ</td>\n",
       "      <td>0.00009</td>\n",
       "      <td>0.00000</td>\n",
       "      <td>0.00000</td>\n",
       "      <td>Fraction of recycled material that is high qua...</td>\n",
       "    </tr>\n",
       "    <tr>\n",
       "      <th>10</th>\n",
       "      <td>mat_EOL_RecycledHQ_Reused4MFG</td>\n",
       "      <td>0.00009</td>\n",
       "      <td>0.00000</td>\n",
       "      <td>0.00000</td>\n",
       "      <td>Fraction of high quality recycled material tha...</td>\n",
       "    </tr>\n",
       "    <tr>\n",
       "      <th>11</th>\n",
       "      <td>mat_EOL_Recycling_Overall_Improvement</td>\n",
       "      <td>0.00033</td>\n",
       "      <td>0.14620</td>\n",
       "      <td>0.00000</td>\n",
       "      <td>Overall Improvement on EoL Recycling Loop</td>\n",
       "    </tr>\n",
       "    <tr>\n",
       "      <th>12</th>\n",
       "      <td>new_Installed_Capacity_[MW]</td>\n",
       "      <td>-4.99994</td>\n",
       "      <td>-4.99945</td>\n",
       "      <td>-5.00000</td>\n",
       "      <td>New Installed Capacity</td>\n",
       "    </tr>\n",
       "    <tr>\n",
       "      <th>13</th>\n",
       "      <td>mod_eff</td>\n",
       "      <td>5.26309</td>\n",
       "      <td>5.26258</td>\n",
       "      <td>0.00226</td>\n",
       "      <td>Module Efficiency</td>\n",
       "    </tr>\n",
       "    <tr>\n",
       "      <th>14</th>\n",
       "      <td>reliability</td>\n",
       "      <td>-0.00008</td>\n",
       "      <td>2.85777</td>\n",
       "      <td>8.29363</td>\n",
       "      <td></td>\n",
       "    </tr>\n",
       "    <tr>\n",
       "      <th>15</th>\n",
       "      <td>mod_MFG_eff</td>\n",
       "      <td>11.03202</td>\n",
       "      <td>64.98219</td>\n",
       "      <td>0.00000</td>\n",
       "      <td></td>\n",
       "    </tr>\n",
       "    <tr>\n",
       "      <th>16</th>\n",
       "      <td>mod_EOL_collection_eff</td>\n",
       "      <td>0.00009</td>\n",
       "      <td>0.07694</td>\n",
       "      <td>0.00000</td>\n",
       "      <td>Collection Efficiency of EoL Modules</td>\n",
       "    </tr>\n",
       "    <tr>\n",
       "      <th>17</th>\n",
       "      <td>mod_EOL_collected_recycled</td>\n",
       "      <td>0.00009</td>\n",
       "      <td>0.07694</td>\n",
       "      <td>0.00000</td>\n",
       "      <td>% of collected modules that are recycled</td>\n",
       "    </tr>\n",
       "    <tr>\n",
       "      <th>18</th>\n",
       "      <td>mod_Repowering</td>\n",
       "      <td>0.00000</td>\n",
       "      <td>0.00000</td>\n",
       "      <td>0.00000</td>\n",
       "      <td>% of EOL modules that are repowered</td>\n",
       "    </tr>\n",
       "    <tr>\n",
       "      <th>19</th>\n",
       "      <td>mod_Repairing</td>\n",
       "      <td>0.00000</td>\n",
       "      <td>0.00000</td>\n",
       "      <td>0.00000</td>\n",
       "      <td>% of failed modules that undergo repair</td>\n",
       "    </tr>\n",
       "  </tbody>\n",
       "</table>\n",
       "</div>"
      ],
      "text/plain": [
       "                                     variable  Virgin Needs Change  \\\n",
       "0                              mat_virgin_eff              0.00000   \n",
       "1                               mat_massperm2             -9.99988   \n",
       "2                                 mat_MFG_eff             11.03202   \n",
       "3                      mat_MFG_scrap_Recycled              0.00892   \n",
       "4                 mat_MFG_scrap_Recycling_eff              0.00892   \n",
       "5   mat_MFG_scrap_Recycled_into_HQ_Reused4MFG              0.00892   \n",
       "6           mat_MFG_Scrap_Overall_Improvement              0.03067   \n",
       "7                  mat_EOL_collected_Recycled              0.00009   \n",
       "8                       mat_EOL_Recycling_eff              0.00009   \n",
       "9                    mat_EOL_Recycled_into_HQ              0.00009   \n",
       "10              mat_EOL_RecycledHQ_Reused4MFG              0.00009   \n",
       "11      mat_EOL_Recycling_Overall_Improvement              0.00033   \n",
       "12                new_Installed_Capacity_[MW]             -4.99994   \n",
       "13                                    mod_eff              5.26309   \n",
       "14                                reliability             -0.00008   \n",
       "15                                mod_MFG_eff             11.03202   \n",
       "16                     mod_EOL_collection_eff              0.00009   \n",
       "17                 mod_EOL_collected_recycled              0.00009   \n",
       "18                             mod_Repowering              0.00000   \n",
       "19                              mod_Repairing              0.00000   \n",
       "\n",
       "    Waste Change  InstalledCapacity Change  \\\n",
       "0        0.00000                   0.00000   \n",
       "1       -9.99891                   0.00000   \n",
       "2       64.98219                   0.00000   \n",
       "3        4.34305                   0.00000   \n",
       "4        4.34305                   0.00000   \n",
       "5        0.00000                   0.00000   \n",
       "6        8.25180                   0.00000   \n",
       "7        0.07694                   0.00000   \n",
       "8        0.07694                   0.00000   \n",
       "9        0.00000                   0.00000   \n",
       "10       0.00000                   0.00000   \n",
       "11       0.14620                   0.00000   \n",
       "12      -4.99945                  -5.00000   \n",
       "13       5.26258                   0.00226   \n",
       "14       2.85777                   8.29363   \n",
       "15      64.98219                   0.00000   \n",
       "16       0.07694                   0.00000   \n",
       "17       0.07694                   0.00000   \n",
       "18       0.00000                   0.00000   \n",
       "19       0.00000                   0.00000   \n",
       "\n",
       "                                          Description  \n",
       "0                          Material Virgin Efficiency  \n",
       "1                                         Mass per m2  \n",
       "2   Efficiency of Material Use during Module Manuf...  \n",
       "3   % of Material Scrap from Manufacturing that un...  \n",
       "4   % of Recycled Material Scrap that is high quality  \n",
       "5   % of high quality Recycled Material Scrap reus...  \n",
       "6                                                      \n",
       "7        % of times material is chosen to be recycled  \n",
       "8                    Efficiency of material recycling  \n",
       "9   Fraction of recycled material that is high qua...  \n",
       "10  Fraction of high quality recycled material tha...  \n",
       "11          Overall Improvement on EoL Recycling Loop  \n",
       "12                             New Installed Capacity  \n",
       "13                                  Module Efficiency  \n",
       "14                                                     \n",
       "15                                                     \n",
       "16               Collection Efficiency of EoL Modules  \n",
       "17           % of collected modules that are recycled  \n",
       "18                % of EOL modules that are repowered  \n",
       "19            % of failed modules that undergo repair  "
      ]
     },
     "execution_count": 140,
     "metadata": {},
     "output_type": "execute_result"
    }
   ],
   "source": [
    "df_Neg = df[['LowEff' in s for s in df.index]].copy()\n",
    "df_Neg.index = df_Neg.index.str.replace(\"LowEff\", \"\")\n",
    "\n",
    "col_verbose = []\n",
    "\n",
    "for i in range (0, len(df_Neg)):\n",
    "    if df_Neg.index[i] in variables_description:\n",
    "        col_verbose.append(variables_description[df_Neg.index[i]])\n",
    "    else:\n",
    "        col_verbose.append(\"\")\n",
    "\n",
    "df_Neg['Description'] = col_verbose\n",
    "df_Neg = df_Neg.reset_index()\n",
    "df_Neg = df_Neg.rename(columns={'index':'variable'})\n",
    "df_Neg"
   ]
  },
  {
   "cell_type": "code",
   "execution_count": null,
   "metadata": {},
   "outputs": [],
   "source": []
  },
  {
   "cell_type": "markdown",
   "metadata": {},
   "source": [
    "# Print Values for a Senki Diagram, 1 year"
   ]
  },
  {
   "cell_type": "code",
   "execution_count": null,
   "metadata": {},
   "outputs": [],
   "source": []
  },
  {
   "cell_type": "code",
   "execution_count": null,
   "metadata": {},
   "outputs": [],
   "source": [
    "mat_UsedSuccessfullyinModuleManufacturing = r1.scenario['baseline'].material[MATERIAL].materialdata['mat_UsedSuccessfullyinModuleManufacturing'].sum()\n",
    "mat_MFG_Scrap = r1.scenario['baseline'].material[MATERIAL].materialdata['mat_MFG_Scrap'].sum()\n",
    "mat_MFG_Scrap_Sentto_Recycling = r1.scenario['baseline'].material[MATERIAL].materialdata['mat_MFG_Scrap_Sentto_Recycling'].sum()\n",
    "mat_MFG_Scrap_Landfilled = r1.scenario['baseline'].material[MATERIAL].materialdata['mat_MFG_Scrap_Landfilled'].sum()\n",
    "mat_MFG_Scrap_Recycled_Successfully = r1.scenario['baseline'].material[MATERIAL].materialdata['mat_MFG_Scrap_Recycled_Successfully'].sum()\n",
    "mat_MFG_Scrap_Recycled_Losses_Landfilled = r1.scenario['baseline'].material[MATERIAL].materialdata['mat_MFG_Scrap_Recycled_Losses_Landfilled'].sum()\n",
    "mat_MFG_Recycled_into_HQ = r1.scenario['baseline'].material[MATERIAL].materialdata['mat_MFG_Recycled_into_HQ'].sum()\n",
    "mat_MFG_Recycled_into_OQ = r1.scenario['baseline'].material[MATERIAL].materialdata['mat_MFG_Recycled_into_OQ'].sum()\n",
    "mat_MFG_Recycled_HQ_into_MFG = r1.scenario['baseline'].material[MATERIAL].materialdata['mat_MFG_Recycled_HQ_into_MFG'].sum()\n",
    "mat_MFG_Recycled_HQ_into_OU = r1.scenario['baseline'].material[MATERIAL].materialdata['mat_MFG_Recycled_HQ_into_OU'].sum()\n",
    "\n",
    "mat_modules_NotCollected = r1.scenario['baseline'].material[MATERIAL].materialdata['mat_modules_NotCollected'].sum()\n",
    "mat_EOL_Collected = mat_UsedSuccessfullyinModuleManufacturing-mat_modules_NotCollected\n",
    "mat_EOL_collected_Recycled = r1.scenario['baseline'].material[MATERIAL].materialdata['mat_EOL_collected_Recycled'].sum()\n",
    "mat_EOL_NotRecycled_Landfilled = r1.scenario['baseline'].material[MATERIAL].materialdata['mat_EOL_NotRecycled_Landfilled'].sum()\n",
    "mat_EOL_Recycled = r1.scenario['baseline'].material[MATERIAL].materialdata['mat_EOL_Recycled'].sum()\n",
    "mat_EOL_Recycled_Losses_Landfilled = r1.scenario['baseline'].material[MATERIAL].materialdata['mat_EOL_Recycled_Losses_Landfilled'].sum()\n",
    "mat_EOL_Recycled_2_HQ = r1.scenario['baseline'].material[MATERIAL].materialdata['mat_EOL_Recycled_2_HQ'].sum()\n",
    "mat_EOL_Recycled_2_OQ = r1.scenario['baseline'].material[MATERIAL].materialdata['mat_EOL_Recycled_2_OQ'].sum()\n",
    "mat_EoL_Recycled_HQ_into_MFG = r1.scenario['baseline'].material[MATERIAL].materialdata['mat_EoL_Recycled_HQ_into_MFG'].sum()\n",
    "mat_EOL_Recycled_HQ_into_OU = r1.scenario['baseline'].material[MATERIAL].materialdata['mat_EOL_Recycled_HQ_into_OU'].sum()"
   ]
  },
  {
   "cell_type": "markdown",
   "metadata": {},
   "source": [
    "mat_Virgin_Stock, mat_UsedSuccessfullyinModuleManufacturing\n",
    "mat_Virgin_Stock, mat_MFG_Scrap\n",
    "mat_MFG_Scrap, mat_MFG_Scrap_Sentto_Recycling\n",
    "mat_MFG_Scrap, mat_MFG_Scrap_Landfilled\n",
    "mat_MFG_Scrap_Sentto_Recycling, mat_MFG_Scrap_Recycled_Successfully\n",
    "mat_MFG_Scrap_Sentto_Recycling, mat_MFG_Scrap_Recycled_Losses_Landfilled\n",
    "mat_MFG_Scrap_Recycled_Successfully, mat_MFG_Recycled_into_HQ\n",
    "mat_MFG_Scrap_Recycled_Successfully, mat_MFG_Recycled_into_OQ\n",
    "mat_MFG_Recycled_into_HQ, mat_MFG_Recycled_HQ_into_MFG\n",
    "mat_MFG_Recycled_into_HQ, mat_MFG_Recycled_HQ_into_OU\n",
    "\n",
    "mat_UsedSuccessfullyinModuleManufacturing, mat_modules_NotCollected\n",
    "mat_UsedSuccessfullyinModuleManufacturing, (mat_UsedSuccessfullyinModuleManufacturing-mat_modules_NotCollected) # mat collected\n",
    "(mat_UsedSuccessfullyinModuleManufacturing-mat_modules_NotCollected), mat_EOL_collected_Recycled\n",
    "(mat_UsedSuccessfullyinModuleManufacturing-mat_modules_NotCollected), mat_EOL_NotRecycled_Landfilled\n",
    "mat_EOL_collected_Recycled, mat_EOL_Recycled\n",
    "mat_EOL_collected_Recycled, mat_EOL_Recycled_Losses_Landfilled\n",
    "mat_EOL_Recycled, mat_EOL_Recycled_2_HQ\n",
    "mat_EOL_Recycled, mat_EOL_Recycled_2_OQ\n",
    "mat_EOL_Recycled_2_HQ, mat_EoL_Recycled_HQ_into_MFG\n",
    "mat_EOL_Recycled_2_HQ, mat_EOL_Recycled_HQ_into_OU\n"
   ]
  },
  {
   "cell_type": "code",
   "execution_count": null,
   "metadata": {},
   "outputs": [],
   "source": [
    "print(mat_UsedSuccessfullyinModuleManufacturing,', ','Virgin Stock',', ','Modules')\n",
    "print(mat_MFG_Scrap,', ','Virgin Stock',', ','Manufacturing Scrap')\n",
    "print(mat_MFG_Scrap_Sentto_Recycling,', ','Manufacturing Scrap',', ','Sent to Recycling')\n",
    "print(mat_MFG_Scrap_Landfilled,', ','Manufacturing Scrap',', ','Waste')\n",
    "print(mat_MFG_Scrap_Recycled_Successfully,', ','Sent to Recycling',', ','Recycled')\n",
    "print(mat_MFG_Scrap_Recycled_Losses_Landfilled,', ','Sent to Recycling',', ','Waste')\n",
    "print(mat_MFG_Recycled_into_HQ,', ','Recycled',', ','HQ')\n",
    "print(mat_MFG_Recycled_into_OQ,', ','Recycled',', ','OQ')\n",
    "print(mat_MFG_Recycled_HQ_into_MFG,', ','HQ',', ','HQ_Mfg')\n",
    "print(mat_MFG_Recycled_HQ_into_OU,', ','HQ',', ','HQ Other Uses')\n",
    "\n",
    "print(mat_modules_NotCollected,', ','Modules,', ',mat_modules_NotCollected')\n",
    "print((mat_UsedSuccessfullyinModuleManufacturing-mat_modules_NotCollected),', ','Modules',', ','EOL Collected')\n",
    "print(mat_EOL_collected_Recycled,', ','EOL Collected',', ','Sent to Recycling')\n",
    "print(mat_EOL_NotRecycled_Landfilled,', ','EOL Collected',', ','Waste')\n",
    "print(mat_EOL_Recycled,', ','Sent to Recycling',', ','Recycled')\n",
    "print(mat_EOL_Recycled_Losses_Landfilled,', ','Sent to Recycling',', ','Waste')\n",
    "print(mat_EOL_Recycled_2_HQ,', ','Recycled',', ','HQ')\n",
    "print(mat_EOL_Recycled_2_OQ,', ','Recycled',', ','OQ')\n",
    "print(mat_EoL_Recycled_HQ_into_MFG,', ','HQ',', ','HQ_Mfg')\n",
    "print(mat_EOL_Recycled_HQ_into_OU,', ','HQ',', ','HQ Other Uses')\n"
   ]
  },
  {
   "cell_type": "code",
   "execution_count": null,
   "metadata": {
    "scrolled": true
   },
   "outputs": [],
   "source": [
    "print('Virgin Stock',',','Modules',',',mat_UsedSuccessfullyinModuleManufacturing)\n",
    "print('Virgin Stock',',','Manufacturing Scrap',',',mat_MFG_Scrap)\n",
    "print('Manufacturing Scrap',',','Sent to Recycling',',',mat_MFG_Scrap_Sentto_Recycling)\n",
    "print('Manufacturing Scrap',',','Waste',',',mat_MFG_Scrap_Landfilled)\n",
    "print('Sent to Recycling',',','Recycled',',',mat_MFG_Scrap_Recycled_Successfully)\n",
    "print('Sent to Recycling',',','Waste',',',mat_MFG_Scrap_Recycled_Losses_Landfilled)\n",
    "print('Recycled',',','HQ',',',mat_MFG_Recycled_into_HQ)\n",
    "print('Recycled',',','OQ',',',mat_MFG_Recycled_into_OQ)\n",
    "print('HQ',',','HQ_Mfg',',',mat_MFG_Recycled_HQ_into_MFG)\n",
    "print('HQ',',','HQ Other Uses',',',mat_MFG_Recycled_HQ_into_OU)\n",
    "\n",
    "print('Modules,',',mat_modules_NotCollected',',',mat_modules_NotCollected)\n",
    "print('Modules',',','EOL Collected',',',mat_EOL_Collected)\n",
    "print('EOL Collected',',','Sent to Recycling',',',mat_EOL_collected_Recycled)\n",
    "print('EOL Collected',',','Waste',',',mat_EOL_NotRecycled_Landfilled)\n",
    "print('Sent to Recycling',',','Recycled',',',mat_EOL_Recycled)\n",
    "print('Sent to Recycling',',','Waste',',',mat_EOL_Recycled_Losses_Landfilled)\n",
    "print('Recycled',',','HQ',',',mat_EOL_Recycled_2_HQ)\n",
    "print('Recycled',',','OQ',',',mat_EOL_Recycled_2_OQ)\n",
    "print('HQ',',','HQ_Mfg',',',mat_EoL_Recycled_HQ_into_MFG)\n",
    "print('HQ',',','HQ Other Uses',',',mat_EOL_Recycled_HQ_into_OU)\n"
   ]
  },
  {
   "cell_type": "code",
   "execution_count": null,
   "metadata": {},
   "outputs": [],
   "source": [
    "print('Virgin Stock,Modules,',mat_UsedSuccessfullyinModuleManufacturing)\n",
    "print('Virgin Stock,Manufacturing Scrap,',mat_MFG_Scrap)\n",
    "print('Manufacturing Scrap,Sent to Recycling,',mat_MFG_Scrap_Sentto_Recycling)\n",
    "print('Manufacturing Scrap,Waste,',mat_MFG_Scrap_Landfilled)\n",
    "print('Sent to Recycling,Recycled,',mat_MFG_Scrap_Recycled_Successfully)\n",
    "print('Sent to Recycling,Waste,',mat_MFG_Scrap_Recycled_Losses_Landfilled)\n",
    "print('Recycled,HQ,',mat_MFG_Recycled_into_HQ)\n",
    "print('Recycled,OQ,',mat_MFG_Recycled_into_OQ)\n",
    "print('HQ,HQ_Mfg,',mat_MFG_Recycled_HQ_into_MFG)\n",
    "print('HQ,HQ Other Uses,',mat_MFG_Recycled_HQ_into_OU)\n",
    "\n",
    "print('Modules,mat_modules_NotCollected,',mat_modules_NotCollected)\n",
    "print('Modules,EOL Collected,',mat_EOL_Collected)\n",
    "print('EOL Collected,Sent to Recycling,',mat_EOL_collected_Recycled)\n",
    "print('EOL Collected,Waste,',mat_EOL_NotRecycled_Landfilled)\n",
    "print('Sent to Recycling,Recycled,',mat_EOL_Recycled)\n",
    "print('Sent to Recycling,Waste,',mat_EOL_Recycled_Losses_Landfilled)\n",
    "print('Recycled,HQ,',mat_EOL_Recycled_2_HQ)\n",
    "print('Recycled,OQ,',mat_EOL_Recycled_2_OQ)\n",
    "print('HQ,HQ_Mfg,',mat_EoL_Recycled_HQ_into_MFG)\n",
    "print('HQ,HQ Other Uses,',mat_EOL_Recycled_HQ_into_OU)\n"
   ]
  },
  {
   "cell_type": "code",
   "execution_count": null,
   "metadata": {},
   "outputs": [],
   "source": []
  },
  {
   "cell_type": "code",
   "execution_count": null,
   "metadata": {},
   "outputs": [],
   "source": [
    "# Material Baseline Mod. Results\n",
    "\"\"\"\n",
    "resultkeyword = 'mat_Virgin_Stock'\n",
    "print(\"Baseline Cum Value 2050 \", resultkeyword, \": \", r1.scenario['baseline'].material[MATERIAL].materialdata[resultkeyword].sum())\n",
    "print(\"High Eff \", stage, resultkeyword, \": \", int(100*r1.scenario[stage_highname].material[MATERIAL].materialdata[resultkeyword].sum()/r1.scenario['baseline'].material[MATERIAL].materialdata[resultkeyword].sum()))\n",
    "print(\"Low Eff\", stage, resultkeyword, \": \", int(100*r1.scenario[stage_lowname].material[MATERIAL].materialdata[resultkeyword].sum()/r1.scenario['baseline'].material[MATERIAL].materialdata[resultkeyword].sum()))\n",
    "\n",
    "resultkeyword = 'mat_Total_Landfilled'\n",
    "print(\"Baseline Cum Value 2050 \", resultkeyword, \": \", r1.scenario['baseline'].material[MATERIAL].materialdata[resultkeyword].sum())\n",
    "print(\"High Eff \", stage, resultkeyword, \": \", int(100*r1.scenario[stage_highname].material[MATERIAL].materialdata[resultkeyword].sum()/r1.scenario['baseline'].material[MATERIAL].materialdata[resultkeyword].sum()))\n",
    "print(\"Low Eff\", stage, resultkeyword, \": \", int(100*r1.scenario[stage_lowname].material[MATERIAL].materialdata[resultkeyword].sum()/r1.scenario['baseline'].material[MATERIAL].materialdata[resultkeyword].sum()))\n",
    "r\"\"\";"
   ]
  },
  {
   "cell_type": "code",
   "execution_count": null,
   "metadata": {},
   "outputs": [],
   "source": [
    "\"\"\"\n",
    "fig, ax1 = plt.subplots()\n",
    "ax1.plot(r1.scenario['baseline'].data.year, r1.scenario['baseline'].material[MATERIAL].materialdata['mat_Total_Landfilled']/r1.scenario['baseline'].material[MATERIAL].materialdata['mat_Total_Landfilled'], label='base eff')\n",
    "ax1.plot(r1.scenario['baseline'].data.year, r1.scenario['baseline_HighMatManufEff'].material[MATERIAL].materialdata['mat_Total_Landfilled']/r1.scenario['baseline'].material[MATERIAL].materialdata['mat_Total_Landfilled'], label='high eff')\n",
    "ax1.plot(r1.scenario['baseline'].data.year, r1.scenario['baseline_lowMatManufEff'].material[MATERIAL].materialdata['mat_Total_Landfilled']/r1.scenario['baseline'].material[MATERIAL].materialdata['mat_Total_Landfilled'], label='low eff')\n",
    "\n",
    "ax2 = ax1.twinx()\n",
    "ax2.plot(r1.scenario['baseline'].data.year, r1.scenario['baseline'].material[MATERIAL].materialdata['mat_MFG_eff'], '.')\n",
    "ax2.plot(r1.scenario['baseline'].data.year, r1.scenario['baseline_HighMatManufEff'].material[MATERIAL].materialdata['mat_MFG_eff'], '.')\n",
    "ax2.plot(r1.scenario['baseline'].data.year, r1.scenario['baseline_lowMatManufEff'].material[MATERIAL].materialdata['mat_MFG_eff'], '.')\n",
    "ax1.legend()\n",
    "\"\"\";"
   ]
  },
  {
   "cell_type": "code",
   "execution_count": null,
   "metadata": {},
   "outputs": [],
   "source": []
  },
  {
   "cell_type": "code",
   "execution_count": null,
   "metadata": {},
   "outputs": [],
   "source": []
  },
  {
   "cell_type": "code",
   "execution_count": null,
   "metadata": {},
   "outputs": [],
   "source": []
  }
 ],
 "metadata": {
  "kernelspec": {
   "display_name": "Python 3",
   "language": "python",
   "name": "python3"
  },
  "language_info": {
   "codemirror_mode": {
    "name": "ipython",
    "version": 3
   },
   "file_extension": ".py",
   "mimetype": "text/x-python",
   "name": "python",
   "nbconvert_exporter": "python",
   "pygments_lexer": "ipython3",
   "version": "3.7.3"
  }
 },
 "nbformat": 4,
 "nbformat_minor": 2
}
