{
 "cells": [
  {
   "cell_type": "code",
   "execution_count": 1,
   "metadata": {},
   "outputs": [],
   "source": [
    "import numpy as np\n",
    "import pandas as pd\n",
    "import os,sys\n",
    "import matplotlib.pyplot as plt\n",
    "plt.rcParams.update({'font.size': 22})\n",
    "plt.rcParams['figure.figsize'] = (12, 8)\n",
    "\n",
    "cwd = os.getcwd() #grabs current working directory\n",
    "skipcols = ['Source']"
   ]
  },
  {
   "cell_type": "markdown",
   "metadata": {},
   "source": [
    "This journal documents the maths undertaken to estimate the amount of aluminium per meter squared of module as contributed by the frame (i.e. not the aluminium found within the module)."
   ]
  },
  {
   "cell_type": "code",
   "execution_count": 2,
   "metadata": {},
   "outputs": [],
   "source": [
    "al_frame_raw = pd.read_csv(cwd+\"/../../PV_ICE/baselines/SupportingMaterial/marketshare_moduleSize_al_frames.csv\", \n",
    "                           index_col='Year', usecols=lambda x: x not in skipcols)\n",
    "module_size_raw = pd.read_csv(cwd+\"/../../PV_ICE/baselines/SupportingMaterial/MarketShare_moduleSize_Peeters2017.csv\", \n",
    "                           index_col='Year')"
   ]
  },
  {
   "cell_type": "markdown",
   "metadata": {},
   "source": [
    "First, we're going to create a lovely baseline from the module size data as derived from Peeters et al. 2017. These data were drawn from PV datasheets, and given a marketshare value from 1992 through 2015. This data may be more specific to Flanders, but it appears to be consistent with ITRPV 2019 and 2020 data, as well as older sources. Therefore, we will utilize this data to represent the increasing size of the module and the perimeter of the module (for the frame).\n",
    "\n",
    "J. R. Peeters, D. Altamirano, W. Dewulf, and J. R. Duflou, “Forecasting the composition of emerging waste streams with sensitivity analysis: A case study for photovoltaic (PV) panels in Flanders,” Resources, Conservation and Recycling, vol. 120, pp. 14–26, May 2017, doi: 10.1016/j.resconrec.2017.01.001.\n"
   ]
  },
  {
   "cell_type": "code",
   "execution_count": 3,
   "metadata": {},
   "outputs": [
    {
     "name": "stdout",
     "output_type": "stream",
     "text": [
      "      0.5x1  0.7x1.4  0.55x1.2  0.8x1.2  0.8x1.6  0.7x1.5  1x1.5  1x1.65\n",
      "Year                                                                    \n",
      "1992  100.0      0.0       0.0      0.0      0.0      0.0    0.0     0.0\n",
      "1993   75.0     25.0       0.0      0.0      0.0      0.0    0.0     0.0\n",
      "1994   70.0     20.0       5.0      5.0      0.0      0.0    0.0     0.0\n",
      "1995   60.0     20.0      10.0     10.0      0.0      0.0    0.0     0.0\n",
      "1996   50.0     20.0      15.0     15.0      0.0      0.0    0.0     0.0\n",
      "1997   10.0     20.0      30.0     30.0     10.0      0.0    0.0     0.0\n",
      "1998    0.0      0.0      30.0     40.0     30.0      0.0    0.0     0.0\n",
      "1999    0.0      0.0      25.0     35.0     40.0      0.0    0.0     0.0\n",
      "2000    0.0      0.0      20.0     30.0     50.0      0.0    0.0     0.0\n",
      "2001    0.0      0.0      15.0     25.0     60.0      0.0    0.0     0.0\n",
      "2002    0.0      0.0      10.0     20.0     70.0      0.0    0.0     0.0\n",
      "2003    0.0      0.0      10.0     15.0     55.0     10.0    5.0     5.0\n",
      "2004    0.0      0.0       5.0      5.0     50.0     20.0   10.0    10.0\n",
      "2005    0.0      0.0       0.0      0.0     10.0     30.0   30.0    30.0\n",
      "2006    0.0      0.0       0.0      0.0     10.0     25.0   25.0    40.0\n",
      "2007    0.0      0.0       0.0      0.0     10.0     20.0   20.0    50.0\n",
      "2008    0.0      0.0       0.0      0.0     10.0     15.0   15.0    60.0\n",
      "2009    0.0      0.0       0.0      0.0     10.0     10.0   10.0    70.0\n",
      "2010    0.0      0.0       0.0      0.0      5.0     10.0   10.0    75.0\n",
      "2011    0.0      0.0       0.0      0.0      5.0      5.0   10.0    80.0\n",
      "2012    0.0      0.0       0.0      0.0      5.0      5.0    5.0    85.0\n",
      "2013    0.0      0.0       0.0      0.0      5.0      0.0    5.0    90.0\n",
      "2014    0.0      0.0       0.0      0.0      0.0      0.0    5.0    95.0\n",
      "2015    0.0      0.0       0.0      0.0      0.0      0.0    0.0   100.0\n"
     ]
    }
   ],
   "source": [
    "module_size_fill = module_size_raw.interpolate(limit_direction='both') #fill in 0s and 100s\n",
    "print(module_size_fill)"
   ]
  },
  {
   "cell_type": "code",
   "execution_count": 23,
   "metadata": {},
   "outputs": [
    {
     "name": "stdout",
     "output_type": "stream",
     "text": [
      "             x     y  area  perimeter\n",
      "0.5x1     0.50  1.00  0.50        3.0\n",
      "0.7x1.4   0.70  1.40  0.98        4.2\n",
      "0.55x1.2  0.55  1.20  0.66        3.5\n",
      "0.8x1.2   0.80  1.20  0.96        4.0\n",
      "0.8x1.6   0.80  1.60  1.28        4.8\n",
      "0.7x1.5   0.70  1.50  1.05        4.4\n",
      "1x1.5     1.00  1.50  1.50        5.0\n",
      "1x1.65    1.00  1.65  1.65        5.3\n",
      "           0.5x1  0.7x1.4  0.55x1.2  0.8x1.2  0.8x1.6  0.7x1.5  1x1.5  1x1.65\n",
      "x            0.5     0.70      0.55     0.80     0.80     0.70    1.0    1.00\n",
      "y            1.0     1.40      1.20     1.20     1.60     1.50    1.5    1.65\n",
      "area         0.5     0.98      0.66     0.96     1.28     1.05    1.5    1.65\n",
      "perimeter    3.0     4.20      3.50     4.00     4.80     4.40    5.0    5.30\n"
     ]
    }
   ],
   "source": [
    "mrktshr_sizes_1992_2015 = module_size_fill/100 #turn into fractions\n",
    "#check = mrktshr_sizes_1992_2015.agg('sum', 'columns')\n",
    "#print(check)\n",
    "\n",
    "d = {'1':[0.5,1],\n",
    "    '2':[0.7,1.4],\n",
    "    '3':[0.55,1.2],\n",
    "    '4':[0.8,1.2],\n",
    "    '5':[0.8,1.6],\n",
    "    '6':[0.7,1.5],\n",
    "    '7':[1,1.5],\n",
    "    '8':[1,1.65]} #dataframe of module area values to multiply\n",
    "\n",
    "peeters_dims = pd.DataFrame(data=d)\n",
    "peeters_dims_cols = peeters_dims.transpose()\n",
    "peeters_dims_cols.columns = ['x','y']\n",
    "peeters_dims_cols['area'] = peeters_dims_cols['x']*peeters_dims_cols['y']\n",
    "peeters_dims_cols['perimeter'] = peeters_dims_cols['x']*2+2*peeters_dims_cols['y']\n",
    "peeters_dims_full = peeters_dims_cols.transpose()\n",
    "peeters_dims_cols.index = peeters_dims_full.columns = mrktshr_sizes_1992_2015.columns\n",
    "\n",
    "print(peeters_dims_cols)\n",
    "print(peeters_dims_full)"
   ]
  },
  {
   "cell_type": "code",
   "execution_count": 40,
   "metadata": {},
   "outputs": [],
   "source": [
    "#multiply the above dataframes together to get module size and perimeter weighted by marketshare\n",
    "area = pd.Series(peeters_dims_full.loc['area'])\n",
    "wtd_module_area = mrktshr_sizes_1992_2015.mul(area,'columns')\n",
    "\n",
    "perimeter = pd.Series(peeters_dims_full.loc['perimeter'])\n",
    "wtd_module_perimeter = mrktshr_sizes_1992_2015.mul(perimeter,'columns')\n",
    "\n",
    "#print(wtd_module_area)\n",
    "#print(wtd_module_perimeter)"
   ]
  },
  {
   "cell_type": "code",
   "execution_count": 48,
   "metadata": {},
   "outputs": [
    {
     "data": {
      "text/plain": [
       "Text(0, 0.5, '[m2] and [m]')"
      ]
     },
     "execution_count": 48,
     "metadata": {},
     "output_type": "execute_result"
    },
    {
     "data": {
      "image/png": "[encoded data removed]",
      "text/plain": [
       "<Figure size 432x288 with 1 Axes>"
      ]
     },
     "metadata": {
      "needs_background": "light"
     },
     "output_type": "display_data"
    }
   ],
   "source": [
    "#now agg together for annual average area and perimeter\n",
    "avg_module_area = wtd_module_area.agg('sum', 'columns')\n",
    "avg_module_perimeter = wtd_module_perimeter.agg('sum', 'columns')\n",
    "\n",
    "#print(avg_module_area)\n",
    "#print(avg_module_perimeter)\n",
    "\n",
    "plt.plot(avg_module_area, label='area, m2')\n",
    "plt.plot(avg_module_perimeter, label = 'perimeter, m')\n",
    "plt.legend()\n",
    "plt.ylabel('[m2] and [m]')"
   ]
  }
 ],
 "metadata": {
  "kernelspec": {
   "display_name": "Python 3",
   "language": "python",
   "name": "python3"
  },
  "language_info": {
   "codemirror_mode": {
    "name": "ipython",
    "version": 3
   },
   "file_extension": ".py",
   "mimetype": "text/x-python",
   "name": "python",
   "nbconvert_exporter": "python",
   "pygments_lexer": "ipython3",
   "version": "3.7.4"
  }
 },
 "nbformat": 4,
 "nbformat_minor": 2
}
