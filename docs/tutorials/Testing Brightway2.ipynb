{
 "cells": [
  {
   "cell_type": "code",
   "execution_count": null,
   "metadata": {},
   "outputs": [],
   "source": [
    "#To install bw2, use https://2.docs.brightway.dev/installation.html"
   ]
  },
  {
   "cell_type": "code",
   "execution_count": 1,
   "metadata": {},
   "outputs": [],
   "source": [
    "#remember to launch this from the command line in the \"mytestenv\" environment\n",
    "#because currently bw2 is only installed in that environment?\n",
    "import os\n",
    "import numpy as np\n",
    "import pandas as pd\n",
    "import brightway2 as bw2\n"
   ]
  },
  {
   "cell_type": "code",
   "execution_count": 7,
   "metadata": {},
   "outputs": [
    {
     "data": {
      "text/plain": [
       "'bw2-seminar-tutorial'"
      ]
     },
     "execution_count": 7,
     "metadata": {},
     "output_type": "execute_result"
    }
   ],
   "source": [
    "bw2.projects.create_project('bw2-seminar-tutorial')\n",
    "bw2.projects.set_current('bw2-seminar-tutorial')\n",
    "bw2.projects.current #shows current project\n",
    "#also \"see what projects you have on your computer by running list(bw.projects)\""
   ]
  },
  {
   "cell_type": "code",
   "execution_count": 11,
   "metadata": {},
   "outputs": [
    {
     "name": "stdout",
     "output_type": "stream",
     "text": [
      "Creating default biosphere\n",
      "\n"
     ]
    },
    {
     "name": "stderr",
     "output_type": "stream",
     "text": [
      "Writing activities to SQLite3 database:\n"
     ]
    },
    {
     "name": "stdout",
     "output_type": "stream",
     "text": [
      "Applying strategy: normalize_units\n",
      "Applying strategy: drop_unspecified_subcategories\n",
      "Applied 2 strategies in 0.02 seconds\n"
     ]
    },
    {
     "name": "stderr",
     "output_type": "stream",
     "text": [
      "0% [##############################] 100% | ETA: 00:00:00\n",
      "Total time elapsed: 00:00:01\n"
     ]
    },
    {
     "name": "stdout",
     "output_type": "stream",
     "text": [
      "Title: Writing activities to SQLite3 database:\n",
      "  Started: 09/10/2020 16:14:50\n",
      "  Finished: 09/10/2020 16:14:51\n",
      "  Total time elapsed: 00:00:01\n",
      "  CPU %: 89.30\n",
      "  Memory %: 0.83\n",
      "Created database: biosphere3\n",
      "Creating default LCIA methods\n",
      "\n",
      "Applying strategy: normalize_units\n",
      "Applying strategy: set_biosphere_type\n",
      "Applying strategy: drop_unspecified_subcategories\n",
      "Applying strategy: link_iterable_by_fields\n",
      "Applied 4 strategies in 5.53 seconds\n",
      "Wrote 850 LCIA methods with 219059 characterization factors\n",
      "Creating core data migrations\n",
      "\n"
     ]
    }
   ],
   "source": [
    "bw2.projects.dir\n",
    "bw2.bw2setup() # need this to create pathways, mapping, and methods - it creates biosphere3"
   ]
  },
  {
   "cell_type": "markdown",
   "metadata": {},
   "source": [
    "# #activities in the database"
   ]
  },
  {
   "cell_type": "code",
   "execution_count": 29,
   "metadata": {},
   "outputs": [
    {
     "data": {
      "text/plain": [
       "{'categories': ('soil', 'agricultural'),\n",
       " 'code': '50eebfd4-1b99-45d6-a149-68a6d4568cb4',\n",
       " 'CAS number': '099607-70-2',\n",
       " 'name': 'Cloquintocet-mexyl',\n",
       " 'database': 'biosphere3',\n",
       " 'unit': 'kilogram',\n",
       " 'type': 'emission'}"
      ]
     },
     "execution_count": 29,
     "metadata": {},
     "output_type": "execute_result"
    }
   ],
   "source": [
    "bw2.databases\n",
    "mybio = bw2.Database('biosphere3')\n",
    "#type(mybio)\n",
    "#len(mybio)\n",
    "random = mybio.random() #returns a random \"activity\" from the database, these can be assigned to a variable for use\n",
    "#LCA language for here; an \"activity\" is an elementary flow in LCA world. \n",
    "#here activities are linked by edges (exchanges)\n",
    "type(random)\n",
    "random.as_dict() #this shows what is contained in the activity"
   ]
  },
  {
   "cell_type": "code",
   "execution_count": 33,
   "metadata": {},
   "outputs": [
    {
     "data": {
      "text/plain": [
       "tuple"
      ]
     },
     "execution_count": 33,
     "metadata": {},
     "output_type": "execute_result"
    }
   ],
   "source": [
    "key = ('biosphere3', random['code']) #creates a tuple to pass to the get function\n",
    "bw2.get_activity(key) #the get function takes in a sinple argument in the form of the tuple of a database name and it's code\n",
    "type(random.key) #this is the better way to get the key of a a particular activity"
   ]
  },
  {
   "cell_type": "code",
   "execution_count": 39,
   "metadata": {},
   "outputs": [
    {
     "name": "stdout",
     "output_type": "stream",
     "text": [
      "Excluding 18 filtered results\n"
     ]
    },
    {
     "data": {
      "text/plain": [
       "['Carbon dioxide, fossil' (kilogram, None, ('air', 'non-urban air or from high stacks')),\n",
       " 'Carbon dioxide, fossil' (kilogram, None, ('air', 'urban air close to ground')),\n",
       " 'Carbon dioxide, non-fossil' (kilogram, None, ('air', 'non-urban air or from high stacks')),\n",
       " 'Carbon dioxide, non-fossil' (kilogram, None, ('air', 'urban air close to ground'))]"
      ]
     },
     "execution_count": 39,
     "metadata": {},
     "output_type": "execute_result"
    }
   ],
   "source": [
    "#How to Search for an item in the database\n",
    "bw2.Database('biosphere3').search('silver') #returns all with that title\n",
    "#filter down using\n",
    "bw2.Database('biosphere3').search('carbon dioxide', filter={'categories':'urban', 'name':'fossil'})\n",
    "#can use forloop iteration to search as well"
   ]
  },
  {
   "cell_type": "markdown",
   "metadata": {},
   "source": [
    "# #methods"
   ]
  },
  {
   "cell_type": "code",
   "execution_count": null,
   "metadata": {},
   "outputs": [],
   "source": []
  }
 ],
 "metadata": {
  "kernelspec": {
   "display_name": "Python 3",
   "language": "python",
   "name": "python3"
  },
  "language_info": {
   "codemirror_mode": {
    "name": "ipython",
    "version": 3
   },
   "file_extension": ".py",
   "mimetype": "text/x-python",
   "name": "python",
   "nbconvert_exporter": "python",
   "pygments_lexer": "ipython3",
   "version": "3.7.6"
  }
 },
 "nbformat": 4,
 "nbformat_minor": 4
}
