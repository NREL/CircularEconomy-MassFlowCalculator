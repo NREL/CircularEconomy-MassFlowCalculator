{
 "cells": [
  {
   "cell_type": "markdown",
   "metadata": {},
   "source": [
    "# (baseline development) Glass per M2 Calculations\n"
   ]
  },
  {
   "cell_type": "markdown",
   "metadata": {},
   "source": [
    "Based on ITRPV numbers for the most part, this journal attempts to correlate front glass thickness values with the introduction of glass-glass modules.\n",
    "\n",
    "Standard front glass thickness is set to 3.2 mm, based on ITRPV 2014, 2012 and 2011. Starting 2017, front glass are divided into >3 mm, 2-3 mm. Assuming that >3mm is still 3.2 mm. Thinner modules in the range of 2-3mm coincide with the values of Glass-Glass modules, so we are assuming all thiner modules have a backside of same thickness as front of 2.5 mm\n",
    "\n",
    "So overall thickness of glass per panel goes from 3.2 to 5 mm for Glass-backsheet to Glass-Glass modules.\n"
   ]
  },
  {
   "cell_type": "code",
   "execution_count": 1,
   "metadata": {},
   "outputs": [],
   "source": [
    "import numpy as np\n",
    "import pandas as pd\n",
    "import os,sys\n",
    "import matplotlib.pyplot as plt\n",
    "plt.rcParams.update({'font.size': 22})\n",
    "plt.rcParams['figure.figsize'] = (12, 8)\n",
    "\n",
    "cwd = os.getcwd() #grabs current working directory\n",
    "skipcols = ['Source', 'Source.1']\n",
    "density_glass = 2500*1000 # g/m^3    \n"
   ]
  },
  {
   "cell_type": "markdown",
   "metadata": {},
   "source": [
    "#### Up to 2012"
   ]
  },
  {
   "cell_type": "code",
   "execution_count": 2,
   "metadata": {},
   "outputs": [
    {
     "name": "stdout",
     "output_type": "stream",
     "text": [
      "Glass g/m2 up to 2012: 8000.0\n"
     ]
    }
   ],
   "source": [
    "\n",
    "thickness_glass = 0.0032  # m\n",
    "glassperm2 = thickness_glass * density_glass\n",
    "print(\"Glass g/m2 up to 2012:\", glassperm2)"
   ]
  },
  {
   "cell_type": "markdown",
   "metadata": {},
   "source": [
    "#### 2013 - 2016"
   ]
  },
  {
   "cell_type": "markdown",
   "metadata": {},
   "source": [
    "Glass-Glass percentage starts to increase over the following years. \n",
    "\n",
    "On ITRPV, percentage for 2013 is 98% glass-backsheet,\n",
    "percentage for 2014 is 96 % glass-backsheet\n",
    "percentage for 2016 is 97 % glass -backsheet.\n",
    "\n",
    "We think it's strange that the % of glass-glass modules went suddenly up in 2014 and then back down in 2016. However we're going ahead with this percentages and will quantify this disaprity as uncertainty with the MC analysis.\n",
    "\n",
    "Data is not available on Glass-Glass modules for 2015 so we're interpolating between previous year"
   ]
  },
  {
   "cell_type": "code",
   "execution_count": 3,
   "metadata": {},
   "outputs": [
    {
     "name": "stdout",
     "output_type": "stream",
     "text": [
      "Glass g/m2 2013: 8160.0\n"
     ]
    }
   ],
   "source": [
    "#2013\n",
    "thickness_glass = 0.0032 * 0.98 + (0.0032+0.0032)*0.02 # m\n",
    "glassperm2 = thickness_glass * density_glass\n",
    "print(\"Glass g/m2 2013:\", glassperm2)"
   ]
  },
  {
   "cell_type": "code",
   "execution_count": 4,
   "metadata": {},
   "outputs": [
    {
     "name": "stdout",
     "output_type": "stream",
     "text": [
      "Glass for 2014: 8320.0\n"
     ]
    }
   ],
   "source": [
    "#2014\n",
    "thickness_glass = 0.0032 * 0.96 + (0.0032+0.0032)*0.04 # m\n",
    "glassperm2 = thickness_glass * density_glass\n",
    "print(\"Glass for 2014:\", glassperm2)"
   ]
  },
  {
   "cell_type": "code",
   "execution_count": 5,
   "metadata": {},
   "outputs": [
    {
     "name": "stdout",
     "output_type": "stream",
     "text": [
      "Glass g/m2 2015: 8280.0\n"
     ]
    }
   ],
   "source": [
    "#2015\n",
    "thickness_glass = 0.0032 * 0.965 + (0.0032+0.0032)*0.035 # m\n",
    "glassperm2 = thickness_glass * density_glass\n",
    "print(\"Glass g/m2 2015:\", glassperm2)"
   ]
  },
  {
   "cell_type": "code",
   "execution_count": 6,
   "metadata": {},
   "outputs": [
    {
     "name": "stdout",
     "output_type": "stream",
     "text": [
      "Glass g/m2 2016: 8240.0\n"
     ]
    }
   ],
   "source": [
    "#2016 \n",
    "thickness_glass = 0.0032 * 0.97 + (0.0032+0.0032)*0.03 # m\n",
    "glassperm2 = thickness_glass * density_glass\n",
    "print(\"Glass g/m2 2016:\", glassperm2)"
   ]
  },
  {
   "cell_type": "markdown",
   "metadata": {},
   "source": [
    "#### 2017 onwards\n",
    "\n",
    "Starting 2017, ITRPV includes data on modules with Front glass between 2-3mm thick. Data is also available in various years for the percentage of modules that are Glass-Backsheet, vs Glass-Glass. The percentages for 2-3mm and Glass-Glass modules are very similar. We're assuming that 100% of the Glass-Glass modules are therefore 2-3mm thick for their front AND their back glass. Remaining percentage (if any) of 2-3mm front glasses are assumed to be Glass-backsheet.\n",
    "For example for 2017:\n",
    "\n",
    "![ITRPV Glass thicknesses deduction example](../images_wiki/ITRPV_GlassDeduction.PNG)\n"
   ]
  },
  {
   "cell_type": "code",
   "execution_count": 7,
   "metadata": {},
   "outputs": [
    {
     "name": "stdout",
     "output_type": "stream",
     "text": [
      "2017: 8225.000000000002\n"
     ]
    }
   ],
   "source": [
    "#2017\n",
    "thickness_glass = 0.0032 * (0.94 + 0.01) + (0.0025+0.0025)*0.05 # m\n",
    "glassperm2 = thickness_glass * density_glass\n",
    "print(\"2017:\", glassperm2)"
   ]
  },
  {
   "cell_type": "markdown",
   "metadata": {},
   "source": [
    "Years afer 2017 that don't have values for any these two categories got interpolated."
   ]
  },
  {
   "cell_type": "markdown",
   "metadata": {},
   "source": [
    "## Calculations of glassper m2 using ITRPV projections"
   ]
  },
  {
   "cell_type": "markdown",
   "metadata": {},
   "source": [
    "Typically, glass-glass modules use 2 different sheets of glass on the front and back. The frontside thickness has slowly but steadily decreased, as recorded by ITRPVs. The back side glass is typically thinner or equal to the front side; here we will assume it is of equal thickness. "
   ]
  },
  {
   "cell_type": "code",
   "execution_count": 13,
   "metadata": {
    "scrolled": false
   },
   "outputs": [
    {
     "name": "stdout",
     "output_type": "stream",
     "text": [
      "      glass-backsheet  glass-glass  foil-foil  3pt2mm  gtr3mm  2to3mm  less2mm\n",
      "Year                                                                          \n",
      "1995              NaN          NaN        NaN     NaN     NaN     NaN      NaN\n",
      "1996              NaN          NaN        NaN     NaN     NaN     NaN      NaN\n",
      "1997              NaN          NaN        NaN     NaN     NaN     NaN      NaN\n",
      "1998              NaN          NaN        NaN     NaN     NaN     NaN      NaN\n",
      "1999              NaN          NaN        NaN     NaN     NaN     NaN      NaN\n",
      "2000              NaN          NaN        NaN     NaN     NaN     NaN      NaN\n",
      "2001              NaN          NaN        NaN     NaN     NaN     NaN      NaN\n",
      "2002              NaN          NaN        NaN     NaN     NaN     NaN      NaN\n",
      "2003              NaN          NaN        NaN     NaN     NaN     NaN      NaN\n",
      "2004              NaN          NaN        NaN     NaN     NaN     NaN      NaN\n",
      "2005              NaN          NaN        NaN     NaN     NaN     NaN      NaN\n",
      "2006              NaN          NaN        NaN     NaN     NaN     NaN      NaN\n",
      "2007              NaN          NaN        NaN     NaN     NaN     NaN      NaN\n",
      "2008              NaN          NaN        NaN     NaN     NaN     NaN      NaN\n",
      "2009              NaN          NaN        NaN     NaN     NaN     NaN      NaN\n",
      "2010              NaN          NaN        NaN     NaN     NaN     NaN      NaN\n",
      "2011              NaN          NaN        NaN   100.0     NaN     NaN      NaN\n",
      "2012              NaN          NaN        NaN   100.0     NaN     NaN      NaN\n",
      "2013             98.0          2.0        NaN   100.0     NaN     NaN      NaN\n",
      "2014             96.0          4.0        NaN     NaN     NaN     NaN      NaN\n",
      "2015              NaN          NaN        NaN     NaN     NaN     NaN      NaN\n",
      "2016             97.0          3.0        NaN     NaN     NaN     NaN      NaN\n",
      "2017             95.0          5.0        NaN     NaN    94.0     6.0      0.0\n",
      "2018             94.0          6.0        NaN     NaN    93.0     7.0      0.0\n",
      "2019             90.0         10.0        NaN     NaN    90.0    10.0      0.0\n",
      "2020             85.0         15.0        NaN     NaN    85.0    15.0      0.0\n",
      "2021              NaN          NaN        NaN     NaN     NaN     NaN      NaN\n",
      "2022             81.0         18.0        1.0     NaN    81.0    18.0      1.0\n",
      "2023              NaN          NaN        NaN     NaN     NaN     NaN      NaN\n",
      "2024             78.0         21.0        1.0     NaN    72.0    24.0      4.0\n",
      "2025              NaN          NaN        NaN     NaN     NaN     NaN      NaN\n",
      "2026              NaN          NaN        NaN     NaN     NaN     NaN      NaN\n",
      "2027             71.0         26.0        3.0     NaN    64.0    32.0      4.0\n",
      "2028              NaN          NaN        NaN     NaN     NaN     NaN      NaN\n",
      "2029              NaN          NaN        NaN     NaN     NaN     NaN      NaN\n",
      "2030             65.0         31.0        4.0     NaN    60.0    35.0      5.0\n",
      "2031              NaN          NaN        NaN     NaN     NaN     NaN      NaN\n",
      "2032              NaN          NaN        NaN     NaN     NaN     NaN      NaN\n",
      "2033              NaN          NaN        NaN     NaN     NaN     NaN      NaN\n",
      "2034              NaN          NaN        NaN     NaN     NaN     NaN      NaN\n",
      "2035              NaN          NaN        NaN     NaN     NaN     NaN      NaN\n",
      "2036              NaN          NaN        NaN     NaN     NaN     NaN      NaN\n",
      "2037              NaN          NaN        NaN     NaN     NaN     NaN      NaN\n",
      "2038              NaN          NaN        NaN     NaN     NaN     NaN      NaN\n",
      "2039              NaN          NaN        NaN     NaN     NaN     NaN      NaN\n",
      "2040              NaN          NaN        NaN     NaN     NaN     NaN      NaN\n",
      "2041              NaN          NaN        NaN     NaN     NaN     NaN      NaN\n",
      "2042              NaN          NaN        NaN     NaN     NaN     NaN      NaN\n",
      "2043              NaN          NaN        NaN     NaN     NaN     NaN      NaN\n",
      "2044              NaN          NaN        NaN     NaN     NaN     NaN      NaN\n",
      "2045              NaN          NaN        NaN     NaN     NaN     NaN      NaN\n",
      "2046              NaN          NaN        NaN     NaN     NaN     NaN      NaN\n",
      "2047              NaN          NaN        NaN     NaN     NaN     NaN      NaN\n",
      "2048              NaN          NaN        NaN     NaN     NaN     NaN      NaN\n",
      "2049              NaN          NaN        NaN     NaN     NaN     NaN      NaN\n",
      "2050              NaN          NaN        NaN     NaN     NaN     NaN      NaN\n"
     ]
    }
   ],
   "source": [
    "glass_raw = pd.read_csv(cwd+\"/../../PV_ICE/baselines/SupportingMaterial/Marketshare_glass.csv\", \n",
    "                           index_col='Year', usecols=lambda x: x not in skipcols)\n",
    "print(glass_raw)"
   ]
  },
  {
   "cell_type": "code",
   "execution_count": null,
   "metadata": {},
   "outputs": [],
   "source": []
  },
  {
   "cell_type": "code",
   "execution_count": null,
   "metadata": {},
   "outputs": [],
   "source": []
  },
  {
   "cell_type": "code",
   "execution_count": null,
   "metadata": {},
   "outputs": [],
   "source": []
  },
  {
   "cell_type": "markdown",
   "metadata": {},
   "source": [
    "## Calculations for increasing fraction of glass-glass to 50% by 2030 (hold through 2050)"
   ]
  },
  {
   "cell_type": "code",
   "execution_count": 72,
   "metadata": {},
   "outputs": [
    {
     "data": {
      "text/plain": [
       "Text(0.5, 1.0, 'marketshares of glass-backsheet and glass-glass')"
      ]
     },
     "execution_count": 72,
     "metadata": {},
     "output_type": "execute_result"
    },
    {
     "data": {
      "image/png": "[encoded data removed]",
      "text/plain": [
       "<Figure size 432x288 with 1 Axes>"
      ]
     },
     "metadata": {
      "needs_background": "light"
     },
     "output_type": "display_data"
    }
   ],
   "source": [
    "#We would like to predict 50% glass-glass by 2030, and hold at 50% glass-glass through 2050\n",
    "#collect only historical data on conformation\n",
    "history_glass = glass_raw.loc[(glass_raw.index<=2020),['glass-backsheet','glass-glass']]\n",
    "\n",
    "#create an empty df to append to historical data, populate with our projections\n",
    "yrs = pd.Series(index=range(2021,2051), dtype='float64')\n",
    "tempdf = pd.DataFrame(yrs, columns=['glass-backsheet'])\n",
    "tempdf['glass-glass'] = tempdf['glass-backsheet']#creates a new NaN column - IMPROVE THIS METHOD\n",
    "\n",
    "tempdf['glass-glass'].loc[2030] = 50\n",
    "tempdf['glass-backsheet'].loc[2030] = 50\n",
    "\n",
    "#Now append history to placeholder\n",
    "halfglass2030 = pd.concat([history_glass,tempdf])\n",
    "\n",
    "#set values in 2012 to all glass-backsheet - REMOVE THIS LINE WHEN BETTER DATA\n",
    "halfglass2030['glass-backsheet'].loc[2012] = 100\n",
    "halfglass2030['glass-glass'].loc[2012] = 0\n",
    "\n",
    "#And interpolate for values.\n",
    "halfglass2030proj = halfglass2030.interpolate(limit_direction='both')\n",
    "#print(halfglass2030proj)\n",
    "#check that percents add to 100\n",
    "#check = pd.DataFrame(halfglass2030proj.agg(\"sum\", axis=\"columns\"))\n",
    "#print(check)\n",
    "\n",
    "plt.plot(halfglass2030proj)\n",
    "plt.title('marketshares of glass-backsheet and glass-glass')"
   ]
  },
  {
   "cell_type": "markdown",
   "metadata": {},
   "source": [
    "We are going to take the glass thickness projections from ITRPV through 2030, and then hold constant through 2050. We will assume the greater than 3 mm thickness to be 3.2mm (as stated before), and we will assume less than 2mm thickness is 1.8mm."
   ]
  },
  {
   "cell_type": "code",
   "execution_count": 67,
   "metadata": {},
   "outputs": [
    {
     "name": "stderr",
     "output_type": "stream",
     "text": [
      "C:\\Users\\hmirletz\\AppData\\Local\\Continuum\\anaconda3\\lib\\site-packages\\ipykernel_launcher.py:5: SettingWithCopyWarning: \n",
      "A value is trying to be set on a copy of a slice from a DataFrame.\n",
      "Try using .loc[row_indexer,col_indexer] = value instead\n",
      "\n",
      "See the caveats in the documentation: http://pandas.pydata.org/pandas-docs/stable/user_guide/indexing.html#returning-a-view-versus-a-copy\n",
      "  \"\"\"\n",
      "C:\\Users\\hmirletz\\AppData\\Local\\Continuum\\anaconda3\\lib\\site-packages\\ipykernel_launcher.py:8: SettingWithCopyWarning: \n",
      "A value is trying to be set on a copy of a slice from a DataFrame\n",
      "\n",
      "See the caveats in the documentation: http://pandas.pydata.org/pandas-docs/stable/user_guide/indexing.html#returning-a-view-versus-a-copy\n",
      "  \n"
     ]
    },
    {
     "data": {
      "text/plain": [
       "Text(0.5, 1.0, 'marketshares of 3 different glass thicknesses')"
      ]
     },
     "execution_count": 67,
     "metadata": {},
     "output_type": "execute_result"
    },
    {
     "data": {
      "image/png": "[encoded data removed]",
      "text/plain": [
       "<Figure size 432x288 with 1 Axes>"
      ]
     },
     "metadata": {
      "needs_background": "light"
     },
     "output_type": "display_data"
    }
   ],
   "source": [
    "#subset glass raw down to only thickness data\n",
    "glass_thick = glass_raw.filter(regex = 'mm')\n",
    "\n",
    "#combine 3.2mm column and greater than 3mm column together\n",
    "glass_thick['assume3pt2mm'] = glass_thick.pop('3pt2mm').fillna(glass_thick.pop('gtr3mm')).astype(float)\n",
    "\n",
    "#set the 2-3mm 2013 datapoint to 0 (i.e. everything was 3.2mm)\n",
    "glass_thick['2to3mm'].loc[2013] = 0.0\n",
    "\n",
    "#interpolate\n",
    "glass_thick_full = glass_thick.interpolate(limit_direction='both')\n",
    "\n",
    "#check that percents add to 100\n",
    "#check = pd.DataFrame(glass_thick_full.agg(\"sum\", axis=\"columns\"))\n",
    "\n",
    "plt.plot(glass_thick_full)\n",
    "plt.title('marketshares of 3 different glass thicknesses')\n",
    "#print(glass_thick_full)"
   ]
  },
  {
   "cell_type": "code",
   "execution_count": 62,
   "metadata": {},
   "outputs": [
    {
     "data": {
      "text/plain": [
       "Text(0.5, 1.0, 'Weighted average glass thickness (front and back) in mm')"
      ]
     },
     "execution_count": 62,
     "metadata": {},
     "output_type": "execute_result"
    },
    {
     "data": {
      "image/png": "[encoded data removed]",
      "text/plain": [
       "<Figure size 432x288 with 1 Axes>"
      ]
     },
     "metadata": {
      "needs_background": "light"
     },
     "output_type": "display_data"
    }
   ],
   "source": [
    "thicknesses = {'assume3pt2mm':3.2,\n",
    "            '2to3mm':2.5,\n",
    "            'less2mm':1.8} #dictionary of the glass thicknesses\n",
    "glass_thick_percs = glass_thick_full/100\n",
    "\n",
    "#Multiply each marketshare by the thickness of glass\n",
    "wtd_glass_thick_split = glass_thick_percs.mul(thicknesses,'columns')\n",
    "wtd_glass_thick = pd.DataFrame(wtd_glass_thick_split.agg(\"sum\", axis=\"columns\"))\n",
    "wtd_glass_thick.columns = ['avg_glass_thickness_mm']\n",
    "\n",
    "#print(wtd_glass_thick)\n",
    "plt.plot(wtd_glass_thick)\n",
    "plt.title('Weighted average glass thickness (front and back) in mm')"
   ]
  },
  {
   "cell_type": "markdown",
   "metadata": {},
   "source": [
    "Now we have the weighted average thickness of glass annually, as well as the marketshares of glass-backsheet and glass-glass module conformation. These will be combined to determine a glass mass per module m^2 annually for 50% glass-glass by 2030."
   ]
  },
  {
   "cell_type": "code",
   "execution_count": 91,
   "metadata": {
    "scrolled": false
   },
   "outputs": [],
   "source": [
    "#convert to % marketshare \n",
    "halfglass2030_percs = halfglass2030proj/100\n",
    "\n",
    "#eqn = density glass * mm to m * [(mrktshr g-g * 2 * avg glass thickmm )+ (mrktshr g-b * 1 * avg glass thick)]\n",
    "mass_glass = density_glass*(0.001)*((halfglass2030_percs['glass-glass']*2*wtd_glass_thick['avg_glass_thickness_mm']) + (halfglass2030_percs['glass-backsheet']*wtd_glass_thick['avg_glass_thickness_mm']))\n",
    "#print(mass_glass)\n",
    "#print out to a csv\n",
    "glass_pm2 = pd.DataFrame(mass_glass)\n",
    "glass_pm2.to_csv(cwd+'/../../PV_ICE/baselines/SupportingMaterial/output_glass_g_per_m2_projection.csv', index=True)"
   ]
  },
  {
   "cell_type": "code",
   "execution_count": 93,
   "metadata": {},
   "outputs": [
    {
     "data": {
      "text/plain": [
       "(7500, 11000)"
      ]
     },
     "execution_count": 93,
     "metadata": {},
     "output_type": "execute_result"
    },
    {
     "data": {
      "image/png": "[encoded data removed]",
      "text/plain": [
       "<Figure size 432x288 with 1 Axes>"
      ]
     },
     "metadata": {
      "needs_background": "light"
     },
     "output_type": "display_data"
    }
   ],
   "source": [
    "plt.plot(mass_glass)\n",
    "plt.title('g of glass per module m^2, 50% glass-glass by 2030')\n",
    "plt.ylim([7500,11000])"
   ]
  },
  {
   "cell_type": "code",
   "execution_count": 99,
   "metadata": {
    "scrolled": true
   },
   "outputs": [
    {
     "data": {
      "text/plain": [
       "<matplotlib.legend.Legend at 0x250e4c370c8>"
      ]
     },
     "execution_count": 99,
     "metadata": {},
     "output_type": "execute_result"
    },
    {
     "data": {
      "image/png": "[encoded data removed]",
      "text/plain": [
       "<Figure size 432x288 with 1 Axes>"
      ]
     },
     "metadata": {
      "needs_background": "light"
     },
     "output_type": "display_data"
    }
   ],
   "source": [
    "#For comparison, here is what we previously had for predictions\n",
    "glass_baseline = pd.read_csv(cwd+\"/../../PV_ICE/baselines/baseline_material_glass.csv\", skiprows=[1])\n",
    "#print(glass_baseline)\n",
    "plt.plot(mass_glass, label='50% glass-glass by 2030')\n",
    "plt.plot(glass_baseline['year'], glass_baseline['mat_massperm2'], label='baseline glass')\n",
    "plt.legend()"
   ]
  }
 ],
 "metadata": {
  "kernelspec": {
   "display_name": "Python 3",
   "language": "python",
   "name": "python3"
  },
  "language_info": {
   "codemirror_mode": {
    "name": "ipython",
    "version": 3
   },
   "file_extension": ".py",
   "mimetype": "text/x-python",
   "name": "python",
   "nbconvert_exporter": "python",
   "pygments_lexer": "ipython3",
   "version": "3.7.4"
  }
 },
 "nbformat": 4,
 "nbformat_minor": 2
}
