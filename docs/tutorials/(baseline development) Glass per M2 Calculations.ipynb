{
 "cells": [
  {
   "cell_type": "markdown",
   "metadata": {},
   "source": [
    "# (baseline development) Glass per M2 Calculations\n"
   ]
  },
  {
   "cell_type": "markdown",
   "metadata": {},
   "source": [
    "Based on ITRPV numbers. ITRPV 2014 sets thickness of glass to 3.5, so assuming that value for all previous modules since 1995.\n",
    "Starting 2015 ITRPV, transparent backside (both glass & transparent sheets) starts at 2%. Assuming 50% is glass-glass.  same front thickness.\n",
    "\n",
    "Starting 2017, front thicknesses are indicated for front side. Thinner modules coincide with the values for expected bifacial modules with glass-glass backside, so assuming all thiner modules have a backside of same thickness.\n",
    "\n",
    "Glass backside thickness is not specified, so assuming for glass-glass backside is 2 mm thick for all cases\n",
    "where front side is between 2-3 mm (assuming 2 mm for front side), and 1.8mm for cases where front side is < 2 mmm ( assuming 1.8mm for front side as well)\n",
    "\n",
    "So overall module per panel is 3.5 for single side glass to up 4 mm glass-glass\n",
    "\n",
    "<b>Assumptions</b>:\n",
    "\n",
    "1 - Assuming nothing Glass-Glass before 2012 (not on ITRPV, bifacial not significant yet)."
   ]
  },
  {
   "cell_type": "code",
   "execution_count": 16,
   "metadata": {},
   "outputs": [],
   "source": [
    "import numpy as np\n",
    "density_glass = 2500 # kg/m^3    \n"
   ]
  },
  {
   "cell_type": "markdown",
   "metadata": {},
   "source": [
    "Glass-Glass starts on ITRPV 2012, with 2 %. Since there is still no other record for Glass thickness, assuming same thickness for back than front."
   ]
  },
  {
   "cell_type": "code",
   "execution_count": 18,
   "metadata": {},
   "outputs": [
    {
     "name": "stdout",
     "output_type": "stream",
     "text": [
      "Glass kg/m2 up to 2012: 8.0\n"
     ]
    }
   ],
   "source": [
    "# Up to 2012\n",
    "thickness_glass = 0.0032  # m\n",
    "glassperm2 = thickness_glass * density_glass\n",
    "print(\"Glass kg/m2 up to 2012:\", glassperm2)"
   ]
  },
  {
   "cell_type": "markdown",
   "metadata": {},
   "source": [
    "Glass-Glass percentage starts to increase over the following years. \n",
    "\n",
    "On ITRPV, percentage for 2013 is 98% glass-backsheet,\n",
    "percentage for 2014 is 96 % glass-backsheet\n",
    "percentage for 2015 is 98 % glass -backsheet.\n",
    "\n",
    "We deemed that this sudden shift in the industry from 98 to 96 and then up to 97 did not make sense, so we linearly interpolated for these years"
   ]
  },
  {
   "cell_type": "code",
   "execution_count": 20,
   "metadata": {},
   "outputs": [
    {
     "name": "stdout",
     "output_type": "stream",
     "text": [
      "Glass kg/m2 2013-2015: 8.16\n"
     ]
    }
   ],
   "source": [
    "#2013 - 2015\n",
    "thickness_glass = 0.0032 * 0.98 + (0.0032+0.0032)*0.02 # m\n",
    "glassperm2 = thickness_glass * density_glass\n",
    "print(\"Glass kg/m2 2013-2015:\", glassperm2)"
   ]
  },
  {
   "cell_type": "code",
   "execution_count": 22,
   "metadata": {},
   "outputs": [
    {
     "name": "stdout",
     "output_type": "stream",
     "text": [
      "Glass kg/m2 2013-2015: 8.24\n"
     ]
    }
   ],
   "source": [
    "#2016 \n",
    "thickness_glass = 0.0032 * 0.97 + (0.0032+0.0032)*0.03 # m\n",
    "glassperm2 = thickness_glass * density_glass\n",
    "print(\"Glass kg/m2 2013-2015:\", glassperm2)"
   ]
  },
  {
   "cell_type": "code",
   "execution_count": null,
   "metadata": {},
   "outputs": [],
   "source": [
    "#201\n",
    "thickness_glass = 0.0032 * 0.98 + (0.0032+0.0032)*0.02 # m\n",
    "glassperm2 = thickness_glass * density_glass\n",
    "print(\"2013:\", glassperm2)"
   ]
  },
  {
   "cell_type": "code",
   "execution_count": 11,
   "metadata": {},
   "outputs": [
    {
     "name": "stdout",
     "output_type": "stream",
     "text": [
      "Glass kg/m2 up 2014-2016: 8.75\n"
     ]
    }
   ],
   "source": [
    "# 2014 to 2016:\n",
    "thickness_glass = 0.0035  # m\n",
    "glassperm2 = thickness_glass * density_glass\n",
    "print(\"Glass kg/m2 up 2014-2016:\", glassperm2)"
   ]
  },
  {
   "cell_type": "code",
   "execution_count": 14,
   "metadata": {},
   "outputs": [
    {
     "name": "stdout",
     "output_type": "stream",
     "text": [
      "Glass kg/m2 up 2014-2016: 8.6\n"
     ]
    }
   ],
   "source": [
    "# 2017:\n",
    "thickness_glass = 0.0035 * 0.94 + 0.0025 * 0.06\n",
    "glassperm2 = thickness_glass * density_glass\n",
    "print(\"Glass kg/m2 up 2014-2016:\", glassperm2)"
   ]
  },
  {
   "cell_type": "code",
   "execution_count": 8,
   "metadata": {},
   "outputs": [
    {
     "name": "stdout",
     "output_type": "stream",
     "text": [
      "Glass per m2 up to 2014: 8.7625\n"
     ]
    }
   ],
   "source": [
    "# 2018:\n",
    "thickness_glass = 0.0035 * 0.93 + 0.0025 * 0.07\n",
    "glassperm2 = thickness_glass * density_glass\n",
    "print(\"Glass kg/m2 up 2014-2016:\", glassperm2)"
   ]
  },
  {
   "cell_type": "code",
   "execution_count": null,
   "metadata": {},
   "outputs": [],
   "source": [
    "#2019 - 2020:\n"
   ]
  },
  {
   "cell_type": "markdown",
   "metadata": {},
   "source": [
    "All modules have front glass, consider front glass thickness.\n",
    "Some modules have back glass, calculate from G-G and G-B plots\n",
    "Assume thickness for back glasses\n",
    "\n",
    "Bifacial can be G-G or G-B. But there's also monofacial G-G and G-B.\n",
    "\n",
    "90 G-B, 10 G-G\n",
    "95 Monofacial, 5 Bifacial,\n",
    "\n",
    "then 100% of bifacial should be G-G, and 5% Monofaial GG...\n",
    "\n",
    "Bifacial modules are not a proxy for "
   ]
  },
  {
   "cell_type": "code",
   "execution_count": null,
   "metadata": {},
   "outputs": [],
   "source": []
  },
  {
   "cell_type": "code",
   "execution_count": null,
   "metadata": {},
   "outputs": [],
   "source": []
  },
  {
   "cell_type": "code",
   "execution_count": null,
   "metadata": {},
   "outputs": [],
   "source": []
  },
  {
   "cell_type": "code",
   "execution_count": null,
   "metadata": {},
   "outputs": [],
   "source": []
  },
  {
   "cell_type": "code",
   "execution_count": null,
   "metadata": {},
   "outputs": [],
   "source": []
  }
 ],
 "metadata": {
  "kernelspec": {
   "display_name": "Python 3",
   "language": "python",
   "name": "python3"
  },
  "language_info": {
   "codemirror_mode": {
    "name": "ipython",
    "version": 3
   },
   "file_extension": ".py",
   "mimetype": "text/x-python",
   "name": "python",
   "nbconvert_exporter": "python",
   "pygments_lexer": "ipython3",
   "version": "3.7.6"
  }
 },
 "nbformat": 4,
 "nbformat_minor": 2
}
