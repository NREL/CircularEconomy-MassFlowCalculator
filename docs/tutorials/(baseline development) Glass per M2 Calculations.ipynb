{
 "cells": [
  {
   "cell_type": "markdown",
   "metadata": {},
   "source": [
    "# (baseline development) Glass per M2 Calculations\n"
   ]
  },
  {
   "cell_type": "markdown",
   "metadata": {},
   "source": [
    "Based on ITRPV numbers for the most part, this journal attempts to correlate front glass thickness values with the introduction of glass-glass modules.\n",
    "\n",
    "Standard front glass thickness is set to 3.2 mm, based on ITRPV 2014, 2012 and 2011. Starting 2017, front glass are divided into >3 mm, 2-3 mm. Assuming that >3mm is still 3.2 mm. Thinner modules in the range of 2-3mm coincide with the values of Glass-Glass modules, so we are assuming all thiner modules have a backside of same thickness as front of 2.5 mm\n",
    "\n",
    "So overall thickness of glass per panel goes from 3.2 to 5 mm for Glass-backsheet to Glass-Glass modules.\n"
   ]
  },
  {
   "cell_type": "code",
   "execution_count": 1,
   "metadata": {},
   "outputs": [],
   "source": [
    "import numpy as np\n",
    "density_glass = 2500*1000 # g/m^3    \n"
   ]
  },
  {
   "cell_type": "markdown",
   "metadata": {},
   "source": [
    "#### Up to 2012"
   ]
  },
  {
   "cell_type": "code",
   "execution_count": 2,
   "metadata": {},
   "outputs": [
    {
     "name": "stdout",
     "output_type": "stream",
     "text": [
      "Glass g/m2 up to 2012: 8000.0\n"
     ]
    }
   ],
   "source": [
    "\n",
    "thickness_glass = 0.0032  # m\n",
    "glassperm2 = thickness_glass * density_glass\n",
    "print(\"Glass g/m2 up to 2012:\", glassperm2)"
   ]
  },
  {
   "cell_type": "markdown",
   "metadata": {},
   "source": [
    "#### 2013 - 2016"
   ]
  },
  {
   "cell_type": "markdown",
   "metadata": {},
   "source": [
    "Glass-Glass percentage starts to increase over the following years. \n",
    "\n",
    "On ITRPV, percentage for 2013 is 98% glass-backsheet,\n",
    "percentage for 2014 is 96 % glass-backsheet\n",
    "percentage for 2016 is 97 % glass -backsheet.\n",
    "\n",
    "We think it's strange that the % of glass-glass modules went suddenly up in 2014 and then back down in 2016. However we're going ahead with this percentages and will quantify this disaprity as uncertainty with the MC analysis.\n",
    "\n",
    "Data is not available on Glass-Glass modules for 2015 so we're interpolating between previous year"
   ]
  },
  {
   "cell_type": "code",
   "execution_count": 3,
   "metadata": {},
   "outputs": [
    {
     "name": "stdout",
     "output_type": "stream",
     "text": [
      "Glass g/m2 2013: 8160.0\n"
     ]
    }
   ],
   "source": [
    "#2013\n",
    "thickness_glass = 0.0032 * 0.98 + (0.0032+0.0032)*0.02 # m\n",
    "glassperm2 = thickness_glass * density_glass\n",
    "print(\"Glass g/m2 2013:\", glassperm2)"
   ]
  },
  {
   "cell_type": "code",
   "execution_count": 4,
   "metadata": {},
   "outputs": [
    {
     "name": "stdout",
     "output_type": "stream",
     "text": [
      "Glass for 2014: 8320.0\n"
     ]
    }
   ],
   "source": [
    "#2014\n",
    "thickness_glass = 0.0032 * 0.96 + (0.0032+0.0032)*0.04 # m\n",
    "glassperm2 = thickness_glass * density_glass\n",
    "print(\"Glass for 2014:\", glassperm2)"
   ]
  },
  {
   "cell_type": "code",
   "execution_count": 5,
   "metadata": {},
   "outputs": [
    {
     "name": "stdout",
     "output_type": "stream",
     "text": [
      "Glass g/m2 2013-2015: 8280.0\n"
     ]
    }
   ],
   "source": [
    "#2015\n",
    "thickness_glass = 0.0032 * 0.965 + (0.0032+0.0032)*0.035 # m\n",
    "glassperm2 = thickness_glass * density_glass\n",
    "print(\"Glass g/m2 2015:\", glassperm2)"
   ]
  },
  {
   "cell_type": "code",
   "execution_count": 6,
   "metadata": {},
   "outputs": [
    {
     "name": "stdout",
     "output_type": "stream",
     "text": [
      "Glass g/m2 2013-2015: 8240.0\n"
     ]
    }
   ],
   "source": [
    "#2016 \n",
    "thickness_glass = 0.0032 * 0.97 + (0.0032+0.0032)*0.03 # m\n",
    "glassperm2 = thickness_glass * density_glass\n",
    "print(\"Glass g/m2 2016:\", glassperm2)"
   ]
  },
  {
   "cell_type": "code",
   "execution_count": null,
   "metadata": {},
   "outputs": [],
   "source": []
  },
  {
   "cell_type": "markdown",
   "metadata": {},
   "source": [
    "#### 2017 onwards\n",
    "\n",
    "Starting 2017, ITRPV includes data on modules with Front glass between 2-3mm thick. Data is also available in various years for the percentage of modules that are Glass-Backsheet, vs Glass-Glass. The percentages for 2-3mm and Glass-Glass modules are very similar. We're assuming that 100% of the Glass-Glass modules are therefore 2-3mm thick for their front AND their back glass. Remaining percentage (if any) of 2-3mm front glasses are assumed to be Glass-backsheet.\n",
    "For example for 2017:\n",
    "\n",
    "![ITRPV Glass thicknesses deduction example](../images_wiki/ITRPV_GlassDeduction.PNG)\n"
   ]
  },
  {
   "cell_type": "code",
   "execution_count": 7,
   "metadata": {},
   "outputs": [
    {
     "name": "stdout",
     "output_type": "stream",
     "text": [
      "2017: 8225.000000000002\n"
     ]
    }
   ],
   "source": [
    "#2017\n",
    "thickness_glass = 0.0032 * (0.94 + 0.01) + (0.0025+0.0025)*0.05 # m\n",
    "glassperm2 = thickness_glass * density_glass\n",
    "print(\"2017:\", glassperm2)"
   ]
  },
  {
   "cell_type": "markdown",
   "metadata": {},
   "source": [
    "Years afer 2017 that don't have values for any these two categories got interpolated."
   ]
  },
  {
   "cell_type": "markdown",
   "metadata": {},
   "source": [
    "## Automatic Calculation from SupportingMaterial folder to create baseline_material_Glass"
   ]
  },
  {
   "cell_type": "code",
   "execution_count": null,
   "metadata": {},
   "outputs": [],
   "source": []
  }
 ],
 "metadata": {
  "kernelspec": {
   "display_name": "Python 3",
   "language": "python",
   "name": "python3"
  },
  "language_info": {
   "codemirror_mode": {
    "name": "ipython",
    "version": 3
   },
   "file_extension": ".py",
   "mimetype": "text/x-python",
   "name": "python",
   "nbconvert_exporter": "python",
   "pygments_lexer": "ipython3",
   "version": "3.7.4"
  }
 },
 "nbformat": 4,
 "nbformat_minor": 2
}
