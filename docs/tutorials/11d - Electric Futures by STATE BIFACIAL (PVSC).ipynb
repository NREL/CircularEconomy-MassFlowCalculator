{
 "cells": [
  {
   "cell_type": "code",
   "execution_count": 5,
   "metadata": {},
   "outputs": [
    {
     "name": "stdout",
     "output_type": "stream",
     "text": [
      "Your simulation will be stored in C:\\Users\\sayala\\Documents\\GitHub\\CircularEconomy-MassFlowCalculator\\PV_ICE\\TEMP\\PVSC\n"
     ]
    }
   ],
   "source": [
    "import os\n",
    "from pathlib import Path\n",
    "\n",
    "testfolder = str(Path().resolve().parent.parent / 'PV_ICE' / 'TEMP' / 'PVSC')\n",
    "#testfolder = str(Path().resolve().parent.parent / 'PV_ICE' / 'TEMP' / 'ElectricFutures')\n",
    "\n",
    "\n",
    "# Another option using relative address; for some operative systems you might need '/' instead of '\\'\n",
    "# testfolder = os.path.abspath(r'..\\..\\PV_DEMICE\\TEMP')  \n",
    "\n",
    "print (\"Your simulation will be stored in %s\" % testfolder)"
   ]
  },
  {
   "cell_type": "code",
   "execution_count": 6,
   "metadata": {},
   "outputs": [],
   "source": [
    "MATERIALS = ['glass','silver','silicon', 'copper','aluminium_frames']\n",
    "MATERIAL = MATERIALS[0]\n",
    "\n",
    "MODULEBASELINE = r'..\\..\\baselines\\LiteratureProjections\\EF-CapacityByState-basecase.csv'"
   ]
  },
  {
   "cell_type": "code",
   "execution_count": 7,
   "metadata": {},
   "outputs": [],
   "source": [
    "import PV_ICE\n",
    "import matplotlib.pyplot as plt\n",
    "import pandas as pd\n",
    "import numpy as np"
   ]
  },
  {
   "cell_type": "code",
   "execution_count": 8,
   "metadata": {},
   "outputs": [
    {
     "data": {
      "text/plain": [
       "'0+untagged.380.g7b32fd5.dirty'"
      ]
     },
     "execution_count": 8,
     "metadata": {},
     "output_type": "execute_result"
    }
   ],
   "source": [
    "PV_ICE.__version__"
   ]
  },
  {
   "cell_type": "markdown",
   "metadata": {},
   "source": [
    "### Loading Module Baseline. Will be used later to populate all the columsn otehr than 'new_Installed_Capacity_[MW]' which will be supplied by the REEDS model"
   ]
  },
  {
   "cell_type": "code",
   "execution_count": 9,
   "metadata": {},
   "outputs": [
    {
     "name": "stdout",
     "output_type": "stream",
     "text": [
      "path = C:\\Users\\sayala\\Documents\\GitHub\\CircularEconomy-MassFlowCalculator\\PV_ICE\\TEMP\\PVSC\n"
     ]
    },
    {
     "data": {
      "text/html": [
       "<div>\n",
       "<style scoped>\n",
       "    .dataframe tbody tr th:only-of-type {\n",
       "        vertical-align: middle;\n",
       "    }\n",
       "\n",
       "    .dataframe tbody tr th {\n",
       "        vertical-align: top;\n",
       "    }\n",
       "\n",
       "    .dataframe thead th {\n",
       "        text-align: right;\n",
       "    }\n",
       "</style>\n",
       "<table border=\"1\" class=\"dataframe\">\n",
       "  <thead>\n",
       "    <tr style=\"text-align: right;\">\n",
       "      <th></th>\n",
       "      <th>mod_eff</th>\n",
       "      <th>mod_reliability_t50</th>\n",
       "      <th>mod_reliability_t90</th>\n",
       "      <th>mod_degradation</th>\n",
       "      <th>mod_lifetime</th>\n",
       "      <th>mod_MFG_eff</th>\n",
       "      <th>mod_EOL_collection_eff</th>\n",
       "      <th>mod_EOL_collected_recycled</th>\n",
       "      <th>mod_Repowering</th>\n",
       "      <th>mod_Repairing</th>\n",
       "    </tr>\n",
       "    <tr>\n",
       "      <th>year</th>\n",
       "      <th></th>\n",
       "      <th></th>\n",
       "      <th></th>\n",
       "      <th></th>\n",
       "      <th></th>\n",
       "      <th></th>\n",
       "      <th></th>\n",
       "      <th></th>\n",
       "      <th></th>\n",
       "      <th></th>\n",
       "    </tr>\n",
       "  </thead>\n",
       "  <tbody>\n",
       "    <tr>\n",
       "      <th>2018</th>\n",
       "      <td>18.400000</td>\n",
       "      <td>28.0</td>\n",
       "      <td>33.0</td>\n",
       "      <td>0.3</td>\n",
       "      <td>31.0</td>\n",
       "      <td>98.0</td>\n",
       "      <td>0.0</td>\n",
       "      <td>0.0</td>\n",
       "      <td>0.0</td>\n",
       "      <td>0.0</td>\n",
       "    </tr>\n",
       "    <tr>\n",
       "      <th>2019</th>\n",
       "      <td>19.200000</td>\n",
       "      <td>28.0</td>\n",
       "      <td>33.0</td>\n",
       "      <td>0.3</td>\n",
       "      <td>32.4</td>\n",
       "      <td>98.0</td>\n",
       "      <td>0.0</td>\n",
       "      <td>0.0</td>\n",
       "      <td>0.0</td>\n",
       "      <td>0.0</td>\n",
       "    </tr>\n",
       "    <tr>\n",
       "      <th>2020</th>\n",
       "      <td>20.252588</td>\n",
       "      <td>33.0</td>\n",
       "      <td>38.0</td>\n",
       "      <td>0.5</td>\n",
       "      <td>35.0</td>\n",
       "      <td>98.0</td>\n",
       "      <td>0.0</td>\n",
       "      <td>0.0</td>\n",
       "      <td>0.0</td>\n",
       "      <td>0.0</td>\n",
       "    </tr>\n",
       "    <tr>\n",
       "      <th>2021</th>\n",
       "      <td>20.894865</td>\n",
       "      <td>33.0</td>\n",
       "      <td>38.0</td>\n",
       "      <td>0.5</td>\n",
       "      <td>35.0</td>\n",
       "      <td>98.0</td>\n",
       "      <td>0.0</td>\n",
       "      <td>0.0</td>\n",
       "      <td>0.0</td>\n",
       "      <td>0.0</td>\n",
       "    </tr>\n",
       "    <tr>\n",
       "      <th>2022</th>\n",
       "      <td>21.362882</td>\n",
       "      <td>33.0</td>\n",
       "      <td>38.0</td>\n",
       "      <td>0.5</td>\n",
       "      <td>35.0</td>\n",
       "      <td>98.0</td>\n",
       "      <td>0.0</td>\n",
       "      <td>0.0</td>\n",
       "      <td>0.0</td>\n",
       "      <td>0.0</td>\n",
       "    </tr>\n",
       "  </tbody>\n",
       "</table>\n",
       "</div>"
      ],
      "text/plain": [
       "        mod_eff  mod_reliability_t50  mod_reliability_t90  mod_degradation  \\\n",
       "year                                                                         \n",
       "2018  18.400000                 28.0                 33.0              0.3   \n",
       "2019  19.200000                 28.0                 33.0              0.3   \n",
       "2020  20.252588                 33.0                 38.0              0.5   \n",
       "2021  20.894865                 33.0                 38.0              0.5   \n",
       "2022  21.362882                 33.0                 38.0              0.5   \n",
       "\n",
       "      mod_lifetime  mod_MFG_eff  mod_EOL_collection_eff  \\\n",
       "year                                                      \n",
       "2018          31.0         98.0                     0.0   \n",
       "2019          32.4         98.0                     0.0   \n",
       "2020          35.0         98.0                     0.0   \n",
       "2021          35.0         98.0                     0.0   \n",
       "2022          35.0         98.0                     0.0   \n",
       "\n",
       "      mod_EOL_collected_recycled  mod_Repowering  mod_Repairing  \n",
       "year                                                             \n",
       "2018                         0.0             0.0            0.0  \n",
       "2019                         0.0             0.0            0.0  \n",
       "2020                         0.0             0.0            0.0  \n",
       "2021                         0.0             0.0            0.0  \n",
       "2022                         0.0             0.0            0.0  "
      ]
     },
     "execution_count": 9,
     "metadata": {},
     "output_type": "execute_result"
    }
   ],
   "source": [
    "r1 = PV_ICE.Simulation(name='Simulation1', path=testfolder)\n",
    "r1.createScenario(name='US', file=r'..\\..\\baselines\\ReedsSubset\\baseline_modules_US_Reeds_EF.csv')\n",
    "baseline = r1.scenario['US'].data\n",
    "baseline = baseline.drop(columns=['new_Installed_Capacity_[MW]'])\n",
    "baseline.set_index('year', inplace=True)\n",
    "baseline.index = pd.PeriodIndex(baseline.index, freq='A')  # A -- Annual\n",
    "baseline.head()"
   ]
  },
  {
   "cell_type": "code",
   "execution_count": 10,
   "metadata": {},
   "outputs": [],
   "source": [
    "plt.rcParams.update({'font.size': 22})\n",
    "plt.rcParams['figure.figsize'] = (12, 5)"
   ]
  },
  {
   "cell_type": "code",
   "execution_count": null,
   "metadata": {},
   "outputs": [],
   "source": [
    "df = pd.read_csv(MODULEBASELINE)\n",
    "df.set_index(['Type','State','year'], inplace=True)\n",
    "df.head()"
   ]
  },
  {
   "cell_type": "code",
   "execution_count": null,
   "metadata": {},
   "outputs": [],
   "source": [
    "for ii in range (len(df.unstack(level=2))):   \n",
    "    STATE = df.unstack(level=2).iloc[ii].name[1]\n",
    "    SCEN = df.unstack(level=2).iloc[ii].name[0]\n",
    "    SCEN=SCEN.replace('+', '_')\n",
    "    filetitle = 'base_'+SCEN+'_'+STATE +'.csv'\n",
    "    filetitle = os.path.join(testfolder, 'baselines', filetitle)\n",
    "    A = df.unstack(level=2).iloc[ii]\n",
    "    A = A.droplevel(level=0)\n",
    "    A.name = 'new_Installed_Capacity_[MW]'\n",
    "    A = pd.DataFrame(A)\n",
    "    A.index=pd.PeriodIndex(A.index, freq='A')\n",
    "    A = pd.DataFrame(A)\n",
    "    A['new_Installed_Capacity_[MW]'] = A['new_Installed_Capacity_[MW]'] # 0.85 marketshares['Si'] already included\n",
    "    # Add other columns\n",
    "    A = pd.concat([A, baseline.reindex(A.index)], axis=1)\n",
    "    \n",
    "    \n",
    "    header = \"year,new_Installed_Capacity_[MW],mod_eff,mod_reliability_t50,mod_reliability_t90,\"\\\n",
    "    \"mod_degradation,mod_lifetime,mod_MFG_eff,mod_EOL_collection_eff,mod_EOL_collected_recycled,\"\\\n",
    "    \"mod_Repowering,mod_Repairing\\n\"\\\n",
    "    \"year,MW,%,years,years,%,years,%,%,%,%,%\\n\"\n",
    "\n",
    "    with open(filetitle, 'w', newline='') as ict:\n",
    "    # Write the header lines, including the index variable for\n",
    "    # the last one if you're letting Pandas produce that for you.\n",
    "    # (see above).\n",
    "        for line in header:\n",
    "            ict.write(line)\n",
    "\n",
    "        #    savedata.to_csv(ict, index=False)\n",
    "        A.to_csv(ict, header=False)"
   ]
  },
  {
   "cell_type": "code",
   "execution_count": null,
   "metadata": {},
   "outputs": [],
   "source": [
    "df = pd.read_csv(MODULEBASELINE_High)\n",
    "df.set_index(['Type','State','year'], inplace=True)\n",
    "df.head()"
   ]
  },
  {
   "cell_type": "code",
   "execution_count": null,
   "metadata": {},
   "outputs": [],
   "source": [
    "for ii in range (len(df.unstack(level=2))):   \n",
    "    STATE = df.unstack(level=2).iloc[ii].name[1]\n",
    "    SCEN = df.unstack(level=2).iloc[ii].name[0]\n",
    "    SCEN=SCEN.replace('+', '_')\n",
    "    filetitle = 'LowREHighElec_'+SCEN+'_'+STATE +'.csv'\n",
    "    filetitle = os.path.join(testfolder, 'baselines', filetitle)\n",
    "    A = df.unstack(level=2).iloc[ii]\n",
    "    A = A.droplevel(level=0)\n",
    "    A.name = 'new_Installed_Capacity_[MW]'\n",
    "    A = pd.DataFrame(A)\n",
    "    A.index=pd.PeriodIndex(A.index, freq='A')\n",
    "    A = pd.DataFrame(A)\n",
    "    A['new_Installed_Capacity_[MW]'] = A['new_Installed_Capacity_[MW]'] # 0.85 marketshares['Si'] already included\n",
    "\n",
    "    # Add other columns\n",
    "    A = pd.concat([A, baseline.reindex(A.index)], axis=1)\n",
    "    \n",
    "    \n",
    "    header = \"year,new_Installed_Capacity_[MW],mod_eff,mod_reliability_t50,mod_reliability_t90,\"\\\n",
    "    \"mod_degradation,mod_lifetime,mod_MFG_eff,mod_EOL_collection_eff,mod_EOL_collected_recycled,\"\\\n",
    "    \"mod_Repowering,mod_Repairing\\n\"\\\n",
    "    \"year,MW,%,years,years,%,years,%,%,%,%,%\\n\"\n",
    "\n",
    "    with open(filetitle, 'w', newline='') as ict:\n",
    "    # Write the header lines, including the index variable for\n",
    "    # the last one if you're letting Pandas produce that for you.\n",
    "    # (see above).\n",
    "        for line in header:\n",
    "            ict.write(line)\n",
    "\n",
    "        #    savedata.to_csv(ict, index=False)\n",
    "        A.to_csv(ict, header=False)"
   ]
  },
  {
   "cell_type": "code",
   "execution_count": null,
   "metadata": {},
   "outputs": [],
   "source": [
    "ict"
   ]
  },
  {
   "cell_type": "markdown",
   "metadata": {},
   "source": [
    "# DO SIMULATIONS"
   ]
  },
  {
   "cell_type": "code",
   "execution_count": null,
   "metadata": {},
   "outputs": [],
   "source": [
    "Sims=['base','LowREHighElec']"
   ]
  },
  {
   "cell_type": "code",
   "execution_count": null,
   "metadata": {},
   "outputs": [],
   "source": [
    "baselineinstalls = os.path.join(testfolder, 'baselines')\n",
    "onlyfiles = [f for f in os.listdir(baselineinstalls)]"
   ]
  },
  {
   "cell_type": "code",
   "execution_count": null,
   "metadata": {},
   "outputs": [],
   "source": []
  },
  {
   "cell_type": "code",
   "execution_count": null,
   "metadata": {},
   "outputs": [],
   "source": [
    "sim1 = [f for f in onlyfiles if f.startswith(Sims[0])]\n",
    "sim2 = [f for f in onlyfiles if f.startswith(Sims[1])]"
   ]
  },
  {
   "cell_type": "code",
   "execution_count": null,
   "metadata": {},
   "outputs": [],
   "source": [
    "STATEs = [i.split('_', 4)[2] for i in sim1]\n",
    "STATEs = [i.split('.', 1)[0] for i in STATEs]"
   ]
  },
  {
   "cell_type": "code",
   "execution_count": null,
   "metadata": {},
   "outputs": [],
   "source": []
  },
  {
   "cell_type": "code",
   "execution_count": null,
   "metadata": {},
   "outputs": [],
   "source": []
  },
  {
   "cell_type": "code",
   "execution_count": null,
   "metadata": {},
   "outputs": [],
   "source": []
  },
  {
   "cell_type": "code",
   "execution_count": null,
   "metadata": {},
   "outputs": [],
   "source": []
  },
  {
   "cell_type": "code",
   "execution_count": null,
   "metadata": {},
   "outputs": [],
   "source": [
    "testfolder"
   ]
  },
  {
   "cell_type": "code",
   "execution_count": null,
   "metadata": {},
   "outputs": [],
   "source": [
    "#for ii in range (0, 1): #len(scenarios):\n",
    "i = 0\n",
    "r1 = PV_ICE.Simulation(name='Today', path=testfolder)\n",
    "\n",
    "MATERIALBASELINE_GLASS = r'materialsubsets\\baseline_material_glass_hold2020.csv'\n",
    "MATERIALBASELINE_ALFrames = r'materialsubsets\\baseline_material_aluminium_frames_hold2020.csv'\n",
    "\n",
    "\n",
    "for jj in range (0, len(STATEs)): \n",
    "    filetitle = sim1[jj]\n",
    "    filetitle = os.path.join(testfolder, 'baselines', filetitle) \n",
    "    scen = STATEs[jj]\n",
    "    r1.createScenario(name=scen, file=filetitle)\n",
    "    r1.scenario[scen].addMaterial('glass', file=MATERIALBASELINE_GLASS)\n",
    "    r1.scenario[scen].addMaterial('aluminum', file=MATERIALBASELINE_ALFrames)\n",
    "    r1.scenario[scen].addMaterial('silicon', file=r'materialsubsets\\baseline_material_silicon_Reeds.csv')\n",
    "    r1.scenario[scen].addMaterial('silver', file=r'materialsubsets\\baseline_material_silver_Reeds.csv')\n",
    "    r1.scenario[scen].addMaterial('copper', file=r'materialsubsets\\baseline_material_copper_Reeds.csv')\n",
    "\n",
    "\n",
    "i = 1\n",
    "r2 = PV_ICE.Simulation(name='Bifacial', path=testfolder)\n",
    "\n",
    "MATERIALBASELINE_GLASS = r'materialsubsets\\baseline_material_glass_bifacialTrend.csv'\n",
    "MATERIALBASELINE_ALFrames = r'materialsubsets\\baseline_material_aluminium_frames_bifacialTrend.csv'\n",
    "\n",
    "\n",
    "for jj in range (0, len(STATEs)): \n",
    "    filetitle = sim2[jj]\n",
    "    filetitle = os.path.join(testfolder, 'baselines', filetitle)    \n",
    "    scen = STATEs[jj]\n",
    "    r2.createScenario(name=scen, file=filetitle)\n",
    "    r2.scenario[scen].addMaterial('glass', file=MATERIALBASELINE_GLASS)\n",
    "    r2.scenario[scen].addMaterial('aluminum', file=MATERIALBASELINE_ALFrames)\n",
    "    r2.scenario[scen].addMaterial('silicon', file=r'materialsubsets\\baseline_material_silicon_Reeds.csv')\n",
    "    r2.scenario[scen].addMaterial('silver', file=r'materialsubsets\\baseline_material_silver_Reeds.csv')\n",
    "    r2.scenario[scen].addMaterial('copper', file=r'materialsubsets\\baseline_material_copper_Reeds.csv')\n"
   ]
  },
  {
   "cell_type": "code",
   "execution_count": null,
   "metadata": {},
   "outputs": [],
   "source": [
    "r1.calculateMassFlow()\n",
    "r2.calculateMassFlow()\n"
   ]
  },
  {
   "cell_type": "markdown",
   "metadata": {},
   "source": [
    "# OPEN EI"
   ]
  },
  {
   "cell_type": "code",
   "execution_count": null,
   "metadata": {},
   "outputs": [],
   "source": [
    "kk=0\n",
    "SFScenarios = [r1, r2]\n",
    "SFScenarios[kk].name\n"
   ]
  },
  {
   "cell_type": "code",
   "execution_count": null,
   "metadata": {},
   "outputs": [],
   "source": []
  },
  {
   "cell_type": "code",
   "execution_count": null,
   "metadata": {},
   "outputs": [],
   "source": [
    "# WORK ON THIS FOIR OPENEI\n",
    "\n",
    "keyw=['mat_Virgin_Stock','mat_Total_EOL_Landfilled','mat_Total_MFG_Landfilled', 'mat_Total_Landfilled', \n",
    "      'new_Installed_Capacity_[MW]','Installed_Capacity_[W]']\n",
    "keywprint = ['VirginMaterialDemand','EOLMaterial', 'ManufacturingScrap','ManufacturingScrapAndEOLMaterial',\n",
    "             'NewInstalledCapacity','InstalledCapacity'] \n",
    "keywunits = ['MetricTonnes', 'MetricTonnes', 'MetricTonnes', 'MetricTonnes', \n",
    "            'MW','MW']\n",
    "keywdcumneed = [True,True,True,True,\n",
    "                True,False]\n",
    "keywdlevel = ['material','material','material','material',\n",
    "             'module','module']\n",
    "keywscale = [1000000, 1000000, 1000000, 1000000,\n",
    "            1,1e6]\n",
    "materials = ['glass', 'silicon', 'silver', 'copper', 'aluminum']\n",
    "\n",
    "# Loop over SF Scenarios\n",
    "\n",
    "scenariolist = pd.DataFrame()\n",
    "for kk in range(0, len(SFScenarios)):\n",
    "    # Loop over Materials\n",
    "    \n",
    "    for zz in range (0, len(STATEs)):\n",
    "\n",
    "        foo = pd.DataFrame()\n",
    "        for jj in range (0, len(keyw)):\n",
    "\n",
    "            if keywdlevel[jj] == 'material':\n",
    "                for ii in range (0, len(materials)):    \n",
    "                    scen = STATEs[zz]\n",
    "                    sentit = '@value|'+keywprint[jj]+'|'+materials[ii].capitalize() +'#'+keywunits[jj]\n",
    "                    foo[sentit] = SFScenarios[kk].scenario[scen].material[materials[ii]].materialdata[keyw[jj]]/keywscale[jj] \n",
    "            \n",
    "                if keywdcumneed[jj]:\n",
    "                    for ii in range (0, len(materials)):    \n",
    "                        sentit = '@value|Cumulative'+keywprint[jj]+'|'+materials[ii].capitalize() +'#'+keywunits[jj]\n",
    "                        foo[sentit] = SFScenarios[kk].scenario[scen].material[materials[ii]].materialdata[keyw[jj]].cumsum()/keywscale[jj] \n",
    "\n",
    "            else:\n",
    "                sentit = '@value|'+keywprint[jj]+'|'+'PV' +'#'+keywunits[jj]\n",
    "                #sentit = '@value|'+keywprint[jj]+'#'+keywunits[jj]\n",
    "                foo[sentit] = SFScenarios[kk].scenario[scen].data[keyw[jj]]/keywscale[jj] \n",
    "\n",
    "                if keywdcumneed[jj]:\n",
    "                    sentit = '@value|Cumulative'+keywprint[jj]+'|'+'PV' +'#'+keywunits[jj]\n",
    "                    foo[sentit] = SFScenarios[kk].scenario[scen].data[keyw[jj]].cumsum()/keywscale[jj] \n",
    "                  \n",
    "\n",
    "        foo['@states'] = STATEs[zz]\n",
    "        foo['@scenario|Module Composition Scenario'] = SFScenarios[kk].name \n",
    "#        foo['@filter|Install'] = Type[zz]\n",
    "        foo['@timeseries|Year'] = SFScenarios[kk].scenario[scen].data.year\n",
    "\n",
    "        scenariolist = scenariolist.append(foo)   \n",
    "\n",
    "cols = [scenariolist.columns[-1]] + [col for col in scenariolist if col != scenariolist.columns[-1]]\n",
    "scenariolist = scenariolist[cols]\n",
    "cols = [scenariolist.columns[-1]] + [col for col in scenariolist if col != scenariolist.columns[-1]]\n",
    "scenariolist = scenariolist[cols]\n",
    "cols = [scenariolist.columns[-1]] + [col for col in scenariolist if col != scenariolist.columns[-1]]\n",
    "scenariolist = scenariolist[cols]\n",
    "#cols = [scenariolist.columns[-1]] + [col for col in scenariolist if col != scenariolist.columns[-1]]\n",
    "#scenariolist = scenariolist[cols]\n",
    "#scenariolist = scenariolist/1000000 # Converting to Metric Tons\n",
    "#scenariolist = scenariolist.applymap(lambda x: round(x, N - int(np.floor(np.log10(abs(x))))))\n",
    "#scenariolist = scenariolist.applymap(lambda x: int(x))\n",
    "scenariolist.to_csv('OPEN EI PVSC by State ELECTRIF FUTURES.csv', index=False)\n",
    "\n",
    "print(\"Done\")"
   ]
  },
  {
   "cell_type": "code",
   "execution_count": null,
   "metadata": {},
   "outputs": [],
   "source": [
    "scenariolist"
   ]
  },
  {
   "cell_type": "code",
   "execution_count": null,
   "metadata": {},
   "outputs": [],
   "source": [
    "scenariolist.keys()"
   ]
  },
  {
   "cell_type": "code",
   "execution_count": null,
   "metadata": {},
   "outputs": [],
   "source": [
    "# OpenEI 1 - Cumulative EOL by State, Module\n",
    "csvtitle = 'OPENEI 1 - PVSC by State.csv'\n",
    "colNames = scenariolist.columns[scenariolist.columns.str.contains('CumulativeEOLMaterial')] \n",
    "\n",
    "scenariolist['@value|CumulativeEOLMaterial|Module#MetricTonnes'] = scenariolist[colNames].sum(axis=1)\n",
    "foo = scenariolist[['@states', '@scenario|Module Composition Scenario', '@timeseries|Year', \n",
    "                    '@value|NewInstalledCapacity|PV#MW', '@value|CumulativeNewInstalledCapacity|PV#MW', \n",
    "                    '@value|InstalledCapacity|PV#MW',\n",
    "                   '@value|CumulativeEOLMaterial|Module#MetricTonnes']]\n",
    "foo.to_csv(csvtitle, index=False)\n",
    "foo.head(5)"
   ]
  }
 ],
 "metadata": {
  "kernelspec": {
   "display_name": "Python 3",
   "language": "python",
   "name": "python3"
  },
  "language_info": {
   "codemirror_mode": {
    "name": "ipython",
    "version": 3
   },
   "file_extension": ".py",
   "mimetype": "text/x-python",
   "name": "python",
   "nbconvert_exporter": "python",
   "pygments_lexer": "ipython3",
   "version": "3.7.3"
  }
 },
 "nbformat": 4,
 "nbformat_minor": 2
}
