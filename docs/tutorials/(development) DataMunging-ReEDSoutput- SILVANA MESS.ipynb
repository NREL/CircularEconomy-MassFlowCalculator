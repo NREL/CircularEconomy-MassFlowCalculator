{
 "cells": [
  {
   "cell_type": "markdown",
   "metadata": {},
   "source": [
    "# Data Munging ReEDS output data files for input installations"
   ]
  },
  {
   "cell_type": "markdown",
   "metadata": {},
   "source": [
    "To explore different scenarios for furture installation projections of PV (or any technology), ReEDS output data can be useful in providing standard scenarios. This input data will be used in the module files input to the PVDEMICE tool. Some will be used to explore middle, low and high projections, some for the Solar Futures Report. This journal extracts the data relevant for the current status of the PVDEMICE tool from ReEDS outputs."
   ]
  },
  {
   "cell_type": "code",
   "execution_count": 1,
   "metadata": {},
   "outputs": [],
   "source": [
    "import numpy as np\n",
    "import pandas as pd\n",
    "import os,sys\n",
    "import matplotlib.pyplot as plt\n",
    "plt.rcParams.update({'font.size': 22})\n",
    "plt.rcParams['figure.figsize'] = (12, 8)"
   ]
  },
  {
   "cell_type": "code",
   "execution_count": 2,
   "metadata": {},
   "outputs": [
    {
     "name": "stdout",
     "output_type": "stream",
     "text": [
      "Input file is stored in C:\\Users\\sayala\\Documents\\GitHub\\December Core Scenarios ReEDS Outputs Solar Futures.xlsx\n",
      "Your simulation will be stored in C:\\Users\\sayala\\Documents\\GitHub\\CircularEconomy-MassFlowCalculator\\PV_ICE\\TEMP\n"
     ]
    }
   ],
   "source": [
    "import os\n",
    "from pathlib import Path\n",
    "\n",
    "reedsFile = str(Path().resolve().parent.parent.parent / 'December Core Scenarios ReEDS Outputs Solar Futures.xlsx')\n",
    "testfolder = str(Path().resolve().parent.parent / 'PV_ICE' / 'TEMP')\n",
    "\n",
    "print (\"Input file is stored in %s\" % reedsFile)\n",
    "print (\"Your simulation will be stored in %s\" % testfolder)\n"
   ]
  },
  {
   "cell_type": "code",
   "execution_count": 3,
   "metadata": {},
   "outputs": [],
   "source": [
    "cwd = os.getcwd() #grabs current working directory\n",
    "rawdf = pd.read_excel(reedsFile,\n",
    "                        sheet_name=\"Solar Capacity (GW)\")\n",
    "                        #index_col=[0,2,3]) #this casts scenario, PCA and State as levels\n",
    "#now set year as an index in place\n",
    "rawdf.drop(columns=['State'], inplace=True)\n",
    "rawdf.set_index(['scenario','year','PCA'], inplace=True)\n"
   ]
  },
  {
   "cell_type": "code",
   "execution_count": 4,
   "metadata": {},
   "outputs": [
    {
     "data": {
      "text/plain": [
       "Index(['Reference.Mod', 'Reference.Adv', 'Reference.Adv+DR', '95-by-35.Mod',\n",
       "       '95-by-35.Adv', '95-by-35.Adv+DR', '95-by-35+Elec.Mod',\n",
       "       '95-by-35+Elec.Adv', '95-by-35+Elec.Adv+DR'],\n",
       "      dtype='object', name='scenario')"
      ]
     },
     "execution_count": 4,
     "metadata": {},
     "output_type": "execute_result"
    }
   ],
   "source": [
    "rawdf.index.get_level_values('scenario').unique()"
   ]
  },
  {
   "cell_type": "code",
   "execution_count": 5,
   "metadata": {},
   "outputs": [
    {
     "data": {
      "text/plain": [
       "['Reference.Mod',\n",
       " 'Reference.Adv',\n",
       " 'Reference.Adv+DR',\n",
       " '95-by-35.Mod',\n",
       " '95-by-35.Adv',\n",
       " '95-by-35.Adv+DR',\n",
       " '95-by-35+Elec.Mod',\n",
       " '95-by-35+Elec.Adv',\n",
       " '95-by-35+Elec.Adv+DR']"
      ]
     },
     "execution_count": 5,
     "metadata": {},
     "output_type": "execute_result"
    }
   ],
   "source": [
    "scenarios = list(rawdf.index.get_level_values('scenario').unique())\n",
    "PCAs = list(rawdf.index.get_level_values('PCA').unique())\n",
    "scenarios"
   ]
  },
  {
   "cell_type": "code",
   "execution_count": null,
   "metadata": {},
   "outputs": [],
   "source": []
  },
  {
   "cell_type": "code",
   "execution_count": 6,
   "metadata": {},
   "outputs": [
    {
     "name": "stdout",
     "output_type": "stream",
     "text": [
      "path = C:\\Users\\sayala\\Documents\\GitHub\\CircularEconomy-MassFlowCalculator\\PV_ICE\\TEMP\n"
     ]
    }
   ],
   "source": [
    "import PV_ICE\n",
    "r1 = PV_ICE.Simulation(name='Simulation1', path=testfolder)\n",
    "r1.createScenario(name='US', file=r'..\\baselines\\baseline_modules_US.csv')\n",
    "baseline = r1.scenario['US'].data\n",
    "baseline = baseline.drop(columns=['new_Installed_Capacity_[MW]'])\n",
    "baseline.set_index('year', inplace=True)\n",
    "baseline.index = pd.PeriodIndex(baseline.index, freq='A')  # A -- Annual\n"
   ]
  },
  {
   "cell_type": "code",
   "execution_count": null,
   "metadata": {},
   "outputs": [],
   "source": []
  },
  {
   "cell_type": "code",
   "execution_count": null,
   "metadata": {},
   "outputs": [],
   "source": [
    "for ii in range (len(rawdf.unstack(level=1))):\n",
    "    PCA = rawdf.unstack(level=1).iloc[ii].name[1]\n",
    "    SCEN = rawdf.unstack(level=1).iloc[ii].name[0]\n",
    "    SCEN=SCEN.replace('+', '_')\n",
    "    filetitle = SCEN+'_'+PCA +'.csv'\n",
    "    filetitle = os.path.join(testfolder, filetitle)\n",
    "    A = rawdf.unstack(level=1).iloc[0]\n",
    "    A = A.droplevel(level=0)\n",
    "    A.name = 'new_Installed_Capacity_[MW]'\n",
    "    A = pd.DataFrame(A)\n",
    "    A.index=pd.PeriodIndex(A.index, freq='A')\n",
    "    A = A.resample('Y').asfreq()\n",
    "    A = A['new_Installed_Capacity_[MW]'].fillna(0).groupby(A['new_Installed_Capacity_[MW]'].notna().cumsum()).transform('mean')    \n",
    "    A = pd.DataFrame(A)\n",
    "\n",
    "    # Add other columns\n",
    "    A = pd.concat([A, baseline.reindex(A.index)], axis=1)\n",
    "\n",
    "    header = \"year,new_Installed_Capacity_[MW],mod_eff,mod_reliability_t50,mod_reliability_t90,\"\\\n",
    "    \"mod_degradation,mod_lifetime,mod_MFG_eff,mod_EOL_collection_eff,mod_EOL_collected_recycled,\"\\\n",
    "    \"mod_Repowering,mod_Repairing\\n\"\\\n",
    "    \"year,MW,%,years,years,%,years,%,%,%,%,%\\n\"\n",
    "\n",
    "    with open(filetitle, 'w', newline='') as ict:\n",
    "    # Write the header lines, including the index variable for\n",
    "    # the last one if you're letting Pandas produce that for you.\n",
    "    # (see above).\n",
    "        for line in header:\n",
    "            ict.write(line)\n",
    "\n",
    "        #    savedata.to_csv(ict, index=False)\n",
    "        A.to_csv(ict, header=False)"
   ]
  },
  {
   "cell_type": "code",
   "execution_count": 7,
   "metadata": {},
   "outputs": [],
   "source": [
    "# EXAMPLE FOR JUST ONE \n",
    "ii = 0\n",
    "PCA = rawdf.unstack(level=1).iloc[ii].name[1]\n",
    "SCEN = rawdf.unstack(level=1).iloc[ii].name[0]\n",
    "SCEN=SCEN.replace('+', '_')\n",
    "filetitle = SCEN+'_'+PCA +'.csv'\n",
    "filetitle = os.path.join(testfolder, filetitle)\n",
    "A = rawdf.unstack(level=1).iloc[0]\n",
    "A = A.droplevel(level=0)\n",
    "A.name = 'new_Installed_Capacity_[MW]'\n",
    "A = pd.DataFrame(A)\n",
    "A.index=pd.PeriodIndex(A.index, freq='A')\n",
    "B = A.resample('Y').asfreq()\n",
    "B = B['new_Installed_Capacity_[MW]'].fillna(0).groupby(B['new_Installed_Capacity_[MW]'].notna().cumsum()).transform('mean')\n",
    "B = pd.DataFrame(B)\n",
    "B.to_csv(filetitle)\n",
    "\n",
    "# Add other columns\n",
    "B = pd.concat([B, baseline.reindex(B.index)], axis=1)\n",
    "\n",
    "\n",
    "header = \"year,new_Installed_Capacity_[MW],mod_eff,mod_reliability_t50,mod_reliability_t90,\"\\\n",
    "\"mod_degradation,mod_lifetime,mod_MFG_eff,mod_EOL_collection_eff,mod_EOL_collected_recycled,\"\\\n",
    "\"mod_Repowering,mod_Repairing\\n\"\\\n",
    "\"year,MW,%,years,years,%,years,%,%,%,%,%\\n\"\n",
    "\n",
    "with open(filetitle, 'w', newline='') as ict:\n",
    "# Write the header lines, including the index variable for\n",
    "# the last one if you're letting Pandas produce that for you.\n",
    "# (see above).\n",
    "    for line in header:\n",
    "        ict.write(line)\n",
    "\n",
    "    #    savedata.to_csv(ict, index=False)\n",
    "    B.to_csv(ict, header=False)\n"
   ]
  },
  {
   "cell_type": "code",
   "execution_count": 8,
   "metadata": {},
   "outputs": [],
   "source": [
    "## Reading inputs adn creating scenarios"
   ]
  },
  {
   "cell_type": "code",
   "execution_count": 9,
   "metadata": {},
   "outputs": [],
   "source": [
    "GISfile = str(Path().resolve().parent.parent.parent / 'gis_centroid_n.xlsx')\n",
    "GIS = pd.read_excel(GISfile)\n",
    "GIS = GIS.set_index('id')"
   ]
  },
  {
   "cell_type": "code",
   "execution_count": 10,
   "metadata": {},
   "outputs": [
    {
     "data": {
      "text/html": [
       "<div>\n",
       "<style scoped>\n",
       "    .dataframe tbody tr th:only-of-type {\n",
       "        vertical-align: middle;\n",
       "    }\n",
       "\n",
       "    .dataframe tbody tr th {\n",
       "        vertical-align: top;\n",
       "    }\n",
       "\n",
       "    .dataframe thead th {\n",
       "        text-align: right;\n",
       "    }\n",
       "</style>\n",
       "<table border=\"1\" class=\"dataframe\">\n",
       "  <thead>\n",
       "    <tr style=\"text-align: right;\">\n",
       "      <th></th>\n",
       "      <th>long</th>\n",
       "      <th>lat</th>\n",
       "      <th>country</th>\n",
       "    </tr>\n",
       "    <tr>\n",
       "      <th>id</th>\n",
       "      <th></th>\n",
       "      <th></th>\n",
       "      <th></th>\n",
       "    </tr>\n",
       "  </thead>\n",
       "  <tbody>\n",
       "    <tr>\n",
       "      <th>p1</th>\n",
       "      <td>-121.452252</td>\n",
       "      <td>47.820991</td>\n",
       "      <td>USA</td>\n",
       "    </tr>\n",
       "    <tr>\n",
       "      <th>p10</th>\n",
       "      <td>-117.159039</td>\n",
       "      <td>35.120104</td>\n",
       "      <td>USA</td>\n",
       "    </tr>\n",
       "    <tr>\n",
       "      <th>p100</th>\n",
       "      <td>-78.257714</td>\n",
       "      <td>38.791108</td>\n",
       "      <td>USA</td>\n",
       "    </tr>\n",
       "    <tr>\n",
       "      <th>p101</th>\n",
       "      <td>-82.192477</td>\n",
       "      <td>28.708695</td>\n",
       "      <td>USA</td>\n",
       "    </tr>\n",
       "    <tr>\n",
       "      <th>p102</th>\n",
       "      <td>-80.563731</td>\n",
       "      <td>26.677092</td>\n",
       "      <td>USA</td>\n",
       "    </tr>\n",
       "  </tbody>\n",
       "</table>\n",
       "</div>"
      ],
      "text/plain": [
       "            long        lat country\n",
       "id                                 \n",
       "p1   -121.452252  47.820991     USA\n",
       "p10  -117.159039  35.120104     USA\n",
       "p100  -78.257714  38.791108     USA\n",
       "p101  -82.192477  28.708695     USA\n",
       "p102  -80.563731  26.677092     USA"
      ]
     },
     "execution_count": 10,
     "metadata": {},
     "output_type": "execute_result"
    }
   ],
   "source": [
    "GIS.head()"
   ]
  },
  {
   "cell_type": "code",
   "execution_count": 11,
   "metadata": {},
   "outputs": [
    {
     "data": {
      "text/plain": [
       "-121.4522522"
      ]
     },
     "execution_count": 11,
     "metadata": {},
     "output_type": "execute_result"
    }
   ],
   "source": [
    "GIS.loc['p1'].long"
   ]
  },
  {
   "cell_type": "code",
   "execution_count": 12,
   "metadata": {},
   "outputs": [],
   "source": [
    "simulationname = scenarios[0]\n",
    "simulationname\n",
    "PCA = PCAs[0]\n"
   ]
  },
  {
   "cell_type": "code",
   "execution_count": 18,
   "metadata": {},
   "outputs": [
    {
     "data": {
      "text/plain": [
       "'p1'"
      ]
     },
     "execution_count": 18,
     "metadata": {},
     "output_type": "execute_result"
    }
   ],
   "source": [
    "PCA"
   ]
  },
  {
   "cell_type": "code",
   "execution_count": 24,
   "metadata": {},
   "outputs": [
    {
     "name": "stdout",
     "output_type": "stream",
     "text": [
      "path = C:\\Users\\sayala\\Documents\\GitHub\\CircularEconomy-MassFlowCalculator\\PV_ICE\\TEMP\n"
     ]
    }
   ],
   "source": [
    "for ii in range (0, 1): #len(scenarios):\n",
    "    r1 = PV_ICE.Simulation(name=scenarios[ii], path=testfolder)\n",
    "    for jj in range (0, 2): #len(PCAs)): \n",
    "        r1.createScenario(name=PCAs[jj], file=r'..\\baselines\\baseline_modules_US.csv')\n",
    "        r1.scenario[PCAs[jj]].addMaterial('glass', file=r'..\\baselines\\baseline_material_glass.csv')\n",
    "        r1.scenario[PCAs[jj]].latitude = GIS.loc[PCAs[jj]].lat\n",
    "        r1.scenario[PCAs[jj]].longitude = GIS.loc[PCAs[jj]].long\n"
   ]
  },
  {
   "cell_type": "code",
   "execution_count": null,
   "metadata": {},
   "outputs": [],
   "source": []
  },
  {
   "cell_type": "code",
   "execution_count": null,
   "metadata": {},
   "outputs": [],
   "source": []
  },
  {
   "cell_type": "code",
   "execution_count": null,
   "metadata": {},
   "outputs": [],
   "source": []
  },
  {
   "cell_type": "code",
   "execution_count": 16,
   "metadata": {},
   "outputs": [],
   "source": []
  },
  {
   "cell_type": "code",
   "execution_count": null,
   "metadata": {},
   "outputs": [],
   "source": []
  },
  {
   "cell_type": "markdown",
   "metadata": {},
   "source": [
    "## Playing with Multiindex Stuff"
   ]
  },
  {
   "cell_type": "code",
   "execution_count": null,
   "metadata": {},
   "outputs": [],
   "source": [
    "rawdf.unstack(level=0).head()\n",
    "rawdf.unstack(level=1).head()\n",
    "rawdf.unstack(level=2).head()\n"
   ]
  },
  {
   "cell_type": "code",
   "execution_count": null,
   "metadata": {},
   "outputs": [],
   "source": [
    "rawdf.unstack(level=1).iloc[0]\n"
   ]
  },
  {
   "cell_type": "code",
   "execution_count": null,
   "metadata": {},
   "outputs": [],
   "source": [
    "rawdf.unstack(level=1).iloc[2].name[1]"
   ]
  },
  {
   "cell_type": "code",
   "execution_count": null,
   "metadata": {},
   "outputs": [],
   "source": [
    "rawdf.loc[('Reference.Mod',2010)].head()"
   ]
  },
  {
   "cell_type": "code",
   "execution_count": null,
   "metadata": {},
   "outputs": [],
   "source": [
    "scenarios = rawdf.groupby(level=0)\n",
    "PCA = rawdf.groupby(level=2)"
   ]
  },
  {
   "cell_type": "code",
   "execution_count": null,
   "metadata": {},
   "outputs": [],
   "source": [
    "for a,b in scenarios:\n",
    "    for c,d in PCA:\n",
    "        print(a, c)"
   ]
  },
  {
   "cell_type": "code",
   "execution_count": null,
   "metadata": {},
   "outputs": [],
   "source": [
    "PCAs = rawdf.index.get_level_values('PCA').unique()\n",
    "scenarios = rawdf.index.get_level_values('scenario').unique()\n",
    "years = rawdf.index.get_level_values('year').unique()"
   ]
  },
  {
   "cell_type": "code",
   "execution_count": null,
   "metadata": {},
   "outputs": [],
   "source": [
    "rawdf.loc[(scenarios[1])].head()"
   ]
  },
  {
   "cell_type": "code",
   "execution_count": null,
   "metadata": {},
   "outputs": [],
   "source": [
    "rawdf.loc[scenarios[1]].head()"
   ]
  },
  {
   "cell_type": "code",
   "execution_count": null,
   "metadata": {},
   "outputs": [],
   "source": [
    "rawdf.loc[[scenarios[1]]].head()"
   ]
  },
  {
   "cell_type": "code",
   "execution_count": null,
   "metadata": {},
   "outputs": [],
   "source": []
  }
 ],
 "metadata": {
  "kernelspec": {
   "display_name": "Python 3",
   "language": "python",
   "name": "python3"
  },
  "language_info": {
   "codemirror_mode": {
    "name": "ipython",
    "version": 3
   },
   "file_extension": ".py",
   "mimetype": "text/x-python",
   "name": "python",
   "nbconvert_exporter": "python",
   "pygments_lexer": "ipython3",
   "version": "3.7.3"
  }
 },
 "nbformat": 4,
 "nbformat_minor": 4
}
