{
 "cells": [
  {
   "cell_type": "markdown",
   "id": "8b49ac9c",
   "metadata": {},
   "source": [
    "# Inputting ABM outputs into PV ICE "
   ]
  },
  {
   "cell_type": "markdown",
   "id": "003fa3ee",
   "metadata": {},
   "source": [
    "## Import libraries and create test folder"
   ]
  },
  {
   "cell_type": "code",
   "execution_count": 1,
   "id": "c62e0ab0",
   "metadata": {},
   "outputs": [],
   "source": [
    "import PV_ICE\n",
    "import numpy as np\n",
    "import pandas as pd\n",
    "import os,sys\n",
    "from pathlib import Path\n",
    "import matplotlib.pyplot as plt\n",
    "from sklearn.linear_model import LinearRegression\n",
    "from itertools import chain\n",
    "import plotly.graph_objects as go\n",
    "import plotly.io as pio\n",
    "import plotly.express as px"
   ]
  },
  {
   "cell_type": "code",
   "execution_count": 2,
   "id": "a6fd354b",
   "metadata": {
    "scrolled": true
   },
   "outputs": [
    {
     "name": "stdout",
     "output_type": "stream",
     "text": [
      "Your simulation will be stored in C:\\Users\\ahegedus\\Documents\\GitHub\\PV_ICE\\PV_ICE\\TEMP\n",
      "C:\\Users\\ahegedus\\Documents\\GitHub\\PV_ICE\\PV_ICE\\baselines\n"
     ]
    }
   ],
   "source": [
    "testfolder = str(Path().resolve().parent.parent /'PV_ICE' / 'TEMP')\n",
    "baselinesfolder =  str(Path().resolve().parent.parent /'PV_ICE' / 'baselines')\n",
    "# Another option using relative address; for some operative systems you might need '/' instead of '\\'\n",
    "# testfolder = os.path.abspath(r'..\\..\\PV_ICE\\TEMP')  \n",
    "\n",
    "print (\"Your simulation will be stored in %s\" % testfolder)\n",
    "print(baselinesfolder)"
   ]
  },
  {
   "cell_type": "markdown",
   "id": "1ab6127c",
   "metadata": {},
   "source": [
    "## Create initial simulations"
   ]
  },
  {
   "cell_type": "code",
   "execution_count": 3,
   "id": "8d72c9aa",
   "metadata": {},
   "outputs": [
    {
     "name": "stdout",
     "output_type": "stream",
     "text": [
      "path = C:\\Users\\ahegedus\\Documents\\GitHub\\PV_ICE\\PV_ICE\\TEMP\n",
      "path = C:\\Users\\ahegedus\\Documents\\GitHub\\PV_ICE\\PV_ICE\\TEMP\n",
      "path = C:\\Users\\ahegedus\\Documents\\GitHub\\PV_ICE\\PV_ICE\\TEMP\n",
      "path = C:\\Users\\ahegedus\\Documents\\GitHub\\PV_ICE\\PV_ICE\\TEMP\n"
     ]
    }
   ],
   "source": [
    "#create simulations\n",
    "r1 = PV_ICE.Simulation(name='ABM_Simulation1', path=testfolder)\n",
    "r2 = PV_ICE.Simulation(name='ABM_Simulation2', path=testfolder)\n",
    "r3 = PV_ICE.Simulation(name='ABM_Simulation3', path=testfolder)\n",
    "r4 = PV_ICE.Simulation(name='ABM_Simulation4', path=testfolder)\n",
    "\n",
    "#create 10 scenarios in each simulation: 1st is standard in PV ICE, 2-10 are scenarios a-i in ABM\n",
    "SIMULATIONS = [r1,r2]\n",
    "SCENARIOS = ['standard_PVICE','landfill_ban','high_mat_recovery_cheap_recycling','cheap_recycling','high_landfill_costs','better_lifetime','better_learning','reuse_warranties','seeding_reuse','juliens_baseline']\n",
    "for mysimulation in SIMULATIONS: \n",
    "    for myscenario in SCENARIOS:\n",
    "        mysimulation.createScenario(name=myscenario, file=r'..\\baselines\\baseline_modules_US.csv')\n",
    "        mysimulation.scenario[myscenario].addMaterial('glass', file=r'..\\baselines\\baseline_material_glass.csv')\n",
    "        mysimulation.scenario[myscenario].addMaterial('aluminium_frames', file=r'..\\baselines\\baseline_material_aluminium_frames.csv')\n",
    "        mysimulation.scenario[myscenario].addMaterial('silver', file=r'..\\baselines\\baseline_material_silver.csv')\n",
    "        mysimulation.scenario[myscenario].addMaterial('silicon', file=r'..\\baselines\\baseline_material_silicon.csv')\n",
    "        mysimulation.scenario[myscenario].addMaterial('copper', file=r'..\\baselines\\baseline_material_copper.csv')\n",
    "\n",
    "#create r3 for select scenarios\n",
    "#Henry Hieslmair gives four classes of repair bins: A, B, C, D; with A being lowest quality, D being highest quality\n",
    "REPAIR_SCENARIOS = ['better_lifetime_A','better_lifetime_B','better_lifetime_C','better_lifetime_D',\n",
    "                    'better_learning_A','better_learning_B', 'better_learning_C', 'better_learning_D', \n",
    "                    'juliens_baseline_A','juliens_baseline_B', 'juliens_baseline_C', 'juliens_baseline_D',\n",
    "                    'landfill_ban_A', 'landfill_ban_B', 'landfill_ban_C', 'landfill_ban_D']\n",
    "for myscenario in REPAIR_SCENARIOS:\n",
    "        r3.createScenario(name=myscenario, file=r'..\\baselines\\baseline_modules_US.csv')\n",
    "        r3.scenario[myscenario].addMaterial('glass', file=r'..\\baselines\\baseline_material_glass.csv')\n",
    "        r3.scenario[myscenario].addMaterial('aluminium_frames', file=r'..\\baselines\\baseline_material_aluminium_frames.csv')\n",
    "        r3.scenario[myscenario].addMaterial('silver', file=r'..\\baselines\\baseline_material_silver.csv')\n",
    "        r3.scenario[myscenario].addMaterial('silicon', file=r'..\\baselines\\baseline_material_silicon.csv')\n",
    "        r3.scenario[myscenario].addMaterial('copper', file=r'..\\baselines\\baseline_material_copper.csv')"
   ]
  },
  {
   "cell_type": "markdown",
   "id": "6770bbb7",
   "metadata": {},
   "source": [
    "## Modify parameters: Simulation 1 (r1), same installs for all scenarios: what is the effect of different reuse, recycle, and repair rates?"
   ]
  },
  {
   "cell_type": "code",
   "execution_count": 4,
   "id": "577b4ed9",
   "metadata": {},
   "outputs": [],
   "source": [
    "#modify values of each scenario 2-10 based on ABM outputs\n",
    "#first, set 'mod_EOL_collected_recycled' to 100% in scenarios 2-10 for years 2022 on (assume all collected modules are recycled)\n",
    "ABM_SCENARIOS = SCENARIOS[1:] \n",
    "past_years_collected_recycled = [r1.scenario['standard_PVICE'].data['mod_EOL_collected_recycled'][0]]*(2022-1995)\n",
    "new_collected_recycled = [100]*(2050-2021)\n",
    "#create new list to replace 'mod_EOL_collected_recycled' with, with 1995-2021 original baseline module values, and 2022-2050 at 100%\n",
    "new_mod_recycled = past_years_collected_recycled + new_collected_recycled\n",
    "for myscenario in ABM_SCENARIOS:\n",
    "    r1.scenario[myscenario].data['mod_EOL_collected_recycled'] = new_mod_recycled\n",
    "    \n",
    "#next, set 'mat_EOL_collected_Recycled' to 100% for each material in scenarios 2-10 for years 2022 on (assume all collected materials are recycled)\n",
    "MATERIALS = ['glass','aluminium_frames','silver','silicon','copper']\n",
    "for mymaterial in MATERIALS:\n",
    "    past_years_collected_recycled = [r1.scenario['standard_PVICE'].material[mymaterial].materialdata['mat_EOL_collected_Recycled'][0]]*(2022-1995)\n",
    "    new_collected_recycled = [100]*(2050-2021)\n",
    "    #create new list to replace 'mod_EOL_collected_Recycled' with, with 1995-2021 original baseline module values, and 2022-2050 at 100%\n",
    "    new_mat_recycled = past_years_collected_recycled + new_collected_recycled\n",
    "    for myscenario in ABM_SCENARIOS:\n",
    "        r1.scenario[myscenario].material[mymaterial].materialdata['mat_EOL_collected_Recycled'] = new_mat_recycled"
   ]
  },
  {
   "cell_type": "code",
   "execution_count": 5,
   "id": "1e9ffc81",
   "metadata": {},
   "outputs": [],
   "source": [
    "#next, modify 3 additional inputs for each scenario 2-10, with values depending on the scenario, coming from ABM outputs\n",
    "MODIFIED_MODULE_BASELINES = ['mod_Repair','mod_Reuse','mod_EOL_collection_eff']\n",
    "len(r1.scenario['landfill_ban'].data['mod_Reuse']) #all inputs have 56 rows\n",
    "#keep first 27 rows corresponding to 1995-2021 values\n",
    "ABM_outputs = pd.read_csv(r'..\\baselines\\ABM\\abm_outputs_mass_fractions.csv')"
   ]
  },
  {
   "cell_type": "code",
   "execution_count": 6,
   "id": "6754c82e",
   "metadata": {},
   "outputs": [],
   "source": [
    "#ABM_outputs\n",
    "#change scenario names to names from ABM_SCENARIOS\n",
    "file_scenario_names = ABM_outputs['Scenario'].unique().tolist()\n",
    "ABM_outputs = ABM_outputs.replace(file_scenario_names, ABM_SCENARIOS)"
   ]
  },
  {
   "cell_type": "code",
   "execution_count": 7,
   "id": "b9232aa3",
   "metadata": {},
   "outputs": [],
   "source": [
    "#changing repair, eol collection eff, and reuse module baselines for all ABM scenarios\n",
    "for myscenario in ABM_SCENARIOS:\n",
    "    frames1 = []\n",
    "    frames2 = []\n",
    "    frames3 = []\n",
    "    new_outputs = []\n",
    "    scenario_filter = []\n",
    "    new_mod_Repairing = []\n",
    "    new_mod_Recycling = []\n",
    "    new_mod_Reuse = []\n",
    "    scenario_filter = 'Scenario == ' + '\\\"' + myscenario + '\\\"'\n",
    "    new_outputs = ABM_outputs.query(scenario_filter)\n",
    "    #replace repairing baselines\n",
    "    repairs = new_outputs.loc[:,'mass_fraction_PV_materials_repaired_milliontonnes']*100\n",
    "    repairs.index = list(range(31))\n",
    "    frames1 = [r1.scenario[myscenario].data['mod_Repair'][0:27],repairs[2:]]\n",
    "    new_mod_Repairing = pd.concat(frames1)\n",
    "    r1.scenario[myscenario].data['mod_Repair'] = new_mod_Repairing.values\n",
    "    #replace recycling baselines\n",
    "    recycled = new_outputs.loc[:,'mass_fraction_PV_materials_recycled_milliontonnes']*100\n",
    "    if myscenario == 'high_mat_recovery_cheap_recycling':\n",
    "        recycles = recycled/0.96 #reflects higher material recovery rate (must change as ABM gives effective recycling rate)\n",
    "    else:\n",
    "        recycles = recycled/0.80 #must change as ABM gives effective recycling rate\n",
    "    recycles.index = list(range(31))\n",
    "    frames2 = [r1.scenario[myscenario].data['mod_EOL_collection_eff'][0:27],recycles[2:]]\n",
    "    new_mod_Recycling = pd.concat(frames2)\n",
    "    r1.scenario[myscenario].data['mod_EOL_collection_eff'] = new_mod_Recycling.values\n",
    "    #replace reuse baselines\n",
    "    reuses = new_outputs.loc[:,'mass_fraction_PV_materials_reused_milliontonnes']*100\n",
    "    reuses.index = list(range(31))\n",
    "    frames3 = [r1.scenario[myscenario].data['mod_Reuse'][0:27],reuses[2:]]\n",
    "    new_mod_Reuse = pd.concat(frames3)\n",
    "    r1.scenario[myscenario].data['mod_Reuse'] = new_mod_Reuse.values"
   ]
  },
  {
   "cell_type": "markdown",
   "id": "9bb30ac3",
   "metadata": {},
   "source": [
    "### Modify better_lifetime scenario reliability inputs: mod_lifetime, mod_reliability_t50, & mod_reliability_t90"
   ]
  },
  {
   "cell_type": "code",
   "execution_count": 8,
   "id": "bcc1da87",
   "metadata": {},
   "outputs": [],
   "source": [
    "def lifetime_line(year):\n",
    "    \"\"\"\"\n",
    "    This function takes in a year and outputs the module lifetime based on scenario e) in ABM.\n",
    "    Inputs\n",
    "    year = desired year\n",
    "    \"\"\"\n",
    "    m = (60-15.9)/(2050-2000)\n",
    "    y = m*(year-2000) + 15.9\n",
    "    return(y)"
   ]
  },
  {
   "cell_type": "code",
   "execution_count": 9,
   "id": "4be42e69",
   "metadata": {},
   "outputs": [],
   "source": [
    "#create list of mod_lifetime values based on linear regression\n",
    "years = list(range(2022,2051)) #ONLY WANT to modify 2022 ONWARD\n",
    "mod_lifetimes_list = []\n",
    "for myyear in years:\n",
    "    mod_lifetimes_list += [lifetime_line(myyear)]"
   ]
  },
  {
   "cell_type": "code",
   "execution_count": 10,
   "id": "919a490c",
   "metadata": {},
   "outputs": [],
   "source": [
    "mod_lifetimes_df = pd.DataFrame()"
   ]
  },
  {
   "cell_type": "code",
   "execution_count": 11,
   "id": "ada731c1",
   "metadata": {},
   "outputs": [],
   "source": [
    "mod_lifetimes_df['year'] = years\n",
    "mod_lifetimes_df['mod_lifetime'] = mod_lifetimes_list"
   ]
  },
  {
   "cell_type": "code",
   "execution_count": 12,
   "id": "78591982",
   "metadata": {},
   "outputs": [],
   "source": [
    "#changing mod_lifetime in scenario e) better_lifetime\n",
    "new_mod_lifetime = list(r1.scenario[myscenario].data['mod_lifetime'][0:27].values) + mod_lifetimes_list\n",
    "r1.scenario['better_lifetime'].data['mod_lifetime'] = new_mod_lifetime"
   ]
  },
  {
   "cell_type": "code",
   "execution_count": 13,
   "id": "4c748012",
   "metadata": {},
   "outputs": [],
   "source": [
    "#create linear regression for mod_reliability_t50 & mod_reliability_t90 vs. mod_lifetime \n",
    "#to estimate t50 and t90 values to input for improved lifetime scenario\n",
    "reliability_baselines = pd.DataFrame()\n",
    "reliability_baselines['mod_lifetime'] = r1.scenario['standard_PVICE'].data['mod_lifetime']\n",
    "reliability_baselines['mod_reliability_t50'] = r1.scenario['standard_PVICE'].data['mod_reliability_t50']\n",
    "reliability_baselines['mod_reliability_t90'] = r1.scenario['standard_PVICE'].data['mod_reliability_t90']"
   ]
  },
  {
   "cell_type": "code",
   "execution_count": 14,
   "id": "a4f8cc50",
   "metadata": {},
   "outputs": [],
   "source": [
    "X_lifetime = reliability_baselines.iloc[:, 0].values.reshape(-1, 1)  # values converts it into a numpy array\n",
    "Y1_t50 = reliability_baselines.iloc[:, 1].values.reshape(-1, 1)  # -1 means that calculate the dimension of rows, but have 1 column\n",
    "Y2_t90 = reliability_baselines.iloc[:, 2].values.reshape(-1, 1)\n",
    "better_lifetimes = np.array(mod_lifetimes_list).reshape(-1,1)\n",
    "\n",
    "linear_regressor_Y1 = LinearRegression()\n",
    "linear_regressor_Y1.fit(X_lifetime, Y1_t50)  # perform linear regression\n",
    "better_lifetime_t50_list = linear_regressor_Y1.predict(better_lifetimes).tolist()  # make predictions based on improved lifetime values\n",
    "better_lifetime_t50_list = list(chain(*better_lifetime_t50_list)) #unnest list\n",
    "\n",
    "linear_regressor_Y2 = LinearRegression() \n",
    "linear_regressor_Y2.fit(X_lifetime, Y2_t90)\n",
    "better_lifetime_t90_list = linear_regressor_Y2.predict(better_lifetimes).tolist()\n",
    "better_lifetime_t90_list = list(chain(*better_lifetime_t90_list)) #unnest list"
   ]
  },
  {
   "cell_type": "code",
   "execution_count": 15,
   "id": "a8bf6c6c",
   "metadata": {},
   "outputs": [],
   "source": [
    "#changing mod_reliability_t50 & mod_reliability_t90 in scenario e) better_lifetime\n",
    "new_mod_t50 = list(r1.scenario[myscenario].data['mod_reliability_t50'][0:27].values) + better_lifetime_t50_list\n",
    "r1.scenario['better_lifetime'].data['mod_reliability_t50'] = new_mod_t50\n",
    "\n",
    "new_mod_t90 = list(r1.scenario[myscenario].data['mod_reliability_t90'][0:27].values) + better_lifetime_t90_list\n",
    "r1.scenario['better_lifetime'].data['mod_reliability_t90'] = new_mod_t90"
   ]
  },
  {
   "cell_type": "markdown",
   "id": "ae6faf62",
   "metadata": {},
   "source": [
    "## Modify parameters: Simulation 2 (r2), same installs for all scenarios: what is effect of different reuse, recycle, and repair rates when recycling efficiency is improved?"
   ]
  },
  {
   "cell_type": "code",
   "execution_count": 16,
   "id": "a0ad4dfc",
   "metadata": {},
   "outputs": [],
   "source": [
    "#copy same parameter modifications for r2 as in r1\n",
    "for myscenario in ABM_SCENARIOS:\n",
    "    r2.scenario[myscenario].data['mod_EOL_collected_recycled'] = new_mod_recycled\n",
    "for mymaterial in MATERIALS:\n",
    "    past_years_collected_recycled = [r2.scenario['standard_PVICE'].material[mymaterial].materialdata['mat_EOL_collected_Recycled'][0]]*(2022-1995)\n",
    "    new_collected_recycled = [100]*(2050-2021)\n",
    "    #create new list to replace 'mod_EOL_collected_Recycled' with, with 1995-2021 original baseline module values, and 2022-2050 at 100%\n",
    "    new_mat_recycled = past_years_collected_recycled + new_collected_recycled\n",
    "    for myscenario in ABM_SCENARIOS:\n",
    "        r2.scenario[myscenario].material[mymaterial].materialdata['mat_EOL_collected_Recycled'] = new_mat_recycled\n",
    "for myscenario in ABM_SCENARIOS:\n",
    "    frames1 = []\n",
    "    frames2 = []\n",
    "    frames3 = []\n",
    "    new_outputs = []\n",
    "    scenario_filter = []\n",
    "    new_mod_Repairing = []\n",
    "    new_mod_Recycling = []\n",
    "    new_mod_Reuse = []\n",
    "    scenario_filter = 'Scenario == ' + '\\\"' + myscenario + '\\\"'\n",
    "    new_outputs = ABM_outputs.query(scenario_filter)\n",
    "    #replace repairing baselines\n",
    "    repairs = new_outputs.loc[:,'mass_fraction_PV_materials_repaired_milliontonnes']*100\n",
    "    repairs.index = list(range(31))\n",
    "    frames1 = [r2.scenario[myscenario].data['mod_Repair'][0:27],repairs[2:]]\n",
    "    new_mod_Repairing = pd.concat(frames1)\n",
    "    r2.scenario[myscenario].data['mod_Repair'] = new_mod_Repairing.values\n",
    "    #replace recycling baselines\n",
    "    recycled = new_outputs.loc[:,'mass_fraction_PV_materials_recycled_milliontonnes']*100\n",
    "    if myscenario == 'high_mat_recovery_cheap_recycling':\n",
    "        recycles = recycled/0.96 #reflects higher material recovery rate (must change as ABM gives effective recycling rate)\n",
    "    else:\n",
    "        recycles = recycled/0.80 #must change as ABM gives effective recycling rate\n",
    "    recycles.index = list(range(31))\n",
    "    frames2 = [r2.scenario[myscenario].data['mod_EOL_collection_eff'][0:27],recycles[2:]]\n",
    "    new_mod_Recycling = pd.concat(frames2)\n",
    "    r2.scenario[myscenario].data['mod_EOL_collection_eff'] = new_mod_Recycling.values\n",
    "    #replace reuse baselines\n",
    "    reuses = new_outputs.loc[:,'mass_fraction_PV_materials_reused_milliontonnes']*100\n",
    "    reuses.index = list(range(31))\n",
    "    frames3 = [r2.scenario[myscenario].data['mod_Reuse'][0:27],reuses[2:]]\n",
    "    new_mod_Reuse = pd.concat(frames3)\n",
    "    r2.scenario[myscenario].data['mod_Reuse'] = new_mod_Reuse.values\n",
    "r2.scenario['better_lifetime'].data['mod_lifetime'] = new_mod_lifetime\n",
    "r2.scenario['better_lifetime'].data['mod_reliability_t50'] = new_mod_t50\n",
    "r2.scenario['better_lifetime'].data['mod_reliability_t90'] = new_mod_t90"
   ]
  },
  {
   "cell_type": "code",
   "execution_count": 17,
   "id": "55c62374",
   "metadata": {},
   "outputs": [],
   "source": [
    "#FRELP recovery rates and qualities\n",
    "frelp_results = pd.DataFrame()\n",
    "frelp_results['mat'] = ['silver','copper','aluminium_frames','silicon','glass']\n",
    "frelp_results['recovery_rate'] = [94,97,99.4,97,98]\n",
    "frelp_results['mat_recycled_into_HQ'] = [100,100,100,100,100] #########MODIFY THIS BASED ON RESEARCH VALUES!"
   ]
  },
  {
   "cell_type": "code",
   "execution_count": 18,
   "id": "8c4dfbc6",
   "metadata": {},
   "outputs": [
    {
     "data": {
      "text/html": [
       "<div>\n",
       "<style scoped>\n",
       "    .dataframe tbody tr th:only-of-type {\n",
       "        vertical-align: middle;\n",
       "    }\n",
       "\n",
       "    .dataframe tbody tr th {\n",
       "        vertical-align: top;\n",
       "    }\n",
       "\n",
       "    .dataframe thead th {\n",
       "        text-align: right;\n",
       "    }\n",
       "</style>\n",
       "<table border=\"1\" class=\"dataframe\">\n",
       "  <thead>\n",
       "    <tr style=\"text-align: right;\">\n",
       "      <th></th>\n",
       "      <th>mat</th>\n",
       "      <th>recovery_rate</th>\n",
       "      <th>mat_recycled_into_HQ</th>\n",
       "    </tr>\n",
       "  </thead>\n",
       "  <tbody>\n",
       "    <tr>\n",
       "      <th>0</th>\n",
       "      <td>silver</td>\n",
       "      <td>94.0</td>\n",
       "      <td>100</td>\n",
       "    </tr>\n",
       "    <tr>\n",
       "      <th>1</th>\n",
       "      <td>copper</td>\n",
       "      <td>97.0</td>\n",
       "      <td>100</td>\n",
       "    </tr>\n",
       "    <tr>\n",
       "      <th>2</th>\n",
       "      <td>aluminium_frames</td>\n",
       "      <td>99.4</td>\n",
       "      <td>100</td>\n",
       "    </tr>\n",
       "    <tr>\n",
       "      <th>3</th>\n",
       "      <td>silicon</td>\n",
       "      <td>97.0</td>\n",
       "      <td>100</td>\n",
       "    </tr>\n",
       "    <tr>\n",
       "      <th>4</th>\n",
       "      <td>glass</td>\n",
       "      <td>98.0</td>\n",
       "      <td>100</td>\n",
       "    </tr>\n",
       "  </tbody>\n",
       "</table>\n",
       "</div>"
      ],
      "text/plain": [
       "                mat  recovery_rate  mat_recycled_into_HQ\n",
       "0            silver           94.0                   100\n",
       "1            copper           97.0                   100\n",
       "2  aluminium_frames           99.4                   100\n",
       "3           silicon           97.0                   100\n",
       "4             glass           98.0                   100"
      ]
     },
     "execution_count": 18,
     "metadata": {},
     "output_type": "execute_result"
    }
   ],
   "source": [
    "frelp_results"
   ]
  },
  {
   "cell_type": "code",
   "execution_count": 19,
   "id": "d905b8c3",
   "metadata": {},
   "outputs": [],
   "source": [
    "#Modify 'mat_EOL_Recycling_eff', 'mat_EOL_Recycled_into_HQ', 'mat_EOL_RecycledHQ_Reused4MFG' \n",
    "new_HQ4MFG = [100]*(2050-2021)\n",
    "for mymaterial in MATERIALS: \n",
    "    #modifying 'mat_EOL_Recycling_eff'\n",
    "    past_recycling_eff = [r2.scenario['standard_PVICE'].material[mymaterial].materialdata['mat_EOL_Recycling_eff'][0]]*(2022-1995)\n",
    "    new_recycling_eff = frelp_results[frelp_results.mat.isin([mymaterial])]['recovery_rate'].values.tolist()*(2050-2021)\n",
    "    new_mat_EOL_recycling_eff = past_recycling_eff + new_recycling_eff\n",
    "    #modifiying 'mat_EOL_Recycled_into_HQ'\n",
    "    past_HQ_recycling = [r2.scenario['standard_PVICE'].material[mymaterial].materialdata['mat_EOL_Recycled_into_HQ'][0]]*(2022-1995)\n",
    "    new_HQ_recycling = frelp_results[frelp_results.mat.isin([mymaterial])]['mat_recycled_into_HQ'].values.tolist()*(2050-2021)\n",
    "    new_mat_EOL_recycled_into_HQ = past_HQ_recycling + new_HQ_recycling\n",
    "    #modifying 'mat_EOL_RecycledHQ_Reused4MFG' \n",
    "    past_HQ4MFG = list(r2.scenario['standard_PVICE'].material[mymaterial].materialdata['mat_EOL_RecycledHQ_Reused4MFG'][0:27].values)\n",
    "    new_recycledHQ_reused4MFG = past_HQ4MFG + new_HQ4MFG\n",
    "    for myscenario in ABM_SCENARIOS:\n",
    "        r2.scenario[myscenario].material[mymaterial].materialdata['mat_EOL_Recycling_eff'] = new_mat_EOL_recycling_eff\n",
    "        r2.scenario[myscenario].material[mymaterial].materialdata['mat_EOL_Recycled_into_HQ'] = new_mat_EOL_recycled_into_HQ\n",
    "        r2.scenario[myscenario].material[mymaterial].materialdata['mat_EOL_RecycledHQ_Reused4MFG'] = new_recycledHQ_reused4MFG"
   ]
  },
  {
   "cell_type": "markdown",
   "id": "3f2250d1",
   "metadata": {},
   "source": [
    "## Modify parameters: Simulation 3 (r3), same installs for some scenarios: what is the effect of module reliability (and lifetime?) when recycle rates, reuse rates, repair rates, and recycling efficiencies changed for select scenarios with different repair bins?"
   ]
  },
  {
   "cell_type": "code",
   "execution_count": 20,
   "id": "f7c67fce",
   "metadata": {},
   "outputs": [],
   "source": [
    "#Figure out which scenarios to include\n",
    "#ABM_outputs.groupby('Scenario').sum()['mass_fraction_PV_materials_repaired_milliontonnes'].sort_values()\n",
    "#calculate scenarios with highest repair rates: better lifetime, better learning, julien’s baseline, landfill ban"
   ]
  },
  {
   "cell_type": "code",
   "execution_count": 21,
   "id": "652c4beb",
   "metadata": {},
   "outputs": [],
   "source": [
    "#copy same parameter modifications for r3 as in r2\n",
    "for myscenario in REPAIR_SCENARIOS:\n",
    "    r3.scenario[myscenario].data['mod_EOL_collected_recycled'] = new_mod_recycled\n",
    "for mymaterial in MATERIALS:\n",
    "    past_years_collected_recycled = [r1.scenario['standard_PVICE'].material[mymaterial].materialdata['mat_EOL_collected_Recycled'][0]]*(2022-1995)\n",
    "    new_collected_recycled = [100]*(2050-2021)\n",
    "    #create new list to replace 'mod_EOL_collected_Recycled' with, with 1995-2021 original baseline module values, and 2022-2050 at 100%\n",
    "    new_mat_recycled = past_years_collected_recycled + new_collected_recycled\n",
    "    for myscenario in REPAIR_SCENARIOS:\n",
    "        r3.scenario[myscenario].material[mymaterial].materialdata['mat_EOL_collected_Recycled'] = new_mat_recycled\n",
    "for myscenario in REPAIR_SCENARIOS:\n",
    "    frames1 = []\n",
    "    frames2 = []\n",
    "    frames3 = []\n",
    "    new_outputs = []\n",
    "    scenario_filter = []\n",
    "    new_mod_Repairing = []\n",
    "    new_mod_Recycling = []\n",
    "    new_mod_Reuse = []\n",
    "    scenario_filter = 'Scenario == ' + '\\\"' + myscenario[:-2] + '\\\"'\n",
    "    new_outputs = ABM_outputs.query(scenario_filter)\n",
    "    #replace repairing baselines\n",
    "    repairs = new_outputs.loc[:,'mass_fraction_PV_materials_repaired_milliontonnes']*100\n",
    "    repairs.index = list(range(31))\n",
    "    frames1 = [r3.scenario[myscenario].data['mod_Repair'][0:27],repairs[2:]]\n",
    "    new_mod_Repairing = pd.concat(frames1)\n",
    "    r3.scenario[myscenario].data['mod_Repair'] = new_mod_Repairing.values\n",
    "    #replace recycling baselines\n",
    "    recycled = new_outputs.loc[:,'mass_fraction_PV_materials_recycled_milliontonnes']*100\n",
    "    if myscenario == 'high_mat_recovery_cheap_recycling':\n",
    "        recycles = recycled/0.96 #reflects higher material recovery rate (must change as ABM gives effective recycling rate)\n",
    "    else:\n",
    "        recycles = recycled/0.80 #must change as ABM gives effective recycling rate\n",
    "    recycles.index = list(range(31))\n",
    "    frames2 = [r3.scenario[myscenario].data['mod_EOL_collection_eff'][0:27],recycles[2:]]\n",
    "    new_mod_Recycling = pd.concat(frames2)\n",
    "    r3.scenario[myscenario].data['mod_EOL_collection_eff'] = new_mod_Recycling.values\n",
    "    #replace reuse baselines\n",
    "    reuses = new_outputs.loc[:,'mass_fraction_PV_materials_reused_milliontonnes']*100\n",
    "    reuses.index = list(range(31))\n",
    "    frames3 = [r3.scenario[myscenario].data['mod_Reuse'][0:27],reuses[2:]]\n",
    "    new_mod_Reuse = pd.concat(frames3)\n",
    "    r3.scenario[myscenario].data['mod_Reuse'] = new_mod_Reuse.values\n",
    "#r3.scenario['better_lifetime'].data['mod_lifetime'] = new_mod_lifetime don't modify?\n",
    "#r3.scenario['better_lifetime'].data['mod_reliability_t50'] = new_mod_t50 don't modify?\n",
    "#r3.scenario['better_lifetime'].data['mod_reliability_t90'] = new_mod_t90 don't modify?\n",
    "\n",
    "new_HQ4MFG = [100]*(2050-2021)\n",
    "for mymaterial in MATERIALS: \n",
    "    #modifying 'mat_EOL_Recycling_eff'\n",
    "    past_recycling_eff = [r1.scenario['standard_PVICE'].material[mymaterial].materialdata['mat_EOL_Recycling_eff'][0]]*(2022-1995)\n",
    "    new_recycling_eff = frelp_results[frelp_results.mat.isin([mymaterial])]['recovery_rate'].values.tolist()*(2050-2021)\n",
    "    new_mat_EOL_recycling_eff = past_recycling_eff + new_recycling_eff\n",
    "    #modifiying 'mat_EOL_Recycled_into_HQ'\n",
    "    past_HQ_recycling = [r1.scenario['standard_PVICE'].material[mymaterial].materialdata['mat_EOL_Recycled_into_HQ'][0]]*(2022-1995)\n",
    "    new_HQ_recycling = frelp_results[frelp_results.mat.isin([mymaterial])]['mat_recycled_into_HQ'].values.tolist()*(2050-2021)\n",
    "    new_mat_EOL_recycled_into_HQ = past_HQ_recycling + new_HQ_recycling\n",
    "    #modifying 'mat_EOL_RecycledHQ_Reused4MFG' \n",
    "    past_HQ4MFG = list(r1.scenario['standard_PVICE'].material[mymaterial].materialdata['mat_EOL_RecycledHQ_Reused4MFG'][0:27].values)\n",
    "    new_recycledHQ_reused4MFG = past_HQ4MFG + new_HQ4MFG\n",
    "    for myscenario in REPAIR_SCENARIOS:\n",
    "        r3.scenario[myscenario].material[mymaterial].materialdata['mat_EOL_Recycling_eff'] = new_mat_EOL_recycling_eff\n",
    "        r3.scenario[myscenario].material[mymaterial].materialdata['mat_EOL_Recycled_into_HQ'] = new_mat_EOL_recycled_into_HQ\n",
    "        r3.scenario[myscenario].material[mymaterial].materialdata['mat_EOL_RecycledHQ_Reused4MFG'] = new_recycledHQ_reused4MFG"
   ]
  },
  {
   "cell_type": "code",
   "execution_count": null,
   "id": "01f71848",
   "metadata": {},
   "outputs": [],
   "source": [
    "#modify t50 and t90\n",
    "\n"
   ]
  },
  {
   "cell_type": "markdown",
   "id": "c4310c69",
   "metadata": {},
   "source": [
    "## Modify parameters: Simulation 4 (r4), change new installs due to increased installed capacity for all scenarios: what is effect of accounting for less installs for all scenarios on virgin material demand vs. case 2? what is the effect on installed capacity for different repair bins?"
   ]
  },
  {
   "cell_type": "markdown",
   "id": "84c6d0ba",
   "metadata": {},
   "source": [
    "## Run Mass Flow Calculations"
   ]
  },
  {
   "cell_type": "code",
   "execution_count": null,
   "id": "a198f24e",
   "metadata": {
    "scrolled": true
   },
   "outputs": [],
   "source": [
    "r1.calculateMassFlow()\n",
    "r2.calculateMassFlow()"
   ]
  },
  {
   "cell_type": "markdown",
   "id": "192d22ce",
   "metadata": {},
   "source": [
    "## Creating a summary of results in a new data frame"
   ]
  },
  {
   "cell_type": "code",
   "execution_count": null,
   "id": "0dccfb4c",
   "metadata": {},
   "outputs": [],
   "source": [
    "USyearly=pd.DataFrame()"
   ]
  },
  {
   "cell_type": "code",
   "execution_count": null,
   "id": "38773616",
   "metadata": {},
   "outputs": [],
   "source": [
    "keyword='mat_Virgin_Stock'\n",
    "materials = ['glass', 'aluminium_frames','silicon', 'silver', 'copper']\n",
    "SIMULATIONS = [r1,r2] #CHANGE THIS WHEN I HAVE ALL MY SIMULATIONS DONE\n",
    "\n",
    "# Loop over Simulations\n",
    "for mysimulation in SIMULATIONS:\n",
    "    for jj in range(0, len(mysimulation.scenario)): #goes from 0 to 9; Loop over Scenarios\n",
    "        case = list(mysimulation.scenario.keys())[jj] #case gives scenario name\n",
    "        for ii in range (0, len(materials)):    \n",
    "            material = materials[ii]\n",
    "            foo = mysimulation.scenario[case].material[material].materialdata[keyword].copy()\n",
    "            foo = foo.to_frame(name=material)\n",
    "            USyearly[\"VirginStock_\"+material+'_'+mysimulation.name+'_'+case] = foo[material]\n",
    "        filter_col = [col for col in USyearly if (col.startswith('VirginStock') and col.endswith(mysimulation.name+'_'+case)) ]\n",
    "        USyearly['VirginStock_Module_'+mysimulation.name+'_'+case] = USyearly[filter_col].sum(axis=1)"
   ]
  },
  {
   "cell_type": "code",
   "execution_count": null,
   "id": "f4ed6d60",
   "metadata": {},
   "outputs": [],
   "source": [
    "keyword='mat_Total_Landfilled'\n",
    "\n",
    "for mysimulation in SIMULATIONS:\n",
    "    for jj in range(0, len(mysimulation.scenario)): #goes from 0 to 9\n",
    "        case = list(mysimulation.scenario.keys())[jj]\n",
    "        for ii in range (0, len(materials)):    \n",
    "            material = materials[ii]\n",
    "            foo = mysimulation.scenario[case].material[material].materialdata[keyword].copy()\n",
    "            foo = foo.to_frame(name=material)\n",
    "            USyearly[\"Waste_\"+material+'_'+mysimulation.name+'_'+case] = foo[material]\n",
    "        filter_col = [col for col in USyearly if (col.startswith('Waste') and col.endswith(mysimulation.name+'_'+case)) ]\n",
    "        USyearly['Waste_Module_'+mysimulation.name+'_'+case] = USyearly[filter_col].sum(axis=1)"
   ]
  },
  {
   "cell_type": "code",
   "execution_count": null,
   "id": "8a3cbf3e",
   "metadata": {},
   "outputs": [],
   "source": [
    "keyword='mat_Total_EOL_Landfilled'\n",
    "\n",
    "for mysimulation in SIMULATIONS:\n",
    "    for jj in range(0, len(mysimulation.scenario)): #goes from 0 to 9\n",
    "        case = list(mysimulation.scenario.keys())[jj]\n",
    "        for ii in range (0, len(materials)):    \n",
    "            material = materials[ii]\n",
    "            foo = mysimulation.scenario[case].material[material].materialdata[keyword].copy()\n",
    "            foo = foo.to_frame(name=material)\n",
    "            USyearly[\"Waste_EOL_\"+material+'_'+mysimulation.name+'_'+case] = foo[material]\n",
    "        filter_col = [col for col in USyearly if (col.startswith('Waste_EOL') and col.endswith(mysimulation.name+'_'+case)) ]\n",
    "        USyearly['Waste_EOL_Module_'+mysimulation.name+'_'+case] = USyearly[filter_col].sum(axis=1)"
   ]
  },
  {
   "cell_type": "code",
   "execution_count": null,
   "id": "defe95c7",
   "metadata": {},
   "outputs": [],
   "source": [
    "USyearly = USyearly/1000000  #Convert to metric tonnes\n",
    "#907185 -- this is for US tons"
   ]
  },
  {
   "cell_type": "code",
   "execution_count": null,
   "id": "23dbac90",
   "metadata": {
    "scrolled": true
   },
   "outputs": [],
   "source": [
    "keyword='new_Installed_Capacity_[MW]'\n",
    "\n",
    "for mysimulation in SIMULATIONS:\n",
    "    newcolname = keyword+'_'+mysimulation.name \n",
    "    if newcolname in USyearly:\n",
    "        USyearly[newcolname] = USyearly[newcolname]+mysimulation.scenario[list(mysimulation.scenario.keys())[0]].data[keyword]\n",
    "    else:\n",
    "        USyearly[keyword+'_'+mysimulation.name] = mysimulation.scenario[list(mysimulation.scenario.keys())[0]].data[keyword]"
   ]
  },
  {
   "cell_type": "code",
   "execution_count": null,
   "id": "6038d46b",
   "metadata": {},
   "outputs": [],
   "source": [
    "UScum = USyearly.copy()\n",
    "UScum = UScum.cumsum()"
   ]
  },
  {
   "cell_type": "code",
   "execution_count": null,
   "id": "4eec0efb",
   "metadata": {},
   "outputs": [],
   "source": [
    "keyword='Installed_Capacity_[W]'\n",
    "\n",
    "for mysimulation in SIMULATIONS:\n",
    "    for i in range(0, len(mysimulation.scenario)):\n",
    "        case = list(mysimulation.scenario.keys())[i]\n",
    "        foo = mysimulation.scenario[case].data[keyword]\n",
    "        foo = foo.to_frame(name=keyword)\n",
    "        UScum[\"Capacity_\"+mysimulation.name+'_'+case] = foo[keyword].values/1000000 #change to MW"
   ]
  },
  {
   "cell_type": "code",
   "execution_count": null,
   "id": "2eb018a3",
   "metadata": {},
   "outputs": [],
   "source": [
    "USyearly.index = r1.scenario['standard_PVICE'].data['year']\n",
    "UScum.index = r1.scenario['standard_PVICE'].data['year']"
   ]
  },
  {
   "cell_type": "code",
   "execution_count": null,
   "id": "cea37839",
   "metadata": {},
   "outputs": [],
   "source": [
    "USyearly.to_csv('ABM_Yearly_Results.csv')\n",
    "UScum.to_csv('ABM_Cumulative_Results.csv')"
   ]
  },
  {
   "cell_type": "markdown",
   "id": "31b102ee",
   "metadata": {},
   "source": [
    "### Plotting with USyearly and UScum data frames: r1"
   ]
  },
  {
   "cell_type": "code",
   "execution_count": null,
   "id": "212a5e9b",
   "metadata": {},
   "outputs": [],
   "source": [
    "filter_col = [col for col in USyearly if (col.startswith('VirginStock_Module_ABM_Simulation1'))]\n",
    "df = USyearly[filter_col]\n",
    "pretty_scenarios = ['PV ICE Baseline','Landfill Ban','High material recovery and Lower recycling costs','Lower recycling costs','Higher landfill costs','Improved lifetime','Improved learning effect','Reuse warranties','Seeding reuse','ABM Baseline']\n",
    "df = df.set_axis(pretty_scenarios, axis=1)\n",
    "df['year'] = list(range(1995,2051))\n",
    "df = df.melt(id_vars = 'year')\n",
    "fig1 = px.line(df, x='year', y='value', color = 'variable', labels={\n",
    "                     \"year\": \"Year\",\n",
    "                     \"value\": \"Virgin Material Demand in metric tonnes\",\n",
    "                    \"variable\" :\"Scenario\"\n",
    "                 })\n",
    "fig1.update_layout(title_text='Simulation 1: Yearly Virgin Material Demand', title_x=0.2)\n",
    "fig1.show()"
   ]
  },
  {
   "cell_type": "code",
   "execution_count": null,
   "id": "0a4174f0",
   "metadata": {},
   "outputs": [],
   "source": [
    "filter_col = [col for col in USyearly if (col.startswith('Waste_Module_ABM_Simulation1'))]\n",
    "df = USyearly[filter_col]\n",
    "df = df.set_axis(pretty_scenarios, axis=1)\n",
    "df['year'] = list(range(1995,2051))\n",
    "df = df.melt(id_vars = 'year')\n",
    "fig1 = px.line(df, x='year', y='value', color = 'variable', labels={\n",
    "                     \"year\": \"Year\",\n",
    "                     \"value\": \"Waste in metric tonnes\",\n",
    "                    \"variable\" :\"Scenario\"\n",
    "                 })\n",
    "fig1.update_layout(title_text='Simulation 1: Yearly Waste', title_x=0.25)\n",
    "fig1.show()"
   ]
  },
  {
   "cell_type": "code",
   "execution_count": null,
   "id": "667d5761",
   "metadata": {},
   "outputs": [],
   "source": [
    "filter_col = [col for col in UScum if (col.startswith('Capacity_ABM_Simulation1'))]\n",
    "df = UScum[filter_col]\n",
    "df = df.set_axis(pretty_scenarios, axis=1)\n",
    "df['year'] = list(range(1995,2051))\n",
    "df = df.melt(id_vars = 'year')\n",
    "fig1 = px.line(df, x='year', y='value', color = 'variable', labels={\n",
    "                     \"year\": \"Year\",\n",
    "                     \"value\": \"Installed Capacity in MW\",\n",
    "                    \"variable\" :\"Scenario\"\n",
    "                 })\n",
    "fig1.update_layout(title_text='Simulation 1: Installed Capacity', title_x=0.2)\n",
    "fig1.show()"
   ]
  },
  {
   "cell_type": "markdown",
   "id": "e3d5af2c",
   "metadata": {},
   "source": [
    "### Plotting with USyearly and UScum data frames: r2"
   ]
  },
  {
   "cell_type": "code",
   "execution_count": null,
   "id": "bec57b43",
   "metadata": {},
   "outputs": [],
   "source": [
    "filter_col = [col for col in USyearly if (col.startswith('VirginStock_Module_ABM_Simulation2'))]\n",
    "df = USyearly[filter_col]\n",
    "pretty_scenarios = ['PV ICE Baseline','Landfill Ban','High material recovery and Lower recycling costs','Lower recycling costs','Higher landfill costs','Improved lifetime','Improved learning effect','Reuse warranties','Seeding reuse','ABM Baseline']\n",
    "df = df.set_axis(pretty_scenarios, axis=1)\n",
    "df['year'] = list(range(1995,2051))\n",
    "df = df.melt(id_vars = 'year')\n",
    "fig1 = px.line(df, x='year', y='value', color = 'variable', labels={\n",
    "                     \"year\": \"Year\",\n",
    "                     \"value\": \"Virgin Material Demand in metric tonnes\",\n",
    "                    \"variable\" :\"Scenario\"\n",
    "                 })\n",
    "fig1.update_layout(title_text='Simulation 2: Yearly Virgin Material Demand', title_x=0.2)\n",
    "fig1.show()"
   ]
  },
  {
   "cell_type": "code",
   "execution_count": null,
   "id": "94e8536a",
   "metadata": {},
   "outputs": [],
   "source": [
    "filter_col = [col for col in USyearly if (col.startswith('Waste_Module_ABM_Simulation2'))]\n",
    "df = USyearly[filter_col]\n",
    "df = df.set_axis(pretty_scenarios, axis=1)\n",
    "df['year'] = list(range(1995,2051))\n",
    "df = df.melt(id_vars = 'year')\n",
    "fig1 = px.line(df, x='year', y='value', color = 'variable', labels={\n",
    "                     \"year\": \"Year\",\n",
    "                     \"value\": \"Waste in metric tonnes\",\n",
    "                    \"variable\" :\"Scenario\"\n",
    "                 })\n",
    "fig1.update_layout(title_text='Simulation 2: Yearly Waste', title_x=0.2)\n",
    "fig1.show()"
   ]
  },
  {
   "cell_type": "code",
   "execution_count": null,
   "id": "eb69952e",
   "metadata": {},
   "outputs": [],
   "source": []
  },
  {
   "cell_type": "code",
   "execution_count": null,
   "id": "122b35b7",
   "metadata": {},
   "outputs": [],
   "source": []
  },
  {
   "cell_type": "code",
   "execution_count": null,
   "id": "9a221e78",
   "metadata": {},
   "outputs": [],
   "source": []
  },
  {
   "cell_type": "code",
   "execution_count": null,
   "id": "f4e314f4",
   "metadata": {},
   "outputs": [],
   "source": []
  },
  {
   "cell_type": "markdown",
   "id": "36f495f2",
   "metadata": {},
   "source": [
    "## Clean up results for OpenEI export"
   ]
  },
  {
   "cell_type": "markdown",
   "id": "fb38a598",
   "metadata": {},
   "source": [
    "### Yearly Results"
   ]
  },
  {
   "cell_type": "code",
   "execution_count": null,
   "id": "29301892",
   "metadata": {},
   "outputs": [],
   "source": [
    "yearly_scenario_comparison = pd.DataFrame()"
   ]
  },
  {
   "cell_type": "code",
   "execution_count": null,
   "id": "5fb356b7",
   "metadata": {},
   "outputs": [],
   "source": [
    "#use scenarios as values\n",
    "years = USyearly.index\n",
    "yearly_scenario_comparison['@timeseries|Year'] = list(years)"
   ]
  },
  {
   "cell_type": "code",
   "execution_count": null,
   "id": "dc2e5e49",
   "metadata": {},
   "outputs": [],
   "source": [
    "scenarios = ['standard_PVICE','landfill_ban','high_mat_recovery_cheap_recycling','cheap_recycling','high_landfill_costs','better_lifetime','better_learning','reuse_warranties','seeding_reuse','juliens_baseline']\n",
    "pretty_scenarios = ['PV ICE Baseline','Landfill Ban','High material recovery and Lower recycling costs','Lower recycling costs','Higher landfill costs','Improved lifetime','Improved learning effect','Reuse warranties','Seeding reuse','ABM Baseline']\n",
    "\n",
    "#virgin material demand columns\n",
    "for myscenario in scenarios:\n",
    "    better_scenario_name = pretty_scenarios[scenarios.index(myscenario)]\n",
    "    virgin_material_demand = USyearly['VirginStock_glass_ABM_Simulation_' + myscenario] + USyearly['VirginStock_aluminium_frames_ABM_Simulation_' + myscenario] + USyearly['VirginStock_silver_ABM_Simulation_' + myscenario] + USyearly['VirginStock_silicon_ABM_Simulation_' + myscenario] + USyearly['VirginStock_copper_ABM_Simulation_' + myscenario]\n",
    "    yearly_scenario_comparison['@value|TotalVirginMaterialDemand|' + better_scenario_name + '#MetricTonnes'] = list(virgin_material_demand.values)\n",
    "    "
   ]
  },
  {
   "cell_type": "code",
   "execution_count": null,
   "id": "1f1ab3f6",
   "metadata": {},
   "outputs": [],
   "source": [
    "#EOL material columns\n",
    "for myscenario in scenarios:\n",
    "    better_scenario_name = pretty_scenarios[scenarios.index(myscenario)]\n",
    "    total_eol_material = USyearly['Waste_EOL_glass_ABM_Simulation_' + myscenario] + USyearly['Waste_EOL_aluminium_frames_ABM_Simulation_' + myscenario] + USyearly['Waste_EOL_silver_ABM_Simulation_' + myscenario] + USyearly['Waste_EOL_silicon_ABM_Simulation_' + myscenario] + USyearly['Waste_EOL_copper_ABM_Simulation_' + myscenario]\n",
    "    yearly_scenario_comparison['@value|TotalEOLMaterial|' + better_scenario_name + '#MetricTonnes'] = list(total_eol_material.values)"
   ]
  },
  {
   "cell_type": "code",
   "execution_count": null,
   "id": "3fd18f6e",
   "metadata": {},
   "outputs": [],
   "source": [
    "###############WHAT NEXT?"
   ]
  },
  {
   "cell_type": "code",
   "execution_count": null,
   "id": "e8b029fd",
   "metadata": {},
   "outputs": [],
   "source": [
    "yearly_scenario_comparison.to_csv('ABM_Yearly, with Scenario Comparison, Materials Summed.csv')"
   ]
  },
  {
   "cell_type": "markdown",
   "id": "32b86cb7",
   "metadata": {},
   "source": [
    "### Cumulative Results"
   ]
  },
  {
   "cell_type": "code",
   "execution_count": null,
   "id": "b7b725ba",
   "metadata": {},
   "outputs": [],
   "source": [
    "cumulative_ABM = pd.DataFrame()"
   ]
  },
  {
   "cell_type": "code",
   "execution_count": null,
   "id": "20192359",
   "metadata": {},
   "outputs": [],
   "source": [
    "scenarios = ['standard_PVICE','landfill_ban','high_mat_recovery_cheap_recycling','cheap_recycling','high_landfill_costs','better_lifetime','better_learning','reuse_warranties','seeding_reuse','juliens_baseline']\n",
    "pretty_scenarios = ['PV ICE Baseline','Landfill Ban','High material recovery and Lower recycling costs','Lower recycling costs','Higher landfill costs','Improved lifetime','Improved learning effect','Reuse warranties','Seeding reuse','ABM Baseline']\n",
    "list1 = []\n",
    "for myscenario in pretty_scenarios: \n",
    "    list1 += [myscenario] * (2050-1994)\n",
    "cumulative_ABM['@scenario|Intervention Scenario'] = list1"
   ]
  },
  {
   "cell_type": "code",
   "execution_count": null,
   "id": "ca2ff18a",
   "metadata": {},
   "outputs": [],
   "source": [
    "years = USyearly.index\n",
    "cumulative_ABM['@timeseries|Year'] = list(years) * 10"
   ]
  },
  {
   "cell_type": "code",
   "execution_count": null,
   "id": "d2ff92d3",
   "metadata": {},
   "outputs": [],
   "source": [
    "#Virgin Material Demand Columns\n",
    "materials = ['glass','aluminium_frames','silver','silicon','copper']\n",
    "pretty_materials = ['Glass','AluminiumFrames','Silver','Silicon','Copper']\n",
    "for mymaterial in materials:\n",
    "    better_material_name = pretty_materials[materials.index(mymaterial)]\n",
    "    virgin_material_demand = []\n",
    "    for myscenario in scenarios: \n",
    "        virgin_material_demand += list(UScum['VirginStock_'+ mymaterial + '_ABM_Simulation_'+ myscenario].values)\n",
    "    cumulative_ABM['@value|VirginMaterialDemand|' + better_material_name + '#MetricTonnes'] = virgin_material_demand"
   ]
  },
  {
   "cell_type": "code",
   "execution_count": null,
   "id": "a7f37df1",
   "metadata": {},
   "outputs": [],
   "source": [
    "#EOL Material Columns\n",
    "materials = ['glass','aluminium_frames','silver','silicon','copper']\n",
    "pretty_materials = ['Glass','AluminiumFrames','Silver','Silicon','Copper']\n",
    "for mymaterial in materials:\n",
    "    better_material_name = pretty_materials[materials.index(mymaterial)]\n",
    "    eol_material = []\n",
    "    for myscenario in scenarios: \n",
    "        eol_material += list(UScum['Waste_EOL_'+ mymaterial + '_ABM_Simulation_'+ myscenario].values)\n",
    "    cumulative_ABM['@value|EOLMaterial|' + better_material_name + '#MetricTonnes'] = eol_material"
   ]
  },
  {
   "cell_type": "code",
   "execution_count": null,
   "id": "4aee2a56",
   "metadata": {},
   "outputs": [],
   "source": [
    "#filter for decade increments\n",
    "df_new = cumulative_ABM.rename(columns={'@timeseries|Year':'year'})\n",
    "cumulative_ABM = cumulative_ABM[df_new.year.isin([2020, 2030,2040,2050])]\n",
    "cumulative_ABM = cumulative_ABM.rename(columns={'year':'@timeseries|Year'})"
   ]
  },
  {
   "cell_type": "code",
   "execution_count": null,
   "id": "8f18955a",
   "metadata": {},
   "outputs": [],
   "source": [
    "cumulative_ABM.to_csv('ABM_Cumulative with Decade Increments.csv')"
   ]
  },
  {
   "cell_type": "code",
   "execution_count": null,
   "id": "71131cd0",
   "metadata": {},
   "outputs": [],
   "source": [
    "#create a cumulative at 2050 file\n",
    "cumulative_ABM_2050 = pd.DataFrame()"
   ]
  },
  {
   "cell_type": "code",
   "execution_count": null,
   "id": "a7797438",
   "metadata": {},
   "outputs": [],
   "source": [
    "cumulative_ABM_2050[\"@scenario|PVICEOutput\"] = ['Virgin Material Demand MT','EOL Material MT','Installed Capacity MW']"
   ]
  },
  {
   "cell_type": "code",
   "execution_count": null,
   "id": "af76cc40",
   "metadata": {},
   "outputs": [],
   "source": [
    "cumulative_ABM_2050[\"@timeseries|Year\"] = [2050,2050,2050]"
   ]
  },
  {
   "cell_type": "code",
   "execution_count": null,
   "id": "d69f1356",
   "metadata": {},
   "outputs": [],
   "source": [
    "UScum2050 = UScum.iloc[-1:]\n",
    "scenarios = ['standard_PVICE','landfill_ban','high_mat_recovery_cheap_recycling','cheap_recycling','high_landfill_costs','better_lifetime','better_learning','reuse_warranties','seeding_reuse','juliens_baseline']\n",
    "pretty_scenarios = ['PV ICE Baseline','Landfill Ban','High material recovery and Lower recycling costs','Lower recycling costs','Higher landfill costs','Improved lifetime','Improved learning effect','Reuse warranties','Seeding reuse','ABM Baseline']\n",
    "list1 = []\n",
    "for myscenario in scenarios: \n",
    "    better_scenario_name = pretty_scenarios[scenarios.index(myscenario)]\n",
    "    virgin_material_demand = [UScum2050['VirginStock_Module_ABM_Simulation_' + myscenario].values] #MT\n",
    "    eol_material = [UScum2050['Waste_EOL_Module_ABM_Simulation_' + myscenario].values] #MT\n",
    "    installed_capacity = [UScum2050['Capacity_ABM_Simulation_' + myscenario].values/1000000] #MW\n",
    "    cumulative_ABM_2050['@value|InterventionScenario|'+better_scenario_name+'#Units'] = virgin_material_demand + eol_material + installed_capacity"
   ]
  },
  {
   "cell_type": "code",
   "execution_count": null,
   "id": "4ec0cf60",
   "metadata": {},
   "outputs": [],
   "source": [
    "cumulative_ABM_2050 = cumulative_ABM_2050.applymap(str)\n",
    "colnames = list(cumulative_ABM_2050.columns)[1:]\n",
    "for col in colnames:\n",
    "    cumulative_ABM_2050[col] = cumulative_ABM_2050[col].str.strip('[]')"
   ]
  },
  {
   "cell_type": "code",
   "execution_count": null,
   "id": "dff347d2",
   "metadata": {},
   "outputs": [],
   "source": [
    "cumulative_ABM_2050.to_csv('ABM_cumulative_at_2050_toOPENEI.csv')"
   ]
  },
  {
   "cell_type": "code",
   "execution_count": null,
   "id": "caa77822",
   "metadata": {},
   "outputs": [],
   "source": [
    "#Create installed capacity CSV\n",
    "installed_capacity = pd.DataFrame()"
   ]
  },
  {
   "cell_type": "code",
   "execution_count": null,
   "id": "13d10c7c",
   "metadata": {},
   "outputs": [],
   "source": [
    "years = USyearly.index\n",
    "installed_capacity['@timeseries|Year'] = years"
   ]
  },
  {
   "cell_type": "code",
   "execution_count": null,
   "id": "68109d4c",
   "metadata": {},
   "outputs": [],
   "source": [
    "scenarios = ['standard_PVICE','landfill_ban','high_mat_recovery_cheap_recycling','cheap_recycling','high_landfill_costs','better_lifetime','better_learning','reuse_warranties','seeding_reuse','juliens_baseline']\n",
    "pretty_scenarios = ['PV ICE Baseline','Landfill Ban','High material recovery and Lower recycling costs','Lower recycling costs','Higher landfill costs','Improved lifetime','Improved learning effect','Reuse warranties','Seeding reuse','ABM Baseline']\n",
    "for myscenario in scenarios:\n",
    "    capacity = UScum['Capacity_ABM_Simulation_'+ myscenario]\n",
    "    better_scenario_name = pretty_scenarios[scenarios.index(myscenario)]\n",
    "    installed_capacity['@value|InstalledCapacity|' + better_scenario_name + '#MW'] = list(capacity.values/1000000) #convert from W to MW"
   ]
  },
  {
   "cell_type": "code",
   "execution_count": null,
   "id": "6978c8a0",
   "metadata": {},
   "outputs": [],
   "source": [
    "installed_capacity.to_csv('ABM_installed_capacity.csv')"
   ]
  },
  {
   "cell_type": "markdown",
   "id": "9b463edc",
   "metadata": {},
   "source": [
    "### Calculating Number of Less Installs Needed For Each Scenario"
   ]
  },
  {
   "cell_type": "code",
   "execution_count": null,
   "id": "d2e0be75",
   "metadata": {},
   "outputs": [],
   "source": [
    "Under_Installment = []\n",
    "scenarios = ['standard_PVICE','landfill_ban','high_mat_recovery_cheap_recycling','cheap_recycling','high_landfill_costs','better_lifetime','better_learning','reuse_warranties','seeding_reuse','juliens_baseline']\n",
    "for i in range (0, len(r1.scenario['juliens_baseline'].data)): #runs for each year\n",
    "    for myscenario in scenarios[1:9]:\n",
    "        Under_Installment = ( (r1.scenario['juliens_baseline'].data['Installed_Capacity_[W]'][i] - \n",
    "                         r1.scenario[myscenario].data['Installed_Capacity_[W]'][i])/1000000 )  # MWATTS\n",
    "        r1.scenario[myscenario].data['new_Installed_Capacity_[MW]'][i] += Under_Installment\n",
    "    r1.calculateMassFlow()"
   ]
  },
  {
   "cell_type": "code",
   "execution_count": null,
   "id": "47150812",
   "metadata": {},
   "outputs": [],
   "source": [
    "# Compare cumulative virgin material needs by 2050\n",
    "USyearly_fewerinstalls=pd.DataFrame()"
   ]
  },
  {
   "cell_type": "code",
   "execution_count": null,
   "id": "4456f8d0",
   "metadata": {},
   "outputs": [],
   "source": [
    "keyword='mat_Virgin_Stock'\n",
    "materials = ['glass', 'aluminium_frames','silicon', 'silver', 'copper']\n",
    "\n",
    "# Loop over Scenarios\n",
    "for jj in range(0, len(r1.scenario)): #goes from 0 to 9\n",
    "    case = list(r1.scenario.keys())[jj] #case gives scenario name\n",
    "    for ii in range (0, len(materials)):    \n",
    "        material = materials[ii]\n",
    "        foo = r1.scenario[case].material[material].materialdata[keyword].copy()\n",
    "        foo = foo.to_frame(name=material)\n",
    "        USyearly_fewerinstalls[\"VirginStock_\"+material+'_'+r1.name+'_'+case] = foo[material]\n",
    "    filter_col = [col for col in USyearly_fewerinstalls if (col.startswith('VirginStock') and col.endswith(r1.name+'_'+case)) ]\n",
    "    USyearly_fewerinstalls['VirginStock_Module_'+r1.name+'_'+case] = USyearly_fewerinstalls[filter_col].sum(axis=1)"
   ]
  },
  {
   "cell_type": "code",
   "execution_count": null,
   "id": "8d0a2141",
   "metadata": {},
   "outputs": [],
   "source": [
    "keyword='mat_Total_Landfilled'\n",
    "materials = ['glass', 'aluminium_frames','silicon', 'silver', 'copper']\n",
    "\n",
    "# Loop over Scenarios\n",
    "for jj in range(0, len(r1.scenario)): #goes from 0 to 9\n",
    "    case = list(r1.scenario.keys())[jj]\n",
    "    for ii in range (0, len(materials)):    \n",
    "        material = materials[ii]\n",
    "        foo = r1.scenario[case].material[material].materialdata[keyword].copy()\n",
    "        foo = foo.to_frame(name=material)\n",
    "        USyearly_fewerinstalls[\"Waste_\"+material+'_'+r1.name+'_'+case] = foo[material]\n",
    "    filter_col = [col for col in USyearly_fewerinstalls if (col.startswith('Waste') and col.endswith(r1.name+'_'+case)) ]\n",
    "    USyearly_fewerinstalls['Waste_Module_'+r1.name+'_'+case] = USyearly_fewerinstalls[filter_col].sum(axis=1)"
   ]
  },
  {
   "cell_type": "code",
   "execution_count": null,
   "id": "86f3a591",
   "metadata": {},
   "outputs": [],
   "source": [
    "keyword='mat_Total_EOL_Landfilled'\n",
    "materials = ['glass', 'aluminium_frames','silicon', 'silver', 'copper']\n",
    "\n",
    "# Loop over Scenarios\n",
    "for jj in range(0, len(r1.scenario)): #goes from 0 to 9\n",
    "    case = list(r1.scenario.keys())[jj]\n",
    "    for ii in range (0, len(materials)):    \n",
    "        material = materials[ii]\n",
    "        foo = r1.scenario[case].material[material].materialdata[keyword].copy()\n",
    "        foo = foo.to_frame(name=material)\n",
    "        USyearly_fewerinstalls[\"Waste_EOL_\"+material+'_'+r1.name+'_'+case] = foo[material]\n",
    "    filter_col = [col for col in USyearly_fewerinstalls if (col.startswith('Waste_EOL') and col.endswith(r1.name+'_'+case)) ]\n",
    "    USyearly_fewerinstalls['Waste_EOL_Module_'+r1.name+'_'+case] = USyearly_fewerinstalls[filter_col].sum(axis=1)"
   ]
  },
  {
   "cell_type": "code",
   "execution_count": null,
   "id": "968e5ef7",
   "metadata": {},
   "outputs": [],
   "source": [
    "USyearly_fewerinstalls = USyearly_fewerinstalls/1000000  #Convert to metric tonnes"
   ]
  },
  {
   "cell_type": "code",
   "execution_count": null,
   "id": "e5304a2f",
   "metadata": {},
   "outputs": [],
   "source": [
    "keyword='new_Installed_Capacity_[MW]'\n",
    "\n",
    "newcolname = keyword+'_'+r1.name\n",
    "    \n",
    "if newcolname in USyearly_fewerinstalls:\n",
    "    USyearly_fewerinstalls[newcolname] = USyearly_fewerinstalls[newcolname]+r1.scenario[list(r1.scenario.keys())[0]].data[keyword]\n",
    "else:\n",
    "    USyearly_fewerinstalls[keyword+'_'+r1.name] = r1.scenario[list(r1.scenario.keys())[0]].data[keyword]"
   ]
  },
  {
   "cell_type": "code",
   "execution_count": null,
   "id": "325341e0",
   "metadata": {},
   "outputs": [],
   "source": [
    "UScum_fewerinstalls = USyearly_fewerinstalls.copy()\n",
    "UScum_fewerinstalls = UScum_fewerinstalls.cumsum()"
   ]
  },
  {
   "cell_type": "code",
   "execution_count": null,
   "id": "a7cb65c4",
   "metadata": {},
   "outputs": [],
   "source": [
    "keyword='Installed_Capacity_[W]'\n",
    "\n",
    "# Loop over Scenarios\n",
    "for i in range(0, len(r1.scenario)):\n",
    "    case = list(r1.scenario.keys())[i]\n",
    "    foo = r1.scenario[case].data[keyword]\n",
    "    foo = foo.to_frame(name=keyword)\n",
    "    UScum_fewerinstalls[\"Capacity_\"+r1.name+'_'+case] = foo[keyword].values #this needs to be .values\n",
    "    ########SHOULD THIS BE CHANGED TO BE IN MW?"
   ]
  },
  {
   "cell_type": "code",
   "execution_count": null,
   "id": "e58caf44",
   "metadata": {},
   "outputs": [],
   "source": [
    "USyearly_fewerinstalls.index = r1.scenario['standard_PVICE'].data['year']\n",
    "UScum_fewerinstalls.index = r1.scenario['standard_PVICE'].data['year']"
   ]
  },
  {
   "cell_type": "code",
   "execution_count": null,
   "id": "82d59290",
   "metadata": {},
   "outputs": [],
   "source": [
    "USyearly_fewerinstalls.to_csv('ABM_Yearly_Results_Fewer_Installs.csv')\n",
    "UScum_fewerinstalls.to_csv('ABM_Cumulative_Results_Fewer_Installs.csv')"
   ]
  },
  {
   "cell_type": "code",
   "execution_count": null,
   "id": "56ed1c71",
   "metadata": {},
   "outputs": [],
   "source": [
    "#Other Results for UScum_fewerinstalls:\n",
    "cum_Waste = [] #metric tonnes\n",
    "cum_EOL_Waste = [] #metric tonnes\n",
    "cum_VirginNeeds = [] #metric tonnes\n",
    "cum_InstalledCapacity = [] #MW\n",
    "cum_NewInstalls = [] #W\n",
    "\n",
    "for ii in range (0, len(r1.scenario.keys())): #0 to 9\n",
    "    # Cumulative for all materials (not just glass) at 2050\n",
    "    scen = list(r1.scenario.keys())[ii]\n",
    "    cum_Waste.append(UScum_fewerinstalls['Waste_Module_ABM_Simulation_' + scen][2050])\n",
    "    cum_EOL_Waste.append(UScum_fewerinstalls['Waste_EOL_Module_ABM_Simulation_' + scen][2050])\n",
    "    cum_VirginNeeds.append((UScum_fewerinstalls['VirginStock_Module_ABM_Simulation_' + scen][2050]))\n",
    "    cum_NewInstalls.append(r1.scenario[scen].data['new_Installed_Capacity_[MW]'].sum())\n",
    "    cum_InstalledCapacity.append(r1.scenario[scen].data['Installed_Capacity_[W]'].iloc[-1])\n",
    "\n",
    "df = pd.DataFrame(list(zip(list(r1.scenario.keys()), cum_Waste, cum_EOL_Waste, cum_VirginNeeds, cum_NewInstalls, cum_InstalledCapacity)),\n",
    "               columns =['scenarios','cum_Waste', 'cum_EOL_Waste', 'cum_VirginNeeds', 'cum_NewInstalls', 'cum_InstalledCapacity'])"
   ]
  },
  {
   "cell_type": "code",
   "execution_count": null,
   "id": "7e345ad4",
   "metadata": {},
   "outputs": [],
   "source": [
    "#Best interventions to minimize cum_Waste: \n",
    "#better learning, reuse warranties, high material recovery and cheap recycling, better lifetime\n",
    "df.sort_values('cum_Waste') "
   ]
  },
  {
   "cell_type": "code",
   "execution_count": null,
   "id": "525544c0",
   "metadata": {},
   "outputs": [],
   "source": [
    "#Best interventions to minimize cum_EOL_Waste: \n",
    "#better learning, reuse warranties, high material recovery and cheap recycling, better lifetime\n",
    "df.sort_values('cum_EOL_Waste') "
   ]
  },
  {
   "cell_type": "code",
   "execution_count": null,
   "id": "30f02d28",
   "metadata": {},
   "outputs": [],
   "source": [
    "#Best interventions to minimize cum_VirginNeeds:\n",
    "#better_learning, reuse_warranties, high_mat_recovery_cheap_recycling, better_lifetime\n",
    "df.sort_values('cum_VirginNeeds')"
   ]
  },
  {
   "cell_type": "code",
   "execution_count": null,
   "id": "d2d9225b",
   "metadata": {
    "scrolled": true
   },
   "outputs": [],
   "source": [
    "#Best interventions to minimize cum_NewInstalls:\n",
    "#better lifetime, standard PVICE, ABM baseline, landfill ban\n",
    "df.sort_values('cum_NewInstalls')"
   ]
  },
  {
   "cell_type": "code",
   "execution_count": null,
   "id": "61104694",
   "metadata": {},
   "outputs": [],
   "source": [
    "#Looking in terms of percentages\n",
    "df[['cum_Waste', 'cum_EOL_Waste', 'cum_VirginNeeds', 'cum_NewInstalls', 'cum_InstalledCapacity']] = df[['cum_Waste','cum_EOL_Waste', 'cum_VirginNeeds', 'cum_NewInstalls', 'cum_InstalledCapacity']]*100/df[['cum_Waste', 'cum_EOL_Waste','cum_VirginNeeds', 'cum_NewInstalls', 'cum_InstalledCapacity']].iloc[9] -100"
   ]
  },
  {
   "cell_type": "code",
   "execution_count": null,
   "id": "1846e2a9",
   "metadata": {},
   "outputs": [],
   "source": [
    "## Experimenting with Plotly"
   ]
  },
  {
   "cell_type": "code",
   "execution_count": null,
   "id": "5f1f94c2",
   "metadata": {},
   "outputs": [],
   "source": [
    "fig1 = px.bar(df, x='scenarios', y='cum_Waste', labels={\n",
    "                     \"cum_Waste\": \"Cumulative Waste Percent Difference\",\n",
    "                     \"scenarios\": \"Scenario\"\n",
    "                 })\n",
    "fig1.update_layout(title_text='Cumulative Waste Percent Difference from Baseline at 2050', title_x=0.5)\n",
    "fig1.show()"
   ]
  },
  {
   "cell_type": "code",
   "execution_count": null,
   "id": "4b575267",
   "metadata": {},
   "outputs": [],
   "source": [
    "fig = px.bar(df, x='scenarios', y='cum_VirginNeeds')\n",
    "fig.show()"
   ]
  },
  {
   "cell_type": "code",
   "execution_count": null,
   "id": "4ff6898f",
   "metadata": {},
   "outputs": [],
   "source": [
    "percent_diff = df.melt(id_vars = 'scenarios')\n",
    "percent_diff = percent_diff.rename(columns={'value': 'percent_difference_from_baseline'})"
   ]
  },
  {
   "cell_type": "code",
   "execution_count": null,
   "id": "72851def",
   "metadata": {},
   "outputs": [],
   "source": [
    "px.scatter(percent_diff, x = 'scenarios', y = 'percent_difference_from_baseline',color = 'variable', title = 'Percent Difference from Baseline at 2050',\n",
    "          labels={\n",
    "                     \"percent_difference_from_baseline\": \"Percent Difference from Baseline at 2050\",\n",
    "                     \"scenarios\": \"Scenario\"\n",
    "                 })"
   ]
  }
 ],
 "metadata": {
  "kernelspec": {
   "display_name": "Python 3",
   "language": "python",
   "name": "python3"
  },
  "language_info": {
   "codemirror_mode": {
    "name": "ipython",
    "version": 3
   },
   "file_extension": ".py",
   "mimetype": "text/x-python",
   "name": "python",
   "nbconvert_exporter": "python",
   "pygments_lexer": "ipython3",
   "version": "3.8.8"
  }
 },
 "nbformat": 4,
 "nbformat_minor": 5
}
