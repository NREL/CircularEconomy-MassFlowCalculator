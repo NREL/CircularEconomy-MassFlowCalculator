{
 "cells": [
  {
   "cell_type": "markdown",
   "id": "8b49ac9c",
   "metadata": {},
   "source": [
    "# Inputting ABM outputs into PV ICE "
   ]
  },
  {
   "cell_type": "markdown",
   "id": "003fa3ee",
   "metadata": {},
   "source": [
    "## Import libraries and create test folder"
   ]
  },
  {
   "cell_type": "code",
   "execution_count": 40,
   "id": "c62e0ab0",
   "metadata": {},
   "outputs": [],
   "source": [
    "import PV_ICE\n",
    "import numpy as np\n",
    "import pandas as pd\n",
    "import os,sys\n",
    "from pathlib import Path\n",
    "import matplotlib.pyplot as plt\n",
    "from sklearn.linear_model import LinearRegression\n",
    "from itertools import chain\n",
    "import plotly.graph_objects as go\n",
    "import plotly.io as pio\n",
    "import plotly.express as px"
   ]
  },
  {
   "cell_type": "code",
   "execution_count": 2,
   "id": "a6fd354b",
   "metadata": {
    "scrolled": true
   },
   "outputs": [
    {
     "name": "stdout",
     "output_type": "stream",
     "text": [
      "Your simulation will be stored in C:\\Users\\ahegedus\\Documents\\GitHub\\PV_ICE\\PV_ICE\\TEMP\n",
      "C:\\Users\\ahegedus\\Documents\\GitHub\\PV_ICE\\PV_ICE\\baselines\n"
     ]
    }
   ],
   "source": [
    "testfolder = str(Path().resolve().parent.parent /'PV_ICE' / 'TEMP')\n",
    "baselinesfolder =  str(Path().resolve().parent.parent /'PV_ICE' / 'baselines')\n",
    "# Another option using relative address; for some operative systems you might need '/' instead of '\\'\n",
    "# testfolder = os.path.abspath(r'..\\..\\PV_ICE\\TEMP')  \n",
    "\n",
    "print (\"Your simulation will be stored in %s\" % testfolder)\n",
    "print(baselinesfolder)"
   ]
  },
  {
   "cell_type": "markdown",
   "id": "1ab6127c",
   "metadata": {},
   "source": [
    "## Create initial simulations"
   ]
  },
  {
   "cell_type": "code",
   "execution_count": 3,
   "id": "8d72c9aa",
   "metadata": {},
   "outputs": [
    {
     "name": "stdout",
     "output_type": "stream",
     "text": [
      "path = C:\\Users\\ahegedus\\Documents\\GitHub\\PV_ICE\\PV_ICE\\TEMP\n",
      "path = C:\\Users\\ahegedus\\Documents\\GitHub\\PV_ICE\\PV_ICE\\TEMP\n",
      "path = C:\\Users\\ahegedus\\Documents\\GitHub\\PV_ICE\\PV_ICE\\TEMP\n",
      "path = C:\\Users\\ahegedus\\Documents\\GitHub\\PV_ICE\\PV_ICE\\TEMP\n"
     ]
    }
   ],
   "source": [
    "#create simulations\n",
    "r1 = PV_ICE.Simulation(name='ABM_Simulation1', path=testfolder)\n",
    "r2 = PV_ICE.Simulation(name='ABM_Simulation2', path=testfolder)\n",
    "r3 = PV_ICE.Simulation(name='ABM_Simulation3', path=testfolder)\n",
    "r4 = PV_ICE.Simulation(name='ABM_Simulation4', path=testfolder)\n",
    "\n",
    "#create 10 scenarios in each simulation: 1st is standard in PV ICE, 2-10 are scenarios a-i in ABM\n",
    "SIMULATIONS = [r1,r2,r3,r4]\n",
    "SCENARIOS = ['standard_PVICE','landfill_ban','high_mat_recovery_cheap_recycling','cheap_recycling','high_landfill_costs','better_lifetime','better_learning','reuse_warranties','seeding_reuse','juliens_baseline']\n",
    "for mysimulation in SIMULATIONS: \n",
    "    for myscenario in SCENARIOS:\n",
    "        mysimulation.createScenario(name=myscenario, file=r'..\\baselines\\baseline_modules_US.csv')\n",
    "        mysimulation.scenario[myscenario].addMaterial('glass', file=r'..\\baselines\\baseline_material_glass.csv')\n",
    "        mysimulation.scenario[myscenario].addMaterial('aluminium_frames', file=r'..\\baselines\\baseline_material_aluminium_frames.csv')\n",
    "        mysimulation.scenario[myscenario].addMaterial('silver', file=r'..\\baselines\\baseline_material_silver.csv')\n",
    "        mysimulation.scenario[myscenario].addMaterial('silicon', file=r'..\\baselines\\baseline_material_silicon.csv')\n",
    "        mysimulation.scenario[myscenario].addMaterial('copper', file=r'..\\baselines\\baseline_material_copper.csv')"
   ]
  },
  {
   "cell_type": "markdown",
   "id": "6770bbb7",
   "metadata": {},
   "source": [
    "## Modify parameters: Simulation 1 (r1), same installs for all scenarios: what is the effect of different reuse, recycle, and repair rates?"
   ]
  },
  {
   "cell_type": "code",
   "execution_count": 4,
   "id": "577b4ed9",
   "metadata": {},
   "outputs": [],
   "source": [
    "#modify values of each scenario 2-10 based on ABM outputs\n",
    "#first, set 'mod_EOL_collected_recycled' to 100% in scenarios 2-10 for years 2022 on (assume all collected modules are recycled)\n",
    "ABM_SCENARIOS = SCENARIOS[1:] \n",
    "past_years_collected_recycled = [r1.scenario['standard_PVICE'].data['mod_EOL_collected_recycled'][0]]*(2022-1995)\n",
    "new_collected_recycled = [100]*(2050-2021)\n",
    "#create new list to replace 'mod_EOL_collected_recycled' with, with 1995-2021 original baseline module values, and 2022-2050 at 100%\n",
    "new_mod_recycled = past_years_collected_recycled + new_collected_recycled\n",
    "for myscenario in ABM_SCENARIOS:\n",
    "    r1.scenario[myscenario].data['mod_EOL_collected_recycled'] = new_mod_recycled\n",
    "    \n",
    "#next, set 'mat_EOL_collected_Recycled' to 100% for each material in scenarios 2-10 for years 2022 on (assume all collected materials are recycled)\n",
    "MATERIALS = ['glass','aluminium_frames','silver','silicon','copper']\n",
    "for mymaterial in MATERIALS:\n",
    "    past_years_collected_recycled = [r1.scenario['standard_PVICE'].material[mymaterial].materialdata['mat_EOL_collected_Recycled'][0]]*(2022-1995)\n",
    "    new_collected_recycled = [100]*(2050-2021)\n",
    "    #create new list to replace 'mod_EOL_collected_recycled' with, with 1995-2021 original baseline module values, and 2022-2050 at 100%\n",
    "    new_mod_recycled = past_years_collected_recycled + new_collected_recycled\n",
    "    for myscenario in ABM_SCENARIOS:\n",
    "        r1.scenario[myscenario].material[mymaterial].materialdata['mat_EOL_collected_recycled'] = new_mod_recycled"
   ]
  },
  {
   "cell_type": "code",
   "execution_count": 5,
   "id": "1e9ffc81",
   "metadata": {},
   "outputs": [],
   "source": [
    "#next, modify 3 additional inputs for each scenario 2-10, with values depending on the scenario, coming from ABM outputs\n",
    "MODIFIED_MODULE_BASELINES = ['mod_Repair','mod_Reuse','mod_EOL_collection_eff']\n",
    "len(r1.scenario['landfill_ban'].data['mod_Reuse']) #all inputs have 56 rows\n",
    "#keep first 27 rows corresponding to 1995-2021 values\n",
    "ABM_outputs = pd.read_csv(r'..\\baselines\\ABM\\abm_outputs_mass_fractions.csv')"
   ]
  },
  {
   "cell_type": "code",
   "execution_count": 6,
   "id": "6754c82e",
   "metadata": {},
   "outputs": [],
   "source": [
    "#ABM_outputs\n",
    "#change scenario names to names from ABM_SCENARIOS\n",
    "file_scenario_names = ABM_outputs['Scenario'].unique().tolist()\n",
    "ABM_outputs = ABM_outputs.replace(file_scenario_names, ABM_SCENARIOS)"
   ]
  },
  {
   "cell_type": "code",
   "execution_count": 7,
   "id": "b9232aa3",
   "metadata": {},
   "outputs": [],
   "source": [
    "#changing repair, eol collection eff, and reuse module baselines for all ABM scenarios\n",
    "for myscenario in ABM_SCENARIOS:\n",
    "    frames1 = []\n",
    "    frames2 = []\n",
    "    frames3 = []\n",
    "    new_outputs = []\n",
    "    scenario_filter = []\n",
    "    new_mod_Repairing = []\n",
    "    new_mod_Recycling = []\n",
    "    new_mod_Reuse = []\n",
    "    scenario_filter = 'Scenario == ' + '\\\"' + myscenario + '\\\"'\n",
    "    new_outputs = ABM_outputs.query(scenario_filter)\n",
    "    #replace repairing baselines\n",
    "    repairs = new_outputs.loc[:,'mass_fraction_PV_materials_repaired_milliontonnes']*100\n",
    "    repairs.index = list(range(31))\n",
    "    frames1 = [r1.scenario[myscenario].data['mod_Repair'][0:27],repairs[2:]]\n",
    "    new_mod_Repairing = pd.concat(frames1)\n",
    "    r1.scenario[myscenario].data['mod_Repair'] = new_mod_Repairing.values\n",
    "    #replace recycling baselines\n",
    "    recycled = new_outputs.loc[:,'mass_fraction_PV_materials_recycled_milliontonnes']*100\n",
    "    if myscenario == 'high_mat_recovery_cheap_recycling':\n",
    "        recycles = recycled/0.96 #reflects higher material recovery rate (must change as ABM gives effective recycling rate)\n",
    "    else:\n",
    "        recycles = recycled/0.80 #must change as ABM gives effective recycling rate\n",
    "    recycles.index = list(range(31))\n",
    "    frames2 = [r1.scenario[myscenario].data['mod_EOL_collection_eff'][0:27],recycles[2:]]\n",
    "    new_mod_Recycling = pd.concat(frames2)\n",
    "    r1.scenario[myscenario].data['mod_EOL_collection_eff'] = new_mod_Recycling.values\n",
    "    #replace reuse baselines\n",
    "    reuses = new_outputs.loc[:,'mass_fraction_PV_materials_reused_milliontonnes']*100\n",
    "    reuses.index = list(range(31))\n",
    "    frames3 = [r1.scenario[myscenario].data['mod_Reuse'][0:27],reuses[2:]]\n",
    "    new_mod_Reuse = pd.concat(frames3)\n",
    "    r1.scenario[myscenario].data['mod_Reuse'] = new_mod_Reuse.values"
   ]
  },
  {
   "cell_type": "markdown",
   "id": "9bb30ac3",
   "metadata": {},
   "source": [
    "### Modify better_lifetime scenario reliability inputs: mod_lifetime, mod_reliability_t50, & mod_reliability_t90"
   ]
  },
  {
   "cell_type": "code",
   "execution_count": 8,
   "id": "bcc1da87",
   "metadata": {},
   "outputs": [],
   "source": [
    "def lifetime_line(year):\n",
    "    \"\"\"\"\n",
    "    This function takes in a year and outputs the module lifetime based on scenario e) in ABM.\n",
    "    Inputs\n",
    "    year = desired year\n",
    "    \"\"\"\n",
    "    m = (60-15.9)/(2050-2000)\n",
    "    y = m*(year-2000) + 15.9\n",
    "    return(y)"
   ]
  },
  {
   "cell_type": "code",
   "execution_count": 114,
   "id": "4be42e69",
   "metadata": {},
   "outputs": [],
   "source": [
    "#create list of mod_lifetime values based on linear regression\n",
    "years = list(range(2022,2051)) #ONLY WANT to modify 2022 ONWARD\n",
    "mod_lifetimes_list = []\n",
    "for myyear in years:\n",
    "    mod_lifetimes_list += [lifetime_line(myyear)]"
   ]
  },
  {
   "cell_type": "code",
   "execution_count": 115,
   "id": "919a490c",
   "metadata": {},
   "outputs": [],
   "source": [
    "mod_lifetimes_df = pd.DataFrame()"
   ]
  },
  {
   "cell_type": "code",
   "execution_count": 116,
   "id": "ada731c1",
   "metadata": {},
   "outputs": [],
   "source": [
    "mod_lifetimes_df['year'] = years\n",
    "mod_lifetimes_df['mod_lifetime'] = mod_lifetimes_list"
   ]
  },
  {
   "cell_type": "code",
   "execution_count": 120,
   "id": "78591982",
   "metadata": {},
   "outputs": [],
   "source": [
    "#changing mod_lifetime in scenario e) better_lifetime\n",
    "new_mod_lifetime = list(r1.scenario[myscenario].data['mod_lifetime'][0:27].values) + mod_lifetimes_list\n",
    "r1.scenario['better_lifetime'].data['mod_lifetime'] = new_mod_lifetime"
   ]
  },
  {
   "cell_type": "code",
   "execution_count": 13,
   "id": "4c748012",
   "metadata": {},
   "outputs": [],
   "source": [
    "#create linear regression for mod_reliability_t50 & mod_reliability_t90 vs. mod_lifetime \n",
    "#to estimate t50 and t90 values to input for improved lifetime scenario\n",
    "reliability_baselines = pd.DataFrame()\n",
    "reliability_baselines['mod_lifetime'] = r1.scenario['standard_PVICE'].data['mod_lifetime']\n",
    "reliability_baselines['mod_reliability_t50'] = r1.scenario['standard_PVICE'].data['mod_reliability_t50']\n",
    "reliability_baselines['mod_reliability_t90'] = r1.scenario['standard_PVICE'].data['mod_reliability_t90']"
   ]
  },
  {
   "cell_type": "code",
   "execution_count": 123,
   "id": "a4f8cc50",
   "metadata": {},
   "outputs": [],
   "source": [
    "X_lifetime = reliability_baselines.iloc[:, 0].values.reshape(-1, 1)  # values converts it into a numpy array\n",
    "Y1_t50 = reliability_baselines.iloc[:, 1].values.reshape(-1, 1)  # -1 means that calculate the dimension of rows, but have 1 column\n",
    "Y2_t90 = reliability_baselines.iloc[:, 2].values.reshape(-1, 1)\n",
    "better_lifetimes = np.array(mod_lifetimes_list).reshape(-1,1)\n",
    "\n",
    "linear_regressor_Y1 = LinearRegression()\n",
    "linear_regressor_Y1.fit(X_lifetime, Y1_t50)  # perform linear regression\n",
    "better_lifetime_t50_list = linear_regressor_Y1.predict(better_lifetimes).tolist()  # make predictions based on improved lifetime values\n",
    "better_lifetime_t50_list = list(chain(*better_lifetime_t50_list)) #unnest list\n",
    "\n",
    "linear_regressor_Y2 = LinearRegression() \n",
    "linear_regressor_Y2.fit(X_lifetime, Y2_t90)\n",
    "better_lifetime_t90_list = linear_regressor_Y2.predict(better_lifetimes).tolist()\n",
    "better_lifetime_t90_list = list(chain(*better_lifetime_t90_list)) #unnest list"
   ]
  },
  {
   "cell_type": "code",
   "execution_count": 124,
   "id": "a8bf6c6c",
   "metadata": {},
   "outputs": [],
   "source": [
    "#changing mod_reliability_t50 & mod_reliability_t90 in scenario e) better_lifetime\n",
    "new_mod_t50 = list(r1.scenario[myscenario].data['mod_reliability_t50'][0:27].values) + better_lifetime_t50_list\n",
    "r1.scenario['better_lifetime'].data['mod_reliability_t50'] = new_mod_t50\n",
    "\n",
    "new_mod_t90 = list(r1.scenario[myscenario].data['mod_reliability_t90'][0:27].values) + better_lifetime_t90_list\n",
    "r1.scenario['better_lifetime'].data['mod_reliability_t90'] = new_mod_t90"
   ]
  },
  {
   "cell_type": "markdown",
   "id": "ae6faf62",
   "metadata": {},
   "source": [
    "## Modify parameters: Simulation 2 (r2), same installs for all scenarios: what is effect of different reuse, recycle, and repair rates when recycling efficiency is improved?"
   ]
  },
  {
   "cell_type": "code",
   "execution_count": 112,
   "id": "a0ad4dfc",
   "metadata": {},
   "outputs": [],
   "source": [
    "r2 = r1"
   ]
  },
  {
   "cell_type": "code",
   "execution_count": null,
   "id": "55c62374",
   "metadata": {},
   "outputs": [],
   "source": [
    "##START HERE TOMORROW\n",
    "#Modify recycling efficiencies 'mat_EOL_Recycling_eff' based on FRELP recovery rates\n",
    "frelp_results = pd.DataFrame()\n",
    "frelp_results['mat'] = ['silver','copper','aluminium','silicon','glass']\n",
    "frelp_results['recovery_rate'] = [94,97,99.4,97,98]"
   ]
  },
  {
   "cell_type": "code",
   "execution_count": null,
   "id": "e82200cf",
   "metadata": {},
   "outputs": [],
   "source": []
  },
  {
   "cell_type": "markdown",
   "id": "3f2250d1",
   "metadata": {},
   "source": [
    "## Modify parameters: Simulation 3 (r3), same installs for some scenarios: what is the effect of module reliability (and lifetime?) when recycle rates, reuse rates, repair rates, and recycling efficiencies changed for select scenarios with different repair bins?"
   ]
  },
  {
   "cell_type": "code",
   "execution_count": null,
   "id": "f7c67fce",
   "metadata": {},
   "outputs": [],
   "source": [
    "#Figure out which scenarios to include\n",
    "#ABM_outputs.groupby('Scenario').sum()['mass_fraction_PV_materials_repaired_milliontonnes'].sort_values()\n",
    "#calculate scenarios with highest repair rates: better lifetime, better learning, julien’s baseline, landfill ban"
   ]
  },
  {
   "cell_type": "markdown",
   "id": "c4310c69",
   "metadata": {},
   "source": [
    "## Modify parameters: Simulation 4 (r4), change new installs due to increased installed capacity for all scenarios: what is effect of accounting for less installs for all scenarios on virgin material demand vs. case 2? what is the effect on installed capacity for different repair bins?"
   ]
  },
  {
   "cell_type": "markdown",
   "id": "84c6d0ba",
   "metadata": {},
   "source": [
    "## Run Mass Flow Calculations"
   ]
  },
  {
   "cell_type": "code",
   "execution_count": 126,
   "id": "a198f24e",
   "metadata": {
    "scrolled": true
   },
   "outputs": [
    {
     "name": "stdout",
     "output_type": "stream",
     "text": [
      "Working on Scenario:  standard_PVICE\n",
      "********************\n",
      "Finished Area+Power Generation Calculations\n",
      "==> Working on Material :  glass\n",
      "==> Working on Material :  aluminium_frames\n",
      "==> Working on Material :  silver\n",
      "==> Working on Material :  silicon\n",
      "==> Working on Material :  copper\n",
      "Working on Scenario:  landfill_ban\n",
      "********************\n",
      "Finished Area+Power Generation Calculations\n",
      "==> Working on Material :  glass\n",
      "==> Working on Material :  aluminium_frames\n",
      "==> Working on Material :  silver\n",
      "==> Working on Material :  silicon\n",
      "==> Working on Material :  copper\n",
      "Working on Scenario:  high_mat_recovery_cheap_recycling\n",
      "********************\n",
      "Finished Area+Power Generation Calculations\n",
      "==> Working on Material :  glass\n",
      "==> Working on Material :  aluminium_frames\n",
      "==> Working on Material :  silver\n",
      "==> Working on Material :  silicon\n",
      "==> Working on Material :  copper\n",
      "Working on Scenario:  cheap_recycling\n",
      "********************\n",
      "Finished Area+Power Generation Calculations\n",
      "==> Working on Material :  glass\n",
      "==> Working on Material :  aluminium_frames\n",
      "==> Working on Material :  silver\n",
      "==> Working on Material :  silicon\n",
      "==> Working on Material :  copper\n",
      "Working on Scenario:  high_landfill_costs\n",
      "********************\n",
      "Finished Area+Power Generation Calculations\n",
      "==> Working on Material :  glass\n",
      "==> Working on Material :  aluminium_frames\n",
      "==> Working on Material :  silver\n",
      "==> Working on Material :  silicon\n",
      "==> Working on Material :  copper\n",
      "Working on Scenario:  better_lifetime\n",
      "********************\n",
      "Finished Area+Power Generation Calculations\n",
      "==> Working on Material :  glass\n",
      "==> Working on Material :  aluminium_frames\n",
      "==> Working on Material :  silver\n",
      "==> Working on Material :  silicon\n",
      "==> Working on Material :  copper\n",
      "Working on Scenario:  better_learning\n",
      "********************\n",
      "Finished Area+Power Generation Calculations\n",
      "==> Working on Material :  glass\n",
      "==> Working on Material :  aluminium_frames\n",
      "==> Working on Material :  silver\n",
      "==> Working on Material :  silicon\n",
      "==> Working on Material :  copper\n",
      "Working on Scenario:  reuse_warranties\n",
      "********************\n",
      "Finished Area+Power Generation Calculations\n",
      "==> Working on Material :  glass\n",
      "==> Working on Material :  aluminium_frames\n",
      "==> Working on Material :  silver\n",
      "==> Working on Material :  silicon\n",
      "==> Working on Material :  copper\n",
      "Working on Scenario:  seeding_reuse\n",
      "********************\n",
      "Finished Area+Power Generation Calculations\n",
      "==> Working on Material :  glass\n",
      "==> Working on Material :  aluminium_frames\n",
      "==> Working on Material :  silver\n",
      "==> Working on Material :  silicon\n",
      "==> Working on Material :  copper\n",
      "Working on Scenario:  juliens_baseline\n",
      "********************\n",
      "Finished Area+Power Generation Calculations\n",
      "==> Working on Material :  glass\n",
      "==> Working on Material :  aluminium_frames\n",
      "==> Working on Material :  silver\n",
      "==> Working on Material :  silicon\n",
      "==> Working on Material :  copper\n"
     ]
    }
   ],
   "source": [
    "r1.calculateMassFlow()"
   ]
  },
  {
   "cell_type": "markdown",
   "id": "192d22ce",
   "metadata": {},
   "source": [
    "## Plotting results: Simulation 1 (r1)"
   ]
  },
  {
   "cell_type": "markdown",
   "id": "5023a6f1",
   "metadata": {},
   "source": [
    "### Creating a summary of results in a new data frame"
   ]
  },
  {
   "cell_type": "code",
   "execution_count": 30,
   "id": "19b59c7f",
   "metadata": {},
   "outputs": [],
   "source": [
    "USyearly1=pd.DataFrame()"
   ]
  },
  {
   "cell_type": "code",
   "execution_count": 31,
   "id": "faf5db85",
   "metadata": {},
   "outputs": [],
   "source": [
    "keyword='mat_Virgin_Stock'\n",
    "materials = ['glass', 'aluminium_frames','silicon', 'silver', 'copper']\n",
    "\n",
    "# Loop over Scenarios\n",
    "for jj in range(0, len(r1.scenario)): #goes from 0 to 9\n",
    "    case = list(r1.scenario.keys())[jj] #case gives scenario name\n",
    "    for ii in range (0, len(materials)):    \n",
    "        material = materials[ii]\n",
    "        foo = r1.scenario[case].material[material].materialdata[keyword].copy()\n",
    "        foo = foo.to_frame(name=material)\n",
    "        USyearly1[\"VirginStock_\"+material+'_'+r1.name+'_'+case] = foo[material]\n",
    "    filter_col = [col for col in USyearly1 if (col.startswith('VirginStock') and col.endswith(r1.name+'_'+case)) ]\n",
    "    USyearly1['VirginStock_Module_'+r1.name+'_'+case] = USyearly1[filter_col].sum(axis=1)\n",
    "#took module sum out of inner loop to fix module sum error"
   ]
  },
  {
   "cell_type": "code",
   "execution_count": 32,
   "id": "f4ed6d60",
   "metadata": {},
   "outputs": [],
   "source": [
    "keyword='mat_Total_Landfilled'\n",
    "materials = ['glass', 'aluminium_frames','silicon', 'silver', 'copper']\n",
    "\n",
    "# Loop over Scenarios\n",
    "for jj in range(0, len(r1.scenario)): #goes from 0 to 9\n",
    "    case = list(r1.scenario.keys())[jj]\n",
    "    for ii in range (0, len(materials)):    \n",
    "        material = materials[ii]\n",
    "        foo = r1.scenario[case].material[material].materialdata[keyword].copy()\n",
    "        foo = foo.to_frame(name=material)\n",
    "        USyearly1[\"Waste_\"+material+'_'+r1.name+'_'+case] = foo[material]\n",
    "    filter_col = [col for col in USyearly1 if (col.startswith('Waste') and col.endswith(r1.name+'_'+case)) ]\n",
    "    USyearly1['Waste_Module_'+r1.name+'_'+case] = USyearly1[filter_col].sum(axis=1)"
   ]
  },
  {
   "cell_type": "code",
   "execution_count": 33,
   "id": "8a3cbf3e",
   "metadata": {},
   "outputs": [],
   "source": [
    "keyword='mat_Total_EOL_Landfilled'\n",
    "materials = ['glass', 'aluminium_frames','silicon', 'silver', 'copper']\n",
    "\n",
    "# Loop over Scenarios\n",
    "for jj in range(0, len(r1.scenario)): #goes from 0 to 9\n",
    "    case = list(r1.scenario.keys())[jj]\n",
    "    for ii in range (0, len(materials)):    \n",
    "        material = materials[ii]\n",
    "        foo = r1.scenario[case].material[material].materialdata[keyword].copy()\n",
    "        foo = foo.to_frame(name=material)\n",
    "        USyearly1[\"Waste_EOL_\"+material+'_'+r1.name+'_'+case] = foo[material]\n",
    "    filter_col = [col for col in USyearly1 if (col.startswith('Waste_EOL') and col.endswith(r1.name+'_'+case)) ]\n",
    "    USyearly1['Waste_EOL_Module_'+r1.name+'_'+case] = USyearly1[filter_col].sum(axis=1)"
   ]
  },
  {
   "cell_type": "code",
   "execution_count": 34,
   "id": "defe95c7",
   "metadata": {},
   "outputs": [],
   "source": [
    "USyearly1 = USyearly1/1000000  #Convert to metric tonnes\n",
    "#907185 -- this is for US tons"
   ]
  },
  {
   "cell_type": "code",
   "execution_count": 35,
   "id": "23dbac90",
   "metadata": {
    "scrolled": true
   },
   "outputs": [],
   "source": [
    "keyword='new_Installed_Capacity_[MW]'\n",
    "\n",
    "newcolname = keyword+'_'+r1.name\n",
    "    \n",
    "if newcolname in USyearly1:\n",
    "    USyearly1[newcolname] = USyearly1[newcolname]+r1.scenario[list(r1.scenario.keys())[0]].data[keyword]\n",
    "else:\n",
    "    USyearly1[keyword+'_'+r1.name] = r1.scenario[list(r1.scenario.keys())[0]].data[keyword]"
   ]
  },
  {
   "cell_type": "code",
   "execution_count": 36,
   "id": "6038d46b",
   "metadata": {},
   "outputs": [],
   "source": [
    "UScum1 = USyearly1.copy()\n",
    "UScum1 = UScum1.cumsum()"
   ]
  },
  {
   "cell_type": "code",
   "execution_count": 98,
   "id": "4eec0efb",
   "metadata": {},
   "outputs": [],
   "source": [
    "keyword='Installed_Capacity_[W]'\n",
    "\n",
    "# Loop over Scenarios\n",
    "for i in range(0, len(r1.scenario)):\n",
    "    case = list(r1.scenario.keys())[i]\n",
    "    foo = r1.scenario[case].data[keyword]\n",
    "    foo = foo.to_frame(name=keyword)\n",
    "    UScum1[\"Capacity_\"+r1.name+'_'+case] = foo[keyword].values/1000000 #change to MW"
   ]
  },
  {
   "cell_type": "code",
   "execution_count": 99,
   "id": "2eb018a3",
   "metadata": {},
   "outputs": [],
   "source": [
    "USyearly1.index = r1.scenario['standard_PVICE'].data['year']\n",
    "UScum1.index = r1.scenario['standard_PVICE'].data['year']"
   ]
  },
  {
   "cell_type": "code",
   "execution_count": 100,
   "id": "cea37839",
   "metadata": {},
   "outputs": [],
   "source": [
    "USyearly1.to_csv('ABM_Yearly_Results.csv')\n",
    "UScum1.to_csv('ABM_Cumulative_Results.csv')"
   ]
  },
  {
   "cell_type": "markdown",
   "id": "31b102ee",
   "metadata": {},
   "source": [
    "### Plotting with USyearly and UScum data frames"
   ]
  },
  {
   "cell_type": "code",
   "execution_count": 109,
   "id": "212a5e9b",
   "metadata": {},
   "outputs": [
    {
     "data": {
      "application/vnd.plotly.v1+json": {
       "config": {
        "plotlyServerURL": "https://plot.ly"
       },
       "data": [
        {
         "hovertemplate": "Scenario=PV ICE Baseline<br>Year=%{x}<br>Virgin Material Demand in metric tonnes=%{y}<extra></extra>",
         "legendgroup": "PV ICE Baseline",
         "line": {
          "color": "#636efa",
          "dash": "solid"
         },
         "mode": "lines",
         "name": "PV ICE Baseline",
         "orientation": "v",
         "showlegend": true,
         "type": "scatter",
         "x": [
          1995,
          1996,
          1997,
          1998,
          1999,
          2000,
          2001,
          2002,
          2003,
          2004,
          2005,
          2006,
          2007,
          2008,
          2009,
          2010,
          2011,
          2012,
          2013,
          2014,
          2015,
          2016,
          2017,
          2018,
          2019,
          2020,
          2021,
          2022,
          2023,
          2024,
          2025,
          2026,
          2027,
          2028,
          2029,
          2030,
          2031,
          2032,
          2033,
          2034,
          2035,
          2036,
          2037,
          2038,
          2039,
          2040,
          2041,
          2042,
          2043,
          2044,
          2045,
          2046,
          2047,
          2048,
          2049,
          2050
         ],
         "xaxis": "x",
         "y": [
          1356.206387762062,
          1023.802500570033,
          1181.1306732375513,
          1162.768674055309,
          1631.7780481408333,
          1976.4502085614242,
          2590.8527403900757,
          3872.649973502229,
          5371.341445517822,
          8389.138612806155,
          8358.869588778043,
          8395.238712845054,
          27389.048230027325,
          26249.13553952561,
          35549.28974351896,
          56253.33766102001,
          135178.52676122313,
          229936.20582363196,
          284358.6628307348,
          259444.40232544125,
          448504.94311811676,
          806108.088921907,
          605136.7028316674,
          554223.4490494978,
          633697.4989966513,
          873690.6431107315,
          912061.7124112773,
          821339.6609549704,
          804701.9768147675,
          854770.7029115651,
          908281.1991453671,
          989162.568213533,
          1079434.1547308124,
          1179200.4793539646,
          1291370.567975547,
          1415774.5904997129,
          1556242.8046515542,
          1684722.609509715,
          1824832.4946622956,
          1977045.1484240454,
          2142788.2142325966,
          2323472.260077906,
          2519093.8852999415,
          2733040.9350355524,
          2965043.0365774487,
          3217154.7211325457,
          3491923.918917242,
          3790420.8859309056,
          4114971.008854633,
          4468036.62907915,
          4852244.6030840855,
          5269564.105258427,
          5723474.2656871155,
          6216872.000697828,
          6753362.173551876,
          7336763.192571954
         ],
         "yaxis": "y"
        },
        {
         "hovertemplate": "Scenario=Landfill Ban<br>Year=%{x}<br>Virgin Material Demand in metric tonnes=%{y}<extra></extra>",
         "legendgroup": "Landfill Ban",
         "line": {
          "color": "#EF553B",
          "dash": "solid"
         },
         "mode": "lines",
         "name": "Landfill Ban",
         "orientation": "v",
         "showlegend": true,
         "type": "scatter",
         "x": [
          1995,
          1996,
          1997,
          1998,
          1999,
          2000,
          2001,
          2002,
          2003,
          2004,
          2005,
          2006,
          2007,
          2008,
          2009,
          2010,
          2011,
          2012,
          2013,
          2014,
          2015,
          2016,
          2017,
          2018,
          2019,
          2020,
          2021,
          2022,
          2023,
          2024,
          2025,
          2026,
          2027,
          2028,
          2029,
          2030,
          2031,
          2032,
          2033,
          2034,
          2035,
          2036,
          2037,
          2038,
          2039,
          2040,
          2041,
          2042,
          2043,
          2044,
          2045,
          2046,
          2047,
          2048,
          2049,
          2050
         ],
         "xaxis": "x",
         "y": [
          1356.206387762062,
          1023.802500570033,
          1181.1306732375513,
          1162.768674055309,
          1631.7780481408333,
          1976.4502085614242,
          2590.8527403900757,
          3872.649973502229,
          5371.341445517822,
          8389.138612806155,
          8358.869588778043,
          8395.238712845054,
          27389.048230027325,
          26249.13553952561,
          35549.28974351896,
          56253.33766102001,
          135178.52676122313,
          229936.20582363196,
          284358.6628307348,
          259444.40232544125,
          448504.94311811676,
          806108.088921907,
          605136.7028316674,
          554223.4490494978,
          633697.4989966513,
          873690.6431107315,
          912061.7124112773,
          821387.3703487432,
          804756.308181066,
          854833.287164891,
          908353.0211293518,
          989250.801816478,
          1079539.3904069185,
          1179340.032425794,
          1291553.2389282167,
          1416053.7265734663,
          1556515.9207655864,
          1685159.3250578956,
          1825233.5065114936,
          1977659.0277325807,
          2143505.295537382,
          2323963.817309872,
          2520011.685273708,
          2733558.0606362647,
          2965578.887569351,
          3217746.419740294,
          3492308.866981699,
          3790727.6323920945,
          4115124.1841605543,
          4468028.137758731,
          4852115.888812399,
          5269306.517381128,
          5723117.954214483,
          6216367.279578756,
          6752656.4590464635,
          7335830.459941074
         ],
         "yaxis": "y"
        },
        {
         "hovertemplate": "Scenario=High material recovery and Lower recycling costs<br>Year=%{x}<br>Virgin Material Demand in metric tonnes=%{y}<extra></extra>",
         "legendgroup": "High material recovery and Lower recycling costs",
         "line": {
          "color": "#00cc96",
          "dash": "solid"
         },
         "mode": "lines",
         "name": "High material recovery and Lower recycling costs",
         "orientation": "v",
         "showlegend": true,
         "type": "scatter",
         "x": [
          1995,
          1996,
          1997,
          1998,
          1999,
          2000,
          2001,
          2002,
          2003,
          2004,
          2005,
          2006,
          2007,
          2008,
          2009,
          2010,
          2011,
          2012,
          2013,
          2014,
          2015,
          2016,
          2017,
          2018,
          2019,
          2020,
          2021,
          2022,
          2023,
          2024,
          2025,
          2026,
          2027,
          2028,
          2029,
          2030,
          2031,
          2032,
          2033,
          2034,
          2035,
          2036,
          2037,
          2038,
          2039,
          2040,
          2041,
          2042,
          2043,
          2044,
          2045,
          2046,
          2047,
          2048,
          2049,
          2050
         ],
         "xaxis": "x",
         "y": [
          1356.206387762062,
          1023.802500570033,
          1181.1306732375513,
          1162.768674055309,
          1631.7780481408333,
          1976.4502085614242,
          2590.8527403900757,
          3872.649973502229,
          5371.341445517822,
          8389.138612806155,
          8358.869588778043,
          8395.238712845054,
          27389.048230027325,
          26249.13553952561,
          35549.28974351896,
          56253.33766102001,
          135178.52676122313,
          229936.20582363196,
          284358.6628307348,
          259444.40232544125,
          448504.94311811676,
          806108.088921907,
          605136.7028316674,
          554223.4490494978,
          633697.4989966513,
          873690.6431107315,
          912061.7124112773,
          821387.3046203553,
          804756.2677352808,
          854833.2581165598,
          908352.1204579329,
          989246.9120112329,
          1079531.5421883904,
          1179326.2389255743,
          1291532.4337987227,
          1416016.4208016999,
          1556470.9446909914,
          1685036.8283653616,
          1825058.490922192,
          1977235.4930861455,
          2142678.403092038,
          2323021.5289659533,
          2517296.7556602997,
          2731165.7170363544,
          2962039.6381046674,
          3212163.460222263,
          3486900.221771446,
          3784556.415123563,
          4108072.7000544723,
          4460878.42731755,
          4846568.864063403,
          5263141.690205345,
          5717025.972688323,
          6209329.514699685,
          6744420.79825721,
          7326352.982884198
         ],
         "yaxis": "y"
        },
        {
         "hovertemplate": "Scenario=Lower recycling costs<br>Year=%{x}<br>Virgin Material Demand in metric tonnes=%{y}<extra></extra>",
         "legendgroup": "Lower recycling costs",
         "line": {
          "color": "#ab63fa",
          "dash": "solid"
         },
         "mode": "lines",
         "name": "Lower recycling costs",
         "orientation": "v",
         "showlegend": true,
         "type": "scatter",
         "x": [
          1995,
          1996,
          1997,
          1998,
          1999,
          2000,
          2001,
          2002,
          2003,
          2004,
          2005,
          2006,
          2007,
          2008,
          2009,
          2010,
          2011,
          2012,
          2013,
          2014,
          2015,
          2016,
          2017,
          2018,
          2019,
          2020,
          2021,
          2022,
          2023,
          2024,
          2025,
          2026,
          2027,
          2028,
          2029,
          2030,
          2031,
          2032,
          2033,
          2034,
          2035,
          2036,
          2037,
          2038,
          2039,
          2040,
          2041,
          2042,
          2043,
          2044,
          2045,
          2046,
          2047,
          2048,
          2049,
          2050
         ],
         "xaxis": "x",
         "y": [
          1356.206387762062,
          1023.802500570033,
          1181.1306732375513,
          1162.768674055309,
          1631.7780481408333,
          1976.4502085614242,
          2590.8527403900757,
          3872.649973502229,
          5371.341445517822,
          8389.138612806155,
          8358.869588778043,
          8395.238712845054,
          27389.048230027325,
          26249.13553952561,
          35549.28974351896,
          56253.33766102001,
          135178.52676122313,
          229936.20582363196,
          284358.6628307348,
          259444.40232544125,
          448504.94311811676,
          806108.088921907,
          605136.7028316674,
          554223.4490494978,
          633697.4989966513,
          873690.6431107315,
          912061.7124112773,
          821387.3703495316,
          804756.308182257,
          854833.2871690615,
          908353.0497001548,
          989251.0246776914,
          1079539.6891094346,
          1179340.6134322227,
          1291554.748226615,
          1416056.9927380916,
          1556521.075719252,
          1685174.2400280172,
          1825254.4173455448,
          1977714.8397796305,
          2143608.2806418836,
          2324083.3007486137,
          2520384.781697527,
          2733890.7269682367,
          2966079.589108692,
          3218575.678845936,
          3493148.2502117455,
          3791715.0461365865,
          4116369.605828763,
          4469389.244003052,
          4853251.979477145,
          5270650.969818821,
          5724521.695072837,
          6218055.10620441,
          6754724.492952068,
          7338308.339302637
         ],
         "yaxis": "y"
        },
        {
         "hovertemplate": "Scenario=Higher landfill costs<br>Year=%{x}<br>Virgin Material Demand in metric tonnes=%{y}<extra></extra>",
         "legendgroup": "Higher landfill costs",
         "line": {
          "color": "#FFA15A",
          "dash": "solid"
         },
         "mode": "lines",
         "name": "Higher landfill costs",
         "orientation": "v",
         "showlegend": true,
         "type": "scatter",
         "x": [
          1995,
          1996,
          1997,
          1998,
          1999,
          2000,
          2001,
          2002,
          2003,
          2004,
          2005,
          2006,
          2007,
          2008,
          2009,
          2010,
          2011,
          2012,
          2013,
          2014,
          2015,
          2016,
          2017,
          2018,
          2019,
          2020,
          2021,
          2022,
          2023,
          2024,
          2025,
          2026,
          2027,
          2028,
          2029,
          2030,
          2031,
          2032,
          2033,
          2034,
          2035,
          2036,
          2037,
          2038,
          2039,
          2040,
          2041,
          2042,
          2043,
          2044,
          2045,
          2046,
          2047,
          2048,
          2049,
          2050
         ],
         "xaxis": "x",
         "y": [
          1356.206387762062,
          1023.802500570033,
          1181.1306732375513,
          1162.768674055309,
          1631.7780481408333,
          1976.4502085614242,
          2590.8527403900757,
          3872.649973502229,
          5371.341445517822,
          8389.138612806155,
          8358.869588778043,
          8395.238712845054,
          27389.048230027325,
          26249.13553952561,
          35549.28974351896,
          56253.33766102001,
          135178.52676122313,
          229936.20582363196,
          284358.6628307348,
          259444.40232544125,
          448504.94311811676,
          806108.088921907,
          605136.7028316674,
          554223.4490494978,
          633697.4989966513,
          873690.6431107315,
          912061.7124112773,
          821387.3041090416,
          804756.2586003604,
          854833.2471720806,
          908353.2935337736,
          989251.0259142693,
          1079539.398795615,
          1179340.4757364246,
          1291554.0746304393,
          1416055.4944151696,
          1556518.7747895326,
          1685169.150211591,
          1825246.5958606554,
          1977693.2804447701,
          2143570.130701987,
          2324043.0205096076,
          2520266.7067380934,
          2733792.622278818,
          2965938.1111084702,
          3218357.1646147557,
          3492940.3668188914,
          3791492.9216129505,
          4116120.666900545,
          4469147.667888587,
          4853075.606636367,
          5270464.182493596,
          5724346.923557872,
          6217863.962338511,
          6754511.143130854,
          7338075.00823779
         ],
         "yaxis": "y"
        },
        {
         "hovertemplate": "Scenario=Improved lifetime<br>Year=%{x}<br>Virgin Material Demand in metric tonnes=%{y}<extra></extra>",
         "legendgroup": "Improved lifetime",
         "line": {
          "color": "#19d3f3",
          "dash": "solid"
         },
         "mode": "lines",
         "name": "Improved lifetime",
         "orientation": "v",
         "showlegend": true,
         "type": "scatter",
         "x": [
          1995,
          1996,
          1997,
          1998,
          1999,
          2000,
          2001,
          2002,
          2003,
          2004,
          2005,
          2006,
          2007,
          2008,
          2009,
          2010,
          2011,
          2012,
          2013,
          2014,
          2015,
          2016,
          2017,
          2018,
          2019,
          2020,
          2021,
          2022,
          2023,
          2024,
          2025,
          2026,
          2027,
          2028,
          2029,
          2030,
          2031,
          2032,
          2033,
          2034,
          2035,
          2036,
          2037,
          2038,
          2039,
          2040,
          2041,
          2042,
          2043,
          2044,
          2045,
          2046,
          2047,
          2048,
          2049,
          2050
         ],
         "xaxis": "x",
         "y": [
          1356.206387762062,
          1023.802500570033,
          1181.1306732375513,
          1162.768674055309,
          1631.7780481408333,
          1976.4502085614242,
          2590.8527365582627,
          3872.649848250022,
          5371.340449504547,
          8389.13419033574,
          8358.85544661485,
          8395.202247510557,
          27388.96797548319,
          26248.980283073022,
          35549.02191318937,
          56252.92516085592,
          135177.96850296322,
          229935.57560995818,
          284358.1720004295,
          259444.47019624486,
          448502.6512628752,
          806112.8652293726,
          605139.876348196,
          554236.3222997646,
          633707.7080469523,
          873713.4912922407,
          912078.6122069594,
          821387.3816809877,
          804756.3035818165,
          854833.2912998615,
          908353.1656309775,
          989251.3533146052,
          1079539.7888549487,
          1179341.1476305353,
          1291554.4523367265,
          1416056.4406161348,
          1556520.2294364015,
          1685168.8304793132,
          1825243.8911786187,
          1977675.2435764936,
          2143539.230910345,
          2323823.9034840893,
          2520107.519445796,
          2732922.693829829,
          2965376.992227687,
          3216585.572267145,
          3491680.7638559663,
          3788478.491432518,
          4113576.827874315,
          4462812.627621246,
          4848915.785771072,
          5259561.158883535,
          5713688.393736592,
          6213631.599681825,
          6742660.012071414,
          7332657.450944061
         ],
         "yaxis": "y"
        },
        {
         "hovertemplate": "Scenario=Improved learning effect<br>Year=%{x}<br>Virgin Material Demand in metric tonnes=%{y}<extra></extra>",
         "legendgroup": "Improved learning effect",
         "line": {
          "color": "#FF6692",
          "dash": "solid"
         },
         "mode": "lines",
         "name": "Improved learning effect",
         "orientation": "v",
         "showlegend": true,
         "type": "scatter",
         "x": [
          1995,
          1996,
          1997,
          1998,
          1999,
          2000,
          2001,
          2002,
          2003,
          2004,
          2005,
          2006,
          2007,
          2008,
          2009,
          2010,
          2011,
          2012,
          2013,
          2014,
          2015,
          2016,
          2017,
          2018,
          2019,
          2020,
          2021,
          2022,
          2023,
          2024,
          2025,
          2026,
          2027,
          2028,
          2029,
          2030,
          2031,
          2032,
          2033,
          2034,
          2035,
          2036,
          2037,
          2038,
          2039,
          2040,
          2041,
          2042,
          2043,
          2044,
          2045,
          2046,
          2047,
          2048,
          2049,
          2050
         ],
         "xaxis": "x",
         "y": [
          1356.206387762062,
          1023.802500570033,
          1181.1306732375513,
          1162.768674055309,
          1631.7780481408333,
          1976.4502085614242,
          2590.8527403900757,
          3872.649973502229,
          5371.341445517822,
          8389.138612806155,
          8358.869588778043,
          8395.238712845054,
          27389.048230027325,
          26249.13553952561,
          35549.28974351896,
          56253.33766102001,
          135178.52676122313,
          229936.20582363196,
          284358.6628307348,
          259444.40232544125,
          448504.94311811676,
          806108.088921907,
          605136.7028316674,
          554223.4490494978,
          633697.4989966513,
          873690.6431107315,
          912061.7124112773,
          821377.2662251119,
          804725.7897228255,
          854750.6173541271,
          908172.5064657192,
          988913.8715629334,
          1079049.7091885407,
          1178652.041231788,
          1290647.6576826232,
          1414668.6992285259,
          1554994.3645198047,
          1682453.836904811,
          1822455.5020334055,
          1972650.8048395622,
          2136173.5396205736,
          2317522.560585986,
          2505502.9693670743,
          2722987.6105682603,
          2952145.8640008997,
          3198877.836720506,
          3475515.989782917,
          3772706.319662635,
          4095488.2651520995,
          4448907.195481474,
          4837711.413754065,
          5253777.824242974,
          5708114.332922693,
          6199408.884375109,
          6733099.97258793,
          7313655.0008283835
         ],
         "yaxis": "y"
        },
        {
         "hovertemplate": "Scenario=Reuse warranties<br>Year=%{x}<br>Virgin Material Demand in metric tonnes=%{y}<extra></extra>",
         "legendgroup": "Reuse warranties",
         "line": {
          "color": "#B6E880",
          "dash": "solid"
         },
         "mode": "lines",
         "name": "Reuse warranties",
         "orientation": "v",
         "showlegend": true,
         "type": "scatter",
         "x": [
          1995,
          1996,
          1997,
          1998,
          1999,
          2000,
          2001,
          2002,
          2003,
          2004,
          2005,
          2006,
          2007,
          2008,
          2009,
          2010,
          2011,
          2012,
          2013,
          2014,
          2015,
          2016,
          2017,
          2018,
          2019,
          2020,
          2021,
          2022,
          2023,
          2024,
          2025,
          2026,
          2027,
          2028,
          2029,
          2030,
          2031,
          2032,
          2033,
          2034,
          2035,
          2036,
          2037,
          2038,
          2039,
          2040,
          2041,
          2042,
          2043,
          2044,
          2045,
          2046,
          2047,
          2048,
          2049,
          2050
         ],
         "xaxis": "x",
         "y": [
          1356.206387762062,
          1023.802500570033,
          1181.1306732375513,
          1162.768674055309,
          1631.7780481408333,
          1976.4502085614242,
          2590.8527403900757,
          3872.649973502229,
          5371.341445517822,
          8389.138612806155,
          8358.869588778043,
          8395.238712845054,
          27389.048230027325,
          26249.13553952561,
          35549.28974351896,
          56253.33766102001,
          135178.52676122313,
          229936.20582363196,
          284358.6628307348,
          259444.40232544125,
          448504.94311811676,
          806108.088921907,
          605136.7028316674,
          554223.4490494978,
          633697.4989966513,
          873690.6431107315,
          912061.7124112773,
          821387.2593761671,
          804756.2399287398,
          854833.2379257759,
          908351.5158560034,
          989244.698151059,
          1079527.3922926101,
          1179319.044943783,
          1291521.5663509115,
          1415996.9510456598,
          1556447.3712716682,
          1684973.6649565182,
          1824969.2646892737,
          1977019.8994459708,
          2142264.1498460593,
          2322553.1145717613,
          2515928.158883069,
          2729971.1966061904,
          2960289.546225578,
          3209391.2165538627,
          3484230.5412130523,
          3781517.711541369,
          4104565.0571275065,
          4457277.556583228,
          4843749.344740843,
          5259999.339249095,
          5713879.515593159,
          6205700.888458852,
          6740135.300242547,
          7321374.086083587
         ],
         "yaxis": "y"
        },
        {
         "hovertemplate": "Scenario=Seeding reuse<br>Year=%{x}<br>Virgin Material Demand in metric tonnes=%{y}<extra></extra>",
         "legendgroup": "Seeding reuse",
         "line": {
          "color": "#FF97FF",
          "dash": "solid"
         },
         "mode": "lines",
         "name": "Seeding reuse",
         "orientation": "v",
         "showlegend": true,
         "type": "scatter",
         "x": [
          1995,
          1996,
          1997,
          1998,
          1999,
          2000,
          2001,
          2002,
          2003,
          2004,
          2005,
          2006,
          2007,
          2008,
          2009,
          2010,
          2011,
          2012,
          2013,
          2014,
          2015,
          2016,
          2017,
          2018,
          2019,
          2020,
          2021,
          2022,
          2023,
          2024,
          2025,
          2026,
          2027,
          2028,
          2029,
          2030,
          2031,
          2032,
          2033,
          2034,
          2035,
          2036,
          2037,
          2038,
          2039,
          2040,
          2041,
          2042,
          2043,
          2044,
          2045,
          2046,
          2047,
          2048,
          2049,
          2050
         ],
         "xaxis": "x",
         "y": [
          1356.206387762062,
          1023.802500570033,
          1181.1306732375513,
          1162.768674055309,
          1631.7780481408333,
          1976.4502085614242,
          2590.8527403900757,
          3872.649973502229,
          5371.341445517822,
          8389.138612806155,
          8358.869588778043,
          8395.238712845054,
          27389.048230027325,
          26249.13553952561,
          35549.28974351896,
          56253.33766102001,
          135178.52676122313,
          229936.20582363196,
          284358.6628307348,
          259444.40232544125,
          448504.94311811676,
          806108.088921907,
          605136.7028316674,
          554223.4490494978,
          633697.4989966513,
          873690.6431107315,
          912061.7124112773,
          821387.3703487432,
          804756.308181066,
          854833.287164891,
          908353.0211293518,
          989250.7034970878,
          1079538.9276210489,
          1179339.0221899676,
          1291551.67803493,
          1416049.6976115967,
          1556509.9733947937,
          1685139.080432826,
          1825202.2828213666,
          1977586.1958230531,
          2143361.0363216703,
          2323808.441748342,
          2519576.0698852097,
          2733168.597437779,
          2964965.861196222,
          3216643.357409264,
          3491142.035996605,
          3789250.5253630434,
          4113237.0198618537,
          4465905.409523081,
          4850376.877499399,
          5267259.415350689,
          5720993.500195043,
          6213802.404661916,
          6749545.369991444,
          7332111.489202951
         ],
         "yaxis": "y"
        },
        {
         "hovertemplate": "Scenario=ABM Baseline<br>Year=%{x}<br>Virgin Material Demand in metric tonnes=%{y}<extra></extra>",
         "legendgroup": "ABM Baseline",
         "line": {
          "color": "#FECB52",
          "dash": "solid"
         },
         "mode": "lines",
         "name": "ABM Baseline",
         "orientation": "v",
         "showlegend": true,
         "type": "scatter",
         "x": [
          1995,
          1996,
          1997,
          1998,
          1999,
          2000,
          2001,
          2002,
          2003,
          2004,
          2005,
          2006,
          2007,
          2008,
          2009,
          2010,
          2011,
          2012,
          2013,
          2014,
          2015,
          2016,
          2017,
          2018,
          2019,
          2020,
          2021,
          2022,
          2023,
          2024,
          2025,
          2026,
          2027,
          2028,
          2029,
          2030,
          2031,
          2032,
          2033,
          2034,
          2035,
          2036,
          2037,
          2038,
          2039,
          2040,
          2041,
          2042,
          2043,
          2044,
          2045,
          2046,
          2047,
          2048,
          2049,
          2050
         ],
         "xaxis": "x",
         "y": [
          1356.206387762062,
          1023.802500570033,
          1181.1306732375513,
          1162.768674055309,
          1631.7780481408333,
          1976.4502085614242,
          2590.8527403900757,
          3872.649973502229,
          5371.341445517822,
          8389.138612806155,
          8358.869588778043,
          8395.238712845054,
          27389.048230027325,
          26249.13553952561,
          35549.28974351896,
          56253.33766102001,
          135178.52676122313,
          229936.20582363196,
          284358.6628307348,
          259444.40232544125,
          448504.94311811676,
          806108.088921907,
          605136.7028316674,
          554223.4490494978,
          633697.4989966513,
          873690.6431107315,
          912061.7124112773,
          821387.3703487432,
          804756.308181066,
          854833.287164891,
          908353.0211293518,
          989250.7351804223,
          1079539.3696526694,
          1179340.134993387,
          1291553.1966794843,
          1416053.649002398,
          1556516.292140829,
          1685163.3944754016,
          1825240.4237645885,
          1977687.5339644193,
          2143562.293174064,
          2324033.2870739643,
          2520235.0726093864,
          2733752.403706766,
          2965872.048945364,
          3218242.4113319316,
          3492801.4312087246,
          3791305.7685005865,
          4115841.9970069514,
          4468779.887422895,
          4852711.319938045,
          5269978.95161917,
          5723775.699915696,
          6217111.969324406,
          6753518.084613055,
          7336782.305690419
         ],
         "yaxis": "y"
        }
       ],
       "layout": {
        "legend": {
         "title": {
          "text": "Scenario"
         },
         "tracegroupgap": 0
        },
        "margin": {
         "t": 60
        },
        "template": {
         "data": {
          "bar": [
           {
            "error_x": {
             "color": "#2a3f5f"
            },
            "error_y": {
             "color": "#2a3f5f"
            },
            "marker": {
             "line": {
              "color": "#E5ECF6",
              "width": 0.5
             },
             "pattern": {
              "fillmode": "overlay",
              "size": 10,
              "solidity": 0.2
             }
            },
            "type": "bar"
           }
          ],
          "barpolar": [
           {
            "marker": {
             "line": {
              "color": "#E5ECF6",
              "width": 0.5
             },
             "pattern": {
              "fillmode": "overlay",
              "size": 10,
              "solidity": 0.2
             }
            },
            "type": "barpolar"
           }
          ],
          "carpet": [
           {
            "aaxis": {
             "endlinecolor": "#2a3f5f",
             "gridcolor": "white",
             "linecolor": "white",
             "minorgridcolor": "white",
             "startlinecolor": "#2a3f5f"
            },
            "baxis": {
             "endlinecolor": "#2a3f5f",
             "gridcolor": "white",
             "linecolor": "white",
             "minorgridcolor": "white",
             "startlinecolor": "#2a3f5f"
            },
            "type": "carpet"
           }
          ],
          "choropleth": [
           {
            "colorbar": {
             "outlinewidth": 0,
             "ticks": ""
            },
            "type": "choropleth"
           }
          ],
          "contour": [
           {
            "colorbar": {
             "outlinewidth": 0,
             "ticks": ""
            },
            "colorscale": [
             [
              0,
              "#0d0887"
             ],
             [
              0.1111111111111111,
              "#46039f"
             ],
             [
              0.2222222222222222,
              "#7201a8"
             ],
             [
              0.3333333333333333,
              "#9c179e"
             ],
             [
              0.4444444444444444,
              "#bd3786"
             ],
             [
              0.5555555555555556,
              "#d8576b"
             ],
             [
              0.6666666666666666,
              "#ed7953"
             ],
             [
              0.7777777777777778,
              "#fb9f3a"
             ],
             [
              0.8888888888888888,
              "#fdca26"
             ],
             [
              1,
              "#f0f921"
             ]
            ],
            "type": "contour"
           }
          ],
          "contourcarpet": [
           {
            "colorbar": {
             "outlinewidth": 0,
             "ticks": ""
            },
            "type": "contourcarpet"
           }
          ],
          "heatmap": [
           {
            "colorbar": {
             "outlinewidth": 0,
             "ticks": ""
            },
            "colorscale": [
             [
              0,
              "#0d0887"
             ],
             [
              0.1111111111111111,
              "#46039f"
             ],
             [
              0.2222222222222222,
              "#7201a8"
             ],
             [
              0.3333333333333333,
              "#9c179e"
             ],
             [
              0.4444444444444444,
              "#bd3786"
             ],
             [
              0.5555555555555556,
              "#d8576b"
             ],
             [
              0.6666666666666666,
              "#ed7953"
             ],
             [
              0.7777777777777778,
              "#fb9f3a"
             ],
             [
              0.8888888888888888,
              "#fdca26"
             ],
             [
              1,
              "#f0f921"
             ]
            ],
            "type": "heatmap"
           }
          ],
          "heatmapgl": [
           {
            "colorbar": {
             "outlinewidth": 0,
             "ticks": ""
            },
            "colorscale": [
             [
              0,
              "#0d0887"
             ],
             [
              0.1111111111111111,
              "#46039f"
             ],
             [
              0.2222222222222222,
              "#7201a8"
             ],
             [
              0.3333333333333333,
              "#9c179e"
             ],
             [
              0.4444444444444444,
              "#bd3786"
             ],
             [
              0.5555555555555556,
              "#d8576b"
             ],
             [
              0.6666666666666666,
              "#ed7953"
             ],
             [
              0.7777777777777778,
              "#fb9f3a"
             ],
             [
              0.8888888888888888,
              "#fdca26"
             ],
             [
              1,
              "#f0f921"
             ]
            ],
            "type": "heatmapgl"
           }
          ],
          "histogram": [
           {
            "marker": {
             "pattern": {
              "fillmode": "overlay",
              "size": 10,
              "solidity": 0.2
             }
            },
            "type": "histogram"
           }
          ],
          "histogram2d": [
           {
            "colorbar": {
             "outlinewidth": 0,
             "ticks": ""
            },
            "colorscale": [
             [
              0,
              "#0d0887"
             ],
             [
              0.1111111111111111,
              "#46039f"
             ],
             [
              0.2222222222222222,
              "#7201a8"
             ],
             [
              0.3333333333333333,
              "#9c179e"
             ],
             [
              0.4444444444444444,
              "#bd3786"
             ],
             [
              0.5555555555555556,
              "#d8576b"
             ],
             [
              0.6666666666666666,
              "#ed7953"
             ],
             [
              0.7777777777777778,
              "#fb9f3a"
             ],
             [
              0.8888888888888888,
              "#fdca26"
             ],
             [
              1,
              "#f0f921"
             ]
            ],
            "type": "histogram2d"
           }
          ],
          "histogram2dcontour": [
           {
            "colorbar": {
             "outlinewidth": 0,
             "ticks": ""
            },
            "colorscale": [
             [
              0,
              "#0d0887"
             ],
             [
              0.1111111111111111,
              "#46039f"
             ],
             [
              0.2222222222222222,
              "#7201a8"
             ],
             [
              0.3333333333333333,
              "#9c179e"
             ],
             [
              0.4444444444444444,
              "#bd3786"
             ],
             [
              0.5555555555555556,
              "#d8576b"
             ],
             [
              0.6666666666666666,
              "#ed7953"
             ],
             [
              0.7777777777777778,
              "#fb9f3a"
             ],
             [
              0.8888888888888888,
              "#fdca26"
             ],
             [
              1,
              "#f0f921"
             ]
            ],
            "type": "histogram2dcontour"
           }
          ],
          "mesh3d": [
           {
            "colorbar": {
             "outlinewidth": 0,
             "ticks": ""
            },
            "type": "mesh3d"
           }
          ],
          "parcoords": [
           {
            "line": {
             "colorbar": {
              "outlinewidth": 0,
              "ticks": ""
             }
            },
            "type": "parcoords"
           }
          ],
          "pie": [
           {
            "automargin": true,
            "type": "pie"
           }
          ],
          "scatter": [
           {
            "marker": {
             "colorbar": {
              "outlinewidth": 0,
              "ticks": ""
             }
            },
            "type": "scatter"
           }
          ],
          "scatter3d": [
           {
            "line": {
             "colorbar": {
              "outlinewidth": 0,
              "ticks": ""
             }
            },
            "marker": {
             "colorbar": {
              "outlinewidth": 0,
              "ticks": ""
             }
            },
            "type": "scatter3d"
           }
          ],
          "scattercarpet": [
           {
            "marker": {
             "colorbar": {
              "outlinewidth": 0,
              "ticks": ""
             }
            },
            "type": "scattercarpet"
           }
          ],
          "scattergeo": [
           {
            "marker": {
             "colorbar": {
              "outlinewidth": 0,
              "ticks": ""
             }
            },
            "type": "scattergeo"
           }
          ],
          "scattergl": [
           {
            "marker": {
             "colorbar": {
              "outlinewidth": 0,
              "ticks": ""
             }
            },
            "type": "scattergl"
           }
          ],
          "scattermapbox": [
           {
            "marker": {
             "colorbar": {
              "outlinewidth": 0,
              "ticks": ""
             }
            },
            "type": "scattermapbox"
           }
          ],
          "scatterpolar": [
           {
            "marker": {
             "colorbar": {
              "outlinewidth": 0,
              "ticks": ""
             }
            },
            "type": "scatterpolar"
           }
          ],
          "scatterpolargl": [
           {
            "marker": {
             "colorbar": {
              "outlinewidth": 0,
              "ticks": ""
             }
            },
            "type": "scatterpolargl"
           }
          ],
          "scatterternary": [
           {
            "marker": {
             "colorbar": {
              "outlinewidth": 0,
              "ticks": ""
             }
            },
            "type": "scatterternary"
           }
          ],
          "surface": [
           {
            "colorbar": {
             "outlinewidth": 0,
             "ticks": ""
            },
            "colorscale": [
             [
              0,
              "#0d0887"
             ],
             [
              0.1111111111111111,
              "#46039f"
             ],
             [
              0.2222222222222222,
              "#7201a8"
             ],
             [
              0.3333333333333333,
              "#9c179e"
             ],
             [
              0.4444444444444444,
              "#bd3786"
             ],
             [
              0.5555555555555556,
              "#d8576b"
             ],
             [
              0.6666666666666666,
              "#ed7953"
             ],
             [
              0.7777777777777778,
              "#fb9f3a"
             ],
             [
              0.8888888888888888,
              "#fdca26"
             ],
             [
              1,
              "#f0f921"
             ]
            ],
            "type": "surface"
           }
          ],
          "table": [
           {
            "cells": {
             "fill": {
              "color": "#EBF0F8"
             },
             "line": {
              "color": "white"
             }
            },
            "header": {
             "fill": {
              "color": "#C8D4E3"
             },
             "line": {
              "color": "white"
             }
            },
            "type": "table"
           }
          ]
         },
         "layout": {
          "annotationdefaults": {
           "arrowcolor": "#2a3f5f",
           "arrowhead": 0,
           "arrowwidth": 1
          },
          "autotypenumbers": "strict",
          "coloraxis": {
           "colorbar": {
            "outlinewidth": 0,
            "ticks": ""
           }
          },
          "colorscale": {
           "diverging": [
            [
             0,
             "#8e0152"
            ],
            [
             0.1,
             "#c51b7d"
            ],
            [
             0.2,
             "#de77ae"
            ],
            [
             0.3,
             "#f1b6da"
            ],
            [
             0.4,
             "#fde0ef"
            ],
            [
             0.5,
             "#f7f7f7"
            ],
            [
             0.6,
             "#e6f5d0"
            ],
            [
             0.7,
             "#b8e186"
            ],
            [
             0.8,
             "#7fbc41"
            ],
            [
             0.9,
             "#4d9221"
            ],
            [
             1,
             "#276419"
            ]
           ],
           "sequential": [
            [
             0,
             "#0d0887"
            ],
            [
             0.1111111111111111,
             "#46039f"
            ],
            [
             0.2222222222222222,
             "#7201a8"
            ],
            [
             0.3333333333333333,
             "#9c179e"
            ],
            [
             0.4444444444444444,
             "#bd3786"
            ],
            [
             0.5555555555555556,
             "#d8576b"
            ],
            [
             0.6666666666666666,
             "#ed7953"
            ],
            [
             0.7777777777777778,
             "#fb9f3a"
            ],
            [
             0.8888888888888888,
             "#fdca26"
            ],
            [
             1,
             "#f0f921"
            ]
           ],
           "sequentialminus": [
            [
             0,
             "#0d0887"
            ],
            [
             0.1111111111111111,
             "#46039f"
            ],
            [
             0.2222222222222222,
             "#7201a8"
            ],
            [
             0.3333333333333333,
             "#9c179e"
            ],
            [
             0.4444444444444444,
             "#bd3786"
            ],
            [
             0.5555555555555556,
             "#d8576b"
            ],
            [
             0.6666666666666666,
             "#ed7953"
            ],
            [
             0.7777777777777778,
             "#fb9f3a"
            ],
            [
             0.8888888888888888,
             "#fdca26"
            ],
            [
             1,
             "#f0f921"
            ]
           ]
          },
          "colorway": [
           "#636efa",
           "#EF553B",
           "#00cc96",
           "#ab63fa",
           "#FFA15A",
           "#19d3f3",
           "#FF6692",
           "#B6E880",
           "#FF97FF",
           "#FECB52"
          ],
          "font": {
           "color": "#2a3f5f"
          },
          "geo": {
           "bgcolor": "white",
           "lakecolor": "white",
           "landcolor": "#E5ECF6",
           "showlakes": true,
           "showland": true,
           "subunitcolor": "white"
          },
          "hoverlabel": {
           "align": "left"
          },
          "hovermode": "closest",
          "mapbox": {
           "style": "light"
          },
          "paper_bgcolor": "white",
          "plot_bgcolor": "#E5ECF6",
          "polar": {
           "angularaxis": {
            "gridcolor": "white",
            "linecolor": "white",
            "ticks": ""
           },
           "bgcolor": "#E5ECF6",
           "radialaxis": {
            "gridcolor": "white",
            "linecolor": "white",
            "ticks": ""
           }
          },
          "scene": {
           "xaxis": {
            "backgroundcolor": "#E5ECF6",
            "gridcolor": "white",
            "gridwidth": 2,
            "linecolor": "white",
            "showbackground": true,
            "ticks": "",
            "zerolinecolor": "white"
           },
           "yaxis": {
            "backgroundcolor": "#E5ECF6",
            "gridcolor": "white",
            "gridwidth": 2,
            "linecolor": "white",
            "showbackground": true,
            "ticks": "",
            "zerolinecolor": "white"
           },
           "zaxis": {
            "backgroundcolor": "#E5ECF6",
            "gridcolor": "white",
            "gridwidth": 2,
            "linecolor": "white",
            "showbackground": true,
            "ticks": "",
            "zerolinecolor": "white"
           }
          },
          "shapedefaults": {
           "line": {
            "color": "#2a3f5f"
           }
          },
          "ternary": {
           "aaxis": {
            "gridcolor": "white",
            "linecolor": "white",
            "ticks": ""
           },
           "baxis": {
            "gridcolor": "white",
            "linecolor": "white",
            "ticks": ""
           },
           "bgcolor": "#E5ECF6",
           "caxis": {
            "gridcolor": "white",
            "linecolor": "white",
            "ticks": ""
           }
          },
          "title": {
           "x": 0.05
          },
          "xaxis": {
           "automargin": true,
           "gridcolor": "white",
           "linecolor": "white",
           "ticks": "",
           "title": {
            "standoff": 15
           },
           "zerolinecolor": "white",
           "zerolinewidth": 2
          },
          "yaxis": {
           "automargin": true,
           "gridcolor": "white",
           "linecolor": "white",
           "ticks": "",
           "title": {
            "standoff": 15
           },
           "zerolinecolor": "white",
           "zerolinewidth": 2
          }
         }
        },
        "title": {
         "text": "Simulation 1: Yearly Virgin Material Demand",
         "x": 0.5
        },
        "xaxis": {
         "anchor": "y",
         "domain": [
          0,
          1
         ],
         "title": {
          "text": "Year"
         }
        },
        "yaxis": {
         "anchor": "x",
         "domain": [
          0,
          1
         ],
         "title": {
          "text": "Virgin Material Demand in metric tonnes"
         }
        }
       }
      },
      "text/html": [
       "<div>                            <div id=\"f1840df9-314a-424b-a959-b80ef92ed0ec\" class=\"plotly-graph-div\" style=\"height:525px; width:100%;\"></div>            <script type=\"text/javascript\">                require([\"plotly\"], function(Plotly) {                    window.PLOTLYENV=window.PLOTLYENV || {};                                    if (document.getElementById(\"f1840df9-314a-424b-a959-b80ef92ed0ec\")) {                    Plotly.newPlot(                        \"f1840df9-314a-424b-a959-b80ef92ed0ec\",                        [{\"hovertemplate\":\"Scenario=PV ICE Baseline<br>Year=%{x}<br>Virgin Material Demand in metric tonnes=%{y}<extra></extra>\",\"legendgroup\":\"PV ICE Baseline\",\"line\":{\"color\":\"#636efa\",\"dash\":\"solid\"},\"mode\":\"lines\",\"name\":\"PV ICE Baseline\",\"orientation\":\"v\",\"showlegend\":true,\"type\":\"scatter\",\"x\":[1995,1996,1997,1998,1999,2000,2001,2002,2003,2004,2005,2006,2007,2008,2009,2010,2011,2012,2013,2014,2015,2016,2017,2018,2019,2020,2021,2022,2023,2024,2025,2026,2027,2028,2029,2030,2031,2032,2033,2034,2035,2036,2037,2038,2039,2040,2041,2042,2043,2044,2045,2046,2047,2048,2049,2050],\"xaxis\":\"x\",\"y\":[1356.206387762062,1023.802500570033,1181.1306732375513,1162.768674055309,1631.7780481408333,1976.4502085614242,2590.8527403900757,3872.649973502229,5371.341445517822,8389.138612806155,8358.869588778043,8395.238712845054,27389.048230027325,26249.13553952561,35549.28974351896,56253.33766102001,135178.52676122313,229936.20582363196,284358.6628307348,259444.40232544125,448504.94311811676,806108.088921907,605136.7028316674,554223.4490494978,633697.4989966513,873690.6431107315,912061.7124112773,821339.6609549704,804701.9768147675,854770.7029115651,908281.1991453671,989162.568213533,1079434.1547308124,1179200.4793539646,1291370.567975547,1415774.5904997129,1556242.8046515542,1684722.609509715,1824832.4946622956,1977045.1484240454,2142788.2142325966,2323472.260077906,2519093.8852999415,2733040.9350355524,2965043.0365774487,3217154.7211325457,3491923.918917242,3790420.8859309056,4114971.008854633,4468036.62907915,4852244.6030840855,5269564.105258427,5723474.2656871155,6216872.000697828,6753362.173551876,7336763.192571954],\"yaxis\":\"y\"},{\"hovertemplate\":\"Scenario=Landfill Ban<br>Year=%{x}<br>Virgin Material Demand in metric tonnes=%{y}<extra></extra>\",\"legendgroup\":\"Landfill Ban\",\"line\":{\"color\":\"#EF553B\",\"dash\":\"solid\"},\"mode\":\"lines\",\"name\":\"Landfill Ban\",\"orientation\":\"v\",\"showlegend\":true,\"type\":\"scatter\",\"x\":[1995,1996,1997,1998,1999,2000,2001,2002,2003,2004,2005,2006,2007,2008,2009,2010,2011,2012,2013,2014,2015,2016,2017,2018,2019,2020,2021,2022,2023,2024,2025,2026,2027,2028,2029,2030,2031,2032,2033,2034,2035,2036,2037,2038,2039,2040,2041,2042,2043,2044,2045,2046,2047,2048,2049,2050],\"xaxis\":\"x\",\"y\":[1356.206387762062,1023.802500570033,1181.1306732375513,1162.768674055309,1631.7780481408333,1976.4502085614242,2590.8527403900757,3872.649973502229,5371.341445517822,8389.138612806155,8358.869588778043,8395.238712845054,27389.048230027325,26249.13553952561,35549.28974351896,56253.33766102001,135178.52676122313,229936.20582363196,284358.6628307348,259444.40232544125,448504.94311811676,806108.088921907,605136.7028316674,554223.4490494978,633697.4989966513,873690.6431107315,912061.7124112773,821387.3703487432,804756.308181066,854833.287164891,908353.0211293518,989250.801816478,1079539.3904069185,1179340.032425794,1291553.2389282167,1416053.7265734663,1556515.9207655864,1685159.3250578956,1825233.5065114936,1977659.0277325807,2143505.295537382,2323963.817309872,2520011.685273708,2733558.0606362647,2965578.887569351,3217746.419740294,3492308.866981699,3790727.6323920945,4115124.1841605543,4468028.137758731,4852115.888812399,5269306.517381128,5723117.954214483,6216367.279578756,6752656.4590464635,7335830.459941074],\"yaxis\":\"y\"},{\"hovertemplate\":\"Scenario=High material recovery and Lower recycling costs<br>Year=%{x}<br>Virgin Material Demand in metric tonnes=%{y}<extra></extra>\",\"legendgroup\":\"High material recovery and Lower recycling costs\",\"line\":{\"color\":\"#00cc96\",\"dash\":\"solid\"},\"mode\":\"lines\",\"name\":\"High material recovery and Lower recycling costs\",\"orientation\":\"v\",\"showlegend\":true,\"type\":\"scatter\",\"x\":[1995,1996,1997,1998,1999,2000,2001,2002,2003,2004,2005,2006,2007,2008,2009,2010,2011,2012,2013,2014,2015,2016,2017,2018,2019,2020,2021,2022,2023,2024,2025,2026,2027,2028,2029,2030,2031,2032,2033,2034,2035,2036,2037,2038,2039,2040,2041,2042,2043,2044,2045,2046,2047,2048,2049,2050],\"xaxis\":\"x\",\"y\":[1356.206387762062,1023.802500570033,1181.1306732375513,1162.768674055309,1631.7780481408333,1976.4502085614242,2590.8527403900757,3872.649973502229,5371.341445517822,8389.138612806155,8358.869588778043,8395.238712845054,27389.048230027325,26249.13553952561,35549.28974351896,56253.33766102001,135178.52676122313,229936.20582363196,284358.6628307348,259444.40232544125,448504.94311811676,806108.088921907,605136.7028316674,554223.4490494978,633697.4989966513,873690.6431107315,912061.7124112773,821387.3046203553,804756.2677352808,854833.2581165598,908352.1204579329,989246.9120112329,1079531.5421883904,1179326.2389255743,1291532.4337987227,1416016.4208016999,1556470.9446909914,1685036.8283653616,1825058.490922192,1977235.4930861455,2142678.403092038,2323021.5289659533,2517296.7556602997,2731165.7170363544,2962039.6381046674,3212163.460222263,3486900.221771446,3784556.415123563,4108072.7000544723,4460878.42731755,4846568.864063403,5263141.690205345,5717025.972688323,6209329.514699685,6744420.79825721,7326352.982884198],\"yaxis\":\"y\"},{\"hovertemplate\":\"Scenario=Lower recycling costs<br>Year=%{x}<br>Virgin Material Demand in metric tonnes=%{y}<extra></extra>\",\"legendgroup\":\"Lower recycling costs\",\"line\":{\"color\":\"#ab63fa\",\"dash\":\"solid\"},\"mode\":\"lines\",\"name\":\"Lower recycling costs\",\"orientation\":\"v\",\"showlegend\":true,\"type\":\"scatter\",\"x\":[1995,1996,1997,1998,1999,2000,2001,2002,2003,2004,2005,2006,2007,2008,2009,2010,2011,2012,2013,2014,2015,2016,2017,2018,2019,2020,2021,2022,2023,2024,2025,2026,2027,2028,2029,2030,2031,2032,2033,2034,2035,2036,2037,2038,2039,2040,2041,2042,2043,2044,2045,2046,2047,2048,2049,2050],\"xaxis\":\"x\",\"y\":[1356.206387762062,1023.802500570033,1181.1306732375513,1162.768674055309,1631.7780481408333,1976.4502085614242,2590.8527403900757,3872.649973502229,5371.341445517822,8389.138612806155,8358.869588778043,8395.238712845054,27389.048230027325,26249.13553952561,35549.28974351896,56253.33766102001,135178.52676122313,229936.20582363196,284358.6628307348,259444.40232544125,448504.94311811676,806108.088921907,605136.7028316674,554223.4490494978,633697.4989966513,873690.6431107315,912061.7124112773,821387.3703495316,804756.308182257,854833.2871690615,908353.0497001548,989251.0246776914,1079539.6891094346,1179340.6134322227,1291554.748226615,1416056.9927380916,1556521.075719252,1685174.2400280172,1825254.4173455448,1977714.8397796305,2143608.2806418836,2324083.3007486137,2520384.781697527,2733890.7269682367,2966079.589108692,3218575.678845936,3493148.2502117455,3791715.0461365865,4116369.605828763,4469389.244003052,4853251.979477145,5270650.969818821,5724521.695072837,6218055.10620441,6754724.492952068,7338308.339302637],\"yaxis\":\"y\"},{\"hovertemplate\":\"Scenario=Higher landfill costs<br>Year=%{x}<br>Virgin Material Demand in metric tonnes=%{y}<extra></extra>\",\"legendgroup\":\"Higher landfill costs\",\"line\":{\"color\":\"#FFA15A\",\"dash\":\"solid\"},\"mode\":\"lines\",\"name\":\"Higher landfill costs\",\"orientation\":\"v\",\"showlegend\":true,\"type\":\"scatter\",\"x\":[1995,1996,1997,1998,1999,2000,2001,2002,2003,2004,2005,2006,2007,2008,2009,2010,2011,2012,2013,2014,2015,2016,2017,2018,2019,2020,2021,2022,2023,2024,2025,2026,2027,2028,2029,2030,2031,2032,2033,2034,2035,2036,2037,2038,2039,2040,2041,2042,2043,2044,2045,2046,2047,2048,2049,2050],\"xaxis\":\"x\",\"y\":[1356.206387762062,1023.802500570033,1181.1306732375513,1162.768674055309,1631.7780481408333,1976.4502085614242,2590.8527403900757,3872.649973502229,5371.341445517822,8389.138612806155,8358.869588778043,8395.238712845054,27389.048230027325,26249.13553952561,35549.28974351896,56253.33766102001,135178.52676122313,229936.20582363196,284358.6628307348,259444.40232544125,448504.94311811676,806108.088921907,605136.7028316674,554223.4490494978,633697.4989966513,873690.6431107315,912061.7124112773,821387.3041090416,804756.2586003604,854833.2471720806,908353.2935337736,989251.0259142693,1079539.398795615,1179340.4757364246,1291554.0746304393,1416055.4944151696,1556518.7747895326,1685169.150211591,1825246.5958606554,1977693.2804447701,2143570.130701987,2324043.0205096076,2520266.7067380934,2733792.622278818,2965938.1111084702,3218357.1646147557,3492940.3668188914,3791492.9216129505,4116120.666900545,4469147.667888587,4853075.606636367,5270464.182493596,5724346.923557872,6217863.962338511,6754511.143130854,7338075.00823779],\"yaxis\":\"y\"},{\"hovertemplate\":\"Scenario=Improved lifetime<br>Year=%{x}<br>Virgin Material Demand in metric tonnes=%{y}<extra></extra>\",\"legendgroup\":\"Improved lifetime\",\"line\":{\"color\":\"#19d3f3\",\"dash\":\"solid\"},\"mode\":\"lines\",\"name\":\"Improved lifetime\",\"orientation\":\"v\",\"showlegend\":true,\"type\":\"scatter\",\"x\":[1995,1996,1997,1998,1999,2000,2001,2002,2003,2004,2005,2006,2007,2008,2009,2010,2011,2012,2013,2014,2015,2016,2017,2018,2019,2020,2021,2022,2023,2024,2025,2026,2027,2028,2029,2030,2031,2032,2033,2034,2035,2036,2037,2038,2039,2040,2041,2042,2043,2044,2045,2046,2047,2048,2049,2050],\"xaxis\":\"x\",\"y\":[1356.206387762062,1023.802500570033,1181.1306732375513,1162.768674055309,1631.7780481408333,1976.4502085614242,2590.8527365582627,3872.649848250022,5371.340449504547,8389.13419033574,8358.85544661485,8395.202247510557,27388.96797548319,26248.980283073022,35549.02191318937,56252.92516085592,135177.96850296322,229935.57560995818,284358.1720004295,259444.47019624486,448502.6512628752,806112.8652293726,605139.876348196,554236.3222997646,633707.7080469523,873713.4912922407,912078.6122069594,821387.3816809877,804756.3035818165,854833.2912998615,908353.1656309775,989251.3533146052,1079539.7888549487,1179341.1476305353,1291554.4523367265,1416056.4406161348,1556520.2294364015,1685168.8304793132,1825243.8911786187,1977675.2435764936,2143539.230910345,2323823.9034840893,2520107.519445796,2732922.693829829,2965376.992227687,3216585.572267145,3491680.7638559663,3788478.491432518,4113576.827874315,4462812.627621246,4848915.785771072,5259561.158883535,5713688.393736592,6213631.599681825,6742660.012071414,7332657.450944061],\"yaxis\":\"y\"},{\"hovertemplate\":\"Scenario=Improved learning effect<br>Year=%{x}<br>Virgin Material Demand in metric tonnes=%{y}<extra></extra>\",\"legendgroup\":\"Improved learning effect\",\"line\":{\"color\":\"#FF6692\",\"dash\":\"solid\"},\"mode\":\"lines\",\"name\":\"Improved learning effect\",\"orientation\":\"v\",\"showlegend\":true,\"type\":\"scatter\",\"x\":[1995,1996,1997,1998,1999,2000,2001,2002,2003,2004,2005,2006,2007,2008,2009,2010,2011,2012,2013,2014,2015,2016,2017,2018,2019,2020,2021,2022,2023,2024,2025,2026,2027,2028,2029,2030,2031,2032,2033,2034,2035,2036,2037,2038,2039,2040,2041,2042,2043,2044,2045,2046,2047,2048,2049,2050],\"xaxis\":\"x\",\"y\":[1356.206387762062,1023.802500570033,1181.1306732375513,1162.768674055309,1631.7780481408333,1976.4502085614242,2590.8527403900757,3872.649973502229,5371.341445517822,8389.138612806155,8358.869588778043,8395.238712845054,27389.048230027325,26249.13553952561,35549.28974351896,56253.33766102001,135178.52676122313,229936.20582363196,284358.6628307348,259444.40232544125,448504.94311811676,806108.088921907,605136.7028316674,554223.4490494978,633697.4989966513,873690.6431107315,912061.7124112773,821377.2662251119,804725.7897228255,854750.6173541271,908172.5064657192,988913.8715629334,1079049.7091885407,1178652.041231788,1290647.6576826232,1414668.6992285259,1554994.3645198047,1682453.836904811,1822455.5020334055,1972650.8048395622,2136173.5396205736,2317522.560585986,2505502.9693670743,2722987.6105682603,2952145.8640008997,3198877.836720506,3475515.989782917,3772706.319662635,4095488.2651520995,4448907.195481474,4837711.413754065,5253777.824242974,5708114.332922693,6199408.884375109,6733099.97258793,7313655.0008283835],\"yaxis\":\"y\"},{\"hovertemplate\":\"Scenario=Reuse warranties<br>Year=%{x}<br>Virgin Material Demand in metric tonnes=%{y}<extra></extra>\",\"legendgroup\":\"Reuse warranties\",\"line\":{\"color\":\"#B6E880\",\"dash\":\"solid\"},\"mode\":\"lines\",\"name\":\"Reuse warranties\",\"orientation\":\"v\",\"showlegend\":true,\"type\":\"scatter\",\"x\":[1995,1996,1997,1998,1999,2000,2001,2002,2003,2004,2005,2006,2007,2008,2009,2010,2011,2012,2013,2014,2015,2016,2017,2018,2019,2020,2021,2022,2023,2024,2025,2026,2027,2028,2029,2030,2031,2032,2033,2034,2035,2036,2037,2038,2039,2040,2041,2042,2043,2044,2045,2046,2047,2048,2049,2050],\"xaxis\":\"x\",\"y\":[1356.206387762062,1023.802500570033,1181.1306732375513,1162.768674055309,1631.7780481408333,1976.4502085614242,2590.8527403900757,3872.649973502229,5371.341445517822,8389.138612806155,8358.869588778043,8395.238712845054,27389.048230027325,26249.13553952561,35549.28974351896,56253.33766102001,135178.52676122313,229936.20582363196,284358.6628307348,259444.40232544125,448504.94311811676,806108.088921907,605136.7028316674,554223.4490494978,633697.4989966513,873690.6431107315,912061.7124112773,821387.2593761671,804756.2399287398,854833.2379257759,908351.5158560034,989244.698151059,1079527.3922926101,1179319.044943783,1291521.5663509115,1415996.9510456598,1556447.3712716682,1684973.6649565182,1824969.2646892737,1977019.8994459708,2142264.1498460593,2322553.1145717613,2515928.158883069,2729971.1966061904,2960289.546225578,3209391.2165538627,3484230.5412130523,3781517.711541369,4104565.0571275065,4457277.556583228,4843749.344740843,5259999.339249095,5713879.515593159,6205700.888458852,6740135.300242547,7321374.086083587],\"yaxis\":\"y\"},{\"hovertemplate\":\"Scenario=Seeding reuse<br>Year=%{x}<br>Virgin Material Demand in metric tonnes=%{y}<extra></extra>\",\"legendgroup\":\"Seeding reuse\",\"line\":{\"color\":\"#FF97FF\",\"dash\":\"solid\"},\"mode\":\"lines\",\"name\":\"Seeding reuse\",\"orientation\":\"v\",\"showlegend\":true,\"type\":\"scatter\",\"x\":[1995,1996,1997,1998,1999,2000,2001,2002,2003,2004,2005,2006,2007,2008,2009,2010,2011,2012,2013,2014,2015,2016,2017,2018,2019,2020,2021,2022,2023,2024,2025,2026,2027,2028,2029,2030,2031,2032,2033,2034,2035,2036,2037,2038,2039,2040,2041,2042,2043,2044,2045,2046,2047,2048,2049,2050],\"xaxis\":\"x\",\"y\":[1356.206387762062,1023.802500570033,1181.1306732375513,1162.768674055309,1631.7780481408333,1976.4502085614242,2590.8527403900757,3872.649973502229,5371.341445517822,8389.138612806155,8358.869588778043,8395.238712845054,27389.048230027325,26249.13553952561,35549.28974351896,56253.33766102001,135178.52676122313,229936.20582363196,284358.6628307348,259444.40232544125,448504.94311811676,806108.088921907,605136.7028316674,554223.4490494978,633697.4989966513,873690.6431107315,912061.7124112773,821387.3703487432,804756.308181066,854833.287164891,908353.0211293518,989250.7034970878,1079538.9276210489,1179339.0221899676,1291551.67803493,1416049.6976115967,1556509.9733947937,1685139.080432826,1825202.2828213666,1977586.1958230531,2143361.0363216703,2323808.441748342,2519576.0698852097,2733168.597437779,2964965.861196222,3216643.357409264,3491142.035996605,3789250.5253630434,4113237.0198618537,4465905.409523081,4850376.877499399,5267259.415350689,5720993.500195043,6213802.404661916,6749545.369991444,7332111.489202951],\"yaxis\":\"y\"},{\"hovertemplate\":\"Scenario=ABM Baseline<br>Year=%{x}<br>Virgin Material Demand in metric tonnes=%{y}<extra></extra>\",\"legendgroup\":\"ABM Baseline\",\"line\":{\"color\":\"#FECB52\",\"dash\":\"solid\"},\"mode\":\"lines\",\"name\":\"ABM Baseline\",\"orientation\":\"v\",\"showlegend\":true,\"type\":\"scatter\",\"x\":[1995,1996,1997,1998,1999,2000,2001,2002,2003,2004,2005,2006,2007,2008,2009,2010,2011,2012,2013,2014,2015,2016,2017,2018,2019,2020,2021,2022,2023,2024,2025,2026,2027,2028,2029,2030,2031,2032,2033,2034,2035,2036,2037,2038,2039,2040,2041,2042,2043,2044,2045,2046,2047,2048,2049,2050],\"xaxis\":\"x\",\"y\":[1356.206387762062,1023.802500570033,1181.1306732375513,1162.768674055309,1631.7780481408333,1976.4502085614242,2590.8527403900757,3872.649973502229,5371.341445517822,8389.138612806155,8358.869588778043,8395.238712845054,27389.048230027325,26249.13553952561,35549.28974351896,56253.33766102001,135178.52676122313,229936.20582363196,284358.6628307348,259444.40232544125,448504.94311811676,806108.088921907,605136.7028316674,554223.4490494978,633697.4989966513,873690.6431107315,912061.7124112773,821387.3703487432,804756.308181066,854833.287164891,908353.0211293518,989250.7351804223,1079539.3696526694,1179340.134993387,1291553.1966794843,1416053.649002398,1556516.292140829,1685163.3944754016,1825240.4237645885,1977687.5339644193,2143562.293174064,2324033.2870739643,2520235.0726093864,2733752.403706766,2965872.048945364,3218242.4113319316,3492801.4312087246,3791305.7685005865,4115841.9970069514,4468779.887422895,4852711.319938045,5269978.95161917,5723775.699915696,6217111.969324406,6753518.084613055,7336782.305690419],\"yaxis\":\"y\"}],                        {\"legend\":{\"title\":{\"text\":\"Scenario\"},\"tracegroupgap\":0},\"margin\":{\"t\":60},\"template\":{\"data\":{\"bar\":[{\"error_x\":{\"color\":\"#2a3f5f\"},\"error_y\":{\"color\":\"#2a3f5f\"},\"marker\":{\"line\":{\"color\":\"#E5ECF6\",\"width\":0.5},\"pattern\":{\"fillmode\":\"overlay\",\"size\":10,\"solidity\":0.2}},\"type\":\"bar\"}],\"barpolar\":[{\"marker\":{\"line\":{\"color\":\"#E5ECF6\",\"width\":0.5},\"pattern\":{\"fillmode\":\"overlay\",\"size\":10,\"solidity\":0.2}},\"type\":\"barpolar\"}],\"carpet\":[{\"aaxis\":{\"endlinecolor\":\"#2a3f5f\",\"gridcolor\":\"white\",\"linecolor\":\"white\",\"minorgridcolor\":\"white\",\"startlinecolor\":\"#2a3f5f\"},\"baxis\":{\"endlinecolor\":\"#2a3f5f\",\"gridcolor\":\"white\",\"linecolor\":\"white\",\"minorgridcolor\":\"white\",\"startlinecolor\":\"#2a3f5f\"},\"type\":\"carpet\"}],\"choropleth\":[{\"colorbar\":{\"outlinewidth\":0,\"ticks\":\"\"},\"type\":\"choropleth\"}],\"contour\":[{\"colorbar\":{\"outlinewidth\":0,\"ticks\":\"\"},\"colorscale\":[[0.0,\"#0d0887\"],[0.1111111111111111,\"#46039f\"],[0.2222222222222222,\"#7201a8\"],[0.3333333333333333,\"#9c179e\"],[0.4444444444444444,\"#bd3786\"],[0.5555555555555556,\"#d8576b\"],[0.6666666666666666,\"#ed7953\"],[0.7777777777777778,\"#fb9f3a\"],[0.8888888888888888,\"#fdca26\"],[1.0,\"#f0f921\"]],\"type\":\"contour\"}],\"contourcarpet\":[{\"colorbar\":{\"outlinewidth\":0,\"ticks\":\"\"},\"type\":\"contourcarpet\"}],\"heatmap\":[{\"colorbar\":{\"outlinewidth\":0,\"ticks\":\"\"},\"colorscale\":[[0.0,\"#0d0887\"],[0.1111111111111111,\"#46039f\"],[0.2222222222222222,\"#7201a8\"],[0.3333333333333333,\"#9c179e\"],[0.4444444444444444,\"#bd3786\"],[0.5555555555555556,\"#d8576b\"],[0.6666666666666666,\"#ed7953\"],[0.7777777777777778,\"#fb9f3a\"],[0.8888888888888888,\"#fdca26\"],[1.0,\"#f0f921\"]],\"type\":\"heatmap\"}],\"heatmapgl\":[{\"colorbar\":{\"outlinewidth\":0,\"ticks\":\"\"},\"colorscale\":[[0.0,\"#0d0887\"],[0.1111111111111111,\"#46039f\"],[0.2222222222222222,\"#7201a8\"],[0.3333333333333333,\"#9c179e\"],[0.4444444444444444,\"#bd3786\"],[0.5555555555555556,\"#d8576b\"],[0.6666666666666666,\"#ed7953\"],[0.7777777777777778,\"#fb9f3a\"],[0.8888888888888888,\"#fdca26\"],[1.0,\"#f0f921\"]],\"type\":\"heatmapgl\"}],\"histogram\":[{\"marker\":{\"pattern\":{\"fillmode\":\"overlay\",\"size\":10,\"solidity\":0.2}},\"type\":\"histogram\"}],\"histogram2d\":[{\"colorbar\":{\"outlinewidth\":0,\"ticks\":\"\"},\"colorscale\":[[0.0,\"#0d0887\"],[0.1111111111111111,\"#46039f\"],[0.2222222222222222,\"#7201a8\"],[0.3333333333333333,\"#9c179e\"],[0.4444444444444444,\"#bd3786\"],[0.5555555555555556,\"#d8576b\"],[0.6666666666666666,\"#ed7953\"],[0.7777777777777778,\"#fb9f3a\"],[0.8888888888888888,\"#fdca26\"],[1.0,\"#f0f921\"]],\"type\":\"histogram2d\"}],\"histogram2dcontour\":[{\"colorbar\":{\"outlinewidth\":0,\"ticks\":\"\"},\"colorscale\":[[0.0,\"#0d0887\"],[0.1111111111111111,\"#46039f\"],[0.2222222222222222,\"#7201a8\"],[0.3333333333333333,\"#9c179e\"],[0.4444444444444444,\"#bd3786\"],[0.5555555555555556,\"#d8576b\"],[0.6666666666666666,\"#ed7953\"],[0.7777777777777778,\"#fb9f3a\"],[0.8888888888888888,\"#fdca26\"],[1.0,\"#f0f921\"]],\"type\":\"histogram2dcontour\"}],\"mesh3d\":[{\"colorbar\":{\"outlinewidth\":0,\"ticks\":\"\"},\"type\":\"mesh3d\"}],\"parcoords\":[{\"line\":{\"colorbar\":{\"outlinewidth\":0,\"ticks\":\"\"}},\"type\":\"parcoords\"}],\"pie\":[{\"automargin\":true,\"type\":\"pie\"}],\"scatter\":[{\"marker\":{\"colorbar\":{\"outlinewidth\":0,\"ticks\":\"\"}},\"type\":\"scatter\"}],\"scatter3d\":[{\"line\":{\"colorbar\":{\"outlinewidth\":0,\"ticks\":\"\"}},\"marker\":{\"colorbar\":{\"outlinewidth\":0,\"ticks\":\"\"}},\"type\":\"scatter3d\"}],\"scattercarpet\":[{\"marker\":{\"colorbar\":{\"outlinewidth\":0,\"ticks\":\"\"}},\"type\":\"scattercarpet\"}],\"scattergeo\":[{\"marker\":{\"colorbar\":{\"outlinewidth\":0,\"ticks\":\"\"}},\"type\":\"scattergeo\"}],\"scattergl\":[{\"marker\":{\"colorbar\":{\"outlinewidth\":0,\"ticks\":\"\"}},\"type\":\"scattergl\"}],\"scattermapbox\":[{\"marker\":{\"colorbar\":{\"outlinewidth\":0,\"ticks\":\"\"}},\"type\":\"scattermapbox\"}],\"scatterpolar\":[{\"marker\":{\"colorbar\":{\"outlinewidth\":0,\"ticks\":\"\"}},\"type\":\"scatterpolar\"}],\"scatterpolargl\":[{\"marker\":{\"colorbar\":{\"outlinewidth\":0,\"ticks\":\"\"}},\"type\":\"scatterpolargl\"}],\"scatterternary\":[{\"marker\":{\"colorbar\":{\"outlinewidth\":0,\"ticks\":\"\"}},\"type\":\"scatterternary\"}],\"surface\":[{\"colorbar\":{\"outlinewidth\":0,\"ticks\":\"\"},\"colorscale\":[[0.0,\"#0d0887\"],[0.1111111111111111,\"#46039f\"],[0.2222222222222222,\"#7201a8\"],[0.3333333333333333,\"#9c179e\"],[0.4444444444444444,\"#bd3786\"],[0.5555555555555556,\"#d8576b\"],[0.6666666666666666,\"#ed7953\"],[0.7777777777777778,\"#fb9f3a\"],[0.8888888888888888,\"#fdca26\"],[1.0,\"#f0f921\"]],\"type\":\"surface\"}],\"table\":[{\"cells\":{\"fill\":{\"color\":\"#EBF0F8\"},\"line\":{\"color\":\"white\"}},\"header\":{\"fill\":{\"color\":\"#C8D4E3\"},\"line\":{\"color\":\"white\"}},\"type\":\"table\"}]},\"layout\":{\"annotationdefaults\":{\"arrowcolor\":\"#2a3f5f\",\"arrowhead\":0,\"arrowwidth\":1},\"autotypenumbers\":\"strict\",\"coloraxis\":{\"colorbar\":{\"outlinewidth\":0,\"ticks\":\"\"}},\"colorscale\":{\"diverging\":[[0,\"#8e0152\"],[0.1,\"#c51b7d\"],[0.2,\"#de77ae\"],[0.3,\"#f1b6da\"],[0.4,\"#fde0ef\"],[0.5,\"#f7f7f7\"],[0.6,\"#e6f5d0\"],[0.7,\"#b8e186\"],[0.8,\"#7fbc41\"],[0.9,\"#4d9221\"],[1,\"#276419\"]],\"sequential\":[[0.0,\"#0d0887\"],[0.1111111111111111,\"#46039f\"],[0.2222222222222222,\"#7201a8\"],[0.3333333333333333,\"#9c179e\"],[0.4444444444444444,\"#bd3786\"],[0.5555555555555556,\"#d8576b\"],[0.6666666666666666,\"#ed7953\"],[0.7777777777777778,\"#fb9f3a\"],[0.8888888888888888,\"#fdca26\"],[1.0,\"#f0f921\"]],\"sequentialminus\":[[0.0,\"#0d0887\"],[0.1111111111111111,\"#46039f\"],[0.2222222222222222,\"#7201a8\"],[0.3333333333333333,\"#9c179e\"],[0.4444444444444444,\"#bd3786\"],[0.5555555555555556,\"#d8576b\"],[0.6666666666666666,\"#ed7953\"],[0.7777777777777778,\"#fb9f3a\"],[0.8888888888888888,\"#fdca26\"],[1.0,\"#f0f921\"]]},\"colorway\":[\"#636efa\",\"#EF553B\",\"#00cc96\",\"#ab63fa\",\"#FFA15A\",\"#19d3f3\",\"#FF6692\",\"#B6E880\",\"#FF97FF\",\"#FECB52\"],\"font\":{\"color\":\"#2a3f5f\"},\"geo\":{\"bgcolor\":\"white\",\"lakecolor\":\"white\",\"landcolor\":\"#E5ECF6\",\"showlakes\":true,\"showland\":true,\"subunitcolor\":\"white\"},\"hoverlabel\":{\"align\":\"left\"},\"hovermode\":\"closest\",\"mapbox\":{\"style\":\"light\"},\"paper_bgcolor\":\"white\",\"plot_bgcolor\":\"#E5ECF6\",\"polar\":{\"angularaxis\":{\"gridcolor\":\"white\",\"linecolor\":\"white\",\"ticks\":\"\"},\"bgcolor\":\"#E5ECF6\",\"radialaxis\":{\"gridcolor\":\"white\",\"linecolor\":\"white\",\"ticks\":\"\"}},\"scene\":{\"xaxis\":{\"backgroundcolor\":\"#E5ECF6\",\"gridcolor\":\"white\",\"gridwidth\":2,\"linecolor\":\"white\",\"showbackground\":true,\"ticks\":\"\",\"zerolinecolor\":\"white\"},\"yaxis\":{\"backgroundcolor\":\"#E5ECF6\",\"gridcolor\":\"white\",\"gridwidth\":2,\"linecolor\":\"white\",\"showbackground\":true,\"ticks\":\"\",\"zerolinecolor\":\"white\"},\"zaxis\":{\"backgroundcolor\":\"#E5ECF6\",\"gridcolor\":\"white\",\"gridwidth\":2,\"linecolor\":\"white\",\"showbackground\":true,\"ticks\":\"\",\"zerolinecolor\":\"white\"}},\"shapedefaults\":{\"line\":{\"color\":\"#2a3f5f\"}},\"ternary\":{\"aaxis\":{\"gridcolor\":\"white\",\"linecolor\":\"white\",\"ticks\":\"\"},\"baxis\":{\"gridcolor\":\"white\",\"linecolor\":\"white\",\"ticks\":\"\"},\"bgcolor\":\"#E5ECF6\",\"caxis\":{\"gridcolor\":\"white\",\"linecolor\":\"white\",\"ticks\":\"\"}},\"title\":{\"x\":0.05},\"xaxis\":{\"automargin\":true,\"gridcolor\":\"white\",\"linecolor\":\"white\",\"ticks\":\"\",\"title\":{\"standoff\":15},\"zerolinecolor\":\"white\",\"zerolinewidth\":2},\"yaxis\":{\"automargin\":true,\"gridcolor\":\"white\",\"linecolor\":\"white\",\"ticks\":\"\",\"title\":{\"standoff\":15},\"zerolinecolor\":\"white\",\"zerolinewidth\":2}}},\"title\":{\"text\":\"Simulation 1: Yearly Virgin Material Demand\",\"x\":0.5},\"xaxis\":{\"anchor\":\"y\",\"domain\":[0.0,1.0],\"title\":{\"text\":\"Year\"}},\"yaxis\":{\"anchor\":\"x\",\"domain\":[0.0,1.0],\"title\":{\"text\":\"Virgin Material Demand in metric tonnes\"}}},                        {\"responsive\": true}                    ).then(function(){\n",
       "                            \n",
       "var gd = document.getElementById('f1840df9-314a-424b-a959-b80ef92ed0ec');\n",
       "var x = new MutationObserver(function (mutations, observer) {{\n",
       "        var display = window.getComputedStyle(gd).display;\n",
       "        if (!display || display === 'none') {{\n",
       "            console.log([gd, 'removed!']);\n",
       "            Plotly.purge(gd);\n",
       "            observer.disconnect();\n",
       "        }}\n",
       "}});\n",
       "\n",
       "// Listen for the removal of the full notebook cells\n",
       "var notebookContainer = gd.closest('#notebook-container');\n",
       "if (notebookContainer) {{\n",
       "    x.observe(notebookContainer, {childList: true});\n",
       "}}\n",
       "\n",
       "// Listen for the clearing of the current output cell\n",
       "var outputEl = gd.closest('.output');\n",
       "if (outputEl) {{\n",
       "    x.observe(outputEl, {childList: true});\n",
       "}}\n",
       "\n",
       "                        })                };                });            </script>        </div>"
      ]
     },
     "metadata": {},
     "output_type": "display_data"
    }
   ],
   "source": [
    "filter_col = [col for col in USyearly1 if (col.startswith('VirginStock_Module'))]\n",
    "df = USyearly1[filter_col]\n",
    "pretty_scenarios = ['PV ICE Baseline','Landfill Ban','High material recovery and Lower recycling costs','Lower recycling costs','Higher landfill costs','Improved lifetime','Improved learning effect','Reuse warranties','Seeding reuse','ABM Baseline']\n",
    "df = df.set_axis(pretty_scenarios, axis=1)\n",
    "df['year'] = list(range(1995,2051))\n",
    "df = df.melt(id_vars = 'year')\n",
    "fig1 = px.line(df, x='year', y='value', color = 'variable', labels={\n",
    "                     \"year\": \"Year\",\n",
    "                     \"value\": \"Virgin Material Demand in metric tonnes\",\n",
    "                    \"variable\" :\"Scenario\"\n",
    "                 })\n",
    "fig1.update_layout(title_text='Simulation 1: Yearly Virgin Material Demand', title_x=0.5)\n",
    "fig1.show()"
   ]
  },
  {
   "cell_type": "code",
   "execution_count": 110,
   "id": "0a4174f0",
   "metadata": {},
   "outputs": [
    {
     "data": {
      "application/vnd.plotly.v1+json": {
       "config": {
        "plotlyServerURL": "https://plot.ly"
       },
       "data": [
        {
         "hovertemplate": "Scenario=PV ICE Baseline<br>Year=%{x}<br>Waste in metric tonnes=%{y}<extra></extra>",
         "legendgroup": "PV ICE Baseline",
         "line": {
          "color": "#636efa",
          "dash": "solid"
         },
         "mode": "lines",
         "name": "PV ICE Baseline",
         "orientation": "v",
         "showlegend": true,
         "type": "scatter",
         "x": [
          1995,
          1996,
          1997,
          1998,
          1999,
          2000,
          2001,
          2002,
          2003,
          2004,
          2005,
          2006,
          2007,
          2008,
          2009,
          2010,
          2011,
          2012,
          2013,
          2014,
          2015,
          2016,
          2017,
          2018,
          2019,
          2020,
          2021,
          2022,
          2023,
          2024,
          2025,
          2026,
          2027,
          2028,
          2029,
          2030,
          2031,
          2032,
          2033,
          2034,
          2035,
          2036,
          2037,
          2038,
          2039,
          2040,
          2041,
          2042,
          2043,
          2044,
          2045,
          2046,
          2047,
          2048,
          2049,
          2050
         ],
         "xaxis": "x",
         "y": [
          110.20976103848672,
          82.77023325615245,
          96.58572256181166,
          95.60459895906223,
          134.6662358047652,
          165.79870813550798,
          221.99113918949527,
          336.92863966619876,
          476.0148726945185,
          753.6208601550427,
          1819.9791795365668,
          1588.8331292522637,
          2618.4481529993764,
          2559.8426346160104,
          3470.9753655708605,
          3804.2536964289716,
          8980.006586351325,
          16172.767701368613,
          19860.783331376853,
          18440.97066193788,
          29368.207274709377,
          49691.676805601935,
          34813.24919201829,
          30428.86364208677,
          33846.51361984057,
          43331.20304013599,
          44895.08097156738,
          41587.33311682824,
          40319.33604022364,
          42180.44446772356,
          44877.39566864181,
          49159.91385905664,
          54260.39534233313,
          63083.81694170505,
          73475.23637206547,
          95651.86208709425,
          100396.76532394132,
          141011.70295824588,
          142999.03974181367,
          201771.06320771796,
          243718.04797664014,
          215741.9404672146,
          384828.81762835075,
          292997.7534638172,
          349345.892826267,
          453960.1610272752,
          419643.5620147398,
          449173.70960665896,
          487745.8662829511,
          491060.8731509737,
          415699.27399056253,
          453388.53657951765,
          461476.8555353736,
          519086.6451394873,
          590699.7740898681,
          664817.0357641653
         ],
         "yaxis": "y"
        },
        {
         "hovertemplate": "Scenario=Landfill Ban<br>Year=%{x}<br>Waste in metric tonnes=%{y}<extra></extra>",
         "legendgroup": "Landfill Ban",
         "line": {
          "color": "#EF553B",
          "dash": "solid"
         },
         "mode": "lines",
         "name": "Landfill Ban",
         "orientation": "v",
         "showlegend": true,
         "type": "scatter",
         "x": [
          1995,
          1996,
          1997,
          1998,
          1999,
          2000,
          2001,
          2002,
          2003,
          2004,
          2005,
          2006,
          2007,
          2008,
          2009,
          2010,
          2011,
          2012,
          2013,
          2014,
          2015,
          2016,
          2017,
          2018,
          2019,
          2020,
          2021,
          2022,
          2023,
          2024,
          2025,
          2026,
          2027,
          2028,
          2029,
          2030,
          2031,
          2032,
          2033,
          2034,
          2035,
          2036,
          2037,
          2038,
          2039,
          2040,
          2041,
          2042,
          2043,
          2044,
          2045,
          2046,
          2047,
          2048,
          2049,
          2050
         ],
         "xaxis": "x",
         "y": [
          110.20976103848672,
          82.77023325615245,
          96.58572256181166,
          95.60459895906223,
          134.6662358047652,
          165.79870813550798,
          221.99113918949527,
          336.92863966619876,
          476.0148726945185,
          753.6208601550427,
          1819.9791795365668,
          1588.8331292522637,
          2618.4481529993764,
          2559.8426346160104,
          3470.9753655708605,
          3804.2536964289716,
          8980.006586351325,
          16172.767701368613,
          19860.783331376853,
          18440.97066193788,
          29368.207274709377,
          49691.676805601935,
          34813.24919201829,
          30428.86364208677,
          33846.51361984057,
          43331.20304013599,
          44895.08097156738,
          41785.17173739946,
          40546.194433111275,
          42436.136567748865,
          45181.51661577596,
          49499.92097352939,
          54753.76873977077,
          63623.080631925484,
          74148.58419284233,
          95895.13277453254,
          101959.53003701492,
          141712.23284215986,
          145318.82139771018,
          203239.88841974392,
          245504.98853582793,
          219578.22077860907,
          385516.2571910108,
          296979.4569848708,
          352951.86696039024,
          456461.44761647243,
          422756.57056094165,
          451724.4094655452,
          489199.8654820886,
          491681.036376262,
          415830.60169041296,
          452275.25960676576,
          459281.60798108473,
          515556.73148374207,
          585630.7686205407,
          658127.852962439
         ],
         "yaxis": "y"
        },
        {
         "hovertemplate": "Scenario=High material recovery and Lower recycling costs<br>Year=%{x}<br>Waste in metric tonnes=%{y}<extra></extra>",
         "legendgroup": "High material recovery and Lower recycling costs",
         "line": {
          "color": "#00cc96",
          "dash": "solid"
         },
         "mode": "lines",
         "name": "High material recovery and Lower recycling costs",
         "orientation": "v",
         "showlegend": true,
         "type": "scatter",
         "x": [
          1995,
          1996,
          1997,
          1998,
          1999,
          2000,
          2001,
          2002,
          2003,
          2004,
          2005,
          2006,
          2007,
          2008,
          2009,
          2010,
          2011,
          2012,
          2013,
          2014,
          2015,
          2016,
          2017,
          2018,
          2019,
          2020,
          2021,
          2022,
          2023,
          2024,
          2025,
          2026,
          2027,
          2028,
          2029,
          2030,
          2031,
          2032,
          2033,
          2034,
          2035,
          2036,
          2037,
          2038,
          2039,
          2040,
          2041,
          2042,
          2043,
          2044,
          2045,
          2046,
          2047,
          2048,
          2049,
          2050
         ],
         "xaxis": "x",
         "y": [
          110.20976103848672,
          82.77023325615245,
          96.58572256181166,
          95.60459895906223,
          134.6662358047652,
          165.79870813550798,
          221.99113918949527,
          336.92863966619876,
          476.0148726945185,
          753.6208601550427,
          1819.9791795365668,
          1588.8331292522637,
          2618.4481529993764,
          2559.8426346160104,
          3470.9753655708605,
          3804.2536964289716,
          8980.006586351325,
          16172.767701368613,
          19860.783331376853,
          18440.97066193788,
          29368.207274709377,
          49691.676805601935,
          34813.24919201829,
          30428.86364208677,
          33846.51361984057,
          43331.20304013599,
          44895.08097156738,
          41784.89966726532,
          40545.98102871925,
          42435.75777524686,
          45178.84262060083,
          49484.428218744324,
          54720.60717736458,
          63570.243441152,
          74073.31297723525,
          95749.67542131867,
          101817.64080068831,
          141240.976168308,
          144630.33261448325,
          201293.67956086335,
          241440.14815949212,
          214856.60162280622,
          370837.55462994205,
          284027.27528317977,
          333370.10674564796,
          424758.31931786577,
          391399.4052882921,
          415205.40996019536,
          446446.9323316137,
          447092.6383133136,
          380641.6239585495,
          412250.2264920662,
          419185.0260752646,
          468690.8696610151,
          530327.9100772972,
          594069.6483300537
         ],
         "yaxis": "y"
        },
        {
         "hovertemplate": "Scenario=Lower recycling costs<br>Year=%{x}<br>Waste in metric tonnes=%{y}<extra></extra>",
         "legendgroup": "Lower recycling costs",
         "line": {
          "color": "#ab63fa",
          "dash": "solid"
         },
         "mode": "lines",
         "name": "Lower recycling costs",
         "orientation": "v",
         "showlegend": true,
         "type": "scatter",
         "x": [
          1995,
          1996,
          1997,
          1998,
          1999,
          2000,
          2001,
          2002,
          2003,
          2004,
          2005,
          2006,
          2007,
          2008,
          2009,
          2010,
          2011,
          2012,
          2013,
          2014,
          2015,
          2016,
          2017,
          2018,
          2019,
          2020,
          2021,
          2022,
          2023,
          2024,
          2025,
          2026,
          2027,
          2028,
          2029,
          2030,
          2031,
          2032,
          2033,
          2034,
          2035,
          2036,
          2037,
          2038,
          2039,
          2040,
          2041,
          2042,
          2043,
          2044,
          2045,
          2046,
          2047,
          2048,
          2049,
          2050
         ],
         "xaxis": "x",
         "y": [
          110.20976103848672,
          82.77023325615245,
          96.58572256181166,
          95.60459895906223,
          134.6662358047652,
          165.79870813550798,
          221.99113918949527,
          336.92863966619876,
          476.0148726945185,
          753.6208601550427,
          1819.9791795365668,
          1588.8331292522637,
          2618.4481529993764,
          2559.8426346160104,
          3470.9753655708605,
          3804.2536964289716,
          8980.006586351325,
          16172.767701368613,
          19860.783331376853,
          18440.97066193788,
          29368.207274709377,
          49691.676805601935,
          34813.24919201829,
          30428.86364208677,
          33846.51361984057,
          43331.20304013599,
          44895.08097156738,
          41784.98263757351,
          40545.65929686093,
          42433.064044431594,
          45182.44444092028,
          49495.94968736419,
          54786.55906419406,
          63615.64580988776,
          74112.35440684154,
          95131.62020391943,
          102491.40052846605,
          140156.6290928613,
          146709.73110282913,
          200189.7863305039,
          240572.40213285488,
          225808.99863808657,
          370417.38436225924,
          307071.6207290601,
          362749.39574850607,
          455811.9541917709,
          435637.77308539837,
          462635.89631996927,
          493086.75572723034,
          493137.73140824947,
          430892.3805396992,
          460750.9702340227,
          472063.845196837,
          528163.0547548106,
          599921.5772512716,
          675552.4949463283
         ],
         "yaxis": "y"
        },
        {
         "hovertemplate": "Scenario=Higher landfill costs<br>Year=%{x}<br>Waste in metric tonnes=%{y}<extra></extra>",
         "legendgroup": "Higher landfill costs",
         "line": {
          "color": "#FFA15A",
          "dash": "solid"
         },
         "mode": "lines",
         "name": "Higher landfill costs",
         "orientation": "v",
         "showlegend": true,
         "type": "scatter",
         "x": [
          1995,
          1996,
          1997,
          1998,
          1999,
          2000,
          2001,
          2002,
          2003,
          2004,
          2005,
          2006,
          2007,
          2008,
          2009,
          2010,
          2011,
          2012,
          2013,
          2014,
          2015,
          2016,
          2017,
          2018,
          2019,
          2020,
          2021,
          2022,
          2023,
          2024,
          2025,
          2026,
          2027,
          2028,
          2029,
          2030,
          2031,
          2032,
          2033,
          2034,
          2035,
          2036,
          2037,
          2038,
          2039,
          2040,
          2041,
          2042,
          2043,
          2044,
          2045,
          2046,
          2047,
          2048,
          2049,
          2050
         ],
         "xaxis": "x",
         "y": [
          110.20976103848672,
          82.77023325615245,
          96.58572256181166,
          95.60459895906223,
          134.6662358047652,
          165.79870813550798,
          221.99113918949527,
          336.92863966619876,
          476.0148726945185,
          753.6208601550427,
          1819.9791795365668,
          1588.8331292522637,
          2618.4481529993764,
          2559.8426346160104,
          3470.9753655708605,
          3804.2536964289716,
          8980.006586351325,
          16172.767701368613,
          19860.783331376853,
          18440.97066193788,
          29368.207274709377,
          49691.676805601935,
          34813.24919201829,
          30428.86364208677,
          33846.51361984057,
          43331.20304013599,
          44895.08097156738,
          41786.09457295366,
          40546.560449167184,
          42436.23461866132,
          45184.21056684998,
          49508.63821774902,
          54761.87267380707,
          63648.16877653642,
          74189.79578117876,
          95994.69708830495,
          102057.85669207611,
          141903.39370894484,
          145590.84305665808,
          203498.1358439279,
          245745.83408033356,
          220576.29038091243,
          386355.95313182706,
          299131.47117015056,
          355823.34140053124,
          459886.7196960142,
          427137.19463974575,
          456617.83643556735,
          494678.33090613136,
          497673.80158900394,
          422176.24327954964,
          459494.81350464694,
          467588.0086963321,
          525725.9829828434,
          598303.0321138622,
          673560.0465875528
         ],
         "yaxis": "y"
        },
        {
         "hovertemplate": "Scenario=Improved lifetime<br>Year=%{x}<br>Waste in metric tonnes=%{y}<extra></extra>",
         "legendgroup": "Improved lifetime",
         "line": {
          "color": "#19d3f3",
          "dash": "solid"
         },
         "mode": "lines",
         "name": "Improved lifetime",
         "orientation": "v",
         "showlegend": true,
         "type": "scatter",
         "x": [
          1995,
          1996,
          1997,
          1998,
          1999,
          2000,
          2001,
          2002,
          2003,
          2004,
          2005,
          2006,
          2007,
          2008,
          2009,
          2010,
          2011,
          2012,
          2013,
          2014,
          2015,
          2016,
          2017,
          2018,
          2019,
          2020,
          2021,
          2022,
          2023,
          2024,
          2025,
          2026,
          2027,
          2028,
          2029,
          2030,
          2031,
          2032,
          2033,
          2034,
          2035,
          2036,
          2037,
          2038,
          2039,
          2040,
          2041,
          2042,
          2043,
          2044,
          2045,
          2046,
          2047,
          2048,
          2049,
          2050
         ],
         "xaxis": "x",
         "y": [
          110.20976103848672,
          82.77023325615245,
          96.58572256181166,
          95.60459895906223,
          134.6662358047652,
          165.79870813550798,
          221.99180442643598,
          336.9503884679406,
          476.18793987333737,
          754.3899973504215,
          1822.4410503285114,
          1595.186623151378,
          2632.438575355006,
          2586.9004884549236,
          3517.579149827026,
          3875.760928758539,
          9076.007853782397,
          16279.130039358997,
          19938.300553099587,
          18412.53925193629,
          29733.749412898513,
          48804.72104609592,
          34176.34119382053,
          28041.08936870514,
          31880.728897412668,
          39052.2356971687,
          41605.180111087924,
          35844.71203446998,
          36486.87728851564,
          34801.69890219416,
          39068.738696559114,
          39143.418657540904,
          44967.27243467388,
          47032.93391204382,
          57688.72743461486,
          63837.27428094689,
          63327.05627367307,
          85859.00409276127,
          85592.4171593217,
          120007.69781780863,
          115643.35253888552,
          179125.38909383054,
          146954.58977653843,
          241773.41721020458,
          177811.3612282853,
          290736.6491178592,
          215043.04293695316,
          324683.4111059782,
          268207.5419020422,
          424665.6264528768,
          308033.24213024194,
          545208.347303508,
          515341.37292251026,
          302249.7530439012,
          527692.7110467006,
          350704.4069281659
         ],
         "yaxis": "y"
        },
        {
         "hovertemplate": "Scenario=Improved learning effect<br>Year=%{x}<br>Waste in metric tonnes=%{y}<extra></extra>",
         "legendgroup": "Improved learning effect",
         "line": {
          "color": "#FF6692",
          "dash": "solid"
         },
         "mode": "lines",
         "name": "Improved learning effect",
         "orientation": "v",
         "showlegend": true,
         "type": "scatter",
         "x": [
          1995,
          1996,
          1997,
          1998,
          1999,
          2000,
          2001,
          2002,
          2003,
          2004,
          2005,
          2006,
          2007,
          2008,
          2009,
          2010,
          2011,
          2012,
          2013,
          2014,
          2015,
          2016,
          2017,
          2018,
          2019,
          2020,
          2021,
          2022,
          2023,
          2024,
          2025,
          2026,
          2027,
          2028,
          2029,
          2030,
          2031,
          2032,
          2033,
          2034,
          2035,
          2036,
          2037,
          2038,
          2039,
          2040,
          2041,
          2042,
          2043,
          2044,
          2045,
          2046,
          2047,
          2048,
          2049,
          2050
         ],
         "xaxis": "x",
         "y": [
          110.20976103848672,
          82.77023325615245,
          96.58572256181166,
          95.60459895906223,
          134.6662358047652,
          165.79870813550798,
          221.99113918949527,
          336.92863966619876,
          476.0148726945185,
          753.6208601550427,
          1819.9791795365668,
          1588.8331292522637,
          2618.4481529993764,
          2559.8426346160104,
          3470.9753655708605,
          3804.2536964289716,
          8980.006586351325,
          16172.767701368613,
          19860.783331376853,
          18440.97066193788,
          29368.207274709377,
          49691.676805601935,
          34813.24919201829,
          30428.86364208677,
          33846.51361984057,
          43331.20304013599,
          44895.08097156738,
          41740.681439026244,
          40409.76769492187,
          42057.16502233109,
          44302.90099882132,
          47837.585396627386,
          52430.94876616286,
          60297.056906132886,
          69708.87532138647,
          88608.70719500107,
          94376.28395930608,
          127427.86857955338,
          131093.69586357087,
          177535.27230937354,
          207644.16559756242,
          184403.1338992296,
          304723.81797828595,
          237564.40878273442,
          276628.6583044879,
          348679.79712275177,
          324888.80950038537,
          345329.5233911574,
          371779.653648381,
          374700.41077197785,
          325144.55016312376,
          352424.7510322,
          360486.6314606828,
          402296.65760765265,
          453819.16376200854,
          507666.0856354882
         ],
         "yaxis": "y"
        },
        {
         "hovertemplate": "Scenario=Reuse warranties<br>Year=%{x}<br>Waste in metric tonnes=%{y}<extra></extra>",
         "legendgroup": "Reuse warranties",
         "line": {
          "color": "#B6E880",
          "dash": "solid"
         },
         "mode": "lines",
         "name": "Reuse warranties",
         "orientation": "v",
         "showlegend": true,
         "type": "scatter",
         "x": [
          1995,
          1996,
          1997,
          1998,
          1999,
          2000,
          2001,
          2002,
          2003,
          2004,
          2005,
          2006,
          2007,
          2008,
          2009,
          2010,
          2011,
          2012,
          2013,
          2014,
          2015,
          2016,
          2017,
          2018,
          2019,
          2020,
          2021,
          2022,
          2023,
          2024,
          2025,
          2026,
          2027,
          2028,
          2029,
          2030,
          2031,
          2032,
          2033,
          2034,
          2035,
          2036,
          2037,
          2038,
          2039,
          2040,
          2041,
          2042,
          2043,
          2044,
          2045,
          2046,
          2047,
          2048,
          2049,
          2050
         ],
         "xaxis": "x",
         "y": [
          110.20976103848672,
          82.77023325615245,
          96.58572256181166,
          95.60459895906223,
          134.6662358047652,
          165.79870813550798,
          221.99113918949527,
          336.92863966619876,
          476.0148726945185,
          753.6208601550427,
          1819.9791795365668,
          1588.8331292522637,
          2618.4481529993764,
          2559.8426346160104,
          3470.9753655708605,
          3804.2536964289716,
          8980.006586351325,
          16172.767701368613,
          19860.783331376853,
          18440.97066193788,
          29368.207274709377,
          49691.676805601935,
          34813.24919201829,
          30428.86364208677,
          33846.51361984057,
          43331.20304013599,
          44895.08097156738,
          41784.70939279572,
          40545.862760348406,
          42435.67090155261,
          45176.20636774587,
          49474.67249020602,
          54702.02002817657,
          63537.66258634223,
          74023.41634187022,
          95660.16680578653,
          101704.78555681603,
          140941.0947117699,
          144183.6980725725,
          200226.93343021296,
          239348.47059206324,
          212236.63923538636,
          363415.22422119457,
          277159.47655968764,
          323252.2629435642,
          408866.94653028704,
          375604.3347300478,
          397065.64913410344,
          425400.2096033714,
          425081.98506477743,
          362710.9821314407,
          392010.2790661407,
          398377.8398856123,
          444410.13705617044,
          501415.64189609356,
          560256.3569196885
         ],
         "yaxis": "y"
        },
        {
         "hovertemplate": "Scenario=Seeding reuse<br>Year=%{x}<br>Waste in metric tonnes=%{y}<extra></extra>",
         "legendgroup": "Seeding reuse",
         "line": {
          "color": "#FF97FF",
          "dash": "solid"
         },
         "mode": "lines",
         "name": "Seeding reuse",
         "orientation": "v",
         "showlegend": true,
         "type": "scatter",
         "x": [
          1995,
          1996,
          1997,
          1998,
          1999,
          2000,
          2001,
          2002,
          2003,
          2004,
          2005,
          2006,
          2007,
          2008,
          2009,
          2010,
          2011,
          2012,
          2013,
          2014,
          2015,
          2016,
          2017,
          2018,
          2019,
          2020,
          2021,
          2022,
          2023,
          2024,
          2025,
          2026,
          2027,
          2028,
          2029,
          2030,
          2031,
          2032,
          2033,
          2034,
          2035,
          2036,
          2037,
          2038,
          2039,
          2040,
          2041,
          2042,
          2043,
          2044,
          2045,
          2046,
          2047,
          2048,
          2049,
          2050
         ],
         "xaxis": "x",
         "y": [
          110.20976103848672,
          82.77023325615245,
          96.58572256181166,
          95.60459895906223,
          134.6662358047652,
          165.79870813550798,
          221.99113918949527,
          336.92863966619876,
          476.0148726945185,
          753.6208601550427,
          1819.9791795365668,
          1588.8331292522637,
          2618.4481529993764,
          2559.8426346160104,
          3470.9753655708605,
          3804.2536964289716,
          8980.006586351325,
          16172.767701368613,
          19860.783331376853,
          18440.97066193788,
          29368.207274709377,
          49691.676805601935,
          34813.24919201829,
          30428.86364208677,
          33846.51361984057,
          43331.20304013599,
          44895.08097156738,
          41785.17173739946,
          40546.194433111275,
          42436.136567748865,
          45181.51661577596,
          49499.539414817526,
          54751.66496366061,
          63618.25073262682,
          74142.85551156582,
          95879.7089924299,
          101939.98541217948,
          141629.03575022751,
          145163.03957899992,
          202873.13428453615,
          244776.848148448,
          218719.0451525143,
          383086.81476831326,
          294737.9677761805,
          349446.21820873953,
          450149.6454215237,
          415909.66004360653,
          442982.9250042551,
          477881.7695836196,
          478657.73051603825,
          404835.62044171646,
          439075.4177740513,
          445266.37497046497,
          498409.6037338204,
          564634.5195624611,
          632870.8735358024
         ],
         "yaxis": "y"
        },
        {
         "hovertemplate": "Scenario=ABM Baseline<br>Year=%{x}<br>Waste in metric tonnes=%{y}<extra></extra>",
         "legendgroup": "ABM Baseline",
         "line": {
          "color": "#FECB52",
          "dash": "solid"
         },
         "mode": "lines",
         "name": "ABM Baseline",
         "orientation": "v",
         "showlegend": true,
         "type": "scatter",
         "x": [
          1995,
          1996,
          1997,
          1998,
          1999,
          2000,
          2001,
          2002,
          2003,
          2004,
          2005,
          2006,
          2007,
          2008,
          2009,
          2010,
          2011,
          2012,
          2013,
          2014,
          2015,
          2016,
          2017,
          2018,
          2019,
          2020,
          2021,
          2022,
          2023,
          2024,
          2025,
          2026,
          2027,
          2028,
          2029,
          2030,
          2031,
          2032,
          2033,
          2034,
          2035,
          2036,
          2037,
          2038,
          2039,
          2040,
          2041,
          2042,
          2043,
          2044,
          2045,
          2046,
          2047,
          2048,
          2049,
          2050
         ],
         "xaxis": "x",
         "y": [
          110.20976103848672,
          82.77023325615245,
          96.58572256181166,
          95.60459895906223,
          134.6662358047652,
          165.79870813550798,
          221.99113918949527,
          336.92863966619876,
          476.0148726945185,
          753.6208601550427,
          1819.9791795365668,
          1588.8331292522637,
          2618.4481529993764,
          2559.8426346160104,
          3470.9753655708605,
          3804.2536964289716,
          8980.006586351325,
          16172.767701368613,
          19860.783331376853,
          18440.97066193788,
          29368.207274709377,
          49691.676805601935,
          34813.24919201829,
          30428.86364208677,
          33846.51361984057,
          43331.20304013599,
          44895.08097156738,
          41785.17173739946,
          40546.194433111275,
          42436.136567748865,
          45181.51661577596,
          49497.299919390454,
          54764.6411104724,
          63631.88872465725,
          74149.49061610179,
          95561.12475598489,
          102275.96410101067,
          140999.97474385,
          145997.52892922275,
          201920.68813905882,
          243530.77366508348,
          221855.1891496094,
          380156.8040855335,
          300287.176809775,
          355995.0027902116,
          456649.2397878452,
          427089.56671731616,
          455851.34963594546,
          492209.2262719169,
          494699.18193146895,
          421363.06600913417,
          456479.61486446974,
          463661.6027756364,
          519640.57858630497,
          589945.6321692697,
          662908.6321164052
         ],
         "yaxis": "y"
        }
       ],
       "layout": {
        "legend": {
         "title": {
          "text": "Scenario"
         },
         "tracegroupgap": 0
        },
        "margin": {
         "t": 60
        },
        "template": {
         "data": {
          "bar": [
           {
            "error_x": {
             "color": "#2a3f5f"
            },
            "error_y": {
             "color": "#2a3f5f"
            },
            "marker": {
             "line": {
              "color": "#E5ECF6",
              "width": 0.5
             },
             "pattern": {
              "fillmode": "overlay",
              "size": 10,
              "solidity": 0.2
             }
            },
            "type": "bar"
           }
          ],
          "barpolar": [
           {
            "marker": {
             "line": {
              "color": "#E5ECF6",
              "width": 0.5
             },
             "pattern": {
              "fillmode": "overlay",
              "size": 10,
              "solidity": 0.2
             }
            },
            "type": "barpolar"
           }
          ],
          "carpet": [
           {
            "aaxis": {
             "endlinecolor": "#2a3f5f",
             "gridcolor": "white",
             "linecolor": "white",
             "minorgridcolor": "white",
             "startlinecolor": "#2a3f5f"
            },
            "baxis": {
             "endlinecolor": "#2a3f5f",
             "gridcolor": "white",
             "linecolor": "white",
             "minorgridcolor": "white",
             "startlinecolor": "#2a3f5f"
            },
            "type": "carpet"
           }
          ],
          "choropleth": [
           {
            "colorbar": {
             "outlinewidth": 0,
             "ticks": ""
            },
            "type": "choropleth"
           }
          ],
          "contour": [
           {
            "colorbar": {
             "outlinewidth": 0,
             "ticks": ""
            },
            "colorscale": [
             [
              0,
              "#0d0887"
             ],
             [
              0.1111111111111111,
              "#46039f"
             ],
             [
              0.2222222222222222,
              "#7201a8"
             ],
             [
              0.3333333333333333,
              "#9c179e"
             ],
             [
              0.4444444444444444,
              "#bd3786"
             ],
             [
              0.5555555555555556,
              "#d8576b"
             ],
             [
              0.6666666666666666,
              "#ed7953"
             ],
             [
              0.7777777777777778,
              "#fb9f3a"
             ],
             [
              0.8888888888888888,
              "#fdca26"
             ],
             [
              1,
              "#f0f921"
             ]
            ],
            "type": "contour"
           }
          ],
          "contourcarpet": [
           {
            "colorbar": {
             "outlinewidth": 0,
             "ticks": ""
            },
            "type": "contourcarpet"
           }
          ],
          "heatmap": [
           {
            "colorbar": {
             "outlinewidth": 0,
             "ticks": ""
            },
            "colorscale": [
             [
              0,
              "#0d0887"
             ],
             [
              0.1111111111111111,
              "#46039f"
             ],
             [
              0.2222222222222222,
              "#7201a8"
             ],
             [
              0.3333333333333333,
              "#9c179e"
             ],
             [
              0.4444444444444444,
              "#bd3786"
             ],
             [
              0.5555555555555556,
              "#d8576b"
             ],
             [
              0.6666666666666666,
              "#ed7953"
             ],
             [
              0.7777777777777778,
              "#fb9f3a"
             ],
             [
              0.8888888888888888,
              "#fdca26"
             ],
             [
              1,
              "#f0f921"
             ]
            ],
            "type": "heatmap"
           }
          ],
          "heatmapgl": [
           {
            "colorbar": {
             "outlinewidth": 0,
             "ticks": ""
            },
            "colorscale": [
             [
              0,
              "#0d0887"
             ],
             [
              0.1111111111111111,
              "#46039f"
             ],
             [
              0.2222222222222222,
              "#7201a8"
             ],
             [
              0.3333333333333333,
              "#9c179e"
             ],
             [
              0.4444444444444444,
              "#bd3786"
             ],
             [
              0.5555555555555556,
              "#d8576b"
             ],
             [
              0.6666666666666666,
              "#ed7953"
             ],
             [
              0.7777777777777778,
              "#fb9f3a"
             ],
             [
              0.8888888888888888,
              "#fdca26"
             ],
             [
              1,
              "#f0f921"
             ]
            ],
            "type": "heatmapgl"
           }
          ],
          "histogram": [
           {
            "marker": {
             "pattern": {
              "fillmode": "overlay",
              "size": 10,
              "solidity": 0.2
             }
            },
            "type": "histogram"
           }
          ],
          "histogram2d": [
           {
            "colorbar": {
             "outlinewidth": 0,
             "ticks": ""
            },
            "colorscale": [
             [
              0,
              "#0d0887"
             ],
             [
              0.1111111111111111,
              "#46039f"
             ],
             [
              0.2222222222222222,
              "#7201a8"
             ],
             [
              0.3333333333333333,
              "#9c179e"
             ],
             [
              0.4444444444444444,
              "#bd3786"
             ],
             [
              0.5555555555555556,
              "#d8576b"
             ],
             [
              0.6666666666666666,
              "#ed7953"
             ],
             [
              0.7777777777777778,
              "#fb9f3a"
             ],
             [
              0.8888888888888888,
              "#fdca26"
             ],
             [
              1,
              "#f0f921"
             ]
            ],
            "type": "histogram2d"
           }
          ],
          "histogram2dcontour": [
           {
            "colorbar": {
             "outlinewidth": 0,
             "ticks": ""
            },
            "colorscale": [
             [
              0,
              "#0d0887"
             ],
             [
              0.1111111111111111,
              "#46039f"
             ],
             [
              0.2222222222222222,
              "#7201a8"
             ],
             [
              0.3333333333333333,
              "#9c179e"
             ],
             [
              0.4444444444444444,
              "#bd3786"
             ],
             [
              0.5555555555555556,
              "#d8576b"
             ],
             [
              0.6666666666666666,
              "#ed7953"
             ],
             [
              0.7777777777777778,
              "#fb9f3a"
             ],
             [
              0.8888888888888888,
              "#fdca26"
             ],
             [
              1,
              "#f0f921"
             ]
            ],
            "type": "histogram2dcontour"
           }
          ],
          "mesh3d": [
           {
            "colorbar": {
             "outlinewidth": 0,
             "ticks": ""
            },
            "type": "mesh3d"
           }
          ],
          "parcoords": [
           {
            "line": {
             "colorbar": {
              "outlinewidth": 0,
              "ticks": ""
             }
            },
            "type": "parcoords"
           }
          ],
          "pie": [
           {
            "automargin": true,
            "type": "pie"
           }
          ],
          "scatter": [
           {
            "marker": {
             "colorbar": {
              "outlinewidth": 0,
              "ticks": ""
             }
            },
            "type": "scatter"
           }
          ],
          "scatter3d": [
           {
            "line": {
             "colorbar": {
              "outlinewidth": 0,
              "ticks": ""
             }
            },
            "marker": {
             "colorbar": {
              "outlinewidth": 0,
              "ticks": ""
             }
            },
            "type": "scatter3d"
           }
          ],
          "scattercarpet": [
           {
            "marker": {
             "colorbar": {
              "outlinewidth": 0,
              "ticks": ""
             }
            },
            "type": "scattercarpet"
           }
          ],
          "scattergeo": [
           {
            "marker": {
             "colorbar": {
              "outlinewidth": 0,
              "ticks": ""
             }
            },
            "type": "scattergeo"
           }
          ],
          "scattergl": [
           {
            "marker": {
             "colorbar": {
              "outlinewidth": 0,
              "ticks": ""
             }
            },
            "type": "scattergl"
           }
          ],
          "scattermapbox": [
           {
            "marker": {
             "colorbar": {
              "outlinewidth": 0,
              "ticks": ""
             }
            },
            "type": "scattermapbox"
           }
          ],
          "scatterpolar": [
           {
            "marker": {
             "colorbar": {
              "outlinewidth": 0,
              "ticks": ""
             }
            },
            "type": "scatterpolar"
           }
          ],
          "scatterpolargl": [
           {
            "marker": {
             "colorbar": {
              "outlinewidth": 0,
              "ticks": ""
             }
            },
            "type": "scatterpolargl"
           }
          ],
          "scatterternary": [
           {
            "marker": {
             "colorbar": {
              "outlinewidth": 0,
              "ticks": ""
             }
            },
            "type": "scatterternary"
           }
          ],
          "surface": [
           {
            "colorbar": {
             "outlinewidth": 0,
             "ticks": ""
            },
            "colorscale": [
             [
              0,
              "#0d0887"
             ],
             [
              0.1111111111111111,
              "#46039f"
             ],
             [
              0.2222222222222222,
              "#7201a8"
             ],
             [
              0.3333333333333333,
              "#9c179e"
             ],
             [
              0.4444444444444444,
              "#bd3786"
             ],
             [
              0.5555555555555556,
              "#d8576b"
             ],
             [
              0.6666666666666666,
              "#ed7953"
             ],
             [
              0.7777777777777778,
              "#fb9f3a"
             ],
             [
              0.8888888888888888,
              "#fdca26"
             ],
             [
              1,
              "#f0f921"
             ]
            ],
            "type": "surface"
           }
          ],
          "table": [
           {
            "cells": {
             "fill": {
              "color": "#EBF0F8"
             },
             "line": {
              "color": "white"
             }
            },
            "header": {
             "fill": {
              "color": "#C8D4E3"
             },
             "line": {
              "color": "white"
             }
            },
            "type": "table"
           }
          ]
         },
         "layout": {
          "annotationdefaults": {
           "arrowcolor": "#2a3f5f",
           "arrowhead": 0,
           "arrowwidth": 1
          },
          "autotypenumbers": "strict",
          "coloraxis": {
           "colorbar": {
            "outlinewidth": 0,
            "ticks": ""
           }
          },
          "colorscale": {
           "diverging": [
            [
             0,
             "#8e0152"
            ],
            [
             0.1,
             "#c51b7d"
            ],
            [
             0.2,
             "#de77ae"
            ],
            [
             0.3,
             "#f1b6da"
            ],
            [
             0.4,
             "#fde0ef"
            ],
            [
             0.5,
             "#f7f7f7"
            ],
            [
             0.6,
             "#e6f5d0"
            ],
            [
             0.7,
             "#b8e186"
            ],
            [
             0.8,
             "#7fbc41"
            ],
            [
             0.9,
             "#4d9221"
            ],
            [
             1,
             "#276419"
            ]
           ],
           "sequential": [
            [
             0,
             "#0d0887"
            ],
            [
             0.1111111111111111,
             "#46039f"
            ],
            [
             0.2222222222222222,
             "#7201a8"
            ],
            [
             0.3333333333333333,
             "#9c179e"
            ],
            [
             0.4444444444444444,
             "#bd3786"
            ],
            [
             0.5555555555555556,
             "#d8576b"
            ],
            [
             0.6666666666666666,
             "#ed7953"
            ],
            [
             0.7777777777777778,
             "#fb9f3a"
            ],
            [
             0.8888888888888888,
             "#fdca26"
            ],
            [
             1,
             "#f0f921"
            ]
           ],
           "sequentialminus": [
            [
             0,
             "#0d0887"
            ],
            [
             0.1111111111111111,
             "#46039f"
            ],
            [
             0.2222222222222222,
             "#7201a8"
            ],
            [
             0.3333333333333333,
             "#9c179e"
            ],
            [
             0.4444444444444444,
             "#bd3786"
            ],
            [
             0.5555555555555556,
             "#d8576b"
            ],
            [
             0.6666666666666666,
             "#ed7953"
            ],
            [
             0.7777777777777778,
             "#fb9f3a"
            ],
            [
             0.8888888888888888,
             "#fdca26"
            ],
            [
             1,
             "#f0f921"
            ]
           ]
          },
          "colorway": [
           "#636efa",
           "#EF553B",
           "#00cc96",
           "#ab63fa",
           "#FFA15A",
           "#19d3f3",
           "#FF6692",
           "#B6E880",
           "#FF97FF",
           "#FECB52"
          ],
          "font": {
           "color": "#2a3f5f"
          },
          "geo": {
           "bgcolor": "white",
           "lakecolor": "white",
           "landcolor": "#E5ECF6",
           "showlakes": true,
           "showland": true,
           "subunitcolor": "white"
          },
          "hoverlabel": {
           "align": "left"
          },
          "hovermode": "closest",
          "mapbox": {
           "style": "light"
          },
          "paper_bgcolor": "white",
          "plot_bgcolor": "#E5ECF6",
          "polar": {
           "angularaxis": {
            "gridcolor": "white",
            "linecolor": "white",
            "ticks": ""
           },
           "bgcolor": "#E5ECF6",
           "radialaxis": {
            "gridcolor": "white",
            "linecolor": "white",
            "ticks": ""
           }
          },
          "scene": {
           "xaxis": {
            "backgroundcolor": "#E5ECF6",
            "gridcolor": "white",
            "gridwidth": 2,
            "linecolor": "white",
            "showbackground": true,
            "ticks": "",
            "zerolinecolor": "white"
           },
           "yaxis": {
            "backgroundcolor": "#E5ECF6",
            "gridcolor": "white",
            "gridwidth": 2,
            "linecolor": "white",
            "showbackground": true,
            "ticks": "",
            "zerolinecolor": "white"
           },
           "zaxis": {
            "backgroundcolor": "#E5ECF6",
            "gridcolor": "white",
            "gridwidth": 2,
            "linecolor": "white",
            "showbackground": true,
            "ticks": "",
            "zerolinecolor": "white"
           }
          },
          "shapedefaults": {
           "line": {
            "color": "#2a3f5f"
           }
          },
          "ternary": {
           "aaxis": {
            "gridcolor": "white",
            "linecolor": "white",
            "ticks": ""
           },
           "baxis": {
            "gridcolor": "white",
            "linecolor": "white",
            "ticks": ""
           },
           "bgcolor": "#E5ECF6",
           "caxis": {
            "gridcolor": "white",
            "linecolor": "white",
            "ticks": ""
           }
          },
          "title": {
           "x": 0.05
          },
          "xaxis": {
           "automargin": true,
           "gridcolor": "white",
           "linecolor": "white",
           "ticks": "",
           "title": {
            "standoff": 15
           },
           "zerolinecolor": "white",
           "zerolinewidth": 2
          },
          "yaxis": {
           "automargin": true,
           "gridcolor": "white",
           "linecolor": "white",
           "ticks": "",
           "title": {
            "standoff": 15
           },
           "zerolinecolor": "white",
           "zerolinewidth": 2
          }
         }
        },
        "title": {
         "text": "Simulation 1: Yearly Waste",
         "x": 0.5
        },
        "xaxis": {
         "anchor": "y",
         "domain": [
          0,
          1
         ],
         "title": {
          "text": "Year"
         }
        },
        "yaxis": {
         "anchor": "x",
         "domain": [
          0,
          1
         ],
         "title": {
          "text": "Waste in metric tonnes"
         }
        }
       }
      },
      "text/html": [
       "<div>                            <div id=\"4fc2031f-8791-43ac-aa1a-0d71f6f3d0e3\" class=\"plotly-graph-div\" style=\"height:525px; width:100%;\"></div>            <script type=\"text/javascript\">                require([\"plotly\"], function(Plotly) {                    window.PLOTLYENV=window.PLOTLYENV || {};                                    if (document.getElementById(\"4fc2031f-8791-43ac-aa1a-0d71f6f3d0e3\")) {                    Plotly.newPlot(                        \"4fc2031f-8791-43ac-aa1a-0d71f6f3d0e3\",                        [{\"hovertemplate\":\"Scenario=PV ICE Baseline<br>Year=%{x}<br>Waste in metric tonnes=%{y}<extra></extra>\",\"legendgroup\":\"PV ICE Baseline\",\"line\":{\"color\":\"#636efa\",\"dash\":\"solid\"},\"mode\":\"lines\",\"name\":\"PV ICE Baseline\",\"orientation\":\"v\",\"showlegend\":true,\"type\":\"scatter\",\"x\":[1995,1996,1997,1998,1999,2000,2001,2002,2003,2004,2005,2006,2007,2008,2009,2010,2011,2012,2013,2014,2015,2016,2017,2018,2019,2020,2021,2022,2023,2024,2025,2026,2027,2028,2029,2030,2031,2032,2033,2034,2035,2036,2037,2038,2039,2040,2041,2042,2043,2044,2045,2046,2047,2048,2049,2050],\"xaxis\":\"x\",\"y\":[110.20976103848672,82.77023325615245,96.58572256181166,95.60459895906223,134.6662358047652,165.79870813550798,221.99113918949527,336.92863966619876,476.0148726945185,753.6208601550427,1819.9791795365668,1588.8331292522637,2618.4481529993764,2559.8426346160104,3470.9753655708605,3804.2536964289716,8980.006586351325,16172.767701368613,19860.783331376853,18440.97066193788,29368.207274709377,49691.676805601935,34813.24919201829,30428.86364208677,33846.51361984057,43331.20304013599,44895.08097156738,41587.33311682824,40319.33604022364,42180.44446772356,44877.39566864181,49159.91385905664,54260.39534233313,63083.81694170505,73475.23637206547,95651.86208709425,100396.76532394132,141011.70295824588,142999.03974181367,201771.06320771796,243718.04797664014,215741.9404672146,384828.81762835075,292997.7534638172,349345.892826267,453960.1610272752,419643.5620147398,449173.70960665896,487745.8662829511,491060.8731509737,415699.27399056253,453388.53657951765,461476.8555353736,519086.6451394873,590699.7740898681,664817.0357641653],\"yaxis\":\"y\"},{\"hovertemplate\":\"Scenario=Landfill Ban<br>Year=%{x}<br>Waste in metric tonnes=%{y}<extra></extra>\",\"legendgroup\":\"Landfill Ban\",\"line\":{\"color\":\"#EF553B\",\"dash\":\"solid\"},\"mode\":\"lines\",\"name\":\"Landfill Ban\",\"orientation\":\"v\",\"showlegend\":true,\"type\":\"scatter\",\"x\":[1995,1996,1997,1998,1999,2000,2001,2002,2003,2004,2005,2006,2007,2008,2009,2010,2011,2012,2013,2014,2015,2016,2017,2018,2019,2020,2021,2022,2023,2024,2025,2026,2027,2028,2029,2030,2031,2032,2033,2034,2035,2036,2037,2038,2039,2040,2041,2042,2043,2044,2045,2046,2047,2048,2049,2050],\"xaxis\":\"x\",\"y\":[110.20976103848672,82.77023325615245,96.58572256181166,95.60459895906223,134.6662358047652,165.79870813550798,221.99113918949527,336.92863966619876,476.0148726945185,753.6208601550427,1819.9791795365668,1588.8331292522637,2618.4481529993764,2559.8426346160104,3470.9753655708605,3804.2536964289716,8980.006586351325,16172.767701368613,19860.783331376853,18440.97066193788,29368.207274709377,49691.676805601935,34813.24919201829,30428.86364208677,33846.51361984057,43331.20304013599,44895.08097156738,41785.17173739946,40546.194433111275,42436.136567748865,45181.51661577596,49499.92097352939,54753.76873977077,63623.080631925484,74148.58419284233,95895.13277453254,101959.53003701492,141712.23284215986,145318.82139771018,203239.88841974392,245504.98853582793,219578.22077860907,385516.2571910108,296979.4569848708,352951.86696039024,456461.44761647243,422756.57056094165,451724.4094655452,489199.8654820886,491681.036376262,415830.60169041296,452275.25960676576,459281.60798108473,515556.73148374207,585630.7686205407,658127.852962439],\"yaxis\":\"y\"},{\"hovertemplate\":\"Scenario=High material recovery and Lower recycling costs<br>Year=%{x}<br>Waste in metric tonnes=%{y}<extra></extra>\",\"legendgroup\":\"High material recovery and Lower recycling costs\",\"line\":{\"color\":\"#00cc96\",\"dash\":\"solid\"},\"mode\":\"lines\",\"name\":\"High material recovery and Lower recycling costs\",\"orientation\":\"v\",\"showlegend\":true,\"type\":\"scatter\",\"x\":[1995,1996,1997,1998,1999,2000,2001,2002,2003,2004,2005,2006,2007,2008,2009,2010,2011,2012,2013,2014,2015,2016,2017,2018,2019,2020,2021,2022,2023,2024,2025,2026,2027,2028,2029,2030,2031,2032,2033,2034,2035,2036,2037,2038,2039,2040,2041,2042,2043,2044,2045,2046,2047,2048,2049,2050],\"xaxis\":\"x\",\"y\":[110.20976103848672,82.77023325615245,96.58572256181166,95.60459895906223,134.6662358047652,165.79870813550798,221.99113918949527,336.92863966619876,476.0148726945185,753.6208601550427,1819.9791795365668,1588.8331292522637,2618.4481529993764,2559.8426346160104,3470.9753655708605,3804.2536964289716,8980.006586351325,16172.767701368613,19860.783331376853,18440.97066193788,29368.207274709377,49691.676805601935,34813.24919201829,30428.86364208677,33846.51361984057,43331.20304013599,44895.08097156738,41784.89966726532,40545.98102871925,42435.75777524686,45178.84262060083,49484.428218744324,54720.60717736458,63570.243441152,74073.31297723525,95749.67542131867,101817.64080068831,141240.976168308,144630.33261448325,201293.67956086335,241440.14815949212,214856.60162280622,370837.55462994205,284027.27528317977,333370.10674564796,424758.31931786577,391399.4052882921,415205.40996019536,446446.9323316137,447092.6383133136,380641.6239585495,412250.2264920662,419185.0260752646,468690.8696610151,530327.9100772972,594069.6483300537],\"yaxis\":\"y\"},{\"hovertemplate\":\"Scenario=Lower recycling costs<br>Year=%{x}<br>Waste in metric tonnes=%{y}<extra></extra>\",\"legendgroup\":\"Lower recycling costs\",\"line\":{\"color\":\"#ab63fa\",\"dash\":\"solid\"},\"mode\":\"lines\",\"name\":\"Lower recycling costs\",\"orientation\":\"v\",\"showlegend\":true,\"type\":\"scatter\",\"x\":[1995,1996,1997,1998,1999,2000,2001,2002,2003,2004,2005,2006,2007,2008,2009,2010,2011,2012,2013,2014,2015,2016,2017,2018,2019,2020,2021,2022,2023,2024,2025,2026,2027,2028,2029,2030,2031,2032,2033,2034,2035,2036,2037,2038,2039,2040,2041,2042,2043,2044,2045,2046,2047,2048,2049,2050],\"xaxis\":\"x\",\"y\":[110.20976103848672,82.77023325615245,96.58572256181166,95.60459895906223,134.6662358047652,165.79870813550798,221.99113918949527,336.92863966619876,476.0148726945185,753.6208601550427,1819.9791795365668,1588.8331292522637,2618.4481529993764,2559.8426346160104,3470.9753655708605,3804.2536964289716,8980.006586351325,16172.767701368613,19860.783331376853,18440.97066193788,29368.207274709377,49691.676805601935,34813.24919201829,30428.86364208677,33846.51361984057,43331.20304013599,44895.08097156738,41784.98263757351,40545.65929686093,42433.064044431594,45182.44444092028,49495.94968736419,54786.55906419406,63615.64580988776,74112.35440684154,95131.62020391943,102491.40052846605,140156.6290928613,146709.73110282913,200189.7863305039,240572.40213285488,225808.99863808657,370417.38436225924,307071.6207290601,362749.39574850607,455811.9541917709,435637.77308539837,462635.89631996927,493086.75572723034,493137.73140824947,430892.3805396992,460750.9702340227,472063.845196837,528163.0547548106,599921.5772512716,675552.4949463283],\"yaxis\":\"y\"},{\"hovertemplate\":\"Scenario=Higher landfill costs<br>Year=%{x}<br>Waste in metric tonnes=%{y}<extra></extra>\",\"legendgroup\":\"Higher landfill costs\",\"line\":{\"color\":\"#FFA15A\",\"dash\":\"solid\"},\"mode\":\"lines\",\"name\":\"Higher landfill costs\",\"orientation\":\"v\",\"showlegend\":true,\"type\":\"scatter\",\"x\":[1995,1996,1997,1998,1999,2000,2001,2002,2003,2004,2005,2006,2007,2008,2009,2010,2011,2012,2013,2014,2015,2016,2017,2018,2019,2020,2021,2022,2023,2024,2025,2026,2027,2028,2029,2030,2031,2032,2033,2034,2035,2036,2037,2038,2039,2040,2041,2042,2043,2044,2045,2046,2047,2048,2049,2050],\"xaxis\":\"x\",\"y\":[110.20976103848672,82.77023325615245,96.58572256181166,95.60459895906223,134.6662358047652,165.79870813550798,221.99113918949527,336.92863966619876,476.0148726945185,753.6208601550427,1819.9791795365668,1588.8331292522637,2618.4481529993764,2559.8426346160104,3470.9753655708605,3804.2536964289716,8980.006586351325,16172.767701368613,19860.783331376853,18440.97066193788,29368.207274709377,49691.676805601935,34813.24919201829,30428.86364208677,33846.51361984057,43331.20304013599,44895.08097156738,41786.09457295366,40546.560449167184,42436.23461866132,45184.21056684998,49508.63821774902,54761.87267380707,63648.16877653642,74189.79578117876,95994.69708830495,102057.85669207611,141903.39370894484,145590.84305665808,203498.1358439279,245745.83408033356,220576.29038091243,386355.95313182706,299131.47117015056,355823.34140053124,459886.7196960142,427137.19463974575,456617.83643556735,494678.33090613136,497673.80158900394,422176.24327954964,459494.81350464694,467588.0086963321,525725.9829828434,598303.0321138622,673560.0465875528],\"yaxis\":\"y\"},{\"hovertemplate\":\"Scenario=Improved lifetime<br>Year=%{x}<br>Waste in metric tonnes=%{y}<extra></extra>\",\"legendgroup\":\"Improved lifetime\",\"line\":{\"color\":\"#19d3f3\",\"dash\":\"solid\"},\"mode\":\"lines\",\"name\":\"Improved lifetime\",\"orientation\":\"v\",\"showlegend\":true,\"type\":\"scatter\",\"x\":[1995,1996,1997,1998,1999,2000,2001,2002,2003,2004,2005,2006,2007,2008,2009,2010,2011,2012,2013,2014,2015,2016,2017,2018,2019,2020,2021,2022,2023,2024,2025,2026,2027,2028,2029,2030,2031,2032,2033,2034,2035,2036,2037,2038,2039,2040,2041,2042,2043,2044,2045,2046,2047,2048,2049,2050],\"xaxis\":\"x\",\"y\":[110.20976103848672,82.77023325615245,96.58572256181166,95.60459895906223,134.6662358047652,165.79870813550798,221.99180442643598,336.9503884679406,476.18793987333737,754.3899973504215,1822.4410503285114,1595.186623151378,2632.438575355006,2586.9004884549236,3517.579149827026,3875.760928758539,9076.007853782397,16279.130039358997,19938.300553099587,18412.53925193629,29733.749412898513,48804.72104609592,34176.34119382053,28041.08936870514,31880.728897412668,39052.2356971687,41605.180111087924,35844.71203446998,36486.87728851564,34801.69890219416,39068.738696559114,39143.418657540904,44967.27243467388,47032.93391204382,57688.72743461486,63837.27428094689,63327.05627367307,85859.00409276127,85592.4171593217,120007.69781780863,115643.35253888552,179125.38909383054,146954.58977653843,241773.41721020458,177811.3612282853,290736.6491178592,215043.04293695316,324683.4111059782,268207.5419020422,424665.6264528768,308033.24213024194,545208.347303508,515341.37292251026,302249.7530439012,527692.7110467006,350704.4069281659],\"yaxis\":\"y\"},{\"hovertemplate\":\"Scenario=Improved learning effect<br>Year=%{x}<br>Waste in metric tonnes=%{y}<extra></extra>\",\"legendgroup\":\"Improved learning effect\",\"line\":{\"color\":\"#FF6692\",\"dash\":\"solid\"},\"mode\":\"lines\",\"name\":\"Improved learning effect\",\"orientation\":\"v\",\"showlegend\":true,\"type\":\"scatter\",\"x\":[1995,1996,1997,1998,1999,2000,2001,2002,2003,2004,2005,2006,2007,2008,2009,2010,2011,2012,2013,2014,2015,2016,2017,2018,2019,2020,2021,2022,2023,2024,2025,2026,2027,2028,2029,2030,2031,2032,2033,2034,2035,2036,2037,2038,2039,2040,2041,2042,2043,2044,2045,2046,2047,2048,2049,2050],\"xaxis\":\"x\",\"y\":[110.20976103848672,82.77023325615245,96.58572256181166,95.60459895906223,134.6662358047652,165.79870813550798,221.99113918949527,336.92863966619876,476.0148726945185,753.6208601550427,1819.9791795365668,1588.8331292522637,2618.4481529993764,2559.8426346160104,3470.9753655708605,3804.2536964289716,8980.006586351325,16172.767701368613,19860.783331376853,18440.97066193788,29368.207274709377,49691.676805601935,34813.24919201829,30428.86364208677,33846.51361984057,43331.20304013599,44895.08097156738,41740.681439026244,40409.76769492187,42057.16502233109,44302.90099882132,47837.585396627386,52430.94876616286,60297.056906132886,69708.87532138647,88608.70719500107,94376.28395930608,127427.86857955338,131093.69586357087,177535.27230937354,207644.16559756242,184403.1338992296,304723.81797828595,237564.40878273442,276628.6583044879,348679.79712275177,324888.80950038537,345329.5233911574,371779.653648381,374700.41077197785,325144.55016312376,352424.7510322,360486.6314606828,402296.65760765265,453819.16376200854,507666.0856354882],\"yaxis\":\"y\"},{\"hovertemplate\":\"Scenario=Reuse warranties<br>Year=%{x}<br>Waste in metric tonnes=%{y}<extra></extra>\",\"legendgroup\":\"Reuse warranties\",\"line\":{\"color\":\"#B6E880\",\"dash\":\"solid\"},\"mode\":\"lines\",\"name\":\"Reuse warranties\",\"orientation\":\"v\",\"showlegend\":true,\"type\":\"scatter\",\"x\":[1995,1996,1997,1998,1999,2000,2001,2002,2003,2004,2005,2006,2007,2008,2009,2010,2011,2012,2013,2014,2015,2016,2017,2018,2019,2020,2021,2022,2023,2024,2025,2026,2027,2028,2029,2030,2031,2032,2033,2034,2035,2036,2037,2038,2039,2040,2041,2042,2043,2044,2045,2046,2047,2048,2049,2050],\"xaxis\":\"x\",\"y\":[110.20976103848672,82.77023325615245,96.58572256181166,95.60459895906223,134.6662358047652,165.79870813550798,221.99113918949527,336.92863966619876,476.0148726945185,753.6208601550427,1819.9791795365668,1588.8331292522637,2618.4481529993764,2559.8426346160104,3470.9753655708605,3804.2536964289716,8980.006586351325,16172.767701368613,19860.783331376853,18440.97066193788,29368.207274709377,49691.676805601935,34813.24919201829,30428.86364208677,33846.51361984057,43331.20304013599,44895.08097156738,41784.70939279572,40545.862760348406,42435.67090155261,45176.20636774587,49474.67249020602,54702.02002817657,63537.66258634223,74023.41634187022,95660.16680578653,101704.78555681603,140941.0947117699,144183.6980725725,200226.93343021296,239348.47059206324,212236.63923538636,363415.22422119457,277159.47655968764,323252.2629435642,408866.94653028704,375604.3347300478,397065.64913410344,425400.2096033714,425081.98506477743,362710.9821314407,392010.2790661407,398377.8398856123,444410.13705617044,501415.64189609356,560256.3569196885],\"yaxis\":\"y\"},{\"hovertemplate\":\"Scenario=Seeding reuse<br>Year=%{x}<br>Waste in metric tonnes=%{y}<extra></extra>\",\"legendgroup\":\"Seeding reuse\",\"line\":{\"color\":\"#FF97FF\",\"dash\":\"solid\"},\"mode\":\"lines\",\"name\":\"Seeding reuse\",\"orientation\":\"v\",\"showlegend\":true,\"type\":\"scatter\",\"x\":[1995,1996,1997,1998,1999,2000,2001,2002,2003,2004,2005,2006,2007,2008,2009,2010,2011,2012,2013,2014,2015,2016,2017,2018,2019,2020,2021,2022,2023,2024,2025,2026,2027,2028,2029,2030,2031,2032,2033,2034,2035,2036,2037,2038,2039,2040,2041,2042,2043,2044,2045,2046,2047,2048,2049,2050],\"xaxis\":\"x\",\"y\":[110.20976103848672,82.77023325615245,96.58572256181166,95.60459895906223,134.6662358047652,165.79870813550798,221.99113918949527,336.92863966619876,476.0148726945185,753.6208601550427,1819.9791795365668,1588.8331292522637,2618.4481529993764,2559.8426346160104,3470.9753655708605,3804.2536964289716,8980.006586351325,16172.767701368613,19860.783331376853,18440.97066193788,29368.207274709377,49691.676805601935,34813.24919201829,30428.86364208677,33846.51361984057,43331.20304013599,44895.08097156738,41785.17173739946,40546.194433111275,42436.136567748865,45181.51661577596,49499.539414817526,54751.66496366061,63618.25073262682,74142.85551156582,95879.7089924299,101939.98541217948,141629.03575022751,145163.03957899992,202873.13428453615,244776.848148448,218719.0451525143,383086.81476831326,294737.9677761805,349446.21820873953,450149.6454215237,415909.66004360653,442982.9250042551,477881.7695836196,478657.73051603825,404835.62044171646,439075.4177740513,445266.37497046497,498409.6037338204,564634.5195624611,632870.8735358024],\"yaxis\":\"y\"},{\"hovertemplate\":\"Scenario=ABM Baseline<br>Year=%{x}<br>Waste in metric tonnes=%{y}<extra></extra>\",\"legendgroup\":\"ABM Baseline\",\"line\":{\"color\":\"#FECB52\",\"dash\":\"solid\"},\"mode\":\"lines\",\"name\":\"ABM Baseline\",\"orientation\":\"v\",\"showlegend\":true,\"type\":\"scatter\",\"x\":[1995,1996,1997,1998,1999,2000,2001,2002,2003,2004,2005,2006,2007,2008,2009,2010,2011,2012,2013,2014,2015,2016,2017,2018,2019,2020,2021,2022,2023,2024,2025,2026,2027,2028,2029,2030,2031,2032,2033,2034,2035,2036,2037,2038,2039,2040,2041,2042,2043,2044,2045,2046,2047,2048,2049,2050],\"xaxis\":\"x\",\"y\":[110.20976103848672,82.77023325615245,96.58572256181166,95.60459895906223,134.6662358047652,165.79870813550798,221.99113918949527,336.92863966619876,476.0148726945185,753.6208601550427,1819.9791795365668,1588.8331292522637,2618.4481529993764,2559.8426346160104,3470.9753655708605,3804.2536964289716,8980.006586351325,16172.767701368613,19860.783331376853,18440.97066193788,29368.207274709377,49691.676805601935,34813.24919201829,30428.86364208677,33846.51361984057,43331.20304013599,44895.08097156738,41785.17173739946,40546.194433111275,42436.136567748865,45181.51661577596,49497.299919390454,54764.6411104724,63631.88872465725,74149.49061610179,95561.12475598489,102275.96410101067,140999.97474385,145997.52892922275,201920.68813905882,243530.77366508348,221855.1891496094,380156.8040855335,300287.176809775,355995.0027902116,456649.2397878452,427089.56671731616,455851.34963594546,492209.2262719169,494699.18193146895,421363.06600913417,456479.61486446974,463661.6027756364,519640.57858630497,589945.6321692697,662908.6321164052],\"yaxis\":\"y\"}],                        {\"legend\":{\"title\":{\"text\":\"Scenario\"},\"tracegroupgap\":0},\"margin\":{\"t\":60},\"template\":{\"data\":{\"bar\":[{\"error_x\":{\"color\":\"#2a3f5f\"},\"error_y\":{\"color\":\"#2a3f5f\"},\"marker\":{\"line\":{\"color\":\"#E5ECF6\",\"width\":0.5},\"pattern\":{\"fillmode\":\"overlay\",\"size\":10,\"solidity\":0.2}},\"type\":\"bar\"}],\"barpolar\":[{\"marker\":{\"line\":{\"color\":\"#E5ECF6\",\"width\":0.5},\"pattern\":{\"fillmode\":\"overlay\",\"size\":10,\"solidity\":0.2}},\"type\":\"barpolar\"}],\"carpet\":[{\"aaxis\":{\"endlinecolor\":\"#2a3f5f\",\"gridcolor\":\"white\",\"linecolor\":\"white\",\"minorgridcolor\":\"white\",\"startlinecolor\":\"#2a3f5f\"},\"baxis\":{\"endlinecolor\":\"#2a3f5f\",\"gridcolor\":\"white\",\"linecolor\":\"white\",\"minorgridcolor\":\"white\",\"startlinecolor\":\"#2a3f5f\"},\"type\":\"carpet\"}],\"choropleth\":[{\"colorbar\":{\"outlinewidth\":0,\"ticks\":\"\"},\"type\":\"choropleth\"}],\"contour\":[{\"colorbar\":{\"outlinewidth\":0,\"ticks\":\"\"},\"colorscale\":[[0.0,\"#0d0887\"],[0.1111111111111111,\"#46039f\"],[0.2222222222222222,\"#7201a8\"],[0.3333333333333333,\"#9c179e\"],[0.4444444444444444,\"#bd3786\"],[0.5555555555555556,\"#d8576b\"],[0.6666666666666666,\"#ed7953\"],[0.7777777777777778,\"#fb9f3a\"],[0.8888888888888888,\"#fdca26\"],[1.0,\"#f0f921\"]],\"type\":\"contour\"}],\"contourcarpet\":[{\"colorbar\":{\"outlinewidth\":0,\"ticks\":\"\"},\"type\":\"contourcarpet\"}],\"heatmap\":[{\"colorbar\":{\"outlinewidth\":0,\"ticks\":\"\"},\"colorscale\":[[0.0,\"#0d0887\"],[0.1111111111111111,\"#46039f\"],[0.2222222222222222,\"#7201a8\"],[0.3333333333333333,\"#9c179e\"],[0.4444444444444444,\"#bd3786\"],[0.5555555555555556,\"#d8576b\"],[0.6666666666666666,\"#ed7953\"],[0.7777777777777778,\"#fb9f3a\"],[0.8888888888888888,\"#fdca26\"],[1.0,\"#f0f921\"]],\"type\":\"heatmap\"}],\"heatmapgl\":[{\"colorbar\":{\"outlinewidth\":0,\"ticks\":\"\"},\"colorscale\":[[0.0,\"#0d0887\"],[0.1111111111111111,\"#46039f\"],[0.2222222222222222,\"#7201a8\"],[0.3333333333333333,\"#9c179e\"],[0.4444444444444444,\"#bd3786\"],[0.5555555555555556,\"#d8576b\"],[0.6666666666666666,\"#ed7953\"],[0.7777777777777778,\"#fb9f3a\"],[0.8888888888888888,\"#fdca26\"],[1.0,\"#f0f921\"]],\"type\":\"heatmapgl\"}],\"histogram\":[{\"marker\":{\"pattern\":{\"fillmode\":\"overlay\",\"size\":10,\"solidity\":0.2}},\"type\":\"histogram\"}],\"histogram2d\":[{\"colorbar\":{\"outlinewidth\":0,\"ticks\":\"\"},\"colorscale\":[[0.0,\"#0d0887\"],[0.1111111111111111,\"#46039f\"],[0.2222222222222222,\"#7201a8\"],[0.3333333333333333,\"#9c179e\"],[0.4444444444444444,\"#bd3786\"],[0.5555555555555556,\"#d8576b\"],[0.6666666666666666,\"#ed7953\"],[0.7777777777777778,\"#fb9f3a\"],[0.8888888888888888,\"#fdca26\"],[1.0,\"#f0f921\"]],\"type\":\"histogram2d\"}],\"histogram2dcontour\":[{\"colorbar\":{\"outlinewidth\":0,\"ticks\":\"\"},\"colorscale\":[[0.0,\"#0d0887\"],[0.1111111111111111,\"#46039f\"],[0.2222222222222222,\"#7201a8\"],[0.3333333333333333,\"#9c179e\"],[0.4444444444444444,\"#bd3786\"],[0.5555555555555556,\"#d8576b\"],[0.6666666666666666,\"#ed7953\"],[0.7777777777777778,\"#fb9f3a\"],[0.8888888888888888,\"#fdca26\"],[1.0,\"#f0f921\"]],\"type\":\"histogram2dcontour\"}],\"mesh3d\":[{\"colorbar\":{\"outlinewidth\":0,\"ticks\":\"\"},\"type\":\"mesh3d\"}],\"parcoords\":[{\"line\":{\"colorbar\":{\"outlinewidth\":0,\"ticks\":\"\"}},\"type\":\"parcoords\"}],\"pie\":[{\"automargin\":true,\"type\":\"pie\"}],\"scatter\":[{\"marker\":{\"colorbar\":{\"outlinewidth\":0,\"ticks\":\"\"}},\"type\":\"scatter\"}],\"scatter3d\":[{\"line\":{\"colorbar\":{\"outlinewidth\":0,\"ticks\":\"\"}},\"marker\":{\"colorbar\":{\"outlinewidth\":0,\"ticks\":\"\"}},\"type\":\"scatter3d\"}],\"scattercarpet\":[{\"marker\":{\"colorbar\":{\"outlinewidth\":0,\"ticks\":\"\"}},\"type\":\"scattercarpet\"}],\"scattergeo\":[{\"marker\":{\"colorbar\":{\"outlinewidth\":0,\"ticks\":\"\"}},\"type\":\"scattergeo\"}],\"scattergl\":[{\"marker\":{\"colorbar\":{\"outlinewidth\":0,\"ticks\":\"\"}},\"type\":\"scattergl\"}],\"scattermapbox\":[{\"marker\":{\"colorbar\":{\"outlinewidth\":0,\"ticks\":\"\"}},\"type\":\"scattermapbox\"}],\"scatterpolar\":[{\"marker\":{\"colorbar\":{\"outlinewidth\":0,\"ticks\":\"\"}},\"type\":\"scatterpolar\"}],\"scatterpolargl\":[{\"marker\":{\"colorbar\":{\"outlinewidth\":0,\"ticks\":\"\"}},\"type\":\"scatterpolargl\"}],\"scatterternary\":[{\"marker\":{\"colorbar\":{\"outlinewidth\":0,\"ticks\":\"\"}},\"type\":\"scatterternary\"}],\"surface\":[{\"colorbar\":{\"outlinewidth\":0,\"ticks\":\"\"},\"colorscale\":[[0.0,\"#0d0887\"],[0.1111111111111111,\"#46039f\"],[0.2222222222222222,\"#7201a8\"],[0.3333333333333333,\"#9c179e\"],[0.4444444444444444,\"#bd3786\"],[0.5555555555555556,\"#d8576b\"],[0.6666666666666666,\"#ed7953\"],[0.7777777777777778,\"#fb9f3a\"],[0.8888888888888888,\"#fdca26\"],[1.0,\"#f0f921\"]],\"type\":\"surface\"}],\"table\":[{\"cells\":{\"fill\":{\"color\":\"#EBF0F8\"},\"line\":{\"color\":\"white\"}},\"header\":{\"fill\":{\"color\":\"#C8D4E3\"},\"line\":{\"color\":\"white\"}},\"type\":\"table\"}]},\"layout\":{\"annotationdefaults\":{\"arrowcolor\":\"#2a3f5f\",\"arrowhead\":0,\"arrowwidth\":1},\"autotypenumbers\":\"strict\",\"coloraxis\":{\"colorbar\":{\"outlinewidth\":0,\"ticks\":\"\"}},\"colorscale\":{\"diverging\":[[0,\"#8e0152\"],[0.1,\"#c51b7d\"],[0.2,\"#de77ae\"],[0.3,\"#f1b6da\"],[0.4,\"#fde0ef\"],[0.5,\"#f7f7f7\"],[0.6,\"#e6f5d0\"],[0.7,\"#b8e186\"],[0.8,\"#7fbc41\"],[0.9,\"#4d9221\"],[1,\"#276419\"]],\"sequential\":[[0.0,\"#0d0887\"],[0.1111111111111111,\"#46039f\"],[0.2222222222222222,\"#7201a8\"],[0.3333333333333333,\"#9c179e\"],[0.4444444444444444,\"#bd3786\"],[0.5555555555555556,\"#d8576b\"],[0.6666666666666666,\"#ed7953\"],[0.7777777777777778,\"#fb9f3a\"],[0.8888888888888888,\"#fdca26\"],[1.0,\"#f0f921\"]],\"sequentialminus\":[[0.0,\"#0d0887\"],[0.1111111111111111,\"#46039f\"],[0.2222222222222222,\"#7201a8\"],[0.3333333333333333,\"#9c179e\"],[0.4444444444444444,\"#bd3786\"],[0.5555555555555556,\"#d8576b\"],[0.6666666666666666,\"#ed7953\"],[0.7777777777777778,\"#fb9f3a\"],[0.8888888888888888,\"#fdca26\"],[1.0,\"#f0f921\"]]},\"colorway\":[\"#636efa\",\"#EF553B\",\"#00cc96\",\"#ab63fa\",\"#FFA15A\",\"#19d3f3\",\"#FF6692\",\"#B6E880\",\"#FF97FF\",\"#FECB52\"],\"font\":{\"color\":\"#2a3f5f\"},\"geo\":{\"bgcolor\":\"white\",\"lakecolor\":\"white\",\"landcolor\":\"#E5ECF6\",\"showlakes\":true,\"showland\":true,\"subunitcolor\":\"white\"},\"hoverlabel\":{\"align\":\"left\"},\"hovermode\":\"closest\",\"mapbox\":{\"style\":\"light\"},\"paper_bgcolor\":\"white\",\"plot_bgcolor\":\"#E5ECF6\",\"polar\":{\"angularaxis\":{\"gridcolor\":\"white\",\"linecolor\":\"white\",\"ticks\":\"\"},\"bgcolor\":\"#E5ECF6\",\"radialaxis\":{\"gridcolor\":\"white\",\"linecolor\":\"white\",\"ticks\":\"\"}},\"scene\":{\"xaxis\":{\"backgroundcolor\":\"#E5ECF6\",\"gridcolor\":\"white\",\"gridwidth\":2,\"linecolor\":\"white\",\"showbackground\":true,\"ticks\":\"\",\"zerolinecolor\":\"white\"},\"yaxis\":{\"backgroundcolor\":\"#E5ECF6\",\"gridcolor\":\"white\",\"gridwidth\":2,\"linecolor\":\"white\",\"showbackground\":true,\"ticks\":\"\",\"zerolinecolor\":\"white\"},\"zaxis\":{\"backgroundcolor\":\"#E5ECF6\",\"gridcolor\":\"white\",\"gridwidth\":2,\"linecolor\":\"white\",\"showbackground\":true,\"ticks\":\"\",\"zerolinecolor\":\"white\"}},\"shapedefaults\":{\"line\":{\"color\":\"#2a3f5f\"}},\"ternary\":{\"aaxis\":{\"gridcolor\":\"white\",\"linecolor\":\"white\",\"ticks\":\"\"},\"baxis\":{\"gridcolor\":\"white\",\"linecolor\":\"white\",\"ticks\":\"\"},\"bgcolor\":\"#E5ECF6\",\"caxis\":{\"gridcolor\":\"white\",\"linecolor\":\"white\",\"ticks\":\"\"}},\"title\":{\"x\":0.05},\"xaxis\":{\"automargin\":true,\"gridcolor\":\"white\",\"linecolor\":\"white\",\"ticks\":\"\",\"title\":{\"standoff\":15},\"zerolinecolor\":\"white\",\"zerolinewidth\":2},\"yaxis\":{\"automargin\":true,\"gridcolor\":\"white\",\"linecolor\":\"white\",\"ticks\":\"\",\"title\":{\"standoff\":15},\"zerolinecolor\":\"white\",\"zerolinewidth\":2}}},\"title\":{\"text\":\"Simulation 1: Yearly Waste\",\"x\":0.5},\"xaxis\":{\"anchor\":\"y\",\"domain\":[0.0,1.0],\"title\":{\"text\":\"Year\"}},\"yaxis\":{\"anchor\":\"x\",\"domain\":[0.0,1.0],\"title\":{\"text\":\"Waste in metric tonnes\"}}},                        {\"responsive\": true}                    ).then(function(){\n",
       "                            \n",
       "var gd = document.getElementById('4fc2031f-8791-43ac-aa1a-0d71f6f3d0e3');\n",
       "var x = new MutationObserver(function (mutations, observer) {{\n",
       "        var display = window.getComputedStyle(gd).display;\n",
       "        if (!display || display === 'none') {{\n",
       "            console.log([gd, 'removed!']);\n",
       "            Plotly.purge(gd);\n",
       "            observer.disconnect();\n",
       "        }}\n",
       "}});\n",
       "\n",
       "// Listen for the removal of the full notebook cells\n",
       "var notebookContainer = gd.closest('#notebook-container');\n",
       "if (notebookContainer) {{\n",
       "    x.observe(notebookContainer, {childList: true});\n",
       "}}\n",
       "\n",
       "// Listen for the clearing of the current output cell\n",
       "var outputEl = gd.closest('.output');\n",
       "if (outputEl) {{\n",
       "    x.observe(outputEl, {childList: true});\n",
       "}}\n",
       "\n",
       "                        })                };                });            </script>        </div>"
      ]
     },
     "metadata": {},
     "output_type": "display_data"
    }
   ],
   "source": [
    "filter_col = [col for col in USyearly1 if (col.startswith('Waste_Module'))]\n",
    "df = USyearly1[filter_col]\n",
    "df = df.set_axis(pretty_scenarios, axis=1)\n",
    "df['year'] = list(range(1995,2051))\n",
    "df = df.melt(id_vars = 'year')\n",
    "fig1 = px.line(df, x='year', y='value', color = 'variable', labels={\n",
    "                     \"year\": \"Year\",\n",
    "                     \"value\": \"Waste in metric tonnes\",\n",
    "                    \"variable\" :\"Scenario\"\n",
    "                 })\n",
    "fig1.update_layout(title_text='Simulation 1: Yearly Waste', title_x=0.5)\n",
    "fig1.show()"
   ]
  },
  {
   "cell_type": "code",
   "execution_count": 111,
   "id": "667d5761",
   "metadata": {},
   "outputs": [
    {
     "data": {
      "application/vnd.plotly.v1+json": {
       "config": {
        "plotlyServerURL": "https://plot.ly"
       },
       "data": [
        {
         "hovertemplate": "Scenario=PV ICE Baseline<br>Year=%{x}<br>Installed Capacity in MW=%{y}<extra></extra>",
         "legendgroup": "PV ICE Baseline",
         "line": {
          "color": "#636efa",
          "dash": "solid"
         },
         "mode": "lines",
         "name": "PV ICE Baseline",
         "orientation": "v",
         "showlegend": true,
         "type": "scatter",
         "x": [
          1995,
          1996,
          1997,
          1998,
          1999,
          2000,
          2001,
          2002,
          2003,
          2004,
          2005,
          2006,
          2007,
          2008,
          2009,
          2010,
          2011,
          2012,
          2013,
          2014,
          2015,
          2016,
          2017,
          2018,
          2019,
          2020,
          2021,
          2022,
          2023,
          2024,
          2025,
          2026,
          2027,
          2028,
          2029,
          2030,
          2031,
          2032,
          2033,
          2034,
          2035,
          2036,
          2037,
          2038,
          2039,
          2040,
          2041,
          2042,
          2043,
          2044,
          2045,
          2046,
          2047,
          2048,
          2049,
          2050
         ],
         "xaxis": "x",
         "y": [
          12.6,
          22.2437481731632,
          33.81018778218666,
          45.46364884734131,
          62.178076183284645,
          82.82050656328029,
          110.36704574580519,
          152.18439240176184,
          210.88062484300113,
          304.09781899967635,
          388.3960031804289,
          476.59381350193945,
          799.8476999185393,
          1110.9175265856832,
          1537.0397560648491,
          2250.1209613663095,
          4025.6147032971594,
          7073.446991041376,
          11084.453814846525,
          14757.0240102478,
          21555.68338618433,
          34414.32752819589,
          44076.52354269368,
          53268.88376115328,
          64025.0982333121,
          78704.19656117118,
          94871.2999195415,
          109707.41218801064,
          124446.91858983616,
          140504.75574220336,
          157938.83483906733,
          176854.0897029995,
          197380.03250500452,
          219614.7842924434,
          243685.85437331494,
          269619.4466147657,
          297843.7560469848,
          328082.46353694826,
          361077.323455877,
          396284.3885260887,
          434186.0686395055,
          476053.43814765714,
          519316.81783911533,
          568226.1076193727,
          620941.9421842648,
          677166.2487846827,
          739454.875717984,
          807371.7149719539,
          881332.6588035229,
          962465.0997609578,
          1052749.0919172736,
          1151017.9534225655,
          1258518.2084792408,
          1375257.0054272185,
          1501901.8220734722,
          1639398.0909915227
         ],
         "yaxis": "y"
        },
        {
         "hovertemplate": "Scenario=Landfill Ban<br>Year=%{x}<br>Installed Capacity in MW=%{y}<extra></extra>",
         "legendgroup": "Landfill Ban",
         "line": {
          "color": "#EF553B",
          "dash": "solid"
         },
         "mode": "lines",
         "name": "Landfill Ban",
         "orientation": "v",
         "showlegend": true,
         "type": "scatter",
         "x": [
          1995,
          1996,
          1997,
          1998,
          1999,
          2000,
          2001,
          2002,
          2003,
          2004,
          2005,
          2006,
          2007,
          2008,
          2009,
          2010,
          2011,
          2012,
          2013,
          2014,
          2015,
          2016,
          2017,
          2018,
          2019,
          2020,
          2021,
          2022,
          2023,
          2024,
          2025,
          2026,
          2027,
          2028,
          2029,
          2030,
          2031,
          2032,
          2033,
          2034,
          2035,
          2036,
          2037,
          2038,
          2039,
          2040,
          2041,
          2042,
          2043,
          2044,
          2045,
          2046,
          2047,
          2048,
          2049,
          2050
         ],
         "xaxis": "x",
         "y": [
          12.6,
          22.2437481731632,
          33.81018778218666,
          45.46364884734131,
          62.178076183284645,
          82.82050656328029,
          110.36704574580519,
          152.18439240176184,
          210.88062484300113,
          304.09781899967635,
          388.3960031804289,
          476.59381350193945,
          799.8476999185393,
          1110.9175265856832,
          1537.0397560648491,
          2250.1209613663095,
          4025.6147032971594,
          7073.446991041376,
          11084.453814846525,
          14757.0240102478,
          21555.68338618433,
          34414.32752819589,
          44076.52354269368,
          53268.88376115328,
          64025.0982333121,
          78704.19656117118,
          94871.2999195415,
          109707.44316652793,
          124446.99701713023,
          140504.98954494018,
          157939.1853122241,
          176855.049081374,
          197380.76411708875,
          219616.71055909662,
          243689.93461897195,
          269636.65862121305,
          297858.1305990993,
          328115.8431967699,
          361107.5296683644,
          396337.26939716045,
          434265.82765078836,
          476120.2295224577,
          519449.253751572,
          568346.0062099069,
          621056.5397356644,
          677295.8027431698,
          739573.5732561675,
          807480.6522742637,
          881433.9917293718,
          962556.2927430415,
          1052825.3213313017,
          1151085.5808479288,
          1258583.4639318294,
          1375325.0387268118,
          1501975.2403111455,
          1639477.7077413914
         ],
         "yaxis": "y"
        },
        {
         "hovertemplate": "Scenario=High material recovery and Lower recycling costs<br>Year=%{x}<br>Installed Capacity in MW=%{y}<extra></extra>",
         "legendgroup": "High material recovery and Lower recycling costs",
         "line": {
          "color": "#00cc96",
          "dash": "solid"
         },
         "mode": "lines",
         "name": "High material recovery and Lower recycling costs",
         "orientation": "v",
         "showlegend": true,
         "type": "scatter",
         "x": [
          1995,
          1996,
          1997,
          1998,
          1999,
          2000,
          2001,
          2002,
          2003,
          2004,
          2005,
          2006,
          2007,
          2008,
          2009,
          2010,
          2011,
          2012,
          2013,
          2014,
          2015,
          2016,
          2017,
          2018,
          2019,
          2020,
          2021,
          2022,
          2023,
          2024,
          2025,
          2026,
          2027,
          2028,
          2029,
          2030,
          2031,
          2032,
          2033,
          2034,
          2035,
          2036,
          2037,
          2038,
          2039,
          2040,
          2041,
          2042,
          2043,
          2044,
          2045,
          2046,
          2047,
          2048,
          2049,
          2050
         ],
         "xaxis": "x",
         "y": [
          12.6,
          22.2437481731632,
          33.81018778218666,
          45.46364884734131,
          62.178076183284645,
          82.82050656328029,
          110.36704574580519,
          152.18439240176184,
          210.88062484300113,
          304.09781899967635,
          388.3960031804289,
          476.59381350193945,
          799.8476999185393,
          1110.9175265856832,
          1537.0397560648491,
          2250.1209613663095,
          4025.6147032971594,
          7073.446991041376,
          11084.453814846525,
          14757.0240102478,
          21555.68338618433,
          34414.32752819589,
          44076.52354269368,
          53268.88376115328,
          64025.0982333121,
          78704.19656117118,
          94871.2999195415,
          109707.44311840244,
          124446.99742976815,
          140504.9928364607,
          157939.1720955655,
          176855.01341035723,
          197380.70117420313,
          219616.51087656774,
          243689.44291947538,
          269635.7523013185,
          297856.1555235979,
          328112.1657064226,
          361101.01239609666,
          396328.0974302144,
          434254.2238616715,
          476100.0273055639,
          519426.4940870576,
          568310.5532667373,
          621006.9800814583,
          677239.9952126506,
          739507.5728147192,
          807409.5103973282,
          881369.3197074487,
          962505.5660803708,
          1052773.5809801018,
          1151038.9083674604,
          1258533.7548093996,
          1375271.4410552955,
          1501917.0768645753,
          1639414.1623694024
         ],
         "yaxis": "y"
        },
        {
         "hovertemplate": "Scenario=Lower recycling costs<br>Year=%{x}<br>Installed Capacity in MW=%{y}<extra></extra>",
         "legendgroup": "Lower recycling costs",
         "line": {
          "color": "#ab63fa",
          "dash": "solid"
         },
         "mode": "lines",
         "name": "Lower recycling costs",
         "orientation": "v",
         "showlegend": true,
         "type": "scatter",
         "x": [
          1995,
          1996,
          1997,
          1998,
          1999,
          2000,
          2001,
          2002,
          2003,
          2004,
          2005,
          2006,
          2007,
          2008,
          2009,
          2010,
          2011,
          2012,
          2013,
          2014,
          2015,
          2016,
          2017,
          2018,
          2019,
          2020,
          2021,
          2022,
          2023,
          2024,
          2025,
          2026,
          2027,
          2028,
          2029,
          2030,
          2031,
          2032,
          2033,
          2034,
          2035,
          2036,
          2037,
          2038,
          2039,
          2040,
          2041,
          2042,
          2043,
          2044,
          2045,
          2046,
          2047,
          2048,
          2049,
          2050
         ],
         "xaxis": "x",
         "y": [
          12.6,
          22.2437481731632,
          33.81018778218666,
          45.46364884734131,
          62.178076183284645,
          82.82050656328029,
          110.36704574580519,
          152.18439240176184,
          210.88062484300113,
          304.09781899967635,
          388.3960031804289,
          476.59381350193945,
          799.8476999185393,
          1110.9175265856832,
          1537.0397560648491,
          2250.1209613663095,
          4025.6147032971594,
          7073.446991041376,
          11084.453814846525,
          14757.0240102478,
          21555.68338618433,
          34414.32752819589,
          44076.52354269368,
          53268.88376115328,
          64025.0982333121,
          78704.19656117118,
          94871.2999195415,
          109707.44524734744,
          124447.00507986898,
          140505.0325073085,
          157939.21652607058,
          176855.12723905145,
          197380.43059092743,
          219616.43262352922,
          243690.07714668175,
          269646.2471505447,
          297861.0391997314,
          328140.0527842465,
          361114.0606316892,
          396388.412733447,
          434391.3669989994,
          476167.7102987455,
          519748.9018498531,
          568525.4067558341,
          621133.695638439,
          677451.07965255,
          739611.6774710787,
          807444.8415968278,
          881455.7562324863,
          962692.7660125608,
          1052836.6995760608,
          1151100.3770340567,
          1258541.8169194774,
          1375262.0208117517,
          1501906.4939888166,
          1639398.784183288
         ],
         "yaxis": "y"
        },
        {
         "hovertemplate": "Scenario=Higher landfill costs<br>Year=%{x}<br>Installed Capacity in MW=%{y}<extra></extra>",
         "legendgroup": "Higher landfill costs",
         "line": {
          "color": "#FFA15A",
          "dash": "solid"
         },
         "mode": "lines",
         "name": "Higher landfill costs",
         "orientation": "v",
         "showlegend": true,
         "type": "scatter",
         "x": [
          1995,
          1996,
          1997,
          1998,
          1999,
          2000,
          2001,
          2002,
          2003,
          2004,
          2005,
          2006,
          2007,
          2008,
          2009,
          2010,
          2011,
          2012,
          2013,
          2014,
          2015,
          2016,
          2017,
          2018,
          2019,
          2020,
          2021,
          2022,
          2023,
          2024,
          2025,
          2026,
          2027,
          2028,
          2029,
          2030,
          2031,
          2032,
          2033,
          2034,
          2035,
          2036,
          2037,
          2038,
          2039,
          2040,
          2041,
          2042,
          2043,
          2044,
          2045,
          2046,
          2047,
          2048,
          2049,
          2050
         ],
         "xaxis": "x",
         "y": [
          12.6,
          22.2437481731632,
          33.81018778218666,
          45.46364884734131,
          62.178076183284645,
          82.82050656328029,
          110.36704574580519,
          152.18439240176184,
          210.88062484300113,
          304.09781899967635,
          388.3960031804289,
          476.59381350193945,
          799.8476999185393,
          1110.9175265856832,
          1537.0397560648491,
          2250.1209613663095,
          4025.6147032971594,
          7073.446991041376,
          11084.453814846525,
          14757.0240102478,
          21555.68338618433,
          34414.32752819589,
          44076.52354269368,
          53268.88376115328,
          64025.0982333121,
          78704.19656117118,
          94871.2999195415,
          109707.42994647856,
          124446.97726177855,
          140504.96646266145,
          157939.1412043974,
          176854.9039176048,
          197380.50327561298,
          219616.13047344922,
          243688.82821051782,
          269634.298407216,
          297854.48367913783,
          328109.97850179905,
          361098.48311859596,
          396326.45936708053,
          434255.5610488418,
          476101.31094562664,
          519437.6114862216,
          568321.7020375922,
          621019.600125017,
          677259.1220527334,
          739526.7213166703,
          807428.6450654431,
          881389.7486376023,
          962525.9260569866,
          1052790.9807967125,
          1151055.0188409383,
          1258549.9000833225,
          1375288.834296376,
          1501936.2612285605,
          1639435.445917893
         ],
         "yaxis": "y"
        },
        {
         "hovertemplate": "Scenario=Improved lifetime<br>Year=%{x}<br>Installed Capacity in MW=%{y}<extra></extra>",
         "legendgroup": "Improved lifetime",
         "line": {
          "color": "#19d3f3",
          "dash": "solid"
         },
         "mode": "lines",
         "name": "Improved lifetime",
         "orientation": "v",
         "showlegend": true,
         "type": "scatter",
         "x": [
          1995,
          1996,
          1997,
          1998,
          1999,
          2000,
          2001,
          2002,
          2003,
          2004,
          2005,
          2006,
          2007,
          2008,
          2009,
          2010,
          2011,
          2012,
          2013,
          2014,
          2015,
          2016,
          2017,
          2018,
          2019,
          2020,
          2021,
          2022,
          2023,
          2024,
          2025,
          2026,
          2027,
          2028,
          2029,
          2030,
          2031,
          2032,
          2033,
          2034,
          2035,
          2036,
          2037,
          2038,
          2039,
          2040,
          2041,
          2042,
          2043,
          2044,
          2045,
          2046,
          2047,
          2048,
          2049,
          2050
         ],
         "xaxis": "x",
         "y": [
          12.6,
          22.2437481731632,
          33.81018778218666,
          45.46364884734131,
          62.178076183284645,
          82.82050656328029,
          110.36703763614237,
          152.1841207051178,
          210.8782665934953,
          304.08623400173377,
          388.3550321236249,
          476.47739569367496,
          799.566116606426,
          1110.3188252114055,
          1535.9001218637816,
          2248.1628460160914,
          4022.5823916426875,
          7069.278167241394,
          11079.585300881467,
          14752.846401591101,
          21548.106681751007,
          34417.888170952196,
          44088.92837099885,
          53310.77522298108,
          64092.47918994155,
          78824.62736157454,
          95034.66400030602,
          109944.51295213753,
          124738.41077695187,
          140894.57174550818,
          158413.37930780507,
          177470.01168941663,
          198138.77900806666,
          220612.71898332794,
          244941.73448949412,
          271359.6752050751,
          300162.1509157203,
          331270.4846859507,
          365189.87380219926,
          401723.0387230269,
          441650.1745548988,
          484346.2228762078,
          531432.3981168923,
          581487.4463115222,
          637111.456254725,
          696121.8074585192,
          761838.8173091674,
          831882.0401229573,
          909378.8971805518,
          991368.8057637617,
          1083214.7144347925,
          1179237.991036794,
          1285113.7138253222,
          1405224.017739256,
          1531966.7159858884,
          1674417.972807227
         ],
         "yaxis": "y"
        },
        {
         "hovertemplate": "Scenario=Improved learning effect<br>Year=%{x}<br>Installed Capacity in MW=%{y}<extra></extra>",
         "legendgroup": "Improved learning effect",
         "line": {
          "color": "#FF6692",
          "dash": "solid"
         },
         "mode": "lines",
         "name": "Improved learning effect",
         "orientation": "v",
         "showlegend": true,
         "type": "scatter",
         "x": [
          1995,
          1996,
          1997,
          1998,
          1999,
          2000,
          2001,
          2002,
          2003,
          2004,
          2005,
          2006,
          2007,
          2008,
          2009,
          2010,
          2011,
          2012,
          2013,
          2014,
          2015,
          2016,
          2017,
          2018,
          2019,
          2020,
          2021,
          2022,
          2023,
          2024,
          2025,
          2026,
          2027,
          2028,
          2029,
          2030,
          2031,
          2032,
          2033,
          2034,
          2035,
          2036,
          2037,
          2038,
          2039,
          2040,
          2041,
          2042,
          2043,
          2044,
          2045,
          2046,
          2047,
          2048,
          2049,
          2050
         ],
         "xaxis": "x",
         "y": [
          12.6,
          22.2437481731632,
          33.81018778218666,
          45.46364884734131,
          62.178076183284645,
          82.82050656328029,
          110.36704574580519,
          152.18439240176184,
          210.88062484300113,
          304.09781899967635,
          388.3960031804289,
          476.59381350193945,
          799.8476999185393,
          1110.9175265856832,
          1537.0397560648491,
          2250.1209613663095,
          4025.6147032971594,
          7073.446991041376,
          11084.453814846525,
          14757.0240102478,
          21555.68338618433,
          34414.32752819589,
          44076.52354269368,
          53268.88376115328,
          64025.0982333121,
          78704.19656117118,
          94871.2999195415,
          109707.46509865507,
          124447.09280061211,
          140505.3485861787,
          157940.7406811106,
          176858.93988381268,
          197386.55230198422,
          219625.421983898,
          243702.57397144008,
          269661.0552992996,
          297887.70341426146,
          328165.5251211117,
          361163.46702404675,
          396406.3753814334,
          434346.44706543616,
          476191.71378510114,
          519547.8051561877,
          568426.850026379,
          621118.8177725571,
          677350.6163994253,
          739607.3141770185,
          807497.2452635877,
          881444.1737373549,
          962568.0529622561,
          1052824.0254649709,
          1151082.0065015096,
          1258573.706016456,
          1375311.9328079831,
          1501959.9760644461,
          1639460.0312950865
         ],
         "yaxis": "y"
        },
        {
         "hovertemplate": "Scenario=Reuse warranties<br>Year=%{x}<br>Installed Capacity in MW=%{y}<extra></extra>",
         "legendgroup": "Reuse warranties",
         "line": {
          "color": "#B6E880",
          "dash": "solid"
         },
         "mode": "lines",
         "name": "Reuse warranties",
         "orientation": "v",
         "showlegend": true,
         "type": "scatter",
         "x": [
          1995,
          1996,
          1997,
          1998,
          1999,
          2000,
          2001,
          2002,
          2003,
          2004,
          2005,
          2006,
          2007,
          2008,
          2009,
          2010,
          2011,
          2012,
          2013,
          2014,
          2015,
          2016,
          2017,
          2018,
          2019,
          2020,
          2021,
          2022,
          2023,
          2024,
          2025,
          2026,
          2027,
          2028,
          2029,
          2030,
          2031,
          2032,
          2033,
          2034,
          2035,
          2036,
          2037,
          2038,
          2039,
          2040,
          2041,
          2042,
          2043,
          2044,
          2045,
          2046,
          2047,
          2048,
          2049,
          2050
         ],
         "xaxis": "x",
         "y": [
          12.6,
          22.2437481731632,
          33.81018778218666,
          45.46364884734131,
          62.178076183284645,
          82.82050656328029,
          110.36704574580519,
          152.18439240176184,
          210.88062484300113,
          304.09781899967635,
          388.3960031804289,
          476.59381350193945,
          799.8476999185393,
          1110.9175265856832,
          1537.0397560648491,
          2250.1209613663095,
          4025.6147032971594,
          7073.446991041376,
          11084.453814846525,
          14757.0240102478,
          21555.68338618433,
          34414.32752819589,
          44076.52354269368,
          53268.88376115328,
          64025.0982333121,
          78704.19656117118,
          94871.2999195415,
          109707.44311822864,
          124446.99742950917,
          140504.99283595936,
          157939.17208209547,
          176855.01328301436,
          197380.70105494818,
          219616.51039065042,
          243689.44171685827,
          269635.74563275545,
          297856.1503068395,
          328112.14378694806,
          361100.99273337505,
          396328.028166027,
          434254.0522752887,
          476099.8994900745,
          519425.8791752141,
          568310.0502333109,
          621006.5584214428,
          677239.335125478,
          739507.0696702782,
          807409.1149838369,
          881368.8499072857,
          962504.9605036892,
          1052773.211388847,
          1151038.5679733658,
          1258533.4972037019,
          1375271.19263971,
          1501916.8033092218,
          1639413.864927861
         ],
         "yaxis": "y"
        },
        {
         "hovertemplate": "Scenario=Seeding reuse<br>Year=%{x}<br>Installed Capacity in MW=%{y}<extra></extra>",
         "legendgroup": "Seeding reuse",
         "line": {
          "color": "#FF97FF",
          "dash": "solid"
         },
         "mode": "lines",
         "name": "Seeding reuse",
         "orientation": "v",
         "showlegend": true,
         "type": "scatter",
         "x": [
          1995,
          1996,
          1997,
          1998,
          1999,
          2000,
          2001,
          2002,
          2003,
          2004,
          2005,
          2006,
          2007,
          2008,
          2009,
          2010,
          2011,
          2012,
          2013,
          2014,
          2015,
          2016,
          2017,
          2018,
          2019,
          2020,
          2021,
          2022,
          2023,
          2024,
          2025,
          2026,
          2027,
          2028,
          2029,
          2030,
          2031,
          2032,
          2033,
          2034,
          2035,
          2036,
          2037,
          2038,
          2039,
          2040,
          2041,
          2042,
          2043,
          2044,
          2045,
          2046,
          2047,
          2048,
          2049,
          2050
         ],
         "xaxis": "x",
         "y": [
          12.6,
          22.2437481731632,
          33.81018778218666,
          45.46364884734131,
          62.178076183284645,
          82.82050656328029,
          110.36704574580519,
          152.18439240176184,
          210.88062484300113,
          304.09781899967635,
          388.3960031804289,
          476.59381350193945,
          799.8476999185393,
          1110.9175265856832,
          1537.0397560648491,
          2250.1209613663095,
          4025.6147032971594,
          7073.446991041376,
          11084.453814846525,
          14757.0240102478,
          21555.68338618433,
          34414.32752819589,
          44076.52354269368,
          53268.88376115328,
          64025.0982333121,
          78704.19656117118,
          94871.2999195415,
          109707.44316652793,
          124446.99701713023,
          140504.98954494018,
          157939.1853122241,
          176855.04845741516,
          197380.76386768147,
          219616.7139365172,
          243689.91751529532,
          269636.593071409,
          297857.93516650744,
          328115.4451159614,
          361107.1233220998,
          396336.92847123137,
          434265.47562415566,
          476119.72310485545,
          519449.6104264222,
          568346.446072374,
          621056.3937456458,
          677295.3402894905,
          739572.2833342092,
          807478.1843710141,
          881431.3899785556,
          962554.4306963887,
          1052822.573524284,
          1151083.1248350197,
          1258580.540152738,
          1375321.8887802642,
          1501972.218412229,
          1639474.6865627426
         ],
         "yaxis": "y"
        },
        {
         "hovertemplate": "Scenario=ABM Baseline<br>Year=%{x}<br>Installed Capacity in MW=%{y}<extra></extra>",
         "legendgroup": "ABM Baseline",
         "line": {
          "color": "#FECB52",
          "dash": "solid"
         },
         "mode": "lines",
         "name": "ABM Baseline",
         "orientation": "v",
         "showlegend": true,
         "type": "scatter",
         "x": [
          1995,
          1996,
          1997,
          1998,
          1999,
          2000,
          2001,
          2002,
          2003,
          2004,
          2005,
          2006,
          2007,
          2008,
          2009,
          2010,
          2011,
          2012,
          2013,
          2014,
          2015,
          2016,
          2017,
          2018,
          2019,
          2020,
          2021,
          2022,
          2023,
          2024,
          2025,
          2026,
          2027,
          2028,
          2029,
          2030,
          2031,
          2032,
          2033,
          2034,
          2035,
          2036,
          2037,
          2038,
          2039,
          2040,
          2041,
          2042,
          2043,
          2044,
          2045,
          2046,
          2047,
          2048,
          2049,
          2050
         ],
         "xaxis": "x",
         "y": [
          12.6,
          22.2437481731632,
          33.81018778218666,
          45.46364884734131,
          62.178076183284645,
          82.82050656328029,
          110.36704574580519,
          152.18439240176184,
          210.88062484300113,
          304.09781899967635,
          388.3960031804289,
          476.59381350193945,
          799.8476999185393,
          1110.9175265856832,
          1537.0397560648491,
          2250.1209613663095,
          4025.6147032971594,
          7073.446991041376,
          11084.453814846525,
          14757.0240102478,
          21555.68338618433,
          34414.32752819589,
          44076.52354269368,
          53268.88376115328,
          64025.0982333121,
          78704.19656117118,
          94871.2999195415,
          109707.44316652793,
          124446.99701713023,
          140504.98954494018,
          157939.1853122241,
          176855.08025712438,
          197380.645863258,
          219616.44181555093,
          243689.55818988258,
          269640.2356052514,
          297857.4461919135,
          328124.55758245767,
          361107.34664467094,
          396356.7931685923,
          434316.61634310783,
          476145.2530101246,
          519572.01944142854,
          568438.0181284768,
          621130.4804668804,
          677410.7199097502,
          739669.9401230761,
          807569.3189642207,
          881544.854740688,
          962694.7167785078,
          1052936.9066990693,
          1151200.3420858178,
          1258698.8672956803,
          1375456.319253701,
          1502132.4590676893,
          1639664.114175182
         ],
         "yaxis": "y"
        }
       ],
       "layout": {
        "legend": {
         "title": {
          "text": "Scenario"
         },
         "tracegroupgap": 0
        },
        "margin": {
         "t": 60
        },
        "template": {
         "data": {
          "bar": [
           {
            "error_x": {
             "color": "#2a3f5f"
            },
            "error_y": {
             "color": "#2a3f5f"
            },
            "marker": {
             "line": {
              "color": "#E5ECF6",
              "width": 0.5
             },
             "pattern": {
              "fillmode": "overlay",
              "size": 10,
              "solidity": 0.2
             }
            },
            "type": "bar"
           }
          ],
          "barpolar": [
           {
            "marker": {
             "line": {
              "color": "#E5ECF6",
              "width": 0.5
             },
             "pattern": {
              "fillmode": "overlay",
              "size": 10,
              "solidity": 0.2
             }
            },
            "type": "barpolar"
           }
          ],
          "carpet": [
           {
            "aaxis": {
             "endlinecolor": "#2a3f5f",
             "gridcolor": "white",
             "linecolor": "white",
             "minorgridcolor": "white",
             "startlinecolor": "#2a3f5f"
            },
            "baxis": {
             "endlinecolor": "#2a3f5f",
             "gridcolor": "white",
             "linecolor": "white",
             "minorgridcolor": "white",
             "startlinecolor": "#2a3f5f"
            },
            "type": "carpet"
           }
          ],
          "choropleth": [
           {
            "colorbar": {
             "outlinewidth": 0,
             "ticks": ""
            },
            "type": "choropleth"
           }
          ],
          "contour": [
           {
            "colorbar": {
             "outlinewidth": 0,
             "ticks": ""
            },
            "colorscale": [
             [
              0,
              "#0d0887"
             ],
             [
              0.1111111111111111,
              "#46039f"
             ],
             [
              0.2222222222222222,
              "#7201a8"
             ],
             [
              0.3333333333333333,
              "#9c179e"
             ],
             [
              0.4444444444444444,
              "#bd3786"
             ],
             [
              0.5555555555555556,
              "#d8576b"
             ],
             [
              0.6666666666666666,
              "#ed7953"
             ],
             [
              0.7777777777777778,
              "#fb9f3a"
             ],
             [
              0.8888888888888888,
              "#fdca26"
             ],
             [
              1,
              "#f0f921"
             ]
            ],
            "type": "contour"
           }
          ],
          "contourcarpet": [
           {
            "colorbar": {
             "outlinewidth": 0,
             "ticks": ""
            },
            "type": "contourcarpet"
           }
          ],
          "heatmap": [
           {
            "colorbar": {
             "outlinewidth": 0,
             "ticks": ""
            },
            "colorscale": [
             [
              0,
              "#0d0887"
             ],
             [
              0.1111111111111111,
              "#46039f"
             ],
             [
              0.2222222222222222,
              "#7201a8"
             ],
             [
              0.3333333333333333,
              "#9c179e"
             ],
             [
              0.4444444444444444,
              "#bd3786"
             ],
             [
              0.5555555555555556,
              "#d8576b"
             ],
             [
              0.6666666666666666,
              "#ed7953"
             ],
             [
              0.7777777777777778,
              "#fb9f3a"
             ],
             [
              0.8888888888888888,
              "#fdca26"
             ],
             [
              1,
              "#f0f921"
             ]
            ],
            "type": "heatmap"
           }
          ],
          "heatmapgl": [
           {
            "colorbar": {
             "outlinewidth": 0,
             "ticks": ""
            },
            "colorscale": [
             [
              0,
              "#0d0887"
             ],
             [
              0.1111111111111111,
              "#46039f"
             ],
             [
              0.2222222222222222,
              "#7201a8"
             ],
             [
              0.3333333333333333,
              "#9c179e"
             ],
             [
              0.4444444444444444,
              "#bd3786"
             ],
             [
              0.5555555555555556,
              "#d8576b"
             ],
             [
              0.6666666666666666,
              "#ed7953"
             ],
             [
              0.7777777777777778,
              "#fb9f3a"
             ],
             [
              0.8888888888888888,
              "#fdca26"
             ],
             [
              1,
              "#f0f921"
             ]
            ],
            "type": "heatmapgl"
           }
          ],
          "histogram": [
           {
            "marker": {
             "pattern": {
              "fillmode": "overlay",
              "size": 10,
              "solidity": 0.2
             }
            },
            "type": "histogram"
           }
          ],
          "histogram2d": [
           {
            "colorbar": {
             "outlinewidth": 0,
             "ticks": ""
            },
            "colorscale": [
             [
              0,
              "#0d0887"
             ],
             [
              0.1111111111111111,
              "#46039f"
             ],
             [
              0.2222222222222222,
              "#7201a8"
             ],
             [
              0.3333333333333333,
              "#9c179e"
             ],
             [
              0.4444444444444444,
              "#bd3786"
             ],
             [
              0.5555555555555556,
              "#d8576b"
             ],
             [
              0.6666666666666666,
              "#ed7953"
             ],
             [
              0.7777777777777778,
              "#fb9f3a"
             ],
             [
              0.8888888888888888,
              "#fdca26"
             ],
             [
              1,
              "#f0f921"
             ]
            ],
            "type": "histogram2d"
           }
          ],
          "histogram2dcontour": [
           {
            "colorbar": {
             "outlinewidth": 0,
             "ticks": ""
            },
            "colorscale": [
             [
              0,
              "#0d0887"
             ],
             [
              0.1111111111111111,
              "#46039f"
             ],
             [
              0.2222222222222222,
              "#7201a8"
             ],
             [
              0.3333333333333333,
              "#9c179e"
             ],
             [
              0.4444444444444444,
              "#bd3786"
             ],
             [
              0.5555555555555556,
              "#d8576b"
             ],
             [
              0.6666666666666666,
              "#ed7953"
             ],
             [
              0.7777777777777778,
              "#fb9f3a"
             ],
             [
              0.8888888888888888,
              "#fdca26"
             ],
             [
              1,
              "#f0f921"
             ]
            ],
            "type": "histogram2dcontour"
           }
          ],
          "mesh3d": [
           {
            "colorbar": {
             "outlinewidth": 0,
             "ticks": ""
            },
            "type": "mesh3d"
           }
          ],
          "parcoords": [
           {
            "line": {
             "colorbar": {
              "outlinewidth": 0,
              "ticks": ""
             }
            },
            "type": "parcoords"
           }
          ],
          "pie": [
           {
            "automargin": true,
            "type": "pie"
           }
          ],
          "scatter": [
           {
            "marker": {
             "colorbar": {
              "outlinewidth": 0,
              "ticks": ""
             }
            },
            "type": "scatter"
           }
          ],
          "scatter3d": [
           {
            "line": {
             "colorbar": {
              "outlinewidth": 0,
              "ticks": ""
             }
            },
            "marker": {
             "colorbar": {
              "outlinewidth": 0,
              "ticks": ""
             }
            },
            "type": "scatter3d"
           }
          ],
          "scattercarpet": [
           {
            "marker": {
             "colorbar": {
              "outlinewidth": 0,
              "ticks": ""
             }
            },
            "type": "scattercarpet"
           }
          ],
          "scattergeo": [
           {
            "marker": {
             "colorbar": {
              "outlinewidth": 0,
              "ticks": ""
             }
            },
            "type": "scattergeo"
           }
          ],
          "scattergl": [
           {
            "marker": {
             "colorbar": {
              "outlinewidth": 0,
              "ticks": ""
             }
            },
            "type": "scattergl"
           }
          ],
          "scattermapbox": [
           {
            "marker": {
             "colorbar": {
              "outlinewidth": 0,
              "ticks": ""
             }
            },
            "type": "scattermapbox"
           }
          ],
          "scatterpolar": [
           {
            "marker": {
             "colorbar": {
              "outlinewidth": 0,
              "ticks": ""
             }
            },
            "type": "scatterpolar"
           }
          ],
          "scatterpolargl": [
           {
            "marker": {
             "colorbar": {
              "outlinewidth": 0,
              "ticks": ""
             }
            },
            "type": "scatterpolargl"
           }
          ],
          "scatterternary": [
           {
            "marker": {
             "colorbar": {
              "outlinewidth": 0,
              "ticks": ""
             }
            },
            "type": "scatterternary"
           }
          ],
          "surface": [
           {
            "colorbar": {
             "outlinewidth": 0,
             "ticks": ""
            },
            "colorscale": [
             [
              0,
              "#0d0887"
             ],
             [
              0.1111111111111111,
              "#46039f"
             ],
             [
              0.2222222222222222,
              "#7201a8"
             ],
             [
              0.3333333333333333,
              "#9c179e"
             ],
             [
              0.4444444444444444,
              "#bd3786"
             ],
             [
              0.5555555555555556,
              "#d8576b"
             ],
             [
              0.6666666666666666,
              "#ed7953"
             ],
             [
              0.7777777777777778,
              "#fb9f3a"
             ],
             [
              0.8888888888888888,
              "#fdca26"
             ],
             [
              1,
              "#f0f921"
             ]
            ],
            "type": "surface"
           }
          ],
          "table": [
           {
            "cells": {
             "fill": {
              "color": "#EBF0F8"
             },
             "line": {
              "color": "white"
             }
            },
            "header": {
             "fill": {
              "color": "#C8D4E3"
             },
             "line": {
              "color": "white"
             }
            },
            "type": "table"
           }
          ]
         },
         "layout": {
          "annotationdefaults": {
           "arrowcolor": "#2a3f5f",
           "arrowhead": 0,
           "arrowwidth": 1
          },
          "autotypenumbers": "strict",
          "coloraxis": {
           "colorbar": {
            "outlinewidth": 0,
            "ticks": ""
           }
          },
          "colorscale": {
           "diverging": [
            [
             0,
             "#8e0152"
            ],
            [
             0.1,
             "#c51b7d"
            ],
            [
             0.2,
             "#de77ae"
            ],
            [
             0.3,
             "#f1b6da"
            ],
            [
             0.4,
             "#fde0ef"
            ],
            [
             0.5,
             "#f7f7f7"
            ],
            [
             0.6,
             "#e6f5d0"
            ],
            [
             0.7,
             "#b8e186"
            ],
            [
             0.8,
             "#7fbc41"
            ],
            [
             0.9,
             "#4d9221"
            ],
            [
             1,
             "#276419"
            ]
           ],
           "sequential": [
            [
             0,
             "#0d0887"
            ],
            [
             0.1111111111111111,
             "#46039f"
            ],
            [
             0.2222222222222222,
             "#7201a8"
            ],
            [
             0.3333333333333333,
             "#9c179e"
            ],
            [
             0.4444444444444444,
             "#bd3786"
            ],
            [
             0.5555555555555556,
             "#d8576b"
            ],
            [
             0.6666666666666666,
             "#ed7953"
            ],
            [
             0.7777777777777778,
             "#fb9f3a"
            ],
            [
             0.8888888888888888,
             "#fdca26"
            ],
            [
             1,
             "#f0f921"
            ]
           ],
           "sequentialminus": [
            [
             0,
             "#0d0887"
            ],
            [
             0.1111111111111111,
             "#46039f"
            ],
            [
             0.2222222222222222,
             "#7201a8"
            ],
            [
             0.3333333333333333,
             "#9c179e"
            ],
            [
             0.4444444444444444,
             "#bd3786"
            ],
            [
             0.5555555555555556,
             "#d8576b"
            ],
            [
             0.6666666666666666,
             "#ed7953"
            ],
            [
             0.7777777777777778,
             "#fb9f3a"
            ],
            [
             0.8888888888888888,
             "#fdca26"
            ],
            [
             1,
             "#f0f921"
            ]
           ]
          },
          "colorway": [
           "#636efa",
           "#EF553B",
           "#00cc96",
           "#ab63fa",
           "#FFA15A",
           "#19d3f3",
           "#FF6692",
           "#B6E880",
           "#FF97FF",
           "#FECB52"
          ],
          "font": {
           "color": "#2a3f5f"
          },
          "geo": {
           "bgcolor": "white",
           "lakecolor": "white",
           "landcolor": "#E5ECF6",
           "showlakes": true,
           "showland": true,
           "subunitcolor": "white"
          },
          "hoverlabel": {
           "align": "left"
          },
          "hovermode": "closest",
          "mapbox": {
           "style": "light"
          },
          "paper_bgcolor": "white",
          "plot_bgcolor": "#E5ECF6",
          "polar": {
           "angularaxis": {
            "gridcolor": "white",
            "linecolor": "white",
            "ticks": ""
           },
           "bgcolor": "#E5ECF6",
           "radialaxis": {
            "gridcolor": "white",
            "linecolor": "white",
            "ticks": ""
           }
          },
          "scene": {
           "xaxis": {
            "backgroundcolor": "#E5ECF6",
            "gridcolor": "white",
            "gridwidth": 2,
            "linecolor": "white",
            "showbackground": true,
            "ticks": "",
            "zerolinecolor": "white"
           },
           "yaxis": {
            "backgroundcolor": "#E5ECF6",
            "gridcolor": "white",
            "gridwidth": 2,
            "linecolor": "white",
            "showbackground": true,
            "ticks": "",
            "zerolinecolor": "white"
           },
           "zaxis": {
            "backgroundcolor": "#E5ECF6",
            "gridcolor": "white",
            "gridwidth": 2,
            "linecolor": "white",
            "showbackground": true,
            "ticks": "",
            "zerolinecolor": "white"
           }
          },
          "shapedefaults": {
           "line": {
            "color": "#2a3f5f"
           }
          },
          "ternary": {
           "aaxis": {
            "gridcolor": "white",
            "linecolor": "white",
            "ticks": ""
           },
           "baxis": {
            "gridcolor": "white",
            "linecolor": "white",
            "ticks": ""
           },
           "bgcolor": "#E5ECF6",
           "caxis": {
            "gridcolor": "white",
            "linecolor": "white",
            "ticks": ""
           }
          },
          "title": {
           "x": 0.05
          },
          "xaxis": {
           "automargin": true,
           "gridcolor": "white",
           "linecolor": "white",
           "ticks": "",
           "title": {
            "standoff": 15
           },
           "zerolinecolor": "white",
           "zerolinewidth": 2
          },
          "yaxis": {
           "automargin": true,
           "gridcolor": "white",
           "linecolor": "white",
           "ticks": "",
           "title": {
            "standoff": 15
           },
           "zerolinecolor": "white",
           "zerolinewidth": 2
          }
         }
        },
        "title": {
         "text": "Simulation 1: Installed Capacity",
         "x": 0.5
        },
        "xaxis": {
         "anchor": "y",
         "domain": [
          0,
          1
         ],
         "title": {
          "text": "Year"
         }
        },
        "yaxis": {
         "anchor": "x",
         "domain": [
          0,
          1
         ],
         "title": {
          "text": "Installed Capacity in MW"
         }
        }
       }
      },
      "text/html": [
       "<div>                            <div id=\"e83c8e0d-01b9-4e56-bb2e-6aafc96d49a2\" class=\"plotly-graph-div\" style=\"height:525px; width:100%;\"></div>            <script type=\"text/javascript\">                require([\"plotly\"], function(Plotly) {                    window.PLOTLYENV=window.PLOTLYENV || {};                                    if (document.getElementById(\"e83c8e0d-01b9-4e56-bb2e-6aafc96d49a2\")) {                    Plotly.newPlot(                        \"e83c8e0d-01b9-4e56-bb2e-6aafc96d49a2\",                        [{\"hovertemplate\":\"Scenario=PV ICE Baseline<br>Year=%{x}<br>Installed Capacity in MW=%{y}<extra></extra>\",\"legendgroup\":\"PV ICE Baseline\",\"line\":{\"color\":\"#636efa\",\"dash\":\"solid\"},\"mode\":\"lines\",\"name\":\"PV ICE Baseline\",\"orientation\":\"v\",\"showlegend\":true,\"type\":\"scatter\",\"x\":[1995,1996,1997,1998,1999,2000,2001,2002,2003,2004,2005,2006,2007,2008,2009,2010,2011,2012,2013,2014,2015,2016,2017,2018,2019,2020,2021,2022,2023,2024,2025,2026,2027,2028,2029,2030,2031,2032,2033,2034,2035,2036,2037,2038,2039,2040,2041,2042,2043,2044,2045,2046,2047,2048,2049,2050],\"xaxis\":\"x\",\"y\":[12.6,22.2437481731632,33.81018778218666,45.46364884734131,62.178076183284645,82.82050656328029,110.36704574580519,152.18439240176184,210.88062484300113,304.09781899967635,388.3960031804289,476.59381350193945,799.8476999185393,1110.9175265856832,1537.0397560648491,2250.1209613663095,4025.6147032971594,7073.446991041376,11084.453814846525,14757.0240102478,21555.68338618433,34414.32752819589,44076.52354269368,53268.88376115328,64025.0982333121,78704.19656117118,94871.2999195415,109707.41218801064,124446.91858983616,140504.75574220336,157938.83483906733,176854.0897029995,197380.03250500452,219614.7842924434,243685.85437331494,269619.4466147657,297843.7560469848,328082.46353694826,361077.323455877,396284.3885260887,434186.0686395055,476053.43814765714,519316.81783911533,568226.1076193727,620941.9421842648,677166.2487846827,739454.875717984,807371.7149719539,881332.6588035229,962465.0997609578,1052749.0919172736,1151017.9534225655,1258518.2084792408,1375257.0054272185,1501901.8220734722,1639398.0909915227],\"yaxis\":\"y\"},{\"hovertemplate\":\"Scenario=Landfill Ban<br>Year=%{x}<br>Installed Capacity in MW=%{y}<extra></extra>\",\"legendgroup\":\"Landfill Ban\",\"line\":{\"color\":\"#EF553B\",\"dash\":\"solid\"},\"mode\":\"lines\",\"name\":\"Landfill Ban\",\"orientation\":\"v\",\"showlegend\":true,\"type\":\"scatter\",\"x\":[1995,1996,1997,1998,1999,2000,2001,2002,2003,2004,2005,2006,2007,2008,2009,2010,2011,2012,2013,2014,2015,2016,2017,2018,2019,2020,2021,2022,2023,2024,2025,2026,2027,2028,2029,2030,2031,2032,2033,2034,2035,2036,2037,2038,2039,2040,2041,2042,2043,2044,2045,2046,2047,2048,2049,2050],\"xaxis\":\"x\",\"y\":[12.6,22.2437481731632,33.81018778218666,45.46364884734131,62.178076183284645,82.82050656328029,110.36704574580519,152.18439240176184,210.88062484300113,304.09781899967635,388.3960031804289,476.59381350193945,799.8476999185393,1110.9175265856832,1537.0397560648491,2250.1209613663095,4025.6147032971594,7073.446991041376,11084.453814846525,14757.0240102478,21555.68338618433,34414.32752819589,44076.52354269368,53268.88376115328,64025.0982333121,78704.19656117118,94871.2999195415,109707.44316652793,124446.99701713023,140504.98954494018,157939.1853122241,176855.049081374,197380.76411708875,219616.71055909662,243689.93461897195,269636.65862121305,297858.1305990993,328115.8431967699,361107.5296683644,396337.26939716045,434265.82765078836,476120.2295224577,519449.253751572,568346.0062099069,621056.5397356644,677295.8027431698,739573.5732561675,807480.6522742637,881433.9917293718,962556.2927430415,1052825.3213313017,1151085.5808479288,1258583.4639318294,1375325.0387268118,1501975.2403111455,1639477.7077413914],\"yaxis\":\"y\"},{\"hovertemplate\":\"Scenario=High material recovery and Lower recycling costs<br>Year=%{x}<br>Installed Capacity in MW=%{y}<extra></extra>\",\"legendgroup\":\"High material recovery and Lower recycling costs\",\"line\":{\"color\":\"#00cc96\",\"dash\":\"solid\"},\"mode\":\"lines\",\"name\":\"High material recovery and Lower recycling costs\",\"orientation\":\"v\",\"showlegend\":true,\"type\":\"scatter\",\"x\":[1995,1996,1997,1998,1999,2000,2001,2002,2003,2004,2005,2006,2007,2008,2009,2010,2011,2012,2013,2014,2015,2016,2017,2018,2019,2020,2021,2022,2023,2024,2025,2026,2027,2028,2029,2030,2031,2032,2033,2034,2035,2036,2037,2038,2039,2040,2041,2042,2043,2044,2045,2046,2047,2048,2049,2050],\"xaxis\":\"x\",\"y\":[12.6,22.2437481731632,33.81018778218666,45.46364884734131,62.178076183284645,82.82050656328029,110.36704574580519,152.18439240176184,210.88062484300113,304.09781899967635,388.3960031804289,476.59381350193945,799.8476999185393,1110.9175265856832,1537.0397560648491,2250.1209613663095,4025.6147032971594,7073.446991041376,11084.453814846525,14757.0240102478,21555.68338618433,34414.32752819589,44076.52354269368,53268.88376115328,64025.0982333121,78704.19656117118,94871.2999195415,109707.44311840244,124446.99742976815,140504.9928364607,157939.1720955655,176855.01341035723,197380.70117420313,219616.51087656774,243689.44291947538,269635.7523013185,297856.1555235979,328112.1657064226,361101.01239609666,396328.0974302144,434254.2238616715,476100.0273055639,519426.4940870576,568310.5532667373,621006.9800814583,677239.9952126506,739507.5728147192,807409.5103973282,881369.3197074487,962505.5660803708,1052773.5809801018,1151038.9083674604,1258533.7548093996,1375271.4410552955,1501917.0768645753,1639414.1623694024],\"yaxis\":\"y\"},{\"hovertemplate\":\"Scenario=Lower recycling costs<br>Year=%{x}<br>Installed Capacity in MW=%{y}<extra></extra>\",\"legendgroup\":\"Lower recycling costs\",\"line\":{\"color\":\"#ab63fa\",\"dash\":\"solid\"},\"mode\":\"lines\",\"name\":\"Lower recycling costs\",\"orientation\":\"v\",\"showlegend\":true,\"type\":\"scatter\",\"x\":[1995,1996,1997,1998,1999,2000,2001,2002,2003,2004,2005,2006,2007,2008,2009,2010,2011,2012,2013,2014,2015,2016,2017,2018,2019,2020,2021,2022,2023,2024,2025,2026,2027,2028,2029,2030,2031,2032,2033,2034,2035,2036,2037,2038,2039,2040,2041,2042,2043,2044,2045,2046,2047,2048,2049,2050],\"xaxis\":\"x\",\"y\":[12.6,22.2437481731632,33.81018778218666,45.46364884734131,62.178076183284645,82.82050656328029,110.36704574580519,152.18439240176184,210.88062484300113,304.09781899967635,388.3960031804289,476.59381350193945,799.8476999185393,1110.9175265856832,1537.0397560648491,2250.1209613663095,4025.6147032971594,7073.446991041376,11084.453814846525,14757.0240102478,21555.68338618433,34414.32752819589,44076.52354269368,53268.88376115328,64025.0982333121,78704.19656117118,94871.2999195415,109707.44524734744,124447.00507986898,140505.0325073085,157939.21652607058,176855.12723905145,197380.43059092743,219616.43262352922,243690.07714668175,269646.2471505447,297861.0391997314,328140.0527842465,361114.0606316892,396388.412733447,434391.3669989994,476167.7102987455,519748.9018498531,568525.4067558341,621133.695638439,677451.07965255,739611.6774710787,807444.8415968278,881455.7562324863,962692.7660125608,1052836.6995760608,1151100.3770340567,1258541.8169194774,1375262.0208117517,1501906.4939888166,1639398.784183288],\"yaxis\":\"y\"},{\"hovertemplate\":\"Scenario=Higher landfill costs<br>Year=%{x}<br>Installed Capacity in MW=%{y}<extra></extra>\",\"legendgroup\":\"Higher landfill costs\",\"line\":{\"color\":\"#FFA15A\",\"dash\":\"solid\"},\"mode\":\"lines\",\"name\":\"Higher landfill costs\",\"orientation\":\"v\",\"showlegend\":true,\"type\":\"scatter\",\"x\":[1995,1996,1997,1998,1999,2000,2001,2002,2003,2004,2005,2006,2007,2008,2009,2010,2011,2012,2013,2014,2015,2016,2017,2018,2019,2020,2021,2022,2023,2024,2025,2026,2027,2028,2029,2030,2031,2032,2033,2034,2035,2036,2037,2038,2039,2040,2041,2042,2043,2044,2045,2046,2047,2048,2049,2050],\"xaxis\":\"x\",\"y\":[12.6,22.2437481731632,33.81018778218666,45.46364884734131,62.178076183284645,82.82050656328029,110.36704574580519,152.18439240176184,210.88062484300113,304.09781899967635,388.3960031804289,476.59381350193945,799.8476999185393,1110.9175265856832,1537.0397560648491,2250.1209613663095,4025.6147032971594,7073.446991041376,11084.453814846525,14757.0240102478,21555.68338618433,34414.32752819589,44076.52354269368,53268.88376115328,64025.0982333121,78704.19656117118,94871.2999195415,109707.42994647856,124446.97726177855,140504.96646266145,157939.1412043974,176854.9039176048,197380.50327561298,219616.13047344922,243688.82821051782,269634.298407216,297854.48367913783,328109.97850179905,361098.48311859596,396326.45936708053,434255.5610488418,476101.31094562664,519437.6114862216,568321.7020375922,621019.600125017,677259.1220527334,739526.7213166703,807428.6450654431,881389.7486376023,962525.9260569866,1052790.9807967125,1151055.0188409383,1258549.9000833225,1375288.834296376,1501936.2612285605,1639435.445917893],\"yaxis\":\"y\"},{\"hovertemplate\":\"Scenario=Improved lifetime<br>Year=%{x}<br>Installed Capacity in MW=%{y}<extra></extra>\",\"legendgroup\":\"Improved lifetime\",\"line\":{\"color\":\"#19d3f3\",\"dash\":\"solid\"},\"mode\":\"lines\",\"name\":\"Improved lifetime\",\"orientation\":\"v\",\"showlegend\":true,\"type\":\"scatter\",\"x\":[1995,1996,1997,1998,1999,2000,2001,2002,2003,2004,2005,2006,2007,2008,2009,2010,2011,2012,2013,2014,2015,2016,2017,2018,2019,2020,2021,2022,2023,2024,2025,2026,2027,2028,2029,2030,2031,2032,2033,2034,2035,2036,2037,2038,2039,2040,2041,2042,2043,2044,2045,2046,2047,2048,2049,2050],\"xaxis\":\"x\",\"y\":[12.6,22.2437481731632,33.81018778218666,45.46364884734131,62.178076183284645,82.82050656328029,110.36703763614237,152.1841207051178,210.8782665934953,304.08623400173377,388.3550321236249,476.47739569367496,799.566116606426,1110.3188252114055,1535.9001218637816,2248.1628460160914,4022.5823916426875,7069.278167241394,11079.585300881467,14752.846401591101,21548.106681751007,34417.888170952196,44088.92837099885,53310.77522298108,64092.47918994155,78824.62736157454,95034.66400030602,109944.51295213753,124738.41077695187,140894.57174550818,158413.37930780507,177470.01168941663,198138.77900806666,220612.71898332794,244941.73448949412,271359.6752050751,300162.1509157203,331270.4846859507,365189.87380219926,401723.0387230269,441650.1745548988,484346.2228762078,531432.3981168923,581487.4463115222,637111.456254725,696121.8074585192,761838.8173091674,831882.0401229573,909378.8971805518,991368.8057637617,1083214.7144347925,1179237.991036794,1285113.7138253222,1405224.017739256,1531966.7159858884,1674417.972807227],\"yaxis\":\"y\"},{\"hovertemplate\":\"Scenario=Improved learning effect<br>Year=%{x}<br>Installed Capacity in MW=%{y}<extra></extra>\",\"legendgroup\":\"Improved learning effect\",\"line\":{\"color\":\"#FF6692\",\"dash\":\"solid\"},\"mode\":\"lines\",\"name\":\"Improved learning effect\",\"orientation\":\"v\",\"showlegend\":true,\"type\":\"scatter\",\"x\":[1995,1996,1997,1998,1999,2000,2001,2002,2003,2004,2005,2006,2007,2008,2009,2010,2011,2012,2013,2014,2015,2016,2017,2018,2019,2020,2021,2022,2023,2024,2025,2026,2027,2028,2029,2030,2031,2032,2033,2034,2035,2036,2037,2038,2039,2040,2041,2042,2043,2044,2045,2046,2047,2048,2049,2050],\"xaxis\":\"x\",\"y\":[12.6,22.2437481731632,33.81018778218666,45.46364884734131,62.178076183284645,82.82050656328029,110.36704574580519,152.18439240176184,210.88062484300113,304.09781899967635,388.3960031804289,476.59381350193945,799.8476999185393,1110.9175265856832,1537.0397560648491,2250.1209613663095,4025.6147032971594,7073.446991041376,11084.453814846525,14757.0240102478,21555.68338618433,34414.32752819589,44076.52354269368,53268.88376115328,64025.0982333121,78704.19656117118,94871.2999195415,109707.46509865507,124447.09280061211,140505.3485861787,157940.7406811106,176858.93988381268,197386.55230198422,219625.421983898,243702.57397144008,269661.0552992996,297887.70341426146,328165.5251211117,361163.46702404675,396406.3753814334,434346.44706543616,476191.71378510114,519547.8051561877,568426.850026379,621118.8177725571,677350.6163994253,739607.3141770185,807497.2452635877,881444.1737373549,962568.0529622561,1052824.0254649709,1151082.0065015096,1258573.706016456,1375311.9328079831,1501959.9760644461,1639460.0312950865],\"yaxis\":\"y\"},{\"hovertemplate\":\"Scenario=Reuse warranties<br>Year=%{x}<br>Installed Capacity in MW=%{y}<extra></extra>\",\"legendgroup\":\"Reuse warranties\",\"line\":{\"color\":\"#B6E880\",\"dash\":\"solid\"},\"mode\":\"lines\",\"name\":\"Reuse warranties\",\"orientation\":\"v\",\"showlegend\":true,\"type\":\"scatter\",\"x\":[1995,1996,1997,1998,1999,2000,2001,2002,2003,2004,2005,2006,2007,2008,2009,2010,2011,2012,2013,2014,2015,2016,2017,2018,2019,2020,2021,2022,2023,2024,2025,2026,2027,2028,2029,2030,2031,2032,2033,2034,2035,2036,2037,2038,2039,2040,2041,2042,2043,2044,2045,2046,2047,2048,2049,2050],\"xaxis\":\"x\",\"y\":[12.6,22.2437481731632,33.81018778218666,45.46364884734131,62.178076183284645,82.82050656328029,110.36704574580519,152.18439240176184,210.88062484300113,304.09781899967635,388.3960031804289,476.59381350193945,799.8476999185393,1110.9175265856832,1537.0397560648491,2250.1209613663095,4025.6147032971594,7073.446991041376,11084.453814846525,14757.0240102478,21555.68338618433,34414.32752819589,44076.52354269368,53268.88376115328,64025.0982333121,78704.19656117118,94871.2999195415,109707.44311822864,124446.99742950917,140504.99283595936,157939.17208209547,176855.01328301436,197380.70105494818,219616.51039065042,243689.44171685827,269635.74563275545,297856.1503068395,328112.14378694806,361100.99273337505,396328.028166027,434254.0522752887,476099.8994900745,519425.8791752141,568310.0502333109,621006.5584214428,677239.335125478,739507.0696702782,807409.1149838369,881368.8499072857,962504.9605036892,1052773.211388847,1151038.5679733658,1258533.4972037019,1375271.19263971,1501916.8033092218,1639413.864927861],\"yaxis\":\"y\"},{\"hovertemplate\":\"Scenario=Seeding reuse<br>Year=%{x}<br>Installed Capacity in MW=%{y}<extra></extra>\",\"legendgroup\":\"Seeding reuse\",\"line\":{\"color\":\"#FF97FF\",\"dash\":\"solid\"},\"mode\":\"lines\",\"name\":\"Seeding reuse\",\"orientation\":\"v\",\"showlegend\":true,\"type\":\"scatter\",\"x\":[1995,1996,1997,1998,1999,2000,2001,2002,2003,2004,2005,2006,2007,2008,2009,2010,2011,2012,2013,2014,2015,2016,2017,2018,2019,2020,2021,2022,2023,2024,2025,2026,2027,2028,2029,2030,2031,2032,2033,2034,2035,2036,2037,2038,2039,2040,2041,2042,2043,2044,2045,2046,2047,2048,2049,2050],\"xaxis\":\"x\",\"y\":[12.6,22.2437481731632,33.81018778218666,45.46364884734131,62.178076183284645,82.82050656328029,110.36704574580519,152.18439240176184,210.88062484300113,304.09781899967635,388.3960031804289,476.59381350193945,799.8476999185393,1110.9175265856832,1537.0397560648491,2250.1209613663095,4025.6147032971594,7073.446991041376,11084.453814846525,14757.0240102478,21555.68338618433,34414.32752819589,44076.52354269368,53268.88376115328,64025.0982333121,78704.19656117118,94871.2999195415,109707.44316652793,124446.99701713023,140504.98954494018,157939.1853122241,176855.04845741516,197380.76386768147,219616.7139365172,243689.91751529532,269636.593071409,297857.93516650744,328115.4451159614,361107.1233220998,396336.92847123137,434265.47562415566,476119.72310485545,519449.6104264222,568346.446072374,621056.3937456458,677295.3402894905,739572.2833342092,807478.1843710141,881431.3899785556,962554.4306963887,1052822.573524284,1151083.1248350197,1258580.540152738,1375321.8887802642,1501972.218412229,1639474.6865627426],\"yaxis\":\"y\"},{\"hovertemplate\":\"Scenario=ABM Baseline<br>Year=%{x}<br>Installed Capacity in MW=%{y}<extra></extra>\",\"legendgroup\":\"ABM Baseline\",\"line\":{\"color\":\"#FECB52\",\"dash\":\"solid\"},\"mode\":\"lines\",\"name\":\"ABM Baseline\",\"orientation\":\"v\",\"showlegend\":true,\"type\":\"scatter\",\"x\":[1995,1996,1997,1998,1999,2000,2001,2002,2003,2004,2005,2006,2007,2008,2009,2010,2011,2012,2013,2014,2015,2016,2017,2018,2019,2020,2021,2022,2023,2024,2025,2026,2027,2028,2029,2030,2031,2032,2033,2034,2035,2036,2037,2038,2039,2040,2041,2042,2043,2044,2045,2046,2047,2048,2049,2050],\"xaxis\":\"x\",\"y\":[12.6,22.2437481731632,33.81018778218666,45.46364884734131,62.178076183284645,82.82050656328029,110.36704574580519,152.18439240176184,210.88062484300113,304.09781899967635,388.3960031804289,476.59381350193945,799.8476999185393,1110.9175265856832,1537.0397560648491,2250.1209613663095,4025.6147032971594,7073.446991041376,11084.453814846525,14757.0240102478,21555.68338618433,34414.32752819589,44076.52354269368,53268.88376115328,64025.0982333121,78704.19656117118,94871.2999195415,109707.44316652793,124446.99701713023,140504.98954494018,157939.1853122241,176855.08025712438,197380.645863258,219616.44181555093,243689.55818988258,269640.2356052514,297857.4461919135,328124.55758245767,361107.34664467094,396356.7931685923,434316.61634310783,476145.2530101246,519572.01944142854,568438.0181284768,621130.4804668804,677410.7199097502,739669.9401230761,807569.3189642207,881544.854740688,962694.7167785078,1052936.9066990693,1151200.3420858178,1258698.8672956803,1375456.319253701,1502132.4590676893,1639664.114175182],\"yaxis\":\"y\"}],                        {\"legend\":{\"title\":{\"text\":\"Scenario\"},\"tracegroupgap\":0},\"margin\":{\"t\":60},\"template\":{\"data\":{\"bar\":[{\"error_x\":{\"color\":\"#2a3f5f\"},\"error_y\":{\"color\":\"#2a3f5f\"},\"marker\":{\"line\":{\"color\":\"#E5ECF6\",\"width\":0.5},\"pattern\":{\"fillmode\":\"overlay\",\"size\":10,\"solidity\":0.2}},\"type\":\"bar\"}],\"barpolar\":[{\"marker\":{\"line\":{\"color\":\"#E5ECF6\",\"width\":0.5},\"pattern\":{\"fillmode\":\"overlay\",\"size\":10,\"solidity\":0.2}},\"type\":\"barpolar\"}],\"carpet\":[{\"aaxis\":{\"endlinecolor\":\"#2a3f5f\",\"gridcolor\":\"white\",\"linecolor\":\"white\",\"minorgridcolor\":\"white\",\"startlinecolor\":\"#2a3f5f\"},\"baxis\":{\"endlinecolor\":\"#2a3f5f\",\"gridcolor\":\"white\",\"linecolor\":\"white\",\"minorgridcolor\":\"white\",\"startlinecolor\":\"#2a3f5f\"},\"type\":\"carpet\"}],\"choropleth\":[{\"colorbar\":{\"outlinewidth\":0,\"ticks\":\"\"},\"type\":\"choropleth\"}],\"contour\":[{\"colorbar\":{\"outlinewidth\":0,\"ticks\":\"\"},\"colorscale\":[[0.0,\"#0d0887\"],[0.1111111111111111,\"#46039f\"],[0.2222222222222222,\"#7201a8\"],[0.3333333333333333,\"#9c179e\"],[0.4444444444444444,\"#bd3786\"],[0.5555555555555556,\"#d8576b\"],[0.6666666666666666,\"#ed7953\"],[0.7777777777777778,\"#fb9f3a\"],[0.8888888888888888,\"#fdca26\"],[1.0,\"#f0f921\"]],\"type\":\"contour\"}],\"contourcarpet\":[{\"colorbar\":{\"outlinewidth\":0,\"ticks\":\"\"},\"type\":\"contourcarpet\"}],\"heatmap\":[{\"colorbar\":{\"outlinewidth\":0,\"ticks\":\"\"},\"colorscale\":[[0.0,\"#0d0887\"],[0.1111111111111111,\"#46039f\"],[0.2222222222222222,\"#7201a8\"],[0.3333333333333333,\"#9c179e\"],[0.4444444444444444,\"#bd3786\"],[0.5555555555555556,\"#d8576b\"],[0.6666666666666666,\"#ed7953\"],[0.7777777777777778,\"#fb9f3a\"],[0.8888888888888888,\"#fdca26\"],[1.0,\"#f0f921\"]],\"type\":\"heatmap\"}],\"heatmapgl\":[{\"colorbar\":{\"outlinewidth\":0,\"ticks\":\"\"},\"colorscale\":[[0.0,\"#0d0887\"],[0.1111111111111111,\"#46039f\"],[0.2222222222222222,\"#7201a8\"],[0.3333333333333333,\"#9c179e\"],[0.4444444444444444,\"#bd3786\"],[0.5555555555555556,\"#d8576b\"],[0.6666666666666666,\"#ed7953\"],[0.7777777777777778,\"#fb9f3a\"],[0.8888888888888888,\"#fdca26\"],[1.0,\"#f0f921\"]],\"type\":\"heatmapgl\"}],\"histogram\":[{\"marker\":{\"pattern\":{\"fillmode\":\"overlay\",\"size\":10,\"solidity\":0.2}},\"type\":\"histogram\"}],\"histogram2d\":[{\"colorbar\":{\"outlinewidth\":0,\"ticks\":\"\"},\"colorscale\":[[0.0,\"#0d0887\"],[0.1111111111111111,\"#46039f\"],[0.2222222222222222,\"#7201a8\"],[0.3333333333333333,\"#9c179e\"],[0.4444444444444444,\"#bd3786\"],[0.5555555555555556,\"#d8576b\"],[0.6666666666666666,\"#ed7953\"],[0.7777777777777778,\"#fb9f3a\"],[0.8888888888888888,\"#fdca26\"],[1.0,\"#f0f921\"]],\"type\":\"histogram2d\"}],\"histogram2dcontour\":[{\"colorbar\":{\"outlinewidth\":0,\"ticks\":\"\"},\"colorscale\":[[0.0,\"#0d0887\"],[0.1111111111111111,\"#46039f\"],[0.2222222222222222,\"#7201a8\"],[0.3333333333333333,\"#9c179e\"],[0.4444444444444444,\"#bd3786\"],[0.5555555555555556,\"#d8576b\"],[0.6666666666666666,\"#ed7953\"],[0.7777777777777778,\"#fb9f3a\"],[0.8888888888888888,\"#fdca26\"],[1.0,\"#f0f921\"]],\"type\":\"histogram2dcontour\"}],\"mesh3d\":[{\"colorbar\":{\"outlinewidth\":0,\"ticks\":\"\"},\"type\":\"mesh3d\"}],\"parcoords\":[{\"line\":{\"colorbar\":{\"outlinewidth\":0,\"ticks\":\"\"}},\"type\":\"parcoords\"}],\"pie\":[{\"automargin\":true,\"type\":\"pie\"}],\"scatter\":[{\"marker\":{\"colorbar\":{\"outlinewidth\":0,\"ticks\":\"\"}},\"type\":\"scatter\"}],\"scatter3d\":[{\"line\":{\"colorbar\":{\"outlinewidth\":0,\"ticks\":\"\"}},\"marker\":{\"colorbar\":{\"outlinewidth\":0,\"ticks\":\"\"}},\"type\":\"scatter3d\"}],\"scattercarpet\":[{\"marker\":{\"colorbar\":{\"outlinewidth\":0,\"ticks\":\"\"}},\"type\":\"scattercarpet\"}],\"scattergeo\":[{\"marker\":{\"colorbar\":{\"outlinewidth\":0,\"ticks\":\"\"}},\"type\":\"scattergeo\"}],\"scattergl\":[{\"marker\":{\"colorbar\":{\"outlinewidth\":0,\"ticks\":\"\"}},\"type\":\"scattergl\"}],\"scattermapbox\":[{\"marker\":{\"colorbar\":{\"outlinewidth\":0,\"ticks\":\"\"}},\"type\":\"scattermapbox\"}],\"scatterpolar\":[{\"marker\":{\"colorbar\":{\"outlinewidth\":0,\"ticks\":\"\"}},\"type\":\"scatterpolar\"}],\"scatterpolargl\":[{\"marker\":{\"colorbar\":{\"outlinewidth\":0,\"ticks\":\"\"}},\"type\":\"scatterpolargl\"}],\"scatterternary\":[{\"marker\":{\"colorbar\":{\"outlinewidth\":0,\"ticks\":\"\"}},\"type\":\"scatterternary\"}],\"surface\":[{\"colorbar\":{\"outlinewidth\":0,\"ticks\":\"\"},\"colorscale\":[[0.0,\"#0d0887\"],[0.1111111111111111,\"#46039f\"],[0.2222222222222222,\"#7201a8\"],[0.3333333333333333,\"#9c179e\"],[0.4444444444444444,\"#bd3786\"],[0.5555555555555556,\"#d8576b\"],[0.6666666666666666,\"#ed7953\"],[0.7777777777777778,\"#fb9f3a\"],[0.8888888888888888,\"#fdca26\"],[1.0,\"#f0f921\"]],\"type\":\"surface\"}],\"table\":[{\"cells\":{\"fill\":{\"color\":\"#EBF0F8\"},\"line\":{\"color\":\"white\"}},\"header\":{\"fill\":{\"color\":\"#C8D4E3\"},\"line\":{\"color\":\"white\"}},\"type\":\"table\"}]},\"layout\":{\"annotationdefaults\":{\"arrowcolor\":\"#2a3f5f\",\"arrowhead\":0,\"arrowwidth\":1},\"autotypenumbers\":\"strict\",\"coloraxis\":{\"colorbar\":{\"outlinewidth\":0,\"ticks\":\"\"}},\"colorscale\":{\"diverging\":[[0,\"#8e0152\"],[0.1,\"#c51b7d\"],[0.2,\"#de77ae\"],[0.3,\"#f1b6da\"],[0.4,\"#fde0ef\"],[0.5,\"#f7f7f7\"],[0.6,\"#e6f5d0\"],[0.7,\"#b8e186\"],[0.8,\"#7fbc41\"],[0.9,\"#4d9221\"],[1,\"#276419\"]],\"sequential\":[[0.0,\"#0d0887\"],[0.1111111111111111,\"#46039f\"],[0.2222222222222222,\"#7201a8\"],[0.3333333333333333,\"#9c179e\"],[0.4444444444444444,\"#bd3786\"],[0.5555555555555556,\"#d8576b\"],[0.6666666666666666,\"#ed7953\"],[0.7777777777777778,\"#fb9f3a\"],[0.8888888888888888,\"#fdca26\"],[1.0,\"#f0f921\"]],\"sequentialminus\":[[0.0,\"#0d0887\"],[0.1111111111111111,\"#46039f\"],[0.2222222222222222,\"#7201a8\"],[0.3333333333333333,\"#9c179e\"],[0.4444444444444444,\"#bd3786\"],[0.5555555555555556,\"#d8576b\"],[0.6666666666666666,\"#ed7953\"],[0.7777777777777778,\"#fb9f3a\"],[0.8888888888888888,\"#fdca26\"],[1.0,\"#f0f921\"]]},\"colorway\":[\"#636efa\",\"#EF553B\",\"#00cc96\",\"#ab63fa\",\"#FFA15A\",\"#19d3f3\",\"#FF6692\",\"#B6E880\",\"#FF97FF\",\"#FECB52\"],\"font\":{\"color\":\"#2a3f5f\"},\"geo\":{\"bgcolor\":\"white\",\"lakecolor\":\"white\",\"landcolor\":\"#E5ECF6\",\"showlakes\":true,\"showland\":true,\"subunitcolor\":\"white\"},\"hoverlabel\":{\"align\":\"left\"},\"hovermode\":\"closest\",\"mapbox\":{\"style\":\"light\"},\"paper_bgcolor\":\"white\",\"plot_bgcolor\":\"#E5ECF6\",\"polar\":{\"angularaxis\":{\"gridcolor\":\"white\",\"linecolor\":\"white\",\"ticks\":\"\"},\"bgcolor\":\"#E5ECF6\",\"radialaxis\":{\"gridcolor\":\"white\",\"linecolor\":\"white\",\"ticks\":\"\"}},\"scene\":{\"xaxis\":{\"backgroundcolor\":\"#E5ECF6\",\"gridcolor\":\"white\",\"gridwidth\":2,\"linecolor\":\"white\",\"showbackground\":true,\"ticks\":\"\",\"zerolinecolor\":\"white\"},\"yaxis\":{\"backgroundcolor\":\"#E5ECF6\",\"gridcolor\":\"white\",\"gridwidth\":2,\"linecolor\":\"white\",\"showbackground\":true,\"ticks\":\"\",\"zerolinecolor\":\"white\"},\"zaxis\":{\"backgroundcolor\":\"#E5ECF6\",\"gridcolor\":\"white\",\"gridwidth\":2,\"linecolor\":\"white\",\"showbackground\":true,\"ticks\":\"\",\"zerolinecolor\":\"white\"}},\"shapedefaults\":{\"line\":{\"color\":\"#2a3f5f\"}},\"ternary\":{\"aaxis\":{\"gridcolor\":\"white\",\"linecolor\":\"white\",\"ticks\":\"\"},\"baxis\":{\"gridcolor\":\"white\",\"linecolor\":\"white\",\"ticks\":\"\"},\"bgcolor\":\"#E5ECF6\",\"caxis\":{\"gridcolor\":\"white\",\"linecolor\":\"white\",\"ticks\":\"\"}},\"title\":{\"x\":0.05},\"xaxis\":{\"automargin\":true,\"gridcolor\":\"white\",\"linecolor\":\"white\",\"ticks\":\"\",\"title\":{\"standoff\":15},\"zerolinecolor\":\"white\",\"zerolinewidth\":2},\"yaxis\":{\"automargin\":true,\"gridcolor\":\"white\",\"linecolor\":\"white\",\"ticks\":\"\",\"title\":{\"standoff\":15},\"zerolinecolor\":\"white\",\"zerolinewidth\":2}}},\"title\":{\"text\":\"Simulation 1: Installed Capacity\",\"x\":0.5},\"xaxis\":{\"anchor\":\"y\",\"domain\":[0.0,1.0],\"title\":{\"text\":\"Year\"}},\"yaxis\":{\"anchor\":\"x\",\"domain\":[0.0,1.0],\"title\":{\"text\":\"Installed Capacity in MW\"}}},                        {\"responsive\": true}                    ).then(function(){\n",
       "                            \n",
       "var gd = document.getElementById('e83c8e0d-01b9-4e56-bb2e-6aafc96d49a2');\n",
       "var x = new MutationObserver(function (mutations, observer) {{\n",
       "        var display = window.getComputedStyle(gd).display;\n",
       "        if (!display || display === 'none') {{\n",
       "            console.log([gd, 'removed!']);\n",
       "            Plotly.purge(gd);\n",
       "            observer.disconnect();\n",
       "        }}\n",
       "}});\n",
       "\n",
       "// Listen for the removal of the full notebook cells\n",
       "var notebookContainer = gd.closest('#notebook-container');\n",
       "if (notebookContainer) {{\n",
       "    x.observe(notebookContainer, {childList: true});\n",
       "}}\n",
       "\n",
       "// Listen for the clearing of the current output cell\n",
       "var outputEl = gd.closest('.output');\n",
       "if (outputEl) {{\n",
       "    x.observe(outputEl, {childList: true});\n",
       "}}\n",
       "\n",
       "                        })                };                });            </script>        </div>"
      ]
     },
     "metadata": {},
     "output_type": "display_data"
    }
   ],
   "source": [
    "filter_col = [col for col in UScum1 if (col.startswith('Capacity'))]\n",
    "df = UScum1[filter_col]\n",
    "df = df.set_axis(pretty_scenarios, axis=1)\n",
    "df['year'] = list(range(1995,2051))\n",
    "df = df.melt(id_vars = 'year')\n",
    "fig1 = px.line(df, x='year', y='value', color = 'variable', labels={\n",
    "                     \"year\": \"Year\",\n",
    "                     \"value\": \"Installed Capacity in MW\",\n",
    "                    \"variable\" :\"Scenario\"\n",
    "                 })\n",
    "fig1.update_layout(title_text='Simulation 1: Installed Capacity', title_x=0.5)\n",
    "fig1.show()"
   ]
  },
  {
   "cell_type": "markdown",
   "id": "36f495f2",
   "metadata": {},
   "source": [
    "## Clean up results for OpenEI export"
   ]
  },
  {
   "cell_type": "markdown",
   "id": "fb38a598",
   "metadata": {},
   "source": [
    "### Yearly Results"
   ]
  },
  {
   "cell_type": "code",
   "execution_count": null,
   "id": "29301892",
   "metadata": {},
   "outputs": [],
   "source": [
    "yearly_scenario_comparison = pd.DataFrame()"
   ]
  },
  {
   "cell_type": "code",
   "execution_count": null,
   "id": "5fb356b7",
   "metadata": {},
   "outputs": [],
   "source": [
    "#use scenarios as values\n",
    "years = USyearly.index\n",
    "yearly_scenario_comparison['@timeseries|Year'] = list(years)"
   ]
  },
  {
   "cell_type": "code",
   "execution_count": null,
   "id": "dc2e5e49",
   "metadata": {},
   "outputs": [],
   "source": [
    "scenarios = ['standard_PVICE','landfill_ban','high_mat_recovery_cheap_recycling','cheap_recycling','high_landfill_costs','better_lifetime','better_learning','reuse_warranties','seeding_reuse','juliens_baseline']\n",
    "pretty_scenarios = ['PV ICE Baseline','Landfill Ban','High material recovery and Lower recycling costs','Lower recycling costs','Higher landfill costs','Improved lifetime','Improved learning effect','Reuse warranties','Seeding reuse','ABM Baseline']\n",
    "\n",
    "#virgin material demand columns\n",
    "for myscenario in scenarios:\n",
    "    better_scenario_name = pretty_scenarios[scenarios.index(myscenario)]\n",
    "    virgin_material_demand = USyearly['VirginStock_glass_ABM_Simulation_' + myscenario] + USyearly['VirginStock_aluminium_frames_ABM_Simulation_' + myscenario] + USyearly['VirginStock_silver_ABM_Simulation_' + myscenario] + USyearly['VirginStock_silicon_ABM_Simulation_' + myscenario] + USyearly['VirginStock_copper_ABM_Simulation_' + myscenario]\n",
    "    yearly_scenario_comparison['@value|TotalVirginMaterialDemand|' + better_scenario_name + '#MetricTonnes'] = list(virgin_material_demand.values)\n",
    "    "
   ]
  },
  {
   "cell_type": "code",
   "execution_count": null,
   "id": "1f1ab3f6",
   "metadata": {},
   "outputs": [],
   "source": [
    "#EOL material columns\n",
    "for myscenario in scenarios:\n",
    "    better_scenario_name = pretty_scenarios[scenarios.index(myscenario)]\n",
    "    total_eol_material = USyearly['Waste_EOL_glass_ABM_Simulation_' + myscenario] + USyearly['Waste_EOL_aluminium_frames_ABM_Simulation_' + myscenario] + USyearly['Waste_EOL_silver_ABM_Simulation_' + myscenario] + USyearly['Waste_EOL_silicon_ABM_Simulation_' + myscenario] + USyearly['Waste_EOL_copper_ABM_Simulation_' + myscenario]\n",
    "    yearly_scenario_comparison['@value|TotalEOLMaterial|' + better_scenario_name + '#MetricTonnes'] = list(total_eol_material.values)"
   ]
  },
  {
   "cell_type": "code",
   "execution_count": null,
   "id": "3fd18f6e",
   "metadata": {},
   "outputs": [],
   "source": [
    "###############WHAT NEXT?"
   ]
  },
  {
   "cell_type": "code",
   "execution_count": null,
   "id": "e8b029fd",
   "metadata": {},
   "outputs": [],
   "source": [
    "yearly_scenario_comparison.to_csv('ABM_Yearly, with Scenario Comparison, Materials Summed.csv')"
   ]
  },
  {
   "cell_type": "markdown",
   "id": "32b86cb7",
   "metadata": {},
   "source": [
    "### Cumulative Results"
   ]
  },
  {
   "cell_type": "code",
   "execution_count": null,
   "id": "b7b725ba",
   "metadata": {},
   "outputs": [],
   "source": [
    "cumulative_ABM = pd.DataFrame()"
   ]
  },
  {
   "cell_type": "code",
   "execution_count": null,
   "id": "20192359",
   "metadata": {},
   "outputs": [],
   "source": [
    "scenarios = ['standard_PVICE','landfill_ban','high_mat_recovery_cheap_recycling','cheap_recycling','high_landfill_costs','better_lifetime','better_learning','reuse_warranties','seeding_reuse','juliens_baseline']\n",
    "pretty_scenarios = ['PV ICE Baseline','Landfill Ban','High material recovery and Lower recycling costs','Lower recycling costs','Higher landfill costs','Improved lifetime','Improved learning effect','Reuse warranties','Seeding reuse','ABM Baseline']\n",
    "list1 = []\n",
    "for myscenario in pretty_scenarios: \n",
    "    list1 += [myscenario] * (2050-1994)\n",
    "cumulative_ABM['@scenario|Intervention Scenario'] = list1"
   ]
  },
  {
   "cell_type": "code",
   "execution_count": null,
   "id": "ca2ff18a",
   "metadata": {},
   "outputs": [],
   "source": [
    "years = USyearly.index\n",
    "cumulative_ABM['@timeseries|Year'] = list(years) * 10"
   ]
  },
  {
   "cell_type": "code",
   "execution_count": null,
   "id": "d2ff92d3",
   "metadata": {},
   "outputs": [],
   "source": [
    "#Virgin Material Demand Columns\n",
    "materials = ['glass','aluminium_frames','silver','silicon','copper']\n",
    "pretty_materials = ['Glass','AluminiumFrames','Silver','Silicon','Copper']\n",
    "for mymaterial in materials:\n",
    "    better_material_name = pretty_materials[materials.index(mymaterial)]\n",
    "    virgin_material_demand = []\n",
    "    for myscenario in scenarios: \n",
    "        virgin_material_demand += list(UScum['VirginStock_'+ mymaterial + '_ABM_Simulation_'+ myscenario].values)\n",
    "    cumulative_ABM['@value|VirginMaterialDemand|' + better_material_name + '#MetricTonnes'] = virgin_material_demand"
   ]
  },
  {
   "cell_type": "code",
   "execution_count": null,
   "id": "a7f37df1",
   "metadata": {},
   "outputs": [],
   "source": [
    "#EOL Material Columns\n",
    "materials = ['glass','aluminium_frames','silver','silicon','copper']\n",
    "pretty_materials = ['Glass','AluminiumFrames','Silver','Silicon','Copper']\n",
    "for mymaterial in materials:\n",
    "    better_material_name = pretty_materials[materials.index(mymaterial)]\n",
    "    eol_material = []\n",
    "    for myscenario in scenarios: \n",
    "        eol_material += list(UScum['Waste_EOL_'+ mymaterial + '_ABM_Simulation_'+ myscenario].values)\n",
    "    cumulative_ABM['@value|EOLMaterial|' + better_material_name + '#MetricTonnes'] = eol_material"
   ]
  },
  {
   "cell_type": "code",
   "execution_count": null,
   "id": "4aee2a56",
   "metadata": {},
   "outputs": [],
   "source": [
    "#filter for decade increments\n",
    "df_new = cumulative_ABM.rename(columns={'@timeseries|Year':'year'})\n",
    "cumulative_ABM = cumulative_ABM[df_new.year.isin([2020, 2030,2040,2050])]\n",
    "cumulative_ABM = cumulative_ABM.rename(columns={'year':'@timeseries|Year'})"
   ]
  },
  {
   "cell_type": "code",
   "execution_count": null,
   "id": "8f18955a",
   "metadata": {},
   "outputs": [],
   "source": [
    "cumulative_ABM.to_csv('ABM_Cumulative with Decade Increments.csv')"
   ]
  },
  {
   "cell_type": "code",
   "execution_count": null,
   "id": "71131cd0",
   "metadata": {},
   "outputs": [],
   "source": [
    "#create a cumulative at 2050 file\n",
    "cumulative_ABM_2050 = pd.DataFrame()"
   ]
  },
  {
   "cell_type": "code",
   "execution_count": null,
   "id": "a7797438",
   "metadata": {},
   "outputs": [],
   "source": [
    "cumulative_ABM_2050[\"@scenario|PVICEOutput\"] = ['Virgin Material Demand MT','EOL Material MT','Installed Capacity MW']"
   ]
  },
  {
   "cell_type": "code",
   "execution_count": null,
   "id": "af76cc40",
   "metadata": {},
   "outputs": [],
   "source": [
    "cumulative_ABM_2050[\"@timeseries|Year\"] = [2050,2050,2050]"
   ]
  },
  {
   "cell_type": "code",
   "execution_count": null,
   "id": "d69f1356",
   "metadata": {},
   "outputs": [],
   "source": [
    "UScum2050 = UScum.iloc[-1:]\n",
    "scenarios = ['standard_PVICE','landfill_ban','high_mat_recovery_cheap_recycling','cheap_recycling','high_landfill_costs','better_lifetime','better_learning','reuse_warranties','seeding_reuse','juliens_baseline']\n",
    "pretty_scenarios = ['PV ICE Baseline','Landfill Ban','High material recovery and Lower recycling costs','Lower recycling costs','Higher landfill costs','Improved lifetime','Improved learning effect','Reuse warranties','Seeding reuse','ABM Baseline']\n",
    "list1 = []\n",
    "for myscenario in scenarios: \n",
    "    better_scenario_name = pretty_scenarios[scenarios.index(myscenario)]\n",
    "    virgin_material_demand = [UScum2050['VirginStock_Module_ABM_Simulation_' + myscenario].values] #MT\n",
    "    eol_material = [UScum2050['Waste_EOL_Module_ABM_Simulation_' + myscenario].values] #MT\n",
    "    installed_capacity = [UScum2050['Capacity_ABM_Simulation_' + myscenario].values/1000000] #MW\n",
    "    cumulative_ABM_2050['@value|InterventionScenario|'+better_scenario_name+'#Units'] = virgin_material_demand + eol_material + installed_capacity"
   ]
  },
  {
   "cell_type": "code",
   "execution_count": null,
   "id": "4ec0cf60",
   "metadata": {},
   "outputs": [],
   "source": [
    "cumulative_ABM_2050 = cumulative_ABM_2050.applymap(str)\n",
    "colnames = list(cumulative_ABM_2050.columns)[1:]\n",
    "for col in colnames:\n",
    "    cumulative_ABM_2050[col] = cumulative_ABM_2050[col].str.strip('[]')"
   ]
  },
  {
   "cell_type": "code",
   "execution_count": null,
   "id": "dff347d2",
   "metadata": {},
   "outputs": [],
   "source": [
    "cumulative_ABM_2050.to_csv('ABM_cumulative_at_2050_toOPENEI.csv')"
   ]
  },
  {
   "cell_type": "code",
   "execution_count": null,
   "id": "caa77822",
   "metadata": {},
   "outputs": [],
   "source": [
    "#Create installed capacity CSV\n",
    "installed_capacity = pd.DataFrame()"
   ]
  },
  {
   "cell_type": "code",
   "execution_count": null,
   "id": "13d10c7c",
   "metadata": {},
   "outputs": [],
   "source": [
    "years = USyearly.index\n",
    "installed_capacity['@timeseries|Year'] = years"
   ]
  },
  {
   "cell_type": "code",
   "execution_count": null,
   "id": "68109d4c",
   "metadata": {},
   "outputs": [],
   "source": [
    "scenarios = ['standard_PVICE','landfill_ban','high_mat_recovery_cheap_recycling','cheap_recycling','high_landfill_costs','better_lifetime','better_learning','reuse_warranties','seeding_reuse','juliens_baseline']\n",
    "pretty_scenarios = ['PV ICE Baseline','Landfill Ban','High material recovery and Lower recycling costs','Lower recycling costs','Higher landfill costs','Improved lifetime','Improved learning effect','Reuse warranties','Seeding reuse','ABM Baseline']\n",
    "for myscenario in scenarios:\n",
    "    capacity = UScum['Capacity_ABM_Simulation_'+ myscenario]\n",
    "    better_scenario_name = pretty_scenarios[scenarios.index(myscenario)]\n",
    "    installed_capacity['@value|InstalledCapacity|' + better_scenario_name + '#MW'] = list(capacity.values/1000000) #convert from W to MW"
   ]
  },
  {
   "cell_type": "code",
   "execution_count": null,
   "id": "6978c8a0",
   "metadata": {},
   "outputs": [],
   "source": [
    "installed_capacity.to_csv('ABM_installed_capacity.csv')"
   ]
  },
  {
   "cell_type": "markdown",
   "id": "9b463edc",
   "metadata": {},
   "source": [
    "### Calculating Number of Less Installs Needed For Each Scenario"
   ]
  },
  {
   "cell_type": "code",
   "execution_count": null,
   "id": "d2e0be75",
   "metadata": {},
   "outputs": [],
   "source": [
    "Under_Installment = []\n",
    "scenarios = ['standard_PVICE','landfill_ban','high_mat_recovery_cheap_recycling','cheap_recycling','high_landfill_costs','better_lifetime','better_learning','reuse_warranties','seeding_reuse','juliens_baseline']\n",
    "for i in range (0, len(r1.scenario['juliens_baseline'].data)): #runs for each year\n",
    "    for myscenario in scenarios[1:9]:\n",
    "        Under_Installment = ( (r1.scenario['juliens_baseline'].data['Installed_Capacity_[W]'][i] - \n",
    "                         r1.scenario[myscenario].data['Installed_Capacity_[W]'][i])/1000000 )  # MWATTS\n",
    "        r1.scenario[myscenario].data['new_Installed_Capacity_[MW]'][i] += Under_Installment\n",
    "    r1.calculateMassFlow()"
   ]
  },
  {
   "cell_type": "code",
   "execution_count": null,
   "id": "47150812",
   "metadata": {},
   "outputs": [],
   "source": [
    "# Compare cumulative virgin material needs by 2050\n",
    "USyearly_fewerinstalls=pd.DataFrame()"
   ]
  },
  {
   "cell_type": "code",
   "execution_count": null,
   "id": "4456f8d0",
   "metadata": {},
   "outputs": [],
   "source": [
    "keyword='mat_Virgin_Stock'\n",
    "materials = ['glass', 'aluminium_frames','silicon', 'silver', 'copper']\n",
    "\n",
    "# Loop over Scenarios\n",
    "for jj in range(0, len(r1.scenario)): #goes from 0 to 9\n",
    "    case = list(r1.scenario.keys())[jj] #case gives scenario name\n",
    "    for ii in range (0, len(materials)):    \n",
    "        material = materials[ii]\n",
    "        foo = r1.scenario[case].material[material].materialdata[keyword].copy()\n",
    "        foo = foo.to_frame(name=material)\n",
    "        USyearly_fewerinstalls[\"VirginStock_\"+material+'_'+r1.name+'_'+case] = foo[material]\n",
    "    filter_col = [col for col in USyearly_fewerinstalls if (col.startswith('VirginStock') and col.endswith(r1.name+'_'+case)) ]\n",
    "    USyearly_fewerinstalls['VirginStock_Module_'+r1.name+'_'+case] = USyearly_fewerinstalls[filter_col].sum(axis=1)"
   ]
  },
  {
   "cell_type": "code",
   "execution_count": null,
   "id": "8d0a2141",
   "metadata": {},
   "outputs": [],
   "source": [
    "keyword='mat_Total_Landfilled'\n",
    "materials = ['glass', 'aluminium_frames','silicon', 'silver', 'copper']\n",
    "\n",
    "# Loop over Scenarios\n",
    "for jj in range(0, len(r1.scenario)): #goes from 0 to 9\n",
    "    case = list(r1.scenario.keys())[jj]\n",
    "    for ii in range (0, len(materials)):    \n",
    "        material = materials[ii]\n",
    "        foo = r1.scenario[case].material[material].materialdata[keyword].copy()\n",
    "        foo = foo.to_frame(name=material)\n",
    "        USyearly_fewerinstalls[\"Waste_\"+material+'_'+r1.name+'_'+case] = foo[material]\n",
    "    filter_col = [col for col in USyearly_fewerinstalls if (col.startswith('Waste') and col.endswith(r1.name+'_'+case)) ]\n",
    "    USyearly_fewerinstalls['Waste_Module_'+r1.name+'_'+case] = USyearly_fewerinstalls[filter_col].sum(axis=1)"
   ]
  },
  {
   "cell_type": "code",
   "execution_count": null,
   "id": "86f3a591",
   "metadata": {},
   "outputs": [],
   "source": [
    "keyword='mat_Total_EOL_Landfilled'\n",
    "materials = ['glass', 'aluminium_frames','silicon', 'silver', 'copper']\n",
    "\n",
    "# Loop over Scenarios\n",
    "for jj in range(0, len(r1.scenario)): #goes from 0 to 9\n",
    "    case = list(r1.scenario.keys())[jj]\n",
    "    for ii in range (0, len(materials)):    \n",
    "        material = materials[ii]\n",
    "        foo = r1.scenario[case].material[material].materialdata[keyword].copy()\n",
    "        foo = foo.to_frame(name=material)\n",
    "        USyearly_fewerinstalls[\"Waste_EOL_\"+material+'_'+r1.name+'_'+case] = foo[material]\n",
    "    filter_col = [col for col in USyearly_fewerinstalls if (col.startswith('Waste_EOL') and col.endswith(r1.name+'_'+case)) ]\n",
    "    USyearly_fewerinstalls['Waste_EOL_Module_'+r1.name+'_'+case] = USyearly_fewerinstalls[filter_col].sum(axis=1)"
   ]
  },
  {
   "cell_type": "code",
   "execution_count": null,
   "id": "968e5ef7",
   "metadata": {},
   "outputs": [],
   "source": [
    "USyearly_fewerinstalls = USyearly_fewerinstalls/1000000  #Convert to metric tonnes"
   ]
  },
  {
   "cell_type": "code",
   "execution_count": null,
   "id": "e5304a2f",
   "metadata": {},
   "outputs": [],
   "source": [
    "keyword='new_Installed_Capacity_[MW]'\n",
    "\n",
    "newcolname = keyword+'_'+r1.name\n",
    "    \n",
    "if newcolname in USyearly_fewerinstalls:\n",
    "    USyearly_fewerinstalls[newcolname] = USyearly_fewerinstalls[newcolname]+r1.scenario[list(r1.scenario.keys())[0]].data[keyword]\n",
    "else:\n",
    "    USyearly_fewerinstalls[keyword+'_'+r1.name] = r1.scenario[list(r1.scenario.keys())[0]].data[keyword]"
   ]
  },
  {
   "cell_type": "code",
   "execution_count": null,
   "id": "325341e0",
   "metadata": {},
   "outputs": [],
   "source": [
    "UScum_fewerinstalls = USyearly_fewerinstalls.copy()\n",
    "UScum_fewerinstalls = UScum_fewerinstalls.cumsum()"
   ]
  },
  {
   "cell_type": "code",
   "execution_count": null,
   "id": "a7cb65c4",
   "metadata": {},
   "outputs": [],
   "source": [
    "keyword='Installed_Capacity_[W]'\n",
    "\n",
    "# Loop over Scenarios\n",
    "for i in range(0, len(r1.scenario)):\n",
    "    case = list(r1.scenario.keys())[i]\n",
    "    foo = r1.scenario[case].data[keyword]\n",
    "    foo = foo.to_frame(name=keyword)\n",
    "    UScum_fewerinstalls[\"Capacity_\"+r1.name+'_'+case] = foo[keyword].values #this needs to be .values\n",
    "    ########SHOULD THIS BE CHANGED TO BE IN MW?"
   ]
  },
  {
   "cell_type": "code",
   "execution_count": null,
   "id": "e58caf44",
   "metadata": {},
   "outputs": [],
   "source": [
    "USyearly_fewerinstalls.index = r1.scenario['standard_PVICE'].data['year']\n",
    "UScum_fewerinstalls.index = r1.scenario['standard_PVICE'].data['year']"
   ]
  },
  {
   "cell_type": "code",
   "execution_count": null,
   "id": "82d59290",
   "metadata": {},
   "outputs": [],
   "source": [
    "USyearly_fewerinstalls.to_csv('ABM_Yearly_Results_Fewer_Installs.csv')\n",
    "UScum_fewerinstalls.to_csv('ABM_Cumulative_Results_Fewer_Installs.csv')"
   ]
  },
  {
   "cell_type": "code",
   "execution_count": null,
   "id": "56ed1c71",
   "metadata": {},
   "outputs": [],
   "source": [
    "#Other Results for UScum_fewerinstalls:\n",
    "cum_Waste = [] #metric tonnes\n",
    "cum_EOL_Waste = [] #metric tonnes\n",
    "cum_VirginNeeds = [] #metric tonnes\n",
    "cum_InstalledCapacity = [] #MW\n",
    "cum_NewInstalls = [] #W\n",
    "\n",
    "for ii in range (0, len(r1.scenario.keys())): #0 to 9\n",
    "    # Cumulative for all materials (not just glass) at 2050\n",
    "    scen = list(r1.scenario.keys())[ii]\n",
    "    cum_Waste.append(UScum_fewerinstalls['Waste_Module_ABM_Simulation_' + scen][2050])\n",
    "    cum_EOL_Waste.append(UScum_fewerinstalls['Waste_EOL_Module_ABM_Simulation_' + scen][2050])\n",
    "    cum_VirginNeeds.append((UScum_fewerinstalls['VirginStock_Module_ABM_Simulation_' + scen][2050]))\n",
    "    cum_NewInstalls.append(r1.scenario[scen].data['new_Installed_Capacity_[MW]'].sum())\n",
    "    cum_InstalledCapacity.append(r1.scenario[scen].data['Installed_Capacity_[W]'].iloc[-1])\n",
    "\n",
    "df = pd.DataFrame(list(zip(list(r1.scenario.keys()), cum_Waste, cum_EOL_Waste, cum_VirginNeeds, cum_NewInstalls, cum_InstalledCapacity)),\n",
    "               columns =['scenarios','cum_Waste', 'cum_EOL_Waste', 'cum_VirginNeeds', 'cum_NewInstalls', 'cum_InstalledCapacity'])"
   ]
  },
  {
   "cell_type": "code",
   "execution_count": null,
   "id": "7e345ad4",
   "metadata": {},
   "outputs": [],
   "source": [
    "#Best interventions to minimize cum_Waste: \n",
    "#better learning, reuse warranties, high material recovery and cheap recycling, better lifetime\n",
    "df.sort_values('cum_Waste') "
   ]
  },
  {
   "cell_type": "code",
   "execution_count": null,
   "id": "525544c0",
   "metadata": {},
   "outputs": [],
   "source": [
    "#Best interventions to minimize cum_EOL_Waste: \n",
    "#better learning, reuse warranties, high material recovery and cheap recycling, better lifetime\n",
    "df.sort_values('cum_EOL_Waste') "
   ]
  },
  {
   "cell_type": "code",
   "execution_count": null,
   "id": "30f02d28",
   "metadata": {},
   "outputs": [],
   "source": [
    "#Best interventions to minimize cum_VirginNeeds:\n",
    "#better_learning, reuse_warranties, high_mat_recovery_cheap_recycling, better_lifetime\n",
    "df.sort_values('cum_VirginNeeds')"
   ]
  },
  {
   "cell_type": "code",
   "execution_count": null,
   "id": "d2d9225b",
   "metadata": {
    "scrolled": true
   },
   "outputs": [],
   "source": [
    "#Best interventions to minimize cum_NewInstalls:\n",
    "#better lifetime, standard PVICE, ABM baseline, landfill ban\n",
    "df.sort_values('cum_NewInstalls')"
   ]
  },
  {
   "cell_type": "code",
   "execution_count": null,
   "id": "61104694",
   "metadata": {},
   "outputs": [],
   "source": [
    "#Looking in terms of percentages\n",
    "df[['cum_Waste', 'cum_EOL_Waste', 'cum_VirginNeeds', 'cum_NewInstalls', 'cum_InstalledCapacity']] = df[['cum_Waste','cum_EOL_Waste', 'cum_VirginNeeds', 'cum_NewInstalls', 'cum_InstalledCapacity']]*100/df[['cum_Waste', 'cum_EOL_Waste','cum_VirginNeeds', 'cum_NewInstalls', 'cum_InstalledCapacity']].iloc[9] -100"
   ]
  },
  {
   "cell_type": "code",
   "execution_count": null,
   "id": "1846e2a9",
   "metadata": {},
   "outputs": [],
   "source": [
    "## Experimenting with Plotly"
   ]
  },
  {
   "cell_type": "code",
   "execution_count": null,
   "id": "5f1f94c2",
   "metadata": {},
   "outputs": [],
   "source": [
    "fig1 = px.bar(df, x='scenarios', y='cum_Waste', labels={\n",
    "                     \"cum_Waste\": \"Cumulative Waste Percent Difference\",\n",
    "                     \"scenarios\": \"Scenario\"\n",
    "                 })\n",
    "fig1.update_layout(title_text='Cumulative Waste Percent Difference from Baseline at 2050', title_x=0.5)\n",
    "fig1.show()"
   ]
  },
  {
   "cell_type": "code",
   "execution_count": null,
   "id": "4b575267",
   "metadata": {},
   "outputs": [],
   "source": [
    "fig = px.bar(df, x='scenarios', y='cum_VirginNeeds')\n",
    "fig.show()"
   ]
  },
  {
   "cell_type": "code",
   "execution_count": null,
   "id": "4ff6898f",
   "metadata": {},
   "outputs": [],
   "source": [
    "percent_diff = df.melt(id_vars = 'scenarios')\n",
    "percent_diff = percent_diff.rename(columns={'value': 'percent_difference_from_baseline'})"
   ]
  },
  {
   "cell_type": "code",
   "execution_count": null,
   "id": "72851def",
   "metadata": {},
   "outputs": [],
   "source": [
    "px.scatter(percent_diff, x = 'scenarios', y = 'percent_difference_from_baseline',color = 'variable', title = 'Percent Difference from Baseline at 2050',\n",
    "          labels={\n",
    "                     \"percent_difference_from_baseline\": \"Percent Difference from Baseline at 2050\",\n",
    "                     \"scenarios\": \"Scenario\"\n",
    "                 })"
   ]
  }
 ],
 "metadata": {
  "kernelspec": {
   "display_name": "Python 3",
   "language": "python",
   "name": "python3"
  },
  "language_info": {
   "codemirror_mode": {
    "name": "ipython",
    "version": 3
   },
   "file_extension": ".py",
   "mimetype": "text/x-python",
   "name": "python",
   "nbconvert_exporter": "python",
   "pygments_lexer": "ipython3",
   "version": "3.8.8"
  }
 },
 "nbformat": 4,
 "nbformat_minor": 5
}
