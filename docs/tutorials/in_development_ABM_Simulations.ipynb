{
 "cells": [
  {
   "cell_type": "markdown",
   "id": "8b49ac9c",
   "metadata": {},
   "source": [
    "# Inputting ABM outputs into PV ICE "
   ]
  },
  {
   "cell_type": "markdown",
   "id": "003fa3ee",
   "metadata": {},
   "source": [
    "## Import libraries and create test folder"
   ]
  },
  {
   "cell_type": "code",
   "execution_count": 1,
   "id": "c62e0ab0",
   "metadata": {},
   "outputs": [],
   "source": [
    "import PV_ICE\n",
    "import numpy as np\n",
    "import pandas as pd\n",
    "import os,sys\n",
    "from pathlib import Path\n",
    "import matplotlib.pyplot as plt"
   ]
  },
  {
   "cell_type": "code",
   "execution_count": 2,
   "id": "a6fd354b",
   "metadata": {
    "scrolled": true
   },
   "outputs": [
    {
     "name": "stdout",
     "output_type": "stream",
     "text": [
      "Your simulation will be stored in C:\\Users\\ahegedus\\Documents\\GitHub\\PV_ICE\\PV_ICE\\TEMP\n",
      "C:\\Users\\ahegedus\\Documents\\GitHub\\PV_ICE\\PV_ICE\\baselines\n"
     ]
    }
   ],
   "source": [
    "testfolder = str(Path().resolve().parent.parent /'PV_ICE' / 'TEMP')\n",
    "baselinesfolder =  str(Path().resolve().parent.parent /'PV_ICE' / 'baselines')\n",
    "# Another option using relative address; for some operative systems you might need '/' instead of '\\'\n",
    "# testfolder = os.path.abspath(r'..\\..\\PV_ICE\\TEMP')  \n",
    "\n",
    "print (\"Your simulation will be stored in %s\" % testfolder)\n",
    "print(baselinesfolder)"
   ]
  },
  {
   "cell_type": "markdown",
   "id": "1ab6127c",
   "metadata": {},
   "source": [
    "## Create simulation"
   ]
  },
  {
   "cell_type": "code",
   "execution_count": 3,
   "id": "8d72c9aa",
   "metadata": {},
   "outputs": [
    {
     "name": "stdout",
     "output_type": "stream",
     "text": [
      "path = C:\\Users\\ahegedus\\Documents\\GitHub\\PV_ICE\\PV_ICE\\TEMP\n"
     ]
    }
   ],
   "source": [
    "#create simulation\n",
    "r1 = PV_ICE.Simulation(name='ABM_Simulation', path=testfolder)\n",
    "#create 10 scenarios in simulation: 1st is standard in PV ICE, 2-10 are scenarios a-i in ABM\n",
    "SCENARIOS = ['standard_PVICE','landfill_ban','high_mat_recovery_cheap_recycling','cheap_recycling','high_landfill_costs','better_lifetime','better_learning','reuse_warranties','seeding_reuse','juliens_baseline']\n",
    "for myscenario in SCENARIOS:\n",
    "    r1.createScenario(name=myscenario, file=r'..\\baselines\\baseline_modules_US.csv')\n",
    "    r1.scenario[myscenario].addMaterial('glass', file=r'..\\baselines\\baseline_material_glass.csv')\n",
    "    r1.scenario[myscenario].addMaterial('aluminium_frames', file=r'..\\baselines\\baseline_material_aluminium_frames.csv')\n",
    "    r1.scenario[myscenario].addMaterial('silver', file=r'..\\baselines\\baseline_material_silver.csv')\n",
    "    r1.scenario[myscenario].addMaterial('silicon', file=r'..\\baselines\\baseline_material_silicon.csv')\n",
    "    r1.scenario[myscenario].addMaterial('copper', file=r'..\\baselines\\baseline_material_copper.csv')"
   ]
  },
  {
   "cell_type": "markdown",
   "id": "6770bbb7",
   "metadata": {},
   "source": [
    "## Modify Parameters"
   ]
  },
  {
   "cell_type": "code",
   "execution_count": 4,
   "id": "577b4ed9",
   "metadata": {},
   "outputs": [],
   "source": [
    "#modify values of each scenario 2-10 based on ABM outputs\n",
    "#first, set 'mod_EOL_collected_recycled' to 100% in scenarios 2-10 for years 2022 on (assume all collected materials are recycled)\n",
    "ABM_SCENARIOS = SCENARIOS[1:] \n",
    "past_years_collected_recycled = [r1.scenario['standard_PVICE'].data['mod_EOL_collected_recycled'][0]]*(2022-1995)\n",
    "new_collected_recycled = [100]*(2050-2021)\n",
    "#create new list to replace 'mod_EOL_collected_recycled' with, with 1995-2021 original baseline module values, and 2022-2050 at 100%\n",
    "new_mod_recycled = past_years_collected_recycled + new_collected_recycled\n",
    "for myscenario in ABM_SCENARIOS:\n",
    "    r1.scenario[myscenario].data['mod_EOL_collected_recycled'] = new_mod_recycled\n",
    "\n",
    "#next, modify 3 additional inputs for each scenario 2-10, with values depending on the scenario, coming from ABM outputs\n",
    "MODIFIED_MODULE_BASELINES = ['mod_Repair','mod_Reuse','mod_EOL_collection_eff']\n",
    "len(r1.scenario['landfill_ban'].data['mod_Reuse']) #all inputs have 56 rows\n",
    "#keep first 27 rows corresponding to 1995-2021 values\n",
    "ABM_outputs = pd.read_csv(r'..\\baselines\\ABM\\abm_outputs_mass_fractions.csv')"
   ]
  },
  {
   "cell_type": "code",
   "execution_count": 5,
   "id": "6754c82e",
   "metadata": {},
   "outputs": [],
   "source": [
    "#ABM_outputs\n",
    "#change scenario names to names from ABM_SCENARIOS\n",
    "file_scenario_names = ABM_outputs['Scenario'].unique().tolist()\n",
    "ABM_outputs = ABM_outputs.replace(file_scenario_names, ABM_SCENARIOS)"
   ]
  },
  {
   "cell_type": "code",
   "execution_count": 9,
   "id": "b9232aa3",
   "metadata": {},
   "outputs": [
    {
     "name": "stdout",
     "output_type": "stream",
     "text": [
      "high_mat_recovery_cheap_recycling\n",
      "cheap_recycling\n",
      "high_landfill_costs\n",
      "better_lifetime\n",
      "better_learning\n",
      "reuse_warranties\n",
      "seeding_reuse\n",
      "juliens_baseline\n"
     ]
    }
   ],
   "source": [
    "#changing repair, eol collection eff, and reuse module baselines for all ABM scenarios\n",
    "for myscenario in ABM_SCENARIOS:\n",
    "    frames1 = []\n",
    "    frames2 = []\n",
    "    frames3 = []\n",
    "    new_outputs = []\n",
    "    scenario_filter = []\n",
    "    new_mod_Repairing = []\n",
    "    new_mod_Recycling = []\n",
    "    new_mod_Reuse = []\n",
    "    scenario_filter = 'Scenario == ' + '\\\"' + myscenario + '\\\"'\n",
    "    new_outputs = ABM_outputs.query(scenario_filter)\n",
    "    #replace repairing baselines\n",
    "    repairs = new_outputs.loc[:,'mass_fraction_PV_materials_repaired_milliontonnes']*100\n",
    "    repairs.index = list(range(31))\n",
    "    frames1 = [r1.scenario[myscenario].data['mod_Repair'][0:27],repairs[2:]]\n",
    "    new_mod_Repairing = pd.concat(frames1)\n",
    "    r1.scenario[myscenario].data['mod_Repair'] = new_mod_Repairing.values\n",
    "    #replace recycling baselines\n",
    "    recycles = new_outputs.loc[:,'mass_fraction_PV_materials_recycled_milliontonnes']*100\n",
    "    recycles.index = list(range(31))\n",
    "    frames2 = [r1.scenario[myscenario].data['mod_EOL_collection_eff'][0:27],recycles[2:]]\n",
    "    new_mod_Recycling = pd.concat(frames2)\n",
    "    r1.scenario[myscenario].data['mod_EOL_collection_eff'] = new_mod_Recycling.values\n",
    "    #replace reuse baselines\n",
    "    reuses = new_outputs.loc[:,'mass_fraction_PV_materials_reused_milliontonnes']*100\n",
    "    reuses.index = list(range(31))\n",
    "    frames3 = [r1.scenario[myscenario].data['mod_Reuse'][0:27],reuses[2:]]\n",
    "    new_mod_Reuse = pd.concat(frames3)\n",
    "    r1.scenario[myscenario].data['mod_Reuse'] = new_mod_Reuse.values\n",
    "    print(myscenario)"
   ]
  },
  {
   "cell_type": "markdown",
   "id": "ae6faf62",
   "metadata": {},
   "source": [
    "### Now all of the parameters are properly modified!"
   ]
  },
  {
   "cell_type": "markdown",
   "id": "84c6d0ba",
   "metadata": {},
   "source": [
    "## Run Mass Flow Calculations"
   ]
  },
  {
   "cell_type": "code",
   "execution_count": 10,
   "id": "a198f24e",
   "metadata": {
    "scrolled": true
   },
   "outputs": [
    {
     "name": "stdout",
     "output_type": "stream",
     "text": [
      "Working on Scenario:  standard_PVICE\n",
      "********************\n",
      "Finished Area+Power Generation Calculations\n",
      "==> Working on Material :  glass\n",
      "==> Working on Material :  aluminium_frames\n",
      "==> Working on Material :  silver\n",
      "==> Working on Material :  silicon\n",
      "==> Working on Material :  copper\n",
      "Working on Scenario:  landfill_ban\n",
      "********************\n",
      "Finished Area+Power Generation Calculations\n",
      "==> Working on Material :  glass\n",
      "==> Working on Material :  aluminium_frames\n",
      "==> Working on Material :  silver\n",
      "==> Working on Material :  silicon\n",
      "==> Working on Material :  copper\n",
      "Working on Scenario:  high_mat_recovery_cheap_recycling\n",
      "********************\n",
      "Finished Area+Power Generation Calculations\n",
      "==> Working on Material :  glass\n",
      "==> Working on Material :  aluminium_frames\n",
      "==> Working on Material :  silver\n",
      "==> Working on Material :  silicon\n",
      "==> Working on Material :  copper\n",
      "Working on Scenario:  cheap_recycling\n",
      "********************\n",
      "Finished Area+Power Generation Calculations\n",
      "==> Working on Material :  glass\n",
      "==> Working on Material :  aluminium_frames\n",
      "==> Working on Material :  silver\n",
      "==> Working on Material :  silicon\n",
      "==> Working on Material :  copper\n",
      "Working on Scenario:  high_landfill_costs\n",
      "********************\n",
      "Finished Area+Power Generation Calculations\n",
      "==> Working on Material :  glass\n",
      "==> Working on Material :  aluminium_frames\n",
      "==> Working on Material :  silver\n",
      "==> Working on Material :  silicon\n",
      "==> Working on Material :  copper\n",
      "Working on Scenario:  better_lifetime\n",
      "********************\n",
      "Finished Area+Power Generation Calculations\n",
      "==> Working on Material :  glass\n",
      "==> Working on Material :  aluminium_frames\n",
      "==> Working on Material :  silver\n",
      "==> Working on Material :  silicon\n",
      "==> Working on Material :  copper\n",
      "Working on Scenario:  better_learning\n",
      "********************\n",
      "Finished Area+Power Generation Calculations\n",
      "==> Working on Material :  glass\n",
      "==> Working on Material :  aluminium_frames\n",
      "==> Working on Material :  silver\n",
      "==> Working on Material :  silicon\n",
      "==> Working on Material :  copper\n",
      "Working on Scenario:  reuse_warranties\n",
      "********************\n",
      "Finished Area+Power Generation Calculations\n",
      "==> Working on Material :  glass\n",
      "==> Working on Material :  aluminium_frames\n",
      "==> Working on Material :  silver\n",
      "==> Working on Material :  silicon\n",
      "==> Working on Material :  copper\n",
      "Working on Scenario:  seeding_reuse\n",
      "********************\n",
      "Finished Area+Power Generation Calculations\n",
      "==> Working on Material :  glass\n",
      "==> Working on Material :  aluminium_frames\n",
      "==> Working on Material :  silver\n",
      "==> Working on Material :  silicon\n",
      "==> Working on Material :  copper\n",
      "Working on Scenario:  juliens_baseline\n",
      "********************\n",
      "Finished Area+Power Generation Calculations\n",
      "==> Working on Material :  glass\n",
      "==> Working on Material :  aluminium_frames\n",
      "==> Working on Material :  silver\n",
      "==> Working on Material :  silicon\n",
      "==> Working on Material :  copper\n"
     ]
    }
   ],
   "source": [
    "r1.calculateMassFlow()"
   ]
  },
  {
   "cell_type": "markdown",
   "id": "192d22ce",
   "metadata": {},
   "source": [
    "## Initial plotting of results"
   ]
  },
  {
   "cell_type": "code",
   "execution_count": null,
   "id": "80f64f28",
   "metadata": {},
   "outputs": [],
   "source": [
    "r1.plotScenariosComparison(keyword='Cumulative_Area_disposed')"
   ]
  },
  {
   "cell_type": "code",
   "execution_count": null,
   "id": "87dcc4ab",
   "metadata": {},
   "outputs": [],
   "source": [
    "r1.plotMaterialComparisonAcrossScenarios(material='glass', keyword='mat_Total_Landfilled')"
   ]
  },
  {
   "cell_type": "code",
   "execution_count": null,
   "id": "275d5a7f",
   "metadata": {
    "scrolled": true
   },
   "outputs": [],
   "source": [
    "r1.plotMaterialComparisonAcrossScenarios(material='silicon', keyword='mat_Total_Landfilled')"
   ]
  },
  {
   "cell_type": "code",
   "execution_count": null,
   "id": "bd1ecdea",
   "metadata": {},
   "outputs": [],
   "source": [
    "r1.plotMaterialComparisonAcrossScenarios(material='silver', keyword='mat_Virgin_Stock') #all the same values?"
   ]
  },
  {
   "cell_type": "markdown",
   "id": "5023a6f1",
   "metadata": {},
   "source": [
    "### Creating a summary of results in a new data frame"
   ]
  },
  {
   "cell_type": "code",
   "execution_count": 11,
   "id": "19b59c7f",
   "metadata": {},
   "outputs": [],
   "source": [
    "USyearly=pd.DataFrame()"
   ]
  },
  {
   "cell_type": "code",
   "execution_count": 13,
   "id": "faf5db85",
   "metadata": {},
   "outputs": [],
   "source": [
    "keyword='mat_Virgin_Stock'\n",
    "materials = ['glass', 'aluminium_frames','silicon', 'silver', 'copper']\n",
    "\n",
    "# Loop over Scenarios\n",
    "for jj in range(0, len(r1.scenario)): #goes from 0 to 9\n",
    "    case = list(r1.scenario.keys())[jj] #case gives scenario name\n",
    "    for ii in range (0, len(materials)):    \n",
    "        material = materials[ii]\n",
    "        foo = r1.scenario[case].material[material].materialdata[keyword].copy()\n",
    "        foo = foo.to_frame(name=material)\n",
    "        USyearly[\"VirginStock_\"+material+'_'+r1.name+'_'+case] = foo[material]\n",
    "    filter_col = [col for col in USyearly if (col.startswith('VirginStock') and col.endswith(r1.name+'_'+case)) ]\n",
    "    USyearly['VirginStock_Module_'+r1.name+'_'+case] = USyearly[filter_col].sum(axis=1)\n",
    "#took module sum out of inner loop to fix module sum error"
   ]
  },
  {
   "cell_type": "code",
   "execution_count": null,
   "id": "f4ed6d60",
   "metadata": {},
   "outputs": [],
   "source": [
    "keyword='mat_Total_Landfilled'\n",
    "materials = ['glass', 'aluminium_frames','silicon', 'silver', 'copper']\n",
    "\n",
    "# Loop over Scenarios\n",
    "for jj in range(0, len(r1.scenario)): #goes from 0 to 9\n",
    "    case = list(r1.scenario.keys())[jj]\n",
    "    for ii in range (0, len(materials)):    \n",
    "        material = materials[ii]\n",
    "        foo = r1.scenario[case].material[material].materialdata[keyword].copy()\n",
    "        foo = foo.to_frame(name=material)\n",
    "        USyearly[\"Waste_\"+material+'_'+r1.name+'_'+case] = foo[material]\n",
    "    filter_col = [col for col in USyearly if (col.startswith('Waste') and col.endswith(r1.name+'_'+case)) ]\n",
    "    USyearly['Waste_Module_'+r1.name+'_'+case] = USyearly[filter_col].sum(axis=1)"
   ]
  },
  {
   "cell_type": "code",
   "execution_count": null,
   "id": "8a3cbf3e",
   "metadata": {},
   "outputs": [],
   "source": [
    "keyword='mat_Total_EOL_Landfilled'\n",
    "materials = ['glass', 'aluminium_frames','silicon', 'silver', 'copper']\n",
    "\n",
    "# Loop over Scenarios\n",
    "for jj in range(0, len(r1.scenario)): #goes from 0 to 9\n",
    "    case = list(r1.scenario.keys())[jj]\n",
    "    for ii in range (0, len(materials)):    \n",
    "        material = materials[ii]\n",
    "        foo = r1.scenario[case].material[material].materialdata[keyword].copy()\n",
    "        foo = foo.to_frame(name=material)\n",
    "        USyearly[\"Waste_EOL_\"+material+'_'+r1.name+'_'+case] = foo[material]\n",
    "    filter_col = [col for col in USyearly if (col.startswith('Waste_EOL') and col.endswith(r1.name+'_'+case)) ]\n",
    "    USyearly['Waste_EOL_Module_'+r1.name+'_'+case] = USyearly[filter_col].sum(axis=1)"
   ]
  },
  {
   "cell_type": "code",
   "execution_count": null,
   "id": "defe95c7",
   "metadata": {},
   "outputs": [],
   "source": [
    "USyearly = USyearly/1000000  #Convert to metric tonnes\n",
    "#907185 -- this is for US tons"
   ]
  },
  {
   "cell_type": "code",
   "execution_count": null,
   "id": "23dbac90",
   "metadata": {
    "scrolled": true
   },
   "outputs": [],
   "source": [
    "keyword='new_Installed_Capacity_[MW]'\n",
    "\n",
    "newcolname = keyword+'_'+r1.name\n",
    "    \n",
    "if newcolname in USyearly:\n",
    "    USyearly[newcolname] = USyearly[newcolname]+r1.scenario[list(r1.scenario.keys())[0]].data[keyword]\n",
    "else:\n",
    "    USyearly[keyword+'_'+r1.name] = r1.scenario[list(r1.scenario.keys())[0]].data[keyword]"
   ]
  },
  {
   "cell_type": "code",
   "execution_count": null,
   "id": "6038d46b",
   "metadata": {},
   "outputs": [],
   "source": [
    "UScum = USyearly.copy()\n",
    "UScum = UScum.cumsum()"
   ]
  },
  {
   "cell_type": "code",
   "execution_count": null,
   "id": "4eec0efb",
   "metadata": {},
   "outputs": [],
   "source": [
    "keyword='Installed_Capacity_[W]'\n",
    "\n",
    "# Loop over Scenarios\n",
    "for i in range(0, len(r1.scenario)):\n",
    "    case = list(r1.scenario.keys())[i]\n",
    "    foo = r1.scenario[case].data[keyword]\n",
    "    foo = foo.to_frame(name=keyword)\n",
    "    UScum[\"Capacity_\"+r1.name+'_'+case] = foo[keyword].values #this needs to be .values"
   ]
  },
  {
   "cell_type": "code",
   "execution_count": null,
   "id": "2eb018a3",
   "metadata": {},
   "outputs": [],
   "source": [
    "USyearly.index = r1.scenario['standard_PVICE'].data['year']\n",
    "UScum.index = r1.scenario['standard_PVICE'].data['year']"
   ]
  },
  {
   "cell_type": "code",
   "execution_count": null,
   "id": "cea37839",
   "metadata": {},
   "outputs": [],
   "source": [
    "USyearly.to_csv('ABM_Yearly_Results.csv')\n",
    "UScum.to_csv('ABM_Cumulative_Results.csv')"
   ]
  },
  {
   "cell_type": "markdown",
   "id": "31b102ee",
   "metadata": {},
   "source": [
    "### Plotting with USyearly and UScum data frames"
   ]
  },
  {
   "cell_type": "code",
   "execution_count": null,
   "id": "6a1dc611",
   "metadata": {},
   "outputs": [],
   "source": [
    "plt.rcParams.update({'font.size': 15})\n",
    "plt.rcParams['figure.figsize'] = (15, 8)\n",
    "keyw='VirginStock_'\n",
    "materials = ['glass', 'silicon', 'silver', 'copper', 'aluminium_frames']\n",
    "\n",
    "\n",
    "f, (a0, a1) = plt.subplots(1, 2, gridspec_kw={'width_ratios': [3, 1]})\n",
    "   \n",
    "########################    \n",
    "# SUBPLOT 1\n",
    "########################\n",
    "#######################\n",
    "    \n",
    "    \n",
    "# Loop over scenarios\n",
    "name0 = 'ABM_Simulation_juliens_baseline'\n",
    "name2 = 'ABM_Simulation_landfill_ban'\n",
    "\n",
    "\n",
    "# SCENARIO 1 ***************\n",
    "modulemat = (USyearly[keyw+materials[0]+'_'+name0]+USyearly[keyw+materials[1]+'_'+name0]+\n",
    "            USyearly[keyw+materials[2]+'_'+name0]+USyearly[keyw+materials[3]+'_'+name0]+\n",
    "            USyearly[keyw+materials[4]+'_'+name0])\n",
    "glassmat = (USyearly[keyw+materials[0]+'_'+name0])\n",
    "modulemat = modulemat/1000000\n",
    "glassmat = glassmat/1000000 \n",
    "a0.plot(USyearly.index, modulemat, 'k.', linewidth=5, label='S1: '+name0+' module mass')\n",
    "a0.plot(USyearly.index, glassmat, 'k', linewidth=5, label='S1: '+name0+' glass mass only')\n",
    "a0.fill_between(USyearly.index, glassmat, modulemat, color='k', alpha=0.3,\n",
    "                 interpolate=True)\n",
    "\n",
    "# SCENARIO 2 ***************\n",
    "modulemat = (USyearly[keyw+materials[0]+'_'+name2]+USyearly[keyw+materials[1]+'_'+name2]+\n",
    "            USyearly[keyw+materials[2]+'_'+name2]+USyearly[keyw+materials[3]+'_'+name2]+\n",
    "            USyearly[keyw+materials[4]+'_'+name2])\n",
    "glassmat = (USyearly[keyw+materials[0]+'_'+name2])\n",
    "modulemat = modulemat/1000000\n",
    "glassmat = glassmat/1000000 \n",
    "a0.plot(USyearly.index, modulemat, 'c.', linewidth=5, label='S2: '+name2+' module mass')\n",
    "a0.plot(USyearly.index, glassmat, 'c', linewidth=5, label='S2: '+name2+' glass mass only')\n",
    "a0.fill_between(USyearly.index, glassmat, modulemat, color='c', alpha=0.3,\n",
    "                 interpolate=True)\n",
    "\n",
    "a0.legend()\n",
    "a0.set_title('Yearly Virgin Material Needs by Scenario')\n",
    "a0.set_ylabel('Mass [Million Tonnes]')\n",
    "a0.set_xlim([2020, 2050])\n",
    "a0.set_xlabel('Years')\n",
    "\n",
    "##same values for yearly virgin material demand?! something went wrong.....?\n",
    "########################    \n",
    "# SUBPLOT 2\n",
    "########################\n",
    "#######################\n",
    "# Calculate    \n",
    "\n",
    "cumulations2050 = {}\n",
    "for ii in range(0, len(materials)):\n",
    "    matcum = []\n",
    "    matcum.append(UScum[keyw+materials[ii]+'_'+name0].loc[2050])\n",
    "    matcum.append(UScum[keyw+materials[ii]+'_'+name2].loc[2050])\n",
    "    cumulations2050[materials[ii]] = matcum\n",
    "\n",
    "dfcumulations2050 = pd.DataFrame.from_dict(cumulations2050) \n",
    "dfcumulations2050 = dfcumulations2050/1000000   # in Million Tonnes\n",
    "\n",
    "dfcumulations2050['bottom1'] = dfcumulations2050['glass']\n",
    "dfcumulations2050['bottom2'] = dfcumulations2050['bottom1']+dfcumulations2050['aluminium_frames']\n",
    "dfcumulations2050['bottom3'] = dfcumulations2050['bottom2']+dfcumulations2050['silicon']\n",
    "dfcumulations2050['bottom4'] = dfcumulations2050['bottom3']+dfcumulations2050['copper']\n",
    "\n",
    "\n",
    "## Plot BARS Stuff\n",
    "ind=np.arange(2)\n",
    "width=0.35 # width of the bars.\n",
    "p0 = a1.bar(ind, dfcumulations2050['glass'], width, color='c')\n",
    "p1 = a1.bar(ind, dfcumulations2050['aluminium_frames'], width,\n",
    "             bottom=dfcumulations2050['bottom1'])\n",
    "p2 = a1.bar(ind, dfcumulations2050['silicon'], width,\n",
    "             bottom=dfcumulations2050['bottom2'])\n",
    "p3 = a1.bar(ind, dfcumulations2050['copper'], width,\n",
    "             bottom=dfcumulations2050['bottom3'])\n",
    "p4 = a1.bar(ind, dfcumulations2050['silver'], width,\n",
    "             bottom=dfcumulations2050['bottom4'])\n",
    "\n",
    "a1.yaxis.set_label_position(\"right\")\n",
    "a1.yaxis.tick_right()\n",
    "a1.set_ylabel('Virgin Material Cumulative Needs 2020-2050 [Million Tonnes]')\n",
    "a1.set_xlabel('Scenario')\n",
    "a1.set_xticks(ind, ('S1', 'S2'))\n",
    "#plt.yticks(np.arange(0, 81, 10))\n",
    "a1.legend((p0[0], p1[0], p2[0], p3[0], p4[0] ), ('Glass', 'aluminium_frames', 'Silicon','Copper','Silver'))\n",
    "\n",
    "f.tight_layout()\n",
    "\n",
    "print(\"Cumulative Virgin Needs by 2050 Million Tones by Scenario\")\n",
    "dfcumulations2050[['glass','silicon','silver','copper','aluminium_frames']].sum(axis=1)"
   ]
  },
  {
   "cell_type": "code",
   "execution_count": null,
   "id": "53422158",
   "metadata": {},
   "outputs": [],
   "source": [
    "plt.rcParams.update({'font.size': 15})\n",
    "plt.rcParams['figure.figsize'] = (15, 8)\n",
    "keyw='Waste_EOL_'\n",
    "materials = ['glass', 'silicon', 'silver', 'copper', 'aluminium_frames']\n",
    "\n",
    "\n",
    "f, (a0, a1) = plt.subplots(1, 2, gridspec_kw={'width_ratios': [3, 1]})\n",
    "\n",
    "########################    \n",
    "# SUBPLOT 1\n",
    "########################\n",
    "#######################\n",
    "   \n",
    "# Loop over CASES\n",
    "name0 = 'ABM_Simulation_juliens_baseline'\n",
    "name2 = 'ABM_Simulation_cheap_recycling'\n",
    "\n",
    "# SCENARIO 1 ***************\n",
    "modulemat = (USyearly[keyw+materials[0]+'_'+name0]+USyearly[keyw+materials[1]+'_'+name0]+\n",
    "            USyearly[keyw+materials[2]+'_'+name0]+USyearly[keyw+materials[3]+'_'+name0]+\n",
    "            USyearly[keyw+materials[4]+'_'+name0])\n",
    "glassmat = (USyearly[keyw+materials[0]+'_'+name0])\n",
    "modulemat = modulemat/1000000\n",
    "glassmat = glassmat/1000000 \n",
    "a0.plot(USyearly.index, modulemat, 'k.', linewidth=5, label='S1: '+name0+' module mass')\n",
    "a0.plot(USyearly.index, glassmat, 'k', linewidth=5, label='S1: '+name0+' glass mass only')\n",
    "a0.fill_between(USyearly.index, glassmat, modulemat, color='k', alpha=0.3,\n",
    "                 interpolate=True)\n",
    "\n",
    "# SCENARIO 2 ***************\n",
    "modulemat = (USyearly[keyw+materials[0]+'_'+name2]+USyearly[keyw+materials[1]+'_'+name2]+\n",
    "            USyearly[keyw+materials[2]+'_'+name2]+USyearly[keyw+materials[3]+'_'+name2]+\n",
    "            USyearly[keyw+materials[4]+'_'+name2])\n",
    "glassmat = (USyearly[keyw+materials[0]+'_'+name2])\n",
    "modulemat = modulemat/1000000\n",
    "glassmat = glassmat/1000000 \n",
    "a0.plot(USyearly.index, modulemat, 'c.', linewidth=5, label='S2: '+name2+' module mass')\n",
    "a0.plot(USyearly.index, glassmat, 'c', linewidth=5, label='S2: '+name2+' glass mass only')\n",
    "a0.fill_between(USyearly.index, glassmat, modulemat, color='c', alpha=0.3,\n",
    "                 interpolate=True)\n",
    "\n",
    "a0.legend()\n",
    "a0.set_title('Yearly End of Life Material by Scenario')\n",
    "a0.set_ylabel('Mass [Million Tonnes]')\n",
    "a0.set_xlim([2020, 2050])\n",
    "a0.set_xlabel('Years')\n",
    "a0.set_ylim([0, 0.6])\n",
    "\n",
    "########################    \n",
    "# SUBPLOT 2\n",
    "########################\n",
    "#######################\n",
    "# Calculate    \n",
    "\n",
    "cumulations2050 = {}\n",
    "for ii in range(0, len(materials)):\n",
    "    matcum = []\n",
    "    matcum.append(UScum[keyw+materials[ii]+'_'+name0].loc[2050])\n",
    "    matcum.append(UScum[keyw+materials[ii]+'_'+name2].loc[2050])\n",
    "    cumulations2050[materials[ii]] = matcum\n",
    "\n",
    "dfcumulations2050 = pd.DataFrame.from_dict(cumulations2050) \n",
    "dfcumulations2050 = dfcumulations2050/1000000   # in Million Tonnes\n",
    "\n",
    "dfcumulations2050['bottom1'] = dfcumulations2050['glass']\n",
    "dfcumulations2050['bottom2'] = dfcumulations2050['bottom1']+dfcumulations2050['aluminium_frames']\n",
    "dfcumulations2050['bottom3'] = dfcumulations2050['bottom2']+dfcumulations2050['silicon']\n",
    "dfcumulations2050['bottom4'] = dfcumulations2050['bottom3']+dfcumulations2050['copper']\n",
    "\n",
    "\n",
    "## Plot BARS Stuff\n",
    "ind=np.arange(2)\n",
    "width=0.35 # width of the bars.\n",
    "p0 = a1.bar(ind, dfcumulations2050['glass'], width, color='c')\n",
    "p1 = a1.bar(ind, dfcumulations2050['aluminium_frames'], width,\n",
    "             bottom=dfcumulations2050['bottom1'])\n",
    "p2 = a1.bar(ind, dfcumulations2050['silicon'], width,\n",
    "             bottom=dfcumulations2050['bottom2'])\n",
    "p3 = a1.bar(ind, dfcumulations2050['copper'], width,\n",
    "             bottom=dfcumulations2050['bottom3'])\n",
    "p4 = a1.bar(ind, dfcumulations2050['silver'], width,\n",
    "             bottom=dfcumulations2050['bottom4'])\n",
    "\n",
    "a1.yaxis.set_label_position(\"right\")\n",
    "a1.yaxis.tick_right()\n",
    "a1.set_ylabel('Cumulative End of Life Material by 2050 [Million Tonnes]')\n",
    "a1.set_xlabel('Scenario')\n",
    "a1.set_xticks(ind, ('S1', 'S2'))\n",
    "#plt.yticks(np.arange(0, 81, 10))\n",
    "a1.legend((p0[0], p1[0], p2[0], p3[0], p4[0] ), ('Glass', 'aluminium_frames', 'Silicon','Copper','Silver'))\n",
    "\n",
    "f.tight_layout()\n",
    "\n",
    "print(\"Cumulative Waste by EoL 2050 Million Tones by Scenario\")\n",
    "dfcumulations2050[['glass','silicon','silver','copper','aluminium_frames']].sum(axis=1)"
   ]
  },
  {
   "cell_type": "markdown",
   "id": "36f495f2",
   "metadata": {},
   "source": [
    "## Clean up results for OpenEI export"
   ]
  },
  {
   "cell_type": "markdown",
   "id": "fb38a598",
   "metadata": {},
   "source": [
    "### Yearly Results"
   ]
  },
  {
   "cell_type": "code",
   "execution_count": null,
   "id": "29301892",
   "metadata": {},
   "outputs": [],
   "source": [
    "yearly_scenario_comparison = pd.DataFrame()"
   ]
  },
  {
   "cell_type": "code",
   "execution_count": null,
   "id": "5fb356b7",
   "metadata": {},
   "outputs": [],
   "source": [
    "#use scenarios as values\n",
    "years = USyearly.index\n",
    "yearly_scenario_comparison['@timeseries|Year'] = list(years)"
   ]
  },
  {
   "cell_type": "code",
   "execution_count": null,
   "id": "dc2e5e49",
   "metadata": {},
   "outputs": [],
   "source": [
    "scenarios = ['standard_PVICE','landfill_ban','high_mat_recovery_cheap_recycling','cheap_recycling','high_landfill_costs','better_lifetime','better_learning','reuse_warranties','seeding_reuse','juliens_baseline']\n",
    "pretty_scenarios = ['PV ICE Baseline','Landfill Ban','High material recovery and Lower recycling costs','Lower recycling costs','Higher landfill costs','Improved lifetime','Improved learning effect','Reuse warranties','Seeding reuse','ABM Baseline']\n",
    "\n",
    "#virgin material demand columns\n",
    "for myscenario in scenarios:\n",
    "    better_scenario_name = pretty_scenarios[scenarios.index(myscenario)]\n",
    "    virgin_material_demand = USyearly['VirginStock_glass_ABM_Simulation_' + myscenario] + USyearly['VirginStock_aluminium_frames_ABM_Simulation_' + myscenario] + USyearly['VirginStock_silver_ABM_Simulation_' + myscenario] + USyearly['VirginStock_silicon_ABM_Simulation_' + myscenario] + USyearly['VirginStock_copper_ABM_Simulation_' + myscenario]\n",
    "    yearly_scenario_comparison['@value|TotalVirginMaterialDemand|' + better_scenario_name + '#MetricTonnes'] = list(virgin_material_demand.values)\n",
    "    "
   ]
  },
  {
   "cell_type": "code",
   "execution_count": null,
   "id": "1f1ab3f6",
   "metadata": {},
   "outputs": [],
   "source": [
    "#EOL material columns\n",
    "for myscenario in scenarios:\n",
    "    better_scenario_name = pretty_scenarios[scenarios.index(myscenario)]\n",
    "    total_eol_material = USyearly['Waste_EOL_glass_ABM_Simulation_' + myscenario] + USyearly['Waste_EOL_aluminium_frames_ABM_Simulation_' + myscenario] + USyearly['Waste_EOL_silver_ABM_Simulation_' + myscenario] + USyearly['Waste_EOL_silicon_ABM_Simulation_' + myscenario] + USyearly['Waste_EOL_copper_ABM_Simulation_' + myscenario]\n",
    "    yearly_scenario_comparison['@value|TotalEOLMaterial|' + better_scenario_name + '#MetricTonnes'] = list(total_eol_material.values)"
   ]
  },
  {
   "cell_type": "code",
   "execution_count": null,
   "id": "3fd18f6e",
   "metadata": {},
   "outputs": [],
   "source": [
    "###############WHAT NEXT?"
   ]
  },
  {
   "cell_type": "code",
   "execution_count": null,
   "id": "e8b029fd",
   "metadata": {},
   "outputs": [],
   "source": [
    "yearly_scenario_comparison.to_csv('ABM_Yearly, with Scenario Comparison, Materials Summed.csv')"
   ]
  },
  {
   "cell_type": "markdown",
   "id": "32b86cb7",
   "metadata": {},
   "source": [
    "### Cumulative Results"
   ]
  },
  {
   "cell_type": "code",
   "execution_count": null,
   "id": "b7b725ba",
   "metadata": {},
   "outputs": [],
   "source": [
    "cumulative_ABM = pd.DataFrame()"
   ]
  },
  {
   "cell_type": "code",
   "execution_count": null,
   "id": "20192359",
   "metadata": {},
   "outputs": [],
   "source": [
    "scenarios = ['standard_PVICE','landfill_ban','high_mat_recovery_cheap_recycling','cheap_recycling','high_landfill_costs','better_lifetime','better_learning','reuse_warranties','seeding_reuse','juliens_baseline']\n",
    "pretty_scenarios = ['PV ICE Baseline','Landfill Ban','High material recovery and Lower recycling costs','Lower recycling costs','Higher landfill costs','Improved lifetime','Improved learning effect','Reuse warranties','Seeding reuse','ABM Baseline']\n",
    "list1 = []\n",
    "for myscenario in pretty_scenarios: \n",
    "    list1 += [myscenario] * (2050-1994)\n",
    "cumulative_ABM['@scenario|Intervention Scenario'] = list1"
   ]
  },
  {
   "cell_type": "code",
   "execution_count": null,
   "id": "ca2ff18a",
   "metadata": {},
   "outputs": [],
   "source": [
    "years = USyearly.index\n",
    "cumulative_ABM['@timeseries|Year'] = list(years) * 10"
   ]
  },
  {
   "cell_type": "code",
   "execution_count": null,
   "id": "d2ff92d3",
   "metadata": {},
   "outputs": [],
   "source": [
    "#Virgin Material Demand Columns\n",
    "materials = ['glass','aluminium_frames','silver','silicon','copper']\n",
    "pretty_materials = ['Glass','AluminiumFrames','Silver','Silicon','Copper']\n",
    "for mymaterial in materials:\n",
    "    better_material_name = pretty_materials[materials.index(mymaterial)]\n",
    "    virgin_material_demand = []\n",
    "    for myscenario in scenarios: \n",
    "        virgin_material_demand += list(UScum['VirginStock_'+ mymaterial + '_ABM_Simulation_'+ myscenario].values)\n",
    "    cumulative_ABM['@value|VirginMaterialDemand|' + better_material_name + '#MetricTonnes'] = virgin_material_demand"
   ]
  },
  {
   "cell_type": "code",
   "execution_count": null,
   "id": "a7f37df1",
   "metadata": {},
   "outputs": [],
   "source": [
    "#EOL Material Columns\n",
    "materials = ['glass','aluminium_frames','silver','silicon','copper']\n",
    "pretty_materials = ['Glass','AluminiumFrames','Silver','Silicon','Copper']\n",
    "for mymaterial in materials:\n",
    "    better_material_name = pretty_materials[materials.index(mymaterial)]\n",
    "    eol_material = []\n",
    "    for myscenario in scenarios: \n",
    "        eol_material += list(UScum['Waste_EOL_'+ mymaterial + '_ABM_Simulation_'+ myscenario].values)\n",
    "    cumulative_ABM['@value|EOLMaterial|' + better_material_name + '#MetricTonnes'] = eol_material"
   ]
  },
  {
   "cell_type": "code",
   "execution_count": null,
   "id": "4aee2a56",
   "metadata": {},
   "outputs": [],
   "source": [
    "#filter for decade increments\n",
    "df_new = cumulative_ABM.rename(columns={'@timeseries|Year':'year'})\n",
    "cumulative_ABM = cumulative_ABM[df_new.year.isin([2020, 2030,2040,2050])]\n",
    "cumulative_ABM = cumulative_ABM.rename(columns={'year':'@timeseries|Year'})"
   ]
  },
  {
   "cell_type": "code",
   "execution_count": null,
   "id": "dbe0d933",
   "metadata": {},
   "outputs": [],
   "source": [
    "###############WHAT NEXT?"
   ]
  },
  {
   "cell_type": "code",
   "execution_count": null,
   "id": "8f18955a",
   "metadata": {},
   "outputs": [],
   "source": [
    "cumulative_ABM.to_csv('ABM_Cumulative with Decade Increments.csv')"
   ]
  },
  {
   "cell_type": "code",
   "execution_count": null,
   "id": "53477021",
   "metadata": {},
   "outputs": [],
   "source": []
  }
 ],
 "metadata": {
  "kernelspec": {
   "display_name": "Python 3",
   "language": "python",
   "name": "python3"
  },
  "language_info": {
   "codemirror_mode": {
    "name": "ipython",
    "version": 3
   },
   "file_extension": ".py",
   "mimetype": "text/x-python",
   "name": "python",
   "nbconvert_exporter": "python",
   "pygments_lexer": "ipython3",
   "version": "3.8.8"
  }
 },
 "nbformat": 4,
 "nbformat_minor": 5
}
