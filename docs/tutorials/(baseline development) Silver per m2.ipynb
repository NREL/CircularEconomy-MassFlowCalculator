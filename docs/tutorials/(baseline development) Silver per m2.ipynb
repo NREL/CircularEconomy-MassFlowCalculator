{
 "cells": [
  {
   "cell_type": "markdown",
   "metadata": {},
   "source": [
    "# Silver per m2 Calculations"
   ]
  },
  {
   "cell_type": "markdown",
   "metadata": {},
   "source": [
    "This journal documents the calculations and assumptions for the silver baseline file used in the calculator."
   ]
  },
  {
   "cell_type": "code",
   "execution_count": 1,
   "metadata": {},
   "outputs": [],
   "source": [
    "import numpy as np\n",
    "import pandas as pd\n",
    "import os,sys\n",
    "import matplotlib.pyplot as plt\n",
    "plt.rcParams.update({'font.size': 22})\n",
    "plt.rcParams['figure.figsize'] = (12, 8)\n",
    "\n",
    "density_Ag = 10.49 #g/cm3, source Wikipedia"
   ]
  },
  {
   "cell_type": "markdown",
   "metadata": {},
   "source": [
    "From the ITRPVs, we have grams of Ag per cell from 2009 through 2019, with projections through 2030. While the standard cell size has changed in that time frame, it appears that cell size makes less of a difference than cell type (n-type vs p-type), therefore we will use this as contiguous average data.\n",
    "Note: raw number extracted from ITRPV graphs with \"webplotdigitizer\""
   ]
  },
  {
   "cell_type": "markdown",
   "metadata": {},
   "source": [
    "### Some assumptions that will be made:\n",
    "\n",
    "1) n-type cells account for only 5% of the world market share and have for the last decade. While these require more silver per cell than p-type, they make up a small portion of the marketshare and will therefore be ignored.\n",
    "\n",
    "2) The difference in silver per cell between bifacial and monofacial cells is not significant for this calculation, and will therefore be averaged together."
   ]
  },
  {
   "cell_type": "code",
   "execution_count": 2,
   "metadata": {},
   "outputs": [],
   "source": [
    "#read in the csv of 2009 through 2030 data for silver per cell.\n",
    "cwd = os.getcwd() #grabs current working directory\n",
    "skipcols = ['Source']\n",
    "itrpv_ag_gpc = pd.read_csv(cwd+\"/../../PV_ICE/baselines/SupportingMaterial/ag_g_per_cell.csv\", \n",
    "                           index_col='Year', usecols=lambda x: x not in skipcols)"
   ]
  },
  {
   "cell_type": "code",
   "execution_count": 3,
   "metadata": {},
   "outputs": [
    {
     "data": {
      "text/plain": [
       "Text(0, 0.5, 'Silver, grams/cell')"
      ]
     },
     "execution_count": 3,
     "metadata": {},
     "output_type": "execute_result"
    },
    {
     "data": {
      "image/png": "[encoded data removed]",
      "text/plain": [
       "<Figure size 432x288 with 1 Axes>"
      ]
     },
     "metadata": {
      "needs_background": "light"
     },
     "output_type": "display_data"
    }
   ],
   "source": [
    "#plot the raw data\n",
    "plt.plot(itrpv_ag_gpc, marker=\"o\")\n",
    "plt.title(\"Silver mass per cell over time\")\n",
    "plt.ylabel(\"Silver, grams/cell\")"
   ]
  },
  {
   "cell_type": "markdown",
   "metadata": {},
   "source": [
    "Based on looking at the plot of original data, it doesn't seem crazy to linearly interpolate for missing data"
   ]
  },
  {
   "cell_type": "code",
   "execution_count": 10,
   "metadata": {},
   "outputs": [
    {
     "name": "stdout",
     "output_type": "stream",
     "text": [
      "      Ag_g_per_cell\n",
      "Year               \n",
      "1995       0.880000\n",
      "1996       0.845786\n",
      "1997       0.811572\n",
      "1998       0.777358\n",
      "1999       0.743144\n",
      "2000       0.708930\n",
      "2001       0.674716\n",
      "2002       0.640502\n",
      "2003       0.606289\n",
      "2004       0.572075\n",
      "2005       0.537861\n",
      "2006       0.503647\n",
      "2007       0.469433\n",
      "2008       0.435219\n",
      "2009       0.401005\n",
      "2010       0.300000\n",
      "2011       0.250000\n",
      "2012       0.200000\n",
      "2013       0.140000\n",
      "2014       0.130000\n",
      "2015       0.110000\n",
      "2016       0.100000\n",
      "2017       0.100000\n",
      "2018       0.100251\n",
      "2019       0.097373\n",
      "2020       0.079899\n",
      "2021       0.072361\n",
      "2022       0.064824\n",
      "2023       0.055779\n",
      "2024       0.046734\n",
      "2025       0.043970\n",
      "2026       0.041206\n",
      "2027       0.038442\n",
      "2028       0.042069\n",
      "2029       0.045695\n",
      "2030       0.049322\n"
     ]
    },
    {
     "data": {
      "image/png": "[encoded data removed]",
      "text/plain": [
       "<Figure size 432x288 with 1 Axes>"
      ]
     },
     "metadata": {
      "needs_background": "light"
     },
     "output_type": "display_data"
    }
   ],
   "source": [
    "ag_gpc = itrpv_ag_gpc.interpolate()\n",
    "plt.plot(ag_gpc, marker=\"o\")\n",
    "plt.title(\"Silver mass per cell over time\")\n",
    "plt.ylabel(\"Silver, grams/cell\")\n",
    "print(ag_gpc)"
   ]
  },
  {
   "cell_type": "markdown",
   "metadata": {},
   "source": [
    "## Convert to a per module area basis (not per cell)"
   ]
  },
  {
   "cell_type": "code",
   "execution_count": 5,
   "metadata": {},
   "outputs": [],
   "source": [
    "#import cell per m2 from the silicon baseline\n",
    "cpm2 = pd.read_csv(cwd+\"/../../PV_ICE/baselines/SupportingMaterial/output_cell_per_m2.csv\",\n",
    "                   index_col='Year', usecols=lambda x: x not in skipcols)\n",
    "#print(cpm2)"
   ]
  },
  {
   "cell_type": "code",
   "execution_count": 9,
   "metadata": {},
   "outputs": [
    {
     "name": "stdout",
     "output_type": "stream",
     "text": [
      "      ag_g_per_m2\n",
      "Year             \n",
      "1995   100.000000\n",
      "1996   100.000000\n",
      "1997   100.000000\n",
      "1998   100.000000\n",
      "1999   100.000000\n",
      "2000    64.000000\n",
      "2001    64.000000\n",
      "2002    64.000000\n",
      "2003    64.000000\n",
      "2004    64.000000\n",
      "2005    64.000000\n",
      "2006    64.000000\n",
      "2007    64.000000\n",
      "2008    64.000000\n",
      "2009    64.000000\n",
      "2010    41.091387\n",
      "2011    41.091387\n",
      "2012    41.091387\n",
      "2013    41.091387\n",
      "2014    41.091387\n",
      "2015    41.091387\n",
      "2016    40.997570\n",
      "2017    40.791103\n",
      "2018    40.687112\n",
      "2019    40.265144\n",
      "2020    39.075711\n",
      "2021    38.627501\n",
      "2022    38.193013\n",
      "2023    38.142946\n",
      "2024    37.928104\n",
      "2025    37.396339\n",
      "2026    36.942495\n",
      "2027    36.562653\n",
      "2028    36.508026\n",
      "2029    36.453227\n",
      "2030    36.398259\n"
     ]
    },
    {
     "data": {
      "image/png": "[encoded data removed]",
      "text/plain": [
       "<Figure size 432x288 with 1 Axes>"
      ]
     },
     "metadata": {
      "needs_background": "light"
     },
     "output_type": "display_data"
    }
   ],
   "source": [
    "#convert silver per cell to silver per m^2 of module, based on output from silicon baseline\n",
    "ag_gpc.columns = cpm2.columns = ['ag_g_per_m2'] #rename to a common name\n",
    "ag_gpm2 = ag_gpc.mul(cpm2, 'columns') #multiply\n",
    "plt.plot(ag_gpm2)\n",
    "plt.plot(cpm2)\n",
    "plt.title(\"Silver mass per module m2 over time\")\n",
    "plt.ylabel(\"Silver, grams/module m2\")\n",
    "print(cpm2)"
   ]
  },
  {
   "cell_type": "markdown",
   "metadata": {},
   "source": [
    "### Extend projection through 2050\n",
    "It appears that the silver per cell is expected to level out by 2025 or so. We will extend this projection through 2050 as a \"lower limit\" or minimal further improvement in this manufacturing technology"
   ]
  },
  {
   "cell_type": "code",
   "execution_count": 7,
   "metadata": {
    "scrolled": false
   },
   "outputs": [
    {
     "data": {
      "text/plain": [
       "Text(0, 0.5, 'Silver, grams/module m2')"
      ]
     },
     "execution_count": 7,
     "metadata": {},
     "output_type": "execute_result"
    },
    {
     "data": {
      "image/png": "[encoded data removed]",
      "text/plain": [
       "<Figure size 432x288 with 1 Axes>"
      ]
     },
     "metadata": {
      "needs_background": "light"
     },
     "output_type": "display_data"
    }
   ],
   "source": [
    "#create an empty df as a place holder\n",
    "yrs = pd.Series(index=range(2031,2050), dtype='float64')\n",
    "tempdf = pd.DataFrame(yrs, columns=['ag_g_per_m2'])\n",
    "\n",
    "#take the average from 2025 through 2030, use that as lower limit projection \n",
    "#avg = ag_gpm2.loc[2025:2030].mean() #this spits out a series, so need to access the the element and assign that to df\n",
    "tempdf.loc[2050] = avg[0] #pad or fill 2030 through 2050.\n",
    "#print(tempdf)\n",
    "\n",
    "#squish dataframes together\n",
    "fulldf = pd.concat([ag_gpm2,tempdf])\n",
    "ag_gpm2_full = fulldf.interpolate()\n",
    "plt.plot(ag_gpm2_full)\n",
    "plt.title(\"Silver mass per module area over time\")\n",
    "plt.ylabel(\"Silver, grams/module m2\")"
   ]
  },
  {
   "cell_type": "code",
   "execution_count": 8,
   "metadata": {},
   "outputs": [],
   "source": [
    "#print out to csv\n",
    "ag_gpm2_full.to_csv(cwd+'/../../PV_ICE/baselines/SupportingMaterial/output_ag_g_per_m2.csv', index=True)"
   ]
  }
 ],
 "metadata": {
  "kernelspec": {
   "display_name": "Python 3",
   "language": "python",
   "name": "python3"
  },
  "language_info": {
   "codemirror_mode": {
    "name": "ipython",
    "version": 3
   },
   "file_extension": ".py",
   "mimetype": "text/x-python",
   "name": "python",
   "nbconvert_exporter": "python",
   "pygments_lexer": "ipython3",
   "version": "3.7.4"
  }
 },
 "nbformat": 4,
 "nbformat_minor": 4
}
