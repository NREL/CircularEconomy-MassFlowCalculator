{
 "cells": [
  {
   "cell_type": "markdown",
   "metadata": {},
   "source": [
    "# Weibull Options Comparison\n"
   ]
  },
  {
   "cell_type": "code",
   "execution_count": 1,
   "metadata": {},
   "outputs": [
    {
     "name": "stdout",
     "output_type": "stream",
     "text": [
      "path = C:\\Users\\sayala\\Documents\\GitHub\\CircularEconomy-MassFlowCalculator\\docs\\tutorials\n"
     ]
    }
   ],
   "source": [
    "import PV_ICE\n",
    "import numpy as np\n",
    "import matplotlib.pyplot as plt\n",
    "\n",
    "r1 = PV_ICE.Simulation(name='Simulation1')\n",
    "\n",
    "baselinefile = r'C:\\Users\\sayala\\Documents\\GitHub\\CircularEconomy-MassFlowCalculator\\PV_ICE\\baselines\\baseline_modules_US.csv'\n",
    "materialfile = r'C:\\Users\\sayala\\Documents\\GitHub\\CircularEconomy-MassFlowCalculator\\PV_ICE\\baselines\\baseline_material_glass.csv'\n",
    "r1.createScenario(name='standard', file=baselinefile)\n",
    "r1.scenario['standard'].addMaterial('glass', file=materialfile)\n"
   ]
  },
  {
   "cell_type": "markdown",
   "metadata": {},
   "source": [
    "#### A. Internally calculated Weibull with t50 and t90"
   ]
  },
  {
   "cell_type": "code",
   "execution_count": 2,
   "metadata": {},
   "outputs": [
    {
     "name": "stdout",
     "output_type": "stream",
     "text": [
      "Working on Scenario:  standard\n",
      "********************\n",
      "Finished Area+Power Generation Calculations\n",
      "==> Working on Material :  glass\n",
      "0    {'alpha': 4.173167120209922, 'beta': 16.376973...\n",
      "1    {'alpha': 4.173167120209922, 'beta': 16.376973...\n",
      "2    {'alpha': 4.414845594612703, 'beta': 17.384986...\n",
      "3    {'alpha': 4.414845594612703, 'beta': 17.384986...\n",
      "4    {'alpha': 4.656360831712505, 'beta': 18.392181...\n",
      "Name: WeibullParams, dtype: object\n"
     ]
    }
   ],
   "source": [
    "r1.calculateMassFlow()\n",
    "print(r1.scenario['standard'].data.WeibullParams.head())"
   ]
  },
  {
   "cell_type": "markdown",
   "metadata": {},
   "source": [
    "#### B. Passing Alpha and Beta values"
   ]
  },
  {
   "cell_type": "code",
   "execution_count": 3,
   "metadata": {},
   "outputs": [
    {
     "name": "stdout",
     "output_type": "stream",
     "text": [
      "Working on Scenario:  standard\n",
      "********************\n",
      "Finished Area+Power Generation Calculations\n",
      "==> Working on Material :  glass\n",
      "0    {'alpha': 3.4, 'beta': 4.5}\n",
      "1    {'alpha': 3.4, 'beta': 4.5}\n",
      "2    {'alpha': 3.4, 'beta': 4.5}\n",
      "3    {'alpha': 3.4, 'beta': 4.5}\n",
      "4    {'alpha': 3.4, 'beta': 4.5}\n",
      "Name: WeibullParams, dtype: object\n"
     ]
    }
   ],
   "source": [
    "weibullInputParams = {'alpha': 3.4,\n",
    "                      'beta': 4.5}\n",
    "r1.calculateMassFlow(weibullInputParams=weibullInputParams)\n",
    "print(r1.scenario['standard'].data.WeibullParams.head())"
   ]
  },
  {
   "cell_type": "markdown",
   "metadata": {},
   "source": [
    "#### C. Passing Alpha only"
   ]
  },
  {
   "cell_type": "code",
   "execution_count": 4,
   "metadata": {},
   "outputs": [
    {
     "name": "stdout",
     "output_type": "stream",
     "text": [
      "Working on Scenario:  standard\n",
      "********************\n",
      "Finished Area+Power Generation Calculations\n",
      "==> Working on Material :  glass\n",
      "0    5.3759\n",
      "1    5.3759\n",
      "2    5.3759\n",
      "3    5.3759\n",
      "4    5.3759\n",
      "Name: WeibullParams, dtype: float64\n"
     ]
    }
   ],
   "source": [
    "weibullInputParams = {'alpha': 5.3759}  # Regular-loss scenario IRENA\n",
    "\n",
    "r1.calculateMassFlow(weibullInputParams=weibullInputParams, weibullAlphaOnly=True)\n",
    "print(r1.scenario['standard'].data.WeibullParams.head())\n"
   ]
  },
  {
   "cell_type": "markdown",
   "metadata": {},
   "source": [
    "## Going internally to plot. This is custom code."
   ]
  },
  {
   "cell_type": "code",
   "execution_count": 5,
   "metadata": {},
   "outputs": [],
   "source": [
    "def weibull_cdf(alpha, beta):\n",
    "    '''Return the CDF for a Weibull distribution having:\n",
    "    shape parameter `alpha`\n",
    "    scale parameter `beta`'''\n",
    "    def cdf(x):\n",
    "        return 1 - np.exp(-(np.array(x)/beta)**alpha)\n",
    "    return cdf\n",
    "\n",
    "def weibull_pdf(alpha, beta):\n",
    "    '''Return the PDF for a Weibull distribution having:\n",
    "        shape parameter `alpha`\n",
    "        scale parameter `beta`/'''\n",
    "    def pdf(x):\n",
    "        return (alpha/np.array(x)) * ((np.array(x)/beta)**alpha) * (np.exp(-(np.array(x)/beta)**alpha))\n",
    "    return pdf\n",
    "\n",
    "def weibull_cdf_alphaonly(alpha, Lifetime):\n",
    "    '''Return the CDF for a Weibull distribution having:\n",
    "    shape parameter `alpha`\n",
    "    scale parameter `beta`'''\n",
    "    def cdf(x):\n",
    "        return 1 - np.exp(-(np.array(x)/Lifetime)**alpha)\n",
    "    return cdf\n",
    "\n",
    "\n",
    "def weibull_params(keypoints):\n",
    "    '''Returns shape parameter `alpha` and scale parameter `beta`\n",
    "    for a Weibull distribution whose CDF passes through the\n",
    "    two time: value pairs in `keypoints`'''\n",
    "    t1, t2 = tuple(keypoints.keys())\n",
    "    cdf1, cdf2 = tuple(keypoints.values())\n",
    "    alpha = np.ndarray.item(np.real_if_close(\n",
    "        (np.log(np.log(1 - cdf1)+0j) - np.log(np.log(1 - cdf2)+0j))/(np.log(t1) - np.log(t2))\n",
    "    ))\n",
    "    beta = np.abs(np.exp(\n",
    "        (\n",
    "            np.log(t2)*((0+1j)*np.pi + np.log(np.log(1 - cdf1)+0j))\n",
    "            + np.log(t1)*(((0-1j))*np.pi - np.log(np.log(1 - cdf2)+0j))\n",
    "        )/(\n",
    "            np.log(np.log(1 - cdf1)+0j) - np.log(np.log(1 - cdf2)+0j)\n",
    "        )\n",
    "    ))\n",
    "    return {'alpha': alpha, 'beta': beta}\n",
    "\n",
    "\n"
   ]
  },
  {
   "cell_type": "code",
   "execution_count": 6,
   "metadata": {},
   "outputs": [],
   "source": [
    "df = r1.scenario['standard'].data\n",
    "\n",
    "# Constant\n",
    "irradiance_stc = 1000 # W/m^2\n",
    "\n",
    "# Renaming and re-scaling\n",
    "df['new_Installed_Capacity_[W]'] = df['new_Installed_Capacity_[MW]']*1e6\n",
    "df['t50'] = df['mod_reliability_t50']\n",
    "df['t90'] = df['mod_reliability_t90']\n",
    "\n",
    "# Calculating Area and Mass\n",
    "df['Area'] = df['new_Installed_Capacity_[W]']/(df['mod_eff']*0.01)/irradiance_stc # m^2                \n",
    "df['Area'] = df['Area'].fillna(0) # Chagne na's to 0s.\n",
    "\n",
    "# Calculating Wast by Generation by Year, and Cumulative Waste by Year.\n",
    "Generation_Disposed_byYear = []\n",
    "Generation_Active_byYear= []\n",
    "Generation_Power_byYear = []\n",
    "\n",
    "df['Cumulative_Area_disposedby_Failure'] = 0\n",
    "df['Cumulative_Area_disposedby_ProjectLifetime'] = 0\n",
    "df['Cumulative_Area_disposed'] = 0\n",
    "df['Cumulative_Active_Area'] = 0\n",
    "df['Installed_Capacity_[W]'] = 0\n"
   ]
  },
  {
   "cell_type": "code",
   "execution_count": 37,
   "metadata": {
    "scrolled": true
   },
   "outputs": [
    {
     "data": {
      "text/plain": [
       "<matplotlib.legend.Legend at 0x1de8400c3c8>"
      ]
     },
     "execution_count": 37,
     "metadata": {},
     "output_type": "execute_result"
    },
    {
     "data": {
      "image/png": "[encoded data removed]",
      "text/plain": [
       "<Figure size 432x288 with 1 Axes>"
      ]
     },
     "metadata": {
      "needs_background": "light"
     },
     "output_type": "display_data"
    }
   ],
   "source": [
    "df = r1.scenario['standard'].data\n",
    "\n",
    "#for generation, row in df.iterrows(): \n",
    "    #generation is an int 0,1,2,.... etc.\n",
    "generation=0\n",
    "row=df.iloc[generation]\n",
    "\n",
    "t50, t90 = row['t50'], row['t90']   #  t50 = 17.0; t90 = 22.0\n",
    "weibullInputParams = weibull_params({t50: 0.50, t90: 0.90})      #  alpha = 4.65, beta = 18.39\n",
    "f = weibull_cdf(**weibull_params({t50: 0.50, t90: 0.90}))\n",
    "x = np.clip(df.index - generation, 0, np.inf)\n",
    "cdf = list(map(f, x))\n",
    "\n",
    "\n",
    "generation=40\n",
    "row=df.iloc[generation]\n",
    "t50, t90 = row['t50'], row['t90']   #  t50 = 17.0; t90 = 22.0\n",
    "weibullInputParams2 = weibull_params({t50: 0.50, t90: 0.90})      #  alpha = 4.65, beta = 18.39\n",
    "g = weibull_cdf(**weibull_params({t50: 0.50, t90: 0.90}))\n",
    "generation = 0\n",
    "x = np.clip(df.index - generation, 0, np.inf)\n",
    "gdf = list(map(g, x))\n",
    "\n",
    "\n",
    "#weibullInputParams = {'alpha': 3.4,\n",
    "#                      'beta': 4.5}\n",
    "\n",
    "#g = weibull_cdf(weibullInputParams['alpha'], weibullInputParams['beta'])\n",
    "#x = np.clip(df.index - generation, 0, np.inf)\n",
    "#gdf = list(map(g, x))\n",
    "\n",
    "h = weibull_cdf_alphaonly(2.4928, 30)\n",
    "x = np.clip(df.index - generation, 0, np.inf)\n",
    "hdf = list(map(h, x))\n",
    "\n",
    "j = weibull_cdf_alphaonly(5.3759, 30)\n",
    "x = np.clip(df.index - generation, 0, np.inf)\n",
    "jdf = list(map(j, x))\n",
    "\n",
    "i = weibull_cdf_alphaonly(14.41, 30)\n",
    "x = np.clip(df.index - generation, 0, np.inf)\n",
    "idf = list(map(i, x))\n",
    "\n",
    "\n",
    "\n",
    "plt.plot(cdf, label=r'$ \\alpha $ : '+str(round(weibullInputParams['alpha'],2))+ r' $ \\beta $ : '+ str(round(weibullInputParams['beta'],2)) + ' PV ICE, gen 1995')\n",
    "plt.plot(gdf, label=r'$ \\alpha $ : '+str(round(weibullInputParams2['alpha'],2))+ r' $ \\beta $ : '+ str(round(weibullInputParams2['beta'],2)) + ' PV ICE, gen 2030')\n",
    "plt.plot(hdf, label=r'$ \\alpha $ : 2.49, Early Loss Baseline Irena 2016')\n",
    "plt.plot(jdf, label=r'$ \\alpha $ : 5.3759, Regular Loss Baseline Irena 2016')\n",
    "plt.plot(idf, label=r'$ \\alpha $ : 14.41, Upper Shape Factor Kumar 2013')\n",
    "plt.legend()\n",
    "plt.ylabel('Cumulative Distribution Function (CDF)')\n",
    "plt.xlabel('Years since install')\n",
    "plt.xlim([0,50])\n",
    "plt.legend(bbox_to_anchor=(1.05, 1.0), loc='upper left')\n",
    "\n",
    "#   pdf = [0] + [j - i for i, j in zip(cdf[: -1], cdf[1 :])]\n",
    "\n",
    "# In[3]:"
   ]
  },
  {
   "cell_type": "code",
   "execution_count": 28,
   "metadata": {},
   "outputs": [
    {
     "data": {
      "text/plain": [
       "0.26015567892278924"
      ]
     },
     "execution_count": 28,
     "metadata": {},
     "output_type": "execute_result"
    }
   ],
   "source": []
  },
  {
   "cell_type": "code",
   "execution_count": null,
   "metadata": {},
   "outputs": [],
   "source": []
  },
  {
   "cell_type": "code",
   "execution_count": null,
   "metadata": {},
   "outputs": [],
   "source": []
  }
 ],
 "metadata": {
  "kernelspec": {
   "display_name": "Python 3",
   "language": "python",
   "name": "python3"
  },
  "language_info": {
   "codemirror_mode": {
    "name": "ipython",
    "version": 3
   },
   "file_extension": ".py",
   "mimetype": "text/x-python",
   "name": "python",
   "nbconvert_exporter": "python",
   "pygments_lexer": "ipython3",
   "version": "3.7.3"
  }
 },
 "nbformat": 4,
 "nbformat_minor": 2
}
