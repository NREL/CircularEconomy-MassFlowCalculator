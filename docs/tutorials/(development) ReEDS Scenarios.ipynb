{
 "cells": [
  {
   "cell_type": "markdown",
   "metadata": {},
   "source": [
    "# ReEDS Scenarios on PV ICE Tool"
   ]
  },
  {
   "cell_type": "markdown",
   "metadata": {},
   "source": [
    "To explore different scenarios for furture installation projections of PV (or any technology), ReEDS output data can be useful in providing standard scenarios. ReEDS installation projections are used in this journal as input data to the PV ICE tool. \n",
    "\n",
    "Current sections include:\n",
    "\n",
    "<ol>\n",
    "    <li> ### Reading a standard ReEDS output file and saving it in a PV ICE input format </li>\n",
    "<li>### Reading scenarios of interest and running PV ICE tool </li>\n",
    "<li>###Plotting </li>\n",
    "<li>### GeoPlotting.</li>"
   ]
  },
  {
   "cell_type": "code",
   "execution_count": 1,
   "metadata": {},
   "outputs": [],
   "source": [
    "import numpy as np\n",
    "import pandas as pd\n",
    "import os,sys\n",
    "import matplotlib.pyplot as plt\n",
    "plt.rcParams.update({'font.size': 22})\n",
    "plt.rcParams['figure.figsize'] = (12, 8)"
   ]
  },
  {
   "cell_type": "code",
   "execution_count": 2,
   "metadata": {},
   "outputs": [
    {
     "name": "stdout",
     "output_type": "stream",
     "text": [
      "Your simulation will be stored in C:\\Users\\sayala\\Documents\\GitHub\\CircularEconomy-MassFlowCalculator\\PV_ICE\\TEMP\n"
     ]
    }
   ],
   "source": [
    "import os\n",
    "from pathlib import Path\n",
    "\n",
    "testfolder = str(Path().resolve().parent.parent / 'PV_ICE' / 'TEMP')\n",
    "\n",
    "print (\"Your simulation will be stored in %s\" % testfolder)\n"
   ]
  },
  {
   "cell_type": "markdown",
   "metadata": {},
   "source": [
    "# Reading a standard ReEDS output file and saving it in a PV ICE input format"
   ]
  },
  {
   "cell_type": "code",
   "execution_count": 3,
   "metadata": {},
   "outputs": [
    {
     "name": "stdout",
     "output_type": "stream",
     "text": [
      "Input file is stored in C:\\Users\\sayala\\Documents\\GitHub\\December Core Scenarios ReEDS Outputs Solar Futures v2a.xlsx\n"
     ]
    }
   ],
   "source": [
    "reedsFile = str(Path().resolve().parent.parent.parent / 'December Core Scenarios ReEDS Outputs Solar Futures v2a.xlsx')\n",
    "print (\"Input file is stored in %s\" % reedsFile)"
   ]
  },
  {
   "cell_type": "code",
   "execution_count": 4,
   "metadata": {},
   "outputs": [],
   "source": [
    "rawdf = pd.read_excel(reedsFile,\n",
    "                        sheet_name=\"UPV Capacity (GW)\")\n",
    "                        #index_col=[0,2,3]) #this casts scenario, PCA and State as levels\n",
    "#now set year as an index in place\n",
    "rawdf.drop(columns=['State'], inplace=True)\n",
    "rawdf.drop(columns=['Tech'], inplace=True)\n",
    "rawdf.set_index(['Scenario','Year','PCA'], inplace=True)\n"
   ]
  },
  {
   "cell_type": "code",
   "execution_count": 5,
   "metadata": {},
   "outputs": [
    {
     "data": {
      "text/html": [
       "<div>\n",
       "<style scoped>\n",
       "    .dataframe tbody tr th:only-of-type {\n",
       "        vertical-align: middle;\n",
       "    }\n",
       "\n",
       "    .dataframe tbody tr th {\n",
       "        vertical-align: top;\n",
       "    }\n",
       "\n",
       "    .dataframe thead th {\n",
       "        text-align: right;\n",
       "    }\n",
       "</style>\n",
       "<table border=\"1\" class=\"dataframe\">\n",
       "  <thead>\n",
       "    <tr style=\"text-align: right;\">\n",
       "      <th></th>\n",
       "      <th></th>\n",
       "      <th></th>\n",
       "      <th>Capacity (GW)</th>\n",
       "    </tr>\n",
       "    <tr>\n",
       "      <th>Scenario</th>\n",
       "      <th>Year</th>\n",
       "      <th>PCA</th>\n",
       "      <th></th>\n",
       "    </tr>\n",
       "  </thead>\n",
       "  <tbody>\n",
       "    <tr>\n",
       "      <th rowspan=\"5\" valign=\"top\">Reference.Mod</th>\n",
       "      <th>2010</th>\n",
       "      <th>p1</th>\n",
       "      <td>0.0</td>\n",
       "    </tr>\n",
       "    <tr>\n",
       "      <th>2012</th>\n",
       "      <th>p1</th>\n",
       "      <td>0.0</td>\n",
       "    </tr>\n",
       "    <tr>\n",
       "      <th>2014</th>\n",
       "      <th>p1</th>\n",
       "      <td>0.0</td>\n",
       "    </tr>\n",
       "    <tr>\n",
       "      <th>2016</th>\n",
       "      <th>p1</th>\n",
       "      <td>0.0</td>\n",
       "    </tr>\n",
       "    <tr>\n",
       "      <th>2018</th>\n",
       "      <th>p1</th>\n",
       "      <td>0.0</td>\n",
       "    </tr>\n",
       "  </tbody>\n",
       "</table>\n",
       "</div>"
      ],
      "text/plain": [
       "                        Capacity (GW)\n",
       "Scenario      Year PCA               \n",
       "Reference.Mod 2010 p1             0.0\n",
       "              2012 p1             0.0\n",
       "              2014 p1             0.0\n",
       "              2016 p1             0.0\n",
       "              2018 p1             0.0"
      ]
     },
     "execution_count": 5,
     "metadata": {},
     "output_type": "execute_result"
    }
   ],
   "source": [
    "rawdf.head()"
   ]
  },
  {
   "cell_type": "code",
   "execution_count": 6,
   "metadata": {},
   "outputs": [
    {
     "data": {
      "text/plain": [
       "['Reference.Mod',\n",
       " 'Reference.Adv',\n",
       " 'Reference.Adv+DR',\n",
       " '95-by-35.Mod',\n",
       " '95-by-35.Adv',\n",
       " '95-by-35.Adv+DR',\n",
       " '95-by-35+Elec.Mod',\n",
       " '95-by-35+Elec.Adv',\n",
       " '95-by-35+Elec.Adv+DR']"
      ]
     },
     "execution_count": 6,
     "metadata": {},
     "output_type": "execute_result"
    }
   ],
   "source": [
    "scenarios = list(rawdf.index.get_level_values('Scenario').unique())\n",
    "PCAs = list(rawdf.index.get_level_values('PCA').unique())\n",
    "scenarios"
   ]
  },
  {
   "cell_type": "code",
   "execution_count": 7,
   "metadata": {},
   "outputs": [
    {
     "name": "stdout",
     "output_type": "stream",
     "text": [
      "path = C:\\Users\\sayala\\Documents\\GitHub\\CircularEconomy-MassFlowCalculator\\PV_ICE\\TEMP\n"
     ]
    }
   ],
   "source": [
    "import PV_ICE\n",
    "r1 = PV_ICE.Simulation(name='Simulation1', path=testfolder)\n",
    "r1.createScenario(name='US', file=r'..\\baselines\\baseline_modules_US.csv')\n",
    "baseline = r1.scenario['US'].data\n",
    "baseline = baseline.drop(columns=['new_Installed_Capacity_[MW]'])\n",
    "baseline.set_index('year', inplace=True)\n",
    "baseline.index = pd.PeriodIndex(baseline.index, freq='A')  # A -- Annual\n"
   ]
  },
  {
   "cell_type": "code",
   "execution_count": 8,
   "metadata": {},
   "outputs": [
    {
     "data": {
      "text/html": [
       "<div>\n",
       "<style scoped>\n",
       "    .dataframe tbody tr th:only-of-type {\n",
       "        vertical-align: middle;\n",
       "    }\n",
       "\n",
       "    .dataframe tbody tr th {\n",
       "        vertical-align: top;\n",
       "    }\n",
       "\n",
       "    .dataframe thead th {\n",
       "        text-align: right;\n",
       "    }\n",
       "</style>\n",
       "<table border=\"1\" class=\"dataframe\">\n",
       "  <thead>\n",
       "    <tr style=\"text-align: right;\">\n",
       "      <th></th>\n",
       "      <th>mod_eff</th>\n",
       "      <th>mod_reliability_t50</th>\n",
       "      <th>mod_reliability_t90</th>\n",
       "      <th>mod_degradation</th>\n",
       "      <th>mod_lifetime</th>\n",
       "      <th>mod_MFG_eff</th>\n",
       "      <th>mod_EOL_collection_eff</th>\n",
       "      <th>mod_EOL_collected_recycled</th>\n",
       "      <th>mod_Repowering</th>\n",
       "      <th>mod_Repairing</th>\n",
       "    </tr>\n",
       "    <tr>\n",
       "      <th>year</th>\n",
       "      <th></th>\n",
       "      <th></th>\n",
       "      <th></th>\n",
       "      <th></th>\n",
       "      <th></th>\n",
       "      <th></th>\n",
       "      <th></th>\n",
       "      <th></th>\n",
       "      <th></th>\n",
       "      <th></th>\n",
       "    </tr>\n",
       "  </thead>\n",
       "  <tbody>\n",
       "    <tr>\n",
       "      <th>1995</th>\n",
       "      <td>12.50</td>\n",
       "      <td>15.0</td>\n",
       "      <td>20.0</td>\n",
       "      <td>0.55</td>\n",
       "      <td>10.0</td>\n",
       "      <td>95.0</td>\n",
       "      <td>15.0</td>\n",
       "      <td>40.0</td>\n",
       "      <td>0.0</td>\n",
       "      <td>0.0</td>\n",
       "    </tr>\n",
       "    <tr>\n",
       "      <th>1996</th>\n",
       "      <td>12.70</td>\n",
       "      <td>15.0</td>\n",
       "      <td>20.0</td>\n",
       "      <td>0.55</td>\n",
       "      <td>10.0</td>\n",
       "      <td>95.0</td>\n",
       "      <td>15.0</td>\n",
       "      <td>40.0</td>\n",
       "      <td>0.0</td>\n",
       "      <td>0.0</td>\n",
       "    </tr>\n",
       "    <tr>\n",
       "      <th>1997</th>\n",
       "      <td>12.88</td>\n",
       "      <td>16.0</td>\n",
       "      <td>21.0</td>\n",
       "      <td>0.55</td>\n",
       "      <td>15.0</td>\n",
       "      <td>95.0</td>\n",
       "      <td>15.0</td>\n",
       "      <td>40.0</td>\n",
       "      <td>0.0</td>\n",
       "      <td>0.0</td>\n",
       "    </tr>\n",
       "    <tr>\n",
       "      <th>1998</th>\n",
       "      <td>13.06</td>\n",
       "      <td>16.0</td>\n",
       "      <td>21.0</td>\n",
       "      <td>0.55</td>\n",
       "      <td>15.0</td>\n",
       "      <td>95.0</td>\n",
       "      <td>15.0</td>\n",
       "      <td>40.0</td>\n",
       "      <td>0.0</td>\n",
       "      <td>0.0</td>\n",
       "    </tr>\n",
       "    <tr>\n",
       "      <th>1999</th>\n",
       "      <td>13.24</td>\n",
       "      <td>17.0</td>\n",
       "      <td>22.0</td>\n",
       "      <td>0.55</td>\n",
       "      <td>15.0</td>\n",
       "      <td>95.0</td>\n",
       "      <td>15.0</td>\n",
       "      <td>40.0</td>\n",
       "      <td>0.0</td>\n",
       "      <td>0.0</td>\n",
       "    </tr>\n",
       "  </tbody>\n",
       "</table>\n",
       "</div>"
      ],
      "text/plain": [
       "      mod_eff  mod_reliability_t50  mod_reliability_t90  mod_degradation  \\\n",
       "year                                                                       \n",
       "1995    12.50                 15.0                 20.0             0.55   \n",
       "1996    12.70                 15.0                 20.0             0.55   \n",
       "1997    12.88                 16.0                 21.0             0.55   \n",
       "1998    13.06                 16.0                 21.0             0.55   \n",
       "1999    13.24                 17.0                 22.0             0.55   \n",
       "\n",
       "      mod_lifetime  mod_MFG_eff  mod_EOL_collection_eff  \\\n",
       "year                                                      \n",
       "1995          10.0         95.0                    15.0   \n",
       "1996          10.0         95.0                    15.0   \n",
       "1997          15.0         95.0                    15.0   \n",
       "1998          15.0         95.0                    15.0   \n",
       "1999          15.0         95.0                    15.0   \n",
       "\n",
       "      mod_EOL_collected_recycled  mod_Repowering  mod_Repairing  \n",
       "year                                                             \n",
       "1995                        40.0             0.0            0.0  \n",
       "1996                        40.0             0.0            0.0  \n",
       "1997                        40.0             0.0            0.0  \n",
       "1998                        40.0             0.0            0.0  \n",
       "1999                        40.0             0.0            0.0  "
      ]
     },
     "execution_count": 8,
     "metadata": {},
     "output_type": "execute_result"
    }
   ],
   "source": [
    "baseline.head()"
   ]
  },
  {
   "cell_type": "code",
   "execution_count": 12,
   "metadata": {},
   "outputs": [
    {
     "data": {
      "text/html": [
       "<div>\n",
       "<style scoped>\n",
       "    .dataframe tbody tr th:only-of-type {\n",
       "        vertical-align: middle;\n",
       "    }\n",
       "\n",
       "    .dataframe tbody tr th {\n",
       "        vertical-align: top;\n",
       "    }\n",
       "\n",
       "    .dataframe thead th {\n",
       "        text-align: right;\n",
       "    }\n",
       "</style>\n",
       "<table border=\"1\" class=\"dataframe\">\n",
       "  <thead>\n",
       "    <tr style=\"text-align: right;\">\n",
       "      <th></th>\n",
       "      <th></th>\n",
       "      <th></th>\n",
       "      <th>Capacity (GW)</th>\n",
       "    </tr>\n",
       "    <tr>\n",
       "      <th>Scenario</th>\n",
       "      <th>Year</th>\n",
       "      <th>PCA</th>\n",
       "      <th></th>\n",
       "    </tr>\n",
       "  </thead>\n",
       "  <tbody>\n",
       "    <tr>\n",
       "      <th rowspan=\"21\" valign=\"top\">Reference.Mod</th>\n",
       "      <th>2010</th>\n",
       "      <th>p1</th>\n",
       "      <td>0.000000</td>\n",
       "    </tr>\n",
       "    <tr>\n",
       "      <th>2012</th>\n",
       "      <th>p1</th>\n",
       "      <td>0.000000</td>\n",
       "    </tr>\n",
       "    <tr>\n",
       "      <th>2014</th>\n",
       "      <th>p1</th>\n",
       "      <td>0.000000</td>\n",
       "    </tr>\n",
       "    <tr>\n",
       "      <th>2016</th>\n",
       "      <th>p1</th>\n",
       "      <td>0.000000</td>\n",
       "    </tr>\n",
       "    <tr>\n",
       "      <th>2018</th>\n",
       "      <th>p1</th>\n",
       "      <td>0.000000</td>\n",
       "    </tr>\n",
       "    <tr>\n",
       "      <th>2020</th>\n",
       "      <th>p1</th>\n",
       "      <td>0.025000</td>\n",
       "    </tr>\n",
       "    <tr>\n",
       "      <th>2022</th>\n",
       "      <th>p1</th>\n",
       "      <td>0.025000</td>\n",
       "    </tr>\n",
       "    <tr>\n",
       "      <th>2024</th>\n",
       "      <th>p1</th>\n",
       "      <td>0.025000</td>\n",
       "    </tr>\n",
       "    <tr>\n",
       "      <th>2026</th>\n",
       "      <th>p1</th>\n",
       "      <td>0.025000</td>\n",
       "    </tr>\n",
       "    <tr>\n",
       "      <th>2028</th>\n",
       "      <th>p1</th>\n",
       "      <td>0.025000</td>\n",
       "    </tr>\n",
       "    <tr>\n",
       "      <th>2030</th>\n",
       "      <th>p1</th>\n",
       "      <td>0.025000</td>\n",
       "    </tr>\n",
       "    <tr>\n",
       "      <th>2032</th>\n",
       "      <th>p1</th>\n",
       "      <td>0.025000</td>\n",
       "    </tr>\n",
       "    <tr>\n",
       "      <th>2034</th>\n",
       "      <th>p1</th>\n",
       "      <td>0.025000</td>\n",
       "    </tr>\n",
       "    <tr>\n",
       "      <th>2036</th>\n",
       "      <th>p1</th>\n",
       "      <td>0.025000</td>\n",
       "    </tr>\n",
       "    <tr>\n",
       "      <th>2038</th>\n",
       "      <th>p1</th>\n",
       "      <td>0.025000</td>\n",
       "    </tr>\n",
       "    <tr>\n",
       "      <th>2040</th>\n",
       "      <th>p1</th>\n",
       "      <td>0.025000</td>\n",
       "    </tr>\n",
       "    <tr>\n",
       "      <th>2042</th>\n",
       "      <th>p1</th>\n",
       "      <td>0.025000</td>\n",
       "    </tr>\n",
       "    <tr>\n",
       "      <th>2044</th>\n",
       "      <th>p1</th>\n",
       "      <td>0.025000</td>\n",
       "    </tr>\n",
       "    <tr>\n",
       "      <th>2046</th>\n",
       "      <th>p1</th>\n",
       "      <td>0.025000</td>\n",
       "    </tr>\n",
       "    <tr>\n",
       "      <th>2048</th>\n",
       "      <th>p1</th>\n",
       "      <td>0.025000</td>\n",
       "    </tr>\n",
       "    <tr>\n",
       "      <th>2050</th>\n",
       "      <th>p1</th>\n",
       "      <td>0.282881</td>\n",
       "    </tr>\n",
       "  </tbody>\n",
       "</table>\n",
       "</div>"
      ],
      "text/plain": [
       "                        Capacity (GW)\n",
       "Scenario      Year PCA               \n",
       "Reference.Mod 2010 p1        0.000000\n",
       "              2012 p1        0.000000\n",
       "              2014 p1        0.000000\n",
       "              2016 p1        0.000000\n",
       "              2018 p1        0.000000\n",
       "              2020 p1        0.025000\n",
       "              2022 p1        0.025000\n",
       "              2024 p1        0.025000\n",
       "              2026 p1        0.025000\n",
       "              2028 p1        0.025000\n",
       "              2030 p1        0.025000\n",
       "              2032 p1        0.025000\n",
       "              2034 p1        0.025000\n",
       "              2036 p1        0.025000\n",
       "              2038 p1        0.025000\n",
       "              2040 p1        0.025000\n",
       "              2042 p1        0.025000\n",
       "              2044 p1        0.025000\n",
       "              2046 p1        0.025000\n",
       "              2048 p1        0.025000\n",
       "              2050 p1        0.282881"
      ]
     },
     "execution_count": 12,
     "metadata": {},
     "output_type": "execute_result"
    }
   ],
   "source": [
    "rawdf.head(21)"
   ]
  },
  {
   "cell_type": "code",
   "execution_count": null,
   "metadata": {},
   "outputs": [],
   "source": [
    "A = rawdf.unstack(level=1).iloc[0]\n",
    "A = A.droplevel(level=0)\n",
    "A.name = 'new_Installed_Capacity_[MW]'\n",
    "A = pd.DataFrame(A)\n",
    "A.index=pd.PeriodIndex(A.index, freq='A')\n",
    "A = A.resample('Y').asfreq()\n",
    "A = A['new_Installed_Capacity_[MW]'].fillna(0).groupby(A['new_Installed_Capacity_[MW]'].notna().cumsum()).transform('mean')    \n",
    "A = pd.DataFrame(A)\n",
    "A['new_Installed_Capacity_[MW]'] = A['new_Installed_Capacity_[MW]'] * 1000   # ReEDS file is in GW.\n",
    "# Add other columns\n",
    "A = pd.concat([A, baseline.reindex(A.index)], axis=1)\n"
   ]
  },
  {
   "cell_type": "code",
   "execution_count": 117,
   "metadata": {},
   "outputs": [],
   "source": [
    "A = rawdf.unstack(level=1).iloc[0]\n",
    "A = A.droplevel(level=0)\n",
    "A.name = 'new_Installed_Capacity_[MW]'\n",
    "A = pd.DataFrame(A)\n",
    "A.index=pd.PeriodIndex(A.index, freq='A')\n",
    "A = A.resample('Y').asfreq()"
   ]
  },
  {
   "cell_type": "code",
   "execution_count": 119,
   "metadata": {},
   "outputs": [],
   "source": [
    "A = A['new_Installed_Capacity_[MW]'].fillna(0)"
   ]
  },
  {
   "cell_type": "code",
   "execution_count": 121,
   "metadata": {},
   "outputs": [],
   "source": [
    "B = A[1:]"
   ]
  },
  {
   "cell_type": "code",
   "execution_count": 123,
   "metadata": {},
   "outputs": [],
   "source": [
    "B.index=B.index-1"
   ]
  },
  {
   "cell_type": "code",
   "execution_count": 128,
   "metadata": {},
   "outputs": [],
   "source": [
    "B = pd.DataFrame(B)"
   ]
  },
  {
   "cell_type": "code",
   "execution_count": 131,
   "metadata": {},
   "outputs": [],
   "source": [
    "B = B.groupby(B['new_Installed_Capacity_[MW]'].cumsum()).transform('mean')    \n"
   ]
  },
  {
   "cell_type": "code",
   "execution_count": 132,
   "metadata": {},
   "outputs": [
    {
     "data": {
      "text/html": [
       "<div>\n",
       "<style scoped>\n",
       "    .dataframe tbody tr th:only-of-type {\n",
       "        vertical-align: middle;\n",
       "    }\n",
       "\n",
       "    .dataframe tbody tr th {\n",
       "        vertical-align: top;\n",
       "    }\n",
       "\n",
       "    .dataframe thead th {\n",
       "        text-align: right;\n",
       "    }\n",
       "</style>\n",
       "<table border=\"1\" class=\"dataframe\">\n",
       "  <thead>\n",
       "    <tr style=\"text-align: right;\">\n",
       "      <th></th>\n",
       "      <th>new_Installed_Capacity_[MW]</th>\n",
       "    </tr>\n",
       "    <tr>\n",
       "      <th>Year</th>\n",
       "      <th></th>\n",
       "    </tr>\n",
       "  </thead>\n",
       "  <tbody>\n",
       "    <tr>\n",
       "      <th>2010</th>\n",
       "      <td>0.000000</td>\n",
       "    </tr>\n",
       "    <tr>\n",
       "      <th>2011</th>\n",
       "      <td>0.000000</td>\n",
       "    </tr>\n",
       "    <tr>\n",
       "      <th>2012</th>\n",
       "      <td>0.000000</td>\n",
       "    </tr>\n",
       "    <tr>\n",
       "      <th>2013</th>\n",
       "      <td>0.000000</td>\n",
       "    </tr>\n",
       "    <tr>\n",
       "      <th>2014</th>\n",
       "      <td>0.000000</td>\n",
       "    </tr>\n",
       "    <tr>\n",
       "      <th>2015</th>\n",
       "      <td>0.000000</td>\n",
       "    </tr>\n",
       "    <tr>\n",
       "      <th>2016</th>\n",
       "      <td>0.000000</td>\n",
       "    </tr>\n",
       "    <tr>\n",
       "      <th>2017</th>\n",
       "      <td>0.000000</td>\n",
       "    </tr>\n",
       "    <tr>\n",
       "      <th>2018</th>\n",
       "      <td>0.000000</td>\n",
       "    </tr>\n",
       "    <tr>\n",
       "      <th>2019</th>\n",
       "      <td>0.012500</td>\n",
       "    </tr>\n",
       "    <tr>\n",
       "      <th>2020</th>\n",
       "      <td>0.012500</td>\n",
       "    </tr>\n",
       "    <tr>\n",
       "      <th>2021</th>\n",
       "      <td>0.012500</td>\n",
       "    </tr>\n",
       "    <tr>\n",
       "      <th>2022</th>\n",
       "      <td>0.012500</td>\n",
       "    </tr>\n",
       "    <tr>\n",
       "      <th>2023</th>\n",
       "      <td>0.012500</td>\n",
       "    </tr>\n",
       "    <tr>\n",
       "      <th>2024</th>\n",
       "      <td>0.012500</td>\n",
       "    </tr>\n",
       "    <tr>\n",
       "      <th>2025</th>\n",
       "      <td>0.752478</td>\n",
       "    </tr>\n",
       "    <tr>\n",
       "      <th>2026</th>\n",
       "      <td>0.752478</td>\n",
       "    </tr>\n",
       "    <tr>\n",
       "      <th>2027</th>\n",
       "      <td>0.752478</td>\n",
       "    </tr>\n",
       "    <tr>\n",
       "      <th>2028</th>\n",
       "      <td>0.752478</td>\n",
       "    </tr>\n",
       "    <tr>\n",
       "      <th>2029</th>\n",
       "      <td>0.752478</td>\n",
       "    </tr>\n",
       "    <tr>\n",
       "      <th>2030</th>\n",
       "      <td>0.752478</td>\n",
       "    </tr>\n",
       "    <tr>\n",
       "      <th>2031</th>\n",
       "      <td>0.752478</td>\n",
       "    </tr>\n",
       "    <tr>\n",
       "      <th>2032</th>\n",
       "      <td>0.752478</td>\n",
       "    </tr>\n",
       "    <tr>\n",
       "      <th>2033</th>\n",
       "      <td>0.752478</td>\n",
       "    </tr>\n",
       "    <tr>\n",
       "      <th>2034</th>\n",
       "      <td>0.752478</td>\n",
       "    </tr>\n",
       "    <tr>\n",
       "      <th>2035</th>\n",
       "      <td>0.752478</td>\n",
       "    </tr>\n",
       "    <tr>\n",
       "      <th>2036</th>\n",
       "      <td>0.752478</td>\n",
       "    </tr>\n",
       "    <tr>\n",
       "      <th>2037</th>\n",
       "      <td>0.752478</td>\n",
       "    </tr>\n",
       "    <tr>\n",
       "      <th>2038</th>\n",
       "      <td>0.752478</td>\n",
       "    </tr>\n",
       "    <tr>\n",
       "      <th>2039</th>\n",
       "      <td>0.752478</td>\n",
       "    </tr>\n",
       "    <tr>\n",
       "      <th>2040</th>\n",
       "      <td>0.752478</td>\n",
       "    </tr>\n",
       "    <tr>\n",
       "      <th>2041</th>\n",
       "      <td>0.752478</td>\n",
       "    </tr>\n",
       "    <tr>\n",
       "      <th>2042</th>\n",
       "      <td>0.752478</td>\n",
       "    </tr>\n",
       "    <tr>\n",
       "      <th>2043</th>\n",
       "      <td>0.752478</td>\n",
       "    </tr>\n",
       "    <tr>\n",
       "      <th>2044</th>\n",
       "      <td>0.752478</td>\n",
       "    </tr>\n",
       "    <tr>\n",
       "      <th>2045</th>\n",
       "      <td>0.752478</td>\n",
       "    </tr>\n",
       "    <tr>\n",
       "      <th>2046</th>\n",
       "      <td>0.752478</td>\n",
       "    </tr>\n",
       "    <tr>\n",
       "      <th>2047</th>\n",
       "      <td>0.752478</td>\n",
       "    </tr>\n",
       "    <tr>\n",
       "      <th>2048</th>\n",
       "      <td>0.752478</td>\n",
       "    </tr>\n",
       "    <tr>\n",
       "      <th>2049</th>\n",
       "      <td>1.479955</td>\n",
       "    </tr>\n",
       "  </tbody>\n",
       "</table>\n",
       "</div>"
      ],
      "text/plain": [
       "      new_Installed_Capacity_[MW]\n",
       "Year                             \n",
       "2010                     0.000000\n",
       "2011                     0.000000\n",
       "2012                     0.000000\n",
       "2013                     0.000000\n",
       "2014                     0.000000\n",
       "2015                     0.000000\n",
       "2016                     0.000000\n",
       "2017                     0.000000\n",
       "2018                     0.000000\n",
       "2019                     0.012500\n",
       "2020                     0.012500\n",
       "2021                     0.012500\n",
       "2022                     0.012500\n",
       "2023                     0.012500\n",
       "2024                     0.012500\n",
       "2025                     0.752478\n",
       "2026                     0.752478\n",
       "2027                     0.752478\n",
       "2028                     0.752478\n",
       "2029                     0.752478\n",
       "2030                     0.752478\n",
       "2031                     0.752478\n",
       "2032                     0.752478\n",
       "2033                     0.752478\n",
       "2034                     0.752478\n",
       "2035                     0.752478\n",
       "2036                     0.752478\n",
       "2037                     0.752478\n",
       "2038                     0.752478\n",
       "2039                     0.752478\n",
       "2040                     0.752478\n",
       "2041                     0.752478\n",
       "2042                     0.752478\n",
       "2043                     0.752478\n",
       "2044                     0.752478\n",
       "2045                     0.752478\n",
       "2046                     0.752478\n",
       "2047                     0.752478\n",
       "2048                     0.752478\n",
       "2049                     1.479955"
      ]
     },
     "execution_count": 132,
     "metadata": {},
     "output_type": "execute_result"
    }
   ],
   "source": []
  },
  {
   "cell_type": "code",
   "execution_count": null,
   "metadata": {},
   "outputs": [],
   "source": [
    "for ii in range (len(rawdf.unstack(level=1))):\n",
    "    PCA = rawdf.unstack(level=1).iloc[ii].name[1]\n",
    "    SCEN = rawdf.unstack(level=1).iloc[ii].name[0]\n",
    "    SCEN=SCEN.replace('+', '_')\n",
    "    filetitle = SCEN+'_'+PCA +'.csv'\n",
    "    filetitle = os.path.join(testfolder, filetitle)\n",
    "    A = rawdf.unstack(level=1).iloc[ii]\n",
    "    A = A.droplevel(level=0)\n",
    "    A.name = 'new_Installed_Capacity_[MW]'\n",
    "    A = pd.DataFrame(A)\n",
    "    A.index=pd.PeriodIndex(A.index, freq='A')\n",
    "    A = A.resample('Y').asfreq()\n",
    "    A = A['new_Installed_Capacity_[MW]'].fillna(0).groupby(A['new_Installed_Capacity_[MW]'].notna().cumsum()).transform('mean')    \n",
    "    A = pd.DataFrame(A)\n",
    "    A['new_Installed_Capacity_[MW]'] = A['new_Installed_Capacity_[MW]'] * 1000   # ReEDS file is in GW.\n",
    "    # Add other columns\n",
    "    A = pd.concat([A, baseline.reindex(A.index)], axis=1)\n",
    "\n",
    "    header = \"year,new_Installed_Capacity_[MW],mod_eff,mod_reliability_t50,mod_reliability_t90,\"\\\n",
    "    \"mod_degradation,mod_lifetime,mod_MFG_eff,mod_EOL_collection_eff,mod_EOL_collected_recycled,\"\\\n",
    "    \"mod_Repowering,mod_Repairing\\n\"\\\n",
    "    \"year,MW,%,years,years,%,years,%,%,%,%,%\\n\"\n",
    "\n",
    "    with open(filetitle, 'w', newline='') as ict:\n",
    "    # Write the header lines, including the index variable for\n",
    "    # the last one if you're letting Pandas produce that for you.\n",
    "    # (see above).\n",
    "        for line in header:\n",
    "            ict.write(line)\n",
    "\n",
    "        #    savedata.to_csv(ict, index=False)\n",
    "        A.to_csv(ict, header=False)"
   ]
  },
  {
   "cell_type": "code",
   "execution_count": null,
   "metadata": {},
   "outputs": [],
   "source": [
    "# EXAMPLE FOR JUST ONE \n",
    "ii = 0\n",
    "PCA = rawdf.unstack(level=1).iloc[ii].name[1]\n",
    "SCEN = rawdf.unstack(level=1).iloc[ii].name[0]\n",
    "SCEN=SCEN.replace('+', '_')\n",
    "filetitle = SCEN+'_'+PCA +'.csv'\n",
    "filetitle = os.path.join(testfolder, filetitle)\n",
    "A = rawdf.unstack(level=1).iloc[ii]        \n",
    "A = A.droplevel(level=0)\n",
    "A.name = 'new_Installed_Capacity_[MW]'\n",
    "A = pd.DataFrame(A)\n",
    "A['new_Installed_Capacity_[MW]'] = A['new_Installed_Capacity_[MW]'] * 1000\n",
    "A.index=pd.PeriodIndex(A.index, freq='A')\n",
    "B = A.resample('Y').asfreq()\n",
    "B = B['new_Installed_Capacity_[MW]'].fillna(0).groupby(B['new_Installed_Capacity_[MW]'].notna().cumsum()).transform('mean')\n",
    "B = pd.DataFrame(B)\n",
    "B.to_csv(filetitle)\n",
    "\n",
    "# Add other columns\n",
    "B = pd.concat([B, baseline.reindex(B.index)], axis=1)\n",
    "\n",
    "\n",
    "header = \"year,new_Installed_Capacity_[MW],mod_eff,mod_reliability_t50,mod_reliability_t90,\"\\\n",
    "\"mod_degradation,mod_lifetime,mod_MFG_eff,mod_EOL_collection_eff,mod_EOL_collected_recycled,\"\\\n",
    "\"mod_Repowering,mod_Repairing\\n\"\\\n",
    "\"year,MW,%,years,years,%,years,%,%,%,%,%\\n\"\n",
    "\n",
    "with open(filetitle, 'w', newline='') as ict:\n",
    "# Write the header lines, including the index variable for\n",
    "# the last one if you're letting Pandas produce that for you.\n",
    "# (see above).\n",
    "    for line in header:\n",
    "        ict.write(line)\n",
    "\n",
    "    #    savedata.to_csv(ict, index=False)\n",
    "    B.to_csv(ict, header=False)\n"
   ]
  },
  {
   "cell_type": "markdown",
   "metadata": {},
   "source": [
    "### Reading GIS inputs"
   ]
  },
  {
   "cell_type": "code",
   "execution_count": null,
   "metadata": {},
   "outputs": [],
   "source": [
    "GISfile = str(Path().resolve().parent.parent.parent / 'gis_centroid_n.xlsx')\n",
    "GIS = pd.read_excel(GISfile)\n",
    "GIS = GIS.set_index('id')"
   ]
  },
  {
   "cell_type": "code",
   "execution_count": null,
   "metadata": {},
   "outputs": [],
   "source": [
    "GIS.head()"
   ]
  },
  {
   "cell_type": "code",
   "execution_count": null,
   "metadata": {},
   "outputs": [],
   "source": [
    "GIS.loc['p1'].long"
   ]
  },
  {
   "cell_type": "markdown",
   "metadata": {},
   "source": [
    "### Create Scenarios"
   ]
  },
  {
   "cell_type": "code",
   "execution_count": null,
   "metadata": {},
   "outputs": [],
   "source": [
    "simulationname = scenarios\n",
    "simulationname = [w.replace('+', '_') for w in simulationname]\n",
    "PCA = PCAs[0]\n",
    "simulationname"
   ]
  },
  {
   "cell_type": "code",
   "execution_count": null,
   "metadata": {},
   "outputs": [],
   "source": [
    "SFscenarios = [scenarios[0], scenarios[4], scenarios[8]]"
   ]
  },
  {
   "cell_type": "code",
   "execution_count": null,
   "metadata": {},
   "outputs": [],
   "source": [
    "SFscenarios"
   ]
  },
  {
   "cell_type": "code",
   "execution_count": null,
   "metadata": {},
   "outputs": [],
   "source": [
    "#for ii in range (0, 1): #len(scenarios):\n",
    "r1 = PV_ICE.Simulation(name=SFscenarios[0], path=testfolder)\n",
    "for jj in range (0, len(PCAs)): \n",
    "    filetitle = SFscenarios[0]+'_'+PCAs[jj]+'.csv'\n",
    "    filetitle = os.path.join(testfolder, filetitle)        \n",
    "    r1.createScenario(name=PCAs[jj], file=filetitle)\n",
    "    r1.scenario[PCAs[jj]].addMaterial('glass', file=r'..\\baselines\\baseline_material_glass_Reeds.csv')\n",
    "    r1.scenario[PCAs[jj]].addMaterial('silicon', file=r'..\\baselines\\baseline_material_silicon_Reeds.csv')\n",
    "    r1.scenario[PCAs[jj]].addMaterial('silver', file=r'..\\baselines\\baseline_material_silver_Reeds.csv')\n",
    "    r1.scenario[PCAs[jj]].latitude = GIS.loc[PCAs[jj]].lat\n",
    "    r1.scenario[PCAs[jj]].longitude = GIS.loc[PCAs[jj]].long\n",
    "\n",
    "r2 = PV_ICE.Simulation(name=SFscenarios[1], path=testfolder)\n",
    "for jj in range (0, len(PCAs)): \n",
    "    filetitle = SFscenarios[1]+'_'+PCAs[jj]+'.csv'\n",
    "    filetitle = os.path.join(testfolder, filetitle)        \n",
    "    r2.createScenario(name=PCAs[jj], file=filetitle)\n",
    "    r2.scenario[PCAs[jj]].addMaterial('glass', file=r'..\\baselines\\baseline_material_glass_Reeds.csv')\n",
    "    r2.scenario[PCAs[jj]].addMaterial('silicon', file=r'..\\baselines\\baseline_material_silicon_Reeds.csv')\n",
    "    r2.scenario[PCAs[jj]].addMaterial('silver', file=r'..\\baselines\\baseline_material_silver_Reeds.csv')\n",
    "    r2.scenario[PCAs[jj]].latitude = GIS.loc[PCAs[jj]].lat\n",
    "    r2.scenario[PCAs[jj]].longitude = GIS.loc[PCAs[jj]].long\n",
    "\n",
    "r3 = PV_ICE.Simulation(name=SFscenarios[2], path=testfolder)\n",
    "for jj in range (0, len(PCAs)): \n",
    "    filetitle = simulationname[8]+'_'+PCAs[jj]+'.csv'\n",
    "    filetitle = os.path.join(testfolder, filetitle)        \n",
    "    r3.createScenario(name=PCAs[jj], file=filetitle)\n",
    "    r3.scenario[PCAs[jj]].addMaterial('glass', file=r'..\\baselines\\baseline_material_glass_Reeds.csv')\n",
    "    r3.scenario[PCAs[jj]].addMaterial('silicon', file=r'..\\baselines\\baseline_material_silicon_Reeds.csv')\n",
    "    r3.scenario[PCAs[jj]].addMaterial('silver', file=r'..\\baselines\\baseline_material_silver_Reeds.csv')\n",
    "    r3.scenario[PCAs[jj]].latitude = GIS.loc[PCAs[jj]].lat\n",
    "    r3.scenario[PCAs[jj]].longitude = GIS.loc[PCAs[jj]].long\n"
   ]
  },
  {
   "cell_type": "code",
   "execution_count": null,
   "metadata": {},
   "outputs": [],
   "source": [
    "r1.calculateMassFlow()"
   ]
  },
  {
   "cell_type": "code",
   "execution_count": null,
   "metadata": {},
   "outputs": [],
   "source": [
    "r2.calculateMassFlow()\n",
    "r3.calculateMassFlow()"
   ]
  },
  {
   "cell_type": "code",
   "execution_count": null,
   "metadata": {},
   "outputs": [],
   "source": [
    "r1.scenario.keys()"
   ]
  },
  {
   "cell_type": "code",
   "execution_count": null,
   "metadata": {},
   "outputs": [],
   "source": [
    "r1.scenario[PCAs[jj]].data.keys()"
   ]
  },
  {
   "cell_type": "code",
   "execution_count": null,
   "metadata": {},
   "outputs": [],
   "source": [
    "r1.scenario[PCAs[jj]].material['glass'].materialdata.keys()"
   ]
  },
  {
   "cell_type": "code",
   "execution_count": null,
   "metadata": {},
   "outputs": [],
   "source": [
    "r1.scenario['p1'].data.head()"
   ]
  },
  {
   "cell_type": "code",
   "execution_count": null,
   "metadata": {},
   "outputs": [],
   "source": [
    "r1.scenario['p107'].data['Cumulative_Area_disposedby_Failure'].sum()"
   ]
  },
  {
   "cell_type": "code",
   "execution_count": null,
   "metadata": {},
   "outputs": [],
   "source": [
    "#new_Installed_Capacity_[MW]\n",
    "\n",
    "keyword='new_Installed_Capacity_[MW]'\n",
    "\n",
    "foo = r1.scenario[PCAs[12]].data[keyword].copy()\n",
    "plt.figure()\n",
    "plt.plot(r1.scenario[PCAs[0]].data['year'], foo, label=PCAs[12])\n",
    "plt.legend()\n",
    "print(max(foo))\n",
    "print(foo)\n",
    "\n"
   ]
  },
  {
   "cell_type": "code",
   "execution_count": null,
   "metadata": {},
   "outputs": [],
   "source": [
    "for jj in range (1, len(PCAs)): \n",
    "    foo += r1.scenario[PCAs[jj]].data[keyword]\n",
    "     \n",
    "#UScumsumlandfill_glass = np.cumsum(USlandfill_glass)\n",
    "fig = plt.figure()\n",
    "ax = fig.add_subplot(2, 1, 1)\n",
    "ax.plot(r1.scenario[PCAs[0]].data['year'], foo, label='US')\n",
    "#ax.set_yscale('log')\n",
    "print(max(foo))"
   ]
  },
  {
   "cell_type": "code",
   "execution_count": null,
   "metadata": {},
   "outputs": [],
   "source": [
    "r1.scenario['p105'].data['Cumulative_Area_disposedby_Failure'].sum()"
   ]
  },
  {
   "cell_type": "code",
   "execution_count": null,
   "metadata": {},
   "outputs": [],
   "source": [
    "r1.plotScenariosComparison(keyword='Cumulative_Area_disposedby_Failure')"
   ]
  },
  {
   "cell_type": "code",
   "execution_count": null,
   "metadata": {},
   "outputs": [],
   "source": [
    "r1.plotMaterialComparisonAcrossScenarios(material='silicon', keyword='mat_Total_Landfilled')"
   ]
  },
  {
   "cell_type": "code",
   "execution_count": null,
   "metadata": {},
   "outputs": [],
   "source": [
    "r1.plotMaterialComparisonAcrossScenarios(material='silver', keyword='mat_Total_Landfilled')"
   ]
  },
  {
   "cell_type": "code",
   "execution_count": null,
   "metadata": {},
   "outputs": [],
   "source": [
    "r1.plotMaterialComparisonAcrossScenarios(material='glass', keyword='mat_Total_Landfilled')"
   ]
  },
  {
   "cell_type": "code",
   "execution_count": null,
   "metadata": {},
   "outputs": [],
   "source": [
    "# Plot Cumulative Material Waste"
   ]
  },
  {
   "cell_type": "code",
   "execution_count": null,
   "metadata": {},
   "outputs": [],
   "source": [
    "if keyword is None:\n",
    "    scens = list(self.scenario.keys())[0]\n",
    "    mats = list(self.scenario[scens].material.keys())[0]\n",
    "    print(\"Choose one of the keywords: \",  list(self.scenario[scens].material[mats].materialdata.keys())) \n",
    "    return\n",
    "\n",
    "if material is None:\n",
    "    scens = list(self.scenario.keys())[0]\n",
    "    mats = list(self.scenario[scens].material.keys())\n",
    "    print(\"Choose one of the Materials: \", mats) \n",
    "    return\n",
    "\n",
    "yunits = _unitReferences(keyword)\n",
    "\n",
    "plt.figure()\n",
    "\n",
    "for scen in self.scenario:\n",
    "    plt.plot(self.scenario[scen].data['year'], self.scenario[scen].material[material].materialdata[keyword], label=scen)\n",
    "    plt.legend()\n",
    "\n",
    "plt.xlabel('Year')\n",
    "plt.title((material + ' ' + keyword.replace('_', \" \")))\n",
    "plt.ylabel(yunits)    "
   ]
  },
  {
   "cell_type": "code",
   "execution_count": null,
   "metadata": {},
   "outputs": [],
   "source": [
    "material1='glass'\n",
    "material2='silicon'\n",
    "material3='silver'\n",
    "keyword='mat_Total_Landfilled'\n",
    "\n",
    "USlandfill_glass = r1.scenario[PCAs[0]].material[material1].materialdata[keyword]\n",
    "USlandfill_silicon = r1.scenario[PCAs[0]].material[material2].materialdata[keyword]\n",
    "USlandfill_silver = r1.scenario[PCAs[0]].material[material3].materialdata[keyword]\n",
    "\n",
    "for jj in range (1, len(PCAs)): \n",
    "    USlandfill_glass += r1.scenario[PCAs[jj]].material[material1].materialdata[keyword] \n",
    "    USlandfill_silicon += r1.scenario[PCAs[jj]].material[material2].materialdata[keyword] \n",
    "    USlandfill_silver += r1.scenario[PCAs[jj]].material[material3].materialdata[keyword]\n",
    "    \n",
    "UScumsumlandfill_glass = np.cumsum(USlandfill_glass)\n",
    "UScumsumlandfill_silicon = np.cumsum(USlandfill_silicon)\n",
    "UScumsumlandfill_silver = np.cumsum(USlandfill_silver)"
   ]
  },
  {
   "cell_type": "code",
   "execution_count": null,
   "metadata": {},
   "outputs": [],
   "source": [
    "plt.plot(r1.scenario[PCAs[0]].data['year'], UScumsumlandfill_glass, label='Glass')\n",
    "plt.plot(r1.scenario[PCAs[0]].data['year'], UScumsumlandfill_silicon, label='Silicon')\n",
    "plt.plot(r1.scenario[PCAs[0]].data['year'], UScumsumlandfill_silver, label='Silver')"
   ]
  },
  {
   "cell_type": "code",
   "execution_count": null,
   "metadata": {},
   "outputs": [],
   "source": []
  },
  {
   "cell_type": "markdown",
   "metadata": {},
   "source": [
    "# GEOPANDAS"
   ]
  },
  {
   "cell_type": "code",
   "execution_count": null,
   "metadata": {},
   "outputs": [],
   "source": [
    "latitude_all =[]\n",
    "longitude_all = []\n",
    "cumulativewaste2050 = []\n",
    "for scen in r1.scenario.keys():\n",
    "    latitude_all.append(r1.scenario[scen].latitude)\n",
    "    longitude_all.append(r1.scenario[scen].longitude)\n",
    "    cumulativewaste2050.append(r1.scenario[scen].material['glass'].materialdata['mat_Total_Landfilled'].sum())"
   ]
  },
  {
   "cell_type": "code",
   "execution_count": null,
   "metadata": {},
   "outputs": [],
   "source": [
    "import pandas as pd\n",
    "import matplotlib.pyplot as plt\n",
    "import descartes\n",
    "import geopandas as gpd\n",
    "from shapely.geometry import Point, Polygon\n",
    "\n",
    "street_map = gpd.read_file(r'C:\\Users\\sayala\\Desktop\\geopandas\\cb_2018_us_nation_20m\\cb_2018_us_nation_20m.shp')\n",
    "\n",
    "# Show the map only\n",
    "#fig, ax = plt.subplots(figsize=(10,15))\n",
    "#street_map.plot(ax=ax)"
   ]
  },
  {
   "cell_type": "code",
   "execution_count": null,
   "metadata": {},
   "outputs": [],
   "source": [
    "frame = { 'Latitude': latitude_all, 'Longitude': longitude_all, 'CumulativeWaste2050': cumulativewaste2050}   \n",
    "df = pd.DataFrame(frame) "
   ]
  },
  {
   "cell_type": "code",
   "execution_count": null,
   "metadata": {},
   "outputs": [],
   "source": [
    "df.head()"
   ]
  },
  {
   "cell_type": "code",
   "execution_count": null,
   "metadata": {},
   "outputs": [],
   "source": [
    "geometry = [Point(xy) for xy in zip(df['Longitude'], df['Latitude'])]\n",
    "geometry[:3]"
   ]
  },
  {
   "cell_type": "code",
   "execution_count": null,
   "metadata": {},
   "outputs": [],
   "source": [
    "crs = {'init':'epsg:4326'}"
   ]
  },
  {
   "cell_type": "code",
   "execution_count": null,
   "metadata": {},
   "outputs": [],
   "source": [
    "geo_df = gpd.GeoDataFrame(df, # specify our data\n",
    "                         crs = crs, # specify our coordinate reference system\n",
    "                         geometry = geometry) # specify the geometry list we created\n",
    "geo_df.head()"
   ]
  },
  {
   "cell_type": "code",
   "execution_count": null,
   "metadata": {},
   "outputs": [],
   "source": [
    "fig, ax = plt.subplots(figsize = (15,15))\n",
    "street_map.plot(ax = ax, alpha = 0.4, color = \"grey\")\n",
    "geo_df[geo_df['CumulativeWaste2050'] >= 1.918125e+09].plot(ax=ax, markersize = 20, color= \"blue\", marker = \"o\", label = \"Bigger Than\")\n",
    "geo_df[geo_df['CumulativeWaste2050'] < 1.918125e+09].plot(ax=ax, markersize = 20, color= \"red\", marker = \"o\", label = \"Less Than\")\n",
    "plt.xlim([-130, -60])\n",
    "plt.ylim([20, 50])\n",
    "plt.legend(prop={'size':15})"
   ]
  },
  {
   "cell_type": "code",
   "execution_count": null,
   "metadata": {},
   "outputs": [],
   "source": [
    "import random\n",
    "import pandas as pd\n",
    "import matplotlib.pyplot as plt\n",
    "import descartes\n",
    "import geopandas as gpd\n",
    "from shapely.geometry import Point, Polygon\n",
    "\n",
    "latitude = random.sample(range(25, 45), 10) \n",
    "longitude = random.sample(range(-125, -65), 10) \n",
    "weight = random.sample(range(0, 500), 10) \n",
    "\n",
    "frame = { 'Latitude': latitude, 'Longitude': longitude, 'Weight': weight}   \n",
    "df = pd.DataFrame(frame) \n",
    "\n",
    "geometry = [Point(xy) for xy in zip(df['Longitude'], df['Latitude'])]\n",
    "crs = {'init':'epsg:4326'}\n",
    "geo_df = gpd.GeoDataFrame(df, # specify our data\n",
    "                         crs = crs, # specify our coordinate reference system\n",
    "                         geometry = geometry) # specify the geometry list we created\n",
    "\n",
    "fig, ax = plt.subplots(figsize = (15,15))\n",
    "street_map.plot(ax = ax, alpha = 0.4, color = \"grey\")\n",
    "geo_df[geo_df['Weight'] >=250].plot(ax=ax, markersize = 20, color= \"blue\", marker = \"o\", label = \"Bigger Than\")\n",
    "geo_df[geo_df['Weight'] < 250].plot(ax=ax, markersize = 20, color= \"red\", marker = \"o\", label = \"Less Than\")\n",
    "plt.xlim([-130, -60])\n",
    "plt.ylim([20, 50])\n",
    "plt.legend(prop={'size':15})"
   ]
  },
  {
   "cell_type": "code",
   "execution_count": null,
   "metadata": {},
   "outputs": [],
   "source": [
    "import geoplot\n"
   ]
  },
  {
   "cell_type": "code",
   "execution_count": null,
   "metadata": {},
   "outputs": [],
   "source": [
    "ax = street_map.kdeplot(\n",
    "    geo_df, #clip=boroughs.geometry,\n",
    "    shade=True, cmap='Reds',\n",
    "    projection=geoplot.crs.AlbersEqualArea())\n",
    "geoplot.polyplot(boroughs, ax=ax, zorder=1)"
   ]
  },
  {
   "cell_type": "code",
   "execution_count": null,
   "metadata": {},
   "outputs": [],
   "source": []
  },
  {
   "cell_type": "code",
   "execution_count": null,
   "metadata": {},
   "outputs": [],
   "source": [
    "import scipy.stats\n",
    "import seaborn.palettes\n",
    "import seaborn.utils\n"
   ]
  },
  {
   "cell_type": "code",
   "execution_count": null,
   "metadata": {},
   "outputs": [],
   "source": [
    "axis = [-130, 48.1667, -70, 100.1667]"
   ]
  },
  {
   "cell_type": "code",
   "execution_count": null,
   "metadata": {},
   "outputs": [],
   "source": [
    "latlng_bounds = area.total_bounds\n",
    "area = area.to_crs(epsg=3857)\n",
    "axis = area.total_bounds\n",
    "\n",
    "# Create the map stretching over the requested area\n",
    "ax = area.plot(alpha=0)"
   ]
  },
  {
   "cell_type": "code",
   "execution_count": null,
   "metadata": {},
   "outputs": [],
   "source": [
    "# Calculate the KDE\n",
    "data = np.c_[df.Longitude, df.Latitude]\n",
    "kde = scipy.stats.gaussian_kde(data.T, bw_method=\"scott\", weights=df.CumulativeWaste2050)\n",
    "data_std = data.std(axis=0, ddof=1)\n",
    "bw_x = getattr(kde, \"scotts_factor\")() * data_std[0]\n",
    "bw_y = getattr(kde, \"scotts_factor\")() * data_std[1]\n",
    "grid_x = grid_y = 100\n",
    "x_support = seaborn.utils._kde_support(data[:, 0], bw_x, grid_x, 3, (axis[0], axis[2]))\n",
    "y_support = seaborn.utils._kde_support(data[:, 1], bw_y, grid_y, 3, (axis[1], axis[3]))\n",
    "xx, yy = np.meshgrid(x_support, y_support)\n",
    "levels = kde([xx.ravel(), yy.ravel()]).reshape(xx.shape)"
   ]
  },
  {
   "cell_type": "code",
   "execution_count": null,
   "metadata": {},
   "outputs": [],
   "source": [
    "cset = ax.contourf(xx, yy, levels,\n",
    "    20, # n_levels\n",
    "\n",
    "    cmap=seaborn.palettes.blend_palette(('#ffffff10', '#ff0000af'), 6, as_cmap=True),\n",
    "    antialiased=True,       # avoids lines on the contours to some extent\n",
    ")"
   ]
  },
  {
   "cell_type": "code",
   "execution_count": null,
   "metadata": {},
   "outputs": [],
   "source": []
  },
  {
   "cell_type": "code",
   "execution_count": null,
   "metadata": {},
   "outputs": [],
   "source": [
    "def add_basemap(ax, latlng_bounds, axis, url='https://a.basemaps.cartocdn.com/light_all/tileZ/tileX/tileY@2x.png'):\n",
    "    prev_ax = ax.axis()\n",
    "    # TODO: Zoom should surely take output pixel request size into account...\n",
    "    zoom = ctx.tile._calculate_zoom(*latlng_bounds)\n",
    "    while ctx.tile.howmany(*latlng_bounds, zoom, ll=True) > max_tiles:      # dont ever try to download loads of tiles\n",
    "        zoom = zoom - 1\n",
    "    print(\"downloading %d tiles with zoom level %d\" % (ctx.tile.howmany(*latlng_bounds, zoom, ll=True), zoom))\n",
    "    basemap, extent = ctx.bounds2img(*axis, zoom=zoom, url=url)\n",
    "    ax.imshow(basemap, extent=extent, interpolation='bilinear')\n",
    "    ax.axis(prev_ax)        # restore axis after changing the background\n",
    " \n",
    "add_basemap(ax, latlng_bounds, axis)"
   ]
  },
  {
   "cell_type": "code",
   "execution_count": null,
   "metadata": {},
   "outputs": [],
   "source": [
    "import geopandas as gpd\n",
    "\n",
    "\n",
    "import cartopy.crs as ccrs\n",
    "import matplotlib.pyplot as plt\n",
    "import numpy as np\n",
    "\n",
    "def make_plot(projection_name, projection_crs, extent, heat_data):\n",
    "    \"\"\"\n",
    "    ?\n",
    "    \"\"\"\n",
    "    fig = plt.figure()\n",
    "    rect = 0.1, 0.1, 0.8, 0.8\n",
    "    ax = fig.add_axes(rect, projection=projection_crs)\n",
    "\n",
    "    # Set display limits to include a set region of latitude * longitude.\n",
    "    # (Note: Cartopy-specific).\n",
    "    ax.set_extent(extent, crs=projection_crs)\n",
    "\n",
    "    # Add coastlines and meridians/parallels (Cartopy-specific).\n",
    "    ax.coastlines(linewidth=0.2, color='black')\n",
    "    ax.gridlines(crs=projection_crs, linestyle='-')\n",
    "\n",
    "    lat = np.linspace(extent[0],extent[1],heat_data.shape[0])\n",
    "    lon = np.linspace(extent[2],extent[3],heat_data.shape[1])\n",
    "    Lat,Lon = np.meshgrid(lat,lon)\n",
    "    ax.pcolormesh(Lat,Lon,np.transpose(heat_data))\n",
    "    plt.savefig(\"Test_fig.pdf\", bbox_inches='tight')\n",
    "\n",
    "\n",
    "def main():\n",
    "    #extent = (-65.0, -62, 44, 45.5)\n",
    "    extent = (-90, -40, 30, 60)\n",
    "    # Define some test points with latitude and longitude coordinates.\n",
    "    #city_data = [('Halifax, NS', 44.67, -63.61, 'black'),\n",
    "    #             ('Neighbour', 45, -63, 'blue'),\n",
    "    #             ('Other_Place', 44.1, -64, 'red')]\n",
    "    heat_data = np.random.normal(0.0,0.2,size=(100,150))\n",
    "\n",
    "    # Demonstrate with two different display projections.\n",
    "    # Define a Cartopy 'ordinary' lat-lon coordinate reference system.\n",
    "    crs_latlon = ccrs.PlateCarree()\n",
    "    make_plot('Equidistant Cylindrical', crs_latlon, extent, heat_data)\n",
    "    #crs_ae = ccrs.LambertCylindrical()\n",
    "    #make_plot('Lambert Cylindrical', crs_ae, extent, heat_data)\n",
    "\n",
    "if __name__ == '__main__':\n",
    "    main()"
   ]
  }
 ],
 "metadata": {
  "kernelspec": {
   "display_name": "Python 3",
   "language": "python",
   "name": "python3"
  },
  "language_info": {
   "codemirror_mode": {
    "name": "ipython",
    "version": 3
   },
   "file_extension": ".py",
   "mimetype": "text/x-python",
   "name": "python",
   "nbconvert_exporter": "python",
   "pygments_lexer": "ipython3",
   "version": "3.7.3"
  }
 },
 "nbformat": 4,
 "nbformat_minor": 4
}
