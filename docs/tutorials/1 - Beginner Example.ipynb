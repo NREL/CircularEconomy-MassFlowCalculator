{
 "cells": [
  {
   "cell_type": "markdown",
   "metadata": {},
   "source": [
    "# 1 - Beginner Example\n",
    "\n",
    "\n",
    "This journal shows how to load the baselines and run the dynamic mas flow analysis, plotting the results"
   ]
  },
  {
   "cell_type": "markdown",
   "metadata": {},
   "source": [
    "### Step 1: import the CEMFC functions"
   ]
  },
  {
   "cell_type": "code",
   "execution_count": 1,
   "metadata": {},
   "outputs": [],
   "source": [
    "import CEMFC\n"
   ]
  },
  {
   "cell_type": "markdown",
   "metadata": {},
   "source": [
    "Here I am importing some plotting functions from matplotlib, and setting some of my preferences for displaying the plots, and other functions that we will need."
   ]
  },
  {
   "cell_type": "code",
   "execution_count": 2,
   "metadata": {},
   "outputs": [],
   "source": [
    "import os\n",
    "from pathlib import Path\n",
    "import pandas as pd\n",
    "\n",
    "import matplotlib.pyplot as plt\n",
    "import matplotlib\n",
    "from matplotlib.offsetbox import AnchoredOffsetbox, TextArea, HPacker, VPacker\n",
    "\n",
    "font = {'family' : 'arial',\n",
    "        'weight' : 'bold',\n",
    "        'size'   : 22}\n",
    "\n",
    "matplotlib.rc('font', **font)\n"
   ]
  },
  {
   "cell_type": "markdown",
   "metadata": {},
   "source": [
    "### Step 2: Create your Scenario Object\n",
    "\n",
    "This will hold all the data for the modules and materials, metdata, etc. for your scenario. Other scenarios for  comparisons can be created afterwards based on this first scenario, so let's define it first."
   ]
  },
  {
   "cell_type": "code",
   "execution_count": 4,
   "metadata": {},
   "outputs": [],
   "source": [
    "\n",
    "real=CEMFC.ScenarioObj()\n"
   ]
  },
  {
   "cell_type": "code",
   "execution_count": 6,
   "metadata": {},
   "outputs": [
    {
     "name": "stdout",
     "output_type": "stream",
     "text": [
      "Your simulation will be stored in C:\\Users\\sayala\\Documents\\GitHub\\CircularEconomy-MassFlowCalculator\\CEMFC\\baselines\n"
     ]
    }
   ],
   "source": [
    "baselinefolder = Path().resolve().parent.parent / 'CEMFC' / 'baselines'\n",
    "\n",
    "# Another option using relative address; for some operative systems you might need '/' instead of '\\'\n",
    "# testfolder = os.path.abspath(r'..\\..\\bifacial_radiance\\TEMP')  \n",
    "\n",
    "print (\"Your simulation will be stored in %s\" % baselinefolder)\n",
    "\n",
    "file = os.path.join(baselinefolder,'baseline_modules_US.csv')\n",
    "\n"
   ]
  },
  {
   "cell_type": "markdown",
   "metadata": {},
   "source": [
    "##  Step 3: Set the baseline for the Modules"
   ]
  },
  {
   "cell_type": "code",
   "execution_count": null,
   "metadata": {},
   "outputs": [],
   "source": [
    "real.set_baseline_module(file)"
   ]
  },
  {
   "cell_type": "markdown",
   "metadata": {},
   "source": [
    "#### Print some of the baseline values"
   ]
  },
  {
   "cell_type": "code",
   "execution_count": 9,
   "metadata": {},
   "outputs": [
    {
     "data": {
      "text/plain": [
       "[<matplotlib.lines.Line2D at 0x23cf626b048>]"
      ]
     },
     "execution_count": 9,
     "metadata": {},
     "output_type": "execute_result"
    },
    {
     "data": {
      "image/png": "[encoded data removed]",
      "text/plain": [
       "<Figure size 432x288 with 1 Axes>"
      ]
     },
     "metadata": {
      "needs_background": "light"
     },
     "output_type": "display_data"
    }
   ],
   "source": [
    "plt.plot(real.module['new_Installed_Capacity_[MW]'])"
   ]
  },
  {
   "cell_type": "code",
   "execution_count": null,
   "metadata": {},
   "outputs": [],
   "source": [
    "\n",
    "\n",
    "plt.plot(real.module['new_Installed_Capacity_[MW]'])"
   ]
  },
  {
   "cell_type": "markdown",
   "metadata": {},
   "source": [
    "#### Explore the contents of your scenario object:\n"
   ]
  },
  {
   "cell_type": "code",
   "execution_count": 10,
   "metadata": {},
   "outputs": [
    {
     "data": {
      "text/plain": [
       "{'metdata': {'module': {'\\ufeffyear': 'year',\n",
       "   'new_Installed_Capacity_[MW]': 'MW',\n",
       "   'mod_eff': '%',\n",
       "   'mod_reliability_t50': 'years',\n",
       "   'mod_reliability_t90': 'years',\n",
       "   'mod_degradation': '%',\n",
       "   'mod_MFG_eff': '%',\n",
       "   'mod_EOL_collection_eff': '%',\n",
       "   'mod_EOL_collected_recycled': '%',\n",
       "   'mod_Repowering': '%',\n",
       "   'mod_Repairing': '%'}},\n",
       " 'data': {},\n",
       " 'path': '',\n",
       " 'name': '',\n",
       " 'materialfiles': [],\n",
       " 'nowstr': '2020-08-15_95326',\n",
       " 'baselinefile': 'C:\\\\Users\\\\sayala\\\\Documents\\\\GitHub\\\\CircularEconomy-MassFlowCalculator\\\\CEMFC\\\\baselines\\\\baseline_modules_US.csv',\n",
       " 'module':     ﻿year  new_Installed_Capacity_[MW]  mod_eff  mod_reliability_t50  \\\n",
       " 0    1995                     9.000000     9.50                   15   \n",
       " 1    1996                     9.700000    10.10                   15   \n",
       " 2    1997                    11.700000    10.70                   16   \n",
       " 3    1998                    11.900000    11.20                   16   \n",
       " 4    1999                    17.200000    11.80                   17   \n",
       " 5    2000                    21.500000    12.40                   17   \n",
       " 6    2001                    29.000000    13.00                   18   \n",
       " 7    2002                    44.400000    13.60                   18   \n",
       " 8    2003                    63.000000    14.10                   18   \n",
       " 9    2004                   100.800000    14.70                   19   \n",
       " 10   2005                   103.000000    15.30                   19   \n",
       " 11   2006                   145.000000    15.90                   20   \n",
       " 12   2007                   206.500000    16.50                   20   \n",
       " 13   2008                   338.000000    17.45                   21   \n",
       " 14   2009                   473.100000    17.92                   21   \n",
       " 15   2010                   848.587961    18.04                   22   \n",
       " 16   2011                  1920.510204    18.45                   22   \n",
       " 17   2012                  3373.426607    19.20                   22   \n",
       " 18   2013                  4765.802030    19.89                   25   \n",
       " 19   2014                  6243.873304    20.20                   25   \n",
       " 20   2015                  7500.641887    20.75                   25   \n",
       " 21   2016                 15095.640010    21.20                   25   \n",
       " 22   2017                 10969.094660    22.90                   25   \n",
       " 23   2018                 10740.376010    23.20                   25   \n",
       " 24   2019                 13385.895330    23.51                   25   \n",
       " 25   2020                 14903.790000    23.82                   30   \n",
       " 26   2021                 16455.560000    24.13                   30   \n",
       " 27   2022                 15227.230000    24.44                   30   \n",
       " 28   2023                 15224.020000    24.75                   30   \n",
       " 29   2024                 16634.430000    25.06                   30   \n",
       " 30   2025                 18114.894270    25.06                   30   \n",
       " 31   2026                 19727.119860    25.06                   30   \n",
       " 32   2027                 21482.833530    25.06                   30   \n",
       " 33   2028                 23394.805710    25.06                   30   \n",
       " 34   2029                 25476.943420    25.06                   30   \n",
       " 35   2030                 27744.391380    25.06                   30   \n",
       " 36   2031                 30213.642220    25.06                   30   \n",
       " 37   2032                 32902.656370    25.06                   30   \n",
       " 38   2033                 35830.992790    25.06                   30   \n",
       " 39   2034                 39019.951150    25.06                   30   \n",
       " 40   2035                 42492.726800    25.06                   30   \n",
       " 41   2036                 46274.579490    25.06                   30   \n",
       " 42   2037                 50393.017060    25.06                   30   \n",
       " 43   2038                 54877.995580    25.06                   30   \n",
       " 44   2039                 59762.137190    25.06                   30   \n",
       " 45   2040                 65080.967400    25.06                   30   \n",
       " 46   2041                 70873.173500    25.06                   30   \n",
       " 47   2042                 77180.885940    25.06                   30   \n",
       " 48   2043                 84049.984790    25.06                   30   \n",
       " 49   2044                 91530.433430    25.06                   30   \n",
       " 50   2045                 99676.642010    25.06                   30   \n",
       " 51   2046                108547.863100    25.06                   30   \n",
       " 52   2047                118208.623000    25.06                   30   \n",
       " 53   2048                128729.190400    25.06                   30   \n",
       " 54   2049                140186.088400    25.06                   30   \n",
       " 55   2050                152662.650200    25.06                   30   \n",
       " \n",
       "     mod_reliability_t90  mod_degradation  mod_MFG_eff  mod_EOL_collection_eff  \\\n",
       " 0                    20             0.55           95                      15   \n",
       " 1                    20             0.55           95                      15   \n",
       " 2                    21             0.55           95                      15   \n",
       " 3                    21             0.55           95                      15   \n",
       " 4                    22             0.55           95                      15   \n",
       " 5                    22             0.60           95                      15   \n",
       " 6                    23             0.60           95                      15   \n",
       " 7                    23             0.60           95                      15   \n",
       " 8                    23             0.60           96                      15   \n",
       " 9                    24             0.60           96                      15   \n",
       " 10                   24             0.60           96                      15   \n",
       " 11                   25             0.60           96                      15   \n",
       " 12                   25             0.60           96                      15   \n",
       " 13                   26             0.60           96                      15   \n",
       " 14                   26             0.60           96                      15   \n",
       " 15                   27             0.30           97                      15   \n",
       " 16                   27             0.30           97                      15   \n",
       " 17                   27             0.30           97                      15   \n",
       " 18                   30             0.30           97                      15   \n",
       " 19                   30             0.30           97                      15   \n",
       " 20                   30             0.30           97                      15   \n",
       " 21                   30             0.30           97                      15   \n",
       " 22                   30             0.30           97                      15   \n",
       " 23                   30             0.30           97                      15   \n",
       " 24                   30             0.30           97                      15   \n",
       " 25                   35             0.50           97                      15   \n",
       " 26                   35             0.50           97                      15   \n",
       " 27                   35             0.50           97                      15   \n",
       " 28                   35             0.50           97                      15   \n",
       " 29                   35             0.50           97                      15   \n",
       " 30                   35             0.50           97                      15   \n",
       " 31                   35             0.50           97                      15   \n",
       " 32                   35             0.50           97                      15   \n",
       " 33                   35             0.50           97                      15   \n",
       " 34                   35             0.50           97                      15   \n",
       " 35                   35             0.50           97                      15   \n",
       " 36                   35             0.50           97                      15   \n",
       " 37                   35             0.50           98                      15   \n",
       " 38                   35             0.50           98                      15   \n",
       " 39                   35             0.50           98                      15   \n",
       " 40                   35             0.50           98                      15   \n",
       " 41                   35             0.50           98                      15   \n",
       " 42                   35             0.50           98                      15   \n",
       " 43                   35             0.50           98                      15   \n",
       " 44                   35             0.50           98                      15   \n",
       " 45                   35             0.50           98                      15   \n",
       " 46                   35             0.50           98                      15   \n",
       " 47                   35             0.50           98                      15   \n",
       " 48                   35             0.50           98                      15   \n",
       " 49                   35             0.50           98                      15   \n",
       " 50                   35             0.50           98                      15   \n",
       " 51                   35             0.50           98                      15   \n",
       " 52                   35             0.50           98                      15   \n",
       " 53                   35             0.50           98                      15   \n",
       " 54                   35             0.50           98                      15   \n",
       " 55                   35             0.50           98                      15   \n",
       " \n",
       "     mod_EOL_collected_recycled  mod_Repowering  mod_Repairing  \n",
       " 0                           40               0              0  \n",
       " 1                           40               0              0  \n",
       " 2                           40               0              0  \n",
       " 3                           40               0              0  \n",
       " 4                           40               0              0  \n",
       " 5                           40               0              0  \n",
       " 6                           40               0              0  \n",
       " 7                           40               0              0  \n",
       " 8                           40               0              0  \n",
       " 9                           40               0              0  \n",
       " 10                          40               0              0  \n",
       " 11                          40               0              0  \n",
       " 12                          40               0              0  \n",
       " 13                          40               0              0  \n",
       " 14                          40               0              0  \n",
       " 15                          40               0              0  \n",
       " 16                          40               0              0  \n",
       " 17                          40               0              0  \n",
       " 18                          40               0              0  \n",
       " 19                          40               0              0  \n",
       " 20                          40               0              0  \n",
       " 21                          40               0              0  \n",
       " 22                          40               0              0  \n",
       " 23                          40               0              0  \n",
       " 24                          40               0              0  \n",
       " 25                          40               0              0  \n",
       " 26                          40               0              0  \n",
       " 27                          40               0              0  \n",
       " 28                          40               0              0  \n",
       " 29                          40               0              0  \n",
       " 30                          40               0              0  \n",
       " 31                          40               0              0  \n",
       " 32                          40               0              0  \n",
       " 33                          40               0              0  \n",
       " 34                          40               0              0  \n",
       " 35                          40               0              0  \n",
       " 36                          40               0              0  \n",
       " 37                          40               0              0  \n",
       " 38                          40               0              0  \n",
       " 39                          40               0              0  \n",
       " 40                          40               0              0  \n",
       " 41                          40               0              0  \n",
       " 42                          40               0              0  \n",
       " 43                          40               0              0  \n",
       " 44                          40               0              0  \n",
       " 45                          40               0              0  \n",
       " 46                          40               0              0  \n",
       " 47                          40               0              0  \n",
       " 48                          40               0              0  \n",
       " 49                          40               0              0  \n",
       " 50                          40               0              0  \n",
       " 51                          40               0              0  \n",
       " 52                          40               0              0  \n",
       " 53                          40               0              0  \n",
       " 54                          40               0              0  \n",
       " 55                          40               0              0  }"
      ]
     },
     "execution_count": 10,
     "metadata": {},
     "output_type": "execute_result"
    }
   ],
   "source": [
    "real.__dict__"
   ]
  },
  {
   "cell_type": "markdown",
   "metadata": {},
   "source": [
    "### Step 4: Load the Baseline for the Material being Analyzed"
   ]
  },
  {
   "cell_type": "code",
   "execution_count": null,
   "metadata": {},
   "outputs": [],
   "source": []
  }
 ],
 "metadata": {
  "kernelspec": {
   "display_name": "Python 3",
   "language": "python",
   "name": "python3"
  },
  "language_info": {
   "codemirror_mode": {
    "name": "ipython",
    "version": 3
   },
   "file_extension": ".py",
   "mimetype": "text/x-python",
   "name": "python",
   "nbconvert_exporter": "python",
   "pygments_lexer": "ipython3",
   "version": "3.7.3"
  }
 },
 "nbformat": 4,
 "nbformat_minor": 2
}
