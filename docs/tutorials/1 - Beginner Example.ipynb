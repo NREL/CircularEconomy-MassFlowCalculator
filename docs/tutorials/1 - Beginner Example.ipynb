{
 "cells": [
  {
   "cell_type": "markdown",
   "metadata": {},
   "source": [
    "# 1 - Create Two Scenarios with Two Materials\n",
    "\n",
    "\n",
    "This journal shows how to load the baselines and run the dynamic mas flow analysis, plotting the results for two scenarios and two materials."
   ]
  },
  {
   "cell_type": "markdown",
   "metadata": {},
   "source": [
    "### Step 1: Set Working Folder and Import PV DEMISE"
   ]
  },
  {
   "cell_type": "code",
   "execution_count": 1,
   "metadata": {},
   "outputs": [
    {
     "name": "stdout",
     "output_type": "stream",
     "text": [
      "Your simulation will be stored in C:\\Users\\blond\\Documents\\GitHub\\CircularEconomy-MassFlowCalculator\\PV_DEMICE\\TEMP\n"
     ]
    }
   ],
   "source": [
    "import os\n",
    "from pathlib import Path\n",
    "\n",
    "testfolder = str(Path().resolve().parent.parent / 'PV_DEMICE' / 'TEMP')\n",
    "\n",
    "# Another option using relative address; for some operative systems you might need '/' instead of '\\'\n",
    "# testfolder = os.path.abspath(r'..\\..\\PV_DEMICE\\TEMP')  \n",
    "\n",
    "print (\"Your simulation will be stored in %s\" % testfolder)"
   ]
  },
  {
   "cell_type": "code",
   "execution_count": 2,
   "metadata": {},
   "outputs": [],
   "source": [
    "import PV_DEMICE"
   ]
  },
  {
   "cell_type": "markdown",
   "metadata": {},
   "source": [
    "### Step 2: Add Scenarios and Materials\n",
    "\n",
    "``silicon`` and ``glass`` materials are added to the two simulations, along with a scenario, in this case the ``baseline_modules_US``. The baseline files for decadence scenario will be modified.\n"
   ]
  },
  {
   "cell_type": "code",
   "execution_count": 3,
   "metadata": {},
   "outputs": [
    {
     "name": "stdout",
     "output_type": "stream",
     "text": [
      "path = C:\\Users\\blond\\Documents\\GitHub\\CircularEconomy-MassFlowCalculator\\PV_DEMICE\\TEMP\n"
     ]
    }
   ],
   "source": [
    "r1 = PV_DEMICE.Simulation(name='Simulation1', path=testfolder)\n",
    "r1.createScenario(name='standard', file=r'..\\baselines\\baseline_modules_US.csv')\n",
    "r1.scenario['standard'].addMaterial('glass', file=r'..\\baselines\\baseline_material_glass.csv')\n",
    "r1.scenario['standard'].addMaterial('silicon', file=r'..\\baselines\\baseline_material_silicon.csv' )\n",
    "\n",
    "r1.createScenario('decadence', file=r'..\\baselines\\baseline_modules_US.csv')\n",
    "r1.scenario['decadence'].addMaterial('glass', file=r'..\\baselines\\baseline_material_glass.csv')\n",
    "r1.scenario['decadence'].addMaterial('silicon', file=r'..\\baselines\\baseline_material_silicon.csv')"
   ]
  },
  {
   "cell_type": "markdown",
   "metadata": {},
   "source": [
    "### Step 3: Modify Parameters in the Scenarios\n",
    "\n",
    "We have some functions to create changes based on improvements, but for this example we'll just be modifying values for the full column and comparing effects.\n"
   ]
  },
  {
   "cell_type": "code",
   "execution_count": 4,
   "metadata": {},
   "outputs": [],
   "source": [
    "#these were previously used to modify the glass baseline to immitate silicon\n",
    "#but we now have a silicon baseline file to play with!\n",
    "#r1.scenario['standard'].material['silicon'].materialdata['mat_virgin_eff'] = 30.0\n",
    "#r1.scenario['standard'].material['silicon'].materialdata['mat_EOL_collected_Recycled'] = 40.0\n",
    "#r1.scenario['standard'].material['silicon'].materialdata['mat_massperm2'] = 4\n",
    "\n",
    "\n",
    "r1.scenario['decadence'].data['mod_lifetime'] = 35\n",
    "r1.scenario['decadence'].material['glass'].materialdata['mat_virgin_eff'] = 70.0\n",
    "\n",
    "r1.scenario['decadence'].material['silicon'].materialdata['mat_virgin_eff'] = 80.0\n",
    "r1.scenario['decadence'].material['silicon'].materialdata['mat_EOL_collected_Recycled'] = 100.0\n",
    "r1.scenario['decadence'].material['silicon'].materialdata['mat_massperm2'] = 22\n"
   ]
  },
  {
   "cell_type": "markdown",
   "metadata": {},
   "source": [
    "### Step 4: Run the Mass Flow Calculations on All Scenarios and Materials"
   ]
  },
  {
   "cell_type": "code",
   "execution_count": 5,
   "metadata": {},
   "outputs": [
    {
     "name": "stdout",
     "output_type": "stream",
     "text": [
      "Working on Scenario:  standard\n",
      "********************\n",
      "Finished Area+Power Generation Calculations\n",
      "==> Working on Material :  glass\n",
      "==> Working on Material :  silicon\n",
      "Working on Scenario:  decadence\n",
      "********************\n",
      "Finished Area+Power Generation Calculations\n",
      "==> Working on Material :  glass\n",
      "==> Working on Material :  silicon\n"
     ]
    }
   ],
   "source": [
    "r1.calculateMassFlow()\n"
   ]
  },
  {
   "cell_type": "markdown",
   "metadata": {},
   "source": [
    "### Step 5: Use internal plotting functions to plot results"
   ]
  },
  {
   "cell_type": "code",
   "execution_count": 13,
   "metadata": {},
   "outputs": [
    {
     "name": "stdout",
     "output_type": "stream",
     "text": [
      "dict_keys(['standard', 'decadence'])\n",
      "Index(['year', 'mat_virgin_eff', 'mat_massperm2', 'mat_MFG_eff',\n",
      "       'mat_MFG_scrap_Recycled', 'mat_MFG_scrap_Recycling_eff',\n",
      "       'mat_MFG_scrap_Recycled_into_HQ',\n",
      "       'mat_MFG_scrap_Recycled_into_HQ_Reused4MFG',\n",
      "       'mat_EOL_collected_Recycled', 'mat_EOL_Recycling_eff',\n",
      "       'mat_EOL_Recycled_into_HQ', 'mat_EOL_RecycledHQ_Reused4MFG',\n",
      "       'mat_modules_NotRecycled', 'mat_modules_NotCollected',\n",
      "       'mat_EOL_sento_Recycling', 'mat_EOL_NotRecycled_Landfilled',\n",
      "       'mat_EOL_Recycled', 'mat_EOL_Recycled_Losses_Landfilled',\n",
      "       'mat_EOL_Recycled_2_HQ', 'mat_EOL_Recycled_2_OQ',\n",
      "       'mat_EoL_Recycled_HQ_into_MFG', 'mat_EOL_Recycled_HQ_into_OU',\n",
      "       'mat_UsedinManufacturing', 'mat_Manufacturing_Input', 'mat_MFG_Scrap',\n",
      "       'mat_MFG_Scrap_Sentto_Recycling', 'mat_MFG_Scrap_Landfilled',\n",
      "       'mat_MFG_Scrap_Recycled_Successfully',\n",
      "       'mat_MFG_Scrap_Recycled_Losses_Landfilled', 'mat_MFG_Recycled_into_HQ',\n",
      "       'mat_MFG_Recycled_into_OQ', 'mat_MFG_Recycled_HQ_into_MFG',\n",
      "       'mat_MFG_Recycled_HQ_into_OU', 'mat_Virgin_Stock',\n",
      "       'mat_Total_EOL_Landfilled', 'mat_Total_MFG_Landfilled',\n",
      "       'mat_Total_Landfilled', 'mat_Total_Recycled_OU'],\n",
      "      dtype='object')\n"
     ]
    }
   ],
   "source": [
    "#pull out the keywords for choosing plots below\n",
    "#print(r1.scenario.keys())\n",
    "print(r1.scenario['standard'].material['glass'].materialdata.keys())"
   ]
  },
  {
   "cell_type": "code",
   "execution_count": 6,
   "metadata": {},
   "outputs": [
    {
     "data": {
      "image/png": "[encoded data removed]",
      "text/plain": [
       "<Figure size 432x288 with 1 Axes>"
      ]
     },
     "metadata": {
      "needs_background": "light"
     },
     "output_type": "display_data"
    }
   ],
   "source": [
    "r1.plotScenariosComparison(keyword='Cumulative_Area_disposedby_Failure')"
   ]
  },
  {
   "cell_type": "code",
   "execution_count": 15,
   "metadata": {},
   "outputs": [
    {
     "data": {
      "image/png": "[encoded data removed]",
      "text/plain": [
       "<Figure size 432x288 with 1 Axes>"
      ]
     },
     "metadata": {
      "needs_background": "light"
     },
     "output_type": "display_data"
    }
   ],
   "source": [
    "r1.plotMaterialComparisonAcrossScenarios(material='silicon', keyword='mat_Total_Landfilled')"
   ]
  },
  {
   "cell_type": "code",
   "execution_count": null,
   "metadata": {},
   "outputs": [],
   "source": []
  }
 ],
 "metadata": {
  "kernelspec": {
   "display_name": "Python 3",
   "language": "python",
   "name": "python3"
  },
  "language_info": {
   "codemirror_mode": {
    "name": "ipython",
    "version": 3
   },
   "file_extension": ".py",
   "mimetype": "text/x-python",
   "name": "python",
   "nbconvert_exporter": "python",
   "pygments_lexer": "ipython3",
   "version": "3.7.6"
  }
 },
 "nbformat": 4,
 "nbformat_minor": 2
}
