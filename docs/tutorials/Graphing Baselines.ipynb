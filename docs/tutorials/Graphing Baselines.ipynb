{
 "cells": [
  {
   "cell_type": "code",
   "execution_count": 1,
   "metadata": {},
   "outputs": [],
   "source": [
    "import numpy as np\n",
    "import pandas as pd\n",
    "import os,sys\n",
    "import matplotlib.pyplot as plt\n",
    "plt.rcParams.update({'font.size': 28})\n",
    "plt.rcParams['figure.figsize'] = (30, 15)"
   ]
  },
  {
   "cell_type": "markdown",
   "metadata": {},
   "source": [
    "This journals' purpose is to graph all baselines used as inputs the the PV_ICE Model."
   ]
  },
  {
   "cell_type": "code",
   "execution_count": 2,
   "metadata": {},
   "outputs": [],
   "source": [
    "cwd = os.getcwd() #grabs current working directory\n",
    "#shows list of baseline files available\n",
    "\n"
   ]
  },
  {
   "cell_type": "code",
   "execution_count": 13,
   "metadata": {},
   "outputs": [],
   "source": [
    "#read in all baseline files\n",
    "#Module files\n",
    "modules_US = pd.read_csv(cwd+\"/../../PV_ICE/baselines/baseline_modules_US.csv\", index_col='year', skiprows=[1])\n",
    "modules_World = pd.read_csv(cwd+\"/../../PV_ICE/baselines/baseline_modules_World.csv\", index_col='year', skiprows=[1])\n",
    "modules_World_Irena_2016 = pd.read_csv(cwd+\"/../../PV_ICE/baselines/baseline_modules_World_Irena_2016.csv\", index_col='year', skiprows=[1])\n",
    "modules_World_Irena_2019 = pd.read_csv(cwd+\"/../../PV_ICE/baselines/baseline_modules_World_Irena_2019.csv\", index_col='year', skiprows=[1])\n",
    "#material files\n",
    "material_glass = pd.read_csv(cwd+\"/../../PV_ICE/baselines/baseline_material_glass.csv\", index_col='year', skiprows=[1])\n",
    "material_glass_Reeds = pd.read_csv(cwd+\"/../../PV_ICE/baselines/baseline_material_glass_Reeds.csv\", index_col='year', skiprows=[1])\n",
    "material_silicon = pd.read_csv(cwd+\"/../../PV_ICE/baselines/baseline_material_silicon.csv\", index_col='year', skiprows=[1])\n",
    "material_silver = pd.read_csv(cwd+\"/../../PV_ICE/baselines/baseline_material_silver.csv\", index_col='year', skiprows=[1])"
   ]
  }
 ],
 "metadata": {
  "kernelspec": {
   "display_name": "Python 3",
   "language": "python",
   "name": "python3"
  },
  "language_info": {
   "codemirror_mode": {
    "name": "ipython",
    "version": 3
   },
   "file_extension": ".py",
   "mimetype": "text/x-python",
   "name": "python",
   "nbconvert_exporter": "python",
   "pygments_lexer": "ipython3",
   "version": "3.7.4"
  }
 },
 "nbformat": 4,
 "nbformat_minor": 4
}
