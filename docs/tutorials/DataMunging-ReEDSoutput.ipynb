{
 "cells": [
  {
   "cell_type": "markdown",
   "metadata": {},
   "source": [
    "# Data Munging ReEDS output data files for input installations"
   ]
  },
  {
   "cell_type": "markdown",
   "metadata": {},
   "source": [
    "To explore different scenarios for furture installation projections of PV (or any technology), ReEDS output data can be useful in providing standard scenarios. This input data will be used in the module files input to the PVDEMICE tool. Some will be used to explore middle, low and high projections, some for the Solar Futures Report. This journal extracts the data relevant for the current status of the PVDEMICE tool from ReEDS outputs."
   ]
  },
  {
   "cell_type": "code",
   "execution_count": 1,
   "metadata": {},
   "outputs": [],
   "source": [
    "import numpy as np\n",
    "import pandas as pd\n",
    "import os,sys\n",
    "import matplotlib.pyplot as plt\n",
    "plt.rcParams.update({'font.size': 22})\n",
    "plt.rcParams['figure.figsize'] = (12, 8)"
   ]
  },
  {
   "cell_type": "code",
   "execution_count": 24,
   "metadata": {},
   "outputs": [],
   "source": [
    "cwd = os.getcwd() #grabs current working directory\n",
    "rawdf = pd.read_excel(cwd+\"/../../PV_DEMICE/baselines/SupportingMaterial/2020-11-2-ReEDS Outputs Solar Futures ANL.xlsx\",\n",
    "                        sheet_name=\"Solar Capacity (GW)\",\n",
    "                        index_col=[0,1,2,3]) #this casts scenario, year, PCA and State as levels\n"
   ]
  },
  {
   "cell_type": "markdown",
   "metadata": {},
   "source": [
    "### First, split up the data by scenario"
   ]
  },
  {
   "cell_type": "code",
   "execution_count": 39,
   "metadata": {},
   "outputs": [
    {
     "name": "stdout",
     "output_type": "stream",
     "text": [
      "Index(['Adv Tech', 'Adv Tech+DR', 'Base', 'Breakthrough PV', 'CSP Sensitivity',\n",
      "       'Decarb Adv Tech', 'Decarb Adv Tech+DR', 'Decarb Base',\n",
      "       'Decarb Breakthrough PV', 'Elec-Decarb Adv Tech',\n",
      "       'Elec-Decarb Adv Tech+DR', 'Elec-Decarb Base',\n",
      "       'Elec-Decarb Breakthrough PV'],\n",
      "      dtype='object', name='scenario')\n"
     ]
    }
   ],
   "source": [
    "#get the scenario names\n",
    "scenario_names = rawdf.index.unique(level='scenario')\n",
    "print(scenario_names)"
   ]
  },
  {
   "cell_type": "code",
   "execution_count": 40,
   "metadata": {},
   "outputs": [
    {
     "name": "stdout",
     "output_type": "stream",
     "text": [
      "                         Capacity (GW)\n",
      "scenario year PCA State               \n",
      "Adv Tech 2050 p90 AL          1.631749\n",
      "              p91 FL          7.277843\n",
      "              p92 TN          9.273474\n",
      "              p93 KY          9.487082\n",
      "              p94 GA         18.865360\n",
      "              p95 SC         54.662885\n",
      "              p96 SC         22.148378\n",
      "              p97 NC         39.010281\n",
      "              p98 NC          7.560087\n",
      "              p99 VA         32.428854\n"
     ]
    }
   ],
   "source": [
    "adv_tech = rawdf.loc[(rawdf.index.get_level_values('scenario')==scenario_names[0])]\n",
    "#find a way to cycle through the full list of names with an appropriate variable name for each\n",
    "print(adv_tech.tail(10))"
   ]
  },
  {
   "cell_type": "code",
   "execution_count": null,
   "metadata": {},
   "outputs": [],
   "source": []
  }
 ],
 "metadata": {
  "kernelspec": {
   "display_name": "Python 3",
   "language": "python",
   "name": "python3"
  },
  "language_info": {
   "codemirror_mode": {
    "name": "ipython",
    "version": 3
   },
   "file_extension": ".py",
   "mimetype": "text/x-python",
   "name": "python",
   "nbconvert_exporter": "python",
   "pygments_lexer": "ipython3",
   "version": "3.7.6"
  }
 },
 "nbformat": 4,
 "nbformat_minor": 4
}
